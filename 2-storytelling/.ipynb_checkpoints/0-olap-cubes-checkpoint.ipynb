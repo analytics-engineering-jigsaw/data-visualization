{
 "cells": [
  {
   "cell_type": "markdown",
   "id": "8b4853e0-e48a-42bb-9ba9-ced06ea697da",
   "metadata": {},
   "source": [
    "# Olap cubes"
   ]
  },
  {
   "cell_type": "markdown",
   "id": "c728092b-1632-41b1-9870-95ed8041b382",
   "metadata": {},
   "source": [
    "* If these comparisons are so valuable, note that this is where our olap cubes come into play -- because we can go across dimensions simply by grouping by."
   ]
  },
  {
   "cell_type": "code",
   "execution_count": null,
   "id": "fe7aa8cb-6732-4c41-8eaf-a7df556068ba",
   "metadata": {},
   "outputs": [],
   "source": []
  }
 ],
 "metadata": {
  "kernelspec": {
   "display_name": "Python 3 (ipykernel)",
   "language": "python",
   "name": "python3"
  },
  "language_info": {
   "codemirror_mode": {
    "name": "ipython",
    "version": 3
   },
   "file_extension": ".py",
   "mimetype": "text/x-python",
   "name": "python",
   "nbconvert_exporter": "python",
   "pygments_lexer": "ipython3",
   "version": "3.9.12"
  }
 },
 "nbformat": 4,
 "nbformat_minor": 5
}
