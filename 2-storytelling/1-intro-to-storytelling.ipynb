{
 "cells": [
  {
   "cell_type": "markdown",
   "id": "8ca4143c-abe9-47f8-a2ed-be5b9a9f476a",
   "metadata": {},
   "source": [
    "# Data Storytelling"
   ]
  },
  {
   "cell_type": "markdown",
   "id": "eadec147-c17f-4b00-9221-153db178fc2a",
   "metadata": {},
   "source": [
    "### Why data storytelling"
   ]
  },
  {
   "cell_type": "markdown",
   "id": "333cb8b3-0d65-41a3-8c7b-5d17b6cc7521",
   "metadata": {},
   "source": [
    "Now the purpose of collecting, validating, and analyzing data is often for the stakeholders in a company to ultimately to use that data to make an informed decision.  Data storytelling is how you communicate the relevant information so that they can do so.  So this is the first purpose of data storytellings: communicate our findings to others.   But also through storytelling, we should gain a deeper understanding for ourselves, as analysts.\n",
    "\n",
    "> \"If you can't explain it to a six year old, then you don't understand it yourself\" \n",
    "> \n",
    "> Albert Einstein"
   ]
  },
  {
   "cell_type": "markdown",
   "id": "e3a4f4f1-3608-4237-932d-453d22a3b3a7",
   "metadata": {},
   "source": [
    "### Crafting the message"
   ]
  },
  {
   "cell_type": "markdown",
   "id": "95b35b24-0b71-47c5-aa1e-132d6abf7b25",
   "metadata": {},
   "source": [
    "When communicating with non-technical stakeholders -- we should focus on communicating our *findings*, as opposed to the process of collecting and validating data.  The hard work you did to gather that data is assumed, and should be implicit in a good presentation."
   ]
  },
  {
   "cell_type": "markdown",
   "id": "76a01ac1-8b91-41d5-b080-81ef5e4b7988",
   "metadata": {},
   "source": [
    "Each data visualization that we produce should communicate a specific message, and when a reader looks down at the accompanying chart, it should reinforce that message.  \n",
    "\n",
    "So how do we determine the message?  Let's start there.\n",
    "\n",
    "So let's imagine that we are given the following chart, with the following top line, and would like to rewrite it.\n",
    "\n",
    "> Percentage of revenue in January"
   ]
  },
  {
   "cell_type": "markdown",
   "id": "12008330-54d1-4b7b-8615-4c3bdadb21c0",
   "metadata": {},
   "source": [
    "| Region | Target | Whole Foods |\n",
    "|--------|--------|-------------|\n",
    "| NE     | 12%    | 39%         |\n",
    "| SE     | 36%    | 6%          |\n",
    "| NW     | 27%    | 27%         |\n",
    "| SW     | 25%    | 28%         |"
   ]
  },
  {
   "cell_type": "markdown",
   "id": "95d8e202-e5c7-4902-9cb4-16d0b4972280",
   "metadata": {},
   "source": [
    "### Critiquing the message"
   ]
  },
  {
   "cell_type": "markdown",
   "id": "2f951d86-a249-4ed4-98d7-a329015366b5",
   "metadata": {},
   "source": [
    "Before the rewriting, let's make sure we understand why we need to improve the above.  Yes, \"Percentage of Revenue in Jan\" describes the data, but it doesn't tell us what to take from the data.  In other words, it doesn't pass the \"So what?\" test. Or in other words, it doesn't tell us what we are supposed to takeaway, or *conclude* from the above data.\n",
    "\n",
    "This is better: `Revenue for Whole Foods principally comes from the NE, NW, and SW regions`."
   ]
  },
  {
   "cell_type": "markdown",
   "id": "f2e9a5c8-8b5a-460e-9418-84f5346353bf",
   "metadata": {},
   "source": [
    "Notice, that with the above, we are emphasizing a conclusion that's supported by our data.  And with that conclusion, we can can then modify our visualization to emphasize this conclusion (for example, by removing the Target data, and leaving that for another section, if needed).  \n",
    "\n",
    "Finally, in thinking of a takeaway message, oftentimes these takeways are *comparisons* -- and even better if they are surprising.  So with the above, we are comparing the SE region to the other regions.  Is this surprising?  We'd have to know more about -- perhaps about past sales history per region to be sure."
   ]
  },
  {
   "cell_type": "markdown",
   "id": "e73c0c51-7f5c-4685-b496-ba2553617cba",
   "metadata": {},
   "source": [
    "### Recap"
   ]
  },
  {
   "cell_type": "markdown",
   "id": "da38f65b-cd72-4db5-b355-30065c419583",
   "metadata": {},
   "source": [
    "Ok, so now we have some good tips for crafting a message.  The message should be:\n",
    "\n",
    "1. A conclusion or takeaway\n",
    "2. Supported by the evidence\n",
    "3. Oftentimes a comparison, or something surprising\n",
    "4. Passes the \"So what?\" test.\n",
    "\n",
    "Just to emphasize the last point of the so what test -- this may support a broader argument.  For example, with our, \"Revenue for Whole Foods principally comes from the NE, NW, and SW regions\", this sounds like one point in a broader argument -- either we should optimize these sales, or potentially leave the region.  But notice it's a point about the business in a way that our original message of, \"Percentage of revenue in January\" was not."
   ]
  },
  {
   "cell_type": "markdown",
   "id": "c2302ea9-964b-4285-8948-7db851c1103e",
   "metadata": {},
   "source": [
    "### Your turn"
   ]
  },
  {
   "cell_type": "markdown",
   "id": "66843925-dc77-43f8-b795-319c2dbb44da",
   "metadata": {},
   "source": [
    "| Region | Target | Whole Foods |\n",
    "|--------|--------|-------------|\n",
    "| NE     | 12%    | 39%         |\n",
    "| SE     | 36%    | 6%          |\n",
    "| NW     | 27%    | 27%         |\n",
    "| SW     | 25%    | 28%         |"
   ]
  },
  {
   "cell_type": "markdown",
   "id": "ec20d1c2-c818-478a-82cf-94887e9ade65",
   "metadata": {},
   "source": [
    "So now it's your turn.  Generate at least five different messages, with from the above data using our principles:"
   ]
  },
  {
   "cell_type": "markdown",
   "id": "bb953a1c-826e-442e-829d-4eed467e59a7",
   "metadata": {},
   "source": [
    "1. A conclusion or takeaway\n",
    "2. Supported by the evidence\n",
    "3. Oftentimes a comparison, or something surprising\n",
    "4. Passes the \"So what?\" test."
   ]
  },
  {
   "cell_type": "markdown",
   "id": "22f59b95-5a71-436c-8a1c-9db8f05f029d",
   "metadata": {},
   "source": [
    "### References\n",
    "\n",
    "* Say it with Charts"
   ]
  }
 ],
 "metadata": {
  "kernelspec": {
   "display_name": "Python 3 (ipykernel)",
   "language": "python",
   "name": "python3"
  },
  "language_info": {
   "codemirror_mode": {
    "name": "ipython",
    "version": 3
   },
   "file_extension": ".py",
   "mimetype": "text/x-python",
   "name": "python",
   "nbconvert_exporter": "python",
   "pygments_lexer": "ipython3",
   "version": "3.9.12"
  }
 },
 "nbformat": 4,
 "nbformat_minor": 5
}
