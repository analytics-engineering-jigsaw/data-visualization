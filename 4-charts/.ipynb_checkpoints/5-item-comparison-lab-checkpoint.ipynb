{
 "cells": [
  {
   "cell_type": "markdown",
   "id": "39225359-e3f2-4bef-9b6f-4f961cbe1a11",
   "metadata": {},
   "source": [
    "# Item Comparison Lab"
   ]
  },
  {
   "cell_type": "markdown",
   "id": "0ca65ac2-a756-4d7b-afee-22aba3380152",
   "metadata": {},
   "source": [
    "### Introduction"
   ]
  },
  {
   "cell_type": "markdown",
   "id": "c7842ab9-8527-4b28-9e8c-c2c0e30c7235",
   "metadata": {},
   "source": [
    "### Comparison"
   ]
  },
  {
   "cell_type": "code",
   "execution_count": null,
   "id": "f6608958-f074-46a1-a7e1-455701840e33",
   "metadata": {},
   "outputs": [],
   "source": []
  }
 ],
 "metadata": {
  "kernelspec": {
   "display_name": "Python 3 (ipykernel)",
   "language": "python",
   "name": "python3"
  },
  "language_info": {
   "codemirror_mode": {
    "name": "ipython",
    "version": 3
   },
   "file_extension": ".py",
   "mimetype": "text/x-python",
   "name": "python",
   "nbconvert_exporter": "python",
   "pygments_lexer": "ipython3",
   "version": "3.9.12"
  }
 },
 "nbformat": 4,
 "nbformat_minor": 5
}
