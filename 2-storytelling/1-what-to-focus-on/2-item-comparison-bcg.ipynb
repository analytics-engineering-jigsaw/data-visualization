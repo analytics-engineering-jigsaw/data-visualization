{
 "cells": [
  {
   "cell_type": "markdown",
   "id": "bd84b8e6-ce42-4041-ba6c-8978bd89393e",
   "metadata": {},
   "source": [
    "# Where to Focus - Item Comparisons"
   ]
  },
  {
   "cell_type": "markdown",
   "id": "db99c940-1860-4bc0-b3f9-821928eb1f29",
   "metadata": {},
   "source": [
    "### Introduction"
   ]
  },
  {
   "cell_type": "markdown",
   "id": "3f6c2a2a-fcf0-400f-a804-f72b4f1899d4",
   "metadata": {},
   "source": [
    "### 1. Item Comparisons"
   ]
  },
  {
   "cell_type": "markdown",
   "id": "970b5769-a95c-402c-90bd-573f06db70be",
   "metadata": {
    "tags": []
   },
   "source": [
    "Item comparison occurs when we are comparing numbers or percentages between categories.  Sometimes these numbers are percentages:\n",
    "\n",
    "* \"Chocolate ice cream accounted for 25 percent of sales.\"\n",
    "\n",
    "And sometimes these are the baseline numbers\n",
    "\n",
    "* \"Chocolate ice cream accounted for $25 mil in sales.\"\n",
    "\n",
    "> Item comparisons almost always involve grouping.  So be careful to choose the correct units when performing that grouping.  So if we chose regional sales -- remember that this may not mean one region is performing better than another -- that region may just have more stores."
   ]
  },
  {
   "cell_type": "markdown",
   "id": "e5da677c-83cf-4e20-8d3d-1e0d6f0d433d",
   "metadata": {},
   "source": [
    "### Metrics to Compare on"
   ]
  },
  {
   "cell_type": "markdown",
   "id": "c69ebd2c-f376-49ee-92d5-c64e856f9aa5",
   "metadata": {},
   "source": [
    "Now, once the data is clean, to perform the item comparison, we can use a group by (whether in pandas or SQL)."
   ]
  },
  {
   "cell_type": "code",
   "execution_count": 2,
   "id": "d7a6f77a-f77f-465a-8c85-e24413511193",
   "metadata": {},
   "outputs": [
    {
     "data": {
      "text/html": [
       "<div>\n",
       "<style scoped>\n",
       "    .dataframe tbody tr th:only-of-type {\n",
       "        vertical-align: middle;\n",
       "    }\n",
       "\n",
       "    .dataframe tbody tr th {\n",
       "        vertical-align: top;\n",
       "    }\n",
       "\n",
       "    .dataframe thead th {\n",
       "        text-align: right;\n",
       "    }\n",
       "</style>\n",
       "<table border=\"1\" class=\"dataframe\">\n",
       "  <thead>\n",
       "    <tr style=\"text-align: right;\">\n",
       "      <th></th>\n",
       "      <th>Order ID</th>\n",
       "      <th>Product</th>\n",
       "      <th>Quantity Ordered</th>\n",
       "      <th>Price Each</th>\n",
       "      <th>Order Date</th>\n",
       "      <th>Purchase Address</th>\n",
       "      <th>Month</th>\n",
       "      <th>Sales</th>\n",
       "      <th>City</th>\n",
       "      <th>Hour</th>\n",
       "    </tr>\n",
       "  </thead>\n",
       "  <tbody>\n",
       "    <tr>\n",
       "      <th>0</th>\n",
       "      <td>295665</td>\n",
       "      <td>Macbook Pro Laptop</td>\n",
       "      <td>1</td>\n",
       "      <td>1700.0</td>\n",
       "      <td>2019-12-30 00:01:00</td>\n",
       "      <td>136 Church St, New York City, NY 10001</td>\n",
       "      <td>12</td>\n",
       "      <td>1700.0</td>\n",
       "      <td>New York City</td>\n",
       "      <td>0</td>\n",
       "    </tr>\n",
       "    <tr>\n",
       "      <th>1</th>\n",
       "      <td>295666</td>\n",
       "      <td>LG Washing Machine</td>\n",
       "      <td>1</td>\n",
       "      <td>600.0</td>\n",
       "      <td>2019-12-29 07:03:00</td>\n",
       "      <td>562 2nd St, New York City, NY 10001</td>\n",
       "      <td>12</td>\n",
       "      <td>600.0</td>\n",
       "      <td>New York City</td>\n",
       "      <td>7</td>\n",
       "    </tr>\n",
       "  </tbody>\n",
       "</table>\n",
       "</div>"
      ],
      "text/plain": [
       "   Order ID             Product  Quantity Ordered  Price Each  \\\n",
       "0    295665  Macbook Pro Laptop                 1      1700.0   \n",
       "1    295666  LG Washing Machine                 1       600.0   \n",
       "\n",
       "            Order Date                        Purchase Address  Month   Sales  \\\n",
       "0  2019-12-30 00:01:00  136 Church St, New York City, NY 10001     12  1700.0   \n",
       "1  2019-12-29 07:03:00     562 2nd St, New York City, NY 10001     12   600.0   \n",
       "\n",
       "             City  Hour  \n",
       "0   New York City     0  \n",
       "1   New York City     7  "
      ]
     },
     "execution_count": 2,
     "metadata": {},
     "output_type": "execute_result"
    }
   ],
   "source": [
    "import pandas as pd\n",
    "df = pd.read_csv('./sales_data.csv', index_col = 0)\n",
    "df[:2]"
   ]
  },
  {
   "cell_type": "markdown",
   "id": "ebf4f8ec-84b4-4745-85f0-d377722273c8",
   "metadata": {},
   "source": [
    "For example, we can check our total product sales by price with something like the following."
   ]
  },
  {
   "cell_type": "code",
   "execution_count": 9,
   "id": "1bea2201-5d1a-4a44-8c34-d0450afa566d",
   "metadata": {},
   "outputs": [
    {
     "data": {
      "text/html": [
       "<div>\n",
       "<style scoped>\n",
       "    .dataframe tbody tr th:only-of-type {\n",
       "        vertical-align: middle;\n",
       "    }\n",
       "\n",
       "    .dataframe tbody tr th {\n",
       "        vertical-align: top;\n",
       "    }\n",
       "\n",
       "    .dataframe thead th {\n",
       "        text-align: right;\n",
       "    }\n",
       "</style>\n",
       "<table border=\"1\" class=\"dataframe\">\n",
       "  <thead>\n",
       "    <tr style=\"text-align: right;\">\n",
       "      <th></th>\n",
       "      <th>sum</th>\n",
       "    </tr>\n",
       "    <tr>\n",
       "      <th>Product</th>\n",
       "      <th></th>\n",
       "    </tr>\n",
       "  </thead>\n",
       "  <tbody>\n",
       "    <tr>\n",
       "      <th>Macbook Pro Laptop</th>\n",
       "      <td>8030800.00</td>\n",
       "    </tr>\n",
       "    <tr>\n",
       "      <th>iPhone</th>\n",
       "      <td>4789400.00</td>\n",
       "    </tr>\n",
       "    <tr>\n",
       "      <th>ThinkPad Laptop</th>\n",
       "      <td>4127958.72</td>\n",
       "    </tr>\n",
       "  </tbody>\n",
       "</table>\n",
       "</div>"
      ],
      "text/plain": [
       "                           sum\n",
       "Product                       \n",
       "Macbook Pro Laptop  8030800.00\n",
       "iPhone              4789400.00\n",
       "ThinkPad Laptop     4127958.72"
      ]
     },
     "execution_count": 9,
     "metadata": {},
     "output_type": "execute_result"
    }
   ],
   "source": [
    "top_products = df.groupby(['Product'])['Price Each'].agg(['sum']).sort_values('sum', ascending = False)\n",
    "top_products[:3]"
   ]
  },
  {
   "cell_type": "markdown",
   "id": "8479b602-07c0-4f90-8cda-270e7484b01d",
   "metadata": {},
   "source": [
    "And we can even turn this into a function."
   ]
  },
  {
   "cell_type": "code",
   "execution_count": 15,
   "id": "b8e5ca41-cd0f-4620-b182-b2da303edf42",
   "metadata": {},
   "outputs": [],
   "source": [
    "def build_grouped_by(df, col, target, agg = 'sum', agg_name = None):\n",
    "    grouped_data = df.groupby([col])[target].agg([agg]).sort_values(agg, ascending = False)\n",
    "    if agg_name:\n",
    "        return grouped_data.rename({agg: agg_name})\n",
    "    else:\n",
    "        grouped_data"
   ]
  },
  {
   "cell_type": "markdown",
   "id": "1f8240da-58d8-4ce5-a922-4c4a602e6ac1",
   "metadata": {},
   "source": [
    "So then if we want to break down our data across different dimensions we can."
   ]
  },
  {
   "cell_type": "code",
   "execution_count": 13,
   "id": "019aa54d-4cd1-419d-ab46-3f966c8ee9ee",
   "metadata": {},
   "outputs": [],
   "source": [
    "cols = ['City', 'Hour']\n",
    "target = 'Price Each'\n",
    "totals_by_col = [build_grouped_by(df, 'City', target, agg = 'sum') for col in cols]\n",
    "\n",
    "totals = dict(zip(cols, totals_by_col))"
   ]
  },
  {
   "cell_type": "code",
   "execution_count": null,
   "id": "9684a13a-080a-4ff7-a7a4-d4651facf0ce",
   "metadata": {},
   "outputs": [],
   "source": [
    "And now we can see the total "
   ]
  },
  {
   "cell_type": "code",
   "execution_count": 14,
   "id": "16e99f7e-20c6-417a-831f-905e77cf9c46",
   "metadata": {},
   "outputs": [
    {
     "data": {
      "text/html": [
       "<div>\n",
       "<style scoped>\n",
       "    .dataframe tbody tr th:only-of-type {\n",
       "        vertical-align: middle;\n",
       "    }\n",
       "\n",
       "    .dataframe tbody tr th {\n",
       "        vertical-align: top;\n",
       "    }\n",
       "\n",
       "    .dataframe thead th {\n",
       "        text-align: right;\n",
       "    }\n",
       "</style>\n",
       "<table border=\"1\" class=\"dataframe\">\n",
       "  <thead>\n",
       "    <tr style=\"text-align: right;\">\n",
       "      <th></th>\n",
       "      <th>sum</th>\n",
       "    </tr>\n",
       "    <tr>\n",
       "      <th>City</th>\n",
       "      <th></th>\n",
       "    </tr>\n",
       "  </thead>\n",
       "  <tbody>\n",
       "    <tr>\n",
       "      <th>San Francisco</th>\n",
       "      <td>8211461.74</td>\n",
       "    </tr>\n",
       "    <tr>\n",
       "      <th>Los Angeles</th>\n",
       "      <td>5421435.23</td>\n",
       "    </tr>\n",
       "    <tr>\n",
       "      <th>New York City</th>\n",
       "      <td>4635370.83</td>\n",
       "    </tr>\n",
       "    <tr>\n",
       "      <th>Boston</th>\n",
       "      <td>3637409.77</td>\n",
       "    </tr>\n",
       "    <tr>\n",
       "      <th>Atlanta</th>\n",
       "      <td>2779908.20</td>\n",
       "    </tr>\n",
       "    <tr>\n",
       "      <th>Dallas</th>\n",
       "      <td>2752627.82</td>\n",
       "    </tr>\n",
       "    <tr>\n",
       "      <th>Seattle</th>\n",
       "      <td>2733296.01</td>\n",
       "    </tr>\n",
       "    <tr>\n",
       "      <th>Portland</th>\n",
       "      <td>2307747.47</td>\n",
       "    </tr>\n",
       "    <tr>\n",
       "      <th>Austin</th>\n",
       "      <td>1809873.61</td>\n",
       "    </tr>\n",
       "  </tbody>\n",
       "</table>\n",
       "</div>"
      ],
      "text/plain": [
       "                       sum\n",
       "City                      \n",
       " San Francisco  8211461.74\n",
       " Los Angeles    5421435.23\n",
       " New York City  4635370.83\n",
       " Boston         3637409.77\n",
       " Atlanta        2779908.20\n",
       " Dallas         2752627.82\n",
       " Seattle        2733296.01\n",
       " Portland       2307747.47\n",
       " Austin         1809873.61"
      ]
     },
     "execution_count": 14,
     "metadata": {},
     "output_type": "execute_result"
    }
   ],
   "source": [
    "totals['City']"
   ]
  },
  {
   "cell_type": "code",
   "execution_count": null,
   "id": "a542c416-fdcc-47d4-a1cf-be516479e88a",
   "metadata": {},
   "outputs": [],
   "source": [
    "def build_grouped_by(table_name, col, target, engine, order_by_col = False):\n",
    "    if order_by_col:\n",
    "        query = f\"\"\"select {col}, sum({target}) total_amount from {table_name} group by {col} order by {col} asc\"\"\"\n",
    "    else:\n",
    "        query = f\"\"\"select {col}, sum({target}) total_amount from {table_name} group by {col} order by total_amount desc\"\"\"\n",
    "    grouped = pd.read_sql(query, engine)\n",
    "    return grouped"
   ]
  },
  {
   "cell_type": "markdown",
   "id": "129dc6b7-1f73-4fbb-89e0-2927c4d51ff4",
   "metadata": {},
   "source": [
    "Now actually calculating item comparisons, is normally involves an aggregation."
   ]
  },
  {
   "cell_type": "code",
   "execution_count": null,
   "id": "5a1dbb4a-ccff-4b99-98e0-0f918e50d978",
   "metadata": {},
   "outputs": [],
   "source": [
    "def build_grouped_by(table_name, col, target, engine, order_by_col = False):\n",
    "    if order_by_col:\n",
    "        query = f\"\"\"select {col}, sum({target}) total_amount from {table_name} group by {col} order by {col} asc\"\"\"\n",
    "    else:\n",
    "        query = f\"\"\"select {col}, sum({target}) total_amount from {table_name} group by {col} order by total_amount desc\"\"\"\n",
    "    grouped = pd.read_sql(query, engine)\n",
    "    return grouped"
   ]
  },
  {
   "cell_type": "markdown",
   "id": "98923ca3-5ca9-48a2-b0e3-26adebb00834",
   "metadata": {},
   "source": [
    "### Resources\n",
    "\n",
    "[Unit Economics](https://www.paddle.com/resources/unit-economics)\n",
    "\n",
    "[Sales Product Data](https://www.kaggle.com/datasets/knightbearr/sales-product-data)"
   ]
  },
  {
   "cell_type": "code",
   "execution_count": null,
   "id": "8d4fe4ae-04b2-4a3e-9737-7fd5cfcf4ced",
   "metadata": {},
   "outputs": [],
   "source": []
  }
 ],
 "metadata": {
  "kernelspec": {
   "display_name": "Python 3 (ipykernel)",
   "language": "python",
   "name": "python3"
  },
  "language_info": {
   "codemirror_mode": {
    "name": "ipython",
    "version": 3
   },
   "file_extension": ".py",
   "mimetype": "text/x-python",
   "name": "python",
   "nbconvert_exporter": "python",
   "pygments_lexer": "ipython3",
   "version": "3.9.12"
  }
 },
 "nbformat": 4,
 "nbformat_minor": 5
}
