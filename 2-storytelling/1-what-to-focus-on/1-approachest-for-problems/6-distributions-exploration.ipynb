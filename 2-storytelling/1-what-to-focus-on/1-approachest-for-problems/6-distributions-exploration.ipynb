{
 "cells": [
  {
   "cell_type": "markdown",
   "id": "963db883-f4b9-4d55-9b36-7998bc2cdbfe",
   "metadata": {},
   "source": [
    "# Distributions"
   ]
  },
  {
   "cell_type": "markdown",
   "id": "6a1ed18c-f137-476e-8ca0-eaa3e11c6b57",
   "metadata": {},
   "source": [
    "### Introduction"
   ]
  },
  {
   "cell_type": "markdown",
   "id": "9a24d714-04e7-4da5-8e08-4e466e94582f",
   "metadata": {},
   "source": [
    "So in the last few lessons, we saw how to apply the 80 - 20 rule across categorical data.  We saw that oftentimes, our key metric is not spread evenly across categories.  And that this is a good thing -- it allows us to direct our focus.  \n",
    "\n",
    "In this lesson, we'll see how we can use the 80 - 20 principle when working with even more granular data, like individual customers."
   ]
  },
  {
   "cell_type": "code",
   "execution_count": 11,
   "id": "f31ebbb4-1480-43af-a984-2eedd60d0eab",
   "metadata": {},
   "outputs": [],
   "source": [
    "import warnings\n",
    "warnings.simplefilter(action='ignore')\n",
    "import pandas as pd\n",
    "url = \"https://raw.githubusercontent.com/tech-interviews-jigsaw/data-analysis-takehomes/main/1-approaches-for-problems/ecommerce-dataset.csv\"\n",
    "df = pd.read_csv(url)"
   ]
  },
  {
   "cell_type": "code",
   "execution_count": 12,
   "id": "a520c4a3-554c-4fe0-a6a1-396ea2684bb6",
   "metadata": {},
   "outputs": [
    {
     "data": {
      "text/html": [
       "<div>\n",
       "<style scoped>\n",
       "    .dataframe tbody tr th:only-of-type {\n",
       "        vertical-align: middle;\n",
       "    }\n",
       "\n",
       "    .dataframe tbody tr th {\n",
       "        vertical-align: top;\n",
       "    }\n",
       "\n",
       "    .dataframe thead th {\n",
       "        text-align: right;\n",
       "    }\n",
       "</style>\n",
       "<table border=\"1\" class=\"dataframe\">\n",
       "  <thead>\n",
       "    <tr style=\"text-align: right;\">\n",
       "      <th></th>\n",
       "      <th>Transaction_id</th>\n",
       "      <th>customer_id</th>\n",
       "      <th>Date</th>\n",
       "      <th>Product</th>\n",
       "      <th>Gender</th>\n",
       "      <th>Device_Type</th>\n",
       "      <th>Country</th>\n",
       "      <th>State</th>\n",
       "      <th>City</th>\n",
       "      <th>Category</th>\n",
       "      <th>Customer_Login_type</th>\n",
       "      <th>Delivery_Type</th>\n",
       "      <th>Quantity</th>\n",
       "      <th>Transaction Start</th>\n",
       "      <th>Transaction_Result</th>\n",
       "      <th>Amount US$</th>\n",
       "      <th>Individual_Price_US$</th>\n",
       "      <th>Year_Month</th>\n",
       "      <th>Time</th>\n",
       "    </tr>\n",
       "  </thead>\n",
       "  <tbody>\n",
       "    <tr>\n",
       "      <th>0</th>\n",
       "      <td>40170</td>\n",
       "      <td>1348959766</td>\n",
       "      <td>14/11/2013</td>\n",
       "      <td>Hair Band</td>\n",
       "      <td>Female</td>\n",
       "      <td>Web</td>\n",
       "      <td>United States</td>\n",
       "      <td>New York</td>\n",
       "      <td>New York City</td>\n",
       "      <td>Accessories</td>\n",
       "      <td>Member</td>\n",
       "      <td>one-day deliver</td>\n",
       "      <td>12</td>\n",
       "      <td>1</td>\n",
       "      <td>0</td>\n",
       "      <td>6,910</td>\n",
       "      <td>576</td>\n",
       "      <td>13-Nov</td>\n",
       "      <td>22:35:51</td>\n",
       "    </tr>\n",
       "    <tr>\n",
       "      <th>1</th>\n",
       "      <td>33374</td>\n",
       "      <td>2213674919</td>\n",
       "      <td>05/11/2013</td>\n",
       "      <td>Hair Band</td>\n",
       "      <td>Female</td>\n",
       "      <td>Web</td>\n",
       "      <td>United States</td>\n",
       "      <td>California</td>\n",
       "      <td>Los Angles</td>\n",
       "      <td>Accessories</td>\n",
       "      <td>Member</td>\n",
       "      <td>one-day deliver</td>\n",
       "      <td>17</td>\n",
       "      <td>1</td>\n",
       "      <td>1</td>\n",
       "      <td>1,699</td>\n",
       "      <td>100</td>\n",
       "      <td>13-Nov</td>\n",
       "      <td>06:44:41</td>\n",
       "    </tr>\n",
       "    <tr>\n",
       "      <th>2</th>\n",
       "      <td>14407</td>\n",
       "      <td>1809450308</td>\n",
       "      <td>01/10/2013</td>\n",
       "      <td>Hair Band</td>\n",
       "      <td>Female</td>\n",
       "      <td>Web</td>\n",
       "      <td>United States</td>\n",
       "      <td>Washington</td>\n",
       "      <td>Seattle</td>\n",
       "      <td>Accessories</td>\n",
       "      <td>Member</td>\n",
       "      <td>Normal Delivery</td>\n",
       "      <td>23</td>\n",
       "      <td>1</td>\n",
       "      <td>0</td>\n",
       "      <td>4,998</td>\n",
       "      <td>217</td>\n",
       "      <td>13-Oct</td>\n",
       "      <td>00:41:24</td>\n",
       "    </tr>\n",
       "  </tbody>\n",
       "</table>\n",
       "</div>"
      ],
      "text/plain": [
       "   Transaction_id  customer_id        Date    Product  Gender Device_Type  \\\n",
       "0           40170   1348959766  14/11/2013  Hair Band  Female         Web   \n",
       "1           33374   2213674919  05/11/2013  Hair Band  Female         Web   \n",
       "2           14407   1809450308  01/10/2013  Hair Band  Female         Web   \n",
       "\n",
       "         Country       State           City     Category Customer_Login_type  \\\n",
       "0  United States    New York  New York City  Accessories              Member   \n",
       "1  United States  California     Los Angles  Accessories              Member   \n",
       "2  United States  Washington        Seattle  Accessories              Member   \n",
       "\n",
       "     Delivery_Type   Quantity   Transaction Start  Transaction_Result  \\\n",
       "0  one-day deliver          12                  1                   0   \n",
       "1  one-day deliver          17                  1                   1   \n",
       "2  Normal Delivery          23                  1                   0   \n",
       "\n",
       "  Amount US$ Individual_Price_US$ Year_Month      Time  \n",
       "0      6,910                  576     13-Nov  22:35:51  \n",
       "1      1,699                  100     13-Nov  06:44:41  \n",
       "2      4,998                  217     13-Oct  00:41:24  "
      ]
     },
     "execution_count": 12,
     "metadata": {},
     "output_type": "execute_result"
    }
   ],
   "source": [
    "df[:3]"
   ]
  },
  {
   "cell_type": "markdown",
   "id": "0d4f6e7e-772d-47d8-9647-ef3b12bc5add",
   "metadata": {},
   "source": [
    "[Power Users lesson](https://colab.research.google.com/github/tech-interviews-jigsaw/data-analysis-takehomes/blob/main/1-approaches-for-problems/7-power-users.ipynb#scrollTo=tQRM8Z24TDFI)"
   ]
  },
  {
   "cell_type": "markdown",
   "id": "cc9c04d8-2ed2-43bd-9519-c7a6bdde2811",
   "metadata": {},
   "source": [
    "[Analyzing Power Users](https://colab.research.google.com/github/tech-interviews-jigsaw/data-analysis-takehomes/blob/main/1-approaches-for-problems/8-analyzing-power-users.ipynb#scrollTo=2e41cf41-7e36-4a97-ae58-427d4a436560)"
   ]
  },
  {
   "cell_type": "markdown",
   "id": "480f0c35-3e17-462c-9efe-b6ce74dde4cd",
   "metadata": {},
   "source": [
    "### Superstore dataset"
   ]
  },
  {
   "cell_type": "markdown",
   "id": "df77cd28-3e0a-46cf-afbc-77f043160c05",
   "metadata": {},
   "source": [
    "[Superstore Marketing Campaign](https://www.kaggle.com/datasets/ahsan81/superstore-marketing-campaign-dataset)"
   ]
  },
  {
   "cell_type": "code",
   "execution_count": null,
   "id": "52a3a2b5-80f3-459a-bbb9-4da6e80b2091",
   "metadata": {},
   "outputs": [],
   "source": [
    "### "
   ]
  },
  {
   "cell_type": "code",
   "execution_count": 10,
   "id": "ee85f308-24aa-4cb0-a0c0-3495001b20d2",
   "metadata": {},
   "outputs": [
    {
     "data": {
      "text/html": [
       "<div>\n",
       "<style scoped>\n",
       "    .dataframe tbody tr th:only-of-type {\n",
       "        vertical-align: middle;\n",
       "    }\n",
       "\n",
       "    .dataframe tbody tr th {\n",
       "        vertical-align: top;\n",
       "    }\n",
       "\n",
       "    .dataframe thead th {\n",
       "        text-align: right;\n",
       "    }\n",
       "</style>\n",
       "<table border=\"1\" class=\"dataframe\">\n",
       "  <thead>\n",
       "    <tr style=\"text-align: right;\">\n",
       "      <th></th>\n",
       "      <th>Id</th>\n",
       "      <th>Year_Birth</th>\n",
       "      <th>Education</th>\n",
       "      <th>Marital_Status</th>\n",
       "      <th>Income</th>\n",
       "      <th>Kidhome</th>\n",
       "      <th>Teenhome</th>\n",
       "      <th>Dt_Customer</th>\n",
       "      <th>Recency</th>\n",
       "      <th>MntWines</th>\n",
       "      <th>...</th>\n",
       "      <th>MntFishProducts</th>\n",
       "      <th>MntSweetProducts</th>\n",
       "      <th>MntGoldProds</th>\n",
       "      <th>NumDealsPurchases</th>\n",
       "      <th>NumWebPurchases</th>\n",
       "      <th>NumCatalogPurchases</th>\n",
       "      <th>NumStorePurchases</th>\n",
       "      <th>NumWebVisitsMonth</th>\n",
       "      <th>Response</th>\n",
       "      <th>Complain</th>\n",
       "    </tr>\n",
       "  </thead>\n",
       "  <tbody>\n",
       "    <tr>\n",
       "      <th>0</th>\n",
       "      <td>1826</td>\n",
       "      <td>1970</td>\n",
       "      <td>Graduation</td>\n",
       "      <td>Divorced</td>\n",
       "      <td>84835.0</td>\n",
       "      <td>0</td>\n",
       "      <td>0</td>\n",
       "      <td>6/16/2014</td>\n",
       "      <td>0</td>\n",
       "      <td>189</td>\n",
       "      <td>...</td>\n",
       "      <td>111</td>\n",
       "      <td>189</td>\n",
       "      <td>218</td>\n",
       "      <td>1</td>\n",
       "      <td>4</td>\n",
       "      <td>4</td>\n",
       "      <td>6</td>\n",
       "      <td>1</td>\n",
       "      <td>1</td>\n",
       "      <td>0</td>\n",
       "    </tr>\n",
       "    <tr>\n",
       "      <th>1</th>\n",
       "      <td>1</td>\n",
       "      <td>1961</td>\n",
       "      <td>Graduation</td>\n",
       "      <td>Single</td>\n",
       "      <td>57091.0</td>\n",
       "      <td>0</td>\n",
       "      <td>0</td>\n",
       "      <td>6/15/2014</td>\n",
       "      <td>0</td>\n",
       "      <td>464</td>\n",
       "      <td>...</td>\n",
       "      <td>7</td>\n",
       "      <td>0</td>\n",
       "      <td>37</td>\n",
       "      <td>1</td>\n",
       "      <td>7</td>\n",
       "      <td>3</td>\n",
       "      <td>7</td>\n",
       "      <td>5</td>\n",
       "      <td>1</td>\n",
       "      <td>0</td>\n",
       "    </tr>\n",
       "    <tr>\n",
       "      <th>2</th>\n",
       "      <td>10476</td>\n",
       "      <td>1958</td>\n",
       "      <td>Graduation</td>\n",
       "      <td>Married</td>\n",
       "      <td>67267.0</td>\n",
       "      <td>0</td>\n",
       "      <td>1</td>\n",
       "      <td>5/13/2014</td>\n",
       "      <td>0</td>\n",
       "      <td>134</td>\n",
       "      <td>...</td>\n",
       "      <td>15</td>\n",
       "      <td>2</td>\n",
       "      <td>30</td>\n",
       "      <td>1</td>\n",
       "      <td>3</td>\n",
       "      <td>2</td>\n",
       "      <td>5</td>\n",
       "      <td>2</td>\n",
       "      <td>0</td>\n",
       "      <td>0</td>\n",
       "    </tr>\n",
       "  </tbody>\n",
       "</table>\n",
       "<p>3 rows × 22 columns</p>\n",
       "</div>"
      ],
      "text/plain": [
       "      Id  Year_Birth   Education Marital_Status   Income  Kidhome  Teenhome  \\\n",
       "0   1826        1970  Graduation       Divorced  84835.0        0         0   \n",
       "1      1        1961  Graduation         Single  57091.0        0         0   \n",
       "2  10476        1958  Graduation        Married  67267.0        0         1   \n",
       "\n",
       "  Dt_Customer  Recency  MntWines  ...  MntFishProducts  MntSweetProducts  \\\n",
       "0   6/16/2014        0       189  ...              111               189   \n",
       "1   6/15/2014        0       464  ...                7                 0   \n",
       "2   5/13/2014        0       134  ...               15                 2   \n",
       "\n",
       "   MntGoldProds  NumDealsPurchases  NumWebPurchases  NumCatalogPurchases  \\\n",
       "0           218                  1                4                    4   \n",
       "1            37                  1                7                    3   \n",
       "2            30                  1                3                    2   \n",
       "\n",
       "   NumStorePurchases  NumWebVisitsMonth  Response  Complain  \n",
       "0                  6                  1         1         0  \n",
       "1                  7                  5         1         0  \n",
       "2                  5                  2         0         0  \n",
       "\n",
       "[3 rows x 22 columns]"
      ]
     },
     "execution_count": 10,
     "metadata": {},
     "output_type": "execute_result"
    }
   ],
   "source": [
    "import pandas as pd\n",
    "file = 'superstore_data.csv'\n",
    "df = pd.read_csv(file)\n",
    "df[:3]"
   ]
  },
  {
   "cell_type": "code",
   "execution_count": null,
   "id": "40b23b63-706c-41c0-8d1c-2111d3d7872d",
   "metadata": {},
   "outputs": [],
   "source": []
  },
  {
   "cell_type": "code",
   "execution_count": 3,
   "id": "6e11b6c9-ab51-4d3c-b830-c5c3113126d3",
   "metadata": {},
   "outputs": [],
   "source": [
    "import pandas as pd\n",
    "file = '2020-Jan.csv'\n",
    "df = pd.read_csv(file)"
   ]
  },
  {
   "cell_type": "code",
   "execution_count": 5,
   "id": "6507aeb0-f418-4019-9c9b-5046410336d6",
   "metadata": {},
   "outputs": [
    {
     "data": {
      "text/plain": [
       "view                2037608\n",
       "cart                1148323\n",
       "remove_from_cart     815024\n",
       "purchase             263797\n",
       "Name: event_type, dtype: int64"
      ]
     },
     "execution_count": 5,
     "metadata": {},
     "output_type": "execute_result"
    }
   ],
   "source": [
    "df.event_type.value_counts()"
   ]
  },
  {
   "cell_type": "code",
   "execution_count": 6,
   "id": "b3b12f20-7830-4f72-9dcc-e8de384ff6ca",
   "metadata": {},
   "outputs": [
    {
     "data": {
      "text/html": [
       "<div>\n",
       "<style scoped>\n",
       "    .dataframe tbody tr th:only-of-type {\n",
       "        vertical-align: middle;\n",
       "    }\n",
       "\n",
       "    .dataframe tbody tr th {\n",
       "        vertical-align: top;\n",
       "    }\n",
       "\n",
       "    .dataframe thead th {\n",
       "        text-align: right;\n",
       "    }\n",
       "</style>\n",
       "<table border=\"1\" class=\"dataframe\">\n",
       "  <thead>\n",
       "    <tr style=\"text-align: right;\">\n",
       "      <th></th>\n",
       "      <th>event_time</th>\n",
       "      <th>event_type</th>\n",
       "      <th>product_id</th>\n",
       "      <th>category_id</th>\n",
       "      <th>category_code</th>\n",
       "      <th>brand</th>\n",
       "      <th>price</th>\n",
       "      <th>user_id</th>\n",
       "      <th>user_session</th>\n",
       "    </tr>\n",
       "  </thead>\n",
       "  <tbody>\n",
       "    <tr>\n",
       "      <th>60</th>\n",
       "      <td>2020-01-01 00:06:07 UTC</td>\n",
       "      <td>purchase</td>\n",
       "      <td>5802440</td>\n",
       "      <td>2151191070908613477</td>\n",
       "      <td>NaN</td>\n",
       "      <td>NaN</td>\n",
       "      <td>2.16</td>\n",
       "      <td>595411904</td>\n",
       "      <td>74ca1cd5-5381-4ffe-b00b-a258b390db77</td>\n",
       "    </tr>\n",
       "    <tr>\n",
       "      <th>61</th>\n",
       "      <td>2020-01-01 00:06:07 UTC</td>\n",
       "      <td>purchase</td>\n",
       "      <td>5825203</td>\n",
       "      <td>2089259162625114209</td>\n",
       "      <td>NaN</td>\n",
       "      <td>kiss</td>\n",
       "      <td>7.92</td>\n",
       "      <td>595411904</td>\n",
       "      <td>74ca1cd5-5381-4ffe-b00b-a258b390db77</td>\n",
       "    </tr>\n",
       "    <tr>\n",
       "      <th>590</th>\n",
       "      <td>2020-01-01 00:51:38 UTC</td>\n",
       "      <td>purchase</td>\n",
       "      <td>5842655</td>\n",
       "      <td>1487580013841613016</td>\n",
       "      <td>NaN</td>\n",
       "      <td>NaN</td>\n",
       "      <td>14.51</td>\n",
       "      <td>595351517</td>\n",
       "      <td>4ceb1e27-416e-4a3c-972a-03eb373d67b2</td>\n",
       "    </tr>\n",
       "  </tbody>\n",
       "</table>\n",
       "</div>"
      ],
      "text/plain": [
       "                  event_time event_type  product_id          category_id  \\\n",
       "60   2020-01-01 00:06:07 UTC   purchase     5802440  2151191070908613477   \n",
       "61   2020-01-01 00:06:07 UTC   purchase     5825203  2089259162625114209   \n",
       "590  2020-01-01 00:51:38 UTC   purchase     5842655  1487580013841613016   \n",
       "\n",
       "    category_code brand  price    user_id  \\\n",
       "60            NaN   NaN   2.16  595411904   \n",
       "61            NaN  kiss   7.92  595411904   \n",
       "590           NaN   NaN  14.51  595351517   \n",
       "\n",
       "                             user_session  \n",
       "60   74ca1cd5-5381-4ffe-b00b-a258b390db77  \n",
       "61   74ca1cd5-5381-4ffe-b00b-a258b390db77  \n",
       "590  4ceb1e27-416e-4a3c-972a-03eb373d67b2  "
      ]
     },
     "execution_count": 6,
     "metadata": {},
     "output_type": "execute_result"
    }
   ],
   "source": [
    "df_purchased = df[df['event_type'] == 'purchase']\n",
    "df_purchased[:3]"
   ]
  },
  {
   "cell_type": "code",
   "execution_count": 9,
   "id": "699df203-9043-451b-92fa-9168972eeee8",
   "metadata": {},
   "outputs": [
    {
     "data": {
      "text/plain": [
       "469299888    0.000997\n",
       "556579890    0.000982\n",
       "507727824    0.000974\n",
       "596971707    0.000967\n",
       "600721252    0.000887\n",
       "               ...   \n",
       "544502140    0.000004\n",
       "546426019    0.000004\n",
       "601017333    0.000004\n",
       "607562807    0.000004\n",
       "321790519    0.000004\n",
       "Name: user_id, Length: 28220, dtype: float64"
      ]
     },
     "execution_count": 9,
     "metadata": {},
     "output_type": "execute_result"
    }
   ],
   "source": [
    "df_purchased['user_id'].value_counts(ascending = False, normalize = True)"
   ]
  },
  {
   "cell_type": "markdown",
   "id": "162ffd31-d06b-4807-899d-5ac252838b42",
   "metadata": {},
   "source": [
    "### Loading our data"
   ]
  },
  {
   "cell_type": "markdown",
   "id": "34e30123-8cb5-443f-8729-568b71aac4ad",
   "metadata": {},
   "source": [
    "[Ecommerce Cosmetics Shop](https://www.kaggle.com/datasets/mkechinov/ecommerce-events-history-in-cosmetics-shop)."
   ]
  },
  {
   "cell_type": "code",
   "execution_count": null,
   "id": "ed225afe-0afc-4a0b-8413-8a04b4e1f5b1",
   "metadata": {},
   "outputs": [],
   "source": []
  }
 ],
 "metadata": {
  "kernelspec": {
   "display_name": "Python 3 (ipykernel)",
   "language": "python",
   "name": "python3"
  },
  "language_info": {
   "codemirror_mode": {
    "name": "ipython",
    "version": 3
   },
   "file_extension": ".py",
   "mimetype": "text/x-python",
   "name": "python",
   "nbconvert_exporter": "python",
   "pygments_lexer": "ipython3",
   "version": "3.9.12"
  }
 },
 "nbformat": 4,
 "nbformat_minor": 5
}
