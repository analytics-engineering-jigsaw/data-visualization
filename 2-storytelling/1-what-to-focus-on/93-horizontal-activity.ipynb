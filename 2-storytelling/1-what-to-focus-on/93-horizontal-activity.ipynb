{
 "cells": [
  {
   "cell_type": "markdown",
   "id": "debe08a6-3589-4b71-9e64-d9b47f01278c",
   "metadata": {},
   "source": [
    "# Pyramid Principal Activity"
   ]
  },
  {
   "cell_type": "markdown",
   "id": "fa68f50c-5c42-4b9a-be90-02015894a086",
   "metadata": {},
   "source": [
    "### Introduction"
   ]
  },
  {
   "cell_type": "markdown",
   "id": "022e6931-5aed-4ad4-a627-c1dfb9273a00",
   "metadata": {},
   "source": [
    "### The setup"
   ]
  },
  {
   "cell_type": "markdown",
   "id": "2aa0d497-4c10-4469-af33-6bc20f427d37",
   "metadata": {},
   "source": [
    "Ok, so now let's work on the horizontal consistency of a presentation.  The bullet points below are adapted from a Mckinsey presentation regarding the United States Postal Service.  \n",
    "\n",
    "Each bullet point was the top line of a different slide in the presentation, but we changed the ordering.  \n",
    "\n",
    "#### Your task \n",
    "\n",
    "* Rearrange the orderings so that they flow better.  \n",
    "* Then organize the bullet points into three different sections, and provide a section title for each one.\n",
    "* Then you can compare against the solution, which will be provided in another notebook.\n",
    "\n",
    "> The real presentation followed most principles that we outlined"
   ]
  },
  {
   "cell_type": "markdown",
   "id": "1dcdf31c-c729-4a7d-befe-a83a81bee4b2",
   "metadata": {},
   "source": [
    "### USPS top lines\n",
    "\n",
    "* Products and services opportunities were identified through a screen for potential feasibility and impact in the near term\n",
    "* The recession has exacerbated volume declines\n",
    "* Product and service initiatives can grow volume\n",
    "* Volume will decline significantly over the next decade driven by a steady decline in First-Class Mail, the most profitable segment\n",
    "* Aggressive productivity improvements are worth about 10 billion dollars\n",
    "* Losses have been driven by volume declines, and limitations on cost savings\n",
    "* USPS is experiencing unprecedented losses, but productivity improvements combined with service opportunities are worth over 10 billion dollars\n",
    "* Potential service opportunities include hybrid mail products and advertising products\n",
    "* USPS is experiencing significant losses"
   ]
  },
  {
   "cell_type": "markdown",
   "id": "9b38d168-92aa-46fd-9ace-f86646b8eebf",
   "metadata": {},
   "source": [
    "### Rearranging space"
   ]
  },
  {
   "cell_type": "markdown",
   "id": "2b60e2c9-9ef4-496d-ac43-3664ff796206",
   "metadata": {},
   "source": [
    "Feel free to re-arrange the statements here, or in the cell above.  Also organize into three sections and provide section headings."
   ]
  },
  {
   "cell_type": "markdown",
   "id": "281de072-8193-4472-96db-e799de01eba1",
   "metadata": {},
   "source": [
    "### Resources\n",
    "\n",
    "[Structuring ideas](https://strategyu.co/structure-your-ideas-pyramid-principle-part-1/)"
   ]
  },
  {
   "cell_type": "code",
   "execution_count": null,
   "id": "74979cd6-b09f-43f9-9616-2dccfb855809",
   "metadata": {},
   "outputs": [],
   "source": []
  }
 ],
 "metadata": {
  "kernelspec": {
   "display_name": "Python 3 (ipykernel)",
   "language": "python",
   "name": "python3"
  },
  "language_info": {
   "codemirror_mode": {
    "name": "ipython",
    "version": 3
   },
   "file_extension": ".py",
   "mimetype": "text/x-python",
   "name": "python",
   "nbconvert_exporter": "python",
   "pygments_lexer": "ipython3",
   "version": "3.9.12"
  }
 },
 "nbformat": 4,
 "nbformat_minor": 5
}
