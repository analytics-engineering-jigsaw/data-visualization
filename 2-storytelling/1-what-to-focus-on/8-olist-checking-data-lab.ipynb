{
 "cells": [
  {
   "cell_type": "markdown",
   "id": "c488f61a-44b3-45d2-8f47-5c9818c8a610",
   "metadata": {},
   "source": [
    "# Olist Cleaning and Checking Data"
   ]
  },
  {
   "cell_type": "markdown",
   "id": "5102b1c5-2ae0-45be-aacf-97451485163c",
   "metadata": {},
   "source": [
    "### Introduction"
   ]
  },
  {
   "cell_type": "markdown",
   "id": "265f2f92-8246-465f-b029-0daf281b0af5",
   "metadata": {},
   "source": [
    "In this lesson we'll work with data from the [Olist Kaggle Competition](https://www.kaggle.com/datasets/olistbr/brazilian-ecommerce)."
   ]
  },
  {
   "cell_type": "markdown",
   "id": "5fadc1ec-ddfd-4190-b96c-ba54999f3730",
   "metadata": {},
   "source": [
    "### Loading our data"
   ]
  },
  {
   "cell_type": "markdown",
   "id": "7c2991e8-b274-438a-b627-2f7f278517aa",
   "metadata": {},
   "source": [
    "We can list all of the data in a given directory with the following."
   ]
  },
  {
   "cell_type": "markdown",
   "id": "6ab1e0f4-f644-4eca-8ceb-be0a7f24f7e4",
   "metadata": {},
   "source": [
    "Which would output the below list."
   ]
  },
  {
   "cell_type": "code",
   "execution_count": 3,
   "id": "cfc39d3f-de3c-4e7e-913d-02536ae27f75",
   "metadata": {},
   "outputs": [],
   "source": [
    "datasets = [\"olist_customers_dataset.csv\", \"olist_orders_dataset.csv\",\n",
    "\"olist_geolocation_dataset.csv\", \"olist_products_dataset.csv\",\n",
    "\"olist_order_items_dataset.csv\", \"olist_sellers_dataset.csv\",\n",
    "\"olist_order_payments_dataset.csv\", \"product_category_name_translation.csv\",\n",
    "\"olist_order_reviews_dataset.csv\"]"
   ]
  },
  {
   "cell_type": "markdown",
   "id": "fabf41fa-9710-4aec-bd83-d8652b47b4f9",
   "metadata": {},
   "source": [
    "And then, we can loop through our datasets, adding a key as the name of the dataset, and as a value storing the dataframe."
   ]
  },
  {
   "cell_type": "markdown",
   "id": "1a7f17e0-f91d-4eb8-a19b-5bfc10b983eb",
   "metadata": {},
   "source": [
    "> First install the s3fs library."
   ]
  },
  {
   "cell_type": "code",
   "execution_count": 7,
   "id": "103b852c-3568-454c-bcdf-69a7414fa897",
   "metadata": {},
   "outputs": [],
   "source": [
    "# !pip3 install s3fs"
   ]
  },
  {
   "cell_type": "markdown",
   "id": "cc3b5430-7e7c-4c7b-89d1-39724545e4b2",
   "metadata": {},
   "source": [
    "Then we can read our datasets from s3."
   ]
  },
  {
   "cell_type": "code",
   "execution_count": 8,
   "id": "493953f7-6a8f-4f7a-bf70-4900f4a305d5",
   "metadata": {},
   "outputs": [],
   "source": [
    "import os\n",
    "import pandas as pd\n",
    "root_url = \"s3://jigsaw-labs-student\"\n",
    "dataframe_set = {}\n",
    "\n",
    "for csv_file in datasets:\n",
    "    names = csv_file.split('_')[1:-1]\n",
    "    full_name = '_'.join(names)\n",
    "    dataframe_set[full_name] = pd.read_csv(f'{root_url}/olist-data/{csv_file}')"
   ]
  },
  {
   "cell_type": "code",
   "execution_count": 9,
   "id": "1c6a7d6e-e7d2-4f03-9ce3-91b3f29b587e",
   "metadata": {},
   "outputs": [
    {
     "data": {
      "text/plain": [
       "dict_keys(['customers', 'orders', 'geolocation', 'products', 'order_items', 'sellers', 'order_payments', 'category_name', 'order_reviews'])"
      ]
     },
     "execution_count": 9,
     "metadata": {},
     "output_type": "execute_result"
    }
   ],
   "source": [
    "dataframe_set.keys()"
   ]
  },
  {
   "cell_type": "markdown",
   "id": "461e6d98-e861-440f-935c-e81c96009dcf",
   "metadata": {},
   "source": [
    "So above, we created a dictionary, where the keys are the names of the datasets and the values are the actual dataframes.\n",
    "\n",
    "> For example, if we want to get the geolocation dataframe, we can with the following."
   ]
  },
  {
   "cell_type": "code",
   "execution_count": 10,
   "id": "8f67352a-69dd-40f4-9f33-1fe09070739f",
   "metadata": {},
   "outputs": [
    {
     "data": {
      "text/html": [
       "<div>\n",
       "<style scoped>\n",
       "    .dataframe tbody tr th:only-of-type {\n",
       "        vertical-align: middle;\n",
       "    }\n",
       "\n",
       "    .dataframe tbody tr th {\n",
       "        vertical-align: top;\n",
       "    }\n",
       "\n",
       "    .dataframe thead th {\n",
       "        text-align: right;\n",
       "    }\n",
       "</style>\n",
       "<table border=\"1\" class=\"dataframe\">\n",
       "  <thead>\n",
       "    <tr style=\"text-align: right;\">\n",
       "      <th></th>\n",
       "      <th>geolocation_zip_code_prefix</th>\n",
       "      <th>geolocation_lat</th>\n",
       "      <th>geolocation_lng</th>\n",
       "      <th>geolocation_city</th>\n",
       "      <th>geolocation_state</th>\n",
       "    </tr>\n",
       "  </thead>\n",
       "  <tbody>\n",
       "    <tr>\n",
       "      <th>0</th>\n",
       "      <td>1037</td>\n",
       "      <td>-23.545621</td>\n",
       "      <td>-46.639292</td>\n",
       "      <td>sao paulo</td>\n",
       "      <td>SP</td>\n",
       "    </tr>\n",
       "    <tr>\n",
       "      <th>1</th>\n",
       "      <td>1046</td>\n",
       "      <td>-23.546081</td>\n",
       "      <td>-46.644820</td>\n",
       "      <td>sao paulo</td>\n",
       "      <td>SP</td>\n",
       "    </tr>\n",
       "  </tbody>\n",
       "</table>\n",
       "</div>"
      ],
      "text/plain": [
       "   geolocation_zip_code_prefix  geolocation_lat  geolocation_lng  \\\n",
       "0                         1037       -23.545621       -46.639292   \n",
       "1                         1046       -23.546081       -46.644820   \n",
       "\n",
       "  geolocation_city geolocation_state  \n",
       "0        sao paulo                SP  \n",
       "1        sao paulo                SP  "
      ]
     },
     "execution_count": 10,
     "metadata": {},
     "output_type": "execute_result"
    }
   ],
   "source": [
    "dataframe_set['geolocation'][:2]"
   ]
  },
  {
   "cell_type": "markdown",
   "id": "e9ddc53e-db8e-4da8-861f-085729308c4a",
   "metadata": {},
   "source": [
    "It would be a lot to work with all of our datasets at once -- so looking at our data, what do you think are some of the key files that we should work with?"
   ]
  },
  {
   "cell_type": "code",
   "execution_count": 20,
   "id": "43198c97-e12a-4dd2-b4dd-0e41ea6ff906",
   "metadata": {},
   "outputs": [
    {
     "name": "stdout",
     "output_type": "stream",
     "text": [
      "['olist_customers_dataset.csv', 'olist_orders_dataset.csv', 'olist_geolocation_dataset.csv', 'olist_products_dataset.csv', 'olist_order_items_dataset.csv', 'olist_sellers_dataset.csv', 'olist_order_payments_dataset.csv', 'product_category_name_translation.csv', 'olist_order_reviews_dataset.csv']\n"
     ]
    }
   ],
   "source": [
    "print(datasets)"
   ]
  },
  {
   "cell_type": "markdown",
   "id": "627d1d72-f68c-4c84-b916-927c643d4f29",
   "metadata": {},
   "source": [
    "So we'll let you give it a shot, what are some of the main csv files to combine and work with.  Write down some below."
   ]
  },
  {
   "cell_type": "markdown",
   "id": "bb47502c-f3e0-4bd6-8055-8426a553a8af",
   "metadata": {},
   "source": []
  },
  {
   "cell_type": "markdown",
   "id": "04afbebb-41bc-427b-a9c0-508610acbc1b",
   "metadata": {},
   "source": [
    "Then we'll move on."
   ]
  },
  {
   "cell_type": "markdown",
   "id": "e11b7013-f3f6-4d9a-ba46-f8995db59cb5",
   "metadata": {},
   "source": [
    "### Combining our data"
   ]
  },
  {
   "cell_type": "markdown",
   "id": "1f53c7ca-59ee-4040-a2c2-501a4447e74c",
   "metadata": {},
   "source": [
    "To identify our key csv files, we should probably first identify our join table and then work from there.  So above, a good our join table is probably `orders`.  Remember that our join table often involves our transactions, or events.  It turns out each order is more like a shopping cart, with many `order_items`.  So we should also use that dataset.  \n",
    "\n",
    "From there, you want to make sure you have the various dimensions -- just ask the W questions as a starting point -- who, what, where, when.\n",
    "\n",
    "Doing so, we'll join the `orders`, `order_items`, `customers` and `products` (sellers could also be added).  "
   ]
  },
  {
   "cell_type": "code",
   "execution_count": 22,
   "id": "55e92411-6f1d-4e04-98a8-d576f0f0dcc9",
   "metadata": {},
   "outputs": [
    {
     "data": {
      "text/html": [
       "<div>\n",
       "<style scoped>\n",
       "    .dataframe tbody tr th:only-of-type {\n",
       "        vertical-align: middle;\n",
       "    }\n",
       "\n",
       "    .dataframe tbody tr th {\n",
       "        vertical-align: top;\n",
       "    }\n",
       "\n",
       "    .dataframe thead th {\n",
       "        text-align: right;\n",
       "    }\n",
       "</style>\n",
       "<table border=\"1\" class=\"dataframe\">\n",
       "  <thead>\n",
       "    <tr style=\"text-align: right;\">\n",
       "      <th></th>\n",
       "      <th>order_id</th>\n",
       "      <th>customer_id</th>\n",
       "      <th>order_status</th>\n",
       "      <th>order_purchase_timestamp</th>\n",
       "      <th>order_approved_at</th>\n",
       "      <th>order_delivered_carrier_date</th>\n",
       "      <th>order_delivered_customer_date</th>\n",
       "      <th>order_estimated_delivery_date</th>\n",
       "      <th>customer_unique_id</th>\n",
       "      <th>customer_zip_code_prefix</th>\n",
       "      <th>...</th>\n",
       "      <th>price</th>\n",
       "      <th>freight_value</th>\n",
       "      <th>product_category_name</th>\n",
       "      <th>product_name_lenght</th>\n",
       "      <th>product_description_lenght</th>\n",
       "      <th>product_photos_qty</th>\n",
       "      <th>product_weight_g</th>\n",
       "      <th>product_length_cm</th>\n",
       "      <th>product_height_cm</th>\n",
       "      <th>product_width_cm</th>\n",
       "    </tr>\n",
       "  </thead>\n",
       "  <tbody>\n",
       "    <tr>\n",
       "      <th>0</th>\n",
       "      <td>e481f51cbdc54678b7cc49136f2d6af7</td>\n",
       "      <td>9ef432eb6251297304e76186b10a928d</td>\n",
       "      <td>delivered</td>\n",
       "      <td>2017-10-02 10:56:33</td>\n",
       "      <td>2017-10-02 11:07:15</td>\n",
       "      <td>2017-10-04 19:55:00</td>\n",
       "      <td>2017-10-10 21:25:13</td>\n",
       "      <td>2017-10-18 00:00:00</td>\n",
       "      <td>7c396fd4830fd04220f754e42b4e5bff</td>\n",
       "      <td>3149</td>\n",
       "      <td>...</td>\n",
       "      <td>29.99</td>\n",
       "      <td>8.72</td>\n",
       "      <td>utilidades_domesticas</td>\n",
       "      <td>40.0</td>\n",
       "      <td>268.0</td>\n",
       "      <td>4.0</td>\n",
       "      <td>500.0</td>\n",
       "      <td>19.0</td>\n",
       "      <td>8.0</td>\n",
       "      <td>13.0</td>\n",
       "    </tr>\n",
       "    <tr>\n",
       "      <th>1</th>\n",
       "      <td>128e10d95713541c87cd1a2e48201934</td>\n",
       "      <td>a20e8105f23924cd00833fd87daa0831</td>\n",
       "      <td>delivered</td>\n",
       "      <td>2017-08-15 18:29:31</td>\n",
       "      <td>2017-08-15 20:05:16</td>\n",
       "      <td>2017-08-17 15:28:33</td>\n",
       "      <td>2017-08-18 14:44:43</td>\n",
       "      <td>2017-08-28 00:00:00</td>\n",
       "      <td>3a51803cc0d012c3b5dc8b7528cb05f7</td>\n",
       "      <td>3366</td>\n",
       "      <td>...</td>\n",
       "      <td>29.99</td>\n",
       "      <td>7.78</td>\n",
       "      <td>utilidades_domesticas</td>\n",
       "      <td>40.0</td>\n",
       "      <td>268.0</td>\n",
       "      <td>4.0</td>\n",
       "      <td>500.0</td>\n",
       "      <td>19.0</td>\n",
       "      <td>8.0</td>\n",
       "      <td>13.0</td>\n",
       "    </tr>\n",
       "  </tbody>\n",
       "</table>\n",
       "<p>2 rows × 26 columns</p>\n",
       "</div>"
      ],
      "text/plain": [
       "                           order_id                       customer_id  \\\n",
       "0  e481f51cbdc54678b7cc49136f2d6af7  9ef432eb6251297304e76186b10a928d   \n",
       "1  128e10d95713541c87cd1a2e48201934  a20e8105f23924cd00833fd87daa0831   \n",
       "\n",
       "  order_status order_purchase_timestamp    order_approved_at  \\\n",
       "0    delivered      2017-10-02 10:56:33  2017-10-02 11:07:15   \n",
       "1    delivered      2017-08-15 18:29:31  2017-08-15 20:05:16   \n",
       "\n",
       "  order_delivered_carrier_date order_delivered_customer_date  \\\n",
       "0          2017-10-04 19:55:00           2017-10-10 21:25:13   \n",
       "1          2017-08-17 15:28:33           2017-08-18 14:44:43   \n",
       "\n",
       "  order_estimated_delivery_date                customer_unique_id  \\\n",
       "0           2017-10-18 00:00:00  7c396fd4830fd04220f754e42b4e5bff   \n",
       "1           2017-08-28 00:00:00  3a51803cc0d012c3b5dc8b7528cb05f7   \n",
       "\n",
       "   customer_zip_code_prefix  ...  price freight_value  product_category_name  \\\n",
       "0                      3149  ...  29.99          8.72  utilidades_domesticas   \n",
       "1                      3366  ...  29.99          7.78  utilidades_domesticas   \n",
       "\n",
       "  product_name_lenght product_description_lenght product_photos_qty  \\\n",
       "0                40.0                      268.0                4.0   \n",
       "1                40.0                      268.0                4.0   \n",
       "\n",
       "   product_weight_g  product_length_cm product_height_cm  product_width_cm  \n",
       "0             500.0               19.0               8.0              13.0  \n",
       "1             500.0               19.0               8.0              13.0  \n",
       "\n",
       "[2 rows x 26 columns]"
      ]
     },
     "execution_count": 22,
     "metadata": {},
     "output_type": "execute_result"
    }
   ],
   "source": [
    "orders_df = dataframe_set['orders']\n",
    "orders_customers_df = orders_df.merge(dataframe_set['customers'], on = 'customer_id')\n",
    "orders_products_df = orders_customers_df.merge(dataframe_set['order_items'], on = 'order_id').merge(dataframe_set['products'], on = 'product_id')\n",
    "# dataframe_set['customers']\n",
    "\n",
    "orders_products_df[:2]"
   ]
  },
  {
   "cell_type": "markdown",
   "id": "8bb119f6-af6e-4e35-81d1-e185c1a38b7b",
   "metadata": {},
   "source": [
    "An initial look at the data."
   ]
  },
  {
   "cell_type": "markdown",
   "id": "23d61f78-3ee5-444b-be3f-d8ade13c723a",
   "metadata": {},
   "source": [
    "1. Understanding the grain of the data"
   ]
  },
  {
   "cell_type": "markdown",
   "id": "2a6b7147-44c6-4ca5-ab70-51aae208dbd8",
   "metadata": {},
   "source": [
    "* What is the grain of the data.  By this, we mean, what does each row represent?"
   ]
  },
  {
   "cell_type": "code",
   "execution_count": 70,
   "id": "1d54f633-4d96-4a3c-af85-80b79e457242",
   "metadata": {},
   "outputs": [],
   "source": [
    "# write the grain of the data here"
   ]
  },
  {
   "cell_type": "markdown",
   "id": "cde222e1-8b9e-4222-9384-78e069c20293",
   "metadata": {},
   "source": [
    "2. Identifying the target of the data"
   ]
  },
  {
   "cell_type": "code",
   "execution_count": null,
   "id": "17e6d575-8d5c-447a-8e8f-7972eaae67f9",
   "metadata": {},
   "outputs": [],
   "source": [
    "# write the target of the data here"
   ]
  },
  {
   "cell_type": "markdown",
   "id": "968ee1ac-ec33-4c2e-8af3-ebe578aab6cc",
   "metadata": {},
   "source": [
    "### Cleaning the data"
   ]
  },
  {
   "cell_type": "markdown",
   "id": "3de1a6ae-b0d5-4522-99b6-20ef9b8aa597",
   "metadata": {},
   "source": [
    "Now before cleaning the data, we can probably remove some of our columns. Currently, we have 26 columns from merging our three dataframes. "
   ]
  },
  {
   "cell_type": "code",
   "execution_count": 31,
   "id": "76118288-5bda-46a0-bec6-9bcb80f33af1",
   "metadata": {},
   "outputs": [
    {
     "data": {
      "text/plain": [
       "Index(['order_id', 'customer_id', 'order_status', 'order_purchase_timestamp',\n",
       "       'order_approved_at', 'order_delivered_carrier_date',\n",
       "       'order_delivered_customer_date', 'order_estimated_delivery_date',\n",
       "       'customer_unique_id', 'customer_zip_code_prefix', 'customer_city',\n",
       "       'customer_state', 'order_item_id', 'product_id', 'seller_id',\n",
       "       'shipping_limit_date', 'price', 'freight_value',\n",
       "       'product_category_name', 'product_name_lenght',\n",
       "       'product_description_lenght', 'product_photos_qty', 'product_weight_g',\n",
       "       'product_length_cm', 'product_height_cm', 'product_width_cm'],\n",
       "      dtype='object')"
      ]
     },
     "execution_count": 31,
     "metadata": {},
     "output_type": "execute_result"
    }
   ],
   "source": [
    "orders_products_df.columns"
   ]
  },
  {
   "cell_type": "markdown",
   "id": "857286cd-cf41-4ae3-ab4e-ee41938ac718",
   "metadata": {},
   "source": [
    "> Let's just select the relevant columns below.  Assign each variable to a list of relevant columns (we chose nine in total)."
   ]
  },
  {
   "cell_type": "code",
   "execution_count": 71,
   "id": "86ea5a7c-d6e3-4b90-853a-40a96db8bfbc",
   "metadata": {},
   "outputs": [
    {
     "name": "stdout",
     "output_type": "stream",
     "text": [
      "[]\n"
     ]
    }
   ],
   "source": [
    "target_cols = []\n",
    "\n",
    "id_cols = []\n",
    "order_cols = []\n",
    "customer_cols = []\n",
    "product_cols = []\n",
    "\n",
    "selected_cols = order_cols + customer_cols + product_cols + id_cols + target_cols\n",
    "print(selected_cols)"
   ]
  },
  {
   "cell_type": "markdown",
   "id": "babfe39a-59b8-4d45-a250-6cc66bb40ced",
   "metadata": {},
   "source": [
    "Then from there we can select a subset of our data."
   ]
  },
  {
   "cell_type": "code",
   "execution_count": 37,
   "id": "2fec9010-95b0-497a-9a1b-490383349043",
   "metadata": {},
   "outputs": [
    {
     "data": {
      "text/html": [
       "<div>\n",
       "<style scoped>\n",
       "    .dataframe tbody tr th:only-of-type {\n",
       "        vertical-align: middle;\n",
       "    }\n",
       "\n",
       "    .dataframe tbody tr th {\n",
       "        vertical-align: top;\n",
       "    }\n",
       "\n",
       "    .dataframe thead th {\n",
       "        text-align: right;\n",
       "    }\n",
       "</style>\n",
       "<table border=\"1\" class=\"dataframe\">\n",
       "  <thead>\n",
       "    <tr style=\"text-align: right;\">\n",
       "      <th></th>\n",
       "      <th>order_purchase_timestamp</th>\n",
       "      <th>customer_zip_code_prefix</th>\n",
       "      <th>customer_city</th>\n",
       "      <th>customer_state</th>\n",
       "      <th>product_category_name</th>\n",
       "      <th>order_id</th>\n",
       "      <th>customer_id</th>\n",
       "      <th>product_id</th>\n",
       "      <th>price</th>\n",
       "    </tr>\n",
       "  </thead>\n",
       "  <tbody>\n",
       "    <tr>\n",
       "      <th>0</th>\n",
       "      <td>2017-10-02 10:56:33</td>\n",
       "      <td>3149</td>\n",
       "      <td>sao paulo</td>\n",
       "      <td>SP</td>\n",
       "      <td>utilidades_domesticas</td>\n",
       "      <td>e481f51cbdc54678b7cc49136f2d6af7</td>\n",
       "      <td>9ef432eb6251297304e76186b10a928d</td>\n",
       "      <td>87285b34884572647811a353c7ac498a</td>\n",
       "      <td>29.99</td>\n",
       "    </tr>\n",
       "    <tr>\n",
       "      <th>1</th>\n",
       "      <td>2017-08-15 18:29:31</td>\n",
       "      <td>3366</td>\n",
       "      <td>sao paulo</td>\n",
       "      <td>SP</td>\n",
       "      <td>utilidades_domesticas</td>\n",
       "      <td>128e10d95713541c87cd1a2e48201934</td>\n",
       "      <td>a20e8105f23924cd00833fd87daa0831</td>\n",
       "      <td>87285b34884572647811a353c7ac498a</td>\n",
       "      <td>29.99</td>\n",
       "    </tr>\n",
       "  </tbody>\n",
       "</table>\n",
       "</div>"
      ],
      "text/plain": [
       "  order_purchase_timestamp  customer_zip_code_prefix customer_city  \\\n",
       "0      2017-10-02 10:56:33                      3149     sao paulo   \n",
       "1      2017-08-15 18:29:31                      3366     sao paulo   \n",
       "\n",
       "  customer_state  product_category_name                          order_id  \\\n",
       "0             SP  utilidades_domesticas  e481f51cbdc54678b7cc49136f2d6af7   \n",
       "1             SP  utilidades_domesticas  128e10d95713541c87cd1a2e48201934   \n",
       "\n",
       "                        customer_id                        product_id  price  \n",
       "0  9ef432eb6251297304e76186b10a928d  87285b34884572647811a353c7ac498a  29.99  \n",
       "1  a20e8105f23924cd00833fd87daa0831  87285b34884572647811a353c7ac498a  29.99  "
      ]
     },
     "execution_count": 37,
     "metadata": {},
     "output_type": "execute_result"
    }
   ],
   "source": [
    "selected_df = orders_products_df[selected_cols]\n",
    "selected_df[:2]"
   ]
  },
  {
   "cell_type": "markdown",
   "id": "5cfc66d8-71d0-48d9-a06e-0837f21a4c68",
   "metadata": {},
   "source": [
    "> Ok, let's just show you the columns we chose."
   ]
  },
  {
   "cell_type": "code",
   "execution_count": 40,
   "id": "b767e8ae-8260-4b86-9655-0aaec048622a",
   "metadata": {},
   "outputs": [
    {
     "name": "stdout",
     "output_type": "stream",
     "text": [
      "['order_purchase_timestamp', 'customer_zip_code_prefix', 'customer_city', 'customer_state', 'product_category_name', 'order_id', 'customer_id', 'product_id', 'price']\n"
     ]
    }
   ],
   "source": [
    "target_cols = ['price']\n",
    "\n",
    "id_cols = ['order_id', 'customer_id', 'product_id']\n",
    "order_cols = [ 'order_purchase_timestamp']\n",
    "customer_cols = ['customer_zip_code_prefix', 'customer_city', 'customer_state']\n",
    "product_cols = ['product_category_name']\n",
    "\n",
    "selected_cols = order_cols + customer_cols + product_cols + id_cols + target_cols\n",
    "print(selected_cols)"
   ]
  },
  {
   "cell_type": "markdown",
   "id": "6279954d-3c02-49b2-9f6c-1a25e6b28629",
   "metadata": {},
   "source": [
    "> And then we can select just those columns, and rename one of the columns."
   ]
  },
  {
   "cell_type": "code",
   "execution_count": 39,
   "id": "59d35bd2-2fa8-4ad2-9789-bdae3d68d54c",
   "metadata": {},
   "outputs": [
    {
     "data": {
      "text/html": [
       "<div>\n",
       "<style scoped>\n",
       "    .dataframe tbody tr th:only-of-type {\n",
       "        vertical-align: middle;\n",
       "    }\n",
       "\n",
       "    .dataframe tbody tr th {\n",
       "        vertical-align: top;\n",
       "    }\n",
       "\n",
       "    .dataframe thead th {\n",
       "        text-align: right;\n",
       "    }\n",
       "</style>\n",
       "<table border=\"1\" class=\"dataframe\">\n",
       "  <thead>\n",
       "    <tr style=\"text-align: right;\">\n",
       "      <th></th>\n",
       "      <th>purchase_time</th>\n",
       "      <th>customer_zip_code_prefix</th>\n",
       "      <th>customer_city</th>\n",
       "      <th>customer_state</th>\n",
       "      <th>product_category_name</th>\n",
       "      <th>order_id</th>\n",
       "      <th>customer_id</th>\n",
       "      <th>product_id</th>\n",
       "      <th>price</th>\n",
       "    </tr>\n",
       "  </thead>\n",
       "  <tbody>\n",
       "    <tr>\n",
       "      <th>0</th>\n",
       "      <td>2017-10-02 10:56:33</td>\n",
       "      <td>3149</td>\n",
       "      <td>sao paulo</td>\n",
       "      <td>SP</td>\n",
       "      <td>utilidades_domesticas</td>\n",
       "      <td>e481f51cbdc54678b7cc49136f2d6af7</td>\n",
       "      <td>9ef432eb6251297304e76186b10a928d</td>\n",
       "      <td>87285b34884572647811a353c7ac498a</td>\n",
       "      <td>29.99</td>\n",
       "    </tr>\n",
       "    <tr>\n",
       "      <th>1</th>\n",
       "      <td>2017-08-15 18:29:31</td>\n",
       "      <td>3366</td>\n",
       "      <td>sao paulo</td>\n",
       "      <td>SP</td>\n",
       "      <td>utilidades_domesticas</td>\n",
       "      <td>128e10d95713541c87cd1a2e48201934</td>\n",
       "      <td>a20e8105f23924cd00833fd87daa0831</td>\n",
       "      <td>87285b34884572647811a353c7ac498a</td>\n",
       "      <td>29.99</td>\n",
       "    </tr>\n",
       "  </tbody>\n",
       "</table>\n",
       "</div>"
      ],
      "text/plain": [
       "         purchase_time  customer_zip_code_prefix customer_city customer_state  \\\n",
       "0  2017-10-02 10:56:33                      3149     sao paulo             SP   \n",
       "1  2017-08-15 18:29:31                      3366     sao paulo             SP   \n",
       "\n",
       "   product_category_name                          order_id  \\\n",
       "0  utilidades_domesticas  e481f51cbdc54678b7cc49136f2d6af7   \n",
       "1  utilidades_domesticas  128e10d95713541c87cd1a2e48201934   \n",
       "\n",
       "                        customer_id                        product_id  price  \n",
       "0  9ef432eb6251297304e76186b10a928d  87285b34884572647811a353c7ac498a  29.99  \n",
       "1  a20e8105f23924cd00833fd87daa0831  87285b34884572647811a353c7ac498a  29.99  "
      ]
     },
     "execution_count": 39,
     "metadata": {},
     "output_type": "execute_result"
    }
   ],
   "source": [
    "orders_products_df[selected_cols]\n",
    "\n",
    "updated_selected_df = selected_df.rename(columns = {'order_purchase_timestamp': 'purchase_time'})\n",
    "updated_selected_df[:2]"
   ]
  },
  {
   "cell_type": "markdown",
   "id": "f3911116-5bf3-4a92-9497-f0d2d757ca2a",
   "metadata": {
    "tags": []
   },
   "source": [
    "#### 2. Cleaning our data"
   ]
  },
  {
   "cell_type": "markdown",
   "id": "a116b0b0-1d89-4317-a7d1-fb6ed3f17888",
   "metadata": {},
   "source": [
    "Now that we have merged together our datasets (by looking at the join table and W questions), identified the target and grain of the data, and then selected (pretty liberally) our relevant columns, it's time to clean our data."
   ]
  },
  {
   "cell_type": "markdown",
   "id": "c5d25dd8-d119-40cb-bfb1-0647831f62d7",
   "metadata": {},
   "source": [
    "1. Confirming the correct datatype"
   ]
  },
  {
   "cell_type": "markdown",
   "id": "6a18f19d-15fd-46a8-9a20-dd4661834c1c",
   "metadata": {},
   "source": [
    "First, ensure that the columns are of the correct datatype."
   ]
  },
  {
   "cell_type": "code",
   "execution_count": 36,
   "id": "c30fb7f6-9496-4902-a646-a891e7393185",
   "metadata": {},
   "outputs": [
    {
     "data": {
      "text/plain": [
       "purchase_time                object\n",
       "customer_zip_code_prefix      int64\n",
       "customer_city                object\n",
       "customer_state               object\n",
       "product_category_name        object\n",
       "order_id                     object\n",
       "customer_id                  object\n",
       "product_id                   object\n",
       "price                       float64\n",
       "dtype: object"
      ]
     },
     "execution_count": 36,
     "metadata": {},
     "output_type": "execute_result"
    }
   ],
   "source": [
    "\n",
    "\n",
    "# purchase_time                object\n",
    "# customer_zip_code_prefix      int64\n",
    "# customer_city                object\n",
    "# customer_state               object\n",
    "# product_category_name        object\n",
    "# order_id                     object\n",
    "# customer_id                  object\n",
    "# product_id                   object\n",
    "# price                       float64\n",
    "# dtype: object"
   ]
  },
  {
   "cell_type": "markdown",
   "id": "3e368ec9-3e80-4e29-a417-f27b5f8e9a1b",
   "metadata": {},
   "source": [
    "Remember that we are essentially looking for columns that we should change from object to something else.  \n",
    "\n",
    "> Above, these look pretty good, except for our `purchase_time` column, which we should change to be datetime.\n",
    "\n",
    "> The `id` columns could being changed to be numeric -- however there doesn't appear to be much downside to leaving them as is."
   ]
  },
  {
   "cell_type": "markdown",
   "id": "3c587637-fc52-4cae-b55e-d42a16c189e1",
   "metadata": {},
   "source": [
    "2. Extracting datepart columns\n",
    "\n",
    "Ok, so next use the `add_datepart` function to extract additional columns.  Add these columns to the copied dataframe (`selected_w_dates_df`). "
   ]
  },
  {
   "cell_type": "code",
   "execution_count": 46,
   "id": "2cbadcd7-6334-4d9d-b878-e0b866149e47",
   "metadata": {},
   "outputs": [],
   "source": [
    "from item_lib import *"
   ]
  },
  {
   "cell_type": "code",
   "execution_count": 47,
   "id": "05d31579-01f8-4843-abe1-bd4d7182e469",
   "metadata": {},
   "outputs": [],
   "source": [
    "import warnings\n",
    "warnings.filterwarnings('ignore')\n",
    "\n",
    "selected_w_dates_df = updated_selected_df.copy()\n",
    "\n"
   ]
  },
  {
   "cell_type": "markdown",
   "id": "a0ef2ba2-5697-4182-8d87-eff892b626dc",
   "metadata": {},
   "source": [
    "Afterwards, we should see the following columns:"
   ]
  },
  {
   "cell_type": "code",
   "execution_count": 72,
   "id": "ee2b8a28-40df-46df-9981-19ff77b20e8a",
   "metadata": {},
   "outputs": [
    {
     "data": {
      "text/plain": [
       "Index(['customer_zip_code_prefix', 'customer_city', 'customer_state',\n",
       "       'product_category_name', 'order_id', 'customer_id', 'product_id',\n",
       "       'price', 'purchase_timeYear', 'purchase_timeMonth', 'purchase_timeWeek',\n",
       "       'purchase_timeDay', 'purchase_timeDayofweek', 'purchase_timeDayofyear',\n",
       "       'purchase_timeElapsed'],\n",
       "      dtype='object')"
      ]
     },
     "execution_count": 72,
     "metadata": {},
     "output_type": "execute_result"
    }
   ],
   "source": [
    "selected_w_dates_df.columns\n",
    "\n",
    "# ['customer_zip_code_prefix', 'customer_city', 'customer_state',\n",
    "#        'product_category_name', 'order_id', 'customer_id', 'product_id',\n",
    "#        'price', 'purchase_timeYear', 'purchase_timeMonth', 'purchase_timeWeek',\n",
    "#        'purchase_timeDay', 'purchase_timeDayofweek', 'purchase_timeDayofyear',\n",
    "#        'purchase_timeElapsed']"
   ]
  },
  {
   "cell_type": "markdown",
   "id": "1ddd7367-4e3e-444b-b96c-221fb0784e80",
   "metadata": {},
   "source": [
    "### 3. Checking the representativeness of our data"
   ]
  },
  {
   "cell_type": "markdown",
   "id": "f6f56987-d3e9-4769-a821-c4bd306d1226",
   "metadata": {},
   "source": [
    "* Selecting the relevant columns"
   ]
  },
  {
   "cell_type": "markdown",
   "id": "7b784c8f-45e0-4fe3-9b65-9e6f39e38518",
   "metadata": {},
   "source": [
    "So now we have a new set of relevant columns, which includes our date columns.  We can see these date columns at the end."
   ]
  },
  {
   "cell_type": "code",
   "execution_count": 49,
   "id": "875f3481-f7ce-4640-95e8-17beb4b6ca8b",
   "metadata": {},
   "outputs": [
    {
     "data": {
      "text/plain": [
       "Index(['purchase_timeYear', 'purchase_timeMonth', 'purchase_timeWeek',\n",
       "       'purchase_timeDay', 'purchase_timeDayofweek', 'purchase_timeDayofyear',\n",
       "       'purchase_timeElapsed'],\n",
       "      dtype='object')"
      ]
     },
     "execution_count": 49,
     "metadata": {},
     "output_type": "execute_result"
    }
   ],
   "source": [
    "selected_w_dates_df.columns[8:]"
   ]
  },
  {
   "cell_type": "code",
   "execution_count": 50,
   "id": "eacb5389-dd84-4e16-8e9a-545700c6a071",
   "metadata": {},
   "outputs": [],
   "source": [
    "target_cols = ['price']\n",
    "\n",
    "id_cols = ['order_id', 'customer_id', 'product_id']\n",
    "\n",
    "customer_cols = ['customer_zip_code_prefix', 'customer_city', 'customer_state']\n",
    "product_cols = ['product_category_name']\n",
    "purchase_time_cols = ['purchase_timeYear', 'purchase_timeMonth', 'purchase_timeWeek',\n",
    "       'purchase_timeDay', 'purchase_timeDayofweek', 'purchase_timeDayofyear',\n",
    "       'purchase_timeElapsed']\n",
    "\n",
    "selected_cols = customer_cols + product_cols + id_cols + purchase_time_cols + target_cols"
   ]
  },
  {
   "cell_type": "markdown",
   "id": "d34e3786-c50c-4a9a-9b4a-b5b35a6d1dca",
   "metadata": {},
   "source": [
    "From here, let's look at the representativeness of the data.  \n",
    "\n",
    "As always, there are two main things to focus on here -- the time columns, and the target.  \n",
    "\n",
    "### A. Exploring the time columns"
   ]
  },
  {
   "cell_type": "markdown",
   "id": "36229fe2-fdf6-4a2b-99a6-5b04f9182834",
   "metadata": {},
   "source": [
    "* In this section, please spend a good amount of effort (1) exploring the time columns and (2) then just selecting a range of data that will allow us to explore a representative dataset going forward."
   ]
  },
  {
   "cell_type": "code",
   "execution_count": null,
   "id": "cc871948-0f4f-4a32-9949-8b6917f4b6dd",
   "metadata": {},
   "outputs": [],
   "source": []
  },
  {
   "cell_type": "markdown",
   "id": "c9d48f68-5544-4e03-8c9d-9c1d02aa209b",
   "metadata": {},
   "source": [
    "### 2. Exploring the target"
   ]
  },
  {
   "cell_type": "markdown",
   "id": "ef4ede47-2c5d-4c9d-8b7a-783bfd83dd2f",
   "metadata": {},
   "source": [
    "Ok, next let's explore the target.  We want to check for missing data, or values that could be incorrect."
   ]
  },
  {
   "cell_type": "markdown",
   "id": "594e4e22-313d-410b-8363-94358769f2b4",
   "metadata": {},
   "source": [
    "### Saving the data"
   ]
  },
  {
   "cell_type": "markdown",
   "id": "73f8f49b-d32b-4bb5-8b68-af5a3016f0d3",
   "metadata": {},
   "source": [
    "* Finally, we can save our selected, and coerced dataset to a csv file so that we can use it going forward."
   ]
  },
  {
   "cell_type": "code",
   "execution_count": 73,
   "id": "ea7bf271-93ad-48e1-8164-abb750541d28",
   "metadata": {},
   "outputs": [],
   "source": [
    "# selected_full_year_df.to_csv('./olist_2017_2018.csv', index = False)"
   ]
  },
  {
   "cell_type": "markdown",
   "id": "599476d7-37fd-4667-ba0f-9203b989048e",
   "metadata": {},
   "source": [
    "### Takeaways"
   ]
  },
  {
   "cell_type": "markdown",
   "id": "f0f9a14c-3a91-4ee1-bf45-8e13c6c9d3ce",
   "metadata": {},
   "source": [
    "Ok, so what can we takeaway from the above.  \n",
    "\n",
    "1. Selecting and merging data"
   ]
  },
  {
   "cell_type": "markdown",
   "id": "14b81b09-a77f-4c50-8923-83494aae3960",
   "metadata": {},
   "source": [
    "Our first step was to load all of our data, identify the join table, add in our dimension tables (who, what, where, and when)."
   ]
  },
  {
   "cell_type": "code",
   "execution_count": null,
   "id": "a2ef3688-6591-4606-bb61-276166bff1cb",
   "metadata": {},
   "outputs": [],
   "source": [
    "orders_df = dataframe_set['orders']\n",
    "orders_customers_df = orders_df.merge(dataframe_set['customers'], on = 'customer_id')\n",
    "orders_products_df = orders_customers_df.merge(dataframe_set['order_items'], on = 'order_id').merge(dataframe_set['products'], on = 'product_id')"
   ]
  },
  {
   "cell_type": "markdown",
   "id": "1d3496dc-b7b3-4e27-8120-1555f0c63438",
   "metadata": {},
   "source": [
    "2. Initial identification\n",
    "\n",
    "* Of the grain of the data (here it was individual order items)\n",
    "* Of the target (here it was the price)"
   ]
  },
  {
   "cell_type": "markdown",
   "id": "81a0d969-f62e-4849-8370-b1519d58ed15",
   "metadata": {},
   "source": [
    "2. Initial cleanup\n",
    "\n",
    "We select relevant columns, checked the datatypes, and used the `add_datepart` function to break the purchase datetime into multiple attributes.\n",
    "\n",
    "3. Checking the representativeness of the data\n",
    "\n",
    "* Time periods\n",
    "\n",
    "\n",
    "\n",
    "* Target\n",
    "\n"
   ]
  },
  {
   "cell_type": "markdown",
   "id": "8414e0ef-bf28-4568-8101-9be1edaf98aa",
   "metadata": {},
   "source": [
    "In the next lesson, we have a write up of our steps for checking the representativeness of the data."
   ]
  },
  {
   "cell_type": "code",
   "execution_count": null,
   "id": "e34067e3-7b20-48e1-9ee8-e1919abeecd8",
   "metadata": {},
   "outputs": [],
   "source": []
  }
 ],
 "metadata": {
  "kernelspec": {
   "display_name": "Python 3 (ipykernel)",
   "language": "python",
   "name": "python3"
  },
  "language_info": {
   "codemirror_mode": {
    "name": "ipython",
    "version": 3
   },
   "file_extension": ".py",
   "mimetype": "text/x-python",
   "name": "python",
   "nbconvert_exporter": "python",
   "pygments_lexer": "ipython3",
   "version": "3.9.12"
  }
 },
 "nbformat": 4,
 "nbformat_minor": 5
}
