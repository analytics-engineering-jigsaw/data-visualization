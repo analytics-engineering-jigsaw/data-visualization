{
 "cells": [
  {
   "cell_type": "markdown",
   "id": "bd84b8e6-ce42-4041-ba6c-8978bd89393e",
   "metadata": {},
   "source": [
    "# Exploring Data challenge"
   ]
  },
  {
   "cell_type": "markdown",
   "id": "e5da677c-83cf-4e20-8d3d-1e0d6f0d433d",
   "metadata": {},
   "source": [
    "### Loading our data"
   ]
  },
  {
   "cell_type": "markdown",
   "id": "c69ebd2c-f376-49ee-92d5-c64e856f9aa5",
   "metadata": {},
   "source": [
    "In this lesson, we'll build up our library by using ecommerce sales data.  Let's get started by loading our data.  "
   ]
  },
  {
   "cell_type": "code",
   "execution_count": 2,
   "id": "d7a6f77a-f77f-465a-8c85-e24413511193",
   "metadata": {},
   "outputs": [
    {
     "data": {
      "text/html": [
       "<div>\n",
       "<style scoped>\n",
       "    .dataframe tbody tr th:only-of-type {\n",
       "        vertical-align: middle;\n",
       "    }\n",
       "\n",
       "    .dataframe tbody tr th {\n",
       "        vertical-align: top;\n",
       "    }\n",
       "\n",
       "    .dataframe thead th {\n",
       "        text-align: right;\n",
       "    }\n",
       "</style>\n",
       "<table border=\"1\" class=\"dataframe\">\n",
       "  <thead>\n",
       "    <tr style=\"text-align: right;\">\n",
       "      <th></th>\n",
       "      <th>Order ID</th>\n",
       "      <th>Product</th>\n",
       "      <th>Quantity Ordered</th>\n",
       "      <th>Price Each</th>\n",
       "      <th>Order Date</th>\n",
       "      <th>Purchase Address</th>\n",
       "      <th>Month</th>\n",
       "      <th>Sales</th>\n",
       "      <th>City</th>\n",
       "      <th>Hour</th>\n",
       "    </tr>\n",
       "  </thead>\n",
       "  <tbody>\n",
       "    <tr>\n",
       "      <th>0</th>\n",
       "      <td>295665</td>\n",
       "      <td>Macbook Pro Laptop</td>\n",
       "      <td>1</td>\n",
       "      <td>1700.0</td>\n",
       "      <td>2019-12-30 00:01:00</td>\n",
       "      <td>136 Church St, New York City, NY 10001</td>\n",
       "      <td>12</td>\n",
       "      <td>1700.0</td>\n",
       "      <td>New York City</td>\n",
       "      <td>0</td>\n",
       "    </tr>\n",
       "    <tr>\n",
       "      <th>1</th>\n",
       "      <td>295666</td>\n",
       "      <td>LG Washing Machine</td>\n",
       "      <td>1</td>\n",
       "      <td>600.0</td>\n",
       "      <td>2019-12-29 07:03:00</td>\n",
       "      <td>562 2nd St, New York City, NY 10001</td>\n",
       "      <td>12</td>\n",
       "      <td>600.0</td>\n",
       "      <td>New York City</td>\n",
       "      <td>7</td>\n",
       "    </tr>\n",
       "  </tbody>\n",
       "</table>\n",
       "</div>"
      ],
      "text/plain": [
       "   Order ID             Product  Quantity Ordered  Price Each  \\\n",
       "0    295665  Macbook Pro Laptop                 1      1700.0   \n",
       "1    295666  LG Washing Machine                 1       600.0   \n",
       "\n",
       "            Order Date                        Purchase Address  Month   Sales  \\\n",
       "0  2019-12-30 00:01:00  136 Church St, New York City, NY 10001     12  1700.0   \n",
       "1  2019-12-29 07:03:00     562 2nd St, New York City, NY 10001     12   600.0   \n",
       "\n",
       "             City  Hour  \n",
       "0   New York City     0  \n",
       "1   New York City     7  "
      ]
     },
     "execution_count": 2,
     "metadata": {},
     "output_type": "execute_result"
    }
   ],
   "source": [
    "import pandas as pd\n",
    "url = \"https://raw.githubusercontent.com/analytics-engineering-jigsaw/data-visualization/main/2-storytelling/1-what-to-focus-on/sales_data.csv\"\n",
    "# url = \"./sales_data.csv\"\n",
    "df = pd.read_csv(url, index_col = 0)\n",
    "df[:2]"
   ]
  },
  {
   "cell_type": "markdown",
   "id": "59cb289b-08a9-4a61-8489-91086073e177",
   "metadata": {},
   "source": [
    "In this lesson, we'll work through some common methods for exploring our data.  Essentially, a good way to explore our data is with grouping our data by different features (ie columns).  \n",
    "\n",
    "So let's do that in this dataset, by aggregating our revenue by product."
   ]
  },
  {
   "cell_type": "markdown",
   "id": "6f111c42-1bb9-49fd-be14-7cc29cddc7a9",
   "metadata": {},
   "source": [
    "* Total rev per product"
   ]
  },
  {
   "cell_type": "markdown",
   "id": "97e888b7-673f-43ea-abf1-a72566677bb9",
   "metadata": {},
   "source": [
    "> Begin by writing code that returns the average revenue of each product.  You can use the `Price Each` column for this -- sort from most to least avg revenue."
   ]
  },
  {
   "cell_type": "code",
   "execution_count": 3,
   "id": "1bea2201-5d1a-4a44-8c34-d0450afa566d",
   "metadata": {},
   "outputs": [
    {
     "data": {
      "text/html": [
       "<div>\n",
       "<style scoped>\n",
       "    .dataframe tbody tr th:only-of-type {\n",
       "        vertical-align: middle;\n",
       "    }\n",
       "\n",
       "    .dataframe tbody tr th {\n",
       "        vertical-align: top;\n",
       "    }\n",
       "\n",
       "    .dataframe thead th {\n",
       "        text-align: right;\n",
       "    }\n",
       "</style>\n",
       "<table border=\"1\" class=\"dataframe\">\n",
       "  <thead>\n",
       "    <tr style=\"text-align: right;\">\n",
       "      <th></th>\n",
       "      <th>sum</th>\n",
       "    </tr>\n",
       "    <tr>\n",
       "      <th>Product</th>\n",
       "      <th></th>\n",
       "    </tr>\n",
       "  </thead>\n",
       "  <tbody>\n",
       "    <tr>\n",
       "      <th>Macbook Pro Laptop</th>\n",
       "      <td>8030800.00</td>\n",
       "    </tr>\n",
       "    <tr>\n",
       "      <th>iPhone</th>\n",
       "      <td>4789400.00</td>\n",
       "    </tr>\n",
       "    <tr>\n",
       "      <th>ThinkPad Laptop</th>\n",
       "      <td>4127958.72</td>\n",
       "    </tr>\n",
       "  </tbody>\n",
       "</table>\n",
       "</div>"
      ],
      "text/plain": [
       "                           sum\n",
       "Product                       \n",
       "Macbook Pro Laptop  8030800.00\n",
       "iPhone              4789400.00\n",
       "ThinkPad Laptop     4127958.72"
      ]
     },
     "execution_count": 3,
     "metadata": {},
     "output_type": "execute_result"
    }
   ],
   "source": [
    "# total revenue per product\n",
    "\n",
    "top_products = df.groupby(['Product'])['Price Each'].agg(['sum']).sort_values('sum', ascending = False)\n",
    "top_products[:3]\n",
    "\n",
    "# \tsum\n",
    "# Product\t\n",
    "# Macbook Pro Laptop\t8030800.00\n",
    "# iPhone\t4789400.00\n",
    "# ThinkPad Laptop\t4127958.72"
   ]
  },
  {
   "cell_type": "markdown",
   "id": "4bae5e5b-9d48-41fd-9eca-3c564717ebb2",
   "metadata": {},
   "source": [
    "* Avg pct of total per product"
   ]
  },
  {
   "cell_type": "markdown",
   "id": "7cd49083-17a3-47f9-99da-c6fb5ec83d34",
   "metadata": {},
   "source": [
    "> Then return the average *percent* of total revenue per product."
   ]
  },
  {
   "cell_type": "code",
   "execution_count": 34,
   "id": "2de115e9-38b9-4fde-9402-822dbe3f950b",
   "metadata": {},
   "outputs": [
    {
     "data": {
      "text/plain": [
       "Product\n",
       "Macbook Pro Laptop    0.234208\n",
       "iPhone                0.139677\n",
       "ThinkPad Laptop       0.120387\n",
       "Name: sum, dtype: float64"
      ]
     },
     "execution_count": 34,
     "metadata": {},
     "output_type": "execute_result"
    }
   ],
   "source": [
    "pct = top_products['sum']/top_products['sum'].sum()\n",
    "pct[:3]\n",
    "\n",
    "# Product\n",
    "# Macbook Pro Laptop    0.234208\n",
    "# iPhone                0.139677\n",
    "# ThinkPad Laptop       0.120387\n",
    "# Name: sum, dtype: float64"
   ]
  },
  {
   "cell_type": "markdown",
   "id": "edd1b5d9-b5a6-47c4-a204-356d6253db2c",
   "metadata": {},
   "source": [
    "And from here, calculate a running total of the percent of revenue of each product:"
   ]
  },
  {
   "cell_type": "code",
   "execution_count": 36,
   "id": "a2a7752b-a69a-4fbc-8ca6-a91a4d104349",
   "metadata": {},
   "outputs": [
    {
     "data": {
      "text/plain": [
       "Product\n",
       "Macbook Pro Laptop    0.234208\n",
       "iPhone                0.373885\n",
       "ThinkPad Laptop       0.494272\n",
       "Name: sum, dtype: float64"
      ]
     },
     "execution_count": 36,
     "metadata": {},
     "output_type": "execute_result"
    }
   ],
   "source": [
    "cum_pct = top_products['sum'].cumsum()/top_products['sum'].sum()\n",
    "cum_pct[:3]\n",
    "\n",
    "# Product\n",
    "# Macbook Pro Laptop    0.234208\n",
    "# iPhone                0.373885\n",
    "# ThinkPad Laptop       0.494272\n",
    "# Name: sum, dtype: float64"
   ]
  },
  {
   "cell_type": "markdown",
   "id": "98923ca3-5ca9-48a2-b0e3-26adebb00834",
   "metadata": {},
   "source": [
    "### Resources\n",
    "\n",
    "[Sales Product Data](https://www.kaggle.com/datasets/knightbearr/sales-product-data)\n",
    "\n",
    "[Unit Economics](https://www.paddle.com/resources/unit-economics)\n",
    "\n",
    "[Olist Dataset Multitables](https://www.kaggle.com/datasets/olistbr/brazilian-ecommerce)\n"
   ]
  }
 ],
 "metadata": {
  "kernelspec": {
   "display_name": "Python 3 (ipykernel)",
   "language": "python",
   "name": "python3"
  },
  "language_info": {
   "codemirror_mode": {
    "name": "ipython",
    "version": 3
   },
   "file_extension": ".py",
   "mimetype": "text/x-python",
   "name": "python",
   "nbconvert_exporter": "python",
   "pygments_lexer": "ipython3",
   "version": "3.9.12"
  }
 },
 "nbformat": 4,
 "nbformat_minor": 5
}
