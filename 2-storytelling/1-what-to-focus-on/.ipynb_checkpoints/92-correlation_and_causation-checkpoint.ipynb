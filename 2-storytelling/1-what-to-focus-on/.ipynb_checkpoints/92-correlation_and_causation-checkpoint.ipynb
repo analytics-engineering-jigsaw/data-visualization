{
 "cells": [
  {
   "cell_type": "markdown",
   "metadata": {
    "id": "Uzkmn4Ygem-o"
   },
   "source": [
    "# Digging Deeper with Scatter Plots"
   ]
  },
  {
   "cell_type": "markdown",
   "metadata": {
    "id": "CaJ-kgCRem-p"
   },
   "source": [
    "### Introduction"
   ]
  },
  {
   "cell_type": "markdown",
   "metadata": {},
   "source": [
    "In this lesson, we'll go further in using scatter plots to explore our data.  We'll also talk about how we should be careful about what conclusions we can draw from such data."
   ]
  },
  {
   "cell_type": "markdown",
   "metadata": {},
   "source": [
    "### Plotting Scatter Plots"
   ]
  },
  {
   "cell_type": "markdown",
   "metadata": {},
   "source": [
    "So far we have mainly performed our plotting through categorical variables, and have used this to see where a target -- like revenue -- was most present.\n",
    "\n",
    "For example, if we look at our imdb movies dataset, we saw that our revenue was highest with action movies."
   ]
  },
  {
   "cell_type": "code",
   "execution_count": 2,
   "metadata": {},
   "outputs": [
    {
     "data": {
      "text/html": [
       "<div>\n",
       "<style scoped>\n",
       "    .dataframe tbody tr th:only-of-type {\n",
       "        vertical-align: middle;\n",
       "    }\n",
       "\n",
       "    .dataframe tbody tr th {\n",
       "        vertical-align: top;\n",
       "    }\n",
       "\n",
       "    .dataframe thead th {\n",
       "        text-align: right;\n",
       "    }\n",
       "</style>\n",
       "<table border=\"1\" class=\"dataframe\">\n",
       "  <thead>\n",
       "    <tr style=\"text-align: right;\">\n",
       "      <th></th>\n",
       "      <th>title</th>\n",
       "      <th>genre</th>\n",
       "      <th>budget</th>\n",
       "      <th>runtime</th>\n",
       "      <th>year</th>\n",
       "      <th>month</th>\n",
       "      <th>revenue</th>\n",
       "    </tr>\n",
       "  </thead>\n",
       "  <tbody>\n",
       "    <tr>\n",
       "      <th>0</th>\n",
       "      <td>Oliver Twist</td>\n",
       "      <td>Crime</td>\n",
       "      <td>50000000</td>\n",
       "      <td>130.0</td>\n",
       "      <td>2005</td>\n",
       "      <td>9</td>\n",
       "      <td>42093706</td>\n",
       "    </tr>\n",
       "    <tr>\n",
       "      <th>1</th>\n",
       "      <td>X-Men: Apocalypse</td>\n",
       "      <td>Science Fiction</td>\n",
       "      <td>178000000</td>\n",
       "      <td>144.0</td>\n",
       "      <td>2016</td>\n",
       "      <td>5</td>\n",
       "      <td>543934787</td>\n",
       "    </tr>\n",
       "    <tr>\n",
       "      <th>2</th>\n",
       "      <td>Man on the Moon</td>\n",
       "      <td>Comedy</td>\n",
       "      <td>82000000</td>\n",
       "      <td>118.0</td>\n",
       "      <td>1999</td>\n",
       "      <td>12</td>\n",
       "      <td>47434430</td>\n",
       "    </tr>\n",
       "  </tbody>\n",
       "</table>\n",
       "</div>"
      ],
      "text/plain": [
       "               title            genre     budget  runtime  year  month  \\\n",
       "0       Oliver Twist            Crime   50000000    130.0  2005      9   \n",
       "1  X-Men: Apocalypse  Science Fiction  178000000    144.0  2016      5   \n",
       "2    Man on the Moon           Comedy   82000000    118.0  1999     12   \n",
       "\n",
       "     revenue  \n",
       "0   42093706  \n",
       "1  543934787  \n",
       "2   47434430  "
      ]
     },
     "execution_count": 2,
     "metadata": {},
     "output_type": "execute_result"
    }
   ],
   "source": [
    "import pandas as pd\n",
    "url = \"https://raw.githubusercontent.com/jigsawlabs-student/tech-interview/main/movies.csv\"\n",
    "movies_df = pd.read_csv(url)\n",
    "movies_df[:3]"
   ]
  },
  {
   "cell_type": "code",
   "execution_count": 8,
   "metadata": {},
   "outputs": [],
   "source": [
    "recent_movies_df = movies_df[(movies_df['year'] == 2015) | (movies_df['year'] == 2014)]"
   ]
  },
  {
   "cell_type": "code",
   "execution_count": 11,
   "metadata": {},
   "outputs": [
    {
     "data": {
      "image/png": "[encoded data removed]",
      "text/plain": [
       "<Figure size 1400x200 with 1 Axes>"
      ]
     },
     "metadata": {},
     "output_type": "display_data"
    }
   ],
   "source": [
    "from item_lib import build_and_print\n",
    "revenue_by_genre = build_and_print(recent_movies_df, cols = ['genre'], target = 'revenue', agg_name = 'total revenue')"
   ]
  },
  {
   "cell_type": "markdown",
   "metadata": {},
   "source": [
    "Now from here, we also produce a scatter plot of budget versus revenue. "
   ]
  },
  {
   "cell_type": "code",
   "execution_count": 13,
   "metadata": {},
   "outputs": [
    {
     "data": {
      "text/plain": [
       "<AxesSubplot: xlabel='budget', ylabel='revenue'>"
      ]
     },
     "execution_count": 13,
     "metadata": {},
     "output_type": "execute_result"
    },
    {
     "data": {
      "image/png": "[encoded data removed]",
      "text/plain": [
       "<Figure size 1000x200 with 1 Axes>"
      ]
     },
     "metadata": {},
     "output_type": "display_data"
    }
   ],
   "source": [
    "recent_movies_df.plot(kind = 'scatter', x = 'budget', y = 'revenue', figsize = (10, 2))"
   ]
  },
  {
   "cell_type": "markdown",
   "metadata": {},
   "source": [
    "Notice with a numerical value like budget, we were able to plot our budget and revenue data directly.  We did not need to first aggregate and then plot the percentage of revenue like we did with genre movies."
   ]
  },
  {
   "cell_type": "markdown",
   "metadata": {},
   "source": [
    "So looking at the above, it appears that the higher the budget, the higher the revenue.  And we may want to separately distinguish our action movies from non action movies. \n",
    "\n",
    "We can do so by first adding a boolean column for `is_action`, and then use color, `c` to indicate color vs not. "
   ]
  },
  {
   "cell_type": "code",
   "execution_count": 15,
   "metadata": {},
   "outputs": [],
   "source": [
    "is_action = recent_movies_df.genre == 'Action'\n",
    "recent_movies_is_action_df = recent_movies_df.assign(is_action = is_action)"
   ]
  },
  {
   "cell_type": "code",
   "execution_count": 21,
   "metadata": {},
   "outputs": [
    {
     "data": {
      "text/html": [
       "<div>\n",
       "<style scoped>\n",
       "    .dataframe tbody tr th:only-of-type {\n",
       "        vertical-align: middle;\n",
       "    }\n",
       "\n",
       "    .dataframe tbody tr th {\n",
       "        vertical-align: top;\n",
       "    }\n",
       "\n",
       "    .dataframe thead th {\n",
       "        text-align: right;\n",
       "    }\n",
       "</style>\n",
       "<table border=\"1\" class=\"dataframe\">\n",
       "  <thead>\n",
       "    <tr style=\"text-align: right;\">\n",
       "      <th></th>\n",
       "      <th>title</th>\n",
       "      <th>genre</th>\n",
       "      <th>budget</th>\n",
       "      <th>runtime</th>\n",
       "      <th>year</th>\n",
       "      <th>month</th>\n",
       "      <th>revenue</th>\n",
       "      <th>is_action</th>\n",
       "    </tr>\n",
       "  </thead>\n",
       "  <tbody>\n",
       "    <tr>\n",
       "      <th>413</th>\n",
       "      <td>Jurassic World</td>\n",
       "      <td>Action</td>\n",
       "      <td>150000000</td>\n",
       "      <td>124.0</td>\n",
       "      <td>2015</td>\n",
       "      <td>6</td>\n",
       "      <td>1513528810</td>\n",
       "      <td>True</td>\n",
       "    </tr>\n",
       "    <tr>\n",
       "      <th>1589</th>\n",
       "      <td>Furious 7</td>\n",
       "      <td>Action</td>\n",
       "      <td>190000000</td>\n",
       "      <td>137.0</td>\n",
       "      <td>2015</td>\n",
       "      <td>4</td>\n",
       "      <td>1506249360</td>\n",
       "      <td>True</td>\n",
       "    </tr>\n",
       "  </tbody>\n",
       "</table>\n",
       "</div>"
      ],
      "text/plain": [
       "               title   genre     budget  runtime  year  month     revenue  \\\n",
       "413   Jurassic World  Action  150000000    124.0  2015      6  1513528810   \n",
       "1589       Furious 7  Action  190000000    137.0  2015      4  1506249360   \n",
       "\n",
       "      is_action  \n",
       "413        True  \n",
       "1589       True  "
      ]
     },
     "execution_count": 21,
     "metadata": {},
     "output_type": "execute_result"
    }
   ],
   "source": [
    "recent_movies_is_action_df.sort_values('revenue', ascending = False)[:2]"
   ]
  },
  {
   "cell_type": "code",
   "execution_count": 26,
   "metadata": {},
   "outputs": [],
   "source": [
    "colors = {True:'blue', False:'orange'}"
   ]
  },
  {
   "cell_type": "code",
   "execution_count": 28,
   "metadata": {},
   "outputs": [
    {
     "data": {
      "text/plain": [
       "<matplotlib.legend.Legend at 0x12ccfeb80>"
      ]
     },
     "execution_count": 28,
     "metadata": {},
     "output_type": "execute_result"
    },
    {
     "data": {
      "image/png": "[encoded data removed]",
      "text/plain": [
       "<Figure size 1000x200 with 1 Axes>"
      ]
     },
     "metadata": {},
     "output_type": "display_data"
    }
   ],
   "source": [
    "plt = recent_movies_is_action_df.plot(kind = 'scatter', x = 'budget', y = 'revenue',\n",
    "                                c = is_action.map(colors), figsize = (10, 2), legend = True)\n",
    "\n",
    "plt.legend(labels = ['Not Action', 'Action'])"
   ]
  },
  {
   "cell_type": "markdown",
   "metadata": {},
   "source": [
    "So it appears that action movies to have a higher ceiling than our non-action movies, in terms of revenue.\n",
    "\n",
    "But is it fair to say that producing an action movie *causes* an increase in revenue, or increasing the budget *causes* an increase in revenue?  The answer is no."
   ]
  },
  {
   "cell_type": "markdown",
   "metadata": {
    "id": "VmST2vJ5em-q"
   },
   "source": [
    "### Correlation"
   ]
  },
  {
   "cell_type": "markdown",
   "metadata": {
    "id": "_7Lz-P8tem-q"
   },
   "source": [
    "All we can do from the above so far is say that an increase in revenue is correlated or associated with an increase in revenue."
   ]
  },
  {
   "cell_type": "markdown",
   "metadata": {
    "id": "Ie0xOkaMem-q"
   },
   "source": [
    "> **Correlation** There is a correlation between two variables $X$ and $Y$, when knowing the value of one gives you information about the value of another."
   ]
  },
  {
   "cell_type": "markdown",
   "metadata": {},
   "source": [
    "Provibg causation is much harder."
   ]
  },
  {
   "cell_type": "markdown",
   "metadata": {
    "id": "TtZ89mqgem-q"
   },
   "source": [
    "> An explanatory variable X has a causal link to Y when the value of X **effects** the value of Y."
   ]
  },
  {
   "cell_type": "markdown",
   "metadata": {
    "id": "25coHKRgem-q"
   },
   "source": [
    "Now oftentimes the first indication that there may be a causal link between two variables is through correlation.  But as we'll see there are many reasons that a variable may be *correlated* with an outcome, even without causal link to the outcome."
   ]
  },
  {
   "cell_type": "markdown",
   "metadata": {
    "id": "nmmLT9-Wem-q"
   },
   "source": [
    "For example, let's look at a chart of education attainment and income."
   ]
  },
  {
   "cell_type": "code",
   "execution_count": null,
   "metadata": {
    "id": "OD_2MQGvem-r",
    "outputId": "754f9b91-a81b-42bc-dee4-7326ce2a25c1"
   },
   "outputs": [
    {
     "data": {
      "application/vnd.plotly.v1+json": {
       "config": {
        "plotlyServerURL": "https://plot.ly"
       },
       "data": [
        {
         "type": "bar",
         "x": [
          "less than HS diploma",
          "HS diploma",
          "Associate's Deg",
          "Bachelor's Deg",
          "Master's Deg",
          "Prof Deg",
          "Doctoral Deg"
         ],
         "y": [
          493,
          678,
          738,
          798,
          1137,
          1341,
          1730,
          1623
         ]
        }
       ],
       "layout": {
        "autosize": true,
        "template": {
         "data": {
          "bar": [
           {
            "error_x": {
             "color": "#2a3f5f"
            },
            "error_y": {
             "color": "#2a3f5f"
            },
            "marker": {
             "line": {
              "color": "#E5ECF6",
              "width": 0.5
             }
            },
            "type": "bar"
           }
          ],
          "barpolar": [
           {
            "marker": {
             "line": {
              "color": "#E5ECF6",
              "width": 0.5
             }
            },
            "type": "barpolar"
           }
          ],
          "carpet": [
           {
            "aaxis": {
             "endlinecolor": "#2a3f5f",
             "gridcolor": "white",
             "linecolor": "white",
             "minorgridcolor": "white",
             "startlinecolor": "#2a3f5f"
            },
            "baxis": {
             "endlinecolor": "#2a3f5f",
             "gridcolor": "white",
             "linecolor": "white",
             "minorgridcolor": "white",
             "startlinecolor": "#2a3f5f"
            },
            "type": "carpet"
           }
          ],
          "choropleth": [
           {
            "colorbar": {
             "outlinewidth": 0,
             "ticks": ""
            },
            "type": "choropleth"
           }
          ],
          "contour": [
           {
            "colorbar": {
             "outlinewidth": 0,
             "ticks": ""
            },
            "colorscale": [
             [
              0,
              "#0d0887"
             ],
             [
              0.1111111111111111,
              "#46039f"
             ],
             [
              0.2222222222222222,
              "#7201a8"
             ],
             [
              0.3333333333333333,
              "#9c179e"
             ],
             [
              0.4444444444444444,
              "#bd3786"
             ],
             [
              0.5555555555555556,
              "#d8576b"
             ],
             [
              0.6666666666666666,
              "#ed7953"
             ],
             [
              0.7777777777777778,
              "#fb9f3a"
             ],
             [
              0.8888888888888888,
              "#fdca26"
             ],
             [
              1,
              "#f0f921"
             ]
            ],
            "type": "contour"
           }
          ],
          "contourcarpet": [
           {
            "colorbar": {
             "outlinewidth": 0,
             "ticks": ""
            },
            "type": "contourcarpet"
           }
          ],
          "heatmap": [
           {
            "colorbar": {
             "outlinewidth": 0,
             "ticks": ""
            },
            "colorscale": [
             [
              0,
              "#0d0887"
             ],
             [
              0.1111111111111111,
              "#46039f"
             ],
             [
              0.2222222222222222,
              "#7201a8"
             ],
             [
              0.3333333333333333,
              "#9c179e"
             ],
             [
              0.4444444444444444,
              "#bd3786"
             ],
             [
              0.5555555555555556,
              "#d8576b"
             ],
             [
              0.6666666666666666,
              "#ed7953"
             ],
             [
              0.7777777777777778,
              "#fb9f3a"
             ],
             [
              0.8888888888888888,
              "#fdca26"
             ],
             [
              1,
              "#f0f921"
             ]
            ],
            "type": "heatmap"
           }
          ],
          "heatmapgl": [
           {
            "colorbar": {
             "outlinewidth": 0,
             "ticks": ""
            },
            "colorscale": [
             [
              0,
              "#0d0887"
             ],
             [
              0.1111111111111111,
              "#46039f"
             ],
             [
              0.2222222222222222,
              "#7201a8"
             ],
             [
              0.3333333333333333,
              "#9c179e"
             ],
             [
              0.4444444444444444,
              "#bd3786"
             ],
             [
              0.5555555555555556,
              "#d8576b"
             ],
             [
              0.6666666666666666,
              "#ed7953"
             ],
             [
              0.7777777777777778,
              "#fb9f3a"
             ],
             [
              0.8888888888888888,
              "#fdca26"
             ],
             [
              1,
              "#f0f921"
             ]
            ],
            "type": "heatmapgl"
           }
          ],
          "histogram": [
           {
            "marker": {
             "colorbar": {
              "outlinewidth": 0,
              "ticks": ""
             }
            },
            "type": "histogram"
           }
          ],
          "histogram2d": [
           {
            "colorbar": {
             "outlinewidth": 0,
             "ticks": ""
            },
            "colorscale": [
             [
              0,
              "#0d0887"
             ],
             [
              0.1111111111111111,
              "#46039f"
             ],
             [
              0.2222222222222222,
              "#7201a8"
             ],
             [
              0.3333333333333333,
              "#9c179e"
             ],
             [
              0.4444444444444444,
              "#bd3786"
             ],
             [
              0.5555555555555556,
              "#d8576b"
             ],
             [
              0.6666666666666666,
              "#ed7953"
             ],
             [
              0.7777777777777778,
              "#fb9f3a"
             ],
             [
              0.8888888888888888,
              "#fdca26"
             ],
             [
              1,
              "#f0f921"
             ]
            ],
            "type": "histogram2d"
           }
          ],
          "histogram2dcontour": [
           {
            "colorbar": {
             "outlinewidth": 0,
             "ticks": ""
            },
            "colorscale": [
             [
              0,
              "#0d0887"
             ],
             [
              0.1111111111111111,
              "#46039f"
             ],
             [
              0.2222222222222222,
              "#7201a8"
             ],
             [
              0.3333333333333333,
              "#9c179e"
             ],
             [
              0.4444444444444444,
              "#bd3786"
             ],
             [
              0.5555555555555556,
              "#d8576b"
             ],
             [
              0.6666666666666666,
              "#ed7953"
             ],
             [
              0.7777777777777778,
              "#fb9f3a"
             ],
             [
              0.8888888888888888,
              "#fdca26"
             ],
             [
              1,
              "#f0f921"
             ]
            ],
            "type": "histogram2dcontour"
           }
          ],
          "mesh3d": [
           {
            "colorbar": {
             "outlinewidth": 0,
             "ticks": ""
            },
            "type": "mesh3d"
           }
          ],
          "parcoords": [
           {
            "line": {
             "colorbar": {
              "outlinewidth": 0,
              "ticks": ""
             }
            },
            "type": "parcoords"
           }
          ],
          "pie": [
           {
            "automargin": true,
            "type": "pie"
           }
          ],
          "scatter": [
           {
            "marker": {
             "colorbar": {
              "outlinewidth": 0,
              "ticks": ""
             }
            },
            "type": "scatter"
           }
          ],
          "scatter3d": [
           {
            "line": {
             "colorbar": {
              "outlinewidth": 0,
              "ticks": ""
             }
            },
            "marker": {
             "colorbar": {
              "outlinewidth": 0,
              "ticks": ""
             }
            },
            "type": "scatter3d"
           }
          ],
          "scattercarpet": [
           {
            "marker": {
             "colorbar": {
              "outlinewidth": 0,
              "ticks": ""
             }
            },
            "type": "scattercarpet"
           }
          ],
          "scattergeo": [
           {
            "marker": {
             "colorbar": {
              "outlinewidth": 0,
              "ticks": ""
             }
            },
            "type": "scattergeo"
           }
          ],
          "scattergl": [
           {
            "marker": {
             "colorbar": {
              "outlinewidth": 0,
              "ticks": ""
             }
            },
            "type": "scattergl"
           }
          ],
          "scattermapbox": [
           {
            "marker": {
             "colorbar": {
              "outlinewidth": 0,
              "ticks": ""
             }
            },
            "type": "scattermapbox"
           }
          ],
          "scatterpolar": [
           {
            "marker": {
             "colorbar": {
              "outlinewidth": 0,
              "ticks": ""
             }
            },
            "type": "scatterpolar"
           }
          ],
          "scatterpolargl": [
           {
            "marker": {
             "colorbar": {
              "outlinewidth": 0,
              "ticks": ""
             }
            },
            "type": "scatterpolargl"
           }
          ],
          "scatterternary": [
           {
            "marker": {
             "colorbar": {
              "outlinewidth": 0,
              "ticks": ""
             }
            },
            "type": "scatterternary"
           }
          ],
          "surface": [
           {
            "colorbar": {
             "outlinewidth": 0,
             "ticks": ""
            },
            "colorscale": [
             [
              0,
              "#0d0887"
             ],
             [
              0.1111111111111111,
              "#46039f"
             ],
             [
              0.2222222222222222,
              "#7201a8"
             ],
             [
              0.3333333333333333,
              "#9c179e"
             ],
             [
              0.4444444444444444,
              "#bd3786"
             ],
             [
              0.5555555555555556,
              "#d8576b"
             ],
             [
              0.6666666666666666,
              "#ed7953"
             ],
             [
              0.7777777777777778,
              "#fb9f3a"
             ],
             [
              0.8888888888888888,
              "#fdca26"
             ],
             [
              1,
              "#f0f921"
             ]
            ],
            "type": "surface"
           }
          ],
          "table": [
           {
            "cells": {
             "fill": {
              "color": "#EBF0F8"
             },
             "line": {
              "color": "white"
             }
            },
            "header": {
             "fill": {
              "color": "#C8D4E3"
             },
             "line": {
              "color": "white"
             }
            },
            "type": "table"
           }
          ]
         },
         "layout": {
          "annotationdefaults": {
           "arrowcolor": "#2a3f5f",
           "arrowhead": 0,
           "arrowwidth": 1
          },
          "coloraxis": {
           "colorbar": {
            "outlinewidth": 0,
            "ticks": ""
           }
          },
          "colorscale": {
           "diverging": [
            [
             0,
             "#8e0152"
            ],
            [
             0.1,
             "#c51b7d"
            ],
            [
             0.2,
             "#de77ae"
            ],
            [
             0.3,
             "#f1b6da"
            ],
            [
             0.4,
             "#fde0ef"
            ],
            [
             0.5,
             "#f7f7f7"
            ],
            [
             0.6,
             "#e6f5d0"
            ],
            [
             0.7,
             "#b8e186"
            ],
            [
             0.8,
             "#7fbc41"
            ],
            [
             0.9,
             "#4d9221"
            ],
            [
             1,
             "#276419"
            ]
           ],
           "sequential": [
            [
             0,
             "#0d0887"
            ],
            [
             0.1111111111111111,
             "#46039f"
            ],
            [
             0.2222222222222222,
             "#7201a8"
            ],
            [
             0.3333333333333333,
             "#9c179e"
            ],
            [
             0.4444444444444444,
             "#bd3786"
            ],
            [
             0.5555555555555556,
             "#d8576b"
            ],
            [
             0.6666666666666666,
             "#ed7953"
            ],
            [
             0.7777777777777778,
             "#fb9f3a"
            ],
            [
             0.8888888888888888,
             "#fdca26"
            ],
            [
             1,
             "#f0f921"
            ]
           ],
           "sequentialminus": [
            [
             0,
             "#0d0887"
            ],
            [
             0.1111111111111111,
             "#46039f"
            ],
            [
             0.2222222222222222,
             "#7201a8"
            ],
            [
             0.3333333333333333,
             "#9c179e"
            ],
            [
             0.4444444444444444,
             "#bd3786"
            ],
            [
             0.5555555555555556,
             "#d8576b"
            ],
            [
             0.6666666666666666,
             "#ed7953"
            ],
            [
             0.7777777777777778,
             "#fb9f3a"
            ],
            [
             0.8888888888888888,
             "#fdca26"
            ],
            [
             1,
             "#f0f921"
            ]
           ]
          },
          "colorway": [
           "#636efa",
           "#EF553B",
           "#00cc96",
           "#ab63fa",
           "#FFA15A",
           "#19d3f3",
           "#FF6692",
           "#B6E880",
           "#FF97FF",
           "#FECB52"
          ],
          "font": {
           "color": "#2a3f5f"
          },
          "geo": {
           "bgcolor": "white",
           "lakecolor": "white",
           "landcolor": "#E5ECF6",
           "showlakes": true,
           "showland": true,
           "subunitcolor": "white"
          },
          "hoverlabel": {
           "align": "left"
          },
          "hovermode": "closest",
          "mapbox": {
           "style": "light"
          },
          "paper_bgcolor": "white",
          "plot_bgcolor": "#E5ECF6",
          "polar": {
           "angularaxis": {
            "gridcolor": "white",
            "linecolor": "white",
            "ticks": ""
           },
           "bgcolor": "#E5ECF6",
           "radialaxis": {
            "gridcolor": "white",
            "linecolor": "white",
            "ticks": ""
           }
          },
          "scene": {
           "xaxis": {
            "backgroundcolor": "#E5ECF6",
            "gridcolor": "white",
            "gridwidth": 2,
            "linecolor": "white",
            "showbackground": true,
            "ticks": "",
            "zerolinecolor": "white"
           },
           "yaxis": {
            "backgroundcolor": "#E5ECF6",
            "gridcolor": "white",
            "gridwidth": 2,
            "linecolor": "white",
            "showbackground": true,
            "ticks": "",
            "zerolinecolor": "white"
           },
           "zaxis": {
            "backgroundcolor": "#E5ECF6",
            "gridcolor": "white",
            "gridwidth": 2,
            "linecolor": "white",
            "showbackground": true,
            "ticks": "",
            "zerolinecolor": "white"
           }
          },
          "shapedefaults": {
           "line": {
            "color": "#2a3f5f"
           }
          },
          "ternary": {
           "aaxis": {
            "gridcolor": "white",
            "linecolor": "white",
            "ticks": ""
           },
           "baxis": {
            "gridcolor": "white",
            "linecolor": "white",
            "ticks": ""
           },
           "bgcolor": "#E5ECF6",
           "caxis": {
            "gridcolor": "white",
            "linecolor": "white",
            "ticks": ""
           }
          },
          "title": {
           "x": 0.05
          },
          "xaxis": {
           "automargin": true,
           "gridcolor": "white",
           "linecolor": "white",
           "ticks": "",
           "title": {
            "standoff": 15
           },
           "zerolinecolor": "white",
           "zerolinewidth": 2
          },
          "yaxis": {
           "automargin": true,
           "gridcolor": "white",
           "linecolor": "white",
           "ticks": "",
           "title": {
            "standoff": 15
           },
           "zerolinecolor": "white",
           "zerolinewidth": 2
          }
         }
        },
        "title": {
         "text": "Median weekly earnings per education"
        },
        "xaxis": {
         "autorange": true,
         "range": [
          -0.5,
          6.5
         ],
         "title": {
          "text": "education level"
         },
         "type": "category"
        },
        "yaxis": {
         "autorange": true,
         "range": [
          0,
          1821.0526315789473
         ],
         "title": {
          "text": "median weekly earnings"
         },
         "type": "linear"
        }
       }
      },
      "image/png": "[encoded data removed]",
      "text/html": [
       "<div>\n",
       "        \n",
       "        \n",
       "            <div id=\"0419dd27-25be-4aa2-bd8f-7ea3b3791fc3\" class=\"plotly-graph-div\" style=\"height:525px; width:100%;\"></div>\n",
       "            <script type=\"text/javascript\">\n",
       "                require([\"plotly\"], function(Plotly) {\n",
       "                    window.PLOTLYENV=window.PLOTLYENV || {};\n",
       "                    \n",
       "                if (document.getElementById(\"0419dd27-25be-4aa2-bd8f-7ea3b3791fc3\")) {\n",
       "                    Plotly.newPlot(\n",
       "                        '0419dd27-25be-4aa2-bd8f-7ea3b3791fc3',\n",
       "                        [{\"type\": \"bar\", \"x\": [\"less than HS diploma\", \"HS diploma\", \"Associate's Deg\", \"Bachelor's Deg\", \"Master's Deg\", \"Prof Deg\", \"Doctoral Deg\"], \"y\": [493, 678, 738, 798, 1137, 1341, 1730, 1623]}],\n",
       "                        {\"template\": {\"data\": {\"bar\": [{\"error_x\": {\"color\": \"#2a3f5f\"}, \"error_y\": {\"color\": \"#2a3f5f\"}, \"marker\": {\"line\": {\"color\": \"#E5ECF6\", \"width\": 0.5}}, \"type\": \"bar\"}], \"barpolar\": [{\"marker\": {\"line\": {\"color\": \"#E5ECF6\", \"width\": 0.5}}, \"type\": \"barpolar\"}], \"carpet\": [{\"aaxis\": {\"endlinecolor\": \"#2a3f5f\", \"gridcolor\": \"white\", \"linecolor\": \"white\", \"minorgridcolor\": \"white\", \"startlinecolor\": \"#2a3f5f\"}, \"baxis\": {\"endlinecolor\": \"#2a3f5f\", \"gridcolor\": \"white\", \"linecolor\": \"white\", \"minorgridcolor\": \"white\", \"startlinecolor\": \"#2a3f5f\"}, \"type\": \"carpet\"}], \"choropleth\": [{\"colorbar\": {\"outlinewidth\": 0, \"ticks\": \"\"}, \"type\": \"choropleth\"}], \"contour\": [{\"colorbar\": {\"outlinewidth\": 0, \"ticks\": \"\"}, \"colorscale\": [[0.0, \"#0d0887\"], [0.1111111111111111, \"#46039f\"], [0.2222222222222222, \"#7201a8\"], [0.3333333333333333, \"#9c179e\"], [0.4444444444444444, \"#bd3786\"], [0.5555555555555556, \"#d8576b\"], [0.6666666666666666, \"#ed7953\"], [0.7777777777777778, \"#fb9f3a\"], [0.8888888888888888, \"#fdca26\"], [1.0, \"#f0f921\"]], \"type\": \"contour\"}], \"contourcarpet\": [{\"colorbar\": {\"outlinewidth\": 0, \"ticks\": \"\"}, \"type\": \"contourcarpet\"}], \"heatmap\": [{\"colorbar\": {\"outlinewidth\": 0, \"ticks\": \"\"}, \"colorscale\": [[0.0, \"#0d0887\"], [0.1111111111111111, \"#46039f\"], [0.2222222222222222, \"#7201a8\"], [0.3333333333333333, \"#9c179e\"], [0.4444444444444444, \"#bd3786\"], [0.5555555555555556, \"#d8576b\"], [0.6666666666666666, \"#ed7953\"], [0.7777777777777778, \"#fb9f3a\"], [0.8888888888888888, \"#fdca26\"], [1.0, \"#f0f921\"]], \"type\": \"heatmap\"}], \"heatmapgl\": [{\"colorbar\": {\"outlinewidth\": 0, \"ticks\": \"\"}, \"colorscale\": [[0.0, \"#0d0887\"], [0.1111111111111111, \"#46039f\"], [0.2222222222222222, \"#7201a8\"], [0.3333333333333333, \"#9c179e\"], [0.4444444444444444, \"#bd3786\"], [0.5555555555555556, \"#d8576b\"], [0.6666666666666666, \"#ed7953\"], [0.7777777777777778, \"#fb9f3a\"], [0.8888888888888888, \"#fdca26\"], [1.0, \"#f0f921\"]], \"type\": \"heatmapgl\"}], \"histogram\": [{\"marker\": {\"colorbar\": {\"outlinewidth\": 0, \"ticks\": \"\"}}, \"type\": \"histogram\"}], \"histogram2d\": [{\"colorbar\": {\"outlinewidth\": 0, \"ticks\": \"\"}, \"colorscale\": [[0.0, \"#0d0887\"], [0.1111111111111111, \"#46039f\"], [0.2222222222222222, \"#7201a8\"], [0.3333333333333333, \"#9c179e\"], [0.4444444444444444, \"#bd3786\"], [0.5555555555555556, \"#d8576b\"], [0.6666666666666666, \"#ed7953\"], [0.7777777777777778, \"#fb9f3a\"], [0.8888888888888888, \"#fdca26\"], [1.0, \"#f0f921\"]], \"type\": \"histogram2d\"}], \"histogram2dcontour\": [{\"colorbar\": {\"outlinewidth\": 0, \"ticks\": \"\"}, \"colorscale\": [[0.0, \"#0d0887\"], [0.1111111111111111, \"#46039f\"], [0.2222222222222222, \"#7201a8\"], [0.3333333333333333, \"#9c179e\"], [0.4444444444444444, \"#bd3786\"], [0.5555555555555556, \"#d8576b\"], [0.6666666666666666, \"#ed7953\"], [0.7777777777777778, \"#fb9f3a\"], [0.8888888888888888, \"#fdca26\"], [1.0, \"#f0f921\"]], \"type\": \"histogram2dcontour\"}], \"mesh3d\": [{\"colorbar\": {\"outlinewidth\": 0, \"ticks\": \"\"}, \"type\": \"mesh3d\"}], \"parcoords\": [{\"line\": {\"colorbar\": {\"outlinewidth\": 0, \"ticks\": \"\"}}, \"type\": \"parcoords\"}], \"pie\": [{\"automargin\": true, \"type\": \"pie\"}], \"scatter\": [{\"marker\": {\"colorbar\": {\"outlinewidth\": 0, \"ticks\": \"\"}}, \"type\": \"scatter\"}], \"scatter3d\": [{\"line\": {\"colorbar\": {\"outlinewidth\": 0, \"ticks\": \"\"}}, \"marker\": {\"colorbar\": {\"outlinewidth\": 0, \"ticks\": \"\"}}, \"type\": \"scatter3d\"}], \"scattercarpet\": [{\"marker\": {\"colorbar\": {\"outlinewidth\": 0, \"ticks\": \"\"}}, \"type\": \"scattercarpet\"}], \"scattergeo\": [{\"marker\": {\"colorbar\": {\"outlinewidth\": 0, \"ticks\": \"\"}}, \"type\": \"scattergeo\"}], \"scattergl\": [{\"marker\": {\"colorbar\": {\"outlinewidth\": 0, \"ticks\": \"\"}}, \"type\": \"scattergl\"}], \"scattermapbox\": [{\"marker\": {\"colorbar\": {\"outlinewidth\": 0, \"ticks\": \"\"}}, \"type\": \"scattermapbox\"}], \"scatterpolar\": [{\"marker\": {\"colorbar\": {\"outlinewidth\": 0, \"ticks\": \"\"}}, \"type\": \"scatterpolar\"}], \"scatterpolargl\": [{\"marker\": {\"colorbar\": {\"outlinewidth\": 0, \"ticks\": \"\"}}, \"type\": \"scatterpolargl\"}], \"scatterternary\": [{\"marker\": {\"colorbar\": {\"outlinewidth\": 0, \"ticks\": \"\"}}, \"type\": \"scatterternary\"}], \"surface\": [{\"colorbar\": {\"outlinewidth\": 0, \"ticks\": \"\"}, \"colorscale\": [[0.0, \"#0d0887\"], [0.1111111111111111, \"#46039f\"], [0.2222222222222222, \"#7201a8\"], [0.3333333333333333, \"#9c179e\"], [0.4444444444444444, \"#bd3786\"], [0.5555555555555556, \"#d8576b\"], [0.6666666666666666, \"#ed7953\"], [0.7777777777777778, \"#fb9f3a\"], [0.8888888888888888, \"#fdca26\"], [1.0, \"#f0f921\"]], \"type\": \"surface\"}], \"table\": [{\"cells\": {\"fill\": {\"color\": \"#EBF0F8\"}, \"line\": {\"color\": \"white\"}}, \"header\": {\"fill\": {\"color\": \"#C8D4E3\"}, \"line\": {\"color\": \"white\"}}, \"type\": \"table\"}]}, \"layout\": {\"annotationdefaults\": {\"arrowcolor\": \"#2a3f5f\", \"arrowhead\": 0, \"arrowwidth\": 1}, \"coloraxis\": {\"colorbar\": {\"outlinewidth\": 0, \"ticks\": \"\"}}, \"colorscale\": {\"diverging\": [[0, \"#8e0152\"], [0.1, \"#c51b7d\"], [0.2, \"#de77ae\"], [0.3, \"#f1b6da\"], [0.4, \"#fde0ef\"], [0.5, \"#f7f7f7\"], [0.6, \"#e6f5d0\"], [0.7, \"#b8e186\"], [0.8, \"#7fbc41\"], [0.9, \"#4d9221\"], [1, \"#276419\"]], \"sequential\": [[0.0, \"#0d0887\"], [0.1111111111111111, \"#46039f\"], [0.2222222222222222, \"#7201a8\"], [0.3333333333333333, \"#9c179e\"], [0.4444444444444444, \"#bd3786\"], [0.5555555555555556, \"#d8576b\"], [0.6666666666666666, \"#ed7953\"], [0.7777777777777778, \"#fb9f3a\"], [0.8888888888888888, \"#fdca26\"], [1.0, \"#f0f921\"]], \"sequentialminus\": [[0.0, \"#0d0887\"], [0.1111111111111111, \"#46039f\"], [0.2222222222222222, \"#7201a8\"], [0.3333333333333333, \"#9c179e\"], [0.4444444444444444, \"#bd3786\"], [0.5555555555555556, \"#d8576b\"], [0.6666666666666666, \"#ed7953\"], [0.7777777777777778, \"#fb9f3a\"], [0.8888888888888888, \"#fdca26\"], [1.0, \"#f0f921\"]]}, \"colorway\": [\"#636efa\", \"#EF553B\", \"#00cc96\", \"#ab63fa\", \"#FFA15A\", \"#19d3f3\", \"#FF6692\", \"#B6E880\", \"#FF97FF\", \"#FECB52\"], \"font\": {\"color\": \"#2a3f5f\"}, \"geo\": {\"bgcolor\": \"white\", \"lakecolor\": \"white\", \"landcolor\": \"#E5ECF6\", \"showlakes\": true, \"showland\": true, \"subunitcolor\": \"white\"}, \"hoverlabel\": {\"align\": \"left\"}, \"hovermode\": \"closest\", \"mapbox\": {\"style\": \"light\"}, \"paper_bgcolor\": \"white\", \"plot_bgcolor\": \"#E5ECF6\", \"polar\": {\"angularaxis\": {\"gridcolor\": \"white\", \"linecolor\": \"white\", \"ticks\": \"\"}, \"bgcolor\": \"#E5ECF6\", \"radialaxis\": {\"gridcolor\": \"white\", \"linecolor\": \"white\", \"ticks\": \"\"}}, \"scene\": {\"xaxis\": {\"backgroundcolor\": \"#E5ECF6\", \"gridcolor\": \"white\", \"gridwidth\": 2, \"linecolor\": \"white\", \"showbackground\": true, \"ticks\": \"\", \"zerolinecolor\": \"white\"}, \"yaxis\": {\"backgroundcolor\": \"#E5ECF6\", \"gridcolor\": \"white\", \"gridwidth\": 2, \"linecolor\": \"white\", \"showbackground\": true, \"ticks\": \"\", \"zerolinecolor\": \"white\"}, \"zaxis\": {\"backgroundcolor\": \"#E5ECF6\", \"gridcolor\": \"white\", \"gridwidth\": 2, \"linecolor\": \"white\", \"showbackground\": true, \"ticks\": \"\", \"zerolinecolor\": \"white\"}}, \"shapedefaults\": {\"line\": {\"color\": \"#2a3f5f\"}}, \"ternary\": {\"aaxis\": {\"gridcolor\": \"white\", \"linecolor\": \"white\", \"ticks\": \"\"}, \"baxis\": {\"gridcolor\": \"white\", \"linecolor\": \"white\", \"ticks\": \"\"}, \"bgcolor\": \"#E5ECF6\", \"caxis\": {\"gridcolor\": \"white\", \"linecolor\": \"white\", \"ticks\": \"\"}}, \"title\": {\"x\": 0.05}, \"xaxis\": {\"automargin\": true, \"gridcolor\": \"white\", \"linecolor\": \"white\", \"ticks\": \"\", \"title\": {\"standoff\": 15}, \"zerolinecolor\": \"white\", \"zerolinewidth\": 2}, \"yaxis\": {\"automargin\": true, \"gridcolor\": \"white\", \"linecolor\": \"white\", \"ticks\": \"\", \"title\": {\"standoff\": 15}, \"zerolinecolor\": \"white\", \"zerolinewidth\": 2}}}, \"title\": {\"text\": \"Median weekly earnings per education\"}, \"xaxis\": {\"title\": {\"text\": \"education level\"}}, \"yaxis\": {\"title\": {\"text\": \"median weekly earnings\"}}},\n",
       "                        {\"responsive\": true}\n",
       "                    ).then(function(){\n",
       "                            \n",
       "var gd = document.getElementById('0419dd27-25be-4aa2-bd8f-7ea3b3791fc3');\n",
       "var x = new MutationObserver(function (mutations, observer) {{\n",
       "        var display = window.getComputedStyle(gd).display;\n",
       "        if (!display || display === 'none') {{\n",
       "            console.log([gd, 'removed!']);\n",
       "            Plotly.purge(gd);\n",
       "            observer.disconnect();\n",
       "        }}\n",
       "}});\n",
       "\n",
       "// Listen for the removal of the full notebook cells\n",
       "var notebookContainer = gd.closest('#notebook-container');\n",
       "if (notebookContainer) {{\n",
       "    x.observe(notebookContainer, {childList: true});\n",
       "}}\n",
       "\n",
       "// Listen for the clearing of the current output cell\n",
       "var outputEl = gd.closest('.output');\n",
       "if (outputEl) {{\n",
       "    x.observe(outputEl, {childList: true});\n",
       "}}\n",
       "\n",
       "                        })\n",
       "                };\n",
       "                });\n",
       "            </script>\n",
       "        </div>"
      ]
     },
     "metadata": {},
     "output_type": "display_data"
    }
   ],
   "source": [
    "import plotly.graph_objects as go\n",
    "education_levels = ['less than HS diploma', 'HS diploma', \"Associate's Deg\", \"Bachelor's Deg\", \"Master's Deg\", \"Prof Deg\", \"Doctoral Deg\"]\n",
    "earnings = [493, 678, 738, 798, 1137, 1341, 1730, 1623]\n",
    "layout = {\n",
    "    'yaxis': {'title': 'median weekly earnings'}, 'title': 'Median weekly earnings per education',\n",
    "    'xaxis': {'title': 'education level'},\n",
    "}\n",
    "scatter = go.Bar(x = education_levels, y = earnings)\n",
    "go.Figure(scatter, layout = layout)"
   ]
  },
  {
   "cell_type": "markdown",
   "metadata": {
    "id": "VfYR1Zgyem-s"
   },
   "source": [
    "Here, we can see that the amount of education [does correlate](https://www.bls.gov/careeroutlook/2018/data-on-display/education-pays.htm) with an individual's earnings.  That is, if we know the amount of an education an individual has, we change our expectation about how much that person earns.  "
   ]
  },
  {
   "cell_type": "markdown",
   "metadata": {
    "id": "JHfrflzPem-s"
   },
   "source": [
    "But we do not know if education *causes* a change in the amount of earnings that a person has.  "
   ]
  },
  {
   "cell_type": "markdown",
   "metadata": {
    "id": "2GyPFV66em-s"
   },
   "source": [
    "![](https://mermaid.ink/img/eyJjb2RlIjoiZ3JhcGggTFJcbiAgRWR1Y2F0aW9uIC0uLSBJbmNvbWU7XG4iLCJtZXJtYWlkIjp7InRoZW1lIjoiZGVmYXVsdCJ9LCJ1cGRhdGVFZGl0b3IiOmZhbHNlfQ)"
   ]
  },
  {
   "cell_type": "markdown",
   "metadata": {
    "id": "j2q0Y02Wem-s"
   },
   "source": [
    "Because of this, we place a dotted line between the two, without an arrow."
   ]
  },
  {
   "cell_type": "markdown",
   "metadata": {
    "id": "44lzxKzlem-s"
   },
   "source": [
    "#### 1. Correlation Because Causality"
   ]
  },
  {
   "cell_type": "markdown",
   "metadata": {
    "id": "MWQSJcUEem-s"
   },
   "source": [
    "Now if there is causation, that is, if more education causes an increase in income, then we will generally see correlation."
   ]
  },
  {
   "cell_type": "markdown",
   "metadata": {
    "id": "LdnE7CV-em-s"
   },
   "source": [
    "$X \\rightarrow Y$"
   ]
  },
  {
   "cell_type": "markdown",
   "metadata": {
    "id": "mNXeiuzRem-s"
   },
   "source": [
    "* $Education$ $\\rightarrow$  $Income$"
   ]
  },
  {
   "cell_type": "markdown",
   "metadata": {
    "id": "N4WxpIazem-s"
   },
   "source": [
    "This is consistent with the graph.  As someone learns more, the graph shows an increase in the amount of money.  It also follows a nice story.  As someone learns more, they gain skills which make them more valuable in the workplace."
   ]
  },
  {
   "cell_type": "markdown",
   "metadata": {
    "id": "czVTeitZem-s"
   },
   "source": [
    "####  2. Correlation From Reverse Causality"
   ]
  },
  {
   "cell_type": "markdown",
   "metadata": {
    "id": "aY6KTjN3em-s"
   },
   "source": [
    "But the correlation between education and income could also be due to reverse causality."
   ]
  },
  {
   "cell_type": "markdown",
   "metadata": {
    "id": "eQKXN5U_em-s"
   },
   "source": [
    "**Reverse causality** is when our target effects our explanatory variable.  \n",
    "$X \\leftarrow Y$"
   ]
  },
  {
   "cell_type": "markdown",
   "metadata": {
    "id": "jXKe9dsdem-s"
   },
   "source": [
    "For example, maybe as a person earns more income, they can afford to pay for more education.  So more income is causing more education.  Notice that if we infer X is causing Y, but really Y is causing X, then if we try to effect X, this will not have an impact on Y."
   ]
  },
  {
   "cell_type": "markdown",
   "metadata": {
    "id": "ApgVftZPem-s"
   },
   "source": [
    "#### 3. Correlation from Confounding Variable"
   ]
  },
  {
   "cell_type": "markdown",
   "metadata": {
    "id": "i6bmJu3wem-s"
   },
   "source": [
    "<img src=\"https://mermaid.ink/img/eyJjb2RlIjoiZ3JhcGggTFJcbiAgVyAtLT4gWFxuICBXIC0tPiBZXG4iLCJtZXJtYWlkIjp7InRoZW1lIjoiZGVmYXVsdCJ9LCJ1cGRhdGVFZGl0b3IiOmZhbHNlfQ\" width=\"15%\">"
   ]
  },
  {
   "cell_type": "markdown",
   "metadata": {
    "id": "HlSO2voGem-s"
   },
   "source": [
    "Correlation can also occur when both X and Y are influenced by a common, often unknown cause.  For example, eating ice cream is strongly correlated with the number of drownings.  \n",
    "\n",
    "But it would be wrong to say that ice cream consumption causes drownings. Instead, it's likely that when the temperature rises more people eat ice cream, and more people swim, which leads to a correlation between ice cream and drownings."
   ]
  },
  {
   "cell_type": "markdown",
   "metadata": {
    "id": "mYkrrroNem-s"
   },
   "source": [
    "* $Temperature \\rightarrow Ice\\ Cream$\n",
    "* $Temperature \\rightarrow Drownings$"
   ]
  },
  {
   "cell_type": "markdown",
   "metadata": {
    "id": "S70eKTO-em-s"
   },
   "source": [
    "So with a confounding variable, there is an outside factor that is influencing both the explanatory variable and the outcome.  And this is causing the explanatory variable and the outcome to move together.\n",
    "\n",
    "> A confounding variable is also known as a *lurking variable*, because it's hidden, in the background. "
   ]
  },
  {
   "cell_type": "markdown",
   "metadata": {
    "id": "Y99LuUnFem-s"
   },
   "source": [
    "#### 4. Bidirectional causation\n",
    "\n",
    "With bi-directional causation X is influencing Y and Y is influencing X.  \n",
    "* $X \\rightarrow Y$\n",
    "* $Y \\rightarrow X$\n",
    "\n",
    "Take a look at the chart below."
   ]
  },
  {
   "cell_type": "markdown",
   "metadata": {
    "id": "MU4ZtSNnem-s"
   },
   "source": [
    "<img src=\"https://github.com/jigsawlabs-student/correlations-to-experiments/blob/master/poverty-food.png?raw=1\" width=\"50%\">"
   ]
  },
  {
   "cell_type": "markdown",
   "metadata": {
    "id": "qOO3015nem-s"
   },
   "source": [
    "Here an increase in poverty leads to an increase in food stamps.  And maybe others would argue than an increase in food stamps leads to an increase in poverty.  "
   ]
  },
  {
   "cell_type": "markdown",
   "metadata": {
    "id": "mflvmplCem-s"
   },
   "source": [
    "* $Poverty$  $\\rightarrow$ $More$ $Food $ $Stamps$\n",
    "*  $Poverty$  $\\leftarrow$ $More$ $Food $ $Stamps$\n",
    "\n",
    "> The $Poverty$  $\\leftarrow$ $More$ $Food $ $Stamps$ explanation could be an example of *moral hazard*.  Moral hazard is the lack of incentive to guard against risk where one is protected from its consequences.\n",
    "\n",
    "> The $Poverty$  $\\leftarrow$ $More$ $Food $ $Stamps$ also could be an example of *adverse selection*.  With adverse selection, is when people more at risk are more likely to buy into the policy.  Here, buying in, could be moving to the region that offers protection."
   ]
  },
  {
   "cell_type": "markdown",
   "metadata": {
    "id": "QxtFklFSem-t"
   },
   "source": [
    "#### 5. Coincidental Correlation"
   ]
  },
  {
   "cell_type": "markdown",
   "metadata": {
    "id": "V_FFk2Gfem-t"
   },
   "source": [
    "Sometimes there is a strong correlation purely by chance."
   ]
  },
  {
   "cell_type": "markdown",
   "metadata": {
    "id": "Puq4ocbHem-t"
   },
   "source": [
    "<img src=\"https://github.com/jigsawlabs-student/correlations-to-experiments/blob/master/chart.png?raw=1\" width=\"80%\">"
   ]
  },
  {
   "cell_type": "markdown",
   "metadata": {
    "id": "SBKt8Ohoem-t"
   },
   "source": [
    "### Summary"
   ]
  },
  {
   "cell_type": "markdown",
   "metadata": {
    "id": "VcTqXIaDem-t"
   },
   "source": [
    "In this lesson we saw that just because there is correlation between two variables does not mean that we can infer that our explanatory variable is causing our outcome.  In other words:"
   ]
  },
  {
   "cell_type": "markdown",
   "metadata": {
    "id": "q1ZU6xGwem-t"
   },
   "source": [
    "* If we can show:\n",
    "    * $X - - - Y$\n",
    "* This does not mean X causes Y:\n",
    "    * $X \\rightarrow Y$"
   ]
  },
  {
   "cell_type": "markdown",
   "metadata": {
    "id": "FzFMgNrbem-t"
   },
   "source": [
    "Really it could that there's:\n",
    "1. Reverse Causality $X \\leftarrow Y$\n",
    "\n",
    "2. Confounding Variable <img src=\"https://mermaid.ink/img/eyJjb2RlIjoiZ3JhcGggTFJcbiAgVyAtLT4gWFxuICBXIC0tPiBZXG4iLCJtZXJtYWlkIjp7InRoZW1lIjoiZGVmYXVsdCJ9LCJ1cGRhdGVFZGl0b3IiOmZhbHNlfQ\" width=\"10%\">"
   ]
  },
  {
   "cell_type": "markdown",
   "metadata": {
    "id": "DGua_94Zem-w"
   },
   "source": [
    "3. Bi-directional causation $X \\rightarrow Y$ and $Y \\rightarrow X$"
   ]
  },
  {
   "cell_type": "markdown",
   "metadata": {
    "id": "RpwV7lqjem-w"
   },
   "source": [
    "4.  Coincidental Correlation $X$, $Y$"
   ]
  },
  {
   "cell_type": "markdown",
   "metadata": {
    "id": "qpYv6CP2em-w"
   },
   "source": [
    "So correlations between two variable are not very useful in explaining causation because there are many ways that we can have a correlation."
   ]
  },
  {
   "cell_type": "markdown",
   "metadata": {
    "id": "Crfd1IDsem-w"
   },
   "source": [
    "### Resources"
   ]
  },
  {
   "cell_type": "markdown",
   "metadata": {
    "id": "is3R90d7em-w"
   },
   "source": [
    "[Steven Levitt -  Becker Brown Bag](https://www.youtube.com/watch?v=2EH1D3nhOGI&t=861s)"
   ]
  },
  {
   "cell_type": "markdown",
   "metadata": {
    "id": "Bru6jWJDem-w"
   },
   "source": [
    "[Calling Bullshit Course](https://www.youtube.com/watch?v=YAAHJm1pi1E&list=PLPnZfvKID1Sje5jWxt-4CSZD7bUI4gSPS&index=12)"
   ]
  },
  {
   "cell_type": "markdown",
   "metadata": {
    "id": "VryWkc07em-w"
   },
   "source": [
    "[Smoking and Lung Cancer statistics](http://www-dep.iarc.fr/WHOdb/Graph4p.asp?cancer%5B%5D=80&male=1&country%5B%5D=4220&country%5B%5D=2450&sYear=1950&eYear=2020&stat=3&age_from=1&age_to=18&orientation=1&window=1&grid=1&line=2&moving=1&scale=0&submit=%A0%A0%A0Execute%A0%A0%A0)"
   ]
  },
  {
   "cell_type": "markdown",
   "metadata": {
    "id": "1TRZ_lQGem-w"
   },
   "source": [
    "[Correlation vs Causation](https://en.wikipedia.org/wiki/Correlation_does_not_imply_causation)"
   ]
  }
 ],
 "metadata": {
  "colab": {
   "provenance": []
  },
  "kernelspec": {
   "display_name": "Python 3 (ipykernel)",
   "language": "python",
   "name": "python3"
  },
  "language_info": {
   "codemirror_mode": {
    "name": "ipython",
    "version": 3
   },
   "file_extension": ".py",
   "mimetype": "text/x-python",
   "name": "python",
   "nbconvert_exporter": "python",
   "pygments_lexer": "ipython3",
   "version": "3.9.12"
  }
 },
 "nbformat": 4,
 "nbformat_minor": 4
}
