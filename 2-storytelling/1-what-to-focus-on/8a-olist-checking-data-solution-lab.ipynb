{
 "cells": [
  {
   "cell_type": "markdown",
   "id": "c488f61a-44b3-45d2-8f47-5c9818c8a610",
   "metadata": {},
   "source": [
    "# Olist Cleaning and Checking Data Walkthrough"
   ]
  },
  {
   "cell_type": "markdown",
   "id": "5102b1c5-2ae0-45be-aacf-97451485163c",
   "metadata": {},
   "source": [
    "### Introduction"
   ]
  },
  {
   "cell_type": "markdown",
   "id": "265f2f92-8246-465f-b029-0daf281b0af5",
   "metadata": {},
   "source": [
    "In this lesson we'll work with data from the [Olist Kaggle Competition](https://www.kaggle.com/datasets/olistbr/brazilian-ecommerce).\n",
    "\n",
    "We'll walk you through our steps in working with the data."
   ]
  },
  {
   "cell_type": "markdown",
   "id": "5fadc1ec-ddfd-4190-b96c-ba54999f3730",
   "metadata": {},
   "source": [
    "### Loading our data"
   ]
  },
  {
   "cell_type": "markdown",
   "id": "7c2991e8-b274-438a-b627-2f7f278517aa",
   "metadata": {},
   "source": [
    "We can list all of the data in a given directory with the following."
   ]
  },
  {
   "cell_type": "code",
   "execution_count": 1,
   "id": "103b852c-3568-454c-bcdf-69a7414fa897",
   "metadata": {},
   "outputs": [],
   "source": [
    "# import os\n",
    "# os.listdir('olist-data')"
   ]
  },
  {
   "cell_type": "markdown",
   "id": "6ab1e0f4-f644-4eca-8ceb-be0a7f24f7e4",
   "metadata": {},
   "source": [
    "Which would output the below list."
   ]
  },
  {
   "cell_type": "code",
   "execution_count": 15,
   "id": "cfc39d3f-de3c-4e7e-913d-02536ae27f75",
   "metadata": {},
   "outputs": [],
   "source": [
    "datasets = [\"olist_customers_dataset.csv\", \"olist_orders_dataset.csv\",\n",
    "\"olist_geolocation_dataset.csv\", \"olist_products_dataset.csv\",\n",
    "\"olist_order_items_dataset.csv\", \"olist_sellers_dataset.csv\",\n",
    "\"olist_order_payments_dataset.csv\", \"product_category_name_translation.csv\",\n",
    "\"olist_order_reviews_dataset.csv\"]"
   ]
  },
  {
   "cell_type": "markdown",
   "id": "fabf41fa-9710-4aec-bd83-d8652b47b4f9",
   "metadata": {},
   "source": [
    "And then, we can loop through our datasets, adding a key as the name of the dataset, and as a value storing the dataframe."
   ]
  },
  {
   "cell_type": "code",
   "execution_count": 17,
   "id": "493953f7-6a8f-4f7a-bf70-4900f4a305d5",
   "metadata": {},
   "outputs": [],
   "source": [
    "import os\n",
    "import pandas as pd\n",
    "root_url = \"s3://jigsaw-labs-student\"\n",
    "dataframe_set = {}\n",
    "\n",
    "for csv_file in datasets:\n",
    "    names = csv_file.split('_')[1:-1]\n",
    "    full_name = '_'.join(names)\n",
    "    dataframe_set[full_name] = pd.read_csv(f'{root_url}/olist-data/{csv_file}')"
   ]
  },
  {
   "cell_type": "code",
   "execution_count": 18,
   "id": "1c6a7d6e-e7d2-4f03-9ce3-91b3f29b587e",
   "metadata": {},
   "outputs": [
    {
     "data": {
      "text/plain": [
       "dict_keys(['customers', 'orders', 'geolocation', 'products', 'order_items', 'sellers', 'order_payments', 'category_name', 'order_reviews'])"
      ]
     },
     "execution_count": 18,
     "metadata": {},
     "output_type": "execute_result"
    }
   ],
   "source": [
    "dataframe_set.keys()"
   ]
  },
  {
   "cell_type": "markdown",
   "id": "461e6d98-e861-440f-935c-e81c96009dcf",
   "metadata": {},
   "source": [
    "So above, we created a dictionary, where the keys are the names of the datasets and the values are the actual dataframes.\n",
    "\n",
    "> For example, if we want to get the geolocation dataframe, we can with the following."
   ]
  },
  {
   "cell_type": "code",
   "execution_count": 124,
   "id": "8f67352a-69dd-40f4-9f33-1fe09070739f",
   "metadata": {},
   "outputs": [
    {
     "data": {
      "text/html": [
       "<div>\n",
       "<style scoped>\n",
       "    .dataframe tbody tr th:only-of-type {\n",
       "        vertical-align: middle;\n",
       "    }\n",
       "\n",
       "    .dataframe tbody tr th {\n",
       "        vertical-align: top;\n",
       "    }\n",
       "\n",
       "    .dataframe thead th {\n",
       "        text-align: right;\n",
       "    }\n",
       "</style>\n",
       "<table border=\"1\" class=\"dataframe\">\n",
       "  <thead>\n",
       "    <tr style=\"text-align: right;\">\n",
       "      <th></th>\n",
       "      <th>geolocation_zip_code_prefix</th>\n",
       "      <th>geolocation_lat</th>\n",
       "      <th>geolocation_lng</th>\n",
       "      <th>geolocation_city</th>\n",
       "      <th>geolocation_state</th>\n",
       "    </tr>\n",
       "  </thead>\n",
       "  <tbody>\n",
       "    <tr>\n",
       "      <th>0</th>\n",
       "      <td>1037</td>\n",
       "      <td>-23.545621</td>\n",
       "      <td>-46.639292</td>\n",
       "      <td>sao paulo</td>\n",
       "      <td>SP</td>\n",
       "    </tr>\n",
       "    <tr>\n",
       "      <th>1</th>\n",
       "      <td>1046</td>\n",
       "      <td>-23.546081</td>\n",
       "      <td>-46.644820</td>\n",
       "      <td>sao paulo</td>\n",
       "      <td>SP</td>\n",
       "    </tr>\n",
       "  </tbody>\n",
       "</table>\n",
       "</div>"
      ],
      "text/plain": [
       "   geolocation_zip_code_prefix  geolocation_lat  geolocation_lng  \\\n",
       "0                         1037       -23.545621       -46.639292   \n",
       "1                         1046       -23.546081       -46.644820   \n",
       "\n",
       "  geolocation_city geolocation_state  \n",
       "0        sao paulo                SP  \n",
       "1        sao paulo                SP  "
      ]
     },
     "execution_count": 124,
     "metadata": {},
     "output_type": "execute_result"
    }
   ],
   "source": [
    "dataframe_set['geolocation'][:2]"
   ]
  },
  {
   "cell_type": "markdown",
   "id": "e9ddc53e-db8e-4da8-861f-085729308c4a",
   "metadata": {},
   "source": [
    "It would be a lot to work with all of our datasets at once -- so looking at our data, what do you think some of the key datasets are?"
   ]
  },
  {
   "cell_type": "code",
   "execution_count": 20,
   "id": "43198c97-e12a-4dd2-b4dd-0e41ea6ff906",
   "metadata": {},
   "outputs": [
    {
     "name": "stdout",
     "output_type": "stream",
     "text": [
      "['olist_customers_dataset.csv', 'olist_orders_dataset.csv', 'olist_geolocation_dataset.csv', 'olist_products_dataset.csv', 'olist_order_items_dataset.csv', 'olist_sellers_dataset.csv', 'olist_order_payments_dataset.csv', 'product_category_name_translation.csv', 'olist_order_reviews_dataset.csv']\n"
     ]
    }
   ],
   "source": [
    "print(datasets)"
   ]
  },
  {
   "cell_type": "markdown",
   "id": "627d1d72-f68c-4c84-b916-927c643d4f29",
   "metadata": {},
   "source": [
    "For this, we should probably first identify our join table -- orders, and then work from there.  It turns out each order is more like a shopping cart, with many order items.  So we'll join the orders, order_items, customers and products datasets.  "
   ]
  },
  {
   "cell_type": "code",
   "execution_count": 22,
   "id": "55e92411-6f1d-4e04-98a8-d576f0f0dcc9",
   "metadata": {},
   "outputs": [
    {
     "data": {
      "text/html": [
       "<div>\n",
       "<style scoped>\n",
       "    .dataframe tbody tr th:only-of-type {\n",
       "        vertical-align: middle;\n",
       "    }\n",
       "\n",
       "    .dataframe tbody tr th {\n",
       "        vertical-align: top;\n",
       "    }\n",
       "\n",
       "    .dataframe thead th {\n",
       "        text-align: right;\n",
       "    }\n",
       "</style>\n",
       "<table border=\"1\" class=\"dataframe\">\n",
       "  <thead>\n",
       "    <tr style=\"text-align: right;\">\n",
       "      <th></th>\n",
       "      <th>order_id</th>\n",
       "      <th>customer_id</th>\n",
       "      <th>order_status</th>\n",
       "      <th>order_purchase_timestamp</th>\n",
       "      <th>order_approved_at</th>\n",
       "      <th>order_delivered_carrier_date</th>\n",
       "      <th>order_delivered_customer_date</th>\n",
       "      <th>order_estimated_delivery_date</th>\n",
       "      <th>customer_unique_id</th>\n",
       "      <th>customer_zip_code_prefix</th>\n",
       "      <th>...</th>\n",
       "      <th>price</th>\n",
       "      <th>freight_value</th>\n",
       "      <th>product_category_name</th>\n",
       "      <th>product_name_lenght</th>\n",
       "      <th>product_description_lenght</th>\n",
       "      <th>product_photos_qty</th>\n",
       "      <th>product_weight_g</th>\n",
       "      <th>product_length_cm</th>\n",
       "      <th>product_height_cm</th>\n",
       "      <th>product_width_cm</th>\n",
       "    </tr>\n",
       "  </thead>\n",
       "  <tbody>\n",
       "    <tr>\n",
       "      <th>0</th>\n",
       "      <td>e481f51cbdc54678b7cc49136f2d6af7</td>\n",
       "      <td>9ef432eb6251297304e76186b10a928d</td>\n",
       "      <td>delivered</td>\n",
       "      <td>2017-10-02 10:56:33</td>\n",
       "      <td>2017-10-02 11:07:15</td>\n",
       "      <td>2017-10-04 19:55:00</td>\n",
       "      <td>2017-10-10 21:25:13</td>\n",
       "      <td>2017-10-18 00:00:00</td>\n",
       "      <td>7c396fd4830fd04220f754e42b4e5bff</td>\n",
       "      <td>3149</td>\n",
       "      <td>...</td>\n",
       "      <td>29.99</td>\n",
       "      <td>8.72</td>\n",
       "      <td>utilidades_domesticas</td>\n",
       "      <td>40.0</td>\n",
       "      <td>268.0</td>\n",
       "      <td>4.0</td>\n",
       "      <td>500.0</td>\n",
       "      <td>19.0</td>\n",
       "      <td>8.0</td>\n",
       "      <td>13.0</td>\n",
       "    </tr>\n",
       "    <tr>\n",
       "      <th>1</th>\n",
       "      <td>128e10d95713541c87cd1a2e48201934</td>\n",
       "      <td>a20e8105f23924cd00833fd87daa0831</td>\n",
       "      <td>delivered</td>\n",
       "      <td>2017-08-15 18:29:31</td>\n",
       "      <td>2017-08-15 20:05:16</td>\n",
       "      <td>2017-08-17 15:28:33</td>\n",
       "      <td>2017-08-18 14:44:43</td>\n",
       "      <td>2017-08-28 00:00:00</td>\n",
       "      <td>3a51803cc0d012c3b5dc8b7528cb05f7</td>\n",
       "      <td>3366</td>\n",
       "      <td>...</td>\n",
       "      <td>29.99</td>\n",
       "      <td>7.78</td>\n",
       "      <td>utilidades_domesticas</td>\n",
       "      <td>40.0</td>\n",
       "      <td>268.0</td>\n",
       "      <td>4.0</td>\n",
       "      <td>500.0</td>\n",
       "      <td>19.0</td>\n",
       "      <td>8.0</td>\n",
       "      <td>13.0</td>\n",
       "    </tr>\n",
       "  </tbody>\n",
       "</table>\n",
       "<p>2 rows × 26 columns</p>\n",
       "</div>"
      ],
      "text/plain": [
       "                           order_id                       customer_id  \\\n",
       "0  e481f51cbdc54678b7cc49136f2d6af7  9ef432eb6251297304e76186b10a928d   \n",
       "1  128e10d95713541c87cd1a2e48201934  a20e8105f23924cd00833fd87daa0831   \n",
       "\n",
       "  order_status order_purchase_timestamp    order_approved_at  \\\n",
       "0    delivered      2017-10-02 10:56:33  2017-10-02 11:07:15   \n",
       "1    delivered      2017-08-15 18:29:31  2017-08-15 20:05:16   \n",
       "\n",
       "  order_delivered_carrier_date order_delivered_customer_date  \\\n",
       "0          2017-10-04 19:55:00           2017-10-10 21:25:13   \n",
       "1          2017-08-17 15:28:33           2017-08-18 14:44:43   \n",
       "\n",
       "  order_estimated_delivery_date                customer_unique_id  \\\n",
       "0           2017-10-18 00:00:00  7c396fd4830fd04220f754e42b4e5bff   \n",
       "1           2017-08-28 00:00:00  3a51803cc0d012c3b5dc8b7528cb05f7   \n",
       "\n",
       "   customer_zip_code_prefix  ...  price freight_value  product_category_name  \\\n",
       "0                      3149  ...  29.99          8.72  utilidades_domesticas   \n",
       "1                      3366  ...  29.99          7.78  utilidades_domesticas   \n",
       "\n",
       "  product_name_lenght product_description_lenght product_photos_qty  \\\n",
       "0                40.0                      268.0                4.0   \n",
       "1                40.0                      268.0                4.0   \n",
       "\n",
       "   product_weight_g  product_length_cm product_height_cm  product_width_cm  \n",
       "0             500.0               19.0               8.0              13.0  \n",
       "1             500.0               19.0               8.0              13.0  \n",
       "\n",
       "[2 rows x 26 columns]"
      ]
     },
     "execution_count": 22,
     "metadata": {},
     "output_type": "execute_result"
    }
   ],
   "source": [
    "orders_df = dataframe_set['orders']\n",
    "orders_customers_df = orders_df.merge(dataframe_set['customers'], on = 'customer_id')\n",
    "orders_products_df = orders_customers_df.merge(dataframe_set['order_items'], on = 'order_id').merge(dataframe_set['products'], on = 'product_id')\n",
    "# dataframe_set['customers']\n",
    "\n",
    "orders_products_df[:2]"
   ]
  },
  {
   "cell_type": "markdown",
   "id": "23d61f78-3ee5-444b-be3f-d8ade13c723a",
   "metadata": {},
   "source": [
    "1. Understanding the grain of the data"
   ]
  },
  {
   "cell_type": "markdown",
   "id": "4e76421c-5f75-40ee-903f-e58f673e96d0",
   "metadata": {},
   "source": [
    "Here, each row represents each individual **item** in a particular `order`.  And we can think of an order as a shopping cart experience.  So each row is an item that was purchased in a shopping cart.  We can confirm that an order consists of multiple items with a call to value_counts()."
   ]
  },
  {
   "cell_type": "code",
   "execution_count": 25,
   "id": "1cabdee5-b074-46a9-9aea-bd0d4264bd23",
   "metadata": {},
   "outputs": [
    {
     "data": {
      "text/plain": [
       "8272b63d03f5f79c56e9e4120aec44ef    21\n",
       "ab14fdcfbe524636d65ee38360e22ce8    20\n",
       "1b15974a0141d54e36626dca3fdc731a    20\n",
       "Name: order_id, dtype: int64"
      ]
     },
     "execution_count": 25,
     "metadata": {},
     "output_type": "execute_result"
    }
   ],
   "source": [
    "orders_products_df['order_id'].value_counts()[:3]"
   ]
  },
  {
   "cell_type": "markdown",
   "id": "cde222e1-8b9e-4222-9384-78e069c20293",
   "metadata": {},
   "source": [
    "2. Identifying the target of the data"
   ]
  },
  {
   "cell_type": "markdown",
   "id": "37367337-9051-4223-97ef-90ad760160d8",
   "metadata": {},
   "source": [
    "For the target of the data, we can choose the price.  "
   ]
  },
  {
   "cell_type": "markdown",
   "id": "968ee1ac-ec33-4c2e-8af3-ebe578aab6cc",
   "metadata": {},
   "source": [
    "### Cleaning the data"
   ]
  },
  {
   "cell_type": "markdown",
   "id": "3de1a6ae-b0d5-4522-99b6-20ef9b8aa597",
   "metadata": {},
   "source": [
    "Now before cleaning the data, we can probably remove some of our columns. Currently, we have 26 columns from merging our three dataframes. "
   ]
  },
  {
   "cell_type": "code",
   "execution_count": 1,
   "id": "76118288-5bda-46a0-bec6-9bcb80f33af1",
   "metadata": {},
   "outputs": [],
   "source": [
    "# orders_products_df.columns"
   ]
  },
  {
   "cell_type": "markdown",
   "id": "857286cd-cf41-4ae3-ab4e-ee41938ac718",
   "metadata": {},
   "source": [
    "> Let's just select the relevant columns below.  We chose nine columns, and began to group them."
   ]
  },
  {
   "cell_type": "code",
   "execution_count": 33,
   "id": "86ea5a7c-d6e3-4b90-853a-40a96db8bfbc",
   "metadata": {},
   "outputs": [
    {
     "name": "stdout",
     "output_type": "stream",
     "text": [
      "['order_purchase_timestamp', 'customer_zip_code_prefix', 'customer_city', 'customer_state', 'product_category_name', 'order_id', 'customer_id', 'product_id', 'price']\n"
     ]
    }
   ],
   "source": [
    "target_cols = ['price']\n",
    "\n",
    "id_cols = ['order_id', 'customer_id', 'product_id']\n",
    "order_cols = [ 'order_purchase_timestamp']\n",
    "customer_cols = ['customer_zip_code_prefix', 'customer_city', 'customer_state']\n",
    "product_cols = ['product_category_name']\n",
    "\n",
    "selected_cols = order_cols + customer_cols + product_cols + id_cols + target_cols\n",
    "print(selected_cols)"
   ]
  },
  {
   "cell_type": "code",
   "execution_count": 37,
   "id": "2fec9010-95b0-497a-9a1b-490383349043",
   "metadata": {},
   "outputs": [
    {
     "data": {
      "text/html": [
       "<div>\n",
       "<style scoped>\n",
       "    .dataframe tbody tr th:only-of-type {\n",
       "        vertical-align: middle;\n",
       "    }\n",
       "\n",
       "    .dataframe tbody tr th {\n",
       "        vertical-align: top;\n",
       "    }\n",
       "\n",
       "    .dataframe thead th {\n",
       "        text-align: right;\n",
       "    }\n",
       "</style>\n",
       "<table border=\"1\" class=\"dataframe\">\n",
       "  <thead>\n",
       "    <tr style=\"text-align: right;\">\n",
       "      <th></th>\n",
       "      <th>order_purchase_timestamp</th>\n",
       "      <th>customer_zip_code_prefix</th>\n",
       "      <th>customer_city</th>\n",
       "      <th>customer_state</th>\n",
       "      <th>product_category_name</th>\n",
       "      <th>order_id</th>\n",
       "      <th>customer_id</th>\n",
       "      <th>product_id</th>\n",
       "      <th>price</th>\n",
       "    </tr>\n",
       "  </thead>\n",
       "  <tbody>\n",
       "    <tr>\n",
       "      <th>0</th>\n",
       "      <td>2017-10-02 10:56:33</td>\n",
       "      <td>3149</td>\n",
       "      <td>sao paulo</td>\n",
       "      <td>SP</td>\n",
       "      <td>utilidades_domesticas</td>\n",
       "      <td>e481f51cbdc54678b7cc49136f2d6af7</td>\n",
       "      <td>9ef432eb6251297304e76186b10a928d</td>\n",
       "      <td>87285b34884572647811a353c7ac498a</td>\n",
       "      <td>29.99</td>\n",
       "    </tr>\n",
       "    <tr>\n",
       "      <th>1</th>\n",
       "      <td>2017-08-15 18:29:31</td>\n",
       "      <td>3366</td>\n",
       "      <td>sao paulo</td>\n",
       "      <td>SP</td>\n",
       "      <td>utilidades_domesticas</td>\n",
       "      <td>128e10d95713541c87cd1a2e48201934</td>\n",
       "      <td>a20e8105f23924cd00833fd87daa0831</td>\n",
       "      <td>87285b34884572647811a353c7ac498a</td>\n",
       "      <td>29.99</td>\n",
       "    </tr>\n",
       "  </tbody>\n",
       "</table>\n",
       "</div>"
      ],
      "text/plain": [
       "  order_purchase_timestamp  customer_zip_code_prefix customer_city  \\\n",
       "0      2017-10-02 10:56:33                      3149     sao paulo   \n",
       "1      2017-08-15 18:29:31                      3366     sao paulo   \n",
       "\n",
       "  customer_state  product_category_name                          order_id  \\\n",
       "0             SP  utilidades_domesticas  e481f51cbdc54678b7cc49136f2d6af7   \n",
       "1             SP  utilidades_domesticas  128e10d95713541c87cd1a2e48201934   \n",
       "\n",
       "                        customer_id                        product_id  price  \n",
       "0  9ef432eb6251297304e76186b10a928d  87285b34884572647811a353c7ac498a  29.99  \n",
       "1  a20e8105f23924cd00833fd87daa0831  87285b34884572647811a353c7ac498a  29.99  "
      ]
     },
     "execution_count": 37,
     "metadata": {},
     "output_type": "execute_result"
    }
   ],
   "source": [
    "selected_df = orders_products_df[selected_cols]\n",
    "selected_df[:2]"
   ]
  },
  {
   "cell_type": "markdown",
   "id": "5cfc66d8-71d0-48d9-a06e-0837f21a4c68",
   "metadata": {},
   "source": [
    "> Ok, let's just show you the columns we chose."
   ]
  },
  {
   "cell_type": "code",
   "execution_count": 40,
   "id": "b767e8ae-8260-4b86-9655-0aaec048622a",
   "metadata": {},
   "outputs": [
    {
     "name": "stdout",
     "output_type": "stream",
     "text": [
      "['order_purchase_timestamp', 'customer_zip_code_prefix', 'customer_city', 'customer_state', 'product_category_name', 'order_id', 'customer_id', 'product_id', 'price']\n"
     ]
    }
   ],
   "source": [
    "target_cols = ['price']\n",
    "\n",
    "id_cols = ['order_id', 'customer_id', 'product_id']\n",
    "order_cols = [ 'order_purchase_timestamp']\n",
    "customer_cols = ['customer_zip_code_prefix', 'customer_city', 'customer_state']\n",
    "product_cols = ['product_category_name']\n",
    "\n",
    "selected_cols = order_cols + customer_cols + product_cols + id_cols + target_cols\n",
    "print(selected_cols)"
   ]
  },
  {
   "cell_type": "markdown",
   "id": "6279954d-3c02-49b2-9f6c-1a25e6b28629",
   "metadata": {},
   "source": [
    "> And then we can select just those columns, and rename one of the columns."
   ]
  },
  {
   "cell_type": "code",
   "execution_count": 39,
   "id": "59d35bd2-2fa8-4ad2-9789-bdae3d68d54c",
   "metadata": {},
   "outputs": [
    {
     "data": {
      "text/html": [
       "<div>\n",
       "<style scoped>\n",
       "    .dataframe tbody tr th:only-of-type {\n",
       "        vertical-align: middle;\n",
       "    }\n",
       "\n",
       "    .dataframe tbody tr th {\n",
       "        vertical-align: top;\n",
       "    }\n",
       "\n",
       "    .dataframe thead th {\n",
       "        text-align: right;\n",
       "    }\n",
       "</style>\n",
       "<table border=\"1\" class=\"dataframe\">\n",
       "  <thead>\n",
       "    <tr style=\"text-align: right;\">\n",
       "      <th></th>\n",
       "      <th>purchase_time</th>\n",
       "      <th>customer_zip_code_prefix</th>\n",
       "      <th>customer_city</th>\n",
       "      <th>customer_state</th>\n",
       "      <th>product_category_name</th>\n",
       "      <th>order_id</th>\n",
       "      <th>customer_id</th>\n",
       "      <th>product_id</th>\n",
       "      <th>price</th>\n",
       "    </tr>\n",
       "  </thead>\n",
       "  <tbody>\n",
       "    <tr>\n",
       "      <th>0</th>\n",
       "      <td>2017-10-02 10:56:33</td>\n",
       "      <td>3149</td>\n",
       "      <td>sao paulo</td>\n",
       "      <td>SP</td>\n",
       "      <td>utilidades_domesticas</td>\n",
       "      <td>e481f51cbdc54678b7cc49136f2d6af7</td>\n",
       "      <td>9ef432eb6251297304e76186b10a928d</td>\n",
       "      <td>87285b34884572647811a353c7ac498a</td>\n",
       "      <td>29.99</td>\n",
       "    </tr>\n",
       "    <tr>\n",
       "      <th>1</th>\n",
       "      <td>2017-08-15 18:29:31</td>\n",
       "      <td>3366</td>\n",
       "      <td>sao paulo</td>\n",
       "      <td>SP</td>\n",
       "      <td>utilidades_domesticas</td>\n",
       "      <td>128e10d95713541c87cd1a2e48201934</td>\n",
       "      <td>a20e8105f23924cd00833fd87daa0831</td>\n",
       "      <td>87285b34884572647811a353c7ac498a</td>\n",
       "      <td>29.99</td>\n",
       "    </tr>\n",
       "  </tbody>\n",
       "</table>\n",
       "</div>"
      ],
      "text/plain": [
       "         purchase_time  customer_zip_code_prefix customer_city customer_state  \\\n",
       "0  2017-10-02 10:56:33                      3149     sao paulo             SP   \n",
       "1  2017-08-15 18:29:31                      3366     sao paulo             SP   \n",
       "\n",
       "   product_category_name                          order_id  \\\n",
       "0  utilidades_domesticas  e481f51cbdc54678b7cc49136f2d6af7   \n",
       "1  utilidades_domesticas  128e10d95713541c87cd1a2e48201934   \n",
       "\n",
       "                        customer_id                        product_id  price  \n",
       "0  9ef432eb6251297304e76186b10a928d  87285b34884572647811a353c7ac498a  29.99  \n",
       "1  a20e8105f23924cd00833fd87daa0831  87285b34884572647811a353c7ac498a  29.99  "
      ]
     },
     "execution_count": 39,
     "metadata": {},
     "output_type": "execute_result"
    }
   ],
   "source": [
    "orders_products_df[selected_cols]\n",
    "\n",
    "updated_selected_df = selected_df.rename(columns = {'order_purchase_timestamp': 'purchase_time'})\n",
    "updated_selected_df[:2]"
   ]
  },
  {
   "cell_type": "markdown",
   "id": "f3911116-5bf3-4a92-9497-f0d2d757ca2a",
   "metadata": {
    "tags": []
   },
   "source": [
    "#### 2. Cleaning our data"
   ]
  },
  {
   "cell_type": "markdown",
   "id": "a116b0b0-1d89-4317-a7d1-fb6ed3f17888",
   "metadata": {},
   "source": [
    "Now that we have merged together our datasets, identified the target and grain of the data, and then selected (pretty liberally) our relevant columns, it's time to clean our data."
   ]
  },
  {
   "cell_type": "markdown",
   "id": "c5d25dd8-d119-40cb-bfb1-0647831f62d7",
   "metadata": {},
   "source": [
    "1. Confirming the correct datatype"
   ]
  },
  {
   "cell_type": "markdown",
   "id": "6a18f19d-15fd-46a8-9a20-dd4661834c1c",
   "metadata": {},
   "source": [
    "First, let's ensure that the columns are of the correct datatype."
   ]
  },
  {
   "cell_type": "code",
   "execution_count": 36,
   "id": "c30fb7f6-9496-4902-a646-a891e7393185",
   "metadata": {},
   "outputs": [
    {
     "data": {
      "text/plain": [
       "purchase_time                object\n",
       "customer_zip_code_prefix      int64\n",
       "customer_city                object\n",
       "customer_state               object\n",
       "product_category_name        object\n",
       "order_id                     object\n",
       "customer_id                  object\n",
       "product_id                   object\n",
       "price                       float64\n",
       "dtype: object"
      ]
     },
     "execution_count": 36,
     "metadata": {},
     "output_type": "execute_result"
    }
   ],
   "source": [
    "updated_selected_df.dtypes\n",
    "\n",
    "# purchase_time                object\n",
    "# customer_zip_code_prefix      int64\n",
    "# customer_city                object\n",
    "# customer_state               object\n",
    "# product_category_name        object\n",
    "# order_id                     object\n",
    "# customer_id                  object\n",
    "# product_id                   object\n",
    "# price                       float64\n",
    "# dtype: object"
   ]
  },
  {
   "cell_type": "markdown",
   "id": "3e368ec9-3e80-4e29-a417-f27b5f8e9a1b",
   "metadata": {},
   "source": [
    "Remember that we are essentially looking for columns that we should change from object to something else.  \n",
    "\n",
    "> Above, these look pretty good, except for our `purchase_time` column, which we should change to be datetime.\n",
    "\n",
    "> The `id` columns could being changed to be numeric -- however there doesn't appear to be much downside to leaving them as is."
   ]
  },
  {
   "cell_type": "markdown",
   "id": "3c587637-fc52-4cae-b55e-d42a16c189e1",
   "metadata": {},
   "source": [
    "2. Extracting datepart columns\n",
    "\n",
    "Ok, so next we can use our `add_datepart` function to extract additional columns. "
   ]
  },
  {
   "cell_type": "code",
   "execution_count": 46,
   "id": "2cbadcd7-6334-4d9d-b878-e0b866149e47",
   "metadata": {},
   "outputs": [],
   "source": [
    "from item_lib import *"
   ]
  },
  {
   "cell_type": "code",
   "execution_count": 47,
   "id": "05d31579-01f8-4843-abe1-bd4d7182e469",
   "metadata": {},
   "outputs": [],
   "source": [
    "import warnings\n",
    "warnings.filterwarnings('ignore')\n",
    "\n",
    "selected_w_dates_df = updated_selected_df.copy()\n",
    "\n",
    "fldnames = ['purchase_time']\n",
    "add_datepart(selected_w_dates_df, fldnames)"
   ]
  },
  {
   "cell_type": "code",
   "execution_count": 48,
   "id": "ee2b8a28-40df-46df-9981-19ff77b20e8a",
   "metadata": {},
   "outputs": [
    {
     "data": {
      "text/html": [
       "<div>\n",
       "<style scoped>\n",
       "    .dataframe tbody tr th:only-of-type {\n",
       "        vertical-align: middle;\n",
       "    }\n",
       "\n",
       "    .dataframe tbody tr th {\n",
       "        vertical-align: top;\n",
       "    }\n",
       "\n",
       "    .dataframe thead th {\n",
       "        text-align: right;\n",
       "    }\n",
       "</style>\n",
       "<table border=\"1\" class=\"dataframe\">\n",
       "  <thead>\n",
       "    <tr style=\"text-align: right;\">\n",
       "      <th></th>\n",
       "      <th>customer_zip_code_prefix</th>\n",
       "      <th>customer_city</th>\n",
       "      <th>customer_state</th>\n",
       "      <th>product_category_name</th>\n",
       "      <th>order_id</th>\n",
       "      <th>customer_id</th>\n",
       "      <th>product_id</th>\n",
       "      <th>price</th>\n",
       "      <th>purchase_timeYear</th>\n",
       "      <th>purchase_timeMonth</th>\n",
       "      <th>purchase_timeWeek</th>\n",
       "      <th>purchase_timeDay</th>\n",
       "      <th>purchase_timeDayofweek</th>\n",
       "      <th>purchase_timeDayofyear</th>\n",
       "      <th>purchase_timeElapsed</th>\n",
       "    </tr>\n",
       "  </thead>\n",
       "  <tbody>\n",
       "    <tr>\n",
       "      <th>0</th>\n",
       "      <td>3149</td>\n",
       "      <td>sao paulo</td>\n",
       "      <td>SP</td>\n",
       "      <td>utilidades_domesticas</td>\n",
       "      <td>e481f51cbdc54678b7cc49136f2d6af7</td>\n",
       "      <td>9ef432eb6251297304e76186b10a928d</td>\n",
       "      <td>87285b34884572647811a353c7ac498a</td>\n",
       "      <td>29.99</td>\n",
       "      <td>2017</td>\n",
       "      <td>10</td>\n",
       "      <td>40</td>\n",
       "      <td>2</td>\n",
       "      <td>0</td>\n",
       "      <td>275</td>\n",
       "      <td>1506941793</td>\n",
       "    </tr>\n",
       "    <tr>\n",
       "      <th>1</th>\n",
       "      <td>3366</td>\n",
       "      <td>sao paulo</td>\n",
       "      <td>SP</td>\n",
       "      <td>utilidades_domesticas</td>\n",
       "      <td>128e10d95713541c87cd1a2e48201934</td>\n",
       "      <td>a20e8105f23924cd00833fd87daa0831</td>\n",
       "      <td>87285b34884572647811a353c7ac498a</td>\n",
       "      <td>29.99</td>\n",
       "      <td>2017</td>\n",
       "      <td>8</td>\n",
       "      <td>33</td>\n",
       "      <td>15</td>\n",
       "      <td>1</td>\n",
       "      <td>227</td>\n",
       "      <td>1502821771</td>\n",
       "    </tr>\n",
       "    <tr>\n",
       "      <th>2</th>\n",
       "      <td>2290</td>\n",
       "      <td>sao paulo</td>\n",
       "      <td>SP</td>\n",
       "      <td>utilidades_domesticas</td>\n",
       "      <td>0e7e841ddf8f8f2de2bad69267ecfbcf</td>\n",
       "      <td>26c7ac168e1433912a51b924fbd34d34</td>\n",
       "      <td>87285b34884572647811a353c7ac498a</td>\n",
       "      <td>29.99</td>\n",
       "      <td>2017</td>\n",
       "      <td>8</td>\n",
       "      <td>31</td>\n",
       "      <td>2</td>\n",
       "      <td>2</td>\n",
       "      <td>214</td>\n",
       "      <td>1501698287</td>\n",
       "    </tr>\n",
       "  </tbody>\n",
       "</table>\n",
       "</div>"
      ],
      "text/plain": [
       "   customer_zip_code_prefix customer_city customer_state  \\\n",
       "0                      3149     sao paulo             SP   \n",
       "1                      3366     sao paulo             SP   \n",
       "2                      2290     sao paulo             SP   \n",
       "\n",
       "   product_category_name                          order_id  \\\n",
       "0  utilidades_domesticas  e481f51cbdc54678b7cc49136f2d6af7   \n",
       "1  utilidades_domesticas  128e10d95713541c87cd1a2e48201934   \n",
       "2  utilidades_domesticas  0e7e841ddf8f8f2de2bad69267ecfbcf   \n",
       "\n",
       "                        customer_id                        product_id  price  \\\n",
       "0  9ef432eb6251297304e76186b10a928d  87285b34884572647811a353c7ac498a  29.99   \n",
       "1  a20e8105f23924cd00833fd87daa0831  87285b34884572647811a353c7ac498a  29.99   \n",
       "2  26c7ac168e1433912a51b924fbd34d34  87285b34884572647811a353c7ac498a  29.99   \n",
       "\n",
       "   purchase_timeYear  purchase_timeMonth  purchase_timeWeek  purchase_timeDay  \\\n",
       "0               2017                  10                 40                 2   \n",
       "1               2017                   8                 33                15   \n",
       "2               2017                   8                 31                 2   \n",
       "\n",
       "   purchase_timeDayofweek  purchase_timeDayofyear  purchase_timeElapsed  \n",
       "0                       0                     275            1506941793  \n",
       "1                       1                     227            1502821771  \n",
       "2                       2                     214            1501698287  "
      ]
     },
     "execution_count": 48,
     "metadata": {},
     "output_type": "execute_result"
    }
   ],
   "source": [
    "selected_w_dates_df[:3]"
   ]
  },
  {
   "cell_type": "markdown",
   "id": "1ddd7367-4e3e-444b-b96c-221fb0784e80",
   "metadata": {},
   "source": [
    "### 3. Checking the representativeness of our data"
   ]
  },
  {
   "cell_type": "markdown",
   "id": "f6f56987-d3e9-4769-a821-c4bd306d1226",
   "metadata": {},
   "source": [
    "* Selecting the relevant columns"
   ]
  },
  {
   "cell_type": "markdown",
   "id": "7b784c8f-45e0-4fe3-9b65-9e6f39e38518",
   "metadata": {},
   "source": [
    "We can begin by selecting the relevant columns -- here we can add the datetime columns to the list, which are at the end."
   ]
  },
  {
   "cell_type": "code",
   "execution_count": 49,
   "id": "875f3481-f7ce-4640-95e8-17beb4b6ca8b",
   "metadata": {},
   "outputs": [
    {
     "data": {
      "text/plain": [
       "Index(['purchase_timeYear', 'purchase_timeMonth', 'purchase_timeWeek',\n",
       "       'purchase_timeDay', 'purchase_timeDayofweek', 'purchase_timeDayofyear',\n",
       "       'purchase_timeElapsed'],\n",
       "      dtype='object')"
      ]
     },
     "execution_count": 49,
     "metadata": {},
     "output_type": "execute_result"
    }
   ],
   "source": [
    "selected_w_dates_df.columns[8:]"
   ]
  },
  {
   "cell_type": "code",
   "execution_count": 50,
   "id": "eacb5389-dd84-4e16-8e9a-545700c6a071",
   "metadata": {},
   "outputs": [],
   "source": [
    "target_cols = ['price']\n",
    "\n",
    "id_cols = ['order_id', 'customer_id', 'product_id']\n",
    "\n",
    "customer_cols = ['customer_zip_code_prefix', 'customer_city', 'customer_state']\n",
    "product_cols = ['product_category_name']\n",
    "purchase_time_cols = ['purchase_timeYear', 'purchase_timeMonth', 'purchase_timeWeek',\n",
    "       'purchase_timeDay', 'purchase_timeDayofweek', 'purchase_timeDayofyear',\n",
    "       'purchase_timeElapsed']\n",
    "\n",
    "selected_cols = customer_cols + product_cols + id_cols + purchase_time_cols + target_cols"
   ]
  },
  {
   "cell_type": "markdown",
   "id": "d34e3786-c50c-4a9a-9b4a-b5b35a6d1dca",
   "metadata": {},
   "source": [
    "From here, let's look at the representativeness of the data.  \n",
    "\n",
    "As always, there are two main things to focus on here -- the time columns, and the target.  \n",
    "\n",
    "1. Exploring the time columns"
   ]
  },
  {
   "cell_type": "markdown",
   "id": "56cd264d-7453-4ef4-9622-972117db49ec",
   "metadata": {},
   "source": [
    "> Let's first use the describe function to explore the olist data"
   ]
  },
  {
   "cell_type": "code",
   "execution_count": 51,
   "id": "efd5be5a-c110-4bf8-962f-7cfbdb5564e3",
   "metadata": {},
   "outputs": [
    {
     "data": {
      "text/html": [
       "<div>\n",
       "<style scoped>\n",
       "    .dataframe tbody tr th:only-of-type {\n",
       "        vertical-align: middle;\n",
       "    }\n",
       "\n",
       "    .dataframe tbody tr th {\n",
       "        vertical-align: top;\n",
       "    }\n",
       "\n",
       "    .dataframe thead th {\n",
       "        text-align: right;\n",
       "    }\n",
       "</style>\n",
       "<table border=\"1\" class=\"dataframe\">\n",
       "  <thead>\n",
       "    <tr style=\"text-align: right;\">\n",
       "      <th></th>\n",
       "      <th>purchase_timeYear</th>\n",
       "      <th>purchase_timeMonth</th>\n",
       "      <th>purchase_timeWeek</th>\n",
       "      <th>purchase_timeDay</th>\n",
       "      <th>purchase_timeDayofweek</th>\n",
       "      <th>purchase_timeDayofyear</th>\n",
       "      <th>purchase_timeElapsed</th>\n",
       "    </tr>\n",
       "  </thead>\n",
       "  <tbody>\n",
       "    <tr>\n",
       "      <th>count</th>\n",
       "      <td>112650.000000</td>\n",
       "      <td>112650.000000</td>\n",
       "      <td>112650.000000</td>\n",
       "      <td>112650.000000</td>\n",
       "      <td>112650.000000</td>\n",
       "      <td>112650.000000</td>\n",
       "      <td>1.126500e+05</td>\n",
       "    </tr>\n",
       "    <tr>\n",
       "      <th>mean</th>\n",
       "      <td>2017.541909</td>\n",
       "      <td>6.026835</td>\n",
       "      <td>24.338686</td>\n",
       "      <td>15.558331</td>\n",
       "      <td>2.745850</td>\n",
       "      <td>167.578029</td>\n",
       "      <td>1.514765e+09</td>\n",
       "    </tr>\n",
       "    <tr>\n",
       "      <th>std</th>\n",
       "      <td>0.504792</td>\n",
       "      <td>3.232541</td>\n",
       "      <td>14.056993</td>\n",
       "      <td>8.664745</td>\n",
       "      <td>1.963419</td>\n",
       "      <td>98.703801</td>\n",
       "      <td>1.323155e+07</td>\n",
       "    </tr>\n",
       "    <tr>\n",
       "      <th>min</th>\n",
       "      <td>2016.000000</td>\n",
       "      <td>1.000000</td>\n",
       "      <td>1.000000</td>\n",
       "      <td>1.000000</td>\n",
       "      <td>0.000000</td>\n",
       "      <td>1.000000</td>\n",
       "      <td>1.473024e+09</td>\n",
       "    </tr>\n",
       "    <tr>\n",
       "      <th>25%</th>\n",
       "      <td>2017.000000</td>\n",
       "      <td>3.000000</td>\n",
       "      <td>13.000000</td>\n",
       "      <td>8.000000</td>\n",
       "      <td>1.000000</td>\n",
       "      <td>85.000000</td>\n",
       "      <td>1.505330e+09</td>\n",
       "    </tr>\n",
       "    <tr>\n",
       "      <th>50%</th>\n",
       "      <td>2018.000000</td>\n",
       "      <td>6.000000</td>\n",
       "      <td>23.000000</td>\n",
       "      <td>16.000000</td>\n",
       "      <td>3.000000</td>\n",
       "      <td>162.000000</td>\n",
       "      <td>1.516403e+09</td>\n",
       "    </tr>\n",
       "    <tr>\n",
       "      <th>75%</th>\n",
       "      <td>2018.000000</td>\n",
       "      <td>8.000000</td>\n",
       "      <td>34.000000</td>\n",
       "      <td>23.000000</td>\n",
       "      <td>4.000000</td>\n",
       "      <td>233.000000</td>\n",
       "      <td>1.525455e+09</td>\n",
       "    </tr>\n",
       "    <tr>\n",
       "      <th>max</th>\n",
       "      <td>2018.000000</td>\n",
       "      <td>12.000000</td>\n",
       "      <td>52.000000</td>\n",
       "      <td>31.000000</td>\n",
       "      <td>6.000000</td>\n",
       "      <td>365.000000</td>\n",
       "      <td>1.535966e+09</td>\n",
       "    </tr>\n",
       "  </tbody>\n",
       "</table>\n",
       "</div>"
      ],
      "text/plain": [
       "       purchase_timeYear  purchase_timeMonth  purchase_timeWeek  \\\n",
       "count      112650.000000       112650.000000      112650.000000   \n",
       "mean         2017.541909            6.026835          24.338686   \n",
       "std             0.504792            3.232541          14.056993   \n",
       "min          2016.000000            1.000000           1.000000   \n",
       "25%          2017.000000            3.000000          13.000000   \n",
       "50%          2018.000000            6.000000          23.000000   \n",
       "75%          2018.000000            8.000000          34.000000   \n",
       "max          2018.000000           12.000000          52.000000   \n",
       "\n",
       "       purchase_timeDay  purchase_timeDayofweek  purchase_timeDayofyear  \\\n",
       "count     112650.000000           112650.000000           112650.000000   \n",
       "mean          15.558331                2.745850              167.578029   \n",
       "std            8.664745                1.963419               98.703801   \n",
       "min            1.000000                0.000000                1.000000   \n",
       "25%            8.000000                1.000000               85.000000   \n",
       "50%           16.000000                3.000000              162.000000   \n",
       "75%           23.000000                4.000000              233.000000   \n",
       "max           31.000000                6.000000              365.000000   \n",
       "\n",
       "       purchase_timeElapsed  \n",
       "count          1.126500e+05  \n",
       "mean           1.514765e+09  \n",
       "std            1.323155e+07  \n",
       "min            1.473024e+09  \n",
       "25%            1.505330e+09  \n",
       "50%            1.516403e+09  \n",
       "75%            1.525455e+09  \n",
       "max            1.535966e+09  "
      ]
     },
     "execution_count": 51,
     "metadata": {},
     "output_type": "execute_result"
    }
   ],
   "source": [
    "selected_w_dates_df[purchase_time_cols].describe()"
   ]
  },
  {
   "cell_type": "markdown",
   "id": "0f9d11e8-b949-4dff-a9ea-986917a7deda",
   "metadata": {},
   "source": [
    "> It's a bit much to plot all six of our time columns, so let's just look at the distributions of the first three."
   ]
  },
  {
   "cell_type": "code",
   "execution_count": 52,
   "id": "2925c18f-72c0-447d-8c56-dbb49961fbe3",
   "metadata": {},
   "outputs": [
    {
     "data": {
      "text/plain": [
       "array([[<AxesSubplot: title={'center': 'purchase_timeYear'}>,\n",
       "        <AxesSubplot: title={'center': 'purchase_timeMonth'}>],\n",
       "       [<AxesSubplot: title={'center': 'purchase_timeWeek'}>,\n",
       "        <AxesSubplot: >]], dtype=object)"
      ]
     },
     "execution_count": 52,
     "metadata": {},
     "output_type": "execute_result"
    },
    {
     "data": {
      "image/png": "[encoded data removed]",
      "text/plain": [
       "<Figure size 1000x500 with 4 Axes>"
      ]
     },
     "metadata": {},
     "output_type": "display_data"
    }
   ],
   "source": [
    "selected_w_dates_df[purchase_time_cols[:3]].hist(figsize=(10,5))"
   ]
  },
  {
   "cell_type": "markdown",
   "id": "6fe50c3b-a16a-4348-94df-35449f7dbb09",
   "metadata": {},
   "source": [
    "It looks like we only have a few rows from 2016 -- whereas the data between 2017 and 2018 appears more even.  We could do more research to see if the 2017 data has missing data, but as a bare minimum, let's remove the 2016 data.  After all, we would not want to make any conclusions about what occurred in 2016. "
   ]
  },
  {
   "cell_type": "code",
   "execution_count": 53,
   "id": "085dabe9-1e55-4db5-95e7-c3b86b5ad184",
   "metadata": {},
   "outputs": [
    {
     "data": {
      "text/html": [
       "<div>\n",
       "<style scoped>\n",
       "    .dataframe tbody tr th:only-of-type {\n",
       "        vertical-align: middle;\n",
       "    }\n",
       "\n",
       "    .dataframe tbody tr th {\n",
       "        vertical-align: top;\n",
       "    }\n",
       "\n",
       "    .dataframe thead th {\n",
       "        text-align: right;\n",
       "    }\n",
       "</style>\n",
       "<table border=\"1\" class=\"dataframe\">\n",
       "  <thead>\n",
       "    <tr style=\"text-align: right;\">\n",
       "      <th></th>\n",
       "      <th>customer_zip_code_prefix</th>\n",
       "      <th>customer_city</th>\n",
       "      <th>customer_state</th>\n",
       "      <th>product_category_name</th>\n",
       "      <th>order_id</th>\n",
       "      <th>customer_id</th>\n",
       "      <th>product_id</th>\n",
       "      <th>price</th>\n",
       "      <th>purchase_timeYear</th>\n",
       "      <th>purchase_timeMonth</th>\n",
       "      <th>purchase_timeWeek</th>\n",
       "      <th>purchase_timeDay</th>\n",
       "      <th>purchase_timeDayofweek</th>\n",
       "      <th>purchase_timeDayofyear</th>\n",
       "      <th>purchase_timeElapsed</th>\n",
       "    </tr>\n",
       "  </thead>\n",
       "  <tbody>\n",
       "    <tr>\n",
       "      <th>0</th>\n",
       "      <td>3149</td>\n",
       "      <td>sao paulo</td>\n",
       "      <td>SP</td>\n",
       "      <td>utilidades_domesticas</td>\n",
       "      <td>e481f51cbdc54678b7cc49136f2d6af7</td>\n",
       "      <td>9ef432eb6251297304e76186b10a928d</td>\n",
       "      <td>87285b34884572647811a353c7ac498a</td>\n",
       "      <td>29.99</td>\n",
       "      <td>2017</td>\n",
       "      <td>10</td>\n",
       "      <td>40</td>\n",
       "      <td>2</td>\n",
       "      <td>0</td>\n",
       "      <td>275</td>\n",
       "      <td>1506941793</td>\n",
       "    </tr>\n",
       "    <tr>\n",
       "      <th>1</th>\n",
       "      <td>3366</td>\n",
       "      <td>sao paulo</td>\n",
       "      <td>SP</td>\n",
       "      <td>utilidades_domesticas</td>\n",
       "      <td>128e10d95713541c87cd1a2e48201934</td>\n",
       "      <td>a20e8105f23924cd00833fd87daa0831</td>\n",
       "      <td>87285b34884572647811a353c7ac498a</td>\n",
       "      <td>29.99</td>\n",
       "      <td>2017</td>\n",
       "      <td>8</td>\n",
       "      <td>33</td>\n",
       "      <td>15</td>\n",
       "      <td>1</td>\n",
       "      <td>227</td>\n",
       "      <td>1502821771</td>\n",
       "    </tr>\n",
       "  </tbody>\n",
       "</table>\n",
       "</div>"
      ],
      "text/plain": [
       "   customer_zip_code_prefix customer_city customer_state  \\\n",
       "0                      3149     sao paulo             SP   \n",
       "1                      3366     sao paulo             SP   \n",
       "\n",
       "   product_category_name                          order_id  \\\n",
       "0  utilidades_domesticas  e481f51cbdc54678b7cc49136f2d6af7   \n",
       "1  utilidades_domesticas  128e10d95713541c87cd1a2e48201934   \n",
       "\n",
       "                        customer_id                        product_id  price  \\\n",
       "0  9ef432eb6251297304e76186b10a928d  87285b34884572647811a353c7ac498a  29.99   \n",
       "1  a20e8105f23924cd00833fd87daa0831  87285b34884572647811a353c7ac498a  29.99   \n",
       "\n",
       "   purchase_timeYear  purchase_timeMonth  purchase_timeWeek  purchase_timeDay  \\\n",
       "0               2017                  10                 40                 2   \n",
       "1               2017                   8                 33                15   \n",
       "\n",
       "   purchase_timeDayofweek  purchase_timeDayofyear  purchase_timeElapsed  \n",
       "0                       0                     275            1506941793  \n",
       "1                       1                     227            1502821771  "
      ]
     },
     "execution_count": 53,
     "metadata": {},
     "output_type": "execute_result"
    }
   ],
   "source": [
    "selected_df_2017_plus = selected_w_dates_df[selected_w_dates_df['purchase_timeYear'] > 2016]\n",
    "selected_df_2017_plus[:2]"
   ]
  },
  {
   "cell_type": "markdown",
   "id": "b51312f2-95b9-48fc-8b13-b998e480449e",
   "metadata": {},
   "source": [
    "Ok now let's look at our two years individually.  We can plot purchases across days for each year - starting with 2017."
   ]
  },
  {
   "cell_type": "code",
   "execution_count": 56,
   "id": "2c4968a0-6159-4ac1-8bf0-78d525fd6658",
   "metadata": {},
   "outputs": [
    {
     "data": {
      "text/plain": [
       "<AxesSubplot: >"
      ]
     },
     "execution_count": 56,
     "metadata": {},
     "output_type": "execute_result"
    },
    {
     "data": {
      "image/png": "[encoded data removed]",
      "text/plain": [
       "<Figure size 1000x300 with 1 Axes>"
      ]
     },
     "metadata": {},
     "output_type": "display_data"
    }
   ],
   "source": [
    "df_2017 = selected_w_dates_df[selected_w_dates_df['purchase_timeYear'] == 2017]\n",
    "df_2017['purchase_timeDayofyear'].hist(figsize=(10,3))"
   ]
  },
  {
   "cell_type": "markdown",
   "id": "f4f09aba-29c2-4d22-a505-bc4122631005",
   "metadata": {},
   "source": [
    "And let's do the same for 2018."
   ]
  },
  {
   "cell_type": "code",
   "execution_count": 55,
   "id": "5f44defd-dd2f-4f14-ae91-d048d8557b40",
   "metadata": {},
   "outputs": [
    {
     "data": {
      "text/plain": [
       "<AxesSubplot: >"
      ]
     },
     "execution_count": 55,
     "metadata": {},
     "output_type": "execute_result"
    },
    {
     "data": {
      "image/png": "[encoded data removed]",
      "text/plain": [
       "<Figure size 1000x300 with 1 Axes>"
      ]
     },
     "metadata": {},
     "output_type": "display_data"
    }
   ],
   "source": [
    "df_2018 = selected_w_dates_df[selected_w_dates_df['purchase_timeYear'] == 2018]\n",
    "\n",
    "\n",
    "df_2018['purchase_timeDayofyear'].hist(figsize=(10,3))"
   ]
  },
  {
   "cell_type": "markdown",
   "id": "4f17c035-5d2b-4d43-8c1a-e65752ee5796",
   "metadata": {},
   "source": [
    "Looking at this data, we can see that:\n",
    "\n",
    "1. There is a trend of increasing data throughout 2017, whereas 2018 is more even.  \n",
    "2. We're missing data from the end of 2018 (it ends at day 245 or so)."
   ]
  },
  {
   "cell_type": "markdown",
   "id": "fd9b1b4e-3f37-4a17-baea-7d59503e224f",
   "metadata": {},
   "source": [
    "For the 2017 data, it would be good to learn more about whether this data is in fact complete (it could be missing, or it could just be that the company is increasing in popularity during that time).  How?  Well, in the real world, we would ask someone.\n",
    "\n",
    "Until we learn more about the quality of our data, we probably should not trying to compare one year to another (we only have two years of data, and 2017 may be compromised).  Instead, let's just select a year's worth of data.   "
   ]
  },
  {
   "cell_type": "markdown",
   "id": "7501f0cb-cc1c-4bd2-8c30-e7e5180579e8",
   "metadata": {},
   "source": [
    "To do so, we can first look at the maximum date for 2018.  This way we can select one years worth of data by just moving backwards one year."
   ]
  },
  {
   "cell_type": "code",
   "execution_count": 84,
   "id": "0bfdf6a1-23b0-45f6-9b8e-af85a2ad706e",
   "metadata": {},
   "outputs": [
    {
     "data": {
      "text/plain": [
       "count    61416.000000\n",
       "mean       117.402403\n",
       "std         68.884850\n",
       "min          1.000000\n",
       "25%         58.000000\n",
       "50%        115.000000\n",
       "75%        177.000000\n",
       "max        246.000000\n",
       "Name: purchase_timeDayofyear, dtype: float64"
      ]
     },
     "execution_count": 84,
     "metadata": {},
     "output_type": "execute_result"
    }
   ],
   "source": [
    "df_2018['purchase_timeDayofyear'].describe()"
   ]
  },
  {
   "cell_type": "code",
   "execution_count": 86,
   "id": "b25a1544-5a2e-40a9-9ca0-e22073270c40",
   "metadata": {},
   "outputs": [
    {
     "data": {
      "text/plain": [
       "count    50864.000000\n",
       "mean       227.343052\n",
       "std         95.619374\n",
       "min          5.000000\n",
       "25%        151.000000\n",
       "50%        242.000000\n",
       "75%        317.000000\n",
       "max        365.000000\n",
       "Name: purchase_timeDayofyear, dtype: float64"
      ]
     },
     "execution_count": 86,
     "metadata": {},
     "output_type": "execute_result"
    }
   ],
   "source": [
    "df_2017['purchase_timeDayofyear'].describe()"
   ]
  },
  {
   "cell_type": "markdown",
   "id": "89ccec2f-3e02-42d8-af11-9157fa387888",
   "metadata": {},
   "source": [
    "So let's select our data from after 2017, day 246, as our 2018 ends at day 246."
   ]
  },
  {
   "cell_type": "markdown",
   "id": "77e8bfbe-0c2b-4173-b597-8638dd35f410",
   "metadata": {},
   "source": [
    "> One way to do that is just to select data after a certain purchase time elapsed."
   ]
  },
  {
   "cell_type": "code",
   "execution_count": 59,
   "id": "637a1389-5fcd-41d9-aca4-2e14a510cf5c",
   "metadata": {},
   "outputs": [],
   "source": [
    "selected_full_year_df = selected_w_dates_df[selected_w_dates_df['purchase_timeElapsed'] > 1504486129]"
   ]
  },
  {
   "cell_type": "markdown",
   "id": "64fed730-7b9f-43ca-8022-5f1bbe025653",
   "metadata": {},
   "source": [
    "And we can see that we have a full year of data."
   ]
  },
  {
   "cell_type": "code",
   "execution_count": 60,
   "id": "1d5a7007-8b50-44f4-abb8-805229ec1139",
   "metadata": {},
   "outputs": [
    {
     "data": {
      "text/plain": [
       "<AxesSubplot: >"
      ]
     },
     "execution_count": 60,
     "metadata": {},
     "output_type": "execute_result"
    },
    {
     "data": {
      "image/png": "[encoded data removed]",
      "text/plain": [
       "<Figure size 1000x300 with 1 Axes>"
      ]
     },
     "metadata": {},
     "output_type": "display_data"
    }
   ],
   "source": [
    "selected_full_year_df['purchase_timeDayofyear'].hist(figsize=(10,3))"
   ]
  },
  {
   "cell_type": "markdown",
   "id": "91be6091-a0e1-47df-9c7b-8a0e24a34b74",
   "metadata": {},
   "source": [
    "So all of that was just to explore, and properly select data from a representative range of time.  Crazy, I know."
   ]
  },
  {
   "cell_type": "markdown",
   "id": "c9d48f68-5544-4e03-8c9d-9c1d02aa209b",
   "metadata": {},
   "source": [
    "### 2. Exploring the target"
   ]
  },
  {
   "cell_type": "markdown",
   "id": "ef4ede47-2c5d-4c9d-8b7a-783bfd83dd2f",
   "metadata": {},
   "source": [
    "Ok, next let's explore the target.  We want to check for missing data, or values that could be incorrect."
   ]
  },
  {
   "cell_type": "code",
   "execution_count": 61,
   "id": "b1ca1591-53af-4286-9454-f6dcb088607b",
   "metadata": {},
   "outputs": [
    {
     "data": {
      "text/plain": [
       "count    86098.000000\n",
       "mean       120.262518\n",
       "std        178.442271\n",
       "min          0.850000\n",
       "25%         39.990000\n",
       "50%         75.000000\n",
       "75%        135.000000\n",
       "max       6729.000000\n",
       "Name: price, dtype: float64"
      ]
     },
     "execution_count": 61,
     "metadata": {},
     "output_type": "execute_result"
    }
   ],
   "source": [
    "selected_full_year_df['price'].describe()"
   ]
  },
  {
   "cell_type": "markdown",
   "id": "2c3f19c0-d3e6-4d66-8b4b-9a4830e5721d",
   "metadata": {},
   "source": [
    "One thing we notice off of the bat, is that there are no items that have a price of 0, or negative numbers, indicating that we do not have any nonsensical data."
   ]
  },
  {
   "cell_type": "markdown",
   "id": "1836e026-f386-4faf-98c5-70986be5b772",
   "metadata": {},
   "source": [
    "The maximum price of `6729` may indicate that incorrect data.  Let's see if this is an outlier by plotting a histogram of the data.  "
   ]
  },
  {
   "cell_type": "code",
   "execution_count": 67,
   "id": "6ad612a7-2e43-43fb-84e1-212551731285",
   "metadata": {},
   "outputs": [
    {
     "data": {
      "text/plain": [
       "<AxesSubplot: >"
      ]
     },
     "execution_count": 67,
     "metadata": {},
     "output_type": "execute_result"
    },
    {
     "data": {
      "image/png": "[encoded data removed]",
      "text/plain": [
       "<Figure size 1000x200 with 1 Axes>"
      ]
     },
     "metadata": {},
     "output_type": "display_data"
    }
   ],
   "source": [
    "selected_full_year_df['price'].hist(figsize = (10, 2))"
   ]
  },
  {
   "cell_type": "markdown",
   "id": "121737d6-eb4c-414d-9611-c39f8c9f9815",
   "metadata": {},
   "source": [
    "Ok, let's zoom in by playing with the range."
   ]
  },
  {
   "cell_type": "code",
   "execution_count": 69,
   "id": "2c25c2e1-9660-4bce-93c8-625aaa668b94",
   "metadata": {},
   "outputs": [
    {
     "data": {
      "text/plain": [
       "<AxesSubplot: >"
      ]
     },
     "execution_count": 69,
     "metadata": {},
     "output_type": "execute_result"
    },
    {
     "data": {
      "image/png": "[encoded data removed]",
      "text/plain": [
       "<Figure size 1000x200 with 1 Axes>"
      ]
     },
     "metadata": {},
     "output_type": "display_data"
    }
   ],
   "source": [
    "selected_full_year_df['price'].hist(figsize = (10, 2), range=[0, 400])"
   ]
  },
  {
   "cell_type": "markdown",
   "id": "aeb8c831-86a3-4708-abfa-b71dac8f7bc2",
   "metadata": {},
   "source": [
    "It looks like the vast majority of our products are within 0 and 400 dollars.  So let's take a look at just the highest priced products to at least see if this information makes sense -- or should be excluded."
   ]
  },
  {
   "cell_type": "code",
   "execution_count": 104,
   "id": "c1ddf691-5ee6-4dcd-82a8-3ff88015c231",
   "metadata": {},
   "outputs": [
    {
     "data": {
      "text/html": [
       "<div>\n",
       "<style scoped>\n",
       "    .dataframe tbody tr th:only-of-type {\n",
       "        vertical-align: middle;\n",
       "    }\n",
       "\n",
       "    .dataframe tbody tr th {\n",
       "        vertical-align: top;\n",
       "    }\n",
       "\n",
       "    .dataframe thead th {\n",
       "        text-align: right;\n",
       "    }\n",
       "</style>\n",
       "<table border=\"1\" class=\"dataframe\">\n",
       "  <thead>\n",
       "    <tr style=\"text-align: right;\">\n",
       "      <th></th>\n",
       "      <th>product_category_name</th>\n",
       "      <th>price</th>\n",
       "    </tr>\n",
       "  </thead>\n",
       "  <tbody>\n",
       "    <tr>\n",
       "      <th>84179</th>\n",
       "      <td>pcs</td>\n",
       "      <td>6729.00</td>\n",
       "    </tr>\n",
       "    <tr>\n",
       "      <th>92165</th>\n",
       "      <td>pcs</td>\n",
       "      <td>4590.00</td>\n",
       "    </tr>\n",
       "    <tr>\n",
       "      <th>63788</th>\n",
       "      <td>instrumentos_musicais</td>\n",
       "      <td>4399.87</td>\n",
       "    </tr>\n",
       "    <tr>\n",
       "      <th>75245</th>\n",
       "      <td>consoles_games</td>\n",
       "      <td>4099.99</td>\n",
       "    </tr>\n",
       "    <tr>\n",
       "      <th>34503</th>\n",
       "      <td>esporte_lazer</td>\n",
       "      <td>4059.00</td>\n",
       "    </tr>\n",
       "    <tr>\n",
       "      <th>104126</th>\n",
       "      <td>ferramentas_jardim</td>\n",
       "      <td>3930.00</td>\n",
       "    </tr>\n",
       "    <tr>\n",
       "      <th>105963</th>\n",
       "      <td>bebes</td>\n",
       "      <td>3899.00</td>\n",
       "    </tr>\n",
       "    <tr>\n",
       "      <th>88159</th>\n",
       "      <td>relogios_presentes</td>\n",
       "      <td>3700.00</td>\n",
       "    </tr>\n",
       "    <tr>\n",
       "      <th>34504</th>\n",
       "      <td>esporte_lazer</td>\n",
       "      <td>3690.00</td>\n",
       "    </tr>\n",
       "    <tr>\n",
       "      <th>34668</th>\n",
       "      <td>pcs</td>\n",
       "      <td>3399.99</td>\n",
       "    </tr>\n",
       "  </tbody>\n",
       "</table>\n",
       "</div>"
      ],
      "text/plain": [
       "        product_category_name    price\n",
       "84179                     pcs  6729.00\n",
       "92165                     pcs  4590.00\n",
       "63788   instrumentos_musicais  4399.87\n",
       "75245          consoles_games  4099.99\n",
       "34503           esporte_lazer  4059.00\n",
       "104126     ferramentas_jardim  3930.00\n",
       "105963                  bebes  3899.00\n",
       "88159      relogios_presentes  3700.00\n",
       "34504           esporte_lazer  3690.00\n",
       "34668                     pcs  3399.99"
      ]
     },
     "execution_count": 104,
     "metadata": {},
     "output_type": "execute_result"
    }
   ],
   "source": [
    "sorted_by_price_df = selected_full_year_df.sort_values('price', ascending = False)\n",
    "sorted_by_price_df[['product_category_name', 'price']][:10]"
   ]
  },
  {
   "cell_type": "markdown",
   "id": "3bf84d71-f771-4f59-9796-140b164a5ebc",
   "metadata": {},
   "source": [
    "Ok, so it doesn't look like our data is incorrect.  Rather we have some high priced categories -- like electronics, musical instruments, and garden tools (ferramentes jardim).\n",
    "\n",
    "Also, these purchases are from Brazil so we should divide them by ~5 to see the equivalent price in USD."
   ]
  },
  {
   "cell_type": "code",
   "execution_count": 110,
   "id": "6374d933-6686-4c79-907b-2361aa75d416",
   "metadata": {},
   "outputs": [
    {
     "data": {
      "text/html": [
       "<div>\n",
       "<style scoped>\n",
       "    .dataframe tbody tr th:only-of-type {\n",
       "        vertical-align: middle;\n",
       "    }\n",
       "\n",
       "    .dataframe tbody tr th {\n",
       "        vertical-align: top;\n",
       "    }\n",
       "\n",
       "    .dataframe thead th {\n",
       "        text-align: right;\n",
       "    }\n",
       "</style>\n",
       "<table border=\"1\" class=\"dataframe\">\n",
       "  <thead>\n",
       "    <tr style=\"text-align: right;\">\n",
       "      <th></th>\n",
       "      <th>product_category_name</th>\n",
       "      <th>price</th>\n",
       "      <th>us_price</th>\n",
       "    </tr>\n",
       "  </thead>\n",
       "  <tbody>\n",
       "    <tr>\n",
       "      <th>84179</th>\n",
       "      <td>pcs</td>\n",
       "      <td>6729.00</td>\n",
       "      <td>1345.800</td>\n",
       "    </tr>\n",
       "    <tr>\n",
       "      <th>92165</th>\n",
       "      <td>pcs</td>\n",
       "      <td>4590.00</td>\n",
       "      <td>918.000</td>\n",
       "    </tr>\n",
       "    <tr>\n",
       "      <th>63788</th>\n",
       "      <td>instrumentos_musicais</td>\n",
       "      <td>4399.87</td>\n",
       "      <td>879.974</td>\n",
       "    </tr>\n",
       "    <tr>\n",
       "      <th>75245</th>\n",
       "      <td>consoles_games</td>\n",
       "      <td>4099.99</td>\n",
       "      <td>819.998</td>\n",
       "    </tr>\n",
       "    <tr>\n",
       "      <th>34503</th>\n",
       "      <td>esporte_lazer</td>\n",
       "      <td>4059.00</td>\n",
       "      <td>811.800</td>\n",
       "    </tr>\n",
       "  </tbody>\n",
       "</table>\n",
       "</div>"
      ],
      "text/plain": [
       "       product_category_name    price  us_price\n",
       "84179                    pcs  6729.00  1345.800\n",
       "92165                    pcs  4590.00   918.000\n",
       "63788  instrumentos_musicais  4399.87   879.974\n",
       "75245         consoles_games  4099.99   819.998\n",
       "34503          esporte_lazer  4059.00   811.800"
      ]
     },
     "execution_count": 110,
     "metadata": {},
     "output_type": "execute_result"
    }
   ],
   "source": [
    "df_us_d = sorted_by_price_df[['product_category_name', 'price']].assign(us_price = sorted_by_price_df['price']/5)\n",
    "df_us_d[:5]"
   ]
  },
  {
   "cell_type": "markdown",
   "id": "dda8ae1e-f78c-411b-add7-a0a349c0bdd6",
   "metadata": {},
   "source": [
    "Ok, let's also take a look at our least priced items."
   ]
  },
  {
   "cell_type": "code",
   "execution_count": 114,
   "id": "2d28965c-cbef-4c99-b326-05ebf583ed34",
   "metadata": {},
   "outputs": [
    {
     "data": {
      "text/html": [
       "<div>\n",
       "<style scoped>\n",
       "    .dataframe tbody tr th:only-of-type {\n",
       "        vertical-align: middle;\n",
       "    }\n",
       "\n",
       "    .dataframe tbody tr th {\n",
       "        vertical-align: top;\n",
       "    }\n",
       "\n",
       "    .dataframe thead th {\n",
       "        text-align: right;\n",
       "    }\n",
       "</style>\n",
       "<table border=\"1\" class=\"dataframe\">\n",
       "  <thead>\n",
       "    <tr style=\"text-align: right;\">\n",
       "      <th></th>\n",
       "      <th>product_category_name</th>\n",
       "      <th>price</th>\n",
       "      <th>us_price</th>\n",
       "    </tr>\n",
       "  </thead>\n",
       "  <tbody>\n",
       "    <tr>\n",
       "      <th>98296</th>\n",
       "      <td>construcao_ferramentas_construcao</td>\n",
       "      <td>0.85</td>\n",
       "      <td>0.170</td>\n",
       "    </tr>\n",
       "    <tr>\n",
       "      <th>98298</th>\n",
       "      <td>construcao_ferramentas_construcao</td>\n",
       "      <td>0.85</td>\n",
       "      <td>0.170</td>\n",
       "    </tr>\n",
       "    <tr>\n",
       "      <th>98297</th>\n",
       "      <td>construcao_ferramentas_construcao</td>\n",
       "      <td>0.85</td>\n",
       "      <td>0.170</td>\n",
       "    </tr>\n",
       "    <tr>\n",
       "      <th>111794</th>\n",
       "      <td>beleza_saude</td>\n",
       "      <td>2.20</td>\n",
       "      <td>0.440</td>\n",
       "    </tr>\n",
       "    <tr>\n",
       "      <th>63662</th>\n",
       "      <td>papelaria</td>\n",
       "      <td>2.29</td>\n",
       "      <td>0.458</td>\n",
       "    </tr>\n",
       "    <tr>\n",
       "      <th>76894</th>\n",
       "      <td>papelaria</td>\n",
       "      <td>2.99</td>\n",
       "      <td>0.598</td>\n",
       "    </tr>\n",
       "    <tr>\n",
       "      <th>88982</th>\n",
       "      <td>NaN</td>\n",
       "      <td>3.00</td>\n",
       "      <td>0.600</td>\n",
       "    </tr>\n",
       "    <tr>\n",
       "      <th>88981</th>\n",
       "      <td>NaN</td>\n",
       "      <td>3.00</td>\n",
       "      <td>0.600</td>\n",
       "    </tr>\n",
       "    <tr>\n",
       "      <th>109007</th>\n",
       "      <td>utilidades_domesticas</td>\n",
       "      <td>3.06</td>\n",
       "      <td>0.612</td>\n",
       "    </tr>\n",
       "    <tr>\n",
       "      <th>109005</th>\n",
       "      <td>utilidades_domesticas</td>\n",
       "      <td>3.06</td>\n",
       "      <td>0.612</td>\n",
       "    </tr>\n",
       "  </tbody>\n",
       "</table>\n",
       "</div>"
      ],
      "text/plain": [
       "                    product_category_name  price  us_price\n",
       "98296   construcao_ferramentas_construcao   0.85     0.170\n",
       "98298   construcao_ferramentas_construcao   0.85     0.170\n",
       "98297   construcao_ferramentas_construcao   0.85     0.170\n",
       "111794                       beleza_saude   2.20     0.440\n",
       "63662                           papelaria   2.29     0.458\n",
       "76894                           papelaria   2.99     0.598\n",
       "88982                                 NaN   3.00     0.600\n",
       "88981                                 NaN   3.00     0.600\n",
       "109007              utilidades_domesticas   3.06     0.612\n",
       "109005              utilidades_domesticas   3.06     0.612"
      ]
     },
     "execution_count": 114,
     "metadata": {},
     "output_type": "execute_result"
    }
   ],
   "source": [
    "sorted_by_price_df_asc = selected_full_year_df.sort_values('price', ascending = True)\n",
    "sorted_by_price_df_asc[['product_category_name', 'price']].assign(us_price = sorted_by_price_df['price']/5)[:10]"
   ]
  },
  {
   "cell_type": "markdown",
   "id": "b34bf5cc-e02e-4cfd-96ab-2a715a452052",
   "metadata": {},
   "source": [
    "This translates to construction tools, and perhaps are items like screws or washers (or discounted screws and washers) -- explaining the cheap price."
   ]
  },
  {
   "cell_type": "markdown",
   "id": "6f4375e1-15ae-4344-93e2-bd8ff581f2f7",
   "metadata": {},
   "source": [
    "Still, this data looks accurate, and we now have a complete year's worth of data, which we can save to csv and work with as we explore our data. "
   ]
  },
  {
   "cell_type": "code",
   "execution_count": 122,
   "id": "ea7bf271-93ad-48e1-8164-abb750541d28",
   "metadata": {},
   "outputs": [],
   "source": [
    "selected_full_year_df.to_csv('./olist_2017_2018.csv', index = False)"
   ]
  },
  {
   "cell_type": "markdown",
   "id": "599476d7-37fd-4667-ba0f-9203b989048e",
   "metadata": {},
   "source": [
    "### Takeaways"
   ]
  },
  {
   "cell_type": "markdown",
   "id": "f0f9a14c-3a91-4ee1-bf45-8e13c6c9d3ce",
   "metadata": {},
   "source": [
    "Ok, so what can we takeaway from the above.  \n",
    "\n",
    "0. Merging data"
   ]
  },
  {
   "cell_type": "code",
   "execution_count": null,
   "id": "a2ef3688-6591-4606-bb61-276166bff1cb",
   "metadata": {},
   "outputs": [],
   "source": [
    "orders_df = dataframe_set['orders']\n",
    "orders_customers_df = orders_df.merge(dataframe_set['customers'], on = 'customer_id')\n",
    "orders_products_df = orders_customers_df.merge(dataframe_set['order_items'], on = 'order_id').merge(dataframe_set['products'], on = 'product_id')"
   ]
  },
  {
   "cell_type": "markdown",
   "id": "1d3496dc-b7b3-4e27-8120-1555f0c63438",
   "metadata": {},
   "source": [
    "1. Initial identification\n",
    "\n",
    "* Of the grain of the data (here it was individual order items)\n",
    "* Of the target (here it was the price)"
   ]
  },
  {
   "cell_type": "markdown",
   "id": "81a0d969-f62e-4849-8370-b1519d58ed15",
   "metadata": {},
   "source": [
    "2. Initial cleanup\n",
    "\n",
    "We select relevant columns, checked the datatypes, and used the `add_datepart` function to break the purchase datetime into multiple attributes.\n",
    "\n",
    "3. Checking the representativeness of the data\n",
    "\n",
    "* Time periods\n",
    "\n",
    "We then looked at a distribution of our data, to get a sense of our time period.  We saw we had what looked like complete data from the end of 2017 to the (almost) end of 2018.  So we selected one year's worth of data.  \n",
    "\n",
    "So we did not feel like we could calculate year over year data -- perhaps we could follow up to see if we have complete 2017 data, or can obtain it.\n",
    "\n",
    "* Target\n",
    "\n",
    "Because the target is what we are trying to predict, we paid special attention to it.  Using the `describe` function, our data fell within a sensible range -- there were no negative or zero prices.  And we saw tht most of the prices were below 400 pesos (~80 US), but that some reached $6000 pesos.\n",
    "\n",
    "So we looked at the lower and upper values to make sure that seemed like accurate prices, adn we're not inaccurate data.  They seemed reasonable, so we kept them."
   ]
  }
 ],
 "metadata": {
  "kernelspec": {
   "display_name": "Python 3 (ipykernel)",
   "language": "python",
   "name": "python3"
  },
  "language_info": {
   "codemirror_mode": {
    "name": "ipython",
    "version": 3
   },
   "file_extension": ".py",
   "mimetype": "text/x-python",
   "name": "python",
   "nbconvert_exporter": "python",
   "pygments_lexer": "ipython3",
   "version": "3.9.12"
  }
 },
 "nbformat": 4,
 "nbformat_minor": 5
}
