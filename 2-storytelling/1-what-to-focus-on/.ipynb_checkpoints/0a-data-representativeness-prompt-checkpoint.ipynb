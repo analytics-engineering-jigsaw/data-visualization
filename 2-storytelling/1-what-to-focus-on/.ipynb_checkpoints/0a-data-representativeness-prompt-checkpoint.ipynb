{
 "cells": [
  {
   "cell_type": "markdown",
   "id": "38213dfd-0e3c-494a-894e-e7b8f90a88d3",
   "metadata": {},
   "source": [
    "# Data Representativeness"
   ]
  },
  {
   "cell_type": "markdown",
   "id": "966f14bf-613e-47f7-aa03-b9701030e401",
   "metadata": {},
   "source": [
    "### Introduction"
   ]
  },
  {
   "cell_type": "markdown",
   "id": "1c177de5-d48b-4f79-bf23-e65c787b9992",
   "metadata": {},
   "source": [
    "In this section, we'll see various techniques for making inferences from data.  But first, we'll need to make sure that our data somehow *represents* the world that we are trying to describe.  \n",
    "\n",
    "In this lesson, we'll work with SAT data from NYC high schools. And just like almost all data we'll work with, it is incomplete.  So we'll need to look at how these limitations in the data may change what we can or cannot conclude."
   ]
  },
  {
   "cell_type": "markdown",
   "id": "b686dccf-8b72-41d4-a5ac-cfb48de63e3c",
   "metadata": {},
   "source": [
    "### Loading our data"
   ]
  },
  {
   "cell_type": "code",
   "execution_count": 3,
   "id": "27096c15-2b2b-4905-80d6-ee4908932bbf",
   "metadata": {},
   "outputs": [],
   "source": [
    "import pandas as pd\n",
    "url = 'https://raw.githubusercontent.com/analytics-engineering-jigsaw/data-visualization/main/2-storytelling/1-what-to-focus-on/sat_scores.csv'\n",
    "df = pd.read_csv(url, index_col = 0)"
   ]
  },
  {
   "cell_type": "code",
   "execution_count": 4,
   "id": "971f2609-bef0-4c37-bcb4-5e45baaf9241",
   "metadata": {},
   "outputs": [
    {
     "data": {
      "text/html": [
       "<div>\n",
       "<style scoped>\n",
       "    .dataframe tbody tr th:only-of-type {\n",
       "        vertical-align: middle;\n",
       "    }\n",
       "\n",
       "    .dataframe tbody tr th {\n",
       "        vertical-align: top;\n",
       "    }\n",
       "\n",
       "    .dataframe thead th {\n",
       "        text-align: right;\n",
       "    }\n",
       "</style>\n",
       "<table border=\"1\" class=\"dataframe\">\n",
       "  <thead>\n",
       "    <tr style=\"text-align: right;\">\n",
       "      <th></th>\n",
       "      <th>dbn</th>\n",
       "      <th>name</th>\n",
       "      <th>num_test_takers</th>\n",
       "      <th>reading_avg</th>\n",
       "      <th>math_avg</th>\n",
       "      <th>writing_score</th>\n",
       "      <th>boro</th>\n",
       "      <th>total_students</th>\n",
       "      <th>graduation_rate</th>\n",
       "      <th>attendance_rate</th>\n",
       "      <th>college_career_rate</th>\n",
       "    </tr>\n",
       "  </thead>\n",
       "  <tbody>\n",
       "    <tr>\n",
       "      <th>0</th>\n",
       "      <td>01M292</td>\n",
       "      <td>HENRY STREET SCHOOL FOR INTERNATIONAL STUDIES</td>\n",
       "      <td>29.0</td>\n",
       "      <td>355.0</td>\n",
       "      <td>404.0</td>\n",
       "      <td>363.0</td>\n",
       "      <td>M</td>\n",
       "      <td>171</td>\n",
       "      <td>0.66</td>\n",
       "      <td>0.87</td>\n",
       "      <td>0.36</td>\n",
       "    </tr>\n",
       "    <tr>\n",
       "      <th>1</th>\n",
       "      <td>01M448</td>\n",
       "      <td>UNIVERSITY NEIGHBORHOOD HIGH SCHOOL</td>\n",
       "      <td>91.0</td>\n",
       "      <td>383.0</td>\n",
       "      <td>423.0</td>\n",
       "      <td>366.0</td>\n",
       "      <td>M</td>\n",
       "      <td>465</td>\n",
       "      <td>0.90</td>\n",
       "      <td>0.93</td>\n",
       "      <td>0.70</td>\n",
       "    </tr>\n",
       "  </tbody>\n",
       "</table>\n",
       "</div>"
      ],
      "text/plain": [
       "      dbn                                           name  num_test_takers  \\\n",
       "0  01M292  HENRY STREET SCHOOL FOR INTERNATIONAL STUDIES             29.0   \n",
       "1  01M448            UNIVERSITY NEIGHBORHOOD HIGH SCHOOL             91.0   \n",
       "\n",
       "   reading_avg  math_avg  writing_score boro  total_students  graduation_rate  \\\n",
       "0        355.0     404.0          363.0    M             171             0.66   \n",
       "1        383.0     423.0          366.0    M             465             0.90   \n",
       "\n",
       "   attendance_rate  college_career_rate  \n",
       "0             0.87                 0.36  \n",
       "1             0.93                 0.70  "
      ]
     },
     "execution_count": 4,
     "metadata": {},
     "output_type": "execute_result"
    }
   ],
   "source": [
    "df[:2]"
   ]
  },
  {
   "cell_type": "markdown",
   "id": "216e1ceb-c988-467b-aa2c-d76afd890e0d",
   "metadata": {},
   "source": [
    "And if we look at the data, we can see various columns in our data -- indicating the boro and different test averages -- like the reading, math, and writing score averages."
   ]
  },
  {
   "cell_type": "code",
   "execution_count": 5,
   "id": "72cd8646-7af0-4db9-988f-758e8485d080",
   "metadata": {},
   "outputs": [
    {
     "data": {
      "text/plain": [
       "array(['M', 'X', 'K', 'Q', 'R'], dtype=object)"
      ]
     },
     "execution_count": 5,
     "metadata": {},
     "output_type": "execute_result"
    }
   ],
   "source": [
    "df['boro'].unique()"
   ]
  },
  {
   "cell_type": "markdown",
   "id": "67ed2f52-eead-42c0-a93d-ca597bf5bd31",
   "metadata": {},
   "source": [
    "We can replace the borough information with the [original names](https://en.wikipedia.org/wiki/Boroughs_of_New_York_City)."
   ]
  },
  {
   "cell_type": "code",
   "execution_count": 6,
   "id": "0e0fcf7b-92da-4cd1-9aaa-40170e2d2e33",
   "metadata": {},
   "outputs": [],
   "source": [
    "keys = ['M', 'X', 'K', 'Q', 'R']\n",
    "values = ['Manhattan', 'Bronx', 'Brooklyn', 'Queens', 'Staten Island']\n",
    "dictionary = dict(zip(keys, values))\n",
    "boro_updated = df['boro'].replace(dictionary)\n",
    "df_updated = df.assign(boro = boro_updated)"
   ]
  },
  {
   "cell_type": "markdown",
   "id": "2d31b032-6a4a-44b9-b7ea-d27ed9d48de7",
   "metadata": {},
   "source": [
    "### Drawing Conclusions"
   ]
  },
  {
   "cell_type": "markdown",
   "id": "f1c3dc4e-1620-49f4-b98b-970a3d6627c2",
   "metadata": {},
   "source": [
    "There are different components that we may want to say about the data.  For example, let's see how our SAT scores rank by borough."
   ]
  },
  {
   "cell_type": "code",
   "execution_count": 7,
   "id": "7b25399f-0135-4104-92ea-98c7bf6bc913",
   "metadata": {},
   "outputs": [
    {
     "data": {
      "text/html": [
       "<div>\n",
       "<style scoped>\n",
       "    .dataframe tbody tr th:only-of-type {\n",
       "        vertical-align: middle;\n",
       "    }\n",
       "\n",
       "    .dataframe tbody tr th {\n",
       "        vertical-align: top;\n",
       "    }\n",
       "\n",
       "    .dataframe thead th {\n",
       "        text-align: right;\n",
       "    }\n",
       "</style>\n",
       "<table border=\"1\" class=\"dataframe\">\n",
       "  <thead>\n",
       "    <tr style=\"text-align: right;\">\n",
       "      <th></th>\n",
       "      <th>math_avg</th>\n",
       "      <th>reading_avg</th>\n",
       "    </tr>\n",
       "    <tr>\n",
       "      <th>boro</th>\n",
       "      <th></th>\n",
       "      <th></th>\n",
       "    </tr>\n",
       "  </thead>\n",
       "  <tbody>\n",
       "    <tr>\n",
       "      <th>Staten Island</th>\n",
       "      <td>472.500000</td>\n",
       "      <td>457.500000</td>\n",
       "    </tr>\n",
       "    <tr>\n",
       "      <th>Queens</th>\n",
       "      <td>450.650000</td>\n",
       "      <td>423.916667</td>\n",
       "    </tr>\n",
       "    <tr>\n",
       "      <th>Manhattan</th>\n",
       "      <td>442.886076</td>\n",
       "      <td>426.696203</td>\n",
       "    </tr>\n",
       "    <tr>\n",
       "      <th>Brooklyn</th>\n",
       "      <td>404.030612</td>\n",
       "      <td>391.255102</td>\n",
       "    </tr>\n",
       "    <tr>\n",
       "      <th>Bronx</th>\n",
       "      <td>394.000000</td>\n",
       "      <td>384.237500</td>\n",
       "    </tr>\n",
       "  </tbody>\n",
       "</table>\n",
       "</div>"
      ],
      "text/plain": [
       "                 math_avg  reading_avg\n",
       "boro                                  \n",
       "Staten Island  472.500000   457.500000\n",
       "Queens         450.650000   423.916667\n",
       "Manhattan      442.886076   426.696203\n",
       "Brooklyn       404.030612   391.255102\n",
       "Bronx          394.000000   384.237500"
      ]
     },
     "execution_count": 7,
     "metadata": {},
     "output_type": "execute_result"
    }
   ],
   "source": [
    "avg_by_boro = df_updated.groupby('boro').mean(numeric_only = True)\n",
    "avg_by_boro[['math_avg', 'reading_avg']].sort_values('math_avg', ascending = False)\n",
    "# avg_by_boro"
   ]
  },
  {
   "cell_type": "markdown",
   "id": "2235446b-5658-4e73-8fb0-424daf4888b3",
   "metadata": {},
   "source": [
    "So is this data accurate?  And what conclusions can we draw from this data.  \n",
    "\n",
    "Can we say that students from Staten Island tend to be better at math and reading?  Or better at math and reading skills assessed by the SAT?\n",
    "\n",
    "To get a better idea of what we can and cannot say, let's check the data.  The first step of checking the data is to say, do the results seem right.  Above, they may be surprising.  \n",
    "\n",
    "Another way is to check our underlying data.  What are different ways you can check our above data to see if it really does allow us to make conclusions about SAT performance.  "
   ]
  },
  {
   "cell_type": "markdown",
   "id": "b52154e7-d15c-4b02-b5df-32fca245f32c",
   "metadata": {},
   "source": [
    "### The problem with missing data"
   ]
  },
  {
   "cell_type": "markdown",
   "id": "f3a47638-a167-45c6-8c13-27594fffedba",
   "metadata": {},
   "source": [
    "Before moving on, let's be explicit about the problem with missing data.  Missing data is ok if our data is still *representative* of the underlying population we are studying (here, NYC school across boroughs).  For example, one way we may achieve this is by taking a random sample of schools from different boroughs, and assessing the SAT performance of their students.  In that case, we might expect that the data we capture looks like our data in general.\n",
    "\n",
    "**But normally**, when we have different missing data showing up in our data, it's because that data is hard to capture, or wasn't reported, or was reported incorrectly.  And often these records that are hard to capture look very different from the data that is easier to capture.  So this can *bias* our dataset.     \n",
    "\n",
    "So one thing to be worried about with our above data is *reporting bias*.  The better the results, the more likely a school (or anyone else) is likely to report them.  And this means that the missing schools may be performing worse than the reporting ones."
   ]
  },
  {
   "cell_type": "markdown",
   "id": "090867df-8dac-42da-a69a-3fbcb25aa1ac",
   "metadata": {},
   "source": [
    "### Your turn"
   ]
  },
  {
   "cell_type": "markdown",
   "id": "0d9358ee-5ead-4b6a-9669-ad3f97c3c725",
   "metadata": {},
   "source": [
    "Ok, so is there missing data in our dataset?  Spend the next fifteen minutes to explore the dataset to see if and how we may be missing data.  And also explore the dataset to make a general assessment about how representative our dataset is about the underlying population.  Does our dataset allow us to make certain conclusions about SAT performance or schools?"
   ]
  },
  {
   "cell_type": "markdown",
   "id": "7cd656ca-e479-4d04-9c7b-b88e57db560d",
   "metadata": {},
   "source": [
    "> Don't be so skeptical, this dataset does offer value.\n",
    "\n",
    "Ok, we'll let you explore it for representativeness."
   ]
  },
  {
   "cell_type": "code",
   "execution_count": 10,
   "id": "ef072bd8-6c3c-405d-8259-d697d24ae339",
   "metadata": {},
   "outputs": [
    {
     "data": {
      "text/html": [
       "<div>\n",
       "<style scoped>\n",
       "    .dataframe tbody tr th:only-of-type {\n",
       "        vertical-align: middle;\n",
       "    }\n",
       "\n",
       "    .dataframe tbody tr th {\n",
       "        vertical-align: top;\n",
       "    }\n",
       "\n",
       "    .dataframe thead th {\n",
       "        text-align: right;\n",
       "    }\n",
       "</style>\n",
       "<table border=\"1\" class=\"dataframe\">\n",
       "  <thead>\n",
       "    <tr style=\"text-align: right;\">\n",
       "      <th></th>\n",
       "      <th>dbn</th>\n",
       "      <th>name</th>\n",
       "      <th>num_test_takers</th>\n",
       "      <th>reading_avg</th>\n",
       "      <th>math_avg</th>\n",
       "      <th>writing_score</th>\n",
       "      <th>boro</th>\n",
       "      <th>total_students</th>\n",
       "      <th>graduation_rate</th>\n",
       "      <th>attendance_rate</th>\n",
       "      <th>college_career_rate</th>\n",
       "    </tr>\n",
       "  </thead>\n",
       "  <tbody>\n",
       "    <tr>\n",
       "      <th>0</th>\n",
       "      <td>01M292</td>\n",
       "      <td>HENRY STREET SCHOOL FOR INTERNATIONAL STUDIES</td>\n",
       "      <td>29.0</td>\n",
       "      <td>355.0</td>\n",
       "      <td>404.0</td>\n",
       "      <td>363.0</td>\n",
       "      <td>Manhattan</td>\n",
       "      <td>171</td>\n",
       "      <td>0.66</td>\n",
       "      <td>0.87</td>\n",
       "      <td>0.36</td>\n",
       "    </tr>\n",
       "    <tr>\n",
       "      <th>1</th>\n",
       "      <td>01M448</td>\n",
       "      <td>UNIVERSITY NEIGHBORHOOD HIGH SCHOOL</td>\n",
       "      <td>91.0</td>\n",
       "      <td>383.0</td>\n",
       "      <td>423.0</td>\n",
       "      <td>366.0</td>\n",
       "      <td>Manhattan</td>\n",
       "      <td>465</td>\n",
       "      <td>0.90</td>\n",
       "      <td>0.93</td>\n",
       "      <td>0.70</td>\n",
       "    </tr>\n",
       "    <tr>\n",
       "      <th>2</th>\n",
       "      <td>01M450</td>\n",
       "      <td>EAST SIDE COMMUNITY SCHOOL</td>\n",
       "      <td>70.0</td>\n",
       "      <td>377.0</td>\n",
       "      <td>402.0</td>\n",
       "      <td>370.0</td>\n",
       "      <td>Manhattan</td>\n",
       "      <td>683</td>\n",
       "      <td>0.92</td>\n",
       "      <td>0.94</td>\n",
       "      <td>0.77</td>\n",
       "    </tr>\n",
       "  </tbody>\n",
       "</table>\n",
       "</div>"
      ],
      "text/plain": [
       "      dbn                                           name  num_test_takers  \\\n",
       "0  01M292  HENRY STREET SCHOOL FOR INTERNATIONAL STUDIES             29.0   \n",
       "1  01M448            UNIVERSITY NEIGHBORHOOD HIGH SCHOOL             91.0   \n",
       "2  01M450                     EAST SIDE COMMUNITY SCHOOL             70.0   \n",
       "\n",
       "   reading_avg  math_avg  writing_score       boro  total_students  \\\n",
       "0        355.0     404.0          363.0  Manhattan             171   \n",
       "1        383.0     423.0          366.0  Manhattan             465   \n",
       "2        377.0     402.0          370.0  Manhattan             683   \n",
       "\n",
       "   graduation_rate  attendance_rate  college_career_rate  \n",
       "0             0.66             0.87                 0.36  \n",
       "1             0.90             0.93                 0.70  \n",
       "2             0.92             0.94                 0.77  "
      ]
     },
     "execution_count": 10,
     "metadata": {},
     "output_type": "execute_result"
    }
   ],
   "source": [
    "df_updated[:3]"
   ]
  },
  {
   "cell_type": "markdown",
   "id": "0bb8d68c-b70f-4f17-b1bb-d00a5154ac3f",
   "metadata": {},
   "source": [
    "### Summary"
   ]
  },
  {
   "cell_type": "markdown",
   "id": "34bc606d-8273-4df5-8be6-b01c03ac72de",
   "metadata": {},
   "source": [
    "In this lesson, we talked about considering the representativeness of our data.  That is, if we're going to make inferences from our data -- does our data reflect the real world?\n",
    "\n",
    "We discussed the problem of missing data -- that it can bias our dataset.  This occurs when the data that is missing is different from the data that is present.  And that here, it can occur with reporting bias.  "
   ]
  }
 ],
 "metadata": {
  "kernelspec": {
   "display_name": "Python 3 (ipykernel)",
   "language": "python",
   "name": "python3"
  },
  "language_info": {
   "codemirror_mode": {
    "name": "ipython",
    "version": 3
   },
   "file_extension": ".py",
   "mimetype": "text/x-python",
   "name": "python",
   "nbconvert_exporter": "python",
   "pygments_lexer": "ipython3",
   "version": "3.9.12"
  }
 },
 "nbformat": 4,
 "nbformat_minor": 5
}
