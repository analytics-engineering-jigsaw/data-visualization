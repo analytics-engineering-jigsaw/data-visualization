{
 "cells": [
  {
   "cell_type": "markdown",
   "id": "327d52e4-dfb3-4e43-b787-1a602dccd1dc",
   "metadata": {},
   "source": [
    "# Crafting the message - solution"
   ]
  },
  {
   "cell_type": "markdown",
   "id": "94725569-0694-468a-8dfe-5f6eebb66879",
   "metadata": {},
   "source": [
    "### Introduction"
   ]
  },
  {
   "cell_type": "markdown",
   "id": "2a23dac5-d0b0-4e20-97cb-42cbccc90199",
   "metadata": {},
   "source": [
    "Below we'll see the tags that the authors of the various presentations came up with."
   ]
  },
  {
   "cell_type": "markdown",
   "id": "0837485b-e884-486a-979e-7d5ecd80559d",
   "metadata": {},
   "source": [
    "### Add the tags"
   ]
  },
  {
   "cell_type": "markdown",
   "id": "21ffa850-9982-443a-81c4-6e5ad732e7f2",
   "metadata": {},
   "source": [
    "1. US labor force growth will remain low for the foreseeable future"
   ]
  },
  {
   "cell_type": "markdown",
   "id": "61506cc7-eb0b-4d16-a810-0d492637b60c",
   "metadata": {},
   "source": [
    "<img src=\"./add-tag.png\">"
   ]
  },
  {
   "cell_type": "markdown",
   "id": "6b4504ef-ec91-4149-8fe5-7047fd9ac0ba",
   "metadata": {},
   "source": [
    "2. In the Group of Seven, older workers will exceed a quarter of the workforce by 2031"
   ]
  },
  {
   "cell_type": "markdown",
   "id": "cf87125f-9ec8-459e-924e-18a644078e75",
   "metadata": {},
   "source": [
    "<img src=\"./older-workers.png\">"
   ]
  },
  {
   "cell_type": "markdown",
   "id": "5051be74-4a8e-43bf-8b70-a6b0fb7f0143",
   "metadata": {},
   "source": [
    "3. European labor force growth will shrink for the foreseeable future"
   ]
  },
  {
   "cell_type": "markdown",
   "id": "6ae5fe2f-ae50-445e-92e1-fe6c062bed79",
   "metadata": {},
   "source": [
    "<img src=\"./labor-force.png\" width=\"70%\">"
   ]
  },
  {
   "cell_type": "markdown",
   "id": "ff71b726-0278-41bf-9af0-c87a92465b45",
   "metadata": {},
   "source": [
    "4. Productivity growth trend has substantially declined over the course of this decade"
   ]
  },
  {
   "cell_type": "markdown",
   "id": "53795aa7-9eb8-4c9e-9b5b-afc9bb1949ee",
   "metadata": {},
   "source": [
    "<img src=\"./uk-productivity.png\" width=\"60%\">"
   ]
  }
 ],
 "metadata": {
  "kernelspec": {
   "display_name": "Python 3 (ipykernel)",
   "language": "python",
   "name": "python3"
  },
  "language_info": {
   "codemirror_mode": {
    "name": "ipython",
    "version": 3
   },
   "file_extension": ".py",
   "mimetype": "text/x-python",
   "name": "python",
   "nbconvert_exporter": "python",
   "pygments_lexer": "ipython3",
   "version": "3.9.12"
  }
 },
 "nbformat": 4,
 "nbformat_minor": 5
}
