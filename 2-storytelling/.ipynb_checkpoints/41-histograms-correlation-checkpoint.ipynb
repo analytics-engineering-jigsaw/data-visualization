{
 "cells": [
  {
   "cell_type": "markdown",
   "id": "3cbcf188-a558-4534-a7e4-2371ca333c8c",
   "metadata": {},
   "source": [
    "# Distributions "
   ]
  },
  {
   "cell_type": "code",
   "execution_count": null,
   "id": "fe237632-0ad6-4df4-8a56-913eed3e772c",
   "metadata": {},
   "outputs": [],
   "source": []
  },
  {
   "cell_type": "markdown",
   "id": "be79c05b-cb02-4242-9402-19d8ade02ab4",
   "metadata": {},
   "source": [
    "1. Pandas plotting histograms"
   ]
  },
  {
   "cell_type": "markdown",
   "id": "0255894f-451f-49ce-be48-caa9c818d386",
   "metadata": {},
   "source": [
    "* The importance of histograms \n",
    "1. Showing us similarities with historical data \n",
    "2. The 80 - 20 rule\n",
    "\n",
    "Note that this is very similar with item comparison -- we can also have an 80 20 rule there."
   ]
  },
  {
   "cell_type": "markdown",
   "id": "6d46d89d-414b-40ca-95a7-ab47a853e72b",
   "metadata": {},
   "source": [
    "### MultiAxis Analysis - BCG charts\n",
    "\n",
    "* But this just shows us along one axis.  If we want to see along multiple charts -- then we can plot along both sides"
   ]
  },
  {
   "cell_type": "code",
   "execution_count": null,
   "id": "c37e3017-5666-443b-bd15-a4b06d822bb8",
   "metadata": {},
   "outputs": [],
   "source": []
  }
 ],
 "metadata": {
  "kernelspec": {
   "display_name": "Python 3 (ipykernel)",
   "language": "python",
   "name": "python3"
  },
  "language_info": {
   "codemirror_mode": {
    "name": "ipython",
    "version": 3
   },
   "file_extension": ".py",
   "mimetype": "text/x-python",
   "name": "python",
   "nbconvert_exporter": "python",
   "pygments_lexer": "ipython3",
   "version": "3.9.12"
  }
 },
 "nbformat": 4,
 "nbformat_minor": 5
}
