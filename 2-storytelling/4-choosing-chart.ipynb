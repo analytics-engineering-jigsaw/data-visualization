{
 "cells": [
  {
   "cell_type": "markdown",
   "id": "536438ff-1785-4e6e-8ac5-416c9cf3d298",
   "metadata": {},
   "source": [
    "# Selecting the Chart"
   ]
  },
  {
   "cell_type": "markdown",
   "id": "01368513-9974-4933-a45e-351a6ce7248d",
   "metadata": {},
   "source": [
    "### Introduction"
   ]
  },
  {
   "cell_type": "markdown",
   "id": "7fcd703c-3fc5-449f-9815-63d81b67a4b9",
   "metadata": {},
   "source": [
    "Now that we've seen the different comparisons, it's time to choose the correct chart.  Lucky for us there are only five different kinds of charts:"
   ]
  },
  {
   "cell_type": "markdown",
   "id": "eb06eb2d-fcbc-48be-bf09-7339e1612d51",
   "metadata": {},
   "source": [
    "<img src=\"./chart-options.png\" width=\"60%\">"
   ]
  },
  {
   "cell_type": "markdown",
   "id": "834662ed-57d9-4b63-8ae4-d20164c96fbc",
   "metadata": {},
   "source": [
    "And once we know the kind of comparison, we can narrow down the type of chart we should use.  To illustrate this, here's a cheat sheet."
   ]
  },
  {
   "cell_type": "markdown",
   "id": "8f750cef-a1d8-4ad4-bbd4-5d5c2f089994",
   "metadata": {},
   "source": [
    "<img src=\"./forms-comparison.png\" width=\"40%\">"
   ]
  },
  {
   "cell_type": "markdown",
   "id": "0b87e30a-ab2b-4527-b43a-774d55150021",
   "metadata": {
    "tags": []
   },
   "source": [
    "### Item Comparison -- Percentages"
   ]
  },
  {
   "cell_type": "markdown",
   "id": "90b70fd3-5be1-4d2b-bc5a-4f5116ca0e7a",
   "metadata": {},
   "source": [
    "Let's start in the top left, with our percentage comparison.  With the percentage comparison, many will go for a pie chart.  But using pie charts *for any reason*, is not recommended."
   ]
  },
  {
   "cell_type": "markdown",
   "id": "2a50e9c3-1a79-4b19-b01c-dfb3cfe65a13",
   "metadata": {},
   "source": [
    "To see why, take a look at the chart below.  The goal is to compare, but actually guessing those comparisons is difficult.\n",
    "\n",
    "<img src=\"./pie-compare.png\" width=\"40%\">"
   ]
  },
  {
   "cell_type": "markdown",
   "id": "af584be6-caf8-473c-9f3d-5266747c4dcb",
   "metadata": {},
   "source": [
    "For example, try to guess the percentages in the chart above.  Or even, try to compare how much larger one slice is than another -- it's not so easy.  Using multiple pie charts is even worse."
   ]
  },
  {
   "cell_type": "markdown",
   "id": "80153697-9a95-4066-ab3c-29b6155317d9",
   "metadata": {},
   "source": [
    "<img src=\"./two-piecharts.png\" width=\"40%\">"
   ]
  },
  {
   "cell_type": "markdown",
   "id": "27f90bc4-3408-4abc-a8c4-397b85d231ef",
   "metadata": {},
   "source": [
    "This is because in the chart above asks the reader to the goal is compare each label across each company -- but this involves a lot of jumping between charts, and then to also keep those sizes straight."
   ]
  },
  {
   "cell_type": "markdown",
   "id": "1579421f-a2eb-481a-9d25-2672bd443e77",
   "metadata": {},
   "source": [
    "> A better option would be to use a stacked bar chart."
   ]
  },
  {
   "cell_type": "markdown",
   "id": "561f63c5-127f-4217-97e8-c297e6f8085e",
   "metadata": {},
   "source": [
    "<img src=\"./stacked-bar.png\" width=\"70%\">"
   ]
  },
  {
   "cell_type": "markdown",
   "id": "43a74a00-0985-44bd-9546-c84b1b00374b",
   "metadata": {},
   "source": [
    "> The one on the right is better because, we the labeling is less redundant, relationships between segments are reinforced with connecting lines.  So instead we should use the stacked bar chart on the right.\n",
    "\n",
    "If you're still not convinced, perhaps the author of Storytelling with Data can convince you -- in her nice article, [\"Death to Pie Charts\"](https://www.storytellingwithdata.com/blog/2011/07/death-to-pie-charts)."
   ]
  },
  {
   "cell_type": "markdown",
   "id": "497d4b00-eaa6-48a5-9b0d-2cc5a1f73d55",
   "metadata": {},
   "source": [
    "So don't use pie charts -- instead express those percentages in a horizontal bar chart."
   ]
  },
  {
   "cell_type": "markdown",
   "id": "3c8da315-d2f5-433d-8763-64f680eb2fe6",
   "metadata": {},
   "source": [
    "### Item comparison"
   ]
  },
  {
   "cell_type": "markdown",
   "id": "9a418a28-1da9-46d2-b59d-b3832dcfe3ac",
   "metadata": {},
   "source": [
    "Ok, so if we're not going to choose a pie chart, what's better is a bar chart.  And our favorite kind of bar chart should be a horizontal bar chart -- that's the one on the left."
   ]
  },
  {
   "cell_type": "markdown",
   "id": "7fda6898-85b5-4eb6-b89a-184e3774b5ad",
   "metadata": {},
   "source": [
    "<img src=\"./compare-hz-charts.png\" width=\"60%\">\n",
    "\n",
    "\n",
    "Horizontal bar charts are preferred to column charts (on the right) because labels can require space, and the horizontal chart leaves space for labels.\n",
    "* When using the horizontal bar chart, use  contrasting shade, or a surrounding box, to emphasize the most important item -- reinforcing the message title.\n",
    "\n",
    "> **Styling** When styling the bar chart, use numbers at the end of the bars. Or a scale as an alternative (but not both).   And omit decimals if you don't need that level of detail -- which you likely don't (eg. 12 percent, not 12.3%).  "
   ]
  },
  {
   "cell_type": "markdown",
   "id": "9101d2a8-3953-42e3-a585-f78084416687",
   "metadata": {},
   "source": [
    "### Column Chart"
   ]
  },
  {
   "cell_type": "markdown",
   "id": "3ad451f6-6f06-4a5b-a1ab-9f036b3dbb62",
   "metadata": {},
   "source": [
    "If using the column chart, the same styling rules apply.  Use a contrasting shade to emphasize the most important item.   And use numbers at the end the bars, omitting decimals.\n",
    "\n",
    "As mentioned, we prefer horizontal charts to column charts.  However, column charts can be used when there is a real sequence between the categories -- for example revenue per year. "
   ]
  },
  {
   "cell_type": "markdown",
   "id": "12b3792f-33e3-425d-8f08-ba0b6ada27e4",
   "metadata": {},
   "source": [
    "### Time Comparisons - Line Chart\n",
    "\n",
    "The last chart is the line chart -- which is for showing changes in data over time.\n",
    "\n",
    "<img src=\"./classic-line-chart.png\" width=\"40%\">"
   ]
  },
  {
   "cell_type": "markdown",
   "id": "c82a7178-ec02-4455-b570-9b6fd96760b5",
   "metadata": {},
   "source": [
    "The chart above is properly styled.  Notice that we are showing the difference between the past data and the projected data (although that projection looks optimistic).  And that we are doing so both with the shading and the dashed line."
   ]
  },
  {
   "cell_type": "markdown",
   "id": "508d0e67-3913-4e54-80d2-8340036fff14",
   "metadata": {},
   "source": [
    "Below is another line chart -- which shows the revenue of one company -- Company A -- against each of the competitors.  Beccause it's difficult to keep track of all of that information, underneath the chart is broken into smaller components -- with each competitor given a separate breakout chart (or you could just break out the most interesting of the competitors).  "
   ]
  },
  {
   "cell_type": "markdown",
   "id": "768a2e6e-edc6-42f4-a130-806bb25b9139",
   "metadata": {},
   "source": [
    "<img src=\"./spaghetti.png\" width=\"40%\">"
   ]
  },
  {
   "cell_type": "markdown",
   "id": "e94976f3-8e86-4610-acd7-a8a4a3e5f271",
   "metadata": {},
   "source": [
    "<img src=\"./untangled.png\" width=\"40%\">"
   ]
  },
  {
   "cell_type": "markdown",
   "id": "fdec70fa-1d29-4705-8d61-8b0db11ba1de",
   "metadata": {},
   "source": [
    "### Summary"
   ]
  },
  {
   "cell_type": "markdown",
   "id": "dc71e3d9-9977-4360-8e90-9089d5f6da1b",
   "metadata": {},
   "source": [
    "In this lesson, we saw how to display our different kinds of comparisons.  There were a couple of takeaways:\n",
    "    \n",
    "* Don't use pie charts -- even when working with percentages.  \n",
    "* Most often, you can stick with horizontal bar charts, which make it easy to compare groups, and also provide for labeling.\n",
    "    * Just remember to be careful about how you choose those groups\n",
    "* A column chart is ok when the data is sequential (as in revenue per year)\n",
    "* And a line chart is typically used for showing change over time\n",
    "  "
   ]
  }
 ],
 "metadata": {
  "kernelspec": {
   "display_name": "Python 3 (ipykernel)",
   "language": "python",
   "name": "python3"
  },
  "language_info": {
   "codemirror_mode": {
    "name": "ipython",
    "version": 3
   },
   "file_extension": ".py",
   "mimetype": "text/x-python",
   "name": "python",
   "nbconvert_exporter": "python",
   "pygments_lexer": "ipython3",
   "version": "3.9.12"
  }
 },
 "nbformat": 4,
 "nbformat_minor": 5
}
