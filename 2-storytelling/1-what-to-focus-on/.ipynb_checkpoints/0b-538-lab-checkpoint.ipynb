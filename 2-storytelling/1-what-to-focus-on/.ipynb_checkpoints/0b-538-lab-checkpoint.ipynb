{
 "cells": [
  {
   "cell_type": "markdown",
   "id": "42e51b6e-0956-4cad-8bca-484002c32a91",
   "metadata": {},
   "source": [
    "# Representativeness of Data Lab"
   ]
  },
  {
   "cell_type": "markdown",
   "id": "076fd0e6-7544-4f9d-a080-dcc0cc9a16f5",
   "metadata": {},
   "source": [
    "### Introduction"
   ]
  },
  {
   "cell_type": "markdown",
   "id": "aca7ec37-8e5f-4ebd-946c-884f7d311bd8",
   "metadata": {},
   "source": [
    "In this lesson, let's use some of what we know about the representativeness of our dataset to explore a movie dataset.  \n",
    "\n",
    "You can see the kind of information we have about a movie here."
   ]
  },
  {
   "cell_type": "code",
   "execution_count": 2,
   "id": "42344989-2cc5-4f42-9781-7b3e090b5bd0",
   "metadata": {},
   "outputs": [],
   "source": [
    "import pandas as pd\n",
    "\n",
    "movies_df = pd.read_csv(\"https://raw.githubusercontent.com/jigsawlabs-student/tech-interview/main/movies.csv\")"
   ]
  },
  {
   "cell_type": "code",
   "execution_count": 3,
   "id": "60b41695-8417-4a59-b343-c541148e65b1",
   "metadata": {},
   "outputs": [
    {
     "data": {
      "text/html": [
       "<div>\n",
       "<style scoped>\n",
       "    .dataframe tbody tr th:only-of-type {\n",
       "        vertical-align: middle;\n",
       "    }\n",
       "\n",
       "    .dataframe tbody tr th {\n",
       "        vertical-align: top;\n",
       "    }\n",
       "\n",
       "    .dataframe thead th {\n",
       "        text-align: right;\n",
       "    }\n",
       "</style>\n",
       "<table border=\"1\" class=\"dataframe\">\n",
       "  <thead>\n",
       "    <tr style=\"text-align: right;\">\n",
       "      <th></th>\n",
       "      <th>title</th>\n",
       "      <th>genre</th>\n",
       "      <th>budget</th>\n",
       "      <th>runtime</th>\n",
       "      <th>year</th>\n",
       "      <th>month</th>\n",
       "      <th>revenue</th>\n",
       "    </tr>\n",
       "  </thead>\n",
       "  <tbody>\n",
       "    <tr>\n",
       "      <th>0</th>\n",
       "      <td>Oliver Twist</td>\n",
       "      <td>Crime</td>\n",
       "      <td>50000000</td>\n",
       "      <td>130.0</td>\n",
       "      <td>2005</td>\n",
       "      <td>9</td>\n",
       "      <td>42093706</td>\n",
       "    </tr>\n",
       "    <tr>\n",
       "      <th>1</th>\n",
       "      <td>X-Men: Apocalypse</td>\n",
       "      <td>Science Fiction</td>\n",
       "      <td>178000000</td>\n",
       "      <td>144.0</td>\n",
       "      <td>2016</td>\n",
       "      <td>5</td>\n",
       "      <td>543934787</td>\n",
       "    </tr>\n",
       "  </tbody>\n",
       "</table>\n",
       "</div>"
      ],
      "text/plain": [
       "               title            genre     budget  runtime  year  month  \\\n",
       "0       Oliver Twist            Crime   50000000    130.0  2005      9   \n",
       "1  X-Men: Apocalypse  Science Fiction  178000000    144.0  2016      5   \n",
       "\n",
       "     revenue  \n",
       "0   42093706  \n",
       "1  543934787  "
      ]
     },
     "execution_count": 3,
     "metadata": {},
     "output_type": "execute_result"
    }
   ],
   "source": [
    "movies_df[:2]"
   ]
  },
  {
   "cell_type": "markdown",
   "id": "6f7f8b70-5ff8-45a2-96b3-64aa6330ede8",
   "metadata": {},
   "source": [
    "Ok, so assume as a goal, that that we would like to see how items like a genre or budget impact the income of a movie made today.  Before we do so, we want to *examine our dataset to see how representative it may would be of movies made today*. \n",
    "\n",
    "Then, use that information to select the portion of the data you believe is high enough quality and representative enough to draw conclusions from."
   ]
  },
  {
   "cell_type": "markdown",
   "id": "e581ec9c-adac-4a8c-b938-8b0d5a86accd",
   "metadata": {},
   "source": [
    "So what's our task in this lab:\n",
    "\n",
    "1. Explore the data to see the representativeness of the data\n",
    "2. Select the portion of the data that is more representative"
   ]
  },
  {
   "cell_type": "markdown",
   "id": "69b9c1c8-fc88-4bb0-b968-60b1013eb5aa",
   "metadata": {},
   "source": [
    "This will be a little different in that it is more freeform than other labs."
   ]
  },
  {
   "cell_type": "markdown",
   "id": "fad7f22b-fef2-4c5a-a950-72ba29cd31a5",
   "metadata": {},
   "source": [
    "### Before getting started"
   ]
  },
  {
   "cell_type": "markdown",
   "id": "9f4f8596-ce61-4a99-a733-6e8e90a0618d",
   "metadata": {},
   "source": [
    "As a way to review, let's remember that there were a few different ways that we checked our data:\n",
    "\n",
    "1. Comparing groups of our data to what we see in the real world\n",
    "2. Checking how recent our data is\n",
    "3. Looking at distributions and outliers in our data \n",
    "4. Looking at missing values in our data (with isna)\n",
    "5. Remember variables that are important are: \n",
    "    * The target variable (as the whole point is to see what leads to changes in this variable, here revenue) \n",
    "    * Dates (as the more recent the data the more valuable it representative it typically is of present day)"
   ]
  },
  {
   "cell_type": "markdown",
   "id": "9bf3c4eb-7106-4057-8131-b9308dbfa98b",
   "metadata": {},
   "source": [
    "After exploring the quality of our (imperfect) data, make a determination as to how we might still make use of our data to determine how items like genre, or budget might impact the revenue."
   ]
  },
  {
   "cell_type": "markdown",
   "id": "3624733a-cf42-429e-be39-8d4e0c696e59",
   "metadata": {},
   "source": [
    "### Exploring our data"
   ]
  },
  {
   "cell_type": "markdown",
   "id": "92769c84-53ab-4774-a1db-16d7411b2b92",
   "metadata": {},
   "source": [
    "Ok, so here's the dataset."
   ]
  },
  {
   "cell_type": "code",
   "execution_count": 4,
   "id": "ddad29d5-d90f-4718-8e60-24064b1c9a38",
   "metadata": {},
   "outputs": [
    {
     "data": {
      "text/html": [
       "<div>\n",
       "<style scoped>\n",
       "    .dataframe tbody tr th:only-of-type {\n",
       "        vertical-align: middle;\n",
       "    }\n",
       "\n",
       "    .dataframe tbody tr th {\n",
       "        vertical-align: top;\n",
       "    }\n",
       "\n",
       "    .dataframe thead th {\n",
       "        text-align: right;\n",
       "    }\n",
       "</style>\n",
       "<table border=\"1\" class=\"dataframe\">\n",
       "  <thead>\n",
       "    <tr style=\"text-align: right;\">\n",
       "      <th></th>\n",
       "      <th>title</th>\n",
       "      <th>genre</th>\n",
       "      <th>budget</th>\n",
       "      <th>runtime</th>\n",
       "      <th>year</th>\n",
       "      <th>month</th>\n",
       "      <th>revenue</th>\n",
       "    </tr>\n",
       "  </thead>\n",
       "  <tbody>\n",
       "    <tr>\n",
       "      <th>0</th>\n",
       "      <td>Oliver Twist</td>\n",
       "      <td>Crime</td>\n",
       "      <td>50000000</td>\n",
       "      <td>130.0</td>\n",
       "      <td>2005</td>\n",
       "      <td>9</td>\n",
       "      <td>42093706</td>\n",
       "    </tr>\n",
       "    <tr>\n",
       "      <th>1</th>\n",
       "      <td>X-Men: Apocalypse</td>\n",
       "      <td>Science Fiction</td>\n",
       "      <td>178000000</td>\n",
       "      <td>144.0</td>\n",
       "      <td>2016</td>\n",
       "      <td>5</td>\n",
       "      <td>543934787</td>\n",
       "    </tr>\n",
       "  </tbody>\n",
       "</table>\n",
       "</div>"
      ],
      "text/plain": [
       "               title            genre     budget  runtime  year  month  \\\n",
       "0       Oliver Twist            Crime   50000000    130.0  2005      9   \n",
       "1  X-Men: Apocalypse  Science Fiction  178000000    144.0  2016      5   \n",
       "\n",
       "     revenue  \n",
       "0   42093706  \n",
       "1  543934787  "
      ]
     },
     "execution_count": 4,
     "metadata": {},
     "output_type": "execute_result"
    }
   ],
   "source": [
    "movies_df[:2]"
   ]
  }
 ],
 "metadata": {
  "kernelspec": {
   "display_name": "Python 3 (ipykernel)",
   "language": "python",
   "name": "python3"
  },
  "language_info": {
   "codemirror_mode": {
    "name": "ipython",
    "version": 3
   },
   "file_extension": ".py",
   "mimetype": "text/x-python",
   "name": "python",
   "nbconvert_exporter": "python",
   "pygments_lexer": "ipython3",
   "version": "3.9.12"
  }
 },
 "nbformat": 4,
 "nbformat_minor": 5
}
