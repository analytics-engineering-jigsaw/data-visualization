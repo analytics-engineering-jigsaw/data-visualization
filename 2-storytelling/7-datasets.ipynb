{
 "cells": [
  {
   "cell_type": "code",
   "execution_count": null,
   "id": "52f3a150-1ea2-4ae6-85f7-3e5e5f0a1b21",
   "metadata": {},
   "outputs": [],
   "source": []
  },
  {
   "cell_type": "markdown",
   "id": "a113a1d6-66f2-4a65-b137-85a12dcea20e",
   "metadata": {},
   "source": [
    "* https://www.kaggle.com/datasets/mauryansshivam/spotify-revenue-expenses-and-its-premium-users\n",
    "\n",
    "* https://medium.com/@u3554364/funnel-analysis-of-e-commerce-website-with-real-data-e858e288ffb9\n",
    "\n",
    "* Olist https://www.kaggle.com/datasets/olistbr/marketing-funnel-olist\n",
    "    * We can turn these conclusions into data visualizations?\n",
    "    * https://www.kaggle.com/code/muhammedzidan/the-story-of-olist-s-marketing-funnel"
   ]
  },
  {
   "cell_type": "markdown",
   "id": "41440374-8ab7-4327-9ff7-09edac63c256",
   "metadata": {},
   "source": [
    "* Data is plural\n",
    "* https://public.tableau.com/app/profile/mark.connolly/viz/DataisPluralTheDashboardEdition/DataisPlural\n",
    "\n",
    "* https://www.kaggle.com/datasets/aerodinamicc/ecommerce-website-funnel-analysis"
   ]
  },
  {
   "cell_type": "markdown",
   "id": "f244f887-c97b-4478-8cb3-890e08bc2895",
   "metadata": {},
   "source": [
    "* Use the seven steps to marketing for financial data. "
   ]
  },
  {
   "cell_type": "code",
   "execution_count": null,
   "id": "e08ba984-bbf8-422e-9c86-38565c406919",
   "metadata": {},
   "outputs": [],
   "source": []
  }
 ],
 "metadata": {
  "kernelspec": {
   "display_name": "Python 3 (ipykernel)",
   "language": "python",
   "name": "python3"
  },
  "language_info": {
   "codemirror_mode": {
    "name": "ipython",
    "version": 3
   },
   "file_extension": ".py",
   "mimetype": "text/x-python",
   "name": "python",
   "nbconvert_exporter": "python",
   "pygments_lexer": "ipython3",
   "version": "3.9.12"
  }
 },
 "nbformat": 4,
 "nbformat_minor": 5
}
