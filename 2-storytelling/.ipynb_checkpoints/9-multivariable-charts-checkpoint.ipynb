{
 "cells": [
  {
   "cell_type": "code",
   "execution_count": null,
   "id": "7591340b-ab0e-4399-89d8-be788078d4b3",
   "metadata": {},
   "outputs": [],
   "source": []
  },
  {
   "cell_type": "markdown",
   "id": "9a9554ea-9ebf-473a-be52-8ee8b9da9de1",
   "metadata": {},
   "source": [
    "### Histograms"
   ]
  },
  {
   "cell_type": "markdown",
   "id": "32b7b77c-fab7-440d-b944-b6eae26b8125",
   "metadata": {},
   "source": [
    "Benefits of histograms is in showing the frequency of distributions.  Oftentimes, we'll see the 80 - 20 rule.  We'll say a histogram is one where we have to *bin* our values.  \n",
    "\n",
    "So our values are continous (eg. Age, income, etc.)."
   ]
  },
  {
   "cell_type": "markdown",
   "id": "01c7a8b1-c96d-4747-853d-133c90043694",
   "metadata": {},
   "source": [
    "\n",
    "* Note: If you bin the distributions, the size of the bins can really make a difference.  In showing the distributions."
   ]
  },
  {
   "cell_type": "markdown",
   "id": "5efd3ec9-2b54-408e-9e55-8d2af9df557c",
   "metadata": {},
   "source": [
    "### Correlation Comparison"
   ]
  },
  {
   "cell_type": "markdown",
   "id": "6d0122c2-11e3-4021-9656-94e337934c14",
   "metadata": {},
   "source": [
    "A correlation comparison shows if the relationship between two variables follows a pattern.\n",
    "\n",
    "For a correlation comparison, you'll generally use a scatter plot -- and then a line to show the correlation (or lack of correlation)."
   ]
  },
  {
   "cell_type": "markdown",
   "id": "a30fbd22-6d81-4e39-91cf-127517e80b81",
   "metadata": {},
   "source": [
    "<img src=\"./no-correlation.png\" width=\"50%\">"
   ]
  },
  {
   "cell_type": "markdown",
   "id": "c223cb90-a2f9-4d4e-bdb6-8509e8e35f1f",
   "metadata": {},
   "source": [
    "One issue with the correlation comparison is that it can be difficult to see the individual marks -- so perhaps use a hover label so a user can get more details if necessary.  You can also try using a subset of the data, or break out that data into groups (especially if the data calls for it)."
   ]
  },
  {
   "cell_type": "markdown",
   "id": "8c41e838-c1a6-40f5-94ce-d45df1c1f46d",
   "metadata": {},
   "source": [
    "<img src=\"./grouped-dot-chart.png\" width=\"40%\">"
   ]
  },
  {
   "cell_type": "markdown",
   "id": "77bb8e0b-59aa-40e8-addb-6865a1ec5ccf",
   "metadata": {},
   "source": [
    "### BCG Chart"
   ]
  },
  {
   "cell_type": "markdown",
   "id": "00556822-4034-4353-b764-93e7c169b494",
   "metadata": {},
   "source": [
    "### Funnel charts?"
   ]
  },
  {
   "cell_type": "code",
   "execution_count": null,
   "id": "ee67a670-2701-4b71-9407-9e48e70189b2",
   "metadata": {},
   "outputs": [],
   "source": []
  }
 ],
 "metadata": {
  "kernelspec": {
   "display_name": "Python 3 (ipykernel)",
   "language": "python",
   "name": "python3"
  },
  "language_info": {
   "codemirror_mode": {
    "name": "ipython",
    "version": 3
   },
   "file_extension": ".py",
   "mimetype": "text/x-python",
   "name": "python",
   "nbconvert_exporter": "python",
   "pygments_lexer": "ipython3",
   "version": "3.9.12"
  }
 },
 "nbformat": 4,
 "nbformat_minor": 5
}
