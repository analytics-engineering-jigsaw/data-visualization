{
 "cells": [
  {
   "cell_type": "markdown",
   "id": "42a4fc3b-0600-4c9a-bbd7-55e2747f779b",
   "metadata": {},
   "source": [
    "# Plotting Lab"
   ]
  },
  {
   "cell_type": "markdown",
   "id": "89e8e33b-3f57-4232-82c4-f719417ea6a6",
   "metadata": {},
   "source": [
    "### Introduction"
   ]
  },
  {
   "cell_type": "markdown",
   "id": "a5eb96bf-f91d-41dc-8f15-d1114767393d",
   "metadata": {},
   "source": [
    "In this lesson, we'll ask you to draw/sketch out various charts given some information that we provide.  These are based on real charts -- so in the next lesson, we'll show what the authors provided.  "
   ]
  },
  {
   "cell_type": "markdown",
   "id": "ec06e959-b8c8-4932-bb15-90c92b59dad7",
   "metadata": {},
   "source": [
    "### Sketching plots"
   ]
  },
  {
   "cell_type": "markdown",
   "id": "99058b50-e724-4110-aad1-a2d6f6a09b27",
   "metadata": {},
   "source": [
    "1. Emerging economies had the highest growth in travel spending"
   ]
  },
  {
   "cell_type": "code",
   "execution_count": 2,
   "id": "c36295c6-2c12-4d39-8053-861923a48329",
   "metadata": {},
   "outputs": [],
   "source": [
    "countries = ['China', 'India', 'Germany', 'Russia']\n",
    "pct_change = [17, 10, 8, -7]"
   ]
  },
  {
   "cell_type": "markdown",
   "id": "1050d782-08fc-4c5b-a556-23f5a283fc61",
   "metadata": {},
   "source": [
    "> Please draw a sketch below."
   ]
  },
  {
   "cell_type": "code",
   "execution_count": null,
   "id": "2a8f89d6-365b-4c2b-9b52-b9fb6f8ad2aa",
   "metadata": {},
   "outputs": [],
   "source": []
  },
  {
   "cell_type": "markdown",
   "id": "95128f94-e132-4fea-80e0-eae353cd541f",
   "metadata": {},
   "source": [
    "2. USPS is showing unprecedented losses"
   ]
  },
  {
   "cell_type": "code",
   "execution_count": 3,
   "id": "ac6980f6-cd03-4f21-a8a8-d2ae550b909c",
   "metadata": {},
   "outputs": [],
   "source": [
    "year = [2005, 2006, 2007, 2008, 2009, 2010] # 2010 is projected losses\n",
    "profit_losses = [1.4, .9, -5.1, -2.8, -3.8, -7.8] # -7.8 is projected 2010 losses"
   ]
  },
  {
   "cell_type": "markdown",
   "id": "342e575e-8c73-4d3b-ab2c-b257f1df8f03",
   "metadata": {},
   "source": [
    "3. Money can buy happiness"
   ]
  },
  {
   "cell_type": "code",
   "execution_count": 8,
   "id": "ca502ba8-6ad9-4e82-9142-690625b05c60",
   "metadata": {},
   "outputs": [],
   "source": [
    "countries = ['Afghanistan', 'Nigeria', 'Brazil', 'China',\n",
    "             'Japan', 'US', 'Finland']\n",
    "gdp_per_person = [.3, 5, 7, 12.5, 40, 70, 53]\n",
    "happiness = [2.5, 5.1, 6, 5, 6, 6.8, 7.7]"
   ]
  },
  {
   "cell_type": "markdown",
   "id": "e63eb31c-2809-4a63-ac0b-279d0b6eaff3",
   "metadata": {},
   "source": [
    "### Resources\n",
    "\n",
    "[Economist charts of the year](https://www.economist.com/graphic-detail/2018/12/26/our-charts-of-the-year)\n",
    "\n",
    "[Economist Style Guide](https://design-system.economist.com/documents/CHARTstyleguide_20170505.pdf)\n",
    "\n",
    "[Economist Graphs Dataset](https://github.com/TheEconomist/graphic-detail-data)\n",
    "\n",
    "[Urban Institute Style Guide](http://urbaninstitute.github.io/graphics-styleguide/)\n",
    "\n",
    "[100 consulting presentations](https://www.theanalystacademy.com/consulting-presentations/)"
   ]
  }
 ],
 "metadata": {
  "kernelspec": {
   "display_name": "Python 3 (ipykernel)",
   "language": "python",
   "name": "python3"
  },
  "language_info": {
   "codemirror_mode": {
    "name": "ipython",
    "version": 3
   },
   "file_extension": ".py",
   "mimetype": "text/x-python",
   "name": "python",
   "nbconvert_exporter": "python",
   "pygments_lexer": "ipython3",
   "version": "3.9.12"
  }
 },
 "nbformat": 4,
 "nbformat_minor": 5
}
