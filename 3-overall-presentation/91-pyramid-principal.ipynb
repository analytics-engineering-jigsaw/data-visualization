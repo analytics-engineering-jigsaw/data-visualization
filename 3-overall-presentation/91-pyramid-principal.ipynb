{
 "cells": [
  {
   "cell_type": "markdown",
   "id": "1a7032f1-d314-4f26-a5ef-3e1e4dbeac8f",
   "metadata": {},
   "source": [
    "# The Pyramid Principle"
   ]
  },
  {
   "cell_type": "markdown",
   "id": "c2e81e26-e6e1-4c3c-b5aa-dcc8715f742a",
   "metadata": {},
   "source": [
    "### Introduction"
   ]
  },
  {
   "cell_type": "markdown",
   "id": "b34df5dd-2371-4abc-aef6-d76a40a5733a",
   "metadata": {},
   "source": [
    "Now that we've seen how to perform some initial analysis of our data or problem, it's time to think through how to present our findings.  And we can do so with the pyramid principle. "
   ]
  },
  {
   "cell_type": "markdown",
   "id": "acd29c70-459d-4673-941e-e0a90b14bb45",
   "metadata": {
    "id": "a7251436-301d-4a97-a618-eaba04137a7a"
   },
   "source": [
    "### The Pyramid Principal"
   ]
  },
  {
   "cell_type": "markdown",
   "id": "f9981412-2120-4360-bb85-545851712d79",
   "metadata": {
    "id": "32ab4452-ad80-474a-bc69-87a55b7fa278"
   },
   "source": [
    "Take a look at the diagram below.  If you were building a powerpoint, you could imagine that each teal rectangle represents a different slide.  Or if it's an essay, it's a different paragraph."
   ]
  },
  {
   "cell_type": "markdown",
   "id": "1adecbd1-d389-4f90-bd0e-c99ac646972b",
   "metadata": {
    "id": "811175a0-da57-4d63-a96b-096057a5777a"
   },
   "source": [
    "<img src=\"https://github.com/tech-interviews-jigsaw/career-services-guidebook/blob/main/pyramid-diagram.png?raw=1\" width=\"70%\">"
   ]
  },
  {
   "cell_type": "markdown",
   "id": "a4deddd7-3a27-4cc8-a7d8-e4f01b8cf35c",
   "metadata": {
    "id": "fc1f2952-3f96-4e60-bf70-4f098446476a",
    "tags": []
   },
   "source": [
    "At the top of the first teal box you'll see `Situation -> Answer`.  This means that our presentation should provide some context, or the problem, followed by our conclusion or recommendation.  \n",
    "\n",
    "### Answers First\n",
    "\n",
    "A good here is, \"Answers first\".  Or as Kurt Vonnegut says, \"Start as close to the end as possible.\"  Some initial context to set up the problem and explain the importance of the recommendation is often needed.  But not too much.\n",
    "\n",
    "For example, a good first line may be \n",
    "\n",
    "> \"Sales among consumer products have been flat, but we can grow profits by focusing on health and beauty.\"  \n",
    "\n",
    "Then in the rest of our presentation, it will be our job to make this case.  That's what the supporting arguments are for.\n",
    "\n",
    "<img src=\"https://github.com/tech-interviews-jigsaw/career-services-guidebook/blob/main/pyramid-diagram.png?raw=1\" width=\"70%\">\n",
    "\n",
    "Before moving on this, let's explain why Answers First is useful.  \n",
    "* By setting up the problem followed by an recommendation, we are immediately focusing the rest of our presentation -- our presentation's goal is to support that top line.  \n",
    "* We are helping the reader understand what he'll get out of this presentation.  \n",
    "* We are starting broadly, and then moving more narrowly with our supporting arguments.   \n",
    "\n",
    "So, **Answers first**.  "
   ]
  },
  {
   "cell_type": "markdown",
   "id": "92a68a95-cd78-45cf-9a7e-507886b7243a",
   "metadata": {},
   "source": [
    "Finally, it may be difficult to come up with a strong recommendation like the example above -- especially with limited time.  So instead it may be something like, \"Sales remain flat among most segments, but is growing amongst women 35-45, which we should explore further\".   "
   ]
  },
  {
   "cell_type": "markdown",
   "id": "09f5a6ec-2c2d-471d-ab11-f9348b87c273",
   "metadata": {},
   "source": [
    "### The pyramid"
   ]
  },
  {
   "cell_type": "markdown",
   "id": "f2e565e9-4805-4548-8bdd-b05a7b50edad",
   "metadata": {},
   "source": [
    "After we present our conclusion or recommendation, we can have a three supporting arguments which support our conclusion.  And each of these supporting arguments may have three subpoints.\n",
    "\n",
    "That's what we see in our diagram."
   ]
  },
  {
   "cell_type": "markdown",
   "id": "ccec45cf-0b12-4be8-8e0d-51d2a5a580ff",
   "metadata": {},
   "source": [
    "<img src=\"https://github.com/tech-interviews-jigsaw/career-services-guidebook/blob/main/pyramid-diagram.png?raw=1\" width=\"70%\">"
   ]
  },
  {
   "cell_type": "markdown",
   "id": "f650f0ce-e0f3-4390-a4d9-db6736a3eb29",
   "metadata": {
    "id": "8e8ee305-7697-4c50-9a6b-5f2425460e31"
   },
   "source": [
    "Let's give an example of the pyramid principal.  Let's expand on that initial statement up top.  \n",
    "\n",
    "> \"Sales among consumer products have been flat, but we can grow profits by focusing on health and beauty.\"\n",
    "\n",
    "\n",
    "* Over the past three years, overall sales have been flat across most segments.  However, we have seen consistent growth in the health and beauty -- especially, among women 35 - 45.  While we are not a market leader in sales, consumers are enthusiastic about three key products.  We can grow sales in these products through focusing our marketing, and opportunities remain for targeting this growing segment long term.   \n",
    "\n",
    "Notice the problem to recommendation in sentences 1 and 2.  The remaining sentences are supporting arguments about why we should target this demographic.  We can imagine that each sentence in the above would be a separate slide in a presentation, and that for each slide we have a graph or evidence that supports that top line. "
   ]
  },
  {
   "cell_type": "markdown",
   "id": "09dde773-c89c-4e3d-8ff7-74f74d82901c",
   "metadata": {},
   "source": [
    "### A matter of timing\n",
    "\n",
    "When should we start thinking about presenting our findings? Well, pretty early on.  In other words, before the analysis is complete.  Doing so will allow us to get feedback on our research from others so that we can see if we are on the right track (ie. our findings sound accurate and interesting). \n",
    "\n",
    "> Notice that this is very similar to how teams often develop products -- develop a minimum viable product, so that we can constrict the amount of work we need to do, and get feedback from others.  This is motivated by the same idea.\n",
    "\n",
    "Perhaps most importantly, by moving towards a presenting our findings early, we can identify broader holes, in our argument.  For example above, if we are going to recommend focusing on woment 55 - 75, the next step is to see what arguments we have for doing so, and what counter-arguments remain.  This allows us to direct our analysis towards these arguments and counters.  Then, we can always adjust our findings and even the focus of the report as we gather more information."
   ]
  },
  {
   "cell_type": "markdown",
   "id": "85da2617-f72e-408f-b93e-c409d060f216",
   "metadata": {},
   "source": [
    "How do we write a report before we have conducted the analysis?  \n",
    "\n",
    "1. We are putting in preliminary findings.  \n",
    "2. Ghostwriting\n",
    "\n",
    "By ghost writing, we mean to write the slide topic (eg. beauty market share), or sketch the chart before gathering the data.  You'll need to be careful not to draw any conclusions from this -- rather the slide is there as a placeholder to tell you a topic you should explore."
   ]
  },
  {
   "cell_type": "markdown",
   "id": "53b4b972-dbc8-4941-8804-6dc3b9e3b4a4",
   "metadata": {
    "id": "7e9024d9-7f03-46e8-8f3a-fed8168e1c33"
   },
   "source": [
    "### Summary\n",
    "\n",
    "In this lesson, we learned components of the pyramid principle.  We saw that, with the pyramid principle, the first step is to setup some context or the problem, and then provide a recommendation.  Then we can have multiple supporting arguments that leads towards this conclusion.\n",
    "\n",
    "We also recommended starting this process early -- meaning before the analysis is complete.  This way, we will effectively employ the minimum viable product technique with our visualization.  This will help us get feedback from stakeholders before the visualizations are complete, and also help to direct our analysis."
   ]
  },
  {
   "cell_type": "markdown",
   "id": "a383367c-2520-4720-aa8e-53fbba5aee4e",
   "metadata": {},
   "source": [
    "### Resources\n",
    "\n",
    "[The pyramid principal](https://www.amazon.com/Pyramid-Principle-Logic-Writing-Thinking/dp/0273710516)\n",
    "\n",
    "[Mckinsey interview Minto](https://mckinsey.com/alumni/news-and-events/global-news/alumni-news/barbara-minto-mece-i-invented-it-so-i-get-to-say-how-to-pronounce-it)"
   ]
  }
 ],
 "metadata": {
  "kernelspec": {
   "display_name": "Python 3 (ipykernel)",
   "language": "python",
   "name": "python3"
  },
  "language_info": {
   "codemirror_mode": {
    "name": "ipython",
    "version": 3
   },
   "file_extension": ".py",
   "mimetype": "text/x-python",
   "name": "python",
   "nbconvert_exporter": "python",
   "pygments_lexer": "ipython3",
   "version": "3.9.12"
  }
 },
 "nbformat": 4,
 "nbformat_minor": 5
}
