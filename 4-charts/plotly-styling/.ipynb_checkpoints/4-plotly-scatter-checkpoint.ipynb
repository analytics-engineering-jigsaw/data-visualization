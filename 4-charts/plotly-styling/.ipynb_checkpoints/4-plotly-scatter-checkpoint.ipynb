{
 "cells": [
  {
   "cell_type": "markdown",
   "id": "784196f5-8d90-4af9-b001-6e2d4c65a15f",
   "metadata": {},
   "source": [
    "# Plotly Scatter"
   ]
  },
  {
   "cell_type": "code",
   "execution_count": null,
   "id": "6d92dc22-22bd-4f8a-9290-d6d2318cb990",
   "metadata": {},
   "outputs": [],
   "source": []
  },
  {
   "cell_type": "markdown",
   "id": "8134e9d5-0922-4ed6-8cd8-e1ddbab01b51",
   "metadata": {},
   "source": [
    "[Beautiful Scatter](https://towardsdatascience.com/a-quick-guide-to-beautiful-scatter-plots-in-python-75625ae67396)"
   ]
  },
  {
   "cell_type": "code",
   "execution_count": null,
   "id": "103744d4-e8e1-4758-9188-bd6a241f9701",
   "metadata": {},
   "outputs": [],
   "source": []
  }
 ],
 "metadata": {
  "kernelspec": {
   "display_name": "Python 3 (ipykernel)",
   "language": "python",
   "name": "python3"
  },
  "language_info": {
   "codemirror_mode": {
    "name": "ipython",
    "version": 3
   },
   "file_extension": ".py",
   "mimetype": "text/x-python",
   "name": "python",
   "nbconvert_exporter": "python",
   "pygments_lexer": "ipython3",
   "version": "3.9.12"
  }
 },
 "nbformat": 4,
 "nbformat_minor": 5
}
