{
 "cells": [
  {
   "cell_type": "markdown",
   "id": "66f56ba6-a6d0-44ce-845a-e8e51afd08c7",
   "metadata": {},
   "source": [
    "# Time"
   ]
  },
  {
   "cell_type": "markdown",
   "id": "fff1a826-ca30-4402-a251-4590f7a9a202",
   "metadata": {},
   "source": [
    "* Shows what to focus on through growth\n",
    "* Also shows what time to focus on "
   ]
  },
  {
   "cell_type": "markdown",
   "id": "b85c638a-ff19-488e-896f-d9b9a2e57cf5",
   "metadata": {},
   "source": [
    "* But also can explain through events and correlation "
   ]
  },
  {
   "cell_type": "code",
   "execution_count": null,
   "id": "01eeb8fb-fac4-413e-ac8d-6a4b745e078c",
   "metadata": {},
   "outputs": [],
   "source": []
  }
 ],
 "metadata": {
  "kernelspec": {
   "display_name": "Python 3 (ipykernel)",
   "language": "python",
   "name": "python3"
  },
  "language_info": {
   "codemirror_mode": {
    "name": "ipython",
    "version": 3
   },
   "file_extension": ".py",
   "mimetype": "text/x-python",
   "name": "python",
   "nbconvert_exporter": "python",
   "pygments_lexer": "ipython3",
   "version": "3.9.12"
  }
 },
 "nbformat": 4,
 "nbformat_minor": 5
}
