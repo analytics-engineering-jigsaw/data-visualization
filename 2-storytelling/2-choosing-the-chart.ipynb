{
 "cells": [
  {
   "cell_type": "markdown",
   "id": "bd84b8e6-ce42-4041-ba6c-8978bd89393e",
   "metadata": {},
   "source": [
    "# Choosing the Comparison"
   ]
  },
  {
   "cell_type": "markdown",
   "id": "3f6c2a2a-fcf0-400f-a804-f72b4f1899d4",
   "metadata": {},
   "source": [
    "### Identify the comparison"
   ]
  },
  {
   "cell_type": "markdown",
   "id": "cff29cf1-addd-436b-a665-084d496ef777",
   "metadata": {},
   "source": [
    "1. Percentage comparison\n",
    "    * The size of each as a percentage of the total. \n",
    "        * Eg. A region accounted for X percent of sales\n",
    "        * Or a product accounted for X percent\n",
    "        * (Are these two really different -- do we display them differently?)\n",
    "2. Item Comparison - compare how things rank.\n",
    "    * Compare how things *rank*\n",
    "    * Are they the same, or is one more or less.  \n",
    "3. Time series comparison\n",
    "    * Interested in how it *changes over time*.\n",
    "    * Remember, may need to control for same time period (day/store previous year).\n",
    "4. Histograms\n",
    "    * Histograms are really a kind of comparison -- it's a comparison through the distribution.  \n",
    "    * Here with a histogram -- we mean to show the distribution -- as opposed to the distribution across categories.\n",
    "    \n",
    "5. Correlation comparison\n",
    "    * Our target increases with, varies with\n",
    "    * Also can show no correlation -- eg. Sales do not increase with experience.\n",
    "    "
   ]
  },
  {
   "cell_type": "code",
   "execution_count": null,
   "id": "278302c2-f7ed-4a0a-849c-d83b6d9259b6",
   "metadata": {},
   "outputs": [],
   "source": []
  }
 ],
 "metadata": {
  "kernelspec": {
   "display_name": "Python 3 (ipykernel)",
   "language": "python",
   "name": "python3"
  },
  "language_info": {
   "codemirror_mode": {
    "name": "ipython",
    "version": 3
   },
   "file_extension": ".py",
   "mimetype": "text/x-python",
   "name": "python",
   "nbconvert_exporter": "python",
   "pygments_lexer": "ipython3",
   "version": "3.9.12"
  }
 },
 "nbformat": 4,
 "nbformat_minor": 5
}
