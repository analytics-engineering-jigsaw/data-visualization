{
 "cells": [
  {
   "cell_type": "markdown",
   "id": "42a4fc3b-0600-4c9a-bbd7-55e2747f779b",
   "metadata": {},
   "source": [
    "# Plotting Lab"
   ]
  },
  {
   "cell_type": "markdown",
   "id": "89e8e33b-3f57-4232-82c4-f719417ea6a6",
   "metadata": {},
   "source": [
    "### Introduction"
   ]
  },
  {
   "cell_type": "markdown",
   "id": "a5eb96bf-f91d-41dc-8f15-d1114767393d",
   "metadata": {},
   "source": [
    "In this lesson, we'll ask you to draw/sketch out various charts given some information that we provide.  These are based on real charts -- so in the next lesson, we'll show what the authors provided.  "
   ]
  },
  {
   "cell_type": "markdown",
   "id": "ec06e959-b8c8-4932-bb15-90c92b59dad7",
   "metadata": {},
   "source": [
    "### Sketching plots"
   ]
  },
  {
   "cell_type": "markdown",
   "id": "99058b50-e724-4110-aad1-a2d6f6a09b27",
   "metadata": {},
   "source": [
    "1. Emerging economies had the highest growth in travel spending"
   ]
  },
  {
   "cell_type": "code",
   "execution_count": 2,
   "id": "c36295c6-2c12-4d39-8053-861923a48329",
   "metadata": {},
   "outputs": [],
   "source": [
    "countries = ['China', 'India', 'Germany', 'Russia']\n",
    "pct_change = [17, 10, 8, -7]"
   ]
  },
  {
   "cell_type": "markdown",
   "id": "1050d782-08fc-4c5b-a556-23f5a283fc61",
   "metadata": {},
   "source": [
    "> Please draw a sketch below."
   ]
  },
  {
   "cell_type": "markdown",
   "id": "dc0056d6-9bbd-435f-84b3-80eece86a20a",
   "metadata": {},
   "source": [
    "<img src=\"./business-travel-spending.png\" width=\"30%\">"
   ]
  },
  {
   "cell_type": "markdown",
   "id": "3ab130a1-d5d8-4995-9879-f67619c58d03",
   "metadata": {},
   "source": [
    "> Notes\n",
    "\n",
    "* Show positive and negative growth with colors\n",
    "* Also highlight size of industry to the right\n",
    "* Notice the numbers of billions are outside the bubbles, as most would not fit inside \n",
    "* The axes are scaled to fit the (-10 to +15)"
   ]
  },
  {
   "cell_type": "markdown",
   "id": "95128f94-e132-4fea-80e0-eae353cd541f",
   "metadata": {},
   "source": [
    "2. USPS is showing unprecedented losses"
   ]
  },
  {
   "cell_type": "code",
   "execution_count": 3,
   "id": "ac6980f6-cd03-4f21-a8a8-d2ae550b909c",
   "metadata": {},
   "outputs": [],
   "source": [
    "year = [2005, 2006, 2007, 2008, 2009, 2010] # 2010 is projected losses\n",
    "profit_losses = [1.4, .9, -5.1, -2.8, -3.8, -7.8] # -7.8 is projected 2010 losses"
   ]
  },
  {
   "cell_type": "markdown",
   "id": "5ae2f5e6-f72e-451e-99cc-6a2c290d18b6",
   "metadata": {},
   "source": [
    "<img src=\"./usps-losses.png\" width=\"50%\">"
   ]
  },
  {
   "cell_type": "markdown",
   "id": "5dd9f7f2-4df8-4958-a44a-e33bd9944908",
   "metadata": {},
   "source": [
    "* Note that it's a vertical bar chart as it shows a sequence in time\n",
    "* Annotations show important events that could have impacted (or not) the profitability  \n",
    "* Has dotted line for projected profitability"
   ]
  },
  {
   "cell_type": "markdown",
   "id": "342e575e-8c73-4d3b-ab2c-b257f1df8f03",
   "metadata": {},
   "source": [
    "3. Money can buy happiness"
   ]
  },
  {
   "cell_type": "code",
   "execution_count": 8,
   "id": "ca502ba8-6ad9-4e82-9142-690625b05c60",
   "metadata": {},
   "outputs": [],
   "source": [
    "countries = ['Afghanistan', 'Nigeria', 'Brazil', 'China',\n",
    "             'Japan', 'US', 'Finland']\n",
    "gdp_per_person = [.3, 5, 7, 12.5, 40, 70, 53]\n",
    "happiness = [2.5, 5.1, 6, 5, 6, 6.8, 7.7]"
   ]
  },
  {
   "cell_type": "markdown",
   "id": "5dfde83e-6af0-4b33-8ce6-54723a941925",
   "metadata": {},
   "source": [
    "<img src=\"./money-happiness.png\" width=\"50%\">"
   ]
  },
  {
   "cell_type": "markdown",
   "id": "2cdf7080-4cb3-4163-ba0f-18ca7f19af8a",
   "metadata": {},
   "source": [
    "### Other charts we love"
   ]
  },
  {
   "cell_type": "markdown",
   "id": "9caa887a-fc84-4268-9ba0-15c620141258",
   "metadata": {},
   "source": [
    "1. Rise of Prestige"
   ]
  },
  {
   "cell_type": "markdown",
   "id": "18c4e027-a12a-4752-8d1d-ccb81b2da62b",
   "metadata": {},
   "source": [
    "<img src=\"./films-dramas.png\" width=\"60%\">"
   ]
  },
  {
   "cell_type": "markdown",
   "id": "3c0816c2-fe35-4e8e-b46f-412c8fea0cd6",
   "metadata": {},
   "source": [
    "* Has multiple lines to show directional increase in drama shows more broadly\n",
    "* Shows trend in drama vs overall overtime by plotting years vs ratings, and different markers for prestige shows\n",
    "* Annotates select prestige shows as examples\n",
    "* As axes, only chooses relevant range (6.5 to 9.5)\n",
    "* And uses size of bubbles to show amount of ratings"
   ]
  },
  {
   "cell_type": "markdown",
   "id": "a29dc978-4a45-41db-a67e-41379b12198a",
   "metadata": {},
   "source": [
    "2. Spotify happiness by country"
   ]
  },
  {
   "cell_type": "markdown",
   "id": "aeaff259-0fb1-4644-ba87-bf69223cde12",
   "metadata": {},
   "source": [
    "<img src=\"./histograms.png\" width=\"60%\">"
   ]
  },
  {
   "cell_type": "markdown",
   "id": "061f4c23-111f-44e8-bdbb-8f41eb353c28",
   "metadata": {},
   "source": [
    "* The layered histogram is the economist's alternative to a bar chart.  (We can use a bar chart)\n",
    "* But the scale on the bottom gives examples to ground the happiness levels\n",
    "* And color emphasizes degree of mood (choosing ones like blue and yellow that correspond with standards for happiness)"
   ]
  },
  {
   "cell_type": "markdown",
   "id": "e63eb31c-2809-4a63-ac0b-279d0b6eaff3",
   "metadata": {},
   "source": [
    "### Resources\n",
    "\n",
    "[Economist charts of the year](https://www.economist.com/graphic-detail/2018/12/26/our-charts-of-the-year)\n",
    "\n",
    "[Economist Style Guide](https://design-system.economist.com/documents/CHARTstyleguide_20170505.pdf)\n",
    "\n",
    "[Economist Graphs Dataset](https://github.com/TheEconomist/graphic-detail-data)\n",
    "\n",
    "[Urban Institute Style Guide](http://urbaninstitute.github.io/graphics-styleguide/)\n",
    "\n",
    "[100 consulting presentations](https://www.theanalystacademy.com/consulting-presentations/)"
   ]
  }
 ],
 "metadata": {
  "kernelspec": {
   "display_name": "Python 3 (ipykernel)",
   "language": "python",
   "name": "python3"
  },
  "language_info": {
   "codemirror_mode": {
    "name": "ipython",
    "version": 3
   },
   "file_extension": ".py",
   "mimetype": "text/x-python",
   "name": "python",
   "nbconvert_exporter": "python",
   "pygments_lexer": "ipython3",
   "version": "3.9.12"
  }
 },
 "nbformat": 4,
 "nbformat_minor": 5
}
