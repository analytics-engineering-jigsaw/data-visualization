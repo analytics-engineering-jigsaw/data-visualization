{
 "cells": [
  {
   "cell_type": "markdown",
   "id": "a0cf63c1-8904-4892-8fd5-58ed8a2cff5d",
   "metadata": {},
   "source": [
    "# Plotly Charts Lab"
   ]
  },
  {
   "cell_type": "markdown",
   "id": "f342c12b-3dc2-4fc6-b29f-f013ecc1b627",
   "metadata": {},
   "source": [
    "### Introduction"
   ]
  },
  {
   "cell_type": "code",
   "execution_count": null,
   "id": "775adcd4-607a-486f-8754-3d83b52d1b97",
   "metadata": {},
   "outputs": [],
   "source": []
  },
  {
   "cell_type": "markdown",
   "id": "08ec0035-95f8-4c9b-a257-51587c22efe8",
   "metadata": {},
   "source": [
    "### Resources\n",
    "\n",
    "[Medium Unit Economics](https://medium.com/@charles_armitage/unit-economics-a-practical-guide-to-lifetime-value-6d7f759a0438)\n",
    "\n",
    "[kaggle unit econ dataset](https://www.kaggle.com/datasets/abhishekrp1517/sales-data-for-economic-data-analysis)\n",
    "\n",
    "[Cloud unit econ](https://www.finops.org/wg/introduction-cloud-unit-economics/)\n",
    "\n",
    "[Product Market Fit](https://humcapital.com/articles/how-to-evaluate-product-market-fit-and-unit-economics-before-fundraising/)"
   ]
  }
 ],
 "metadata": {
  "kernelspec": {
   "display_name": "Python 3 (ipykernel)",
   "language": "python",
   "name": "python3"
  },
  "language_info": {
   "codemirror_mode": {
    "name": "ipython",
    "version": 3
   },
   "file_extension": ".py",
   "mimetype": "text/x-python",
   "name": "python",
   "nbconvert_exporter": "python",
   "pygments_lexer": "ipython3",
   "version": "3.9.12"
  }
 },
 "nbformat": 4,
 "nbformat_minor": 5
}
