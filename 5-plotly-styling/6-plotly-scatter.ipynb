{
 "cells": [
  {
   "cell_type": "markdown",
   "id": "784196f5-8d90-4af9-b001-6e2d4c65a15f",
   "metadata": {},
   "source": [
    "# Plotly Scatter"
   ]
  },
  {
   "cell_type": "markdown",
   "id": "41e71017-b8ca-40ae-89a8-fdc1f4ec2332",
   "metadata": {},
   "source": [
    "### Introduction"
   ]
  },
  {
   "cell_type": "markdown",
   "id": "b8da3df3-2153-49cd-8008-e693156341fb",
   "metadata": {},
   "source": [
    "In this lesson, we'll move through styling our Scatter plots."
   ]
  },
  {
   "cell_type": "markdown",
   "id": "33712915-4bd0-4370-aef3-3905a178abb0",
   "metadata": {},
   "source": [
    "### Economist data"
   ]
  },
  {
   "cell_type": "code",
   "execution_count": 12,
   "id": "ec3a7f9c-6ee0-4add-8e6a-b4c82a1340a9",
   "metadata": {},
   "outputs": [],
   "source": [
    "import pandas as pd\n",
    "url = \"https://raw.githubusercontent.com/analytics-engineering-jigsaw/data-visualization/main/5-plotly-styling/economist_tv.csv\"\n",
    "df_drama = pd.read_csv(url, index_col = 0)"
   ]
  },
  {
   "cell_type": "code",
   "execution_count": 13,
   "id": "54c312b8-5407-4439-8d6d-6809d8d3aa41",
   "metadata": {},
   "outputs": [
    {
     "data": {
      "text/html": [
       "<div>\n",
       "<style scoped>\n",
       "    .dataframe tbody tr th:only-of-type {\n",
       "        vertical-align: middle;\n",
       "    }\n",
       "\n",
       "    .dataframe tbody tr th {\n",
       "        vertical-align: top;\n",
       "    }\n",
       "\n",
       "    .dataframe thead th {\n",
       "        text-align: right;\n",
       "    }\n",
       "</style>\n",
       "<table border=\"1\" class=\"dataframe\">\n",
       "  <thead>\n",
       "    <tr style=\"text-align: right;\">\n",
       "      <th></th>\n",
       "      <th>titleId</th>\n",
       "      <th>seasonNumber</th>\n",
       "      <th>title</th>\n",
       "      <th>date</th>\n",
       "      <th>av_rating</th>\n",
       "      <th>share</th>\n",
       "      <th>genres</th>\n",
       "    </tr>\n",
       "  </thead>\n",
       "  <tbody>\n",
       "    <tr>\n",
       "      <th>0</th>\n",
       "      <td>tt2879552</td>\n",
       "      <td>1</td>\n",
       "      <td>11.22.63</td>\n",
       "      <td>2016-03-10</td>\n",
       "      <td>8.4890</td>\n",
       "      <td>0.51</td>\n",
       "      <td>Drama,Mystery,Sci-Fi</td>\n",
       "    </tr>\n",
       "    <tr>\n",
       "      <th>1</th>\n",
       "      <td>tt3148266</td>\n",
       "      <td>1</td>\n",
       "      <td>12 Monkeys</td>\n",
       "      <td>2015-02-27</td>\n",
       "      <td>8.3407</td>\n",
       "      <td>0.46</td>\n",
       "      <td>Adventure,Drama,Mystery</td>\n",
       "    </tr>\n",
       "  </tbody>\n",
       "</table>\n",
       "</div>"
      ],
      "text/plain": [
       "     titleId  seasonNumber       title        date  av_rating  share  \\\n",
       "0  tt2879552             1    11.22.63  2016-03-10     8.4890   0.51   \n",
       "1  tt3148266             1  12 Monkeys  2015-02-27     8.3407   0.46   \n",
       "\n",
       "                    genres  \n",
       "0     Drama,Mystery,Sci-Fi  \n",
       "1  Adventure,Drama,Mystery  "
      ]
     },
     "execution_count": 13,
     "metadata": {},
     "output_type": "execute_result"
    }
   ],
   "source": [
    "df_drama[:2]"
   ]
  },
  {
   "cell_type": "markdown",
   "id": "d7541ad7-83fc-4ee9-bacd-a38d68c813c3",
   "metadata": {},
   "source": [
    "The data loaded above consists of various drama shows from 1990 to 2016 -- and has the tv show name, the season of the tv show, and the average imdb rating.  The `share` column is to indicate the percentage of ratings the show received for that year.\n",
    "\n",
    "For example, above we can see that 12 monkeys received .46 percent of imdb ratings in 2015."
   ]
  },
  {
   "cell_type": "markdown",
   "id": "9b631818-8785-447e-9c6d-d340c1d044d3",
   "metadata": {},
   "source": [
    "Let's work towards developing the following chart."
   ]
  },
  {
   "cell_type": "markdown",
   "id": "f39d633a-10f4-4c45-8006-c50bddcd0780",
   "metadata": {},
   "source": [
    "<img src=\"./movie-ratings.png\">"
   ]
  },
  {
   "cell_type": "markdown",
   "id": "50a96275-2ad8-4b49-89d9-786672ac68ad",
   "metadata": {},
   "source": [
    "The chart above plot consists of the line chart and a scatter chart.\n",
    "\n",
    "1. Line chart \n",
    "* The line chart plots the average annual tv show rating from 1990 to 2016.\n",
    "2. Scatter plot\n",
    "* You can make a scatter plot just like a line chart, just set the x and y values and the mode to `markers`\n",
    "    * For example, `go.Scatter(x = , y = mode = 'markers')`\n",
    "* The scatter plot only shows a sample of the tv shows to avoid cluttering \n",
    "    * `sampled_dramas = df_drama.sample(500, random_state = 2)`\n",
    "        * The random_state = 2, means that we will choose the same \"random\" sample each time.\n",
    "* The scatter plot shows the rating of each tv show, and the release date as the x values. \n",
    "* In the scatter plot, there's a `marker` attribute that takes a dictionary of keys color and size\n",
    "    *  `go.Scatter(marker = {'color': , 'size': })`\n",
    "    * Set the size equal to 1.5 times the share size, and the color to `LightSkyBlue`\n",
    "3. Figure\n",
    "    * Notice that the overall figure has a y axis range from 7 to 9.5\n",
    "    * We used a seethrough background color"
   ]
  },
  {
   "cell_type": "markdown",
   "id": "4c27171b-d562-4456-bf06-9db915cd8592",
   "metadata": {},
   "source": [
    "We'll provide the styling for the title for you."
   ]
  },
  {
   "cell_type": "code",
   "execution_count": 35,
   "id": "82855078-6b05-4200-9ab7-219a9f8110ec",
   "metadata": {},
   "outputs": [],
   "source": [
    "import plotly.graph_objects as go\n",
    "\n",
    "title = '<span>Median imdb ratings for dramas increased slightly from 2000 <br><sup>The higher the rating, the more popular the show</sup></span>'\n"
   ]
  },
  {
   "cell_type": "markdown",
   "id": "d6358c10-2ee2-4bb7-adc6-6533c0032341",
   "metadata": {},
   "source": [
    "### Initial Scatter plots"
   ]
  },
  {
   "cell_type": "markdown",
   "id": "8134e9d5-0922-4ed6-8cd8-e1ddbab01b51",
   "metadata": {},
   "source": [
    "[Beautiful Scatter](https://towardsdatascience.com/a-quick-guide-to-beautiful-scatter-plots-in-python-75625ae67396)"
   ]
  }
 ],
 "metadata": {
  "kernelspec": {
   "display_name": "Python 3 (ipykernel)",
   "language": "python",
   "name": "python3"
  },
  "language_info": {
   "codemirror_mode": {
    "name": "ipython",
    "version": 3
   },
   "file_extension": ".py",
   "mimetype": "text/x-python",
   "name": "python",
   "nbconvert_exporter": "python",
   "pygments_lexer": "ipython3",
   "version": "3.9.12"
  }
 },
 "nbformat": 4,
 "nbformat_minor": 5
}
