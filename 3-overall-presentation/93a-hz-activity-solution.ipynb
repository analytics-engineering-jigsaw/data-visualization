{
 "cells": [
  {
   "cell_type": "markdown",
   "id": "debe08a6-3589-4b71-9e64-d9b47f01278c",
   "metadata": {},
   "source": [
    "# USPS Horizontal Solutions"
   ]
  },
  {
   "cell_type": "markdown",
   "id": "fa68f50c-5c42-4b9a-be90-02015894a086",
   "metadata": {},
   "source": [
    "### Introduction"
   ]
  },
  {
   "cell_type": "markdown",
   "id": "d71f2d78-ac7c-46e3-827e-b818676bc20b",
   "metadata": {},
   "source": [
    "Here, we provide our solution for organizing the presentation.  Note that different professional analysts would structure the presentation differently.  But do notice some of the principals we tried to adhere to:\n",
    "\n",
    "1. Answers first\n",
    "2. Starting with the problem, then solution (both in the first slide, and overall sections)\n",
    "2. Repeatedly starting broad and then moving more narrow"
   ]
  },
  {
   "cell_type": "markdown",
   "id": "022e6931-5aed-4ad4-a627-c1dfb9273a00",
   "metadata": {},
   "source": [
    "### Organizing our presentation"
   ]
  },
  {
   "cell_type": "markdown",
   "id": "1dcdf31c-c729-4a7d-befe-a83a81bee4b2",
   "metadata": {},
   "source": [
    "* USPS is experiencing unprecedented losses, but productivity improvements combined with service opportunities are worth over 10 billion dollars \n",
    "> (Answers First)\n",
    "\n",
    "\n",
    "1. Current context - unprecedented losses driven by volume declines\n",
    "\n",
    "* USPS is experiencing unprecedented losses \n",
    "* Losses have been driven by volume declines, and limitations on cost savings\n",
    "* The recession has exacerbated volume declines\n",
    "* Volume will decline significantly over the next decade driven by a steady decline in First-Class Mail, the most profitable segment\n",
    "\n",
    "2. Productivity improvements - Productivity improvements can curb losses in the short term\n",
    "* Aggressive productivity improvements case are worth ~ $10 billion\n",
    "\n",
    "3. Near term improvements - Service opportunities as new revenue streams\n",
    "* Product and service initiatives can grow volume\n",
    "* Products and services opportunities were identified through a screen for potential feasibility and impact in the near term\n",
    "* Potential service opportunities include hybrid mail products and advertising products"
   ]
  },
  {
   "cell_type": "markdown",
   "id": "281de072-8193-4472-96db-e799de01eba1",
   "metadata": {},
   "source": [
    "### Resources\n",
    "\n",
    "[Structuring ideas](https://strategyu.co/structure-your-ideas-pyramid-principle-part-1/)\n",
    "\n",
    "[USPS Future postal Service](https://about.usps.com/future-postal-service/mckinsey-usps-future-bus-model2.pdf)"
   ]
  }
 ],
 "metadata": {
  "kernelspec": {
   "display_name": "Python 3 (ipykernel)",
   "language": "python",
   "name": "python3"
  },
  "language_info": {
   "codemirror_mode": {
    "name": "ipython",
    "version": 3
   },
   "file_extension": ".py",
   "mimetype": "text/x-python",
   "name": "python",
   "nbconvert_exporter": "python",
   "pygments_lexer": "ipython3",
   "version": "3.9.12"
  }
 },
 "nbformat": 4,
 "nbformat_minor": 5
}
