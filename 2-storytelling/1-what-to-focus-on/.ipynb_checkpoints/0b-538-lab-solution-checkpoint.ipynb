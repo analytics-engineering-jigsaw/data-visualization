{
 "cells": [
  {
   "cell_type": "markdown",
   "id": "42e51b6e-0956-4cad-8bca-484002c32a91",
   "metadata": {},
   "source": [
    "# Representativeness of Data Lab"
   ]
  },
  {
   "cell_type": "markdown",
   "id": "076fd0e6-7544-4f9d-a080-dcc0cc9a16f5",
   "metadata": {},
   "source": [
    "### Introduction"
   ]
  },
  {
   "cell_type": "markdown",
   "id": "aca7ec37-8e5f-4ebd-946c-884f7d311bd8",
   "metadata": {},
   "source": [
    "In this lesson, let's use some of what we know about the representativeness of our dataset to explore a movie dataset.  \n",
    "\n",
    "You can see the kind of information we have about a movie here."
   ]
  },
  {
   "cell_type": "code",
   "execution_count": 2,
   "id": "42344989-2cc5-4f42-9781-7b3e090b5bd0",
   "metadata": {},
   "outputs": [],
   "source": [
    "import pandas as pd\n",
    "\n",
    "movies_df = pd.read_csv(\"https://raw.githubusercontent.com/jigsawlabs-student/tech-interview/main/movies.csv\")"
   ]
  },
  {
   "cell_type": "code",
   "execution_count": 3,
   "id": "60b41695-8417-4a59-b343-c541148e65b1",
   "metadata": {},
   "outputs": [
    {
     "data": {
      "text/html": [
       "<div>\n",
       "<style scoped>\n",
       "    .dataframe tbody tr th:only-of-type {\n",
       "        vertical-align: middle;\n",
       "    }\n",
       "\n",
       "    .dataframe tbody tr th {\n",
       "        vertical-align: top;\n",
       "    }\n",
       "\n",
       "    .dataframe thead th {\n",
       "        text-align: right;\n",
       "    }\n",
       "</style>\n",
       "<table border=\"1\" class=\"dataframe\">\n",
       "  <thead>\n",
       "    <tr style=\"text-align: right;\">\n",
       "      <th></th>\n",
       "      <th>title</th>\n",
       "      <th>genre</th>\n",
       "      <th>budget</th>\n",
       "      <th>runtime</th>\n",
       "      <th>year</th>\n",
       "      <th>month</th>\n",
       "      <th>revenue</th>\n",
       "    </tr>\n",
       "  </thead>\n",
       "  <tbody>\n",
       "    <tr>\n",
       "      <th>0</th>\n",
       "      <td>Oliver Twist</td>\n",
       "      <td>Crime</td>\n",
       "      <td>50000000</td>\n",
       "      <td>130.0</td>\n",
       "      <td>2005</td>\n",
       "      <td>9</td>\n",
       "      <td>42093706</td>\n",
       "    </tr>\n",
       "    <tr>\n",
       "      <th>1</th>\n",
       "      <td>X-Men: Apocalypse</td>\n",
       "      <td>Science Fiction</td>\n",
       "      <td>178000000</td>\n",
       "      <td>144.0</td>\n",
       "      <td>2016</td>\n",
       "      <td>5</td>\n",
       "      <td>543934787</td>\n",
       "    </tr>\n",
       "  </tbody>\n",
       "</table>\n",
       "</div>"
      ],
      "text/plain": [
       "               title            genre     budget  runtime  year  month  \\\n",
       "0       Oliver Twist            Crime   50000000    130.0  2005      9   \n",
       "1  X-Men: Apocalypse  Science Fiction  178000000    144.0  2016      5   \n",
       "\n",
       "     revenue  \n",
       "0   42093706  \n",
       "1  543934787  "
      ]
     },
     "execution_count": 3,
     "metadata": {},
     "output_type": "execute_result"
    }
   ],
   "source": [
    "movies_df[:2]"
   ]
  },
  {
   "cell_type": "markdown",
   "id": "6f7f8b70-5ff8-45a2-96b3-64aa6330ede8",
   "metadata": {},
   "source": [
    "Ok, so assume as a goal, that that we would like to see how items like a genre or budget impact the income of a movie made today.  Before we do so, we want to *examine our dataset to see how representative it may would be of movies made today*. \n",
    "\n",
    "Then, use that information to select the portion of the data you believe is high enough quality and representative enough to draw conclusions from."
   ]
  },
  {
   "cell_type": "markdown",
   "id": "e581ec9c-adac-4a8c-b938-8b0d5a86accd",
   "metadata": {},
   "source": [
    "So what's our task in this lab:\n",
    "\n",
    "1. Explore the data to see the representativeness of the data\n",
    "2. Select the portion of the data that is more representative"
   ]
  },
  {
   "cell_type": "markdown",
   "id": "69b9c1c8-fc88-4bb0-b968-60b1013eb5aa",
   "metadata": {},
   "source": [
    "This will be a little different in that it is more freeform than other labs."
   ]
  },
  {
   "cell_type": "markdown",
   "id": "fad7f22b-fef2-4c5a-a950-72ba29cd31a5",
   "metadata": {},
   "source": [
    "### Before getting started"
   ]
  },
  {
   "cell_type": "markdown",
   "id": "9f4f8596-ce61-4a99-a733-6e8e90a0618d",
   "metadata": {},
   "source": [
    "As a way to review, let's remember that there were a few different ways that we checked our data:\n",
    "\n",
    "1. Comparing groups of our data to what we see in the real world\n",
    "2. Checking how recent our data is\n",
    "3. Looking at distributions and outliers in our data \n",
    "4. Looking at missing values in our data (with isna)"
   ]
  },
  {
   "cell_type": "markdown",
   "id": "9bf3c4eb-7106-4057-8131-b9308dbfa98b",
   "metadata": {},
   "source": [
    "After exploring the quality of our (imperfect) data, make a determination as to how we might still make use of our data to determine how items like genre, or budget might impact the revenue."
   ]
  },
  {
   "cell_type": "markdown",
   "id": "3624733a-cf42-429e-be39-8d4e0c696e59",
   "metadata": {},
   "source": [
    "### Exploring our data"
   ]
  },
  {
   "cell_type": "code",
   "execution_count": 4,
   "id": "ddad29d5-d90f-4718-8e60-24064b1c9a38",
   "metadata": {},
   "outputs": [
    {
     "data": {
      "text/plain": [
       "Index(['title', 'genre', 'budget', 'runtime', 'year', 'month', 'revenue'], dtype='object')"
      ]
     },
     "execution_count": 4,
     "metadata": {},
     "output_type": "execute_result"
    }
   ],
   "source": [
    "movies_df.columns"
   ]
  },
  {
   "cell_type": "code",
   "execution_count": 5,
   "id": "05fa7d4a-b882-4812-a5b2-3d81ef97b3d2",
   "metadata": {},
   "outputs": [
    {
     "data": {
      "text/html": [
       "<div>\n",
       "<style scoped>\n",
       "    .dataframe tbody tr th:only-of-type {\n",
       "        vertical-align: middle;\n",
       "    }\n",
       "\n",
       "    .dataframe tbody tr th {\n",
       "        vertical-align: top;\n",
       "    }\n",
       "\n",
       "    .dataframe thead th {\n",
       "        text-align: right;\n",
       "    }\n",
       "</style>\n",
       "<table border=\"1\" class=\"dataframe\">\n",
       "  <thead>\n",
       "    <tr style=\"text-align: right;\">\n",
       "      <th></th>\n",
       "      <th>budget</th>\n",
       "      <th>runtime</th>\n",
       "      <th>year</th>\n",
       "      <th>month</th>\n",
       "      <th>revenue</th>\n",
       "    </tr>\n",
       "  </thead>\n",
       "  <tbody>\n",
       "    <tr>\n",
       "      <th>count</th>\n",
       "      <td>2.010000e+03</td>\n",
       "      <td>2010.000000</td>\n",
       "      <td>2010.000000</td>\n",
       "      <td>2010.000000</td>\n",
       "      <td>2.010000e+03</td>\n",
       "    </tr>\n",
       "    <tr>\n",
       "      <th>mean</th>\n",
       "      <td>6.136105e+07</td>\n",
       "      <td>113.440299</td>\n",
       "      <td>2004.444279</td>\n",
       "      <td>7.048756</td>\n",
       "      <td>1.671567e+08</td>\n",
       "    </tr>\n",
       "    <tr>\n",
       "      <th>std</th>\n",
       "      <td>4.875885e+07</td>\n",
       "      <td>21.225534</td>\n",
       "      <td>7.939049</td>\n",
       "      <td>3.397597</td>\n",
       "      <td>2.225611e+08</td>\n",
       "    </tr>\n",
       "    <tr>\n",
       "      <th>min</th>\n",
       "      <td>0.000000e+00</td>\n",
       "      <td>0.000000</td>\n",
       "      <td>1940.000000</td>\n",
       "      <td>1.000000</td>\n",
       "      <td>0.000000e+00</td>\n",
       "    </tr>\n",
       "    <tr>\n",
       "      <th>25%</th>\n",
       "      <td>3.000000e+07</td>\n",
       "      <td>99.000000</td>\n",
       "      <td>2000.000000</td>\n",
       "      <td>4.000000</td>\n",
       "      <td>3.126047e+07</td>\n",
       "    </tr>\n",
       "    <tr>\n",
       "      <th>50%</th>\n",
       "      <td>4.800000e+07</td>\n",
       "      <td>110.000000</td>\n",
       "      <td>2005.000000</td>\n",
       "      <td>7.000000</td>\n",
       "      <td>9.496788e+07</td>\n",
       "    </tr>\n",
       "    <tr>\n",
       "      <th>75%</th>\n",
       "      <td>7.575000e+07</td>\n",
       "      <td>125.000000</td>\n",
       "      <td>2011.000000</td>\n",
       "      <td>10.000000</td>\n",
       "      <td>2.053958e+08</td>\n",
       "    </tr>\n",
       "    <tr>\n",
       "      <th>max</th>\n",
       "      <td>3.800000e+08</td>\n",
       "      <td>254.000000</td>\n",
       "      <td>2016.000000</td>\n",
       "      <td>12.000000</td>\n",
       "      <td>2.787965e+09</td>\n",
       "    </tr>\n",
       "  </tbody>\n",
       "</table>\n",
       "</div>"
      ],
      "text/plain": [
       "             budget      runtime         year        month       revenue\n",
       "count  2.010000e+03  2010.000000  2010.000000  2010.000000  2.010000e+03\n",
       "mean   6.136105e+07   113.440299  2004.444279     7.048756  1.671567e+08\n",
       "std    4.875885e+07    21.225534     7.939049     3.397597  2.225611e+08\n",
       "min    0.000000e+00     0.000000  1940.000000     1.000000  0.000000e+00\n",
       "25%    3.000000e+07    99.000000  2000.000000     4.000000  3.126047e+07\n",
       "50%    4.800000e+07   110.000000  2005.000000     7.000000  9.496788e+07\n",
       "75%    7.575000e+07   125.000000  2011.000000    10.000000  2.053958e+08\n",
       "max    3.800000e+08   254.000000  2016.000000    12.000000  2.787965e+09"
      ]
     },
     "execution_count": 5,
     "metadata": {},
     "output_type": "execute_result"
    }
   ],
   "source": [
    "cols = ['genre', 'budget', 'runtime', 'year', 'month', 'revenue']\n",
    "movies_df[cols].describe()"
   ]
  },
  {
   "cell_type": "markdown",
   "id": "681ed6f5-e97d-4c1f-833c-c1059ef495d3",
   "metadata": {},
   "source": [
    "Ok, so right away we can see that our revenue data is missing."
   ]
  },
  {
   "cell_type": "code",
   "execution_count": 8,
   "id": "ab7dbaf5-efae-4530-b78d-7e85fba07a28",
   "metadata": {},
   "outputs": [
    {
     "data": {
      "text/plain": [
       "<AxesSubplot: >"
      ]
     },
     "execution_count": 8,
     "metadata": {},
     "output_type": "execute_result"
    },
    {
     "data": {
      "image/png": "[encoded data removed]",
      "text/plain": [
       "<Figure size 1000x300 with 1 Axes>"
      ]
     },
     "metadata": {},
     "output_type": "display_data"
    }
   ],
   "source": [
    "movies_df['revenue'].plot(figsize = (10, 3))"
   ]
  },
  {
   "cell_type": "markdown",
   "id": "0d925236-cfec-44fc-9388-53c02454a71a",
   "metadata": {},
   "source": [
    "Movies that earned zero have incorrect data -- and so we should not rely on it.  Let's remove it."
   ]
  },
  {
   "cell_type": "code",
   "execution_count": 12,
   "id": "add4a47f-ee96-423d-a060-bc70efca4fa1",
   "metadata": {},
   "outputs": [],
   "source": [
    "movies_rev_df = movies_df[movies_df['revenue'] > 0]"
   ]
  },
  {
   "cell_type": "markdown",
   "id": "376559eb-5c15-4a43-a221-aa8c3a6ba193",
   "metadata": {},
   "source": [
    "but we also see a good number of values close to 0, so let's take a look at our low values."
   ]
  },
  {
   "cell_type": "code",
   "execution_count": 13,
   "id": "7ebc0492-cd14-4caf-b0c4-fc101b13f77c",
   "metadata": {},
   "outputs": [
    {
     "data": {
      "text/html": [
       "<div>\n",
       "<style scoped>\n",
       "    .dataframe tbody tr th:only-of-type {\n",
       "        vertical-align: middle;\n",
       "    }\n",
       "\n",
       "    .dataframe tbody tr th {\n",
       "        vertical-align: top;\n",
       "    }\n",
       "\n",
       "    .dataframe thead th {\n",
       "        text-align: right;\n",
       "    }\n",
       "</style>\n",
       "<table border=\"1\" class=\"dataframe\">\n",
       "  <thead>\n",
       "    <tr style=\"text-align: right;\">\n",
       "      <th></th>\n",
       "      <th>title</th>\n",
       "      <th>genre</th>\n",
       "      <th>budget</th>\n",
       "      <th>runtime</th>\n",
       "      <th>year</th>\n",
       "      <th>month</th>\n",
       "      <th>revenue</th>\n",
       "    </tr>\n",
       "  </thead>\n",
       "  <tbody>\n",
       "    <tr>\n",
       "      <th>1852</th>\n",
       "      <td>Chasing Liberty</td>\n",
       "      <td>Comedy</td>\n",
       "      <td>23000000</td>\n",
       "      <td>111.0</td>\n",
       "      <td>2004</td>\n",
       "      <td>1</td>\n",
       "      <td>12</td>\n",
       "    </tr>\n",
       "    <tr>\n",
       "      <th>661</th>\n",
       "      <td>Angela's Ashes</td>\n",
       "      <td>Drama</td>\n",
       "      <td>25</td>\n",
       "      <td>145.0</td>\n",
       "      <td>1999</td>\n",
       "      <td>12</td>\n",
       "      <td>13</td>\n",
       "    </tr>\n",
       "    <tr>\n",
       "      <th>643</th>\n",
       "      <td>The 51st State</td>\n",
       "      <td>Thriller</td>\n",
       "      <td>28</td>\n",
       "      <td>93.0</td>\n",
       "      <td>2001</td>\n",
       "      <td>12</td>\n",
       "      <td>14</td>\n",
       "    </tr>\n",
       "    <tr>\n",
       "      <th>228</th>\n",
       "      <td>Rugrats in Paris: The Movie</td>\n",
       "      <td>Adventure</td>\n",
       "      <td>30</td>\n",
       "      <td>78.0</td>\n",
       "      <td>2000</td>\n",
       "      <td>9</td>\n",
       "      <td>103</td>\n",
       "    </tr>\n",
       "    <tr>\n",
       "      <th>1334</th>\n",
       "      <td>The Adventurer: The Curse of the Midas Box</td>\n",
       "      <td>Fantasy</td>\n",
       "      <td>25000000</td>\n",
       "      <td>99.0</td>\n",
       "      <td>2013</td>\n",
       "      <td>12</td>\n",
       "      <td>6399</td>\n",
       "    </tr>\n",
       "    <tr>\n",
       "      <th>...</th>\n",
       "      <td>...</td>\n",
       "      <td>...</td>\n",
       "      <td>...</td>\n",
       "      <td>...</td>\n",
       "      <td>...</td>\n",
       "      <td>...</td>\n",
       "      <td>...</td>\n",
       "    </tr>\n",
       "    <tr>\n",
       "      <th>1589</th>\n",
       "      <td>Furious 7</td>\n",
       "      <td>Action</td>\n",
       "      <td>190000000</td>\n",
       "      <td>137.0</td>\n",
       "      <td>2015</td>\n",
       "      <td>4</td>\n",
       "      <td>1506249360</td>\n",
       "    </tr>\n",
       "    <tr>\n",
       "      <th>413</th>\n",
       "      <td>Jurassic World</td>\n",
       "      <td>Action</td>\n",
       "      <td>150000000</td>\n",
       "      <td>124.0</td>\n",
       "      <td>2015</td>\n",
       "      <td>6</td>\n",
       "      <td>1513528810</td>\n",
       "    </tr>\n",
       "    <tr>\n",
       "      <th>23</th>\n",
       "      <td>The Avengers</td>\n",
       "      <td>Science Fiction</td>\n",
       "      <td>220000000</td>\n",
       "      <td>143.0</td>\n",
       "      <td>2012</td>\n",
       "      <td>4</td>\n",
       "      <td>1519557910</td>\n",
       "    </tr>\n",
       "    <tr>\n",
       "      <th>274</th>\n",
       "      <td>Titanic</td>\n",
       "      <td>Drama</td>\n",
       "      <td>200000000</td>\n",
       "      <td>194.0</td>\n",
       "      <td>1997</td>\n",
       "      <td>11</td>\n",
       "      <td>1845034188</td>\n",
       "    </tr>\n",
       "    <tr>\n",
       "      <th>1890</th>\n",
       "      <td>Avatar</td>\n",
       "      <td>Action</td>\n",
       "      <td>237000000</td>\n",
       "      <td>162.0</td>\n",
       "      <td>2009</td>\n",
       "      <td>12</td>\n",
       "      <td>2787965087</td>\n",
       "    </tr>\n",
       "  </tbody>\n",
       "</table>\n",
       "<p>1799 rows × 7 columns</p>\n",
       "</div>"
      ],
      "text/plain": [
       "                                           title            genre     budget  \\\n",
       "1852                             Chasing Liberty           Comedy   23000000   \n",
       "661                               Angela's Ashes            Drama         25   \n",
       "643                               The 51st State         Thriller         28   \n",
       "228                  Rugrats in Paris: The Movie        Adventure         30   \n",
       "1334  The Adventurer: The Curse of the Midas Box          Fantasy   25000000   \n",
       "...                                          ...              ...        ...   \n",
       "1589                                   Furious 7           Action  190000000   \n",
       "413                               Jurassic World           Action  150000000   \n",
       "23                                  The Avengers  Science Fiction  220000000   \n",
       "274                                      Titanic            Drama  200000000   \n",
       "1890                                      Avatar           Action  237000000   \n",
       "\n",
       "      runtime  year  month     revenue  \n",
       "1852    111.0  2004      1          12  \n",
       "661     145.0  1999     12          13  \n",
       "643      93.0  2001     12          14  \n",
       "228      78.0  2000      9         103  \n",
       "1334     99.0  2013     12        6399  \n",
       "...       ...   ...    ...         ...  \n",
       "1589    137.0  2015      4  1506249360  \n",
       "413     124.0  2015      6  1513528810  \n",
       "23      143.0  2012      4  1519557910  \n",
       "274     194.0  1997     11  1845034188  \n",
       "1890    162.0  2009     12  2787965087  \n",
       "\n",
       "[1799 rows x 7 columns]"
      ]
     },
     "execution_count": 13,
     "metadata": {},
     "output_type": "execute_result"
    }
   ],
   "source": [
    "movies_rev_df.sort_values('revenue')"
   ]
  },
  {
   "cell_type": "markdown",
   "id": "0679673b-9779-4a38-a839-37681eba609a",
   "metadata": {},
   "source": [
    "So looking at the above data we can see that some of the data like chasing liberty should be multiplied by a million, whereas others, like the Furious 7 already is in millions.  \n",
    "\n",
    "We can either convert that data or remove it (probably best to convert it)."
   ]
  },
  {
   "cell_type": "code",
   "execution_count": 20,
   "id": "118adb5d-241c-4706-849a-f9ea5e0d9a28",
   "metadata": {},
   "outputs": [
    {
     "data": {
      "text/html": [
       "<div>\n",
       "<style scoped>\n",
       "    .dataframe tbody tr th:only-of-type {\n",
       "        vertical-align: middle;\n",
       "    }\n",
       "\n",
       "    .dataframe tbody tr th {\n",
       "        vertical-align: top;\n",
       "    }\n",
       "\n",
       "    .dataframe thead th {\n",
       "        text-align: right;\n",
       "    }\n",
       "</style>\n",
       "<table border=\"1\" class=\"dataframe\">\n",
       "  <thead>\n",
       "    <tr style=\"text-align: right;\">\n",
       "      <th></th>\n",
       "      <th>title</th>\n",
       "      <th>genre</th>\n",
       "      <th>budget</th>\n",
       "      <th>runtime</th>\n",
       "      <th>year</th>\n",
       "      <th>month</th>\n",
       "      <th>revenue</th>\n",
       "    </tr>\n",
       "  </thead>\n",
       "  <tbody>\n",
       "    <tr>\n",
       "      <th>1852</th>\n",
       "      <td>Chasing Liberty</td>\n",
       "      <td>Comedy</td>\n",
       "      <td>23000000</td>\n",
       "      <td>111.0</td>\n",
       "      <td>2004</td>\n",
       "      <td>1</td>\n",
       "      <td>12</td>\n",
       "    </tr>\n",
       "    <tr>\n",
       "      <th>661</th>\n",
       "      <td>Angela's Ashes</td>\n",
       "      <td>Drama</td>\n",
       "      <td>25</td>\n",
       "      <td>145.0</td>\n",
       "      <td>1999</td>\n",
       "      <td>12</td>\n",
       "      <td>13</td>\n",
       "    </tr>\n",
       "    <tr>\n",
       "      <th>643</th>\n",
       "      <td>The 51st State</td>\n",
       "      <td>Thriller</td>\n",
       "      <td>28</td>\n",
       "      <td>93.0</td>\n",
       "      <td>2001</td>\n",
       "      <td>12</td>\n",
       "      <td>14</td>\n",
       "    </tr>\n",
       "    <tr>\n",
       "      <th>228</th>\n",
       "      <td>Rugrats in Paris: The Movie</td>\n",
       "      <td>Adventure</td>\n",
       "      <td>30</td>\n",
       "      <td>78.0</td>\n",
       "      <td>2000</td>\n",
       "      <td>9</td>\n",
       "      <td>103</td>\n",
       "    </tr>\n",
       "    <tr>\n",
       "      <th>1334</th>\n",
       "      <td>The Adventurer: The Curse of the Midas Box</td>\n",
       "      <td>Fantasy</td>\n",
       "      <td>25000000</td>\n",
       "      <td>99.0</td>\n",
       "      <td>2013</td>\n",
       "      <td>12</td>\n",
       "      <td>6399</td>\n",
       "    </tr>\n",
       "    <tr>\n",
       "      <th>350</th>\n",
       "      <td>Foodfight!</td>\n",
       "      <td>Animation</td>\n",
       "      <td>65000000</td>\n",
       "      <td>87.0</td>\n",
       "      <td>2012</td>\n",
       "      <td>6</td>\n",
       "      <td>73706</td>\n",
       "    </tr>\n",
       "    <tr>\n",
       "      <th>1863</th>\n",
       "      <td>1911</td>\n",
       "      <td>Adventure</td>\n",
       "      <td>30000000</td>\n",
       "      <td>125.0</td>\n",
       "      <td>2011</td>\n",
       "      <td>7</td>\n",
       "      <td>108348</td>\n",
       "    </tr>\n",
       "    <tr>\n",
       "      <th>773</th>\n",
       "      <td>DOA: Dead or Alive</td>\n",
       "      <td>Adventure</td>\n",
       "      <td>21000000</td>\n",
       "      <td>87.0</td>\n",
       "      <td>2006</td>\n",
       "      <td>9</td>\n",
       "      <td>480314</td>\n",
       "    </tr>\n",
       "    <tr>\n",
       "      <th>775</th>\n",
       "      <td>Earth</td>\n",
       "      <td>Drama</td>\n",
       "      <td>0</td>\n",
       "      <td>101.0</td>\n",
       "      <td>1998</td>\n",
       "      <td>9</td>\n",
       "      <td>528972</td>\n",
       "    </tr>\n",
       "    <tr>\n",
       "      <th>1647</th>\n",
       "      <td>Ride with the Devil</td>\n",
       "      <td>Drama</td>\n",
       "      <td>38000000</td>\n",
       "      <td>138.0</td>\n",
       "      <td>1999</td>\n",
       "      <td>11</td>\n",
       "      <td>635096</td>\n",
       "    </tr>\n",
       "    <tr>\n",
       "      <th>173</th>\n",
       "      <td>The Thief and the Cobbler</td>\n",
       "      <td>Adventure</td>\n",
       "      <td>28000000</td>\n",
       "      <td>72.0</td>\n",
       "      <td>1993</td>\n",
       "      <td>9</td>\n",
       "      <td>669276</td>\n",
       "    </tr>\n",
       "    <tr>\n",
       "      <th>966</th>\n",
       "      <td>Without Limits</td>\n",
       "      <td>Drama</td>\n",
       "      <td>25000000</td>\n",
       "      <td>117.0</td>\n",
       "      <td>1998</td>\n",
       "      <td>9</td>\n",
       "      <td>777423</td>\n",
       "    </tr>\n",
       "  </tbody>\n",
       "</table>\n",
       "</div>"
      ],
      "text/plain": [
       "                                           title      genre    budget  \\\n",
       "1852                             Chasing Liberty     Comedy  23000000   \n",
       "661                               Angela's Ashes      Drama        25   \n",
       "643                               The 51st State   Thriller        28   \n",
       "228                  Rugrats in Paris: The Movie  Adventure        30   \n",
       "1334  The Adventurer: The Curse of the Midas Box    Fantasy  25000000   \n",
       "350                                   Foodfight!  Animation  65000000   \n",
       "1863                                        1911  Adventure  30000000   \n",
       "773                           DOA: Dead or Alive  Adventure  21000000   \n",
       "775                                        Earth      Drama         0   \n",
       "1647                         Ride with the Devil      Drama  38000000   \n",
       "173                    The Thief and the Cobbler  Adventure  28000000   \n",
       "966                               Without Limits      Drama  25000000   \n",
       "\n",
       "      runtime  year  month  revenue  \n",
       "1852    111.0  2004      1       12  \n",
       "661     145.0  1999     12       13  \n",
       "643      93.0  2001     12       14  \n",
       "228      78.0  2000      9      103  \n",
       "1334     99.0  2013     12     6399  \n",
       "350      87.0  2012      6    73706  \n",
       "1863    125.0  2011      7   108348  \n",
       "773      87.0  2006      9   480314  \n",
       "775     101.0  1998      9   528972  \n",
       "1647    138.0  1999     11   635096  \n",
       "173      72.0  1993      9   669276  \n",
       "966     117.0  1998      9   777423  "
      ]
     },
     "execution_count": 20,
     "metadata": {},
     "output_type": "execute_result"
    }
   ],
   "source": [
    "movies_rev_df[movies_rev_df['revenue'] < 1_000_000 ].sort_values('revenue')"
   ]
  },
  {
   "cell_type": "markdown",
   "id": "3941e0da-b570-469a-8d4a-668bfc5ecfa4",
   "metadata": {},
   "source": [
    "Ok, so it looks like some of the movies really did just epically flop (Foodfight, The Adventurer).  But anything less than 1000, are really in millions.  so let's multiply that data and move it back to our dataframe."
   ]
  },
  {
   "cell_type": "code",
   "execution_count": 26,
   "id": "f0fce243-66a4-4fdb-be39-f320acbfabe4",
   "metadata": {},
   "outputs": [
    {
     "data": {
      "text/html": [
       "<div>\n",
       "<style scoped>\n",
       "    .dataframe tbody tr th:only-of-type {\n",
       "        vertical-align: middle;\n",
       "    }\n",
       "\n",
       "    .dataframe tbody tr th {\n",
       "        vertical-align: top;\n",
       "    }\n",
       "\n",
       "    .dataframe thead th {\n",
       "        text-align: right;\n",
       "    }\n",
       "</style>\n",
       "<table border=\"1\" class=\"dataframe\">\n",
       "  <thead>\n",
       "    <tr style=\"text-align: right;\">\n",
       "      <th></th>\n",
       "      <th>title</th>\n",
       "      <th>genre</th>\n",
       "      <th>budget</th>\n",
       "      <th>runtime</th>\n",
       "      <th>year</th>\n",
       "      <th>month</th>\n",
       "      <th>revenue</th>\n",
       "    </tr>\n",
       "  </thead>\n",
       "  <tbody>\n",
       "    <tr>\n",
       "      <th>1852</th>\n",
       "      <td>Chasing Liberty</td>\n",
       "      <td>Comedy</td>\n",
       "      <td>23000000</td>\n",
       "      <td>111.0</td>\n",
       "      <td>2004</td>\n",
       "      <td>1</td>\n",
       "      <td>12</td>\n",
       "    </tr>\n",
       "    <tr>\n",
       "      <th>661</th>\n",
       "      <td>Angela's Ashes</td>\n",
       "      <td>Drama</td>\n",
       "      <td>25</td>\n",
       "      <td>145.0</td>\n",
       "      <td>1999</td>\n",
       "      <td>12</td>\n",
       "      <td>13</td>\n",
       "    </tr>\n",
       "    <tr>\n",
       "      <th>643</th>\n",
       "      <td>The 51st State</td>\n",
       "      <td>Thriller</td>\n",
       "      <td>28</td>\n",
       "      <td>93.0</td>\n",
       "      <td>2001</td>\n",
       "      <td>12</td>\n",
       "      <td>14</td>\n",
       "    </tr>\n",
       "    <tr>\n",
       "      <th>228</th>\n",
       "      <td>Rugrats in Paris: The Movie</td>\n",
       "      <td>Adventure</td>\n",
       "      <td>30</td>\n",
       "      <td>78.0</td>\n",
       "      <td>2000</td>\n",
       "      <td>9</td>\n",
       "      <td>103</td>\n",
       "    </tr>\n",
       "  </tbody>\n",
       "</table>\n",
       "</div>"
      ],
      "text/plain": [
       "                            title      genre    budget  runtime  year  month  \\\n",
       "1852              Chasing Liberty     Comedy  23000000    111.0  2004      1   \n",
       "661                Angela's Ashes      Drama        25    145.0  1999     12   \n",
       "643                The 51st State   Thriller        28     93.0  2001     12   \n",
       "228   Rugrats in Paris: The Movie  Adventure        30     78.0  2000      9   \n",
       "\n",
       "      revenue  \n",
       "1852       12  \n",
       "661        13  \n",
       "643        14  \n",
       "228       103  "
      ]
     },
     "execution_count": 26,
     "metadata": {},
     "output_type": "execute_result"
    }
   ],
   "source": [
    "movies_to_convert = movies_rev_df[movies_rev_df['revenue'] < 1000 ].sort_values('revenue')\n",
    "movies_to_convert"
   ]
  },
  {
   "cell_type": "code",
   "execution_count": 28,
   "id": "e2f2329e-0d5f-432d-bf18-0879db21d4fe",
   "metadata": {},
   "outputs": [
    {
     "data": {
      "text/html": [
       "<div>\n",
       "<style scoped>\n",
       "    .dataframe tbody tr th:only-of-type {\n",
       "        vertical-align: middle;\n",
       "    }\n",
       "\n",
       "    .dataframe tbody tr th {\n",
       "        vertical-align: top;\n",
       "    }\n",
       "\n",
       "    .dataframe thead th {\n",
       "        text-align: right;\n",
       "    }\n",
       "</style>\n",
       "<table border=\"1\" class=\"dataframe\">\n",
       "  <thead>\n",
       "    <tr style=\"text-align: right;\">\n",
       "      <th></th>\n",
       "      <th>title</th>\n",
       "      <th>genre</th>\n",
       "      <th>budget</th>\n",
       "      <th>runtime</th>\n",
       "      <th>year</th>\n",
       "      <th>month</th>\n",
       "      <th>revenue</th>\n",
       "    </tr>\n",
       "  </thead>\n",
       "  <tbody>\n",
       "    <tr>\n",
       "      <th>1852</th>\n",
       "      <td>Chasing Liberty</td>\n",
       "      <td>Comedy</td>\n",
       "      <td>23000000</td>\n",
       "      <td>111.0</td>\n",
       "      <td>2004</td>\n",
       "      <td>1</td>\n",
       "      <td>12000000</td>\n",
       "    </tr>\n",
       "    <tr>\n",
       "      <th>661</th>\n",
       "      <td>Angela's Ashes</td>\n",
       "      <td>Drama</td>\n",
       "      <td>25</td>\n",
       "      <td>145.0</td>\n",
       "      <td>1999</td>\n",
       "      <td>12</td>\n",
       "      <td>13000000</td>\n",
       "    </tr>\n",
       "    <tr>\n",
       "      <th>643</th>\n",
       "      <td>The 51st State</td>\n",
       "      <td>Thriller</td>\n",
       "      <td>28</td>\n",
       "      <td>93.0</td>\n",
       "      <td>2001</td>\n",
       "      <td>12</td>\n",
       "      <td>14000000</td>\n",
       "    </tr>\n",
       "    <tr>\n",
       "      <th>228</th>\n",
       "      <td>Rugrats in Paris: The Movie</td>\n",
       "      <td>Adventure</td>\n",
       "      <td>30</td>\n",
       "      <td>78.0</td>\n",
       "      <td>2000</td>\n",
       "      <td>9</td>\n",
       "      <td>103000000</td>\n",
       "    </tr>\n",
       "  </tbody>\n",
       "</table>\n",
       "</div>"
      ],
      "text/plain": [
       "                            title      genre    budget  runtime  year  month  \\\n",
       "1852              Chasing Liberty     Comedy  23000000    111.0  2004      1   \n",
       "661                Angela's Ashes      Drama        25    145.0  1999     12   \n",
       "643                The 51st State   Thriller        28     93.0  2001     12   \n",
       "228   Rugrats in Paris: The Movie  Adventure        30     78.0  2000      9   \n",
       "\n",
       "        revenue  \n",
       "1852   12000000  \n",
       "661    13000000  \n",
       "643    14000000  \n",
       "228   103000000  "
      ]
     },
     "execution_count": 28,
     "metadata": {},
     "output_type": "execute_result"
    }
   ],
   "source": [
    "rev = movies_to_convert['revenue']*1_000_000\n",
    "updated_movies_rev = movies_to_convert.assign(revenue = rev)\n",
    "updated_movies_rev"
   ]
  },
  {
   "cell_type": "markdown",
   "id": "1dcf5214-3d41-4860-8d03-9fc893896c87",
   "metadata": {},
   "source": [
    "And now let's add this back to the original dataset."
   ]
  },
  {
   "cell_type": "code",
   "execution_count": 35,
   "id": "7d098668-9764-4b65-bb13-2d92f1d6caaa",
   "metadata": {},
   "outputs": [],
   "source": [
    "movies_clean_rev = movies_rev_df[movies_rev_df['revenue'] > 1000 ]\n",
    "\n",
    "cleaned_movies_df = pd.concat([updated_movies_rev, movies_clean_rev]).sort_values('revenue')"
   ]
  },
  {
   "cell_type": "markdown",
   "id": "c7d02027-de2b-40ea-9674-899d84103480",
   "metadata": {},
   "source": [
    "Let's make sure we don't have any duplicate data."
   ]
  },
  {
   "cell_type": "code",
   "execution_count": 43,
   "id": "902cf0e7-6a9b-453a-b75a-1ffd2b283372",
   "metadata": {},
   "outputs": [
    {
     "data": {
      "text/plain": [
       "Superman Returns                               2\n",
       "Quantum of Solace                              2\n",
       "Harry Potter and the Half-Blood Prince         2\n",
       "The Hobbit: The Desolation of Smaug            2\n",
       "Pirates of the Caribbean: At World's End       2\n",
       "The Chronicles of Narnia: Prince Caspian       2\n",
       "Pirates of the Caribbean: On Stranger Tides    2\n",
       "The Golden Compass                             2\n",
       "Pirates of the Caribbean: Dead Man's Chest     2\n",
       "King Kong                                      2\n",
       "Name: title, dtype: int64"
      ]
     },
     "execution_count": 43,
     "metadata": {},
     "output_type": "execute_result"
    }
   ],
   "source": [
    "val_counts = cleaned_movies_df['title'].value_counts()\n",
    "val_counts[val_counts > 1]"
   ]
  },
  {
   "cell_type": "markdown",
   "id": "058eb4d9-b099-433e-817e-7971e642d85d",
   "metadata": {},
   "source": [
    "We do."
   ]
  },
  {
   "cell_type": "code",
   "execution_count": 45,
   "id": "e84a3693-a5ed-4079-8a46-015ac1d4fe85",
   "metadata": {},
   "outputs": [],
   "source": [
    "movies_removed_dups = cleaned_movies_df.drop_duplicates(subset=['title'])"
   ]
  },
  {
   "cell_type": "markdown",
   "id": "7546ecdf-8cc9-432f-aa1d-048c96a75f5e",
   "metadata": {},
   "source": [
    "* Ok, so this is better."
   ]
  },
  {
   "cell_type": "code",
   "execution_count": 46,
   "id": "673692d2-d8c2-4f38-9cda-a08a81899787",
   "metadata": {},
   "outputs": [
    {
     "data": {
      "text/plain": [
       "Series([], Name: title, dtype: int64)"
      ]
     },
     "execution_count": 46,
     "metadata": {},
     "output_type": "execute_result"
    }
   ],
   "source": [
    "val_counts = movies_removed_dups['title'].value_counts()\n",
    "val_counts[val_counts > 1]"
   ]
  },
  {
   "cell_type": "markdown",
   "id": "f7462252-e72e-4c03-bcd7-106b6755c81b",
   "metadata": {},
   "source": [
    "### Movies by year"
   ]
  },
  {
   "cell_type": "markdown",
   "id": "5a5ae12b-b2e5-4db2-80a7-9c7e06394df8",
   "metadata": {},
   "source": [
    "So far, we coerced our target of revenue (to millions), removed rows with a missing target, and made sure we didn't have duplicate data."
   ]
  },
  {
   "cell_type": "markdown",
   "id": "fec2c4b7-7ea8-42fd-b7b2-01489df07bd0",
   "metadata": {},
   "source": [
    "Next, let's explore some other data."
   ]
  },
  {
   "cell_type": "code",
   "execution_count": 47,
   "id": "3889b721-b3a8-4a3d-be6d-e46e4f3c3c85",
   "metadata": {},
   "outputs": [
    {
     "data": {
      "text/html": [
       "<div>\n",
       "<style scoped>\n",
       "    .dataframe tbody tr th:only-of-type {\n",
       "        vertical-align: middle;\n",
       "    }\n",
       "\n",
       "    .dataframe tbody tr th {\n",
       "        vertical-align: top;\n",
       "    }\n",
       "\n",
       "    .dataframe thead th {\n",
       "        text-align: right;\n",
       "    }\n",
       "</style>\n",
       "<table border=\"1\" class=\"dataframe\">\n",
       "  <thead>\n",
       "    <tr style=\"text-align: right;\">\n",
       "      <th></th>\n",
       "      <th>title</th>\n",
       "      <th>genre</th>\n",
       "      <th>budget</th>\n",
       "      <th>runtime</th>\n",
       "      <th>year</th>\n",
       "      <th>month</th>\n",
       "      <th>revenue</th>\n",
       "    </tr>\n",
       "  </thead>\n",
       "  <tbody>\n",
       "    <tr>\n",
       "      <th>1334</th>\n",
       "      <td>The Adventurer: The Curse of the Midas Box</td>\n",
       "      <td>Fantasy</td>\n",
       "      <td>25000000</td>\n",
       "      <td>99.0</td>\n",
       "      <td>2013</td>\n",
       "      <td>12</td>\n",
       "      <td>6399</td>\n",
       "    </tr>\n",
       "    <tr>\n",
       "      <th>350</th>\n",
       "      <td>Foodfight!</td>\n",
       "      <td>Animation</td>\n",
       "      <td>65000000</td>\n",
       "      <td>87.0</td>\n",
       "      <td>2012</td>\n",
       "      <td>6</td>\n",
       "      <td>73706</td>\n",
       "    </tr>\n",
       "  </tbody>\n",
       "</table>\n",
       "</div>"
      ],
      "text/plain": [
       "                                           title      genre    budget  \\\n",
       "1334  The Adventurer: The Curse of the Midas Box    Fantasy  25000000   \n",
       "350                                   Foodfight!  Animation  65000000   \n",
       "\n",
       "      runtime  year  month  revenue  \n",
       "1334     99.0  2013     12     6399  \n",
       "350      87.0  2012      6    73706  "
      ]
     },
     "execution_count": 47,
     "metadata": {},
     "output_type": "execute_result"
    }
   ],
   "source": [
    "movies_removed_dups[:2]"
   ]
  },
  {
   "cell_type": "markdown",
   "id": "26d53bb0-e813-4b6d-9fe4-373a0d112cf5",
   "metadata": {},
   "source": [
    "Perhaps the most important item to focus on is recent data.  So let's plot a distribution of that data."
   ]
  },
  {
   "cell_type": "code",
   "execution_count": 50,
   "id": "762f2369-307b-432d-bd8a-ece8b65fcdd1",
   "metadata": {},
   "outputs": [
    {
     "data": {
      "text/plain": [
       "<AxesSubplot: ylabel='Frequency'>"
      ]
     },
     "execution_count": 50,
     "metadata": {},
     "output_type": "execute_result"
    },
    {
     "data": {
      "image/png": "[encoded data removed]",
      "text/plain": [
       "<Figure size 1000x300 with 1 Axes>"
      ]
     },
     "metadata": {},
     "output_type": "display_data"
    }
   ],
   "source": [
    "movies_removed_dups['year'].plot(kind = 'hist', figsize = (10, 3))"
   ]
  },
  {
   "cell_type": "markdown",
   "id": "518cd98b-a657-4387-922d-19822fb30c34",
   "metadata": {},
   "source": [
    "So we can see that we do have a few movies from 1940 - 1980, but most of our movies are in the 2010s.  This is probably for the best, as more recent data is more relevant to us."
   ]
  },
  {
   "cell_type": "code",
   "execution_count": 54,
   "id": "f95df3be-f0c0-4f6d-be1c-fb23e32c0685",
   "metadata": {},
   "outputs": [
    {
     "data": {
      "text/plain": [
       "2011    101\n",
       "2013     90\n",
       "2012     86\n",
       "2014     77\n",
       "2015     76\n",
       "2016     45\n",
       "Name: year, dtype: int64"
      ]
     },
     "execution_count": 54,
     "metadata": {},
     "output_type": "execute_result"
    }
   ],
   "source": [
    "movies_removed_dups[movies_removed_dups['year'] > 2010]['year'].value_counts()"
   ]
  },
  {
   "cell_type": "markdown",
   "id": "bb76dc54-c4b1-471c-8d75-4305c9057866",
   "metadata": {},
   "source": [
    "It looks like we do have similar amounts of movies from 2012 - 2015, although it's doubtful this was all of the movies made over those years.  Maybe this is representative of certain portion of our movies, however.  \n",
    "\n",
    "For example, let's select the movies made in 2015, and look at the range of data."
   ]
  },
  {
   "cell_type": "code",
   "execution_count": 55,
   "id": "acd9e428-0306-4ab0-ba0e-c062770c9cc2",
   "metadata": {},
   "outputs": [
    {
     "data": {
      "text/html": [
       "<div>\n",
       "<style scoped>\n",
       "    .dataframe tbody tr th:only-of-type {\n",
       "        vertical-align: middle;\n",
       "    }\n",
       "\n",
       "    .dataframe tbody tr th {\n",
       "        vertical-align: top;\n",
       "    }\n",
       "\n",
       "    .dataframe thead th {\n",
       "        text-align: right;\n",
       "    }\n",
       "</style>\n",
       "<table border=\"1\" class=\"dataframe\">\n",
       "  <thead>\n",
       "    <tr style=\"text-align: right;\">\n",
       "      <th></th>\n",
       "      <th>budget</th>\n",
       "      <th>runtime</th>\n",
       "      <th>year</th>\n",
       "      <th>month</th>\n",
       "      <th>revenue</th>\n",
       "    </tr>\n",
       "  </thead>\n",
       "  <tbody>\n",
       "    <tr>\n",
       "      <th>count</th>\n",
       "      <td>7.600000e+01</td>\n",
       "      <td>76.000000</td>\n",
       "      <td>76.0</td>\n",
       "      <td>76.000000</td>\n",
       "      <td>7.600000e+01</td>\n",
       "    </tr>\n",
       "    <tr>\n",
       "      <th>mean</th>\n",
       "      <td>7.798684e+07</td>\n",
       "      <td>116.986842</td>\n",
       "      <td>2015.0</td>\n",
       "      <td>7.013158</td>\n",
       "      <td>2.769949e+08</td>\n",
       "    </tr>\n",
       "    <tr>\n",
       "      <th>std</th>\n",
       "      <td>5.738911e+07</td>\n",
       "      <td>17.905302</td>\n",
       "      <td>0.0</td>\n",
       "      <td>3.324629</td>\n",
       "      <td>3.332859e+08</td>\n",
       "    </tr>\n",
       "    <tr>\n",
       "      <th>min</th>\n",
       "      <td>0.000000e+00</td>\n",
       "      <td>87.000000</td>\n",
       "      <td>2015.0</td>\n",
       "      <td>1.000000</td>\n",
       "      <td>3.324330e+06</td>\n",
       "    </tr>\n",
       "    <tr>\n",
       "      <th>25%</th>\n",
       "      <td>3.500000e+07</td>\n",
       "      <td>105.000000</td>\n",
       "      <td>2015.0</td>\n",
       "      <td>4.000000</td>\n",
       "      <td>8.978882e+07</td>\n",
       "    </tr>\n",
       "    <tr>\n",
       "      <th>50%</th>\n",
       "      <td>5.650000e+07</td>\n",
       "      <td>118.000000</td>\n",
       "      <td>2015.0</td>\n",
       "      <td>7.000000</td>\n",
       "      <td>1.563024e+08</td>\n",
       "    </tr>\n",
       "    <tr>\n",
       "      <th>75%</th>\n",
       "      <td>1.085000e+08</td>\n",
       "      <td>127.250000</td>\n",
       "      <td>2015.0</td>\n",
       "      <td>9.250000</td>\n",
       "      <td>3.166771e+08</td>\n",
       "    </tr>\n",
       "    <tr>\n",
       "      <th>max</th>\n",
       "      <td>2.800000e+08</td>\n",
       "      <td>167.000000</td>\n",
       "      <td>2015.0</td>\n",
       "      <td>12.000000</td>\n",
       "      <td>1.513529e+09</td>\n",
       "    </tr>\n",
       "  </tbody>\n",
       "</table>\n",
       "</div>"
      ],
      "text/plain": [
       "             budget     runtime    year      month       revenue\n",
       "count  7.600000e+01   76.000000    76.0  76.000000  7.600000e+01\n",
       "mean   7.798684e+07  116.986842  2015.0   7.013158  2.769949e+08\n",
       "std    5.738911e+07   17.905302     0.0   3.324629  3.332859e+08\n",
       "min    0.000000e+00   87.000000  2015.0   1.000000  3.324330e+06\n",
       "25%    3.500000e+07  105.000000  2015.0   4.000000  8.978882e+07\n",
       "50%    5.650000e+07  118.000000  2015.0   7.000000  1.563024e+08\n",
       "75%    1.085000e+08  127.250000  2015.0   9.250000  3.166771e+08\n",
       "max    2.800000e+08  167.000000  2015.0  12.000000  1.513529e+09"
      ]
     },
     "execution_count": 55,
     "metadata": {},
     "output_type": "execute_result"
    }
   ],
   "source": [
    "movies_removed_dups[movies_removed_dups['year'] == 2015].describe()"
   ]
  },
  {
   "cell_type": "markdown",
   "id": "3dec956f-ada0-49ab-9256-fd5e0092784e",
   "metadata": {},
   "source": [
    "So we had 75 movies between 3 million and 1.5 billion, looking at the months, it does look like we are including all months (min is 1 and max is 12). \n",
    "\n",
    "Let's see if Wikipedia has a list of the top 75 movies from that year by income."
   ]
  },
  {
   "cell_type": "markdown",
   "id": "bf20f5e9-4a4b-487e-834c-93adfeef433c",
   "metadata": {},
   "source": [
    "Tough to find a complete list, but we can find [some information here](https://en.wikipedia.org/wiki/List_of_American_films_of_2015)."
   ]
  },
  {
   "cell_type": "code",
   "execution_count": 58,
   "id": "dfd7f33e-e11c-4b24-906c-e71e16a696d7",
   "metadata": {},
   "outputs": [
    {
     "data": {
      "text/plain": [
       "413                            Jurassic World\n",
       "1589                                Furious 7\n",
       "1221                  Avengers: Age of Ultron\n",
       "1310                                  Minions\n",
       "798                                   Spectre\n",
       "520                                Inside Out\n",
       "1152       Mission: Impossible - Rogue Nation\n",
       "608     The Hunger Games: Mockingjay - Part 2\n",
       "1781                              The Martian\n",
       "1492                     Fifty Shades of Grey\n",
       "Name: title, dtype: object"
      ]
     },
     "execution_count": 58,
     "metadata": {},
     "output_type": "execute_result"
    }
   ],
   "source": [
    "movies_removed_dups[movies_removed_dups['year'] == 2015].sort_values('revenue', ascending = False)[:10].title"
   ]
  },
  {
   "cell_type": "markdown",
   "id": "5d4b3fb0-6955-4b8d-a7b8-f53295491e85",
   "metadata": {},
   "source": [
    "Overall, it does look close, at least for our top movies."
   ]
  },
  {
   "cell_type": "markdown",
   "id": "e57c8dc7-f3c9-4c93-9f15-d4d6a4076b21",
   "metadata": {},
   "source": [
    "We can also look at 2014 movies."
   ]
  },
  {
   "cell_type": "code",
   "execution_count": 62,
   "id": "66c35b1f-ad9d-44ce-8549-832bb15e187a",
   "metadata": {},
   "outputs": [
    {
     "data": {
      "text/html": [
       "<div>\n",
       "<style scoped>\n",
       "    .dataframe tbody tr th:only-of-type {\n",
       "        vertical-align: middle;\n",
       "    }\n",
       "\n",
       "    .dataframe tbody tr th {\n",
       "        vertical-align: top;\n",
       "    }\n",
       "\n",
       "    .dataframe thead th {\n",
       "        text-align: right;\n",
       "    }\n",
       "</style>\n",
       "<table border=\"1\" class=\"dataframe\">\n",
       "  <thead>\n",
       "    <tr style=\"text-align: right;\">\n",
       "      <th></th>\n",
       "      <th>budget</th>\n",
       "      <th>runtime</th>\n",
       "      <th>year</th>\n",
       "      <th>month</th>\n",
       "      <th>revenue</th>\n",
       "    </tr>\n",
       "  </thead>\n",
       "  <tbody>\n",
       "    <tr>\n",
       "      <th>count</th>\n",
       "      <td>7.700000e+01</td>\n",
       "      <td>77.000000</td>\n",
       "      <td>77.0</td>\n",
       "      <td>77.000000</td>\n",
       "      <td>7.700000e+01</td>\n",
       "    </tr>\n",
       "    <tr>\n",
       "      <th>mean</th>\n",
       "      <td>8.214026e+07</td>\n",
       "      <td>114.038961</td>\n",
       "      <td>2014.0</td>\n",
       "      <td>6.792208</td>\n",
       "      <td>2.686645e+08</td>\n",
       "    </tr>\n",
       "    <tr>\n",
       "      <th>std</th>\n",
       "      <td>5.719918e+07</td>\n",
       "      <td>18.516310</td>\n",
       "      <td>0.0</td>\n",
       "      <td>3.746358</td>\n",
       "      <td>2.506429e+08</td>\n",
       "    </tr>\n",
       "    <tr>\n",
       "      <th>min</th>\n",
       "      <td>0.000000e+00</td>\n",
       "      <td>81.000000</td>\n",
       "      <td>2014.0</td>\n",
       "      <td>1.000000</td>\n",
       "      <td>1.234263e+07</td>\n",
       "    </tr>\n",
       "    <tr>\n",
       "      <th>25%</th>\n",
       "      <td>4.000000e+07</td>\n",
       "      <td>100.000000</td>\n",
       "      <td>2014.0</td>\n",
       "      <td>3.000000</td>\n",
       "      <td>8.038329e+07</td>\n",
       "    </tr>\n",
       "    <tr>\n",
       "      <th>50%</th>\n",
       "      <td>6.000000e+07</td>\n",
       "      <td>110.000000</td>\n",
       "      <td>2014.0</td>\n",
       "      <td>7.000000</td>\n",
       "      <td>1.884416e+08</td>\n",
       "    </tr>\n",
       "    <tr>\n",
       "      <th>75%</th>\n",
       "      <td>1.250000e+08</td>\n",
       "      <td>127.000000</td>\n",
       "      <td>2014.0</td>\n",
       "      <td>10.000000</td>\n",
       "      <td>3.626375e+08</td>\n",
       "    </tr>\n",
       "    <tr>\n",
       "      <th>max</th>\n",
       "      <td>2.500000e+08</td>\n",
       "      <td>169.000000</td>\n",
       "      <td>2014.0</td>\n",
       "      <td>12.000000</td>\n",
       "      <td>1.091405e+09</td>\n",
       "    </tr>\n",
       "  </tbody>\n",
       "</table>\n",
       "</div>"
      ],
      "text/plain": [
       "             budget     runtime    year      month       revenue\n",
       "count  7.700000e+01   77.000000    77.0  77.000000  7.700000e+01\n",
       "mean   8.214026e+07  114.038961  2014.0   6.792208  2.686645e+08\n",
       "std    5.719918e+07   18.516310     0.0   3.746358  2.506429e+08\n",
       "min    0.000000e+00   81.000000  2014.0   1.000000  1.234263e+07\n",
       "25%    4.000000e+07  100.000000  2014.0   3.000000  8.038329e+07\n",
       "50%    6.000000e+07  110.000000  2014.0   7.000000  1.884416e+08\n",
       "75%    1.250000e+08  127.000000  2014.0  10.000000  3.626375e+08\n",
       "max    2.500000e+08  169.000000  2014.0  12.000000  1.091405e+09"
      ]
     },
     "execution_count": 62,
     "metadata": {},
     "output_type": "execute_result"
    }
   ],
   "source": [
    "movies_2014 = movies_removed_dups[movies_removed_dups['year'] == 2014]\n",
    "movies_2014.describe()"
   ]
  },
  {
   "cell_type": "markdown",
   "id": "0b9f42e5-ea43-4c6d-a40c-a2a487666cde",
   "metadata": {},
   "source": [
    "And again, let's look at the top movies and see if they align."
   ]
  },
  {
   "cell_type": "code",
   "execution_count": 63,
   "id": "8f360167-e89f-4983-8bb2-2a2fdf637eec",
   "metadata": {},
   "outputs": [
    {
     "data": {
      "text/plain": [
       "309               Transformers: Age of Extinction\n",
       "1362    The Hobbit: The Battle of the Five Armies\n",
       "1162                      Guardians of the Galaxy\n",
       "334                                    Maleficent\n",
       "1281        The Hunger Games: Mockingjay - Part 1\n",
       "739                    X-Men: Days of Future Past\n",
       "559           Captain America: The Winter Soldier\n",
       "1889               Dawn of the Planet of the Apes\n",
       "1650                     The Amazing Spider-Man 2\n",
       "1670                                 Interstellar\n",
       "Name: title, dtype: object"
      ]
     },
     "execution_count": 63,
     "metadata": {},
     "output_type": "execute_result"
    }
   ],
   "source": [
    "movies_2014.sort_values('revenue', ascending = False)[:10]['title']"
   ]
  },
  {
   "cell_type": "markdown",
   "id": "993f0ef1-5417-446a-9320-972d46cca09b",
   "metadata": {},
   "source": [
    "And then we can [compare to wikipedia](https://en.wikipedia.org/wiki/2014_in_film), and see that we have a very close match."
   ]
  },
  {
   "cell_type": "markdown",
   "id": "7b7b30e3-5eb1-47a6-93e0-2756962692eb",
   "metadata": {},
   "source": [
    "Ok, so we looked at the top grossing movies, perhaps we can look at some of the lower ranked movies and see if the ranking in our list compares to what we see online. "
   ]
  },
  {
   "cell_type": "code",
   "execution_count": 66,
   "id": "7bf5a29a-9668-4756-9445-710d250afa70",
   "metadata": {},
   "outputs": [
    {
     "data": {
      "text/html": [
       "<div>\n",
       "<style scoped>\n",
       "    .dataframe tbody tr th:only-of-type {\n",
       "        vertical-align: middle;\n",
       "    }\n",
       "\n",
       "    .dataframe tbody tr th {\n",
       "        vertical-align: top;\n",
       "    }\n",
       "\n",
       "    .dataframe thead th {\n",
       "        text-align: right;\n",
       "    }\n",
       "</style>\n",
       "<table border=\"1\" class=\"dataframe\">\n",
       "  <thead>\n",
       "    <tr style=\"text-align: right;\">\n",
       "      <th></th>\n",
       "      <th>title</th>\n",
       "      <th>genre</th>\n",
       "      <th>budget</th>\n",
       "      <th>runtime</th>\n",
       "      <th>year</th>\n",
       "      <th>month</th>\n",
       "      <th>revenue</th>\n",
       "    </tr>\n",
       "  </thead>\n",
       "  <tbody>\n",
       "    <tr>\n",
       "      <th>1519</th>\n",
       "      <td>The Interview</td>\n",
       "      <td>Action</td>\n",
       "      <td>44000000</td>\n",
       "      <td>112.0</td>\n",
       "      <td>2014</td>\n",
       "      <td>12</td>\n",
       "      <td>12342632</td>\n",
       "    </tr>\n",
       "    <tr>\n",
       "      <th>1688</th>\n",
       "      <td>Sabotage</td>\n",
       "      <td>Action</td>\n",
       "      <td>35000000</td>\n",
       "      <td>110.0</td>\n",
       "      <td>2014</td>\n",
       "      <td>3</td>\n",
       "      <td>17508518</td>\n",
       "    </tr>\n",
       "  </tbody>\n",
       "</table>\n",
       "</div>"
      ],
      "text/plain": [
       "              title   genre    budget  runtime  year  month   revenue\n",
       "1519  The Interview  Action  44000000    112.0  2014     12  12342632\n",
       "1688       Sabotage  Action  35000000    110.0  2014      3  17508518"
      ]
     },
     "execution_count": 66,
     "metadata": {},
     "output_type": "execute_result"
    }
   ],
   "source": [
    "movies_2014.sort_values('revenue', ascending = True)[:2]"
   ]
  },
  {
   "cell_type": "markdown",
   "id": "07fd12f2-df21-4418-ba89-8ed95af7b1bf",
   "metadata": {},
   "source": [
    "Looking at this [page](https://www.boxofficemojo.com/year/2015/?sort=gross&ref_=bo_yld__resort#table), we should be less hopeful.  It looks like the interview is one of our top 77 movies in this dataset, but on box office mojo, it is ranked 195."
   ]
  },
  {
   "cell_type": "markdown",
   "id": "8598f1cb-d971-4f80-a212-03ce1b8c26a1",
   "metadata": {},
   "source": [
    "So at this point we should be clear about the limitations of this dataset (perhaps it's only good for the top movies), or maybe we should find another one."
   ]
  }
 ],
 "metadata": {
  "kernelspec": {
   "display_name": "Python 3 (ipykernel)",
   "language": "python",
   "name": "python3"
  },
  "language_info": {
   "codemirror_mode": {
    "name": "ipython",
    "version": 3
   },
   "file_extension": ".py",
   "mimetype": "text/x-python",
   "name": "python",
   "nbconvert_exporter": "python",
   "pygments_lexer": "ipython3",
   "version": "3.9.12"
  }
 },
 "nbformat": 4,
 "nbformat_minor": 5
}
