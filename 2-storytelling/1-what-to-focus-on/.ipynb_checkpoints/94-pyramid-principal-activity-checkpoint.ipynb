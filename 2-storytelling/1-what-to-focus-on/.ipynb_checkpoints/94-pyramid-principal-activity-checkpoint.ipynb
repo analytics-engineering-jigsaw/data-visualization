{
 "cells": [
  {
   "cell_type": "markdown",
   "id": "7431adff-d5f0-4e88-92dc-c56fc2226fb5",
   "metadata": {},
   "source": [
    "# Horizontal Activities Lab"
   ]
  },
  {
   "cell_type": "markdown",
   "id": "437eb654-4ab7-492c-afd1-7fbfa2619f7b",
   "metadata": {},
   "source": [
    "### Overall Profitability\n",
    "\n",
    "Organize the above into two sections, and provide a title for each section.\n",
    "\n",
    "* Hourly wages are increasing faster than average\n",
    "* The biggest customer has decreased its orders by 40%\n",
    "* The number of customers has decreased by 20%\n",
    "* Increased attrition is driving up administrative costs\n",
    "* Managerial salaries are increasing faster than average\n",
    "* The second biggest customer decreased its orders by 30%"
   ]
  },
  {
   "cell_type": "markdown",
   "id": "01d34f88-70cc-437a-b743-225ac16257ea",
   "metadata": {},
   "source": [
    "### DBT \n",
    "\n",
    "The pyramid principle is also a good way to answer questions about different technologies.  For example, let's imagine that someone asked us to explain DBT.  The following would be a good answer. \n",
    "\n",
    "* Prior to DBT, data engineers tended to write more ad hoc and disorganized SQL queries.  DBT encourages data engineers apply best practices in software engineering to writing these queries.  This means a comprehensive git repository, a codebase structured with design patterns, and ensures data quality with testing and scheduling."
   ]
  },
  {
   "cell_type": "markdown",
   "id": "ea3ba15b-40b8-4529-893c-21e62ee5b8f4",
   "metadata": {},
   "source": [
    "Notice that with the above, we again start with the problem, and then an encapsulating solution -- it brings software engineering best practices.  From there, we provide more details as to how it brings it about.\n",
    "\n",
    "Starting with the problem -- what was the world like without this technology -- is a very good place to start.  It's a natural setup to then think about the solution that the technology provides."
   ]
  },
  {
   "cell_type": "markdown",
   "id": "1283f3a3-ea15-4d66-969d-51008f62238d",
   "metadata": {},
   "source": [
    "### Airflow"
   ]
  },
  {
   "cell_type": "markdown",
   "id": "9075aabf-24e5-4d54-ac4b-3fedfa736d6e",
   "metadata": {},
   "source": [
    "Now it's your turn.  Write a few words about what airflow is, and what it does."
   ]
  },
  {
   "cell_type": "markdown",
   "id": "9acecfbc-400f-4530-bcb4-57426f1a93e9",
   "metadata": {},
   "source": [
    "### Answers"
   ]
  },
  {
   "cell_type": "markdown",
   "id": "3de6d6ee-fb60-46a2-8e36-f4e6902d3eea",
   "metadata": {},
   "source": [
    "#### Overall Profitability\n",
    "\n",
    "#1 Labor Challenges: The company is facing increasing wages and attrition\n",
    "\n",
    "Hourly wages are increasing faster than average\n",
    "Managerial salaries are increasing faster than average\n",
    "Increased attrition is driving up administrative costs\n",
    "#2 Sales Challenges: The company is facing decreasing sales across the company\n",
    "\n",
    "The biggest customer has decreased its orders by 40%\n",
    "The second biggest customer decreased its orders by 30%\n",
    "The number of customers has decreased by 20%\n"
   ]
  },
  {
   "cell_type": "markdown",
   "id": "11b90441-83fc-4ab2-9497-5f44b4b20257",
   "metadata": {},
   "source": [
    "### Airflow"
   ]
  },
  {
   "cell_type": "markdown",
   "id": "e190fb2b-2f7f-4953-ba43-164d8f4755f1",
   "metadata": {},
   "source": [
    "Airflow is an orchestrator -- coordinates tasks between different services, schedules tasks,  and provides features to better ensure reliability and monitoring to confirm these tasks occur.  These features make it a popular service for organizing and executing data pipelines.\n",
    "\n",
    "* Coordination - Airflow organizes workflows in terms of DAGs, where by each DAG consists of multiple tasks.  These Dags impose a *sequence*, whereby one task may not start before another completes.  Moreover, Airflow can connect to multiple services -- like Python, or Database like snowflake, or DBT.\n",
    "* Scheduling - Airflow allows for scheduling these tasks on various intervals\n",
    "* Reliability and Monitoring - Because these tasks are designed to occur on a schedule, it provides features that allow for monitoring the success or failure of these tasks, and making them more reliable by providing for retries if a task does not execute, and retrying after a given time.  "
   ]
  },
  {
   "cell_type": "markdown",
   "id": "41178604-b87c-4acb-bfb0-24adbc12eb5d",
   "metadata": {},
   "source": [
    "### Resources\n",
    "\n",
    "[Pyramid Priciple Examples](https://strategyu.co/structure-your-ideas-pyramid-principle-part-1/)"
   ]
  }
 ],
 "metadata": {
  "kernelspec": {
   "display_name": "Python 3 (ipykernel)",
   "language": "python",
   "name": "python3"
  },
  "language_info": {
   "codemirror_mode": {
    "name": "ipython",
    "version": 3
   },
   "file_extension": ".py",
   "mimetype": "text/x-python",
   "name": "python",
   "nbconvert_exporter": "python",
   "pygments_lexer": "ipython3",
   "version": "3.9.12"
  }
 },
 "nbformat": 4,
 "nbformat_minor": 5
}
