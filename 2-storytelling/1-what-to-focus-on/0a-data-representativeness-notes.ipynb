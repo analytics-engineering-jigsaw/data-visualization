{
 "cells": [
  {
   "cell_type": "markdown",
   "id": "38213dfd-0e3c-494a-894e-e7b8f90a88d3",
   "metadata": {},
   "source": [
    "# Data Representativeness Walkthrough"
   ]
  },
  {
   "cell_type": "markdown",
   "id": "966f14bf-613e-47f7-aa03-b9701030e401",
   "metadata": {},
   "source": [
    "### Introduction"
   ]
  },
  {
   "cell_type": "markdown",
   "id": "b686dccf-8b72-41d4-a5ac-cfb48de63e3c",
   "metadata": {},
   "source": [
    "### Loading our data"
   ]
  },
  {
   "cell_type": "markdown",
   "id": "bf1baf4b-a007-4a83-abee-087b694fddb2",
   "metadata": {},
   "source": [
    "Remember that our data involves SAT scores from NYC schools."
   ]
  },
  {
   "cell_type": "code",
   "execution_count": 9,
   "id": "27096c15-2b2b-4905-80d6-ee4908932bbf",
   "metadata": {},
   "outputs": [],
   "source": [
    "import pandas as pd\n",
    "url = 'https://raw.githubusercontent.com/analytics-engineering-jigsaw/data-visualization/main/2-storytelling/1-what-to-focus-on/sat_scores.csv'\n",
    "df = pd.read_csv(url, index_col = 0)"
   ]
  },
  {
   "cell_type": "code",
   "execution_count": 10,
   "id": "971f2609-bef0-4c37-bcb4-5e45baaf9241",
   "metadata": {},
   "outputs": [
    {
     "data": {
      "text/html": [
       "<div>\n",
       "<style scoped>\n",
       "    .dataframe tbody tr th:only-of-type {\n",
       "        vertical-align: middle;\n",
       "    }\n",
       "\n",
       "    .dataframe tbody tr th {\n",
       "        vertical-align: top;\n",
       "    }\n",
       "\n",
       "    .dataframe thead th {\n",
       "        text-align: right;\n",
       "    }\n",
       "</style>\n",
       "<table border=\"1\" class=\"dataframe\">\n",
       "  <thead>\n",
       "    <tr style=\"text-align: right;\">\n",
       "      <th></th>\n",
       "      <th>dbn</th>\n",
       "      <th>name</th>\n",
       "      <th>num_test_takers</th>\n",
       "      <th>reading_avg</th>\n",
       "      <th>math_avg</th>\n",
       "      <th>writing_score</th>\n",
       "      <th>boro</th>\n",
       "      <th>total_students</th>\n",
       "      <th>graduation_rate</th>\n",
       "      <th>attendance_rate</th>\n",
       "      <th>college_career_rate</th>\n",
       "    </tr>\n",
       "  </thead>\n",
       "  <tbody>\n",
       "    <tr>\n",
       "      <th>0</th>\n",
       "      <td>01M292</td>\n",
       "      <td>HENRY STREET SCHOOL FOR INTERNATIONAL STUDIES</td>\n",
       "      <td>29.0</td>\n",
       "      <td>355.0</td>\n",
       "      <td>404.0</td>\n",
       "      <td>363.0</td>\n",
       "      <td>M</td>\n",
       "      <td>171</td>\n",
       "      <td>0.66</td>\n",
       "      <td>0.87</td>\n",
       "      <td>0.36</td>\n",
       "    </tr>\n",
       "    <tr>\n",
       "      <th>1</th>\n",
       "      <td>01M448</td>\n",
       "      <td>UNIVERSITY NEIGHBORHOOD HIGH SCHOOL</td>\n",
       "      <td>91.0</td>\n",
       "      <td>383.0</td>\n",
       "      <td>423.0</td>\n",
       "      <td>366.0</td>\n",
       "      <td>M</td>\n",
       "      <td>465</td>\n",
       "      <td>0.90</td>\n",
       "      <td>0.93</td>\n",
       "      <td>0.70</td>\n",
       "    </tr>\n",
       "  </tbody>\n",
       "</table>\n",
       "</div>"
      ],
      "text/plain": [
       "      dbn                                           name  num_test_takers  \\\n",
       "0  01M292  HENRY STREET SCHOOL FOR INTERNATIONAL STUDIES             29.0   \n",
       "1  01M448            UNIVERSITY NEIGHBORHOOD HIGH SCHOOL             91.0   \n",
       "\n",
       "   reading_avg  math_avg  writing_score boro  total_students  graduation_rate  \\\n",
       "0        355.0     404.0          363.0    M             171             0.66   \n",
       "1        383.0     423.0          366.0    M             465             0.90   \n",
       "\n",
       "   attendance_rate  college_career_rate  \n",
       "0             0.87                 0.36  \n",
       "1             0.93                 0.70  "
      ]
     },
     "execution_count": 10,
     "metadata": {},
     "output_type": "execute_result"
    }
   ],
   "source": [
    "df[:2]"
   ]
  },
  {
   "cell_type": "markdown",
   "id": "216e1ceb-c988-467b-aa2c-d76afd890e0d",
   "metadata": {},
   "source": [
    "And we can clean up our data, and then group it by borough."
   ]
  },
  {
   "cell_type": "code",
   "execution_count": 11,
   "id": "72cd8646-7af0-4db9-988f-758e8485d080",
   "metadata": {},
   "outputs": [
    {
     "data": {
      "text/plain": [
       "array(['M', 'X', 'K', 'Q', 'R'], dtype=object)"
      ]
     },
     "execution_count": 11,
     "metadata": {},
     "output_type": "execute_result"
    }
   ],
   "source": [
    "df['boro'].unique()"
   ]
  },
  {
   "cell_type": "markdown",
   "id": "67ed2f52-eead-42c0-a93d-ca597bf5bd31",
   "metadata": {},
   "source": [
    "> We replace the borough information with the [original names](https://en.wikipedia.org/wiki/Boroughs_of_New_York_City)."
   ]
  },
  {
   "cell_type": "code",
   "execution_count": 13,
   "id": "0e0fcf7b-92da-4cd1-9aaa-40170e2d2e33",
   "metadata": {},
   "outputs": [],
   "source": [
    "keys = ['M', 'X', 'K', 'Q', 'R']\n",
    "values = ['Manhattan', 'Bronx', 'Brooklyn', 'Queens', 'Staten Island']\n",
    "dictionary = dict(zip(keys, values))"
   ]
  },
  {
   "cell_type": "code",
   "execution_count": 14,
   "id": "f7c1bcca-649e-4b7d-b456-6c4648014db1",
   "metadata": {},
   "outputs": [
    {
     "data": {
      "text/plain": [
       "{'M': 'Manhattan',\n",
       " 'X': 'Bronx',\n",
       " 'K': 'Brooklyn',\n",
       " 'Q': 'Queens',\n",
       " 'R': 'Staten Island'}"
      ]
     },
     "execution_count": 14,
     "metadata": {},
     "output_type": "execute_result"
    }
   ],
   "source": [
    "dictionary"
   ]
  },
  {
   "cell_type": "code",
   "execution_count": 16,
   "id": "b88c91f0-dde5-40d9-9a1f-d5dd6bdb33c5",
   "metadata": {},
   "outputs": [
    {
     "data": {
      "text/plain": [
       "0    Manhattan\n",
       "1    Manhattan\n",
       "Name: boro, dtype: object"
      ]
     },
     "execution_count": 16,
     "metadata": {},
     "output_type": "execute_result"
    }
   ],
   "source": [
    "boro_updated = df['boro'].replace(dictionary)\n",
    "boro_updated[:2]"
   ]
  },
  {
   "cell_type": "code",
   "execution_count": null,
   "id": "37f5427a-5e7c-4e33-bc33-5e04304a47e6",
   "metadata": {},
   "outputs": [],
   "source": [
    "boro_updated = df['boro'].replace(dictionary)\n",
    "df_updated = df.assign(boro = boro_updated)"
   ]
  },
  {
   "cell_type": "code",
   "execution_count": 20,
   "id": "5c1cee69-218e-4ab9-9c72-ccdc77e630e5",
   "metadata": {},
   "outputs": [
    {
     "data": {
      "text/html": [
       "<div>\n",
       "<style scoped>\n",
       "    .dataframe tbody tr th:only-of-type {\n",
       "        vertical-align: middle;\n",
       "    }\n",
       "\n",
       "    .dataframe tbody tr th {\n",
       "        vertical-align: top;\n",
       "    }\n",
       "\n",
       "    .dataframe thead th {\n",
       "        text-align: right;\n",
       "    }\n",
       "</style>\n",
       "<table border=\"1\" class=\"dataframe\">\n",
       "  <thead>\n",
       "    <tr style=\"text-align: right;\">\n",
       "      <th></th>\n",
       "      <th>dbn</th>\n",
       "      <th>name</th>\n",
       "      <th>num_test_takers</th>\n",
       "      <th>reading_avg</th>\n",
       "      <th>math_avg</th>\n",
       "      <th>writing_score</th>\n",
       "      <th>boro</th>\n",
       "      <th>total_students</th>\n",
       "      <th>graduation_rate</th>\n",
       "      <th>attendance_rate</th>\n",
       "      <th>college_career_rate</th>\n",
       "    </tr>\n",
       "  </thead>\n",
       "  <tbody>\n",
       "    <tr>\n",
       "      <th>0</th>\n",
       "      <td>01M292</td>\n",
       "      <td>HENRY STREET SCHOOL FOR INTERNATIONAL STUDIES</td>\n",
       "      <td>29.0</td>\n",
       "      <td>355.0</td>\n",
       "      <td>404.0</td>\n",
       "      <td>363.0</td>\n",
       "      <td>Manhattan</td>\n",
       "      <td>171</td>\n",
       "      <td>0.66</td>\n",
       "      <td>0.87</td>\n",
       "      <td>0.36</td>\n",
       "    </tr>\n",
       "    <tr>\n",
       "      <th>1</th>\n",
       "      <td>01M448</td>\n",
       "      <td>UNIVERSITY NEIGHBORHOOD HIGH SCHOOL</td>\n",
       "      <td>91.0</td>\n",
       "      <td>383.0</td>\n",
       "      <td>423.0</td>\n",
       "      <td>366.0</td>\n",
       "      <td>Manhattan</td>\n",
       "      <td>465</td>\n",
       "      <td>0.90</td>\n",
       "      <td>0.93</td>\n",
       "      <td>0.70</td>\n",
       "    </tr>\n",
       "  </tbody>\n",
       "</table>\n",
       "</div>"
      ],
      "text/plain": [
       "      dbn                                           name  num_test_takers  \\\n",
       "0  01M292  HENRY STREET SCHOOL FOR INTERNATIONAL STUDIES             29.0   \n",
       "1  01M448            UNIVERSITY NEIGHBORHOOD HIGH SCHOOL             91.0   \n",
       "\n",
       "   reading_avg  math_avg  writing_score       boro  total_students  \\\n",
       "0        355.0     404.0          363.0  Manhattan             171   \n",
       "1        383.0     423.0          366.0  Manhattan             465   \n",
       "\n",
       "   graduation_rate  attendance_rate  college_career_rate  \n",
       "0             0.66             0.87                 0.36  \n",
       "1             0.90             0.93                 0.70  "
      ]
     },
     "execution_count": 20,
     "metadata": {},
     "output_type": "execute_result"
    }
   ],
   "source": [
    "df_updated = df.assign(boro = boro_updated)\n",
    "df_updated[:2]"
   ]
  },
  {
   "cell_type": "markdown",
   "id": "f1c3dc4e-1620-49f4-b98b-970a3d6627c2",
   "metadata": {},
   "source": [
    "> And then group by the borough."
   ]
  },
  {
   "cell_type": "code",
   "execution_count": 5,
   "id": "7b25399f-0135-4104-92ea-98c7bf6bc913",
   "metadata": {},
   "outputs": [
    {
     "data": {
      "text/html": [
       "<div>\n",
       "<style scoped>\n",
       "    .dataframe tbody tr th:only-of-type {\n",
       "        vertical-align: middle;\n",
       "    }\n",
       "\n",
       "    .dataframe tbody tr th {\n",
       "        vertical-align: top;\n",
       "    }\n",
       "\n",
       "    .dataframe thead th {\n",
       "        text-align: right;\n",
       "    }\n",
       "</style>\n",
       "<table border=\"1\" class=\"dataframe\">\n",
       "  <thead>\n",
       "    <tr style=\"text-align: right;\">\n",
       "      <th></th>\n",
       "      <th>math_avg</th>\n",
       "      <th>reading_avg</th>\n",
       "    </tr>\n",
       "    <tr>\n",
       "      <th>boro</th>\n",
       "      <th></th>\n",
       "      <th></th>\n",
       "    </tr>\n",
       "  </thead>\n",
       "  <tbody>\n",
       "    <tr>\n",
       "      <th>Staten Island</th>\n",
       "      <td>472.500000</td>\n",
       "      <td>457.500000</td>\n",
       "    </tr>\n",
       "    <tr>\n",
       "      <th>Queens</th>\n",
       "      <td>450.650000</td>\n",
       "      <td>423.916667</td>\n",
       "    </tr>\n",
       "    <tr>\n",
       "      <th>Manhattan</th>\n",
       "      <td>442.886076</td>\n",
       "      <td>426.696203</td>\n",
       "    </tr>\n",
       "    <tr>\n",
       "      <th>Brooklyn</th>\n",
       "      <td>404.030612</td>\n",
       "      <td>391.255102</td>\n",
       "    </tr>\n",
       "    <tr>\n",
       "      <th>Bronx</th>\n",
       "      <td>394.000000</td>\n",
       "      <td>384.237500</td>\n",
       "    </tr>\n",
       "  </tbody>\n",
       "</table>\n",
       "</div>"
      ],
      "text/plain": [
       "                 math_avg  reading_avg\n",
       "boro                                  \n",
       "Staten Island  472.500000   457.500000\n",
       "Queens         450.650000   423.916667\n",
       "Manhattan      442.886076   426.696203\n",
       "Brooklyn       404.030612   391.255102\n",
       "Bronx          394.000000   384.237500"
      ]
     },
     "execution_count": 5,
     "metadata": {},
     "output_type": "execute_result"
    }
   ],
   "source": [
    "avg_by_boro = df_updated.groupby('boro').mean(numeric_only = True)\n",
    "avg_by_boro[['math_avg', 'reading_avg']].sort_values('math_avg', ascending = False)\n",
    "# avg_by_boro"
   ]
  },
  {
   "cell_type": "markdown",
   "id": "007e62b6-131b-4e08-8ebe-db7c3d2a2c90",
   "metadata": {},
   "source": [
    "### Data quality"
   ]
  },
  {
   "cell_type": "code",
   "execution_count": 23,
   "id": "99463b89-8fb0-4b94-a693-9688068bf45d",
   "metadata": {},
   "outputs": [
    {
     "data": {
      "text/plain": [
       "dbn                     0\n",
       "name                    0\n",
       "num_test_takers        29\n",
       "reading_avg            29\n",
       "math_avg               29\n",
       "writing_score          29\n",
       "boro                    0\n",
       "total_students          0\n",
       "graduation_rate         5\n",
       "attendance_rate         0\n",
       "college_career_rate     5\n",
       "dtype: int64"
      ]
     },
     "execution_count": 23,
     "metadata": {},
     "output_type": "execute_result"
    }
   ],
   "source": [
    "df_updated.isna().sum()"
   ]
  },
  {
   "cell_type": "code",
   "execution_count": 25,
   "id": "f85fa69a-0d97-43f6-b02a-1f19b898bb00",
   "metadata": {},
   "outputs": [],
   "source": [
    "# df_updated"
   ]
  },
  {
   "cell_type": "markdown",
   "id": "775bcb0b-bbcf-4ea0-9f3a-a036fa4f2c4f",
   "metadata": {},
   "source": [
    "### Exploring Missing Data"
   ]
  },
  {
   "cell_type": "markdown",
   "id": "9f26bbb7-464c-414f-a17c-ea83ca41df01",
   "metadata": {},
   "source": [
    "1. Missing Observations (Rows) of Data"
   ]
  },
  {
   "cell_type": "markdown",
   "id": "2333909f-3be8-4014-9df5-95d379d4ff76",
   "metadata": {},
   "source": [
    "Now one question, we may have is simply, do we have all of the data from each county.  Let's use value_counts to find out."
   ]
  },
  {
   "cell_type": "code",
   "execution_count": 26,
   "id": "ee94f622-156c-4d95-91c2-98a77562ccce",
   "metadata": {},
   "outputs": [
    {
     "data": {
      "text/plain": [
       "Brooklyn         104\n",
       "Manhattan         90\n",
       "Bronx             87\n",
       "Queens            65\n",
       "Staten Island     10\n",
       "Name: boro, dtype: int64"
      ]
     },
     "execution_count": 26,
     "metadata": {},
     "output_type": "execute_result"
    }
   ],
   "source": [
    "df_updated['boro'].value_counts()"
   ]
  },
  {
   "cell_type": "code",
   "execution_count": 27,
   "id": "650bbd3d-0bfb-4eae-b11e-cfa18e5d8cf6",
   "metadata": {},
   "outputs": [
    {
     "data": {
      "text/plain": [
       "<AxesSubplot: >"
      ]
     },
     "execution_count": 27,
     "metadata": {},
     "output_type": "execute_result"
    },
    {
     "data": {
      "image/png": "[encoded data removed]",
      "text/plain": [
       "<Figure size 1000x300 with 1 Axes>"
      ]
     },
     "metadata": {},
     "output_type": "display_data"
    }
   ],
   "source": [
    "df_updated['boro'].value_counts().plot(kind = 'barh', figsize= (10, 3))"
   ]
  },
  {
   "cell_type": "markdown",
   "id": "e8694c8f-7028-4fc5-b4ff-2bc0cac9e0af",
   "metadata": {},
   "source": [
    "So we can see we have very few number of high schools in staten island -- but this doesn't necessarily mean the data is missing."
   ]
  },
  {
   "cell_type": "markdown",
   "id": "cc9aa472-8607-4b9b-b4a9-fbd24e26b2e5",
   "metadata": {},
   "source": [
    "For that we can look at an [outside resource](https://high-schools.com/directory/ny/cities/staten-island/), and it looks like there are only 27 high schools in staten island, and 280 in brooklyn.  "
   ]
  },
  {
   "cell_type": "markdown",
   "id": "a468744c-5abb-45c0-bb9d-eecc53b91a00",
   "metadata": {},
   "source": [
    "* Test takers per school"
   ]
  },
  {
   "cell_type": "code",
   "execution_count": 29,
   "id": "88e768d9-de4b-4b45-812e-4693ee42540c",
   "metadata": {},
   "outputs": [],
   "source": [
    "num_test_takers = df_updated['num_test_takers']\n",
    "total_students = df_updated['total_students']"
   ]
  },
  {
   "cell_type": "code",
   "execution_count": 34,
   "id": "cf01ae76-4191-4209-a84a-34b928eb80fb",
   "metadata": {},
   "outputs": [],
   "source": [
    "# total_students"
   ]
  },
  {
   "cell_type": "code",
   "execution_count": 36,
   "id": "699054fd-61e8-4fb6-bfe0-36a1c1919e0d",
   "metadata": {},
   "outputs": [],
   "source": [
    "pct_takers = num_test_takers/total_students"
   ]
  },
  {
   "cell_type": "code",
   "execution_count": 38,
   "id": "71a9312d-11a6-43ba-bc74-e895fc8963ee",
   "metadata": {},
   "outputs": [
    {
     "name": "stderr",
     "output_type": "stream",
     "text": [
      "/var/folders/56/76xkbl_1039gpjh3w47v01980000gn/T/ipykernel_85222/2661955041.py:2: FutureWarning: The default value of numeric_only in DataFrameGroupBy.mean is deprecated. In a future version, numeric_only will default to False. Either specify numeric_only or select only columns which should be valid for the function.\n",
      "  df_with_pct.groupby('boro').mean()['pct_takers']\n"
     ]
    },
    {
     "data": {
      "text/plain": [
       "boro\n",
       "Bronx            0.146833\n",
       "Brooklyn         0.168416\n",
       "Manhattan        0.171484\n",
       "Queens           0.153365\n",
       "Staten Island    0.161102\n",
       "Name: pct_takers, dtype: float64"
      ]
     },
     "execution_count": 38,
     "metadata": {},
     "output_type": "execute_result"
    }
   ],
   "source": [
    "df_with_pct = df_updated.assign(pct_takers = pct_takers)\n",
    "df_with_pct.groupby('boro').mean()['pct_takers']"
   ]
  },
  {
   "cell_type": "markdown",
   "id": "037453ea-0c08-41e7-b1bc-cb31816dbaee",
   "metadata": {},
   "source": [
    "### Missing or incorrect values"
   ]
  },
  {
   "cell_type": "markdown",
   "id": "640e0b82-cb5b-45b0-a6de-2f0dec5de179",
   "metadata": {},
   "source": [
    "* Na values"
   ]
  },
  {
   "cell_type": "markdown",
   "id": "3b0d6497-fe7e-478c-b4a2-bed75b21b97c",
   "metadata": {},
   "source": [
    "* Distributions of the data - hist"
   ]
  },
  {
   "cell_type": "code",
   "execution_count": 40,
   "id": "5ef7921c-a698-4483-9cb1-4faff8645072",
   "metadata": {},
   "outputs": [
    {
     "data": {
      "text/plain": [
       "array([[<AxesSubplot: title={'center': 'reading_avg'}>,\n",
       "        <AxesSubplot: title={'center': 'math_avg'}>]], dtype=object)"
      ]
     },
     "execution_count": 40,
     "metadata": {},
     "output_type": "execute_result"
    },
    {
     "data": {
      "image/png": "[encoded data removed]",
      "text/plain": [
       "<Figure size 640x480 with 2 Axes>"
      ]
     },
     "metadata": {},
     "output_type": "display_data"
    }
   ],
   "source": [
    "b[['reading_avg', 'math_avg']].hist()"
   ]
  },
  {
   "cell_type": "code",
   "execution_count": 44,
   "id": "8843c11b-1c2f-47ee-959d-9a030ea77df5",
   "metadata": {},
   "outputs": [
    {
     "data": {
      "text/plain": [
       "dbn                     0\n",
       "name                    0\n",
       "num_test_takers        29\n",
       "reading_avg            29\n",
       "math_avg               29\n",
       "writing_score          29\n",
       "boro                    0\n",
       "total_students          0\n",
       "graduation_rate         5\n",
       "attendance_rate         0\n",
       "college_career_rate     5\n",
       "pct_takers             29\n",
       "dtype: int64"
      ]
     },
     "execution_count": 44,
     "metadata": {},
     "output_type": "execute_result"
    }
   ],
   "source": [
    "df_with_pct.isna().sum()"
   ]
  },
  {
   "cell_type": "markdown",
   "id": "dee5eab0-f8c5-4eb1-b592-979a534b3587",
   "metadata": {},
   "source": [
    "### One last thing"
   ]
  },
  {
   "cell_type": "markdown",
   "id": "9d06ff86-c2da-4f2d-9947-c8e75b1dea46",
   "metadata": {},
   "source": [
    "Looking at the data"
   ]
  },
  {
   "cell_type": "markdown",
   "id": "01fa5186-0f9a-466c-89ea-11c963405795",
   "metadata": {},
   "source": [
    "### Missing data - it's not all bad"
   ]
  },
  {
   "cell_type": "code",
   "execution_count": 42,
   "id": "2e23f8ab-c48e-4fce-ac6d-f864112c37fd",
   "metadata": {},
   "outputs": [
    {
     "data": {
      "text/plain": [
       "count    327.000000\n",
       "mean       0.160892\n",
       "std        0.077814\n",
       "min        0.041916\n",
       "25%        0.118438\n",
       "50%        0.151462\n",
       "75%        0.190515\n",
       "max        0.974170\n",
       "Name: pct_takers, dtype: float64"
      ]
     },
     "execution_count": 42,
     "metadata": {},
     "output_type": "execute_result"
    }
   ],
   "source": [
    "df_with_pct['pct_takers'].describe()"
   ]
  },
  {
   "cell_type": "code",
   "execution_count": null,
   "id": "27a49a00-c336-4237-b742-c975e559f16d",
   "metadata": {},
   "outputs": [],
   "source": [
    "df_with_pct['pct_takers']"
   ]
  }
 ],
 "metadata": {
  "kernelspec": {
   "display_name": "Python 3 (ipykernel)",
   "language": "python",
   "name": "python3"
  },
  "language_info": {
   "codemirror_mode": {
    "name": "ipython",
    "version": 3
   },
   "file_extension": ".py",
   "mimetype": "text/x-python",
   "name": "python",
   "nbconvert_exporter": "python",
   "pygments_lexer": "ipython3",
   "version": "3.9.12"
  }
 },
 "nbformat": 4,
 "nbformat_minor": 5
}
