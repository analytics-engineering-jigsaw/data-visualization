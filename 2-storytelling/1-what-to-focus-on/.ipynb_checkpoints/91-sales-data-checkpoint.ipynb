{
 "cells": [
  {
   "cell_type": "markdown",
   "id": "1a7032f1-d314-4f26-a5ef-3e1e4dbeac8f",
   "metadata": {},
   "source": [
    "# Sales Data"
   ]
  },
  {
   "cell_type": "markdown",
   "id": "a383367c-2520-4720-aa8e-53fbba5aee4e",
   "metadata": {},
   "source": [
    "### Resources\n",
    "\n",
    "[kaggle](https://www.kaggle.com/competitions/competitive-data-science-predict-future-sales)"
   ]
  },
  {
   "cell_type": "code",
   "execution_count": null,
   "id": "47ecc558-bf99-4ed5-a443-e722088f9e05",
   "metadata": {},
   "outputs": [],
   "source": []
  }
 ],
 "metadata": {
  "kernelspec": {
   "display_name": "Python 3 (ipykernel)",
   "language": "python",
   "name": "python3"
  },
  "language_info": {
   "codemirror_mode": {
    "name": "ipython",
    "version": 3
   },
   "file_extension": ".py",
   "mimetype": "text/x-python",
   "name": "python",
   "nbconvert_exporter": "python",
   "pygments_lexer": "ipython3",
   "version": "3.9.12"
  }
 },
 "nbformat": 4,
 "nbformat_minor": 5
}
