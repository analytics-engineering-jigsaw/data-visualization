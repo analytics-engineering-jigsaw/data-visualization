{
 "cells": [
  {
   "cell_type": "markdown",
   "id": "bd84b8e6-ce42-4041-ba6c-8978bd89393e",
   "metadata": {},
   "source": [
    "# Building a library"
   ]
  },
  {
   "cell_type": "markdown",
   "id": "e5da677c-83cf-4e20-8d3d-1e0d6f0d433d",
   "metadata": {},
   "source": [
    "### Loading our data"
   ]
  },
  {
   "cell_type": "markdown",
   "id": "c69ebd2c-f376-49ee-92d5-c64e856f9aa5",
   "metadata": {},
   "source": [
    "In this lesson, we'll build up our library by using ecommerce sales data.  Let's get started by loading our data.  "
   ]
  },
  {
   "cell_type": "code",
   "execution_count": 2,
   "id": "d7a6f77a-f77f-465a-8c85-e24413511193",
   "metadata": {},
   "outputs": [
    {
     "data": {
      "text/html": [
       "<div>\n",
       "<style scoped>\n",
       "    .dataframe tbody tr th:only-of-type {\n",
       "        vertical-align: middle;\n",
       "    }\n",
       "\n",
       "    .dataframe tbody tr th {\n",
       "        vertical-align: top;\n",
       "    }\n",
       "\n",
       "    .dataframe thead th {\n",
       "        text-align: right;\n",
       "    }\n",
       "</style>\n",
       "<table border=\"1\" class=\"dataframe\">\n",
       "  <thead>\n",
       "    <tr style=\"text-align: right;\">\n",
       "      <th></th>\n",
       "      <th>Order ID</th>\n",
       "      <th>Product</th>\n",
       "      <th>Quantity Ordered</th>\n",
       "      <th>Price Each</th>\n",
       "      <th>Order Date</th>\n",
       "      <th>Purchase Address</th>\n",
       "      <th>Month</th>\n",
       "      <th>Sales</th>\n",
       "      <th>City</th>\n",
       "      <th>Hour</th>\n",
       "    </tr>\n",
       "  </thead>\n",
       "  <tbody>\n",
       "    <tr>\n",
       "      <th>0</th>\n",
       "      <td>295665</td>\n",
       "      <td>Macbook Pro Laptop</td>\n",
       "      <td>1</td>\n",
       "      <td>1700.0</td>\n",
       "      <td>2019-12-30 00:01:00</td>\n",
       "      <td>136 Church St, New York City, NY 10001</td>\n",
       "      <td>12</td>\n",
       "      <td>1700.0</td>\n",
       "      <td>New York City</td>\n",
       "      <td>0</td>\n",
       "    </tr>\n",
       "    <tr>\n",
       "      <th>1</th>\n",
       "      <td>295666</td>\n",
       "      <td>LG Washing Machine</td>\n",
       "      <td>1</td>\n",
       "      <td>600.0</td>\n",
       "      <td>2019-12-29 07:03:00</td>\n",
       "      <td>562 2nd St, New York City, NY 10001</td>\n",
       "      <td>12</td>\n",
       "      <td>600.0</td>\n",
       "      <td>New York City</td>\n",
       "      <td>7</td>\n",
       "    </tr>\n",
       "  </tbody>\n",
       "</table>\n",
       "</div>"
      ],
      "text/plain": [
       "   Order ID             Product  Quantity Ordered  Price Each  \\\n",
       "0    295665  Macbook Pro Laptop                 1      1700.0   \n",
       "1    295666  LG Washing Machine                 1       600.0   \n",
       "\n",
       "            Order Date                        Purchase Address  Month   Sales  \\\n",
       "0  2019-12-30 00:01:00  136 Church St, New York City, NY 10001     12  1700.0   \n",
       "1  2019-12-29 07:03:00     562 2nd St, New York City, NY 10001     12   600.0   \n",
       "\n",
       "             City  Hour  \n",
       "0   New York City     0  \n",
       "1   New York City     7  "
      ]
     },
     "execution_count": 2,
     "metadata": {},
     "output_type": "execute_result"
    }
   ],
   "source": [
    "import pandas as pd\n",
    "url = \"./sales_data.csv\"\n",
    "df = pd.read_csv(url, index_col = 0)\n",
    "df[:2]"
   ]
  },
  {
   "cell_type": "code",
   "execution_count": null,
   "id": "420e27c6-9aa3-42dd-99e1-d9be01762dfe",
   "metadata": {},
   "outputs": [],
   "source": []
  },
  {
   "cell_type": "markdown",
   "id": "6f111c42-1bb9-49fd-be14-7cc29cddc7a9",
   "metadata": {},
   "source": [
    "* total rev per product"
   ]
  },
  {
   "cell_type": "code",
   "execution_count": 7,
   "id": "1bea2201-5d1a-4a44-8c34-d0450afa566d",
   "metadata": {},
   "outputs": [
    {
     "data": {
      "text/plain": [
       "Product\n",
       "Macbook Pro Laptop    8030800.00\n",
       "iPhone                4789400.00\n",
       "ThinkPad Laptop       4127958.72\n",
       "Name: Price Each, dtype: float64"
      ]
     },
     "execution_count": 7,
     "metadata": {},
     "output_type": "execute_result"
    }
   ],
   "source": [
    "# Total revenue per product\n",
    "\n",
    "top_products = df.groupby('Product')['Price Each'].sum().sort_values(ascending = False)\n",
    "top_products[:3]\n",
    "# top_products[:3]"
   ]
  },
  {
   "cell_type": "code",
   "execution_count": 12,
   "id": "d14b829b-d2a2-438a-a581-c6203d924c98",
   "metadata": {},
   "outputs": [
    {
     "data": {
      "text/plain": [
       "Product\n",
       "Macbook Pro Laptop    0.234208\n",
       "iPhone                0.139677\n",
       "ThinkPad Laptop       0.120387\n",
       "Name: Price Each, dtype: float64"
      ]
     },
     "execution_count": 12,
     "metadata": {},
     "output_type": "execute_result"
    }
   ],
   "source": [
    "pct_revenue = top_products/top_products.sum()\n",
    "\n",
    "pct_revenue[:3]"
   ]
  },
  {
   "cell_type": "code",
   "execution_count": 15,
   "id": "675db5de-e4b2-4c29-8a4c-4502ed8202ec",
   "metadata": {},
   "outputs": [
    {
     "data": {
      "text/plain": [
       "Product\n",
       "Macbook Pro Laptop          0.234208\n",
       "iPhone                      0.373885\n",
       "ThinkPad Laptop             0.494272\n",
       "Google Phone                0.590950\n",
       "27in 4K Gaming Monitor      0.661807\n",
       "34in Ultrawide Monitor      0.730305\n",
       "Apple Airpods Headphones    0.798325\n",
       "Name: Price Each, dtype: float64"
      ]
     },
     "execution_count": 15,
     "metadata": {},
     "output_type": "execute_result"
    }
   ],
   "source": [
    "pct_revenue.cumsum()[pct_revenue.cumsum() < .80 ]"
   ]
  },
  {
   "cell_type": "markdown",
   "id": "8a4a17d3-f97a-4335-8200-e6638b045dee",
   "metadata": {},
   "source": [
    "* Pct revenue per product"
   ]
  },
  {
   "cell_type": "code",
   "execution_count": 34,
   "id": "2de115e9-38b9-4fde-9402-822dbe3f950b",
   "metadata": {},
   "outputs": [
    {
     "data": {
      "text/plain": [
       "Product\n",
       "Macbook Pro Laptop    0.234208\n",
       "iPhone                0.139677\n",
       "ThinkPad Laptop       0.120387\n",
       "Name: sum, dtype: float64"
      ]
     },
     "execution_count": 34,
     "metadata": {},
     "output_type": "execute_result"
    }
   ],
   "source": [
    "pct = None\n",
    "pct[:3]"
   ]
  },
  {
   "cell_type": "markdown",
   "id": "edd1b5d9-b5a6-47c4-a204-356d6253db2c",
   "metadata": {},
   "source": [
    "And running percent with the following:"
   ]
  },
  {
   "cell_type": "code",
   "execution_count": 36,
   "id": "a2a7752b-a69a-4fbc-8ca6-a91a4d104349",
   "metadata": {},
   "outputs": [
    {
     "data": {
      "text/plain": [
       "Product\n",
       "Macbook Pro Laptop    0.234208\n",
       "iPhone                0.373885\n",
       "ThinkPad Laptop       0.494272\n",
       "Name: sum, dtype: float64"
      ]
     },
     "execution_count": 36,
     "metadata": {},
     "output_type": "execute_result"
    }
   ],
   "source": [
    "cum_pct = None\n",
    "cum_pct[:3]"
   ]
  },
  {
   "cell_type": "markdown",
   "id": "8479b602-07c0-4f90-8cda-270e7484b01d",
   "metadata": {},
   "source": [
    "This seems useful -- let's turn it into a function."
   ]
  },
  {
   "cell_type": "code",
   "execution_count": 16,
   "id": "b8e5ca41-cd0f-4620-b182-b2da303edf42",
   "metadata": {},
   "outputs": [],
   "source": [
    "def build_grouped_by(df, col, target, agg = 'sum', agg_name = None, pct = True):\n",
    "    grouped_data = df.groupby(col)[target].agg([agg]).sort_values(agg, ascending = False)\n",
    "    if pct:\n",
    "        grouped_data = (grouped_data/df[target].sum())\n",
    "        cum_pct = grouped_data.cumsum()/grouped_data.sum()\n",
    "        grouped_data = grouped_data.assign(cum_pct = cum_pct)\n",
    "    if agg_name:\n",
    "        grouped_data = grouped_data.rename(columns={agg: agg_name})\n",
    "    return grouped_data.round(3)"
   ]
  },
  {
   "cell_type": "markdown",
   "id": "1f8240da-58d8-4ce5-a922-4c4a602e6ac1",
   "metadata": {},
   "source": [
    "Ok, now let's see our function in action.\n",
    "\n",
    "For example, we can quickly see how our revenue breaks down by city with something like the following."
   ]
  },
  {
   "cell_type": "code",
   "execution_count": 18,
   "id": "0c42e688-2ce9-46f6-b5b3-91749b999cb1",
   "metadata": {},
   "outputs": [
    {
     "data": {
      "text/html": [
       "<div>\n",
       "<style scoped>\n",
       "    .dataframe tbody tr th:only-of-type {\n",
       "        vertical-align: middle;\n",
       "    }\n",
       "\n",
       "    .dataframe tbody tr th {\n",
       "        vertical-align: top;\n",
       "    }\n",
       "\n",
       "    .dataframe thead th {\n",
       "        text-align: right;\n",
       "    }\n",
       "</style>\n",
       "<table border=\"1\" class=\"dataframe\">\n",
       "  <thead>\n",
       "    <tr style=\"text-align: right;\">\n",
       "      <th></th>\n",
       "      <th>percent_revenue</th>\n",
       "      <th>cum_pct</th>\n",
       "    </tr>\n",
       "    <tr>\n",
       "      <th>City</th>\n",
       "      <th></th>\n",
       "      <th></th>\n",
       "    </tr>\n",
       "  </thead>\n",
       "  <tbody>\n",
       "    <tr>\n",
       "      <th>San Francisco</th>\n",
       "      <td>0.239</td>\n",
       "      <td>0.239</td>\n",
       "    </tr>\n",
       "    <tr>\n",
       "      <th>Los Angeles</th>\n",
       "      <td>0.158</td>\n",
       "      <td>0.398</td>\n",
       "    </tr>\n",
       "    <tr>\n",
       "      <th>New York City</th>\n",
       "      <td>0.135</td>\n",
       "      <td>0.533</td>\n",
       "    </tr>\n",
       "    <tr>\n",
       "      <th>Boston</th>\n",
       "      <td>0.106</td>\n",
       "      <td>0.639</td>\n",
       "    </tr>\n",
       "    <tr>\n",
       "      <th>Atlanta</th>\n",
       "      <td>0.081</td>\n",
       "      <td>0.720</td>\n",
       "    </tr>\n",
       "    <tr>\n",
       "      <th>Dallas</th>\n",
       "      <td>0.080</td>\n",
       "      <td>0.800</td>\n",
       "    </tr>\n",
       "    <tr>\n",
       "      <th>Seattle</th>\n",
       "      <td>0.080</td>\n",
       "      <td>0.880</td>\n",
       "    </tr>\n",
       "    <tr>\n",
       "      <th>Portland</th>\n",
       "      <td>0.067</td>\n",
       "      <td>0.947</td>\n",
       "    </tr>\n",
       "    <tr>\n",
       "      <th>Austin</th>\n",
       "      <td>0.053</td>\n",
       "      <td>1.000</td>\n",
       "    </tr>\n",
       "  </tbody>\n",
       "</table>\n",
       "</div>"
      ],
      "text/plain": [
       "                percent_revenue  cum_pct\n",
       "City                                    \n",
       " San Francisco            0.239    0.239\n",
       " Los Angeles              0.158    0.398\n",
       " New York City            0.135    0.533\n",
       " Boston                   0.106    0.639\n",
       " Atlanta                  0.081    0.720\n",
       " Dallas                   0.080    0.800\n",
       " Seattle                  0.080    0.880\n",
       " Portland                 0.067    0.947\n",
       " Austin                   0.053    1.000"
      ]
     },
     "execution_count": 18,
     "metadata": {},
     "output_type": "execute_result"
    }
   ],
   "source": [
    "target = 'Price Each'\n",
    "grouped_data = build_grouped_by(df, 'City', target,\n",
    "                                agg = 'sum', agg_name = 'percent_revenue')\n",
    "grouped_data"
   ]
  },
  {
   "cell_type": "markdown",
   "id": "bf4932b4-4aea-4a2c-ab63-ee722656fa85",
   "metadata": {},
   "source": [
    "And we can use a loop to allow us to pass through multiple columns, producing a dataframe for each one."
   ]
  },
  {
   "cell_type": "code",
   "execution_count": 19,
   "id": "019aa54d-4cd1-419d-ab46-3f966c8ee9ee",
   "metadata": {},
   "outputs": [],
   "source": [
    "def build_grouped_bys(df, cols, target, agg = 'sum', agg_name = None, pct = True):\n",
    "    totals_by_col = [build_grouped_by(df, col, target, agg = 'sum', agg_name = agg_name) for col in cols]\n",
    "    totals = dict(zip(cols, totals_by_col))\n",
    "    return totals"
   ]
  },
  {
   "cell_type": "markdown",
   "id": "e3f3b749-c7b2-40c4-976c-3ac14d507e20",
   "metadata": {},
   "source": [
    "And now we can quickly see how our revenue breaks down across multiple criteria."
   ]
  },
  {
   "cell_type": "code",
   "execution_count": 11,
   "id": "02d20ab2-ef50-4130-8a43-d64fd64f5662",
   "metadata": {},
   "outputs": [
    {
     "data": {
      "text/plain": [
       "Index(['Order ID', 'Product', 'Quantity Ordered', 'Price Each', 'Order Date',\n",
       "       'Purchase Address', 'Month', 'Sales', 'City', 'Hour'],\n",
       "      dtype='object')"
      ]
     },
     "execution_count": 11,
     "metadata": {},
     "output_type": "execute_result"
    }
   ],
   "source": [
    "df.columns"
   ]
  },
  {
   "cell_type": "code",
   "execution_count": 21,
   "id": "002a0b00-8400-459d-b6fe-a53025678921",
   "metadata": {},
   "outputs": [],
   "source": [
    "cols = ['Product', 'Month', 'Hour']"
   ]
  },
  {
   "cell_type": "code",
   "execution_count": 22,
   "id": "16e99f7e-20c6-417a-831f-905e77cf9c46",
   "metadata": {},
   "outputs": [],
   "source": [
    "target = 'Price Each'\n",
    "results = build_grouped_bys(df, cols, target, agg = 'sum', agg_name = 'percent_revenue')"
   ]
  },
  {
   "cell_type": "code",
   "execution_count": 26,
   "id": "a11b41db-063e-492d-bb4f-a1095ca7c91f",
   "metadata": {},
   "outputs": [],
   "source": [
    "# results['Month']"
   ]
  },
  {
   "cell_type": "markdown",
   "id": "512ced66-000b-4740-b14e-9bb3218f5dae",
   "metadata": {},
   "source": [
    "> This function returns a dictionary where each key has a corresponding dataframe."
   ]
  },
  {
   "cell_type": "code",
   "execution_count": 15,
   "id": "a9386aa2-c29e-4910-9e95-bb52f03a82ba",
   "metadata": {},
   "outputs": [
    {
     "data": {
      "text/plain": [
       "dict_keys(['Product', 'Month', 'Hour'])"
      ]
     },
     "execution_count": 15,
     "metadata": {},
     "output_type": "execute_result"
    }
   ],
   "source": [
    "results.keys()"
   ]
  },
  {
   "cell_type": "code",
   "execution_count": 27,
   "id": "df448d94-ef10-45e7-9dda-e34a421ca015",
   "metadata": {},
   "outputs": [
    {
     "data": {
      "text/html": [
       "<div>\n",
       "<style scoped>\n",
       "    .dataframe tbody tr th:only-of-type {\n",
       "        vertical-align: middle;\n",
       "    }\n",
       "\n",
       "    .dataframe tbody tr th {\n",
       "        vertical-align: top;\n",
       "    }\n",
       "\n",
       "    .dataframe thead th {\n",
       "        text-align: right;\n",
       "    }\n",
       "</style>\n",
       "<table border=\"1\" class=\"dataframe\">\n",
       "  <thead>\n",
       "    <tr style=\"text-align: right;\">\n",
       "      <th></th>\n",
       "      <th>percent_revenue</th>\n",
       "      <th>cum_pct</th>\n",
       "    </tr>\n",
       "    <tr>\n",
       "      <th>Product</th>\n",
       "      <th></th>\n",
       "      <th></th>\n",
       "    </tr>\n",
       "  </thead>\n",
       "  <tbody>\n",
       "    <tr>\n",
       "      <th>Macbook Pro Laptop</th>\n",
       "      <td>0.234</td>\n",
       "      <td>0.234</td>\n",
       "    </tr>\n",
       "    <tr>\n",
       "      <th>iPhone</th>\n",
       "      <td>0.140</td>\n",
       "      <td>0.374</td>\n",
       "    </tr>\n",
       "    <tr>\n",
       "      <th>ThinkPad Laptop</th>\n",
       "      <td>0.120</td>\n",
       "      <td>0.494</td>\n",
       "    </tr>\n",
       "    <tr>\n",
       "      <th>Google Phone</th>\n",
       "      <td>0.097</td>\n",
       "      <td>0.591</td>\n",
       "    </tr>\n",
       "    <tr>\n",
       "      <th>27in 4K Gaming Monitor</th>\n",
       "      <td>0.071</td>\n",
       "      <td>0.662</td>\n",
       "    </tr>\n",
       "  </tbody>\n",
       "</table>\n",
       "</div>"
      ],
      "text/plain": [
       "                        percent_revenue  cum_pct\n",
       "Product                                         \n",
       "Macbook Pro Laptop                0.234    0.234\n",
       "iPhone                            0.140    0.374\n",
       "ThinkPad Laptop                   0.120    0.494\n",
       "Google Phone                      0.097    0.591\n",
       "27in 4K Gaming Monitor            0.071    0.662"
      ]
     },
     "execution_count": 27,
     "metadata": {},
     "output_type": "execute_result"
    }
   ],
   "source": [
    "results['Product'][:5]"
   ]
  },
  {
   "cell_type": "markdown",
   "id": "249aacfa-7f82-464a-ab3a-a24dabe9f840",
   "metadata": {},
   "source": [
    "So above we can see that three months account for 34% of our sales."
   ]
  },
  {
   "cell_type": "markdown",
   "id": "085926f1-21dc-4ffd-8d06-c76bed95a2b3",
   "metadata": {},
   "source": [
    "### Viewing our data"
   ]
  },
  {
   "cell_type": "markdown",
   "id": "e9cd60ad-a5b5-4ea6-8ffd-41f8861fe464",
   "metadata": {},
   "source": [
    "Ok, so above, we have developed a function to quickly aggregate a target by different criteria.  From there, we can build a function for plotting this data."
   ]
  },
  {
   "cell_type": "code",
   "execution_count": 28,
   "id": "629c87af-99fb-4af3-a8ec-253df656c905",
   "metadata": {},
   "outputs": [],
   "source": [
    "import matplotlib.pyplot as plt\n",
    "def print_grouped_by(grouped, title = \"\", axis = '', limit = 10, y_range = [0, 1], y_col = 0):\n",
    "    selected_group = grouped[grouped.iloc[:, 0].values != None]\n",
    "    fig = plt.figure(figsize=(14, 2))\n",
    "    plt.scatter(selected_group.index[:limit], selected_group.iloc[:limit, y_col])\n",
    "    plt.ylim(y_range)\n",
    "    plt.title(title)\n",
    "    plt.show()"
   ]
  },
  {
   "cell_type": "code",
   "execution_count": 29,
   "id": "368ba048-144e-44d1-a5bd-8120c503d1c7",
   "metadata": {},
   "outputs": [
    {
     "data": {
      "image/png": "[encoded data removed]",
      "text/plain": [
       "<Figure size 1400x200 with 1 Axes>"
      ]
     },
     "metadata": {},
     "output_type": "display_data"
    }
   ],
   "source": [
    "\n",
    "print_grouped_by(grouped_data, title = \"Percent Sales By City\", y_range = [0, .3], y_col = 0)"
   ]
  },
  {
   "cell_type": "code",
   "execution_count": 82,
   "id": "a1dfa6b7-bfd4-42a4-b06c-47202f750726",
   "metadata": {},
   "outputs": [
    {
     "data": {
      "image/png": "[encoded data removed]",
      "text/plain": [
       "<Figure size 1400x200 with 1 Axes>"
      ]
     },
     "metadata": {},
     "output_type": "display_data"
    }
   ],
   "source": [
    "print_grouped_by(grouped_data, title = \"Percent Sales By City\", y_range = [0, 1], y_col = 1)"
   ]
  },
  {
   "cell_type": "markdown",
   "id": "d1885368-95e2-4457-92cb-bcb282e53e2d",
   "metadata": {},
   "source": [
    "### All together now"
   ]
  },
  {
   "cell_type": "markdown",
   "id": "2e01824d-3bc6-4155-bf06-be16c78c6d39",
   "metadata": {},
   "source": [
    "Ok, so then a quick way to determine what to focus on is to select some promising columns, and graph them to see what appears to be drivers of our target."
   ]
  },
  {
   "cell_type": "code",
   "execution_count": 16,
   "id": "94b6459a-42b5-4397-9c6e-cf655da741c1",
   "metadata": {},
   "outputs": [
    {
     "data": {
      "text/plain": [
       "Index(['Order ID', 'Product', 'Quantity Ordered', 'Price Each', 'Order Date',\n",
       "       'Purchase Address', 'Month', 'Sales', 'City', 'Hour'],\n",
       "      dtype='object')"
      ]
     },
     "execution_count": 16,
     "metadata": {},
     "output_type": "execute_result"
    }
   ],
   "source": [
    "df.columns"
   ]
  },
  {
   "cell_type": "code",
   "execution_count": 30,
   "id": "783befd0-c3b6-4b4f-b514-7c1fa7434983",
   "metadata": {},
   "outputs": [],
   "source": [
    "grouped_by_cols = ['Product', 'City', 'Month', 'Hour', 'Purchase Address']"
   ]
  },
  {
   "cell_type": "code",
   "execution_count": 31,
   "id": "e105fd01-5ed0-4f3b-84be-15baa8975ef9",
   "metadata": {},
   "outputs": [
    {
     "data": {
      "image/png": "[encoded data removed]",
      "text/plain": [
       "<Figure size 1400x200 with 1 Axes>"
      ]
     },
     "metadata": {},
     "output_type": "display_data"
    },
    {
     "data": {
      "image/png": "[encoded data removed]",
      "text/plain": [
       "<Figure size 1400x200 with 1 Axes>"
      ]
     },
     "metadata": {},
     "output_type": "display_data"
    },
    {
     "data": {
      "image/png": "[encoded data removed]",
      "text/plain": [
       "<Figure size 1400x200 with 1 Axes>"
      ]
     },
     "metadata": {},
     "output_type": "display_data"
    },
    {
     "data": {
      "image/png": "[encoded data removed]",
      "text/plain": [
       "<Figure size 1400x200 with 1 Axes>"
      ]
     },
     "metadata": {},
     "output_type": "display_data"
    }
   ],
   "source": [
    "def build_and_print(df, cols, target, agg = 'sum', agg_name = \"\", limit = 10, y_range = [0, 1], y_col = 0):\n",
    "    totals_by_col = [build_grouped_by(df, col, target, agg = 'sum', agg_name = agg_name)\n",
    "                 for col in cols]\n",
    "    totals = dict(zip(cols, totals_by_col))    \n",
    "    [print_grouped_by(df, title = f\"{agg_name} by {col}\", y_range = y_range, limit = limit, y_col = y_col) for col, df in totals.items()]\n",
    "    return totals\n",
    "\n",
    "# call function\n",
    "target = 'Price Each'\n",
    "agg_name = 'percent_revenue'\n",
    "\n",
    "cols = ['Product', 'City', 'Month', 'Hour']\n",
    "\n",
    "results = build_and_print(df, cols, target, agg = 'sum', agg_name = agg_name, y_range = [0, .3], limit = 5)"
   ]
  },
  {
   "cell_type": "markdown",
   "id": "063968b7-bb63-464a-b532-f2dcd01877ab",
   "metadata": {},
   "source": [
    "Another nice thing, is that the `build_and_print` function returns that dictionary of dataframes.  So after plotting our columns above, we can then select the dataframe that we find interesting, and explore it further."
   ]
  },
  {
   "cell_type": "code",
   "execution_count": 23,
   "id": "9c0497cc-ee56-4d9b-a053-8e3e9ac1c8db",
   "metadata": {},
   "outputs": [
    {
     "data": {
      "text/plain": [
       "dict_keys(['Product', 'City', 'Month', 'Hour'])"
      ]
     },
     "execution_count": 23,
     "metadata": {},
     "output_type": "execute_result"
    }
   ],
   "source": [
    "results.keys()"
   ]
  },
  {
   "cell_type": "code",
   "execution_count": 25,
   "id": "5e1265c8-5cbb-4246-9a28-422f2a28337f",
   "metadata": {},
   "outputs": [
    {
     "data": {
      "text/html": [
       "<div>\n",
       "<style scoped>\n",
       "    .dataframe tbody tr th:only-of-type {\n",
       "        vertical-align: middle;\n",
       "    }\n",
       "\n",
       "    .dataframe tbody tr th {\n",
       "        vertical-align: top;\n",
       "    }\n",
       "\n",
       "    .dataframe thead th {\n",
       "        text-align: right;\n",
       "    }\n",
       "</style>\n",
       "<table border=\"1\" class=\"dataframe\">\n",
       "  <thead>\n",
       "    <tr style=\"text-align: right;\">\n",
       "      <th></th>\n",
       "      <th>percent_revenue</th>\n",
       "      <th>cum_pct</th>\n",
       "    </tr>\n",
       "    <tr>\n",
       "      <th>City</th>\n",
       "      <th></th>\n",
       "      <th></th>\n",
       "    </tr>\n",
       "  </thead>\n",
       "  <tbody>\n",
       "    <tr>\n",
       "      <th>San Francisco</th>\n",
       "      <td>0.239</td>\n",
       "      <td>0.239</td>\n",
       "    </tr>\n",
       "    <tr>\n",
       "      <th>Los Angeles</th>\n",
       "      <td>0.158</td>\n",
       "      <td>0.398</td>\n",
       "    </tr>\n",
       "    <tr>\n",
       "      <th>New York City</th>\n",
       "      <td>0.135</td>\n",
       "      <td>0.533</td>\n",
       "    </tr>\n",
       "    <tr>\n",
       "      <th>Boston</th>\n",
       "      <td>0.106</td>\n",
       "      <td>0.639</td>\n",
       "    </tr>\n",
       "    <tr>\n",
       "      <th>Atlanta</th>\n",
       "      <td>0.081</td>\n",
       "      <td>0.720</td>\n",
       "    </tr>\n",
       "  </tbody>\n",
       "</table>\n",
       "</div>"
      ],
      "text/plain": [
       "                percent_revenue  cum_pct\n",
       "City                                    \n",
       " San Francisco            0.239    0.239\n",
       " Los Angeles              0.158    0.398\n",
       " New York City            0.135    0.533\n",
       " Boston                   0.106    0.639\n",
       " Atlanta                  0.081    0.720"
      ]
     },
     "execution_count": 25,
     "metadata": {},
     "output_type": "execute_result"
    }
   ],
   "source": [
    "results['City'][:5]"
   ]
  },
  {
   "cell_type": "markdown",
   "id": "e72581c0-09d5-44de-9cde-364ec8e4ce8a",
   "metadata": {},
   "source": [
    "### Summary"
   ]
  },
  {
   "cell_type": "markdown",
   "id": "c498b210-09d0-49d3-be41-c54b05e73a82",
   "metadata": {},
   "source": [
    "In this lesson, we saw some quick ways to view our data.  \n",
    "\n",
    "> You can move these functions into an `item_lib.py` file.  We'll use them going forward."
   ]
  },
  {
   "cell_type": "code",
   "execution_count": 30,
   "id": "acce7c6e-c162-4dba-b80b-3a165297913e",
   "metadata": {},
   "outputs": [],
   "source": [
    "import pandas as pd\n",
    "import numpy as np\n",
    "import matplotlib.pyplot as plt\n",
    "import re\n",
    "\n",
    "def build_grouped_by(df, col, target, agg = 'sum', agg_name = None, pct = True):\n",
    "    grouped_data = df.groupby(col)[target].agg([agg]).sort_values(agg, ascending = False)\n",
    "    if pct:\n",
    "        grouped_data = (grouped_data/df[target].sum())\n",
    "        cum_pct = grouped_data.cumsum()/grouped_data.sum()\n",
    "        grouped_data = grouped_data.assign(cum_pct = cum_pct)\n",
    "    if agg_name:\n",
    "        grouped_data = grouped_data.rename(columns={agg: agg_name})\n",
    "    return grouped_data.round(3)\n",
    "\n",
    "def build_grouped_bys(df, cols, target, agg = 'sum', agg_name = None, pct = True):\n",
    "    totals_by_col = [build_grouped_by(df, col, target, agg = 'sum', agg_name = agg_name) for col in cols]\n",
    "    totals = dict(zip(cols, totals_by_col))\n",
    "    return totals\n",
    "\n",
    "def print_grouped_by(grouped, title = \"\", axis = '', limit = 10, y_range = [0, 1], y_col = 0):\n",
    "    selected_group = grouped[grouped.iloc[:, 0].values != None]\n",
    "    fig = plt.figure(figsize=(14, 2))\n",
    "    plt.scatter(selected_group.index[:limit], selected_group.iloc[:limit, y_col])\n",
    "    plt.ylim(y_range)\n",
    "    plt.title(title)\n",
    "    plt.show()\n",
    "    \n",
    "def build_and_print(df, cols, target, agg = 'sum', agg_name = \"\", limit = 10, y_range = [0, 1], y_col = 0):\n",
    "    totals_by_col = [build_grouped_by(df, col, target, agg = 'sum', agg_name = agg_name)\n",
    "                 for col in cols]\n",
    "    totals = dict(zip(cols, totals_by_col))    \n",
    "    [print_grouped_by(df, title = f\"{agg_name} by {col}\", y_range = y_range, limit = limit, y_col = y_col) for col, df in totals.items()]\n",
    "    return totals\n",
    "\n",
    "def add_datepart(df, fldnames, drop=True, time=False, errors=\"raise\"):\n",
    "    if isinstance(fldnames,str):\n",
    "        fldnames = [fldnames]\n",
    "    for fldname in fldnames:\n",
    "        fld = df[fldname]\n",
    "        fld_dtype = fld.dtype\n",
    "        if isinstance(fld_dtype, pd.core.dtypes.dtypes.DatetimeTZDtype):\n",
    "            fld_dtype = np.datetime64\n",
    "\n",
    "        if not np.issubdtype(fld_dtype, np.datetime64):\n",
    "            df[fldname] = fld = pd.to_datetime(fld, infer_datetime_format=True, errors=errors)\n",
    "        targ_pre = re.sub('[Dd]ate$', '', fldname)\n",
    "        attr = ['Year', 'Month', 'Week', 'Day', 'Dayofweek', 'Dayofyear']\n",
    "        if time: attr = attr + ['Hour', 'Minute', 'Second']\n",
    "        for n in attr: df[targ_pre + n] = getattr(fld.dt, n.lower())\n",
    "        df[targ_pre + 'Elapsed'] = fld.astype(np.int64) // 10 ** 9\n",
    "        if drop: df.drop(fldname, axis=1, inplace=True)"
   ]
  },
  {
   "cell_type": "markdown",
   "id": "1b344b7d-9c31-493e-8299-45fd16c905d5",
   "metadata": {},
   "source": [
    "### Bonus: An alternative group by "
   ]
  },
  {
   "cell_type": "markdown",
   "id": "30c0791f-c585-4ec1-a5ad-881ffbea6f74",
   "metadata": {},
   "source": [
    "We can use the following function if our data is in SQL."
   ]
  },
  {
   "cell_type": "code",
   "execution_count": null,
   "id": "a542c416-fdcc-47d4-a1cf-be516479e88a",
   "metadata": {},
   "outputs": [],
   "source": [
    "def build_grouped_by(table_name, col, target, engine, order_by_col = False):\n",
    "    if order_by_col:\n",
    "        query = f\"\"\"select {col}, sum({target}) total_amount from {table_name} group by {col} order by {col} asc\"\"\"\n",
    "    else:\n",
    "        query = f\"\"\"select {col}, sum({target}) total_amount from {table_name} group by {col} order by total_amount desc\"\"\"\n",
    "    grouped = pd.read_sql(query, engine)\n",
    "    return grouped"
   ]
  },
  {
   "cell_type": "markdown",
   "id": "98923ca3-5ca9-48a2-b0e3-26adebb00834",
   "metadata": {},
   "source": [
    "### Resources\n",
    "\n",
    "[Sales Product Data](https://www.kaggle.com/datasets/knightbearr/sales-product-data)\n",
    "\n",
    "[Unit Economics](https://www.paddle.com/resources/unit-economics)\n",
    "\n",
    "[Olist Dataset Multitables](https://www.kaggle.com/datasets/olistbr/brazilian-ecommerce)\n"
   ]
  }
 ],
 "metadata": {
  "kernelspec": {
   "display_name": "Python 3 (ipykernel)",
   "language": "python",
   "name": "python3"
  },
  "language_info": {
   "codemirror_mode": {
    "name": "ipython",
    "version": 3
   },
   "file_extension": ".py",
   "mimetype": "text/x-python",
   "name": "python",
   "nbconvert_exporter": "python",
   "pygments_lexer": "ipython3",
   "version": "3.9.12"
  }
 },
 "nbformat": 4,
 "nbformat_minor": 5
}
