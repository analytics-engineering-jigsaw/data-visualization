{
 "cells": [
  {
   "cell_type": "markdown",
   "id": "8ca4143c-abe9-47f8-a2ed-be5b9a9f476a",
   "metadata": {},
   "source": [
    "# Crafting a good message"
   ]
  },
  {
   "cell_type": "markdown",
   "id": "00e22562-61a0-4362-a16a-863aace13901",
   "metadata": {},
   "source": [
    "### Introduction"
   ]
  },
  {
   "cell_type": "markdown",
   "id": "e94448c5-5da5-4bd8-b282-ef4e8f711d4e",
   "metadata": {},
   "source": [
    "In this section, we'll take a deeper look at how to craft the message behind each chart.  As we know, with communicating the findings of an individual chart or slide, with each message supported by evidence.  But we'll also see that we want our messages to  be:\n",
    "* conclusions, \n",
    "* actionable,\n",
    "* and lean on comparisons."
   ]
  },
  {
   "cell_type": "markdown",
   "id": "e3a4f4f1-3608-4237-932d-453d22a3b3a7",
   "metadata": {},
   "source": [
    "### Vertical Consistency"
   ]
  },
  {
   "cell_type": "markdown",
   "id": "76a01ac1-8b91-41d5-b080-81ef5e4b7988",
   "metadata": {},
   "source": [
    "Each data visualization that we produce should communicate a specific message, and when a reader looks down at the accompanying chart, it should reinforce that message.  "
   ]
  },
  {
   "cell_type": "markdown",
   "id": "de3513d2-2116-4e0c-90ce-56079ba63c1f",
   "metadata": {},
   "source": [
    "<img src=\"./vertical-example.png\" width=\"40%\">"
   ]
  },
  {
   "cell_type": "markdown",
   "id": "1f97dc2e-e0cd-4b11-b92d-2c982375e9f2",
   "metadata": {},
   "source": [
    "> This is called **vertical consistency**.  With vertical consistency, when we look from the message to the chart -- we should find the message and chart reinforce each other.  Or even better, that the message is a logical conclusion from the accompanying chart."
   ]
  },
  {
   "cell_type": "markdown",
   "id": "3ea3e51b-1420-4b7c-8f3e-ea573fd7eec1",
   "metadata": {},
   "source": [
    "### Finding the message"
   ]
  },
  {
   "cell_type": "markdown",
   "id": "9444e92c-e9a8-4de5-ad9e-031bc10d01c3",
   "metadata": {},
   "source": [
    "So how do we determine the message?  Let's start there.\n",
    "\n",
    "Let's imagine that we are given the following chart, with the following top line, and would like to rewrite it.\n",
    "\n",
    "> Percentage of revenue in January"
   ]
  },
  {
   "cell_type": "markdown",
   "id": "12008330-54d1-4b7b-8615-4c3bdadb21c0",
   "metadata": {},
   "source": [
    "| Region | Target | Whole Foods |\n",
    "|--------|--------|-------------|\n",
    "| NE     | 12%    | 39%         |\n",
    "| SE     | 36%    | 6%          |\n",
    "| NW     | 27%    | 27%         |\n",
    "| SW     | 25%    | 28%         |"
   ]
  },
  {
   "cell_type": "markdown",
   "id": "95d8e202-e5c7-4902-9cb4-16d0b4972280",
   "metadata": {},
   "source": [
    "* Critiquing the message"
   ]
  },
  {
   "cell_type": "markdown",
   "id": "2f951d86-a249-4ed4-98d7-a329015366b5",
   "metadata": {},
   "source": [
    "Before the rewriting, let's make sure we understand why we need to improve the above.  Yes, \"Percentage of Revenue in Jan\" describes the data, but it doesn't tell us what to take from the data.  In other words, it doesn't pass the \"So what?\" test. \n",
    "\n",
    "In other words, it doesn't tell us what we are supposed to takeaway, or *conclude* from the above data.\n",
    "\n",
    "This is better: `Revenue for Whole Foods principally comes from the NE, NW, and SW regions`."
   ]
  },
  {
   "cell_type": "markdown",
   "id": "f2e9a5c8-8b5a-460e-9418-84f5346353bf",
   "metadata": {},
   "source": [
    "Notice, that with the above, we are emphasizing a conclusion that's supported by our data.  And with that conclusion, we can can then modify our visualization to emphasize this conclusion (for example, by removing the Target data, and leaving that for another section, if needed).  \n",
    "\n",
    "* Lean on comparisons\n",
    "\n",
    "Finally, in thinking of a takeaway message, oftentimes these takeways are *comparisons*.  So with the above, we are comparing the SE region to the other regions.  If the conclusion is surprising or unexpected (and significant), we should likely spend more time on it (and break it into multiple slides/charts).\n",
    "\n",
    "* Is it actionable\n",
    "\n",
    "With our message of `Revenue for Whole Foods principally comes from the NE, NW, and SW regions`, we are still not sure if we should optimize these sales, or potentially leave the region.  But notice it's at least a point about the *business* in a way that our original message of, \"Percentage of revenue in January\" was not.  And thus, it at the least provokes further discussion which may lead to actions."
   ]
  },
  {
   "cell_type": "markdown",
   "id": "e73c0c51-7f5c-4685-b496-ba2553617cba",
   "metadata": {},
   "source": [
    "### Recap"
   ]
  },
  {
   "cell_type": "markdown",
   "id": "da38f65b-cd72-4db5-b355-30065c419583",
   "metadata": {},
   "source": [
    "Ok, so now we have some good tips for crafting a message.  The message should be:\n",
    "\n",
    "1. A conclusion or takeaway\n",
    "2. Supported by the evidence\n",
    "3. Oftentimes a comparison, or something surprising\n",
    "4. Passes the \"So what?\" test"
   ]
  },
  {
   "cell_type": "markdown",
   "id": "c2302ea9-964b-4285-8948-7db851c1103e",
   "metadata": {},
   "source": [
    "### Your turn"
   ]
  },
  {
   "cell_type": "markdown",
   "id": "66843925-dc77-43f8-b795-319c2dbb44da",
   "metadata": {},
   "source": [
    "| Region | Target | Whole Foods |\n",
    "|--------|--------|-------------|\n",
    "| NE     | 12%    | 39%         |\n",
    "| SE     | 36%    | 6%          |\n",
    "| NW     | 27%    | 27%         |\n",
    "| SW     | 25%    | 28%         |"
   ]
  },
  {
   "cell_type": "markdown",
   "id": "ec20d1c2-c818-478a-82cf-94887e9ade65",
   "metadata": {},
   "source": [
    "So now it's your turn.  Generate at least three different messages from the above using our principles of:"
   ]
  },
  {
   "cell_type": "markdown",
   "id": "bb953a1c-826e-442e-829d-4eed467e59a7",
   "metadata": {},
   "source": [
    "1. A conclusion or takeaway\n",
    "2. Supported by the evidence\n",
    "3. Oftentimes a comparison, or something surprising\n",
    "4. Passes the \"So what?\" test."
   ]
  },
  {
   "cell_type": "markdown",
   "id": "22f59b95-5a71-436c-8a1c-9db8f05f029d",
   "metadata": {},
   "source": [
    "### References\n",
    "\n",
    "[Say it with Charts](https://www.amazon.com/Say-Charts-Executives-Visual-Communication/dp/007136997X)"
   ]
  }
 ],
 "metadata": {
  "kernelspec": {
   "display_name": "Python 3 (ipykernel)",
   "language": "python",
   "name": "python3"
  },
  "language_info": {
   "codemirror_mode": {
    "name": "ipython",
    "version": 3
   },
   "file_extension": ".py",
   "mimetype": "text/x-python",
   "name": "python",
   "nbconvert_exporter": "python",
   "pygments_lexer": "ipython3",
   "version": "3.9.12"
  }
 },
 "nbformat": 4,
 "nbformat_minor": 5
}
