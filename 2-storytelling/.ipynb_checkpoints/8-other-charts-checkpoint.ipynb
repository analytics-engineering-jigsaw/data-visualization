{
 "cells": [
  {
   "cell_type": "code",
   "execution_count": null,
   "id": "bb256f12-63a2-4c4a-9239-3f471c12ae86",
   "metadata": {},
   "outputs": [],
   "source": []
  },
  {
   "cell_type": "markdown",
   "id": "8b7a67cb-46e8-4842-ae73-cb91ad69fdea",
   "metadata": {},
   "source": [
    "\n",
    "3. Time series comparison\n",
    "    * Interested in how it *changes over time*.\n",
    "    * Remember, may need to control for same time period (day/store previous year).\n",
    "4. Histograms\n",
    "    * Histograms are really a kind of comparison -- it's a comparison through the distribution.  \n",
    "    * Here with a histogram -- we mean to show the distribution -- as opposed to the distribution across categories.\n",
    "    \n",
    "5. Correlation comparison\n",
    "    * Our target increases with, varies with\n",
    "    * Also can show no correlation -- eg. Sales do not increase with experience.\n",
    "    "
   ]
  },
  {
   "cell_type": "code",
   "execution_count": null,
   "id": "bfd11468-10f0-462d-ba2a-f24d406f95a6",
   "metadata": {},
   "outputs": [],
   "source": []
  }
 ],
 "metadata": {
  "kernelspec": {
   "display_name": "Python 3 (ipykernel)",
   "language": "python",
   "name": "python3"
  },
  "language_info": {
   "codemirror_mode": {
    "name": "ipython",
    "version": 3
   },
   "file_extension": ".py",
   "mimetype": "text/x-python",
   "name": "python",
   "nbconvert_exporter": "python",
   "pygments_lexer": "ipython3",
   "version": "3.9.12"
  }
 },
 "nbformat": 4,
 "nbformat_minor": 5
}
