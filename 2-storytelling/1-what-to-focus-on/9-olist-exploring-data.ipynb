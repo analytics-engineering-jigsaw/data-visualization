{
 "cells": [
  {
   "cell_type": "markdown",
   "id": "9108b757-c7fb-4b53-86dd-6b5e3e819cab",
   "metadata": {},
   "source": [
    "# Olist exploring data lab"
   ]
  },
  {
   "cell_type": "markdown",
   "id": "72f33aea-ea13-4a38-a488-5e2301749482",
   "metadata": {},
   "source": [
    "### Introduction"
   ]
  },
  {
   "cell_type": "markdown",
   "id": "7dc1d911-02b1-4b10-856a-96634b49a943",
   "metadata": {},
   "source": [
    "Now that we have cleaned and selected our data, the next step is to explore it."
   ]
  },
  {
   "cell_type": "markdown",
   "id": "fbf2d4f8-75d4-48d9-839c-b62d32019625",
   "metadata": {},
   "source": [
    "### Loading our data"
   ]
  },
  {
   "cell_type": "markdown",
   "id": "9c3785e2-347d-4c21-b148-8aa9d3a4210d",
   "metadata": {},
   "source": [
    "First we'll load up the data."
   ]
  },
  {
   "cell_type": "code",
   "execution_count": null,
   "id": "66541120-ffca-43d7-9c3b-dc7e23a1beb1",
   "metadata": {},
   "outputs": [],
   "source": [
    "# !pip3 install s3fs"
   ]
  },
  {
   "cell_type": "code",
   "execution_count": 1,
   "id": "cee03a44-41cc-48b0-b6c6-4d45a4ea4655",
   "metadata": {},
   "outputs": [],
   "source": [
    "import pandas as pd\n",
    "url = \"s3://jigsaw-labs-student/olist-data/olist_2017_2018.csv\"\n",
    "selected_df = pd.read_csv(url)"
   ]
  },
  {
   "cell_type": "code",
   "execution_count": 2,
   "id": "44c456aa-a1c2-47f4-8520-3c7caa5eb949",
   "metadata": {},
   "outputs": [
    {
     "data": {
      "text/html": [
       "<div>\n",
       "<style scoped>\n",
       "    .dataframe tbody tr th:only-of-type {\n",
       "        vertical-align: middle;\n",
       "    }\n",
       "\n",
       "    .dataframe tbody tr th {\n",
       "        vertical-align: top;\n",
       "    }\n",
       "\n",
       "    .dataframe thead th {\n",
       "        text-align: right;\n",
       "    }\n",
       "</style>\n",
       "<table border=\"1\" class=\"dataframe\">\n",
       "  <thead>\n",
       "    <tr style=\"text-align: right;\">\n",
       "      <th></th>\n",
       "      <th>customer_zip_code_prefix</th>\n",
       "      <th>customer_city</th>\n",
       "      <th>customer_state</th>\n",
       "      <th>product_category_name</th>\n",
       "      <th>order_id</th>\n",
       "      <th>customer_id</th>\n",
       "      <th>product_id</th>\n",
       "      <th>price</th>\n",
       "      <th>purchase_timeYear</th>\n",
       "      <th>purchase_timeMonth</th>\n",
       "      <th>purchase_timeWeek</th>\n",
       "      <th>purchase_timeDay</th>\n",
       "      <th>purchase_timeDayofweek</th>\n",
       "      <th>purchase_timeDayofyear</th>\n",
       "      <th>purchase_timeElapsed</th>\n",
       "    </tr>\n",
       "  </thead>\n",
       "  <tbody>\n",
       "    <tr>\n",
       "      <th>0</th>\n",
       "      <td>3149</td>\n",
       "      <td>sao paulo</td>\n",
       "      <td>SP</td>\n",
       "      <td>utilidades_domesticas</td>\n",
       "      <td>e481f51cbdc54678b7cc49136f2d6af7</td>\n",
       "      <td>9ef432eb6251297304e76186b10a928d</td>\n",
       "      <td>87285b34884572647811a353c7ac498a</td>\n",
       "      <td>29.99</td>\n",
       "      <td>2017</td>\n",
       "      <td>10</td>\n",
       "      <td>40</td>\n",
       "      <td>2</td>\n",
       "      <td>0</td>\n",
       "      <td>275</td>\n",
       "      <td>1506941793</td>\n",
       "    </tr>\n",
       "    <tr>\n",
       "      <th>1</th>\n",
       "      <td>88032</td>\n",
       "      <td>florianopolis</td>\n",
       "      <td>SC</td>\n",
       "      <td>utilidades_domesticas</td>\n",
       "      <td>bfc39df4f36c3693ff3b63fcbea9e90a</td>\n",
       "      <td>53904ddbea91e1e92b2b3f1d09a7af86</td>\n",
       "      <td>87285b34884572647811a353c7ac498a</td>\n",
       "      <td>29.99</td>\n",
       "      <td>2017</td>\n",
       "      <td>10</td>\n",
       "      <td>43</td>\n",
       "      <td>23</td>\n",
       "      <td>0</td>\n",
       "      <td>296</td>\n",
       "      <td>1508801206</td>\n",
       "    </tr>\n",
       "  </tbody>\n",
       "</table>\n",
       "</div>"
      ],
      "text/plain": [
       "   customer_zip_code_prefix  customer_city customer_state  \\\n",
       "0                      3149      sao paulo             SP   \n",
       "1                     88032  florianopolis             SC   \n",
       "\n",
       "   product_category_name                          order_id  \\\n",
       "0  utilidades_domesticas  e481f51cbdc54678b7cc49136f2d6af7   \n",
       "1  utilidades_domesticas  bfc39df4f36c3693ff3b63fcbea9e90a   \n",
       "\n",
       "                        customer_id                        product_id  price  \\\n",
       "0  9ef432eb6251297304e76186b10a928d  87285b34884572647811a353c7ac498a  29.99   \n",
       "1  53904ddbea91e1e92b2b3f1d09a7af86  87285b34884572647811a353c7ac498a  29.99   \n",
       "\n",
       "   purchase_timeYear  purchase_timeMonth  purchase_timeWeek  purchase_timeDay  \\\n",
       "0               2017                  10                 40                 2   \n",
       "1               2017                  10                 43                23   \n",
       "\n",
       "   purchase_timeDayofweek  purchase_timeDayofyear  purchase_timeElapsed  \n",
       "0                       0                     275            1506941793  \n",
       "1                       0                     296            1508801206  "
      ]
     },
     "execution_count": 2,
     "metadata": {},
     "output_type": "execute_result"
    }
   ],
   "source": [
    "selected_df[:2]"
   ]
  },
  {
   "cell_type": "markdown",
   "id": "c0e8258e-9884-4793-9093-06f0becf9c07",
   "metadata": {},
   "source": [
    "And we also recommend grouping the columns into different lists (this way we don't have to print all of our columns at once)."
   ]
  },
  {
   "cell_type": "code",
   "execution_count": 3,
   "id": "47b11844-f5e3-4047-a124-4bcd9e6fc9ca",
   "metadata": {},
   "outputs": [],
   "source": [
    "target_cols = 'price'\n",
    "\n",
    "id_cols = ['order_id', 'customer_id', 'product_id']\n",
    "geo_cols = ['customer_zip_code_prefix']\n",
    "customer_cols = ['customer_city', 'customer_state']\n",
    "product_cols = ['product_category_name']\n",
    "purchase_time_cols = ['purchase_timeYear', 'purchase_timeMonth', 'purchase_timeWeek',\n",
    "       'purchase_timeDay', 'purchase_timeDayofweek', 'purchase_timeDayofyear',\n",
    "       'purchase_timeElapsed']"
   ]
  },
  {
   "cell_type": "markdown",
   "id": "56b987a9-ec71-4088-98ba-d4c1eed451b8",
   "metadata": {},
   "source": [
    "### Exploring the data"
   ]
  },
  {
   "cell_type": "markdown",
   "id": "a272b88d-2ef3-4338-a0e9-0720e292a597",
   "metadata": {},
   "source": [
    "Below, with the 80 - 20 principle in mind, explore different dimensions of the data.  And dig deeper where necessary."
   ]
  }
 ],
 "metadata": {
  "kernelspec": {
   "display_name": "Python 3 (ipykernel)",
   "language": "python",
   "name": "python3"
  },
  "language_info": {
   "codemirror_mode": {
    "name": "ipython",
    "version": 3
   },
   "file_extension": ".py",
   "mimetype": "text/x-python",
   "name": "python",
   "nbconvert_exporter": "python",
   "pygments_lexer": "ipython3",
   "version": "3.9.12"
  }
 },
 "nbformat": 4,
 "nbformat_minor": 5
}
