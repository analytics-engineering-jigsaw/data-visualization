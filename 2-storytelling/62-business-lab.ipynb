{
 "cells": [
  {
   "cell_type": "markdown",
   "id": "ab4dabc6-c0fb-4677-8291-4e0dd720c0a5",
   "metadata": {},
   "source": [
    "# Business Lab"
   ]
  },
  {
   "cell_type": "markdown",
   "id": "03a3c33c-3324-41cd-8596-d2aef3194167",
   "metadata": {},
   "source": [
    "* Sketch a chart of Toysits share of industry sales compared with it's competitors."
   ]
  },
  {
   "cell_type": "markdown",
   "id": "b9c0f58c-1427-4994-a18d-7a93dea48e87",
   "metadata": {},
   "source": [
    "| Company | Industry Sales |\n",
    "|---------|----------------|\n",
    "| Toysits | 19.1%          |\n",
    "| A       | 10.1%          |\n",
    "| B       | 16.6%          |\n",
    "| C       | 12.4%          |\n",
    "| D       | 31.8%          |\n",
    "| E       | 9.8%           |"
   ]
  },
  {
   "cell_type": "markdown",
   "id": "e8558083-e9ab-41d5-b41c-48d699771672",
   "metadata": {},
   "source": [
    "Exhibit 2\n",
    "\n",
    "* Look at return on assets"
   ]
  },
  {
   "cell_type": "markdown",
   "id": "7c2bcca1-0ba5-459a-aa1b-9da5987bb640",
   "metadata": {},
   "source": [
    "| Company | Return on Assets |\n",
    "|---------|------------------|\n",
    "| Toysits | 8.3%             |\n",
    "| A       | 9.8%             |\n",
    "| B       | 15.9%            |\n",
    "| C       | 22.4%            |\n",
    "| D       | 14.7%            |\n",
    "| E       | 19.1%            |"
   ]
  },
  {
   "cell_type": "markdown",
   "id": "97515d2e-09fd-4535-93b2-0aa8eba39639",
   "metadata": {},
   "source": [
    "* Demonstrate the trends for Toysits btwn 97 and 2001, using 97 as a baseline, and showing succeeding years as a percentage of the baseline."
   ]
  },
  {
   "cell_type": "markdown",
   "id": "77637fd1-3206-4425-a95f-89bacf3d882e",
   "metadata": {},
   "source": [
    "<img src=\"./baseline.png\" width=\"60%\">"
   ]
  },
  {
   "cell_type": "markdown",
   "id": "05e55852-57e6-476c-974a-cec00cded84d",
   "metadata": {},
   "source": [
    "<img src=\"./sales.png\" width=\"60%\">"
   ]
  },
  {
   "cell_type": "markdown",
   "id": "d478c3a0-2a32-4439-a07b-e635a75eb6e9",
   "metadata": {},
   "source": [
    "* Show the trends of sales vs earnings"
   ]
  },
  {
   "cell_type": "markdown",
   "id": "34265c3b-4a44-4afb-b0a9-6cd619479c00",
   "metadata": {},
   "source": [
    "<img src=\"./sales-earnings.png\" width=\"60%\">"
   ]
  },
  {
   "cell_type": "markdown",
   "id": "fae2b85a-01de-4515-b7fe-f545d9d53145",
   "metadata": {},
   "source": [
    "<img src=\"./s-e-graph.png\" width=\"60%\">"
   ]
  },
  {
   "cell_type": "code",
   "execution_count": null,
   "id": "aa135e73-f379-40a0-9d20-b224cb5f1993",
   "metadata": {},
   "outputs": [],
   "source": []
  }
 ],
 "metadata": {
  "kernelspec": {
   "display_name": "Python 3 (ipykernel)",
   "language": "python",
   "name": "python3"
  },
  "language_info": {
   "codemirror_mode": {
    "name": "ipython",
    "version": 3
   },
   "file_extension": ".py",
   "mimetype": "text/x-python",
   "name": "python",
   "nbconvert_exporter": "python",
   "pygments_lexer": "ipython3",
   "version": "3.9.12"
  }
 },
 "nbformat": 4,
 "nbformat_minor": 5
}
