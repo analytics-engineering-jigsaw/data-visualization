{
 "cells": [
  {
   "cell_type": "markdown",
   "id": "d9173010-df41-425d-978c-e7220917ac68",
   "metadata": {},
   "source": [
    "# Power Products Lab"
   ]
  },
  {
   "cell_type": "markdown",
   "id": "89019e2f",
   "metadata": {},
   "source": [
    "### Introduction"
   ]
  },
  {
   "cell_type": "markdown",
   "id": "7148d215",
   "metadata": {},
   "source": [
    "In this lesson, let's stick with our dataset of working with transaction data.  However, instead use our cumulative percentage to determine our power products.\n",
    "\n",
    "Let's write a query to calculate the running total of revenue brought in by product."
   ]
  },
  {
   "cell_type": "markdown",
   "id": "6c008f6a-d5a4-4d6f-bc10-94a577b3d271",
   "metadata": {},
   "source": [
    "### Loading our data"
   ]
  },
  {
   "cell_type": "code",
   "execution_count": 1,
   "id": "cfecc7ce-51fa-457d-84a7-c89f6d4587f3",
   "metadata": {},
   "outputs": [
    {
     "data": {
      "text/html": [
       "<div>\n",
       "<style scoped>\n",
       "    .dataframe tbody tr th:only-of-type {\n",
       "        vertical-align: middle;\n",
       "    }\n",
       "\n",
       "    .dataframe tbody tr th {\n",
       "        vertical-align: top;\n",
       "    }\n",
       "\n",
       "    .dataframe thead th {\n",
       "        text-align: right;\n",
       "    }\n",
       "</style>\n",
       "<table border=\"1\" class=\"dataframe\">\n",
       "  <thead>\n",
       "    <tr style=\"text-align: right;\">\n",
       "      <th></th>\n",
       "      <th>Transaction_id</th>\n",
       "      <th>customer_id</th>\n",
       "      <th>Date</th>\n",
       "      <th>Product</th>\n",
       "      <th>Gender</th>\n",
       "      <th>Device_Type</th>\n",
       "      <th>Country</th>\n",
       "      <th>State</th>\n",
       "      <th>City</th>\n",
       "      <th>Category</th>\n",
       "      <th>Customer_Login_type</th>\n",
       "      <th>Delivery_Type</th>\n",
       "      <th>Quantity</th>\n",
       "      <th>Transaction Start</th>\n",
       "      <th>Transaction_Result</th>\n",
       "      <th>Amount US$</th>\n",
       "      <th>Individual_Price_US$</th>\n",
       "      <th>Year_Month</th>\n",
       "      <th>Time</th>\n",
       "    </tr>\n",
       "  </thead>\n",
       "  <tbody>\n",
       "    <tr>\n",
       "      <th>0</th>\n",
       "      <td>40170</td>\n",
       "      <td>1348959766</td>\n",
       "      <td>14/11/2013</td>\n",
       "      <td>Hair Band</td>\n",
       "      <td>Female</td>\n",
       "      <td>Web</td>\n",
       "      <td>United States</td>\n",
       "      <td>New York</td>\n",
       "      <td>New York City</td>\n",
       "      <td>Accessories</td>\n",
       "      <td>Member</td>\n",
       "      <td>one-day deliver</td>\n",
       "      <td>12</td>\n",
       "      <td>1</td>\n",
       "      <td>0</td>\n",
       "      <td>6,910</td>\n",
       "      <td>576</td>\n",
       "      <td>13-Nov</td>\n",
       "      <td>22:35:51</td>\n",
       "    </tr>\n",
       "    <tr>\n",
       "      <th>1</th>\n",
       "      <td>33374</td>\n",
       "      <td>2213674919</td>\n",
       "      <td>05/11/2013</td>\n",
       "      <td>Hair Band</td>\n",
       "      <td>Female</td>\n",
       "      <td>Web</td>\n",
       "      <td>United States</td>\n",
       "      <td>California</td>\n",
       "      <td>Los Angles</td>\n",
       "      <td>Accessories</td>\n",
       "      <td>Member</td>\n",
       "      <td>one-day deliver</td>\n",
       "      <td>17</td>\n",
       "      <td>1</td>\n",
       "      <td>1</td>\n",
       "      <td>1,699</td>\n",
       "      <td>100</td>\n",
       "      <td>13-Nov</td>\n",
       "      <td>06:44:41</td>\n",
       "    </tr>\n",
       "  </tbody>\n",
       "</table>\n",
       "</div>"
      ],
      "text/plain": [
       "   Transaction_id  customer_id        Date    Product  Gender Device_Type  \\\n",
       "0           40170   1348959766  14/11/2013  Hair Band  Female         Web   \n",
       "1           33374   2213674919  05/11/2013  Hair Band  Female         Web   \n",
       "\n",
       "         Country       State           City     Category Customer_Login_type  \\\n",
       "0  United States    New York  New York City  Accessories              Member   \n",
       "1  United States  California     Los Angles  Accessories              Member   \n",
       "\n",
       "     Delivery_Type   Quantity   Transaction Start  Transaction_Result  \\\n",
       "0  one-day deliver          12                  1                   0   \n",
       "1  one-day deliver          17                  1                   1   \n",
       "\n",
       "  Amount US$ Individual_Price_US$ Year_Month      Time  \n",
       "0      6,910                  576     13-Nov  22:35:51  \n",
       "1      1,699                  100     13-Nov  06:44:41  "
      ]
     },
     "execution_count": 1,
     "metadata": {},
     "output_type": "execute_result"
    }
   ],
   "source": [
    "import warnings\n",
    "warnings.simplefilter(action='ignore')\n",
    "import pandas as pd\n",
    "url = \"https://raw.githubusercontent.com/analytics-engineering-jigsaw/data-visualization/main/2-storytelling/1-what-to-focus-on/ecommerce-dataset.csv\"\n",
    "\n",
    "transasctions_df = pd.read_csv(url, index_col = 0)\n",
    "transasctions_df[:2]"
   ]
  },
  {
   "cell_type": "markdown",
   "id": "33066b82-2f48-41d7-8ad5-d0457fc0b4a3",
   "metadata": {},
   "source": [
    "So we have our original dataset."
   ]
  },
  {
   "cell_type": "markdown",
   "id": "62f1a0a5-46c8-4fc5-b693-15a71ddfc809",
   "metadata": {},
   "source": [
    "### Cleaning the data"
   ]
  },
  {
   "cell_type": "markdown",
   "id": "60003795-31b1-4665-9bc2-95524cddccd3",
   "metadata": {},
   "source": [
    "And remember that the `'Amount US$'` is the total amount spent in a given checkout.  So start by cleaning that amount, turning it into a number, and then adding a new column to the dataframe called `amount_spent`."
   ]
  },
  {
   "cell_type": "code",
   "execution_count": 10,
   "id": "8bbe7886-7fe3-4dd0-a4a1-ef51978d9a63",
   "metadata": {},
   "outputs": [],
   "source": [
    "total_amount = pd.to_numeric(transasctions_df['Amount US$'].str.replace(',', ''))\n",
    "# total_amount[:3]"
   ]
  },
  {
   "cell_type": "code",
   "execution_count": 9,
   "id": "fdf88d0f-2ddb-416a-9908-36546171f11b",
   "metadata": {},
   "outputs": [
    {
     "data": {
      "text/plain": [
       "0    6910.0\n",
       "1    1699.0\n",
       "2    4998.0\n",
       "Name: amount_spent, dtype: float64"
      ]
     },
     "execution_count": 9,
     "metadata": {},
     "output_type": "execute_result"
    }
   ],
   "source": [
    "updated_txn_df = transasctions_df.assign(amount_spent = total_amount)\n",
    "updated_txn_df['amount_spent'][:3]\n",
    "\n",
    "# 0    6910.0\n",
    "# 1    1699.0\n",
    "# 2    4998.0\n",
    "# Name: amount_spent, dtype: float64"
   ]
  },
  {
   "cell_type": "markdown",
   "id": "b972e6d6-f365-43c6-9a50-91af85ea4503",
   "metadata": {},
   "source": [
    "### Grouping by product"
   ]
  },
  {
   "cell_type": "markdown",
   "id": "34947bf3-768d-4c65-8bf1-60b0796c2f85",
   "metadata": {},
   "source": [
    "Ok, so now let's produce the following cumulative percent dataframe.  "
   ]
  },
  {
   "cell_type": "markdown",
   "id": "b38a6c2f-848c-4079-8aac-c1313dc66f64",
   "metadata": {},
   "source": [
    "<img src=\"./product-grouped.png\" width=\"50%\">"
   ]
  },
  {
   "cell_type": "markdown",
   "id": "9e65d1da-abc2-4263-83b6-3212b5a7cf28",
   "metadata": {},
   "source": [
    "So we can see from the above, that the top five products account for almost 90 percent of our revenue.  And two products account for 60% of revenue.  Seems like we better learn a lot about face creams and shirts."
   ]
  },
  {
   "cell_type": "markdown",
   "id": "332c9489-b870-48be-8905-e2666a69002e",
   "metadata": {},
   "source": [
    "### Analyzing the data"
   ]
  },
  {
   "cell_type": "markdown",
   "id": "d05c84dc-3f87-4381-8f62-f09d8b35d73e",
   "metadata": {},
   "source": [
    "So next it's time to analyze this subset of the data.  So get back to the original dataframe, and just select those records related to Fairness Cream and shirts."
   ]
  },
  {
   "cell_type": "code",
   "execution_count": 24,
   "id": "3e095324-e77d-4f31-ae88-8984f007a52f",
   "metadata": {},
   "outputs": [
    {
     "data": {
      "text/html": [
       "<div>\n",
       "<style scoped>\n",
       "    .dataframe tbody tr th:only-of-type {\n",
       "        vertical-align: middle;\n",
       "    }\n",
       "\n",
       "    .dataframe tbody tr th {\n",
       "        vertical-align: top;\n",
       "    }\n",
       "\n",
       "    .dataframe thead th {\n",
       "        text-align: right;\n",
       "    }\n",
       "</style>\n",
       "<table border=\"1\" class=\"dataframe\">\n",
       "  <thead>\n",
       "    <tr style=\"text-align: right;\">\n",
       "      <th></th>\n",
       "      <th>Transaction_id</th>\n",
       "      <th>customer_id</th>\n",
       "      <th>Date</th>\n",
       "      <th>Product</th>\n",
       "      <th>Gender</th>\n",
       "      <th>Device_Type</th>\n",
       "      <th>Country</th>\n",
       "      <th>State</th>\n",
       "      <th>City</th>\n",
       "      <th>Category</th>\n",
       "      <th>Customer_Login_type</th>\n",
       "      <th>Delivery_Type</th>\n",
       "      <th>Quantity</th>\n",
       "      <th>Transaction Start</th>\n",
       "      <th>Transaction_Result</th>\n",
       "      <th>Amount US$</th>\n",
       "      <th>Individual_Price_US$</th>\n",
       "      <th>Year_Month</th>\n",
       "      <th>Time</th>\n",
       "      <th>amount_spent</th>\n",
       "    </tr>\n",
       "  </thead>\n",
       "  <tbody>\n",
       "    <tr>\n",
       "      <th>0</th>\n",
       "      <td>40170</td>\n",
       "      <td>1348959766</td>\n",
       "      <td>14/11/2013</td>\n",
       "      <td>Hair Band</td>\n",
       "      <td>Female</td>\n",
       "      <td>Web</td>\n",
       "      <td>United States</td>\n",
       "      <td>New York</td>\n",
       "      <td>New York City</td>\n",
       "      <td>Accessories</td>\n",
       "      <td>Member</td>\n",
       "      <td>one-day deliver</td>\n",
       "      <td>12</td>\n",
       "      <td>1</td>\n",
       "      <td>0</td>\n",
       "      <td>6,910</td>\n",
       "      <td>576</td>\n",
       "      <td>13-Nov</td>\n",
       "      <td>22:35:51</td>\n",
       "      <td>6910.0</td>\n",
       "    </tr>\n",
       "    <tr>\n",
       "      <th>1</th>\n",
       "      <td>33374</td>\n",
       "      <td>2213674919</td>\n",
       "      <td>05/11/2013</td>\n",
       "      <td>Hair Band</td>\n",
       "      <td>Female</td>\n",
       "      <td>Web</td>\n",
       "      <td>United States</td>\n",
       "      <td>California</td>\n",
       "      <td>Los Angles</td>\n",
       "      <td>Accessories</td>\n",
       "      <td>Member</td>\n",
       "      <td>one-day deliver</td>\n",
       "      <td>17</td>\n",
       "      <td>1</td>\n",
       "      <td>1</td>\n",
       "      <td>1,699</td>\n",
       "      <td>100</td>\n",
       "      <td>13-Nov</td>\n",
       "      <td>06:44:41</td>\n",
       "      <td>1699.0</td>\n",
       "    </tr>\n",
       "  </tbody>\n",
       "</table>\n",
       "</div>"
      ],
      "text/plain": [
       "   Transaction_id  customer_id        Date    Product  Gender Device_Type  \\\n",
       "0           40170   1348959766  14/11/2013  Hair Band  Female         Web   \n",
       "1           33374   2213674919  05/11/2013  Hair Band  Female         Web   \n",
       "\n",
       "         Country       State           City     Category Customer_Login_type  \\\n",
       "0  United States    New York  New York City  Accessories              Member   \n",
       "1  United States  California     Los Angles  Accessories              Member   \n",
       "\n",
       "     Delivery_Type   Quantity   Transaction Start  Transaction_Result  \\\n",
       "0  one-day deliver          12                  1                   0   \n",
       "1  one-day deliver          17                  1                   1   \n",
       "\n",
       "  Amount US$ Individual_Price_US$ Year_Month      Time  amount_spent  \n",
       "0      6,910                  576     13-Nov  22:35:51        6910.0  \n",
       "1      1,699                  100     13-Nov  06:44:41        1699.0  "
      ]
     },
     "execution_count": 24,
     "metadata": {},
     "output_type": "execute_result"
    }
   ],
   "source": [
    "updated_txn_df[:2]"
   ]
  },
  {
   "cell_type": "markdown",
   "id": "28662999-07c4-486d-918c-52e157f52c63",
   "metadata": {},
   "source": [
    "> Please do this by using the `loc` method."
   ]
  },
  {
   "cell_type": "code",
   "execution_count": 26,
   "id": "73934390-1e25-4d4d-902f-cf1c93894e3b",
   "metadata": {},
   "outputs": [],
   "source": []
  },
  {
   "cell_type": "code",
   "execution_count": 3,
   "id": "ececbe71-c9e2-41d0-82c3-236958a42546",
   "metadata": {},
   "outputs": [],
   "source": [
    "# \n",
    "\n",
    "power_product_txns = None\n",
    "# power_product_txns[:2]\n",
    "\n",
    "# \tTransaction_id\tcustomer_id\tDate\tProduct\tGender\tDevice_Type\tCountry\tState\tCity\tCategory\tCustomer_Login_type\tDelivery_Type\tQuantity\tTransaction Start\tTransaction_Result\tAmount US$\tIndividual_Price_US$\tYear_Month\tTime\tamount_spent\n",
    "# Product\t\t\t\t\t\t\t\t\t\t\t\t\t\t\t\t\t\t\t\t\n",
    "# Fairness Cream\t25926\t1470913235\t24/10/2013\tFairness Cream\tFemale\tWeb\tUnited States\tNew York\tNew York City\tFashion\tMember\tone-day deliver\t15\t1\t1\t0\t0\t13-Oct\t15:25:17\t0.0\n",
    "# Fairness Cream\t26380\t1576274140\t25/10/2013\tFairness Cream\tFemale\tWeb\tUnited States\tNew York\tNew York City\tFashion"
   ]
  },
  {
   "cell_type": "markdown",
   "id": "0aaf7e9d-21d4-4122-ae3b-d6f73b4856d3",
   "metadata": {},
   "source": [
    "And also select the non-power product txns."
   ]
  },
  {
   "cell_type": "code",
   "execution_count": null,
   "id": "c3ab18d6-f891-4919-a294-7109f5c06a4d",
   "metadata": {},
   "outputs": [],
   "source": []
  },
  {
   "cell_type": "code",
   "execution_count": 4,
   "id": "2fa72772-59ae-4d44-be50-298d62d312ca",
   "metadata": {},
   "outputs": [],
   "source": [
    "non_power_product_txns = None\n",
    "\n",
    "# non_power_product_txns[:2]\n",
    "\n",
    "# \tTransaction_id\tcustomer_id\tDate\tProduct\tGender\tDevice_Type\tCountry\tState\tCity\tCategory\tCustomer_Login_type\tDelivery_Type\tQuantity\tTransaction Start\tTransaction_Result\tAmount US$\tIndividual_Price_US$\tYear_Month\tTime\tamount_spent\n",
    "# Product\t\t\t\t\t\t\t\t\t\t\t\t\t\t\t\t\t\t\t\t\n",
    "# Bag\t27770\t1438207607\t28/10/2013\tBag\tFemale\tMobile\tUnited States\tNew York\tNew York City\tFashion\tMember\tone-day deliver\t20\t1\t1\t4,840\t242\t13-Oct\t08:41:19\t4840.0\n",
    "# Bag\t29188\t2047555294\t30/10/2013\tBag\tFemale\tMobile\tUnited States\tNew York\tNew York City\tFashion\tMember\tone-day deliver\t17\t1\t1\t437\t26\t13-Oct\t21:17:16\t437.0"
   ]
  },
  {
   "cell_type": "markdown",
   "id": "c9fb5c8b-f6d2-42f5-98d0-148ddba123e8",
   "metadata": {},
   "source": [
    "### Plotting the data"
   ]
  },
  {
   "cell_type": "markdown",
   "id": "c417927e-df0f-418c-a568-b71929a5c5e7",
   "metadata": {},
   "source": [
    "Ok, so now we can use our build_and_print function to see if there are any differences between our products and our non_power_products.  We organized the different features into groups."
   ]
  },
  {
   "cell_type": "code",
   "execution_count": 62,
   "id": "c17b5a39-5fe3-42c6-85cf-1ac4620c918a",
   "metadata": {},
   "outputs": [],
   "source": [
    "customer_cols = ['Gender', 'City'] # 'State'\n",
    "\n",
    "time_cols = ['month', 'week', 'dow', 'hour']\n",
    "\n",
    "product_cols = ['Product', 'Category', 'individual_price']\n",
    "\n",
    "channel_cols = ['Device_Type', 'Customer_Login_type', 'Delivery_Type']\n",
    "\n",
    "transaction_cols = ['transaction_id', 'quantity', 'transaction_start', 'transaction_result']"
   ]
  },
  {
   "cell_type": "markdown",
   "id": "77b216b0-38b3-4dc0-89fc-3a0d1dfa63a1",
   "metadata": {},
   "source": [
    "So begin by plotting how our power_products breakdown by our `customer_cols`.  Then see how the `non_power_products` plot for the `customer_cols`."
   ]
  },
  {
   "cell_type": "code",
   "execution_count": null,
   "id": "8a69d8d7-4e3d-460e-a503-a9d9a584beba",
   "metadata": {},
   "outputs": [],
   "source": [
    "from item_lib import *\n",
    "\n",
    "power_products_customers = None"
   ]
  },
  {
   "cell_type": "markdown",
   "id": "ed38d1a0-5556-4a8f-bf6a-536f1ad19392",
   "metadata": {},
   "source": [
    "> Remember that our `build_and_print` function returns a dictionary of dataframes.  So we can dig deeper into each one."
   ]
  },
  {
   "cell_type": "code",
   "execution_count": 71,
   "id": "bc94b4b1-ea63-432e-8209-350880c6fa95",
   "metadata": {},
   "outputs": [
    {
     "data": {
      "text/plain": [
       "dict_keys(['Gender', 'City'])"
      ]
     },
     "execution_count": 71,
     "metadata": {},
     "output_type": "execute_result"
    }
   ],
   "source": [
    "power_products_customers.keys()"
   ]
  },
  {
   "cell_type": "code",
   "execution_count": 70,
   "id": "be395b89-bf4c-43b2-bfc2-27564cb403ca",
   "metadata": {},
   "outputs": [
    {
     "data": {
      "text/html": [
       "<div>\n",
       "<style scoped>\n",
       "    .dataframe tbody tr th:only-of-type {\n",
       "        vertical-align: middle;\n",
       "    }\n",
       "\n",
       "    .dataframe tbody tr th {\n",
       "        vertical-align: top;\n",
       "    }\n",
       "\n",
       "    .dataframe thead th {\n",
       "        text-align: right;\n",
       "    }\n",
       "</style>\n",
       "<table border=\"1\" class=\"dataframe\">\n",
       "  <thead>\n",
       "    <tr style=\"text-align: right;\">\n",
       "      <th></th>\n",
       "      <th>sum</th>\n",
       "    </tr>\n",
       "    <tr>\n",
       "      <th>Gender</th>\n",
       "      <th></th>\n",
       "    </tr>\n",
       "  </thead>\n",
       "  <tbody>\n",
       "    <tr>\n",
       "      <th>Male</th>\n",
       "      <td>0.652</td>\n",
       "    </tr>\n",
       "    <tr>\n",
       "      <th>Female</th>\n",
       "      <td>0.348</td>\n",
       "    </tr>\n",
       "  </tbody>\n",
       "</table>\n",
       "</div>"
      ],
      "text/plain": [
       "          sum\n",
       "Gender       \n",
       "Male    0.652\n",
       "Female  0.348"
      ]
     },
     "execution_count": 70,
     "metadata": {},
     "output_type": "execute_result"
    }
   ],
   "source": [
    "power_products_customers['Gender']"
   ]
  },
  {
   "cell_type": "code",
   "execution_count": 72,
   "id": "f48b65b5-93ac-459f-9b66-ea6ae1f8278b",
   "metadata": {},
   "outputs": [
    {
     "data": {
      "text/html": [
       "<div>\n",
       "<style scoped>\n",
       "    .dataframe tbody tr th:only-of-type {\n",
       "        vertical-align: middle;\n",
       "    }\n",
       "\n",
       "    .dataframe tbody tr th {\n",
       "        vertical-align: top;\n",
       "    }\n",
       "\n",
       "    .dataframe thead th {\n",
       "        text-align: right;\n",
       "    }\n",
       "</style>\n",
       "<table border=\"1\" class=\"dataframe\">\n",
       "  <thead>\n",
       "    <tr style=\"text-align: right;\">\n",
       "      <th></th>\n",
       "      <th>sum</th>\n",
       "    </tr>\n",
       "    <tr>\n",
       "      <th>City</th>\n",
       "      <th></th>\n",
       "    </tr>\n",
       "  </thead>\n",
       "  <tbody>\n",
       "    <tr>\n",
       "      <th>Seattle</th>\n",
       "      <td>0.638</td>\n",
       "    </tr>\n",
       "    <tr>\n",
       "      <th>Los Angles</th>\n",
       "      <td>0.312</td>\n",
       "    </tr>\n",
       "    <tr>\n",
       "      <th>New York City</th>\n",
       "      <td>0.050</td>\n",
       "    </tr>\n",
       "  </tbody>\n",
       "</table>\n",
       "</div>"
      ],
      "text/plain": [
       "                 sum\n",
       "City                \n",
       "Seattle        0.638\n",
       "Los Angles     0.312\n",
       "New York City  0.050"
      ]
     },
     "execution_count": 72,
     "metadata": {},
     "output_type": "execute_result"
    }
   ],
   "source": [
    "power_products_customers['City']"
   ]
  },
  {
   "cell_type": "markdown",
   "id": "277947d3-0979-4eb5-b0c1-fb5a06ea95ae",
   "metadata": {},
   "source": [
    "Ok, now see our `non_power_product_txns` breakdown by our customer columns."
   ]
  },
  {
   "cell_type": "code",
   "execution_count": null,
   "id": "a51cc62c-2c1f-460d-932d-84bd84af7ab9",
   "metadata": {},
   "outputs": [],
   "source": []
  },
  {
   "cell_type": "markdown",
   "id": "c6726bd1-443d-48cd-beca-d89c45c09fe6",
   "metadata": {},
   "source": [
    "* Channel columns"
   ]
  },
  {
   "cell_type": "markdown",
   "id": "b93c21b0-92d5-40e2-addb-17a66b819295",
   "metadata": {},
   "source": [
    "Then follow the same procedure for channel columns.  See how the `power_product_txns` perform and how the `non_power_product_txns` breakdown by `channel_cols`.\n",
    "\n",
    "> Power product txns"
   ]
  },
  {
   "cell_type": "code",
   "execution_count": 6,
   "id": "0a8588d9-ed0b-4047-8390-4c00c5603592",
   "metadata": {},
   "outputs": [],
   "source": [
    "from item_lib import *\n",
    "\n",
    "power_products_channels = None"
   ]
  },
  {
   "cell_type": "markdown",
   "id": "150c86cd-e8b1-4b55-bf41-0ff1522b96f3",
   "metadata": {},
   "source": [
    "> Non power product txns"
   ]
  },
  {
   "cell_type": "code",
   "execution_count": 8,
   "id": "91260b6f-d880-43c9-af89-fbf0fcc59c4c",
   "metadata": {},
   "outputs": [],
   "source": [
    "from item_lib import *\n",
    "\n",
    "power_products_channels = None"
   ]
  },
  {
   "cell_type": "markdown",
   "id": "9036f800-cb84-4aa3-9cd9-bc134338eddf",
   "metadata": {},
   "source": [
    "So looking at the above breakdowns, it looks like that our purchases of our power products:\n",
    "    \n",
    "* Tend to be more male\n",
    "* Exclusively purchase through the web"
   ]
  },
  {
   "cell_type": "markdown",
   "id": "68d29a92-5b6b-47bc-ada7-1e37bd6972cb",
   "metadata": {},
   "source": [
    "From here, we could even look more deeply at our data.  For example, we can look at the top products individually to see how they breakdown, and why they perform so well."
   ]
  },
  {
   "cell_type": "markdown",
   "id": "bbcb98da-9b5e-4184-b2ee-475638ba9ea8",
   "metadata": {},
   "source": [
    "### Summary"
   ]
  },
  {
   "cell_type": "markdown",
   "id": "57c25c95-1a76-4661-b3a1-f5e298242e5a",
   "metadata": {},
   "source": [
    "In this lesson we practiced using our 80 20 principle to create a cumulative percentage -- and then comparing the items in that top group, with those that fall outside of the group."
   ]
  },
  {
   "cell_type": "markdown",
   "id": "ca6b6759-4852-4473-bab1-e4c79800f57f",
   "metadata": {},
   "source": [
    "We did so by first grouping, summing and sorting our data.  And then using the `cumsum` function to create a cumulative sum of our data. "
   ]
  },
  {
   "cell_type": "markdown",
   "id": "7d400533-34fc-4ebb-8f23-c172dabff58a",
   "metadata": {},
   "source": [
    "### Bonus\n",
    "\n",
    "* finding the cumulative percentage with window functions in SQL"
   ]
  },
  {
   "cell_type": "code",
   "execution_count": 9,
   "id": "a65d80b0",
   "metadata": {},
   "outputs": [
    {
     "data": {
      "text/html": [
       "<div>\n",
       "<style scoped>\n",
       "    .dataframe tbody tr th:only-of-type {\n",
       "        vertical-align: middle;\n",
       "    }\n",
       "\n",
       "    .dataframe tbody tr th {\n",
       "        vertical-align: top;\n",
       "    }\n",
       "\n",
       "    .dataframe thead th {\n",
       "        text-align: right;\n",
       "    }\n",
       "</style>\n",
       "<table border=\"1\" class=\"dataframe\">\n",
       "  <thead>\n",
       "    <tr style=\"text-align: right;\">\n",
       "      <th></th>\n",
       "      <th>product</th>\n",
       "      <th>total_amount</th>\n",
       "      <th>percentage_spend</th>\n",
       "    </tr>\n",
       "  </thead>\n",
       "  <tbody>\n",
       "    <tr>\n",
       "      <th>0</th>\n",
       "      <td>Fairness Cream</td>\n",
       "      <td>105504507.0</td>\n",
       "      <td>0.351122</td>\n",
       "    </tr>\n",
       "    <tr>\n",
       "      <th>1</th>\n",
       "      <td>Shirt</td>\n",
       "      <td>75400880.0</td>\n",
       "      <td>0.602058</td>\n",
       "    </tr>\n",
       "    <tr>\n",
       "      <th>2</th>\n",
       "      <td>Jean</td>\n",
       "      <td>35546772.0</td>\n",
       "      <td>0.720359</td>\n",
       "    </tr>\n",
       "    <tr>\n",
       "      <th>3</th>\n",
       "      <td>spectacles</td>\n",
       "      <td>25493724.0</td>\n",
       "      <td>0.805203</td>\n",
       "    </tr>\n",
       "    <tr>\n",
       "      <th>4</th>\n",
       "      <td>Shoes</td>\n",
       "      <td>23154294.0</td>\n",
       "      <td>0.882261</td>\n",
       "    </tr>\n",
       "    <tr>\n",
       "      <th>5</th>\n",
       "      <td>Books</td>\n",
       "      <td>17438460.0</td>\n",
       "      <td>0.940297</td>\n",
       "    </tr>\n",
       "    <tr>\n",
       "      <th>6</th>\n",
       "      <td>Bag</td>\n",
       "      <td>10069168.0</td>\n",
       "      <td>0.973807</td>\n",
       "    </tr>\n",
       "    <tr>\n",
       "      <th>7</th>\n",
       "      <td>watNew York Citys</td>\n",
       "      <td>7580836.0</td>\n",
       "      <td>0.999036</td>\n",
       "    </tr>\n",
       "    <tr>\n",
       "      <th>8</th>\n",
       "      <td>Hair Band</td>\n",
       "      <td>184642.0</td>\n",
       "      <td>0.999651</td>\n",
       "    </tr>\n",
       "    <tr>\n",
       "      <th>9</th>\n",
       "      <td>vessels</td>\n",
       "      <td>72061.0</td>\n",
       "      <td>0.999891</td>\n",
       "    </tr>\n",
       "    <tr>\n",
       "      <th>10</th>\n",
       "      <td>Pen Drive</td>\n",
       "      <td>27557.0</td>\n",
       "      <td>0.999982</td>\n",
       "    </tr>\n",
       "    <tr>\n",
       "      <th>11</th>\n",
       "      <td>Cycle</td>\n",
       "      <td>5299.0</td>\n",
       "      <td>1.000000</td>\n",
       "    </tr>\n",
       "  </tbody>\n",
       "</table>\n",
       "</div>"
      ],
      "text/plain": [
       "              product  total_amount  percentage_spend\n",
       "0      Fairness Cream   105504507.0          0.351122\n",
       "1               Shirt    75400880.0          0.602058\n",
       "2                Jean    35546772.0          0.720359\n",
       "3          spectacles    25493724.0          0.805203\n",
       "4               Shoes    23154294.0          0.882261\n",
       "5               Books    17438460.0          0.940297\n",
       "6                 Bag    10069168.0          0.973807\n",
       "7   watNew York Citys     7580836.0          0.999036\n",
       "8           Hair Band      184642.0          0.999651\n",
       "9             vessels       72061.0          0.999891\n",
       "10          Pen Drive       27557.0          0.999982\n",
       "11              Cycle        5299.0          1.000000"
      ]
     },
     "execution_count": 9,
     "metadata": {},
     "output_type": "execute_result"
    }
   ],
   "source": [
    "import pandas as pd\n",
    "\n",
    "query = \"\"\"with  product_spend as (\n",
    "    select product, sum(amount) as total_amount \n",
    "    from transactions where amount is not null\n",
    "    group by product\n",
    "    order by total_amount desc),\n",
    "    product_running_total as (\n",
    "    select product, total_amount,\n",
    "    sum(total_amount) over (order by total_amount desc) as running_total,\n",
    "    sum(total_amount) over () as total_spend\n",
    "    from product_spend)\n",
    "    select product, total_amount, running_total/total_spend as percentage_spend from product_running_total;\n",
    "    \"\"\"\n",
    "\n",
    "product_percentage_spend = pd.read_sql(query, engine)\n",
    "product_percentage_spend\n"
   ]
  },
  {
   "cell_type": "markdown",
   "id": "e7e0d4d0",
   "metadata": {},
   "source": [
    "It seems that we can really just focus on a few products."
   ]
  },
  {
   "cell_type": "markdown",
   "id": "a05d98b2",
   "metadata": {},
   "source": [
    "### Finding Characteristics"
   ]
  },
  {
   "cell_type": "markdown",
   "id": "2308449a",
   "metadata": {},
   "source": [
    "Next, in the cells below, go through the steps of identifying just the transactions involving the first three products.  Save those `power_product_transactions` as a table.  And then use the group by function to perform analysis on those products."
   ]
  },
  {
   "cell_type": "markdown",
   "id": "c19c27e6",
   "metadata": {},
   "source": []
  }
 ],
 "metadata": {
  "kernelspec": {
   "display_name": "Python 3 (ipykernel)",
   "language": "python",
   "name": "python3"
  },
  "language_info": {
   "codemirror_mode": {
    "name": "ipython",
    "version": 3
   },
   "file_extension": ".py",
   "mimetype": "text/x-python",
   "name": "python",
   "nbconvert_exporter": "python",
   "pygments_lexer": "ipython3",
   "version": "3.9.12"
  },
  "vscode": {
   "interpreter": {
    "hash": "b0fa6594d8f4cbf19f97940f81e996739fb7646882a419484c72d19e05852a7e"
   }
  }
 },
 "nbformat": 4,
 "nbformat_minor": 5
}
