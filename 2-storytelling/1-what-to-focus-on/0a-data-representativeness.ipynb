{
 "cells": [
  {
   "cell_type": "markdown",
   "id": "38213dfd-0e3c-494a-894e-e7b8f90a88d3",
   "metadata": {},
   "source": [
    "# Data Representativeness Walkthrough"
   ]
  },
  {
   "cell_type": "markdown",
   "id": "966f14bf-613e-47f7-aa03-b9701030e401",
   "metadata": {},
   "source": [
    "### Introduction"
   ]
  },
  {
   "cell_type": "markdown",
   "id": "1c177de5-d48b-4f79-bf23-e65c787b9992",
   "metadata": {},
   "source": [
    "Ok, so in this lesson we'll move through various techniques for checking a dataset.  And before we do so, just remember the problems that can occur if we don't do so.  Essentially, we may be looking for insights from a dataset that does not reflect the real world.  \n",
    "\n",
    "That is, the data we are capturing may look very dissimilar from our missing data.  And so, we need to consider that before trying to say anything about the underlying population.\n",
    "\n",
    "Ok, speech over, let's see move through some techniques for exploring our dataset. "
   ]
  },
  {
   "cell_type": "markdown",
   "id": "b686dccf-8b72-41d4-a5ac-cfb48de63e3c",
   "metadata": {},
   "source": [
    "### Loading our data"
   ]
  },
  {
   "cell_type": "markdown",
   "id": "bf1baf4b-a007-4a83-abee-087b694fddb2",
   "metadata": {},
   "source": [
    "Remember that our data involves SAT scores from NYC schools."
   ]
  },
  {
   "cell_type": "code",
   "execution_count": 5,
   "id": "27096c15-2b2b-4905-80d6-ee4908932bbf",
   "metadata": {},
   "outputs": [],
   "source": [
    "import pandas as pd\n",
    "url = 'https://raw.githubusercontent.com/analytics-engineering-jigsaw/data-visualization/main/2-storytelling/1-what-to-focus-on/sat_scores.csv'\n",
    "df = pd.read_csv(url, index_col = 0)"
   ]
  },
  {
   "cell_type": "code",
   "execution_count": 6,
   "id": "971f2609-bef0-4c37-bcb4-5e45baaf9241",
   "metadata": {},
   "outputs": [
    {
     "data": {
      "text/html": [
       "<div>\n",
       "<style scoped>\n",
       "    .dataframe tbody tr th:only-of-type {\n",
       "        vertical-align: middle;\n",
       "    }\n",
       "\n",
       "    .dataframe tbody tr th {\n",
       "        vertical-align: top;\n",
       "    }\n",
       "\n",
       "    .dataframe thead th {\n",
       "        text-align: right;\n",
       "    }\n",
       "</style>\n",
       "<table border=\"1\" class=\"dataframe\">\n",
       "  <thead>\n",
       "    <tr style=\"text-align: right;\">\n",
       "      <th></th>\n",
       "      <th>dbn</th>\n",
       "      <th>name</th>\n",
       "      <th>num_test_takers</th>\n",
       "      <th>reading_avg</th>\n",
       "      <th>math_avg</th>\n",
       "      <th>writing_score</th>\n",
       "      <th>boro</th>\n",
       "      <th>total_students</th>\n",
       "      <th>graduation_rate</th>\n",
       "      <th>attendance_rate</th>\n",
       "      <th>college_career_rate</th>\n",
       "    </tr>\n",
       "  </thead>\n",
       "  <tbody>\n",
       "    <tr>\n",
       "      <th>0</th>\n",
       "      <td>01M292</td>\n",
       "      <td>HENRY STREET SCHOOL FOR INTERNATIONAL STUDIES</td>\n",
       "      <td>29.0</td>\n",
       "      <td>355.0</td>\n",
       "      <td>404.0</td>\n",
       "      <td>363.0</td>\n",
       "      <td>M</td>\n",
       "      <td>171</td>\n",
       "      <td>0.66</td>\n",
       "      <td>0.87</td>\n",
       "      <td>0.36</td>\n",
       "    </tr>\n",
       "    <tr>\n",
       "      <th>1</th>\n",
       "      <td>01M448</td>\n",
       "      <td>UNIVERSITY NEIGHBORHOOD HIGH SCHOOL</td>\n",
       "      <td>91.0</td>\n",
       "      <td>383.0</td>\n",
       "      <td>423.0</td>\n",
       "      <td>366.0</td>\n",
       "      <td>M</td>\n",
       "      <td>465</td>\n",
       "      <td>0.90</td>\n",
       "      <td>0.93</td>\n",
       "      <td>0.70</td>\n",
       "    </tr>\n",
       "  </tbody>\n",
       "</table>\n",
       "</div>"
      ],
      "text/plain": [
       "      dbn                                           name  num_test_takers  \\\n",
       "0  01M292  HENRY STREET SCHOOL FOR INTERNATIONAL STUDIES             29.0   \n",
       "1  01M448            UNIVERSITY NEIGHBORHOOD HIGH SCHOOL             91.0   \n",
       "\n",
       "   reading_avg  math_avg  writing_score boro  total_students  graduation_rate  \\\n",
       "0        355.0     404.0          363.0    M             171             0.66   \n",
       "1        383.0     423.0          366.0    M             465             0.90   \n",
       "\n",
       "   attendance_rate  college_career_rate  \n",
       "0             0.87                 0.36  \n",
       "1             0.93                 0.70  "
      ]
     },
     "execution_count": 6,
     "metadata": {},
     "output_type": "execute_result"
    }
   ],
   "source": [
    "df[:2]"
   ]
  },
  {
   "cell_type": "markdown",
   "id": "216e1ceb-c988-467b-aa2c-d76afd890e0d",
   "metadata": {},
   "source": [
    "And we can clean up our data, and then group it by borough."
   ]
  },
  {
   "cell_type": "code",
   "execution_count": 7,
   "id": "72cd8646-7af0-4db9-988f-758e8485d080",
   "metadata": {},
   "outputs": [
    {
     "data": {
      "text/plain": [
       "array(['M', 'X', 'K', 'Q', 'R'], dtype=object)"
      ]
     },
     "execution_count": 7,
     "metadata": {},
     "output_type": "execute_result"
    }
   ],
   "source": [
    "df['boro'].unique()"
   ]
  },
  {
   "cell_type": "markdown",
   "id": "67ed2f52-eead-42c0-a93d-ca597bf5bd31",
   "metadata": {},
   "source": [
    "> We replace the borough information with the [original names](https://en.wikipedia.org/wiki/Boroughs_of_New_York_City)."
   ]
  },
  {
   "cell_type": "code",
   "execution_count": 8,
   "id": "0e0fcf7b-92da-4cd1-9aaa-40170e2d2e33",
   "metadata": {},
   "outputs": [],
   "source": [
    "keys = ['M', 'X', 'K', 'Q', 'R']\n",
    "values = ['Manhattan', 'Bronx', 'Brooklyn', 'Queens', 'Staten Island']\n",
    "dictionary = dict(zip(keys, values))\n",
    "boro_updated = df['boro'].replace(dictionary)\n",
    "df_updated = df.assign(boro = boro_updated)"
   ]
  },
  {
   "cell_type": "markdown",
   "id": "f1c3dc4e-1620-49f4-b98b-970a3d6627c2",
   "metadata": {},
   "source": [
    "> And then group by the borough."
   ]
  },
  {
   "cell_type": "code",
   "execution_count": 35,
   "id": "7b25399f-0135-4104-92ea-98c7bf6bc913",
   "metadata": {},
   "outputs": [
    {
     "data": {
      "text/html": [
       "<div>\n",
       "<style scoped>\n",
       "    .dataframe tbody tr th:only-of-type {\n",
       "        vertical-align: middle;\n",
       "    }\n",
       "\n",
       "    .dataframe tbody tr th {\n",
       "        vertical-align: top;\n",
       "    }\n",
       "\n",
       "    .dataframe thead th {\n",
       "        text-align: right;\n",
       "    }\n",
       "</style>\n",
       "<table border=\"1\" class=\"dataframe\">\n",
       "  <thead>\n",
       "    <tr style=\"text-align: right;\">\n",
       "      <th></th>\n",
       "      <th>math_avg</th>\n",
       "      <th>reading_avg</th>\n",
       "    </tr>\n",
       "    <tr>\n",
       "      <th>boro</th>\n",
       "      <th></th>\n",
       "      <th></th>\n",
       "    </tr>\n",
       "  </thead>\n",
       "  <tbody>\n",
       "    <tr>\n",
       "      <th>Staten Island</th>\n",
       "      <td>472.500000</td>\n",
       "      <td>457.500000</td>\n",
       "    </tr>\n",
       "    <tr>\n",
       "      <th>Queens</th>\n",
       "      <td>450.650000</td>\n",
       "      <td>423.916667</td>\n",
       "    </tr>\n",
       "    <tr>\n",
       "      <th>Manhattan</th>\n",
       "      <td>442.886076</td>\n",
       "      <td>426.696203</td>\n",
       "    </tr>\n",
       "    <tr>\n",
       "      <th>Brooklyn</th>\n",
       "      <td>404.030612</td>\n",
       "      <td>391.255102</td>\n",
       "    </tr>\n",
       "    <tr>\n",
       "      <th>Bronx</th>\n",
       "      <td>394.000000</td>\n",
       "      <td>384.237500</td>\n",
       "    </tr>\n",
       "  </tbody>\n",
       "</table>\n",
       "</div>"
      ],
      "text/plain": [
       "                 math_avg  reading_avg\n",
       "boro                                  \n",
       "Staten Island  472.500000   457.500000\n",
       "Queens         450.650000   423.916667\n",
       "Manhattan      442.886076   426.696203\n",
       "Brooklyn       404.030612   391.255102\n",
       "Bronx          394.000000   384.237500"
      ]
     },
     "execution_count": 35,
     "metadata": {},
     "output_type": "execute_result"
    }
   ],
   "source": [
    "avg_by_boro = df_updated.groupby('boro').mean(numeric_only = True)\n",
    "avg_by_boro[['math_avg', 'reading_avg']].sort_values('math_avg', ascending = False)\n",
    "# avg_by_boro"
   ]
  },
  {
   "cell_type": "markdown",
   "id": "8a696f7f-51af-405e-aaff-3cd28f9eb8fd",
   "metadata": {},
   "source": [
    "Ok, so now let's move through some techniques for exploring how representative this data is."
   ]
  },
  {
   "cell_type": "markdown",
   "id": "775bcb0b-bbcf-4ea0-9f3a-a036fa4f2c4f",
   "metadata": {},
   "source": [
    "### Exploring Missing Data"
   ]
  },
  {
   "cell_type": "markdown",
   "id": "9f26bbb7-464c-414f-a17c-ea83ca41df01",
   "metadata": {},
   "source": [
    "1. Missing Observations (Rows) of Data"
   ]
  },
  {
   "cell_type": "markdown",
   "id": "2333909f-3be8-4014-9df5-95d379d4ff76",
   "metadata": {},
   "source": [
    "Now one question, we may have is simply, do we have all of the data from each county.  Let's use value_counts to find out."
   ]
  },
  {
   "cell_type": "code",
   "execution_count": 48,
   "id": "ee94f622-156c-4d95-91c2-98a77562ccce",
   "metadata": {},
   "outputs": [
    {
     "data": {
      "text/plain": [
       "Brooklyn         104\n",
       "Manhattan         90\n",
       "Bronx             87\n",
       "Queens            65\n",
       "Staten Island     10\n",
       "Name: boro, dtype: int64"
      ]
     },
     "execution_count": 48,
     "metadata": {},
     "output_type": "execute_result"
    }
   ],
   "source": [
    "df_updated['boro'].value_counts()"
   ]
  },
  {
   "cell_type": "code",
   "execution_count": 53,
   "id": "650bbd3d-0bfb-4eae-b11e-cfa18e5d8cf6",
   "metadata": {},
   "outputs": [
    {
     "data": {
      "text/plain": [
       "<AxesSubplot: >"
      ]
     },
     "execution_count": 53,
     "metadata": {},
     "output_type": "execute_result"
    },
    {
     "data": {
      "image/png": "[encoded data removed]",
      "text/plain": [
       "<Figure size 1000x300 with 1 Axes>"
      ]
     },
     "metadata": {},
     "output_type": "display_data"
    }
   ],
   "source": [
    "df_updated['boro'].value_counts().plot(kind = 'barh', figsize= (10, 3))"
   ]
  },
  {
   "cell_type": "markdown",
   "id": "e8694c8f-7028-4fc5-b4ff-2bc0cac9e0af",
   "metadata": {},
   "source": [
    "So we can see we have very few number of high schools in staten island -- but this doesn't necessarily mean the data is missing."
   ]
  },
  {
   "cell_type": "markdown",
   "id": "cc9aa472-8607-4b9b-b4a9-fbd24e26b2e5",
   "metadata": {},
   "source": [
    "For that we can look at an [outside resource](https://high-schools.com/directory/ny/cities/staten-island/), and it looks like there are only 27 high schools in staten island, and 280 in brooklyn.  "
   ]
  },
  {
   "cell_type": "markdown",
   "id": "a468744c-5abb-45c0-bb9d-eecc53b91a00",
   "metadata": {},
   "source": [
    "* Test takers per school"
   ]
  },
  {
   "cell_type": "markdown",
   "id": "64562798-248d-48fa-9868-e6ff6e9fcb98",
   "metadata": {},
   "source": [
    "Of course, even if we did have a large number of schools participating, that may not mean that we can lean on math SAT scores to draw too many conclusions about the math capability of the boro's students.  \n",
    "\n",
    "What else should we consider?  Well we can also look at the percentage of students taking the test.  Here, we are pretty lucky to have both the `total_students` per school, and the `num_test_takers`."
   ]
  },
  {
   "cell_type": "code",
   "execution_count": 62,
   "id": "4833b72a-9af5-40e5-b789-f30020dfcc3f",
   "metadata": {},
   "outputs": [],
   "source": [
    "pct_test_takers = df_updated['num_test_takers']/df_updated['total_students']\n",
    "df_with_pct = df_updated.assign(pct_test_takers = pct_test_takers)"
   ]
  },
  {
   "cell_type": "code",
   "execution_count": 65,
   "id": "dbb5a2a7-6ed2-4b88-82f3-58335ce28f1a",
   "metadata": {},
   "outputs": [
    {
     "data": {
      "text/plain": [
       "boro\n",
       "Bronx            0.146833\n",
       "Brooklyn         0.168416\n",
       "Manhattan        0.171484\n",
       "Queens           0.153365\n",
       "Staten Island    0.161102\n",
       "Name: pct_test_takers, dtype: float64"
      ]
     },
     "execution_count": 65,
     "metadata": {},
     "output_type": "execute_result"
    }
   ],
   "source": [
    "grouped_df_pct = df_with_pct.groupby('boro').mean(numeric_only = True)\n",
    "grouped_df_pct['pct_test_takers']"
   ]
  },
  {
   "cell_type": "markdown",
   "id": "5058ce2e-23e1-4397-80c8-dafff54da4d9",
   "metadata": {},
   "source": [
    "Here, Manhattan does have a larger percentage of test takers -- but we'd have to explore further to see if this is likely to affect the results."
   ]
  },
  {
   "cell_type": "markdown",
   "id": "037453ea-0c08-41e7-b1bc-cb31816dbaee",
   "metadata": {},
   "source": [
    "### Missing or incorrect values"
   ]
  },
  {
   "cell_type": "markdown",
   "id": "3296490b-76d7-421c-9b86-b2000a75668c",
   "metadata": {},
   "source": [
    "Ok, so above, we looked for missing rows of data by just counting up the number of schools we had per row.  And we also looked at the percentage of students who took the in our reporting schools.\n",
    "\n",
    "We should also look at our missing or incorrect values in the rows of data we have.  Here we'll see missing or incorrect values across our columns.\n",
    "\n",
    "What columns should we focus on?  Well really any column can indicate poor data -- but the most important column is really the *target*.  By the target we mean the metric that we are trying to predict - or is of interest.  \n",
    "\n",
    "So here, the most interesting column is our SAT score data, as opposed to say the percentage who are college seeking."
   ]
  },
  {
   "cell_type": "markdown",
   "id": "640e0b82-cb5b-45b0-a6de-2f0dec5de179",
   "metadata": {},
   "source": [
    "* Na values"
   ]
  },
  {
   "cell_type": "markdown",
   "id": "2851629f-7688-4997-9729-3d8c520b3999",
   "metadata": {},
   "source": [
    "We can count up missing values by looking at na values:"
   ]
  },
  {
   "cell_type": "code",
   "execution_count": 69,
   "id": "ce36a992-ed94-4564-a1b6-1a03fa3b5eb2",
   "metadata": {},
   "outputs": [
    {
     "data": {
      "text/html": [
       "<div>\n",
       "<style scoped>\n",
       "    .dataframe tbody tr th:only-of-type {\n",
       "        vertical-align: middle;\n",
       "    }\n",
       "\n",
       "    .dataframe tbody tr th {\n",
       "        vertical-align: top;\n",
       "    }\n",
       "\n",
       "    .dataframe thead th {\n",
       "        text-align: right;\n",
       "    }\n",
       "</style>\n",
       "<table border=\"1\" class=\"dataframe\">\n",
       "  <thead>\n",
       "    <tr style=\"text-align: right;\">\n",
       "      <th></th>\n",
       "      <th>dbn</th>\n",
       "      <th>name</th>\n",
       "      <th>num_test_takers</th>\n",
       "      <th>reading_avg</th>\n",
       "      <th>math_avg</th>\n",
       "      <th>writing_score</th>\n",
       "      <th>boro</th>\n",
       "      <th>total_students</th>\n",
       "      <th>graduation_rate</th>\n",
       "      <th>attendance_rate</th>\n",
       "      <th>college_career_rate</th>\n",
       "      <th>pct_test_takers</th>\n",
       "    </tr>\n",
       "  </thead>\n",
       "  <tbody>\n",
       "    <tr>\n",
       "      <th>0</th>\n",
       "      <td>False</td>\n",
       "      <td>False</td>\n",
       "      <td>False</td>\n",
       "      <td>False</td>\n",
       "      <td>False</td>\n",
       "      <td>False</td>\n",
       "      <td>False</td>\n",
       "      <td>False</td>\n",
       "      <td>False</td>\n",
       "      <td>False</td>\n",
       "      <td>False</td>\n",
       "      <td>False</td>\n",
       "    </tr>\n",
       "    <tr>\n",
       "      <th>1</th>\n",
       "      <td>False</td>\n",
       "      <td>False</td>\n",
       "      <td>False</td>\n",
       "      <td>False</td>\n",
       "      <td>False</td>\n",
       "      <td>False</td>\n",
       "      <td>False</td>\n",
       "      <td>False</td>\n",
       "      <td>False</td>\n",
       "      <td>False</td>\n",
       "      <td>False</td>\n",
       "      <td>False</td>\n",
       "    </tr>\n",
       "    <tr>\n",
       "      <th>2</th>\n",
       "      <td>False</td>\n",
       "      <td>False</td>\n",
       "      <td>False</td>\n",
       "      <td>False</td>\n",
       "      <td>False</td>\n",
       "      <td>False</td>\n",
       "      <td>False</td>\n",
       "      <td>False</td>\n",
       "      <td>False</td>\n",
       "      <td>False</td>\n",
       "      <td>False</td>\n",
       "      <td>False</td>\n",
       "    </tr>\n",
       "  </tbody>\n",
       "</table>\n",
       "</div>"
      ],
      "text/plain": [
       "     dbn   name  num_test_takers  reading_avg  math_avg  writing_score   boro  \\\n",
       "0  False  False            False        False     False          False  False   \n",
       "1  False  False            False        False     False          False  False   \n",
       "2  False  False            False        False     False          False  False   \n",
       "\n",
       "   total_students  graduation_rate  attendance_rate  college_career_rate  \\\n",
       "0           False            False            False                False   \n",
       "1           False            False            False                False   \n",
       "2           False            False            False                False   \n",
       "\n",
       "   pct_test_takers  \n",
       "0            False  \n",
       "1            False  \n",
       "2            False  "
      ]
     },
     "execution_count": 69,
     "metadata": {},
     "output_type": "execute_result"
    }
   ],
   "source": [
    "df_with_pct.isna()[:3]"
   ]
  },
  {
   "cell_type": "markdown",
   "id": "75123045-ea07-4daf-84fe-b0bcbc30a218",
   "metadata": {},
   "source": [
    "And then because True has a value of 1 and False a value of zero, we can add up the number of True values in each column."
   ]
  },
  {
   "cell_type": "code",
   "execution_count": 70,
   "id": "936be77f-70ec-4f58-81d8-c273a03c473f",
   "metadata": {},
   "outputs": [
    {
     "data": {
      "text/plain": [
       "dbn                     0\n",
       "name                    0\n",
       "num_test_takers        29\n",
       "reading_avg            29\n",
       "math_avg               29\n",
       "writing_score          29\n",
       "boro                    0\n",
       "total_students          0\n",
       "graduation_rate         5\n",
       "attendance_rate         0\n",
       "college_career_rate     5\n",
       "pct_test_takers        29\n",
       "dtype: int64"
      ]
     },
     "execution_count": 70,
     "metadata": {},
     "output_type": "execute_result"
    }
   ],
   "source": [
    "df_with_pct.isna().sum()"
   ]
  },
  {
   "cell_type": "markdown",
   "id": "8f90867f-62b3-430e-93f4-254b1ddb336f",
   "metadata": {},
   "source": [
    "> Once again, what we care most about is missing data in our target column like the SAT score average.  "
   ]
  },
  {
   "cell_type": "markdown",
   "id": "97297bb4-777e-44b1-9852-5fb6db2ec142",
   "metadata": {},
   "source": [
    "And if we want, we can drop rows with our missing data, and then work with data without missing data."
   ]
  },
  {
   "cell_type": "code",
   "execution_count": 81,
   "id": "57c40341-abf0-4ba4-92f8-2966b4a5bc94",
   "metadata": {},
   "outputs": [
    {
     "data": {
      "text/plain": [
       "dbn                    0\n",
       "name                   0\n",
       "num_test_takers        0\n",
       "reading_avg            0\n",
       "math_avg               0\n",
       "writing_score          0\n",
       "boro                   0\n",
       "total_students         0\n",
       "graduation_rate        0\n",
       "attendance_rate        0\n",
       "college_career_rate    0\n",
       "pct_test_takers        0\n",
       "dtype: int64"
      ]
     },
     "execution_count": 81,
     "metadata": {},
     "output_type": "execute_result"
    }
   ],
   "source": [
    "dropped_sat_df = df_with_pct.dropna()\n",
    "dropped_sat_df.isna().sum()"
   ]
  },
  {
   "cell_type": "markdown",
   "id": "979534f8-f220-4b72-8753-dc703820f9d8",
   "metadata": {},
   "source": [
    "> There is a cost to removing rows with missing data -- we are losing data.  So it's important to make a judgment call as to whether we can still get information from the rows of data.  In this case, the information that is missing (our scores) is so essentially, we should probably get rid of the rows."
   ]
  },
  {
   "cell_type": "markdown",
   "id": "3b0d6497-fe7e-478c-b4a2-bed75b21b97c",
   "metadata": {},
   "source": [
    "* Distributions of the data"
   ]
  },
  {
   "cell_type": "markdown",
   "id": "0a537a65-8cc7-469f-889d-f9ce6aab8021",
   "metadata": {},
   "source": [
    "Finally, it's also valuable to look at our distribution of the data as this can indicate outliers that may indicate incorrect data, or values like -999 that are using to indicate missingness of the data."
   ]
  },
  {
   "cell_type": "markdown",
   "id": "f11f5dd0-5967-4020-a1dc-aba3da77574e",
   "metadata": {},
   "source": [
    "Luckily, it's pretty easy to look at distributions of the data with the hist function.\n",
    "\n",
    "We can plot all histograms of all of our columns by calling hist on the dataframe.\n",
    "\n",
    "```python\n",
    "df_with_pct.hist()\n",
    "```"
   ]
  },
  {
   "cell_type": "markdown",
   "id": "abb9cfee-1c20-4858-a036-2dfd33c8de97",
   "metadata": {},
   "source": [
    "But let's just do a few columns of data at a time."
   ]
  },
  {
   "cell_type": "code",
   "execution_count": 84,
   "id": "e1d3e79b-20f1-43a4-9b71-79fc6decf426",
   "metadata": {},
   "outputs": [
    {
     "data": {
      "text/plain": [
       "array([[<AxesSubplot: title={'center': 'pct_test_takers'}>,\n",
       "        <AxesSubplot: title={'center': 'reading_avg'}>],\n",
       "       [<AxesSubplot: title={'center': 'math_avg'}>, <AxesSubplot: >]],\n",
       "      dtype=object)"
      ]
     },
     "execution_count": 84,
     "metadata": {},
     "output_type": "execute_result"
    },
    {
     "data": {
      "image/png": "[encoded data removed]",
      "text/plain": [
       "<Figure size 640x480 with 4 Axes>"
      ]
     },
     "metadata": {},
     "output_type": "display_data"
    }
   ],
   "source": [
    "cols = ['pct_test_takers', 'reading_avg', 'math_avg']\n",
    "df_with_pct[cols].hist()"
   ]
  },
  {
   "cell_type": "markdown",
   "id": "870715e9-2da8-4e92-9376-6bf882621c89",
   "metadata": {},
   "source": [
    "Ok, so looking at the above, we can see certain outliers -- both positive and negative.  But it doesn't look like there are any non-sensible values (like negative numbers).  Still, it's worth exploring the outliers further.\n",
    "\n",
    "Finally, another way to quickly see get a sense of our data is with the describe function."
   ]
  },
  {
   "cell_type": "code",
   "execution_count": 85,
   "id": "ab3c8f1d-320c-4f0d-8335-5e3394f3e4af",
   "metadata": {},
   "outputs": [
    {
     "data": {
      "text/html": [
       "<div>\n",
       "<style scoped>\n",
       "    .dataframe tbody tr th:only-of-type {\n",
       "        vertical-align: middle;\n",
       "    }\n",
       "\n",
       "    .dataframe tbody tr th {\n",
       "        vertical-align: top;\n",
       "    }\n",
       "\n",
       "    .dataframe thead th {\n",
       "        text-align: right;\n",
       "    }\n",
       "</style>\n",
       "<table border=\"1\" class=\"dataframe\">\n",
       "  <thead>\n",
       "    <tr style=\"text-align: right;\">\n",
       "      <th></th>\n",
       "      <th>pct_test_takers</th>\n",
       "      <th>reading_avg</th>\n",
       "      <th>math_avg</th>\n",
       "    </tr>\n",
       "  </thead>\n",
       "  <tbody>\n",
       "    <tr>\n",
       "      <th>count</th>\n",
       "      <td>327.000000</td>\n",
       "      <td>327.000000</td>\n",
       "      <td>327.000000</td>\n",
       "    </tr>\n",
       "    <tr>\n",
       "      <th>mean</th>\n",
       "      <td>0.160892</td>\n",
       "      <td>406.119266</td>\n",
       "      <td>421.611621</td>\n",
       "    </tr>\n",
       "    <tr>\n",
       "      <th>std</th>\n",
       "      <td>0.077814</td>\n",
       "      <td>60.504990</td>\n",
       "      <td>68.020515</td>\n",
       "    </tr>\n",
       "    <tr>\n",
       "      <th>min</th>\n",
       "      <td>0.041916</td>\n",
       "      <td>279.000000</td>\n",
       "      <td>312.000000</td>\n",
       "    </tr>\n",
       "    <tr>\n",
       "      <th>25%</th>\n",
       "      <td>0.118438</td>\n",
       "      <td>371.000000</td>\n",
       "      <td>378.000000</td>\n",
       "    </tr>\n",
       "    <tr>\n",
       "      <th>50%</th>\n",
       "      <td>0.151462</td>\n",
       "      <td>395.000000</td>\n",
       "      <td>402.000000</td>\n",
       "    </tr>\n",
       "    <tr>\n",
       "      <th>75%</th>\n",
       "      <td>0.190515</td>\n",
       "      <td>424.500000</td>\n",
       "      <td>446.500000</td>\n",
       "    </tr>\n",
       "    <tr>\n",
       "      <th>max</th>\n",
       "      <td>0.974170</td>\n",
       "      <td>679.000000</td>\n",
       "      <td>735.000000</td>\n",
       "    </tr>\n",
       "  </tbody>\n",
       "</table>\n",
       "</div>"
      ],
      "text/plain": [
       "       pct_test_takers  reading_avg    math_avg\n",
       "count       327.000000   327.000000  327.000000\n",
       "mean          0.160892   406.119266  421.611621\n",
       "std           0.077814    60.504990   68.020515\n",
       "min           0.041916   279.000000  312.000000\n",
       "25%           0.118438   371.000000  378.000000\n",
       "50%           0.151462   395.000000  402.000000\n",
       "75%           0.190515   424.500000  446.500000\n",
       "max           0.974170   679.000000  735.000000"
      ]
     },
     "execution_count": 85,
     "metadata": {},
     "output_type": "execute_result"
    }
   ],
   "source": [
    "df_with_pct[cols].describe()"
   ]
  },
  {
   "cell_type": "markdown",
   "id": "d43cfbec-4704-470f-9626-b9f788ba9855",
   "metadata": {},
   "source": [
    "Again, we can look to make sure the various values of our data appear to be what we expect.  "
   ]
  },
  {
   "cell_type": "markdown",
   "id": "dee5eab0-f8c5-4eb1-b592-979a534b3587",
   "metadata": {},
   "source": [
    "### One last thing"
   ]
  },
  {
   "cell_type": "markdown",
   "id": "9d06ff86-c2da-4f2d-9947-c8e75b1dea46",
   "metadata": {},
   "source": [
    "The last problem with this dataset, is that it's old.  Our data is from 2010, and so is probably not too representive of current performance.  So it's important to try to choose more recent data.  And if we have data from different time periods, it's important to plot say a distribution of the years or months of the data to make sure: \n",
    "\n",
    "1. We have data evenly distributed across say a series of weeks or months -- if that's expected \n",
    "2. We can just select data that's more recent"
   ]
  },
  {
   "cell_type": "markdown",
   "id": "01fa5186-0f9a-466c-89ea-11c963405795",
   "metadata": {},
   "source": [
    "### Missing data - it's not all bad"
   ]
  },
  {
   "cell_type": "markdown",
   "id": "3a595405-e73f-4212-8250-3af2a03008d8",
   "metadata": {},
   "source": [
    "So this brings us to how to handle our missing data.  Lots of times, missing data means that we need to throw out some -- but not all -- of our data, and change the scope of our conclusions.\n",
    "\n",
    "For example, above, maybe we can only make conclusions about certain boroughs (where our data is more complete) but not others.  Or maybe we can only make conclusions about certain schools.  \n",
    "\n",
    "For example, even with our missing data, we could still take a look at schools that perform exceptionally well (or poor) -- especially those where we have a large percentage of test takers.  \n",
    "Even more interesting may be schools that over or underperform what we expect.  So even, if we are limited by our dataset, that doesn't mean it has nothing to offer us.  "
   ]
  },
  {
   "cell_type": "markdown",
   "id": "0bb8d68c-b70f-4f17-b1bb-d00a5154ac3f",
   "metadata": {},
   "source": [
    "### Summary"
   ]
  },
  {
   "cell_type": "markdown",
   "id": "34bc606d-8273-4df5-8be6-b01c03ac72de",
   "metadata": {},
   "source": [
    "In this lesson, we talked about considering the representativeness of our data.  That is, if we're going to make inferences from our data -- does our data reflect the real world?\n",
    "\n",
    "We saw that we can check for missing data by looking at how our data compares to what we know about the real world -- for example the number of schools per boro.  And then we also looked for signs within our dataset -- like the percentage of test takers.\n",
    "\n",
    "From there, we also looked at the values of our data to detect missing or incorrect data.  We did this through the `isna()` function, plotting distributions of our data, and through the describe function. \n",
    "\n",
    "We also discussed the problem of missing data -- that it can bias our dataset.  This occurs when the data that is missing is different from the data that is present.  And that here, it can occur with reporting bias.  Finally, we said that one way to handle missing or poor data, is to focus on what data *is* more complete.  Or change the scope of our conclusions -- for example, by focusing on an individual school instead of a region."
   ]
  }
 ],
 "metadata": {
  "kernelspec": {
   "display_name": "Python 3 (ipykernel)",
   "language": "python",
   "name": "python3"
  },
  "language_info": {
   "codemirror_mode": {
    "name": "ipython",
    "version": 3
   },
   "file_extension": ".py",
   "mimetype": "text/x-python",
   "name": "python",
   "nbconvert_exporter": "python",
   "pygments_lexer": "ipython3",
   "version": "3.9.12"
  }
 },
 "nbformat": 4,
 "nbformat_minor": 5
}
