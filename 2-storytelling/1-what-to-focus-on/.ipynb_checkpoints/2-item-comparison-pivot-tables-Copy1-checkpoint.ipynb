{
 "cells": [
  {
   "cell_type": "markdown",
   "id": "bd84b8e6-ce42-4041-ba6c-8978bd89393e",
   "metadata": {},
   "source": [
    "# Where to Focus - Item Comparisons"
   ]
  },
  {
   "cell_type": "markdown",
   "id": "db99c940-1860-4bc0-b3f9-821928eb1f29",
   "metadata": {},
   "source": [
    "### Introduction"
   ]
  },
  {
   "cell_type": "markdown",
   "id": "6d097a5b-a0d1-4976-af76-07e5e05a4100",
   "metadata": {},
   "source": [
    "In this lesson, we'll learn about item comparisons.\n",
    "\n",
    "Item comparison occurs when we are comparing numbers or percentages between categories.  Sometimes these numbers are percentages:\n",
    "\n",
    "* \"Chocolate ice cream accounted for 25 percent of sales.\"\n",
    "\n",
    "And sometimes these are the baseline numbers\n",
    "\n",
    "* \"Chocolate ice cream accounted for $25 mil in sales.\"\n",
    "\n",
    "> Item comparisons almost always involve grouping.  So be careful to choose the correct units when performing that grouping.  So if we chose regional sales -- remember that this may not mean one region is performing better than another -- that region may just have more stores."
   ]
  },
  {
   "cell_type": "markdown",
   "id": "7842bb35-154f-4f3a-8005-b9a894c1e4d3",
   "metadata": {},
   "source": [
    "The point of focusing on item comparisons is that they are an initial way to determine what to focus on.  If there is a category that accounts for a large amount of sales (or a surprisingly small amount), it is likely worth our attention."
   ]
  },
  {
   "cell_type": "markdown",
   "id": "e5da677c-83cf-4e20-8d3d-1e0d6f0d433d",
   "metadata": {},
   "source": [
    "### Exploring our data"
   ]
  },
  {
   "cell_type": "markdown",
   "id": "c69ebd2c-f376-49ee-92d5-c64e856f9aa5",
   "metadata": {},
   "source": [
    "In this lesson, we'll learn about item comparisons by using our ecommerce sales data.  Let's get started.  "
   ]
  },
  {
   "cell_type": "code",
   "execution_count": 23,
   "id": "d7a6f77a-f77f-465a-8c85-e24413511193",
   "metadata": {},
   "outputs": [
    {
     "data": {
      "text/html": [
       "<div>\n",
       "<style scoped>\n",
       "    .dataframe tbody tr th:only-of-type {\n",
       "        vertical-align: middle;\n",
       "    }\n",
       "\n",
       "    .dataframe tbody tr th {\n",
       "        vertical-align: top;\n",
       "    }\n",
       "\n",
       "    .dataframe thead th {\n",
       "        text-align: right;\n",
       "    }\n",
       "</style>\n",
       "<table border=\"1\" class=\"dataframe\">\n",
       "  <thead>\n",
       "    <tr style=\"text-align: right;\">\n",
       "      <th></th>\n",
       "      <th>Order ID</th>\n",
       "      <th>Product</th>\n",
       "      <th>Quantity Ordered</th>\n",
       "      <th>Price Each</th>\n",
       "      <th>Order Date</th>\n",
       "      <th>Purchase Address</th>\n",
       "      <th>Month</th>\n",
       "      <th>Sales</th>\n",
       "      <th>City</th>\n",
       "      <th>Hour</th>\n",
       "    </tr>\n",
       "  </thead>\n",
       "  <tbody>\n",
       "    <tr>\n",
       "      <th>0</th>\n",
       "      <td>295665</td>\n",
       "      <td>Macbook Pro Laptop</td>\n",
       "      <td>1</td>\n",
       "      <td>1700.0</td>\n",
       "      <td>2019-12-30 00:01:00</td>\n",
       "      <td>136 Church St, New York City, NY 10001</td>\n",
       "      <td>12</td>\n",
       "      <td>1700.0</td>\n",
       "      <td>New York City</td>\n",
       "      <td>0</td>\n",
       "    </tr>\n",
       "    <tr>\n",
       "      <th>1</th>\n",
       "      <td>295666</td>\n",
       "      <td>LG Washing Machine</td>\n",
       "      <td>1</td>\n",
       "      <td>600.0</td>\n",
       "      <td>2019-12-29 07:03:00</td>\n",
       "      <td>562 2nd St, New York City, NY 10001</td>\n",
       "      <td>12</td>\n",
       "      <td>600.0</td>\n",
       "      <td>New York City</td>\n",
       "      <td>7</td>\n",
       "    </tr>\n",
       "  </tbody>\n",
       "</table>\n",
       "</div>"
      ],
      "text/plain": [
       "   Order ID             Product  Quantity Ordered  Price Each  \\\n",
       "0    295665  Macbook Pro Laptop                 1      1700.0   \n",
       "1    295666  LG Washing Machine                 1       600.0   \n",
       "\n",
       "            Order Date                        Purchase Address  Month   Sales  \\\n",
       "0  2019-12-30 00:01:00  136 Church St, New York City, NY 10001     12  1700.0   \n",
       "1  2019-12-29 07:03:00     562 2nd St, New York City, NY 10001     12   600.0   \n",
       "\n",
       "             City  Hour  \n",
       "0   New York City     0  \n",
       "1   New York City     7  "
      ]
     },
     "execution_count": 23,
     "metadata": {},
     "output_type": "execute_result"
    }
   ],
   "source": [
    "import pandas as pd\n",
    "df = pd.read_csv('./sales_data.csv', index_col = 0)\n",
    "df[:2]"
   ]
  },
  {
   "cell_type": "markdown",
   "id": "f77e2ec4-fd5b-4409-beaf-3be709fe0cf9",
   "metadata": {},
   "source": [
    "Ok, so once our data is clean, performing an item comparison is a good initial step. To do  can use a group by (whether in pandas or SQL)."
   ]
  },
  {
   "cell_type": "markdown",
   "id": "ebf4f8ec-84b4-4745-85f0-d377722273c8",
   "metadata": {},
   "source": [
    "For example, we can check our total product sales by price with something like the following."
   ]
  },
  {
   "cell_type": "code",
   "execution_count": 24,
   "id": "1bea2201-5d1a-4a44-8c34-d0450afa566d",
   "metadata": {},
   "outputs": [
    {
     "data": {
      "text/html": [
       "<div>\n",
       "<style scoped>\n",
       "    .dataframe tbody tr th:only-of-type {\n",
       "        vertical-align: middle;\n",
       "    }\n",
       "\n",
       "    .dataframe tbody tr th {\n",
       "        vertical-align: top;\n",
       "    }\n",
       "\n",
       "    .dataframe thead th {\n",
       "        text-align: right;\n",
       "    }\n",
       "</style>\n",
       "<table border=\"1\" class=\"dataframe\">\n",
       "  <thead>\n",
       "    <tr style=\"text-align: right;\">\n",
       "      <th></th>\n",
       "      <th>sum</th>\n",
       "    </tr>\n",
       "    <tr>\n",
       "      <th>Product</th>\n",
       "      <th></th>\n",
       "    </tr>\n",
       "  </thead>\n",
       "  <tbody>\n",
       "    <tr>\n",
       "      <th>Macbook Pro Laptop</th>\n",
       "      <td>8030800.00</td>\n",
       "    </tr>\n",
       "    <tr>\n",
       "      <th>iPhone</th>\n",
       "      <td>4789400.00</td>\n",
       "    </tr>\n",
       "    <tr>\n",
       "      <th>ThinkPad Laptop</th>\n",
       "      <td>4127958.72</td>\n",
       "    </tr>\n",
       "  </tbody>\n",
       "</table>\n",
       "</div>"
      ],
      "text/plain": [
       "                           sum\n",
       "Product                       \n",
       "Macbook Pro Laptop  8030800.00\n",
       "iPhone              4789400.00\n",
       "ThinkPad Laptop     4127958.72"
      ]
     },
     "execution_count": 24,
     "metadata": {},
     "output_type": "execute_result"
    }
   ],
   "source": [
    "top_products = df.groupby(['Product'])['Price Each'].agg(['sum']).sort_values('sum', ascending = False)\n",
    "top_products[:3]"
   ]
  },
  {
   "cell_type": "markdown",
   "id": "8479b602-07c0-4f90-8cda-270e7484b01d",
   "metadata": {},
   "source": [
    "And we can even turn this into a function."
   ]
  },
  {
   "cell_type": "code",
   "execution_count": 25,
   "id": "b8e5ca41-cd0f-4620-b182-b2da303edf42",
   "metadata": {},
   "outputs": [],
   "source": [
    "def build_grouped_by(df, col, target, agg = 'sum', agg_name = None, pct = True):\n",
    "    grouped_data = df.groupby(col)[target].agg([agg]).sort_values(agg, ascending = False)\n",
    "    if pct:\n",
    "        grouped_data = (grouped_data/df[target].sum()).round(3)\n",
    "    if agg_name:\n",
    "        grouped_data = grouped_data.rename(columns={agg: agg_name})\n",
    "    return grouped_data"
   ]
  },
  {
   "cell_type": "markdown",
   "id": "1f8240da-58d8-4ce5-a922-4c4a602e6ac1",
   "metadata": {},
   "source": [
    "So then if we want to break down our data across different dimensions we can -- below we group by both city and hour."
   ]
  },
  {
   "cell_type": "code",
   "execution_count": 11,
   "id": "0c42e688-2ce9-46f6-b5b3-91749b999cb1",
   "metadata": {},
   "outputs": [
    {
     "data": {
      "text/html": [
       "<div>\n",
       "<style scoped>\n",
       "    .dataframe tbody tr th:only-of-type {\n",
       "        vertical-align: middle;\n",
       "    }\n",
       "\n",
       "    .dataframe tbody tr th {\n",
       "        vertical-align: top;\n",
       "    }\n",
       "\n",
       "    .dataframe thead th {\n",
       "        text-align: right;\n",
       "    }\n",
       "</style>\n",
       "<table border=\"1\" class=\"dataframe\">\n",
       "  <thead>\n",
       "    <tr style=\"text-align: right;\">\n",
       "      <th></th>\n",
       "      <th>percent_revenue</th>\n",
       "    </tr>\n",
       "    <tr>\n",
       "      <th>City</th>\n",
       "      <th></th>\n",
       "    </tr>\n",
       "  </thead>\n",
       "  <tbody>\n",
       "    <tr>\n",
       "      <th>San Francisco</th>\n",
       "      <td>0.239</td>\n",
       "    </tr>\n",
       "    <tr>\n",
       "      <th>Los Angeles</th>\n",
       "      <td>0.158</td>\n",
       "    </tr>\n",
       "    <tr>\n",
       "      <th>New York City</th>\n",
       "      <td>0.135</td>\n",
       "    </tr>\n",
       "    <tr>\n",
       "      <th>Boston</th>\n",
       "      <td>0.106</td>\n",
       "    </tr>\n",
       "    <tr>\n",
       "      <th>Atlanta</th>\n",
       "      <td>0.081</td>\n",
       "    </tr>\n",
       "    <tr>\n",
       "      <th>Dallas</th>\n",
       "      <td>0.080</td>\n",
       "    </tr>\n",
       "    <tr>\n",
       "      <th>Seattle</th>\n",
       "      <td>0.080</td>\n",
       "    </tr>\n",
       "    <tr>\n",
       "      <th>Portland</th>\n",
       "      <td>0.067</td>\n",
       "    </tr>\n",
       "    <tr>\n",
       "      <th>Austin</th>\n",
       "      <td>0.053</td>\n",
       "    </tr>\n",
       "  </tbody>\n",
       "</table>\n",
       "</div>"
      ],
      "text/plain": [
       "                percent_revenue\n",
       "City                           \n",
       " San Francisco            0.239\n",
       " Los Angeles              0.158\n",
       " New York City            0.135\n",
       " Boston                   0.106\n",
       " Atlanta                  0.081\n",
       " Dallas                   0.080\n",
       " Seattle                  0.080\n",
       " Portland                 0.067\n",
       " Austin                   0.053"
      ]
     },
     "execution_count": 11,
     "metadata": {},
     "output_type": "execute_result"
    }
   ],
   "source": [
    "target = 'Price Each'\n",
    "grouped_data = build_grouped_by(df, 'City', target, agg = 'sum', agg_name = 'percent_revenue')\n",
    "grouped_data"
   ]
  },
  {
   "cell_type": "code",
   "execution_count": 12,
   "id": "019aa54d-4cd1-419d-ab46-3f966c8ee9ee",
   "metadata": {},
   "outputs": [],
   "source": [
    "cols = ['City', 'Hour']\n",
    "target = 'Price Each'\n",
    "totals_by_col = [build_grouped_by(df, col, target, agg = 'sum', agg_name = 'total_revenue') for col in cols]\n",
    "\n",
    "totals = dict(zip(cols, totals_by_col))"
   ]
  },
  {
   "cell_type": "markdown",
   "id": "e3f3b749-c7b2-40c4-976c-3ac14d507e20",
   "metadata": {},
   "source": [
    "And now we can see the percentage sales by city."
   ]
  },
  {
   "cell_type": "code",
   "execution_count": 13,
   "id": "16e99f7e-20c6-417a-831f-905e77cf9c46",
   "metadata": {},
   "outputs": [
    {
     "data": {
      "text/html": [
       "<div>\n",
       "<style scoped>\n",
       "    .dataframe tbody tr th:only-of-type {\n",
       "        vertical-align: middle;\n",
       "    }\n",
       "\n",
       "    .dataframe tbody tr th {\n",
       "        vertical-align: top;\n",
       "    }\n",
       "\n",
       "    .dataframe thead th {\n",
       "        text-align: right;\n",
       "    }\n",
       "</style>\n",
       "<table border=\"1\" class=\"dataframe\">\n",
       "  <thead>\n",
       "    <tr style=\"text-align: right;\">\n",
       "      <th></th>\n",
       "      <th>total_revenue</th>\n",
       "    </tr>\n",
       "    <tr>\n",
       "      <th>City</th>\n",
       "      <th></th>\n",
       "    </tr>\n",
       "  </thead>\n",
       "  <tbody>\n",
       "    <tr>\n",
       "      <th>San Francisco</th>\n",
       "      <td>0.239</td>\n",
       "    </tr>\n",
       "    <tr>\n",
       "      <th>Los Angeles</th>\n",
       "      <td>0.158</td>\n",
       "    </tr>\n",
       "    <tr>\n",
       "      <th>New York City</th>\n",
       "      <td>0.135</td>\n",
       "    </tr>\n",
       "  </tbody>\n",
       "</table>\n",
       "</div>"
      ],
      "text/plain": [
       "                total_revenue\n",
       "City                         \n",
       " San Francisco          0.239\n",
       " Los Angeles            0.158\n",
       " New York City          0.135"
      ]
     },
     "execution_count": 13,
     "metadata": {},
     "output_type": "execute_result"
    }
   ],
   "source": [
    "totals['City'][:3]"
   ]
  },
  {
   "cell_type": "markdown",
   "id": "085926f1-21dc-4ffd-8d06-c76bed95a2b3",
   "metadata": {},
   "source": [
    "### Viewing our data"
   ]
  },
  {
   "cell_type": "markdown",
   "id": "e20a7bd8-2a9a-42c8-a454-b0d47b42dda4",
   "metadata": {},
   "source": [
    "Now that we have grouped our data, it can be a little easier to see the message by plotting the data.  Below, we wrote a print grouped by function."
   ]
  },
  {
   "cell_type": "code",
   "execution_count": 14,
   "id": "629c87af-99fb-4af3-a8ec-253df656c905",
   "metadata": {},
   "outputs": [],
   "source": [
    "import matplotlib.pyplot as plt\n",
    "def print_grouped_by(grouped, title = \"\", axis = '', limit = 10, y_range = [0, 1]):\n",
    "    selected_group = grouped[grouped.iloc[:, 0].values != None]\n",
    "    fig = plt.figure(figsize=(14, 2))\n",
    "    \n",
    "    plt.scatter(selected_group.index[:limit], selected_group.iloc[:limit, 0])\n",
    "    plt.ylim(y_range)\n",
    "    plt.title(title)\n",
    "    plt.show()"
   ]
  },
  {
   "cell_type": "code",
   "execution_count": 15,
   "id": "368ba048-144e-44d1-a5bd-8120c503d1c7",
   "metadata": {},
   "outputs": [
    {
     "data": {
      "image/png": "[encoded data removed]",
      "text/plain": [
       "<Figure size 1400x200 with 1 Axes>"
      ]
     },
     "metadata": {},
     "output_type": "display_data"
    }
   ],
   "source": [
    "# print_grouped_by()\n",
    "grouped = totals['City']\n",
    "print_grouped_by(grouped, title = \"Percent Sales By City\")"
   ]
  },
  {
   "cell_type": "markdown",
   "id": "e8096b0f-65c5-4d54-bd29-a82a0dae66e8",
   "metadata": {},
   "source": [
    "Let's quickly break down our function above.  It uses matplotlib to print the data.  And the first step, `selected_group` removes any values that are None.  Then we create a figure (essentially our canvas).  And after that create a scatter plot where we have our x values be the index (in this case the city), and the y values be the first column.  We limit to the first 10 values."
   ]
  },
  {
   "cell_type": "markdown",
   "id": "d1885368-95e2-4457-92cb-bcb282e53e2d",
   "metadata": {},
   "source": [
    "### All together now"
   ]
  },
  {
   "cell_type": "markdown",
   "id": "2e01824d-3bc6-4155-bf06-be16c78c6d39",
   "metadata": {},
   "source": [
    "Ok, so then a quick way to determine what to focus on is create grouped bys out of a series of columns."
   ]
  },
  {
   "cell_type": "code",
   "execution_count": 16,
   "id": "94b6459a-42b5-4397-9c6e-cf655da741c1",
   "metadata": {},
   "outputs": [
    {
     "data": {
      "text/plain": [
       "Index(['Order ID', 'Product', 'Quantity Ordered', 'Price Each', 'Order Date',\n",
       "       'Purchase Address', 'Month', 'Sales', 'City', 'Hour'],\n",
       "      dtype='object')"
      ]
     },
     "execution_count": 16,
     "metadata": {},
     "output_type": "execute_result"
    }
   ],
   "source": [
    "df.columns"
   ]
  },
  {
   "cell_type": "markdown",
   "id": "2fedcd5f-d661-46ae-89ba-ef9ebf9bff65",
   "metadata": {},
   "source": [
    "> These columns look good."
   ]
  },
  {
   "cell_type": "code",
   "execution_count": 17,
   "id": "783befd0-c3b6-4b4f-b514-7c1fa7434983",
   "metadata": {},
   "outputs": [],
   "source": [
    "grouped_by_cols = ['Product', 'City', 'Month', 'Hour', 'Purchase Address']"
   ]
  },
  {
   "cell_type": "markdown",
   "id": "c2363558-54de-4b08-ac3a-abd9a6c7eef1",
   "metadata": {},
   "source": [
    "Let's take our above code and wrap it in a function."
   ]
  },
  {
   "cell_type": "code",
   "execution_count": 18,
   "id": "e105fd01-5ed0-4f3b-84be-15baa8975ef9",
   "metadata": {},
   "outputs": [
    {
     "data": {
      "image/png": "[encoded data removed]",
      "text/plain": [
       "<Figure size 1400x200 with 1 Axes>"
      ]
     },
     "metadata": {},
     "output_type": "display_data"
    },
    {
     "data": {
      "image/png": "[encoded data removed]",
      "text/plain": [
       "<Figure size 1400x200 with 1 Axes>"
      ]
     },
     "metadata": {},
     "output_type": "display_data"
    },
    {
     "data": {
      "image/png": "[encoded data removed]",
      "text/plain": [
       "<Figure size 1400x200 with 1 Axes>"
      ]
     },
     "metadata": {},
     "output_type": "display_data"
    },
    {
     "data": {
      "image/png": "[encoded data removed]",
      "text/plain": [
       "<Figure size 1400x200 with 1 Axes>"
      ]
     },
     "metadata": {},
     "output_type": "display_data"
    },
    {
     "data": {
      "image/png": "[encoded data removed]",
      "text/plain": [
       "<Figure size 1400x200 with 1 Axes>"
      ]
     },
     "metadata": {},
     "output_type": "display_data"
    }
   ],
   "source": [
    "def build_and_print(df, cols, target, agg = 'sum', agg_name = \"\", y_range = [0, 1]):\n",
    "    totals_by_col = [build_grouped_by(df, col, target, agg = 'sum', agg_name = agg_name)\n",
    "                 for col in cols]\n",
    "    totals = dict(zip(cols, totals_by_col))\n",
    "    [print_grouped_by(df, title = f\"{agg_name} by {col}\", y_range = y_range) for col, df in totals.items()]\n",
    "    return totals\n",
    "\n",
    "# call function\n",
    "target = 'Price Each'\n",
    "agg_name = 'percent_revenue'\n",
    "cols = ['Product', 'City', 'Month', 'Hour', 'Purchase Address']\n",
    "\n",
    "results = build_and_print(df, cols, target, agg = 'sum', agg_name = agg_name, y_range = [0, .3])"
   ]
  },
  {
   "cell_type": "markdown",
   "id": "4fc9c00f-d48e-4985-9682-19c64cd55eda",
   "metadata": {},
   "source": [
    "So from here, we can dig deeper on a few categories in our dataset.  For example, notice that the top five products account for about 60 percent of our revenue. \n",
    "\n",
    "The return value of our function call above is a dictionary of our results.  So we can look deeper at that with the following."
   ]
  },
  {
   "cell_type": "code",
   "execution_count": 19,
   "id": "5b518fba-6f77-493f-85bd-2dc4adf19c57",
   "metadata": {},
   "outputs": [
    {
     "data": {
      "text/html": [
       "<div>\n",
       "<style scoped>\n",
       "    .dataframe tbody tr th:only-of-type {\n",
       "        vertical-align: middle;\n",
       "    }\n",
       "\n",
       "    .dataframe tbody tr th {\n",
       "        vertical-align: top;\n",
       "    }\n",
       "\n",
       "    .dataframe thead th {\n",
       "        text-align: right;\n",
       "    }\n",
       "</style>\n",
       "<table border=\"1\" class=\"dataframe\">\n",
       "  <thead>\n",
       "    <tr style=\"text-align: right;\">\n",
       "      <th></th>\n",
       "      <th>percent_revenue</th>\n",
       "    </tr>\n",
       "    <tr>\n",
       "      <th>Product</th>\n",
       "      <th></th>\n",
       "    </tr>\n",
       "  </thead>\n",
       "  <tbody>\n",
       "    <tr>\n",
       "      <th>Macbook Pro Laptop</th>\n",
       "      <td>0.234</td>\n",
       "    </tr>\n",
       "    <tr>\n",
       "      <th>iPhone</th>\n",
       "      <td>0.140</td>\n",
       "    </tr>\n",
       "    <tr>\n",
       "      <th>ThinkPad Laptop</th>\n",
       "      <td>0.120</td>\n",
       "    </tr>\n",
       "    <tr>\n",
       "      <th>Google Phone</th>\n",
       "      <td>0.097</td>\n",
       "    </tr>\n",
       "    <tr>\n",
       "      <th>27in 4K Gaming Monitor</th>\n",
       "      <td>0.071</td>\n",
       "    </tr>\n",
       "  </tbody>\n",
       "</table>\n",
       "</div>"
      ],
      "text/plain": [
       "                        percent_revenue\n",
       "Product                                \n",
       "Macbook Pro Laptop                0.234\n",
       "iPhone                            0.140\n",
       "ThinkPad Laptop                   0.120\n",
       "Google Phone                      0.097\n",
       "27in 4K Gaming Monitor            0.071"
      ]
     },
     "execution_count": 19,
     "metadata": {},
     "output_type": "execute_result"
    }
   ],
   "source": [
    "results.keys() # dict_keys(['Product', 'City', 'Month', 'Hour', 'Purchase Address'])\n",
    "results['Product'][:5]"
   ]
  },
  {
   "cell_type": "markdown",
   "id": "72321a48-c26c-4cbc-9120-f96c36a670b9",
   "metadata": {},
   "source": [
    "### Digging Deeper"
   ]
  },
  {
   "cell_type": "markdown",
   "id": "f01a1bec-9cc2-4147-8b90-82e1911d4de0",
   "metadata": {},
   "source": [
    "Once we have identified a couple of the key categories -- we may want to look a little deeper at those categories.  "
   ]
  },
  {
   "cell_type": "markdown",
   "id": "4eff27c3-d844-4ea4-8219-cd24ec0593d4",
   "metadata": {},
   "source": [
    "1. Selecting a subset and digging deeper"
   ]
  },
  {
   "cell_type": "markdown",
   "id": "10fc6368-1f1d-4804-ae2a-db30601e29c5",
   "metadata": {},
   "source": [
    "One way we can dig deeper is just by selecting a subset of the data and then digging deeper by calling our `build_and_print` on that subset."
   ]
  },
  {
   "cell_type": "code",
   "execution_count": 20,
   "id": "701e8736-b670-4feb-9ada-27adcd51c1cd",
   "metadata": {},
   "outputs": [],
   "source": [
    "macbook_df = df[df['Product'] == 'Macbook Pro Laptop']"
   ]
  },
  {
   "cell_type": "code",
   "execution_count": 22,
   "id": "02a81c59-47bf-466c-972e-64fdea2d387d",
   "metadata": {},
   "outputs": [
    {
     "data": {
      "image/png": "[encoded data removed]",
      "text/plain": [
       "<Figure size 1400x200 with 1 Axes>"
      ]
     },
     "metadata": {},
     "output_type": "display_data"
    },
    {
     "data": {
      "image/png": "[encoded data removed]",
      "text/plain": [
       "<Figure size 1400x200 with 1 Axes>"
      ]
     },
     "metadata": {},
     "output_type": "display_data"
    },
    {
     "data": {
      "image/png": "[encoded data removed]",
      "text/plain": [
       "<Figure size 1400x200 with 1 Axes>"
      ]
     },
     "metadata": {},
     "output_type": "display_data"
    }
   ],
   "source": [
    "target = 'Price Each'\n",
    "agg_name = 'percent_revenue'\n",
    "cols = ['City', 'Month', 'Hour']\n",
    "\n",
    "results = build_and_print(macbook_df, cols, target, agg = 'sum', agg_name = agg_name, y_range = [0, .3])"
   ]
  },
  {
   "cell_type": "markdown",
   "id": "4e046860-d1a9-4b1c-93d9-7eeaede93885",
   "metadata": {},
   "source": [
    "So here, we have looked at the distribution of just macbook sales.  Again, what we're interested is to see if there is anything interesting or surprising.  And here, because our macbook breakdown looks like our overall breakdown of sales revenue -- there's not too much that should surprise us."
   ]
  },
  {
   "cell_type": "markdown",
   "id": "bc19205f-ec3c-4ed8-9287-6c17ae381f4c",
   "metadata": {},
   "source": [
    "\n",
    "\n",
    "2. Multilevel group by \n",
    "\n",
    "Above, we are just digging deeper with a single product.  But if we want to get a breakdown of multiple products, we can do this with a multilevel group by.  \n",
    "\n",
    "So below, we group by two categories and calculate the percentage of total revenue -- and we can do this by just passing through a list of columns to group by instead of a single column."
   ]
  },
  {
   "cell_type": "code",
   "execution_count": 205,
   "id": "6368b87a-1094-401d-9c42-d172c3cc312b",
   "metadata": {},
   "outputs": [],
   "source": [
    "pd.set_option('display.max_rows', None)\n",
    "multiple_groups = build_grouped_by(df, ['Product', 'City'], target, agg = 'sum', agg_name = 'percent_revenue')"
   ]
  },
  {
   "cell_type": "markdown",
   "id": "ce926d57-559f-4d6a-80c1-030d9a8876e1",
   "metadata": {},
   "source": [
    "> This works because the groupby function can take multiple columns."
   ]
  },
  {
   "cell_type": "markdown",
   "id": "ac756848-8ce8-47f6-b989-517e35e4dae7",
   "metadata": {},
   "source": [
    "```python\n",
    "       # can take multiple cols\n",
    "grouped_data = df.groupby(col)[target].agg([agg]).sort_values(agg, ascending = False)\n",
    "```"
   ]
  },
  {
   "cell_type": "markdown",
   "id": "caac61a7-4c50-4066-9c05-f2ecf6fa7872",
   "metadata": {},
   "source": [
    "Ok, let's look at the results."
   ]
  },
  {
   "cell_type": "code",
   "execution_count": 206,
   "id": "95bf86d9-1bff-4118-87fb-d1eae14b6309",
   "metadata": {},
   "outputs": [
    {
     "data": {
      "text/html": [
       "<div>\n",
       "<style scoped>\n",
       "    .dataframe tbody tr th:only-of-type {\n",
       "        vertical-align: middle;\n",
       "    }\n",
       "\n",
       "    .dataframe tbody tr th {\n",
       "        vertical-align: top;\n",
       "    }\n",
       "\n",
       "    .dataframe thead th {\n",
       "        text-align: right;\n",
       "    }\n",
       "</style>\n",
       "<table border=\"1\" class=\"dataframe\">\n",
       "  <thead>\n",
       "    <tr style=\"text-align: right;\">\n",
       "      <th></th>\n",
       "      <th></th>\n",
       "      <th>percent_revenue</th>\n",
       "    </tr>\n",
       "    <tr>\n",
       "      <th>Product</th>\n",
       "      <th>City</th>\n",
       "      <th></th>\n",
       "    </tr>\n",
       "  </thead>\n",
       "  <tbody>\n",
       "    <tr>\n",
       "      <th rowspan=\"2\" valign=\"top\">Macbook Pro Laptop</th>\n",
       "      <th>San Francisco</th>\n",
       "      <td>0.056</td>\n",
       "    </tr>\n",
       "    <tr>\n",
       "      <th>Los Angeles</th>\n",
       "      <td>0.037</td>\n",
       "    </tr>\n",
       "    <tr>\n",
       "      <th>iPhone</th>\n",
       "      <th>San Francisco</th>\n",
       "      <td>0.034</td>\n",
       "    </tr>\n",
       "    <tr>\n",
       "      <th>Macbook Pro Laptop</th>\n",
       "      <th>New York City</th>\n",
       "      <td>0.033</td>\n",
       "    </tr>\n",
       "    <tr>\n",
       "      <th>ThinkPad Laptop</th>\n",
       "      <th>San Francisco</th>\n",
       "      <td>0.028</td>\n",
       "    </tr>\n",
       "    <tr>\n",
       "      <th>Google Phone</th>\n",
       "      <th>San Francisco</th>\n",
       "      <td>0.024</td>\n",
       "    </tr>\n",
       "    <tr>\n",
       "      <th>Macbook Pro Laptop</th>\n",
       "      <th>Boston</th>\n",
       "      <td>0.024</td>\n",
       "    </tr>\n",
       "    <tr>\n",
       "      <th>iPhone</th>\n",
       "      <th>Los Angeles</th>\n",
       "      <td>0.023</td>\n",
       "    </tr>\n",
       "    <tr>\n",
       "      <th rowspan=\"2\" valign=\"top\">Macbook Pro Laptop</th>\n",
       "      <th>Dallas</th>\n",
       "      <td>0.019</td>\n",
       "    </tr>\n",
       "    <tr>\n",
       "      <th>Atlanta</th>\n",
       "      <td>0.019</td>\n",
       "    </tr>\n",
       "    <tr>\n",
       "      <th>ThinkPad Laptop</th>\n",
       "      <th>Los Angeles</th>\n",
       "      <td>0.019</td>\n",
       "    </tr>\n",
       "    <tr>\n",
       "      <th>iPhone</th>\n",
       "      <th>New York City</th>\n",
       "      <td>0.018</td>\n",
       "    </tr>\n",
       "    <tr>\n",
       "      <th rowspan=\"2\" valign=\"top\">Macbook Pro Laptop</th>\n",
       "      <th>Seattle</th>\n",
       "      <td>0.018</td>\n",
       "    </tr>\n",
       "    <tr>\n",
       "      <th>Portland</th>\n",
       "      <td>0.017</td>\n",
       "    </tr>\n",
       "    <tr>\n",
       "      <th>27in 4K Gaming Monitor</th>\n",
       "      <th>San Francisco</th>\n",
       "      <td>0.017</td>\n",
       "    </tr>\n",
       "  </tbody>\n",
       "</table>\n",
       "</div>"
      ],
      "text/plain": [
       "                                       percent_revenue\n",
       "Product                City                           \n",
       "Macbook Pro Laptop      San Francisco            0.056\n",
       "                        Los Angeles              0.037\n",
       "iPhone                  San Francisco            0.034\n",
       "Macbook Pro Laptop      New York City            0.033\n",
       "ThinkPad Laptop         San Francisco            0.028\n",
       "Google Phone            San Francisco            0.024\n",
       "Macbook Pro Laptop      Boston                   0.024\n",
       "iPhone                  Los Angeles              0.023\n",
       "Macbook Pro Laptop      Dallas                   0.019\n",
       "                        Atlanta                  0.019\n",
       "ThinkPad Laptop         Los Angeles              0.019\n",
       "iPhone                  New York City            0.018\n",
       "Macbook Pro Laptop      Seattle                  0.018\n",
       "                        Portland                 0.017\n",
       "27in 4K Gaming Monitor  San Francisco            0.017"
      ]
     },
     "execution_count": 206,
     "metadata": {},
     "output_type": "execute_result"
    }
   ],
   "source": [
    "multiple_groups[:15]"
   ]
  },
  {
   "cell_type": "markdown",
   "id": "939dd45d-13fa-47f9-b823-1c32e60f011f",
   "metadata": {},
   "source": [
    "So this is not a bad way to look at the data.  Our groupings are sorted by percent revenue, and we can look for anything that stands out.  For example, considering that Seattle and Portland have a relatively low percentage of sales, it's interesting to see them on our list (with the Macbook Pro Laptop).  It seems like demand for these products is particularly strong."
   ]
  },
  {
   "cell_type": "markdown",
   "id": "e72581c0-09d5-44de-9cde-364ec8e4ce8a",
   "metadata": {},
   "source": [
    "### Summary"
   ]
  },
  {
   "cell_type": "markdown",
   "id": "c498b210-09d0-49d3-be41-c54b05e73a82",
   "metadata": {},
   "source": [
    "In this lesson, we saw some quick ways to view our data."
   ]
  },
  {
   "cell_type": "code",
   "execution_count": null,
   "id": "acce7c6e-c162-4dba-b80b-3a165297913e",
   "metadata": {},
   "outputs": [],
   "source": [
    "def build_grouped_by(df, col, target, agg = 'sum', agg_name = None, pct = True):\n",
    "    grouped_data = df.groupby(col)[target].agg([agg]).sort_values(agg, ascending = False)\n",
    "    if pct:\n",
    "        grouped_data = (grouped_data/df[target].sum()).round(3)\n",
    "    if agg_name:\n",
    "        grouped_data = grouped_data.rename(columns={agg: agg_name})\n",
    "    return grouped_data"
   ]
  },
  {
   "cell_type": "code",
   "execution_count": null,
   "id": "8f4a4865-70e8-4a5e-8016-00ed09230b0c",
   "metadata": {},
   "outputs": [],
   "source": [
    "import matplotlib.pyplot as plt\n",
    "def print_grouped_by(grouped, title = \"\", axis = '', limit = 10):\n",
    "    selected_group = grouped[grouped.iloc[:, 0].values != None]\n",
    "    fig = plt.figure(figsize=(14, 2))\n",
    "    plt.scatter(selected_group.index[:limit], selected_group.iloc[:limit, 0])\n",
    "    plt.title(title)\n",
    "    plt.show()"
   ]
  },
  {
   "cell_type": "code",
   "execution_count": 221,
   "id": "c6dc9d0c-e703-4ba4-866d-6534f334f30c",
   "metadata": {},
   "outputs": [],
   "source": [
    "def build_and_print(df, cols, target, agg = 'sum', agg_name = agg_name):\n",
    "    totals_by_col = [build_grouped_by(df, col, target, agg = 'sum', agg_name = agg_name)\n",
    "                 for col in cols]\n",
    "    totals = dict(zip(cols, totals_by_col))\n",
    "    [print_grouped_by(df, title = f\"{agg_name} by {col}\") for col, df in totals.items()]\n",
    "    return totals\n",
    "\n",
    "\n",
    "target = 'Price Each'\n",
    "agg_name = 'percent_revenue'\n",
    "cols = ['Product', 'City', 'Month', 'Hour', 'Purchase Address']\n",
    "\n",
    "# results = build_and_print(df, cols, target, agg = 'sum', agg_name = agg_name)"
   ]
  },
  {
   "cell_type": "markdown",
   "id": "dbeb0ade-a4b9-455a-8fd5-9f3f2db1f374",
   "metadata": {},
   "source": [
    "* Digging Deeper "
   ]
  },
  {
   "cell_type": "markdown",
   "id": "8d5fc53a-a4f5-406e-8d6c-5113cd8393eb",
   "metadata": {},
   "source": [
    "Then we saw how we can analyze a dataset across multiple dimensions.\n",
    "\n",
    "We did this by just passing through a list of columns into our `build_grouped_by`."
   ]
  },
  {
   "cell_type": "code",
   "execution_count": 220,
   "id": "8a30671f-b7cd-4b89-a0fb-79aa2bece568",
   "metadata": {},
   "outputs": [],
   "source": [
    "# multiple_groups = build_grouped_by(df, ['Product', 'City'], target, agg = 'sum', agg_name = 'percent_revenue')"
   ]
  },
  {
   "cell_type": "markdown",
   "id": "6c365cef-801c-47b2-bbf5-8a8a3ec61d83",
   "metadata": {},
   "source": [
    "And then we worked on ordering both the rows and columns -- and we did so using the results of our previous aggregations."
   ]
  },
  {
   "cell_type": "markdown",
   "id": "20d4c2b7-995e-47fe-9af7-08e77049797f",
   "metadata": {},
   "source": [
    "> First organizing the rows by re-indexing."
   ]
  },
  {
   "cell_type": "code",
   "execution_count": null,
   "id": "97e5a742-0d58-4c4d-90fd-47f75609a496",
   "metadata": {},
   "outputs": [],
   "source": [
    "sorted_products_pivot = pivot.loc[results['Product'].index]"
   ]
  },
  {
   "cell_type": "markdown",
   "id": "a2d3a445-afd4-4c0e-a20c-7e26fb6a4da3",
   "metadata": {},
   "source": [
    "> And then organizing the columns, by flattening our column values."
   ]
  },
  {
   "cell_type": "code",
   "execution_count": null,
   "id": "b8f1c513-4764-4870-95f7-1106e1a82cd0",
   "metadata": {},
   "outputs": [],
   "source": [
    "leveled_cols = sorted_products_pivot.columns.get_level_values(1)\n",
    "sorted_products_pivot.columns = leveled_cols"
   ]
  },
  {
   "cell_type": "markdown",
   "id": "e90ee941-60c3-4bc6-8cb7-5babb61d1e7c",
   "metadata": {},
   "source": [
    "> And then reindexing."
   ]
  },
  {
   "cell_type": "code",
   "execution_count": null,
   "id": "b776a714-90e7-4d32-97a4-6631dae5ff97",
   "metadata": {},
   "outputs": [],
   "source": [
    "city_cols = results['City'].index\n",
    "ordered_pivot = sorted_products_pivot.reindex(columns=city_cols)"
   ]
  },
  {
   "cell_type": "markdown",
   "id": "1b344b7d-9c31-493e-8299-45fd16c905d5",
   "metadata": {},
   "source": [
    "### Bonus: An alternative group by "
   ]
  },
  {
   "cell_type": "markdown",
   "id": "30c0791f-c585-4ec1-a5ad-881ffbea6f74",
   "metadata": {},
   "source": [
    "We can use the following function if our data is in SQL."
   ]
  },
  {
   "cell_type": "code",
   "execution_count": null,
   "id": "a542c416-fdcc-47d4-a1cf-be516479e88a",
   "metadata": {},
   "outputs": [],
   "source": [
    "def build_grouped_by(table_name, col, target, engine, order_by_col = False):\n",
    "    if order_by_col:\n",
    "        query = f\"\"\"select {col}, sum({target}) total_amount from {table_name} group by {col} order by {col} asc\"\"\"\n",
    "    else:\n",
    "        query = f\"\"\"select {col}, sum({target}) total_amount from {table_name} group by {col} order by total_amount desc\"\"\"\n",
    "    grouped = pd.read_sql(query, engine)\n",
    "    return grouped"
   ]
  },
  {
   "cell_type": "code",
   "execution_count": null,
   "id": "6a9615b9-4418-4e2d-ba79-46a758c9573f",
   "metadata": {},
   "outputs": [],
   "source": [
    "pivot = pd.pivot_table(multiple_groups, index=['Product'], columns=['City'])\n",
    "pivot[:2]"
   ]
  },
  {
   "cell_type": "code",
   "execution_count": null,
   "id": "68fd0659-81c2-4f1b-981f-f6145944024c",
   "metadata": {},
   "outputs": [],
   "source": [
    "sorted_products_pivot = pivot.loc[results['Product'].index]\n",
    "\n",
    "sorted_products_pivot[:2]"
   ]
  },
  {
   "cell_type": "markdown",
   "id": "98923ca3-5ca9-48a2-b0e3-26adebb00834",
   "metadata": {},
   "source": [
    "### Resources\n",
    "\n",
    "[Sales Product Data](https://www.kaggle.com/datasets/knightbearr/sales-product-data)\n",
    "\n",
    "[Unit Economics](https://www.paddle.com/resources/unit-economics)\n",
    "\n",
    "[Olist Dataset Multitables](https://www.kaggle.com/datasets/olistbr/brazilian-ecommerce)\n"
   ]
  }
 ],
 "metadata": {
  "kernelspec": {
   "display_name": "Python 3 (ipykernel)",
   "language": "python",
   "name": "python3"
  },
  "language_info": {
   "codemirror_mode": {
    "name": "ipython",
    "version": 3
   },
   "file_extension": ".py",
   "mimetype": "text/x-python",
   "name": "python",
   "nbconvert_exporter": "python",
   "pygments_lexer": "ipython3",
   "version": "3.9.12"
  }
 },
 "nbformat": 4,
 "nbformat_minor": 5
}
