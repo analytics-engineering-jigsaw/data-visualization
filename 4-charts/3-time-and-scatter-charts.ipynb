{
 "cells": [
  {
   "cell_type": "markdown",
   "id": "536438ff-1785-4e6e-8ac5-416c9cf3d298",
   "metadata": {},
   "source": [
    "# Time and Scatter Charts"
   ]
  },
  {
   "cell_type": "markdown",
   "id": "01368513-9974-4933-a45e-351a6ce7248d",
   "metadata": {},
   "source": [
    "### Introduction"
   ]
  },
  {
   "cell_type": "markdown",
   "id": "7fcd703c-3fc5-449f-9815-63d81b67a4b9",
   "metadata": {},
   "source": [
    "Now that we've seen the different comparisons, it's time to choose the correct chart.  Lucky for us there are only five different kinds of charts.  \n",
    "\n",
    "And we know to avoid the pie chart, and have covered the bar and column charts.  So in this lesson, we'll move through the line chart and scatter chart -- and will review the BCG chart."
   ]
  },
  {
   "cell_type": "markdown",
   "id": "eb06eb2d-fcbc-48be-bf09-7339e1612d51",
   "metadata": {},
   "source": [
    "<img src=\"./focus-charts.png\" width=\"60%\">"
   ]
  },
  {
   "cell_type": "markdown",
   "id": "12b3792f-33e3-425d-8f08-ba0b6ada27e4",
   "metadata": {
    "tags": []
   },
   "source": [
    "### Time Comparisons - Line Chart\n",
    "\n",
    "The last of our fundamental charts is the line chart -- which is for showing changes in data over time.\n",
    "\n",
    "<img src=\"./classic-line-chart.png\" width=\"40%\">"
   ]
  },
  {
   "cell_type": "markdown",
   "id": "c82a7178-ec02-4455-b570-9b6fd96760b5",
   "metadata": {},
   "source": [
    "The chart above is properly styled.  Notice that we are showing the difference between the past data and the projected data (although that projection looks optimistic).  And that we are doing so both with the shading and the dashed line."
   ]
  },
  {
   "cell_type": "markdown",
   "id": "830c2c55-3935-4a05-a603-389071da86c3",
   "metadata": {},
   "source": [
    "* Horizontal emphasis"
   ]
  },
  {
   "cell_type": "markdown",
   "id": "d4cc07ca-b2a9-4278-97de-9cf20211a850",
   "metadata": {},
   "source": [
    "<img src=\"./uk-productivity.png\" width=\"60%\">"
   ]
  },
  {
   "cell_type": "markdown",
   "id": "335a098e-bca1-4197-bb31-379105b291ed",
   "metadata": {},
   "source": [
    "Notice in the chart above that instead of highlighting a period of time, the chart provides a baseline, to then show revenue falling outside of it. "
   ]
  },
  {
   "cell_type": "markdown",
   "id": "46fb29da-d3aa-414e-adbe-a81b1061d84f",
   "metadata": {},
   "source": [
    "* Breaking out the spaghetti chart"
   ]
  },
  {
   "cell_type": "markdown",
   "id": "508d0e67-3913-4e54-80d2-8340036fff14",
   "metadata": {},
   "source": [
    "Below is another line chart -- which shows the revenue of one company -- Company A -- against each of the competitors.  Beccause it's difficult to keep track of all of that information, underneath the chart is broken into smaller components -- with each competitor given a separate breakout chart (or you could just break out the most interesting of the competitors).  "
   ]
  },
  {
   "cell_type": "markdown",
   "id": "768a2e6e-edc6-42f4-a130-806bb25b9139",
   "metadata": {},
   "source": [
    "<img src=\"./spaghetti.png\" width=\"40%\">"
   ]
  },
  {
   "cell_type": "markdown",
   "id": "e94976f3-8e86-4610-acd7-a8a4a3e5f271",
   "metadata": {},
   "source": [
    "<img src=\"./untangled.png\" width=\"40%\">"
   ]
  },
  {
   "cell_type": "markdown",
   "id": "cf5d8839-9617-4460-a689-8f3c55bffd1a",
   "metadata": {
    "tags": []
   },
   "source": [
    "### BCG Chart"
   ]
  },
  {
   "cell_type": "markdown",
   "id": "ef85052e-b411-4cf0-b38e-42873097db49",
   "metadata": {},
   "source": [
    "Above we showed change over time, but remember that we can also show change *and* the current condition with our bcg charts."
   ]
  },
  {
   "cell_type": "markdown",
   "id": "0ba687a2-b1ef-4903-81cd-404466d050d5",
   "metadata": {},
   "source": [
    "<img src=\"./bcg-chart.png\" width=\"60%\">"
   ]
  },
  {
   "cell_type": "markdown",
   "id": "010cf5e7-9645-41ee-b90a-6f84be22afba",
   "metadata": {},
   "source": [
    "And remember that we can make use of a chart like this when we want to show two metrics."
   ]
  },
  {
   "cell_type": "markdown",
   "id": "50ea0344-1dd4-498c-9a32-c299c793287a",
   "metadata": {},
   "source": [
    "### Scatter plot"
   ]
  },
  {
   "cell_type": "markdown",
   "id": "53809f41-02ab-460e-842c-10385bae07c4",
   "metadata": {},
   "source": [
    "Finally, our scatter plot is used to show the relationship between two variables.  As we know, we should be careful not to imply a causation between two variables -- but showing the relationship can still yield insights."
   ]
  },
  {
   "cell_type": "markdown",
   "id": "e0045cc2-2df2-4b83-94c3-5d276be902f7",
   "metadata": {},
   "source": [
    "The target variable should be on the y axis, whereas the input that should be along the X axis.  For example, below income is on the X axis as it is an input correlated with life expectancy."
   ]
  },
  {
   "cell_type": "markdown",
   "id": "30c861bb-a8d6-451b-a4e4-3678a49a3e74",
   "metadata": {},
   "source": [
    "<img src=\"./life-expectancy.png\" width=\"60%\">"
   ]
  },
  {
   "cell_type": "markdown",
   "id": "eeadafb5-788f-406f-9748-ce9a478bb53e",
   "metadata": {},
   "source": [
    "Oftentimes, a line is added to show the trend/relationship."
   ]
  },
  {
   "cell_type": "markdown",
   "id": "cc626517-3249-424c-9d82-2b7d81805c4a",
   "metadata": {},
   "source": [
    "> To see how the chart was produced, check out the resources below. "
   ]
  },
  {
   "cell_type": "markdown",
   "id": "48033879-fdfd-438f-8ac3-9f31ba667ba1",
   "metadata": {},
   "source": [
    "### Resources\n",
    "\n",
    "[Beautiful Scatter Plots](https://towardsdatascience.com/a-quick-guide-to-beautiful-scatter-plots-in-python-75625ae67396)"
   ]
  }
 ],
 "metadata": {
  "kernelspec": {
   "display_name": "Python 3 (ipykernel)",
   "language": "python",
   "name": "python3"
  },
  "language_info": {
   "codemirror_mode": {
    "name": "ipython",
    "version": 3
   },
   "file_extension": ".py",
   "mimetype": "text/x-python",
   "name": "python",
   "nbconvert_exporter": "python",
   "pygments_lexer": "ipython3",
   "version": "3.9.12"
  }
 },
 "nbformat": 4,
 "nbformat_minor": 5
}
