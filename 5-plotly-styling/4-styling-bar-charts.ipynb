{
 "cells": [
  {
   "cell_type": "markdown",
   "id": "460e6afa-3937-4cea-8d7b-99107feab74e",
   "metadata": {},
   "source": [
    "# Styling Bar Charts Lab"
   ]
  },
  {
   "cell_type": "markdown",
   "id": "d77cff81-3d8b-4455-b515-3764e15380ba",
   "metadata": {},
   "source": [
    "### Introduction"
   ]
  },
  {
   "cell_type": "markdown",
   "id": "26814d04-d4b2-49bf-b95b-f0b08fc461e8",
   "metadata": {},
   "source": [
    "### Bar Charts"
   ]
  },
  {
   "cell_type": "markdown",
   "id": "2491231e-b477-4e1d-923b-80bdecce7293",
   "metadata": {},
   "source": [
    "* Provide a list of geographic data"
   ]
  },
  {
   "cell_type": "markdown",
   "id": "8af4aa56-ae92-4b52-b0bf-88e9c9c2d856",
   "metadata": {},
   "source": [
    "* Also can have a bar chart, and ask them to reproduce it"
   ]
  },
  {
   "cell_type": "code",
   "execution_count": null,
   "id": "a944b264-dff3-4438-8a05-32a11811fce2",
   "metadata": {},
   "outputs": [],
   "source": []
  }
 ],
 "metadata": {
  "kernelspec": {
   "display_name": "Python 3 (ipykernel)",
   "language": "python",
   "name": "python3"
  },
  "language_info": {
   "codemirror_mode": {
    "name": "ipython",
    "version": 3
   },
   "file_extension": ".py",
   "mimetype": "text/x-python",
   "name": "python",
   "nbconvert_exporter": "python",
   "pygments_lexer": "ipython3",
   "version": "3.9.12"
  }
 },
 "nbformat": 4,
 "nbformat_minor": 5
}
