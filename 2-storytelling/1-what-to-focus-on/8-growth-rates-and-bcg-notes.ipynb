{
 "cells": [
  {
   "cell_type": "markdown",
   "id": "5477957c-55f1-4d9d-b139-430f2964fe8c",
   "metadata": {},
   "source": [
    "# Growth Rates and BCG Charts"
   ]
  },
  {
   "cell_type": "markdown",
   "id": "7f631fa4-4a52-4e80-a670-c9d5b6f2739c",
   "metadata": {},
   "source": [
    "### Introduction"
   ]
  },
  {
   "cell_type": "markdown",
   "id": "0f3fe61d-5542-4181-a379-e7131aa16df1",
   "metadata": {},
   "source": [
    "In this lesson, we'll see another way to get an overview of our data, which is to look at growth rates of our data."
   ]
  },
  {
   "cell_type": "markdown",
   "id": "5ef5b934-45fc-4a1e-b494-0773450f2739",
   "metadata": {},
   "source": [
    "### Loading our Data"
   ]
  },
  {
   "cell_type": "markdown",
   "id": "733284df-d9fc-416d-b55d-01a61c4994d5",
   "metadata": {},
   "source": [
    "We can begin by loading our data which will come from the [video game sales data](https://www.kaggle.com/datasets/gregorut/videogamesales)."
   ]
  },
  {
   "cell_type": "code",
   "execution_count": 1,
   "id": "a904b860-ba3f-402d-b08d-11dbeee241a7",
   "metadata": {},
   "outputs": [],
   "source": [
    "import pandas as pd\n",
    "url = \"https://raw.githubusercontent.com/analytics-engineering-jigsaw/data-visualization/main/2-storytelling/1-what-to-focus-on/vgsales.csv\"\n",
    "game_sales = pd.read_csv(url)"
   ]
  },
  {
   "cell_type": "code",
   "execution_count": 2,
   "id": "d10b3a07-ec89-4b6f-982b-bf35727628c8",
   "metadata": {},
   "outputs": [
    {
     "data": {
      "text/html": [
       "<div>\n",
       "<style scoped>\n",
       "    .dataframe tbody tr th:only-of-type {\n",
       "        vertical-align: middle;\n",
       "    }\n",
       "\n",
       "    .dataframe tbody tr th {\n",
       "        vertical-align: top;\n",
       "    }\n",
       "\n",
       "    .dataframe thead th {\n",
       "        text-align: right;\n",
       "    }\n",
       "</style>\n",
       "<table border=\"1\" class=\"dataframe\">\n",
       "  <thead>\n",
       "    <tr style=\"text-align: right;\">\n",
       "      <th></th>\n",
       "      <th>Rank</th>\n",
       "      <th>Name</th>\n",
       "      <th>Platform</th>\n",
       "      <th>Year</th>\n",
       "      <th>Genre</th>\n",
       "      <th>Publisher</th>\n",
       "      <th>NA_Sales</th>\n",
       "      <th>EU_Sales</th>\n",
       "      <th>JP_Sales</th>\n",
       "      <th>Other_Sales</th>\n",
       "      <th>Global_Sales</th>\n",
       "    </tr>\n",
       "  </thead>\n",
       "  <tbody>\n",
       "    <tr>\n",
       "      <th>0</th>\n",
       "      <td>1</td>\n",
       "      <td>Wii Sports</td>\n",
       "      <td>Wii</td>\n",
       "      <td>2006.0</td>\n",
       "      <td>Sports</td>\n",
       "      <td>Nintendo</td>\n",
       "      <td>41.49</td>\n",
       "      <td>29.02</td>\n",
       "      <td>3.77</td>\n",
       "      <td>8.46</td>\n",
       "      <td>82.74</td>\n",
       "    </tr>\n",
       "    <tr>\n",
       "      <th>1</th>\n",
       "      <td>2</td>\n",
       "      <td>Super Mario Bros.</td>\n",
       "      <td>NES</td>\n",
       "      <td>1985.0</td>\n",
       "      <td>Platform</td>\n",
       "      <td>Nintendo</td>\n",
       "      <td>29.08</td>\n",
       "      <td>3.58</td>\n",
       "      <td>6.81</td>\n",
       "      <td>0.77</td>\n",
       "      <td>40.24</td>\n",
       "    </tr>\n",
       "    <tr>\n",
       "      <th>2</th>\n",
       "      <td>3</td>\n",
       "      <td>Mario Kart Wii</td>\n",
       "      <td>Wii</td>\n",
       "      <td>2008.0</td>\n",
       "      <td>Racing</td>\n",
       "      <td>Nintendo</td>\n",
       "      <td>15.85</td>\n",
       "      <td>12.88</td>\n",
       "      <td>3.79</td>\n",
       "      <td>3.31</td>\n",
       "      <td>35.82</td>\n",
       "    </tr>\n",
       "  </tbody>\n",
       "</table>\n",
       "</div>"
      ],
      "text/plain": [
       "   Rank               Name Platform    Year     Genre Publisher  NA_Sales  \\\n",
       "0     1         Wii Sports      Wii  2006.0    Sports  Nintendo     41.49   \n",
       "1     2  Super Mario Bros.      NES  1985.0  Platform  Nintendo     29.08   \n",
       "2     3     Mario Kart Wii      Wii  2008.0    Racing  Nintendo     15.85   \n",
       "\n",
       "   EU_Sales  JP_Sales  Other_Sales  Global_Sales  \n",
       "0     29.02      3.77         8.46         82.74  \n",
       "1      3.58      6.81         0.77         40.24  \n",
       "2     12.88      3.79         3.31         35.82  "
      ]
     },
     "execution_count": 2,
     "metadata": {},
     "output_type": "execute_result"
    }
   ],
   "source": [
    "game_sales[:3]"
   ]
  },
  {
   "cell_type": "code",
   "execution_count": 3,
   "id": "a1126742-c423-475c-b709-be2fb0f65d19",
   "metadata": {},
   "outputs": [],
   "source": [
    "selected_df = game_sales[(game_sales['Year'] < 2017) & (game_sales['Year'] > 2011)]"
   ]
  },
  {
   "cell_type": "markdown",
   "id": "dd97512c-a412-41a0-81b3-6e262a42af61",
   "metadata": {},
   "source": [
    "### Looking at raw numbers"
   ]
  },
  {
   "cell_type": "markdown",
   "id": "6a0e7107-971b-47d1-9e36-1f0690699284",
   "metadata": {},
   "source": [
    "So previously, we got an overview of our data by looking at raw numbers. And we did so simply by grouping our data by different categories, and plotting."
   ]
  },
  {
   "cell_type": "code",
   "execution_count": 4,
   "id": "28102f6e-9c42-4f92-99ca-97a01cdbb88c",
   "metadata": {},
   "outputs": [
    {
     "data": {
      "image/png": "[encoded data removed]",
      "text/plain": [
       "<Figure size 1400x200 with 1 Axes>"
      ]
     },
     "metadata": {},
     "output_type": "display_data"
    },
    {
     "data": {
      "image/png": "[encoded data removed]",
      "text/plain": [
       "<Figure size 1400x200 with 1 Axes>"
      ]
     },
     "metadata": {},
     "output_type": "display_data"
    },
    {
     "data": {
      "image/png": "[encoded data removed]",
      "text/plain": [
       "<Figure size 1400x200 with 1 Axes>"
      ]
     },
     "metadata": {},
     "output_type": "display_data"
    },
    {
     "data": {
      "image/png": "[encoded data removed]",
      "text/plain": [
       "<Figure size 1400x200 with 1 Axes>"
      ]
     },
     "metadata": {},
     "output_type": "display_data"
    },
    {
     "data": {
      "image/png": "[encoded data removed]",
      "text/plain": [
       "<Figure size 1400x200 with 1 Axes>"
      ]
     },
     "metadata": {},
     "output_type": "display_data"
    }
   ],
   "source": [
    "from item_lib import *\n",
    "\n",
    "cols = ['Name', 'Platform', 'Year', 'Genre', 'Publisher']\n",
    "target = 'Global_Sales'\n",
    "agg_name = 'percentage total sales'\n",
    "\n",
    "results = build_and_print(selected_df, cols, target, agg = 'sum', agg_name = agg_name, y_range=[0, .4])"
   ]
  },
  {
   "cell_type": "markdown",
   "id": "1cdd10d1-3acd-4643-a018-fa6294d07792",
   "metadata": {},
   "source": [
    "### Back to our overview - Comparing Growth Rates"
   ]
  },
  {
   "cell_type": "code",
   "execution_count": 5,
   "id": "73b5b8a7-35c4-4e1a-944a-33909078943b",
   "metadata": {},
   "outputs": [
    {
     "data": {
      "text/html": [
       "<div>\n",
       "<style scoped>\n",
       "    .dataframe tbody tr th:only-of-type {\n",
       "        vertical-align: middle;\n",
       "    }\n",
       "\n",
       "    .dataframe tbody tr th {\n",
       "        vertical-align: top;\n",
       "    }\n",
       "\n",
       "    .dataframe thead th {\n",
       "        text-align: right;\n",
       "    }\n",
       "</style>\n",
       "<table border=\"1\" class=\"dataframe\">\n",
       "  <thead>\n",
       "    <tr style=\"text-align: right;\">\n",
       "      <th></th>\n",
       "      <th>Rank</th>\n",
       "      <th>Name</th>\n",
       "      <th>Platform</th>\n",
       "      <th>Year</th>\n",
       "      <th>Genre</th>\n",
       "      <th>Publisher</th>\n",
       "      <th>NA_Sales</th>\n",
       "      <th>EU_Sales</th>\n",
       "      <th>JP_Sales</th>\n",
       "      <th>Other_Sales</th>\n",
       "      <th>Global_Sales</th>\n",
       "    </tr>\n",
       "  </thead>\n",
       "  <tbody>\n",
       "    <tr>\n",
       "      <th>16</th>\n",
       "      <td>17</td>\n",
       "      <td>Grand Theft Auto V</td>\n",
       "      <td>PS3</td>\n",
       "      <td>2013.0</td>\n",
       "      <td>Action</td>\n",
       "      <td>Take-Two Interactive</td>\n",
       "      <td>7.01</td>\n",
       "      <td>9.27</td>\n",
       "      <td>0.97</td>\n",
       "      <td>4.14</td>\n",
       "      <td>21.40</td>\n",
       "    </tr>\n",
       "    <tr>\n",
       "      <th>23</th>\n",
       "      <td>24</td>\n",
       "      <td>Grand Theft Auto V</td>\n",
       "      <td>X360</td>\n",
       "      <td>2013.0</td>\n",
       "      <td>Action</td>\n",
       "      <td>Take-Two Interactive</td>\n",
       "      <td>9.63</td>\n",
       "      <td>5.31</td>\n",
       "      <td>0.06</td>\n",
       "      <td>1.38</td>\n",
       "      <td>16.38</td>\n",
       "    </tr>\n",
       "    <tr>\n",
       "      <th>32</th>\n",
       "      <td>33</td>\n",
       "      <td>Pokemon X/Pokemon Y</td>\n",
       "      <td>3DS</td>\n",
       "      <td>2013.0</td>\n",
       "      <td>Role-Playing</td>\n",
       "      <td>Nintendo</td>\n",
       "      <td>5.17</td>\n",
       "      <td>4.05</td>\n",
       "      <td>4.34</td>\n",
       "      <td>0.79</td>\n",
       "      <td>14.35</td>\n",
       "    </tr>\n",
       "  </tbody>\n",
       "</table>\n",
       "</div>"
      ],
      "text/plain": [
       "    Rank                 Name Platform    Year         Genre  \\\n",
       "16    17   Grand Theft Auto V      PS3  2013.0        Action   \n",
       "23    24   Grand Theft Auto V     X360  2013.0        Action   \n",
       "32    33  Pokemon X/Pokemon Y      3DS  2013.0  Role-Playing   \n",
       "\n",
       "               Publisher  NA_Sales  EU_Sales  JP_Sales  Other_Sales  \\\n",
       "16  Take-Two Interactive      7.01      9.27      0.97         4.14   \n",
       "23  Take-Two Interactive      9.63      5.31      0.06         1.38   \n",
       "32              Nintendo      5.17      4.05      4.34         0.79   \n",
       "\n",
       "    Global_Sales  \n",
       "16         21.40  \n",
       "23         16.38  \n",
       "32         14.35  "
      ]
     },
     "execution_count": 5,
     "metadata": {},
     "output_type": "execute_result"
    }
   ],
   "source": [
    "selected_df[:3]"
   ]
  },
  {
   "cell_type": "code",
   "execution_count": 9,
   "id": "8ac1c3cb-d614-4041-be28-580bb851afd5",
   "metadata": {},
   "outputs": [
    {
     "data": {
      "text/html": [
       "<div>\n",
       "<style scoped>\n",
       "    .dataframe tbody tr th:only-of-type {\n",
       "        vertical-align: middle;\n",
       "    }\n",
       "\n",
       "    .dataframe tbody tr th {\n",
       "        vertical-align: top;\n",
       "    }\n",
       "\n",
       "    .dataframe thead th {\n",
       "        text-align: right;\n",
       "    }\n",
       "</style>\n",
       "<table border=\"1\" class=\"dataframe\">\n",
       "  <thead>\n",
       "    <tr style=\"text-align: right;\">\n",
       "      <th></th>\n",
       "      <th></th>\n",
       "      <th>Global_Sales</th>\n",
       "    </tr>\n",
       "    <tr>\n",
       "      <th>Genre</th>\n",
       "      <th>Year</th>\n",
       "      <th></th>\n",
       "    </tr>\n",
       "  </thead>\n",
       "  <tbody>\n",
       "    <tr>\n",
       "      <th rowspan=\"5\" valign=\"top\">Action</th>\n",
       "      <th>2012.0</th>\n",
       "      <td>122.04</td>\n",
       "    </tr>\n",
       "    <tr>\n",
       "      <th>2013.0</th>\n",
       "      <td>125.22</td>\n",
       "    </tr>\n",
       "    <tr>\n",
       "      <th>2014.0</th>\n",
       "      <td>99.02</td>\n",
       "    </tr>\n",
       "    <tr>\n",
       "      <th>2015.0</th>\n",
       "      <td>70.70</td>\n",
       "    </tr>\n",
       "    <tr>\n",
       "      <th>2016.0</th>\n",
       "      <td>19.91</td>\n",
       "    </tr>\n",
       "    <tr>\n",
       "      <th rowspan=\"5\" valign=\"top\">Adventure</th>\n",
       "      <th>2012.0</th>\n",
       "      <td>5.99</td>\n",
       "    </tr>\n",
       "    <tr>\n",
       "      <th>2013.0</th>\n",
       "      <td>6.61</td>\n",
       "    </tr>\n",
       "    <tr>\n",
       "      <th>2014.0</th>\n",
       "      <td>6.06</td>\n",
       "    </tr>\n",
       "    <tr>\n",
       "      <th>2015.0</th>\n",
       "      <td>8.03</td>\n",
       "    </tr>\n",
       "    <tr>\n",
       "      <th>2016.0</th>\n",
       "      <td>1.81</td>\n",
       "    </tr>\n",
       "  </tbody>\n",
       "</table>\n",
       "</div>"
      ],
      "text/plain": [
       "                  Global_Sales\n",
       "Genre     Year                \n",
       "Action    2012.0        122.04\n",
       "          2013.0        125.22\n",
       "          2014.0         99.02\n",
       "          2015.0         70.70\n",
       "          2016.0         19.91\n",
       "Adventure 2012.0          5.99\n",
       "          2013.0          6.61\n",
       "          2014.0          6.06\n",
       "          2015.0          8.03\n",
       "          2016.0          1.81"
      ]
     },
     "execution_count": 9,
     "metadata": {},
     "output_type": "execute_result"
    }
   ],
   "source": [
    "sales_per_genre_per_yr = selected_df.groupby(['Genre', 'Year']).sum(numeric_only = True)[['Global_Sales']]\n",
    "sales_per_genre_per_yr[:10]"
   ]
  },
  {
   "cell_type": "code",
   "execution_count": 12,
   "id": "f0aea7a2-df83-4359-a595-bd26deb50093",
   "metadata": {},
   "outputs": [
    {
     "data": {
      "text/html": [
       "<div>\n",
       "<style scoped>\n",
       "    .dataframe tbody tr th:only-of-type {\n",
       "        vertical-align: middle;\n",
       "    }\n",
       "\n",
       "    .dataframe tbody tr th {\n",
       "        vertical-align: top;\n",
       "    }\n",
       "\n",
       "    .dataframe thead th {\n",
       "        text-align: right;\n",
       "    }\n",
       "</style>\n",
       "<table border=\"1\" class=\"dataframe\">\n",
       "  <thead>\n",
       "    <tr style=\"text-align: right;\">\n",
       "      <th></th>\n",
       "      <th>Genre</th>\n",
       "      <th>Year</th>\n",
       "      <th>Global_Sales</th>\n",
       "    </tr>\n",
       "  </thead>\n",
       "  <tbody>\n",
       "    <tr>\n",
       "      <th>0</th>\n",
       "      <td>Action</td>\n",
       "      <td>2012.0</td>\n",
       "      <td>122.04</td>\n",
       "    </tr>\n",
       "    <tr>\n",
       "      <th>1</th>\n",
       "      <td>Action</td>\n",
       "      <td>2013.0</td>\n",
       "      <td>125.22</td>\n",
       "    </tr>\n",
       "    <tr>\n",
       "      <th>2</th>\n",
       "      <td>Action</td>\n",
       "      <td>2014.0</td>\n",
       "      <td>99.02</td>\n",
       "    </tr>\n",
       "    <tr>\n",
       "      <th>3</th>\n",
       "      <td>Action</td>\n",
       "      <td>2015.0</td>\n",
       "      <td>70.70</td>\n",
       "    </tr>\n",
       "  </tbody>\n",
       "</table>\n",
       "</div>"
      ],
      "text/plain": [
       "    Genre    Year  Global_Sales\n",
       "0  Action  2012.0        122.04\n",
       "1  Action  2013.0        125.22\n",
       "2  Action  2014.0         99.02\n",
       "3  Action  2015.0         70.70"
      ]
     },
     "execution_count": 12,
     "metadata": {},
     "output_type": "execute_result"
    }
   ],
   "source": [
    "idx_sales_per_genre_per_yr = sales_per_genre_per_yr.reset_index()\n",
    "idx_sales_per_genre_per_yr[:4]"
   ]
  },
  {
   "cell_type": "code",
   "execution_count": 15,
   "id": "73aa4bd9-e46f-4f4c-84f0-ba89d9e90447",
   "metadata": {},
   "outputs": [],
   "source": [
    "pct_change = idx_sales_per_genre_per_yr[['Global_Sales']].pct_change(periods = 2)"
   ]
  },
  {
   "cell_type": "code",
   "execution_count": 17,
   "id": "62b196ea-b8b4-4349-93a3-8e45135540da",
   "metadata": {},
   "outputs": [
    {
     "data": {
      "text/html": [
       "<div>\n",
       "<style scoped>\n",
       "    .dataframe tbody tr th:only-of-type {\n",
       "        vertical-align: middle;\n",
       "    }\n",
       "\n",
       "    .dataframe tbody tr th {\n",
       "        vertical-align: top;\n",
       "    }\n",
       "\n",
       "    .dataframe thead th {\n",
       "        text-align: right;\n",
       "    }\n",
       "</style>\n",
       "<table border=\"1\" class=\"dataframe\">\n",
       "  <thead>\n",
       "    <tr style=\"text-align: right;\">\n",
       "      <th></th>\n",
       "      <th>Genre</th>\n",
       "      <th>Year</th>\n",
       "      <th>Global_Sales</th>\n",
       "      <th>pct_change_sales</th>\n",
       "    </tr>\n",
       "  </thead>\n",
       "  <tbody>\n",
       "    <tr>\n",
       "      <th>0</th>\n",
       "      <td>Action</td>\n",
       "      <td>2012.0</td>\n",
       "      <td>122.04</td>\n",
       "      <td>NaN</td>\n",
       "    </tr>\n",
       "    <tr>\n",
       "      <th>1</th>\n",
       "      <td>Action</td>\n",
       "      <td>2013.0</td>\n",
       "      <td>125.22</td>\n",
       "      <td>NaN</td>\n",
       "    </tr>\n",
       "    <tr>\n",
       "      <th>2</th>\n",
       "      <td>Action</td>\n",
       "      <td>2014.0</td>\n",
       "      <td>99.02</td>\n",
       "      <td>-0.188627</td>\n",
       "    </tr>\n",
       "    <tr>\n",
       "      <th>3</th>\n",
       "      <td>Action</td>\n",
       "      <td>2015.0</td>\n",
       "      <td>70.70</td>\n",
       "      <td>-0.435394</td>\n",
       "    </tr>\n",
       "    <tr>\n",
       "      <th>4</th>\n",
       "      <td>Action</td>\n",
       "      <td>2016.0</td>\n",
       "      <td>19.91</td>\n",
       "      <td>-0.798930</td>\n",
       "    </tr>\n",
       "    <tr>\n",
       "      <th>5</th>\n",
       "      <td>Adventure</td>\n",
       "      <td>2012.0</td>\n",
       "      <td>5.99</td>\n",
       "      <td>-0.915276</td>\n",
       "    </tr>\n",
       "    <tr>\n",
       "      <th>6</th>\n",
       "      <td>Adventure</td>\n",
       "      <td>2013.0</td>\n",
       "      <td>6.61</td>\n",
       "      <td>-0.668006</td>\n",
       "    </tr>\n",
       "    <tr>\n",
       "      <th>7</th>\n",
       "      <td>Adventure</td>\n",
       "      <td>2014.0</td>\n",
       "      <td>6.06</td>\n",
       "      <td>0.011686</td>\n",
       "    </tr>\n",
       "    <tr>\n",
       "      <th>8</th>\n",
       "      <td>Adventure</td>\n",
       "      <td>2015.0</td>\n",
       "      <td>8.03</td>\n",
       "      <td>0.214826</td>\n",
       "    </tr>\n",
       "    <tr>\n",
       "      <th>9</th>\n",
       "      <td>Adventure</td>\n",
       "      <td>2016.0</td>\n",
       "      <td>1.81</td>\n",
       "      <td>-0.701320</td>\n",
       "    </tr>\n",
       "  </tbody>\n",
       "</table>\n",
       "</div>"
      ],
      "text/plain": [
       "       Genre    Year  Global_Sales  pct_change_sales\n",
       "0     Action  2012.0        122.04               NaN\n",
       "1     Action  2013.0        125.22               NaN\n",
       "2     Action  2014.0         99.02         -0.188627\n",
       "3     Action  2015.0         70.70         -0.435394\n",
       "4     Action  2016.0         19.91         -0.798930\n",
       "5  Adventure  2012.0          5.99         -0.915276\n",
       "6  Adventure  2013.0          6.61         -0.668006\n",
       "7  Adventure  2014.0          6.06          0.011686\n",
       "8  Adventure  2015.0          8.03          0.214826\n",
       "9  Adventure  2016.0          1.81         -0.701320"
      ]
     },
     "execution_count": 17,
     "metadata": {},
     "output_type": "execute_result"
    }
   ],
   "source": [
    "sales_with_growth = idx_sales_per_genre_per_yr.assign(pct_change_sales = pct_change)\n",
    "sales_with_growth[:10]"
   ]
  },
  {
   "cell_type": "code",
   "execution_count": 21,
   "id": "50a62f6a-6005-45d5-a418-b47d1caeb54a",
   "metadata": {},
   "outputs": [
    {
     "data": {
      "text/html": [
       "<div>\n",
       "<style scoped>\n",
       "    .dataframe tbody tr th:only-of-type {\n",
       "        vertical-align: middle;\n",
       "    }\n",
       "\n",
       "    .dataframe tbody tr th {\n",
       "        vertical-align: top;\n",
       "    }\n",
       "\n",
       "    .dataframe thead th {\n",
       "        text-align: right;\n",
       "    }\n",
       "</style>\n",
       "<table border=\"1\" class=\"dataframe\">\n",
       "  <thead>\n",
       "    <tr style=\"text-align: right;\">\n",
       "      <th></th>\n",
       "      <th>Genre</th>\n",
       "      <th>Year</th>\n",
       "      <th>Global_Sales</th>\n",
       "      <th>pct_change_sales</th>\n",
       "    </tr>\n",
       "  </thead>\n",
       "  <tbody>\n",
       "    <tr>\n",
       "      <th>2</th>\n",
       "      <td>Action</td>\n",
       "      <td>2014.0</td>\n",
       "      <td>99.02</td>\n",
       "      <td>-0.188627</td>\n",
       "    </tr>\n",
       "    <tr>\n",
       "      <th>7</th>\n",
       "      <td>Adventure</td>\n",
       "      <td>2014.0</td>\n",
       "      <td>6.06</td>\n",
       "      <td>0.011686</td>\n",
       "    </tr>\n",
       "    <tr>\n",
       "      <th>12</th>\n",
       "      <td>Fighting</td>\n",
       "      <td>2014.0</td>\n",
       "      <td>16.15</td>\n",
       "      <td>0.698212</td>\n",
       "    </tr>\n",
       "    <tr>\n",
       "      <th>17</th>\n",
       "      <td>Misc</td>\n",
       "      <td>2014.0</td>\n",
       "      <td>23.68</td>\n",
       "      <td>0.033159</td>\n",
       "    </tr>\n",
       "    <tr>\n",
       "      <th>22</th>\n",
       "      <td>Platform</td>\n",
       "      <td>2014.0</td>\n",
       "      <td>8.89</td>\n",
       "      <td>-0.520755</td>\n",
       "    </tr>\n",
       "    <tr>\n",
       "      <th>27</th>\n",
       "      <td>Puzzle</td>\n",
       "      <td>2014.0</td>\n",
       "      <td>1.50</td>\n",
       "      <td>-0.147727</td>\n",
       "    </tr>\n",
       "    <tr>\n",
       "      <th>31</th>\n",
       "      <td>Racing</td>\n",
       "      <td>2014.0</td>\n",
       "      <td>16.69</td>\n",
       "      <td>0.154219</td>\n",
       "    </tr>\n",
       "    <tr>\n",
       "      <th>36</th>\n",
       "      <td>Role-Playing</td>\n",
       "      <td>2014.0</td>\n",
       "      <td>45.86</td>\n",
       "      <td>-0.040786</td>\n",
       "    </tr>\n",
       "    <tr>\n",
       "      <th>41</th>\n",
       "      <td>Shooter</td>\n",
       "      <td>2014.0</td>\n",
       "      <td>66.00</td>\n",
       "      <td>-0.094153</td>\n",
       "    </tr>\n",
       "    <tr>\n",
       "      <th>46</th>\n",
       "      <td>Simulation</td>\n",
       "      <td>2014.0</td>\n",
       "      <td>5.55</td>\n",
       "      <td>-0.585202</td>\n",
       "    </tr>\n",
       "  </tbody>\n",
       "</table>\n",
       "</div>"
      ],
      "text/plain": [
       "           Genre    Year  Global_Sales  pct_change_sales\n",
       "2         Action  2014.0         99.02         -0.188627\n",
       "7      Adventure  2014.0          6.06          0.011686\n",
       "12      Fighting  2014.0         16.15          0.698212\n",
       "17          Misc  2014.0         23.68          0.033159\n",
       "22      Platform  2014.0          8.89         -0.520755\n",
       "27        Puzzle  2014.0          1.50         -0.147727\n",
       "31        Racing  2014.0         16.69          0.154219\n",
       "36  Role-Playing  2014.0         45.86         -0.040786\n",
       "41       Shooter  2014.0         66.00         -0.094153\n",
       "46    Simulation  2014.0          5.55         -0.585202"
      ]
     },
     "execution_count": 21,
     "metadata": {},
     "output_type": "execute_result"
    }
   ],
   "source": [
    "sales_growth_2014 = sales_with_growth[sales_with_growth['Year'] == 2014]\n",
    "sales_growth_2014[:10]"
   ]
  },
  {
   "cell_type": "markdown",
   "id": "9fea48dd-9e6c-4e6e-88dc-e6de44c82e52",
   "metadata": {},
   "source": [
    "### Building a BCG Chart"
   ]
  },
  {
   "cell_type": "code",
   "execution_count": null,
   "id": "9b340440-f4d6-40fe-9ef2-999031ade186",
   "metadata": {},
   "outputs": [],
   "source": []
  },
  {
   "cell_type": "code",
   "execution_count": 25,
   "id": "7375eea0-4450-449a-accd-31b1e1661617",
   "metadata": {},
   "outputs": [
    {
     "data": {
      "image/png": "[encoded data removed]",
      "text/plain": [
       "<Figure size 640x480 with 1 Axes>"
      ]
     },
     "metadata": {},
     "output_type": "display_data"
    }
   ],
   "source": [
    "import matplotlib.pyplot as plt\n",
    "\n",
    "# Plot scatter plot\n",
    "ax = sales_growth_2014.plot.scatter(x='Global_Sales', y='pct_change_sales')\n",
    "\n",
    "# Add labels to the data points\n",
    "for i, row in sales_growth_2014.iterrows():\n",
    "    ax.text(row['Global_Sales'], row['pct_change_sales'], row['Genre'])"
   ]
  },
  {
   "cell_type": "markdown",
   "id": "3ad77aff-13ac-4617-b820-c7c54cfd5d5c",
   "metadata": {},
   "source": [
    "So now we can view our different genres across both axes -- the amount of total sales is on the x axis and the percent change in sales in the y axis.  \n",
    "\n",
    "And we can divide our grid into different quadrants."
   ]
  },
  {
   "cell_type": "markdown",
   "id": "e1f10940-bc3f-47c6-bd07-c42af1f8f23d",
   "metadata": {},
   "source": [
    "<img src=\"./bcg-chart.png\" width=\"60%\">"
   ]
  },
  {
   "cell_type": "markdown",
   "id": "e0b8a849-479e-4715-a042-c80408f351ea",
   "metadata": {},
   "source": [
    "* Stars (top right): have both high growth rate and has current sales\n",
    "* Cash cows (bottom right): Have high sales but have plateaued (eg. Action)\n",
    "* Question Mark: (top left): High growth rate, but low sales\n",
    "* Pets: Low growth rates and low sales"
   ]
  },
  {
   "cell_type": "markdown",
   "id": "6cd75c61-b72e-4c35-a48e-5bd058768999",
   "metadata": {},
   "source": [
    "A BCG chart is nice way to view categories, when we are trying to optimize across two metrics.  Note that we could choose *various* metrics to be plotted against our X and Y axis.\n",
    "\n",
    "For example, maybe \n",
    "* it's low cost and high quality \n",
    "* Companies with high salaries and benefits\n",
    "\n",
    "Either way, the strategy is the same -- find two metrics to plot our categories against, and focus on a specific quadrant where both are satisfied."
   ]
  },
  {
   "cell_type": "markdown",
   "id": "1da04b5d-c5a6-4b15-b8fe-d88f8ac93b52",
   "metadata": {},
   "source": [
    "### Summary"
   ]
  },
  {
   "cell_type": "markdown",
   "id": "e0cd035a-0154-496d-9463-f2f0e9aafd0d",
   "metadata": {},
   "source": [
    "So in this lesson, we saw another way to get an overview, which is to look at the growth rates.  We saw that we first need repeating data over different time periods -- so to accomplish this we grouped our data by genre and year to then look at the growth rate of different genres."
   ]
  },
  {
   "cell_type": "code",
   "execution_count": null,
   "id": "1c0c37d0-cd7d-4887-8308-71c6a4261255",
   "metadata": {},
   "outputs": [],
   "source": [
    "target = 'Global_Sales'\n",
    "agg_name = 'percentage total sales'\n",
    "cols = ['Genre', 'Year']\n",
    "\n",
    "grouped_data = selected_df.groupby(cols)[target].agg(['sum'])\n",
    "grouped_data[:10]"
   ]
  },
  {
   "cell_type": "markdown",
   "id": "e001e395-2e51-46f0-b22f-7a6c34f69a7c",
   "metadata": {},
   "source": [
    "From there, we looked calculated the percentage change, and selected the percentage change of a specific year."
   ]
  },
  {
   "cell_type": "code",
   "execution_count": 58,
   "id": "6319f660-aad0-459c-bff8-b7682817b62f",
   "metadata": {},
   "outputs": [],
   "source": [
    "data_pct_change_over_two_years = selected_df.groupby(cols)[target].agg(['sum']).pct_change(periods = 2)"
   ]
  },
  {
   "cell_type": "code",
   "execution_count": 59,
   "id": "113413d6-81ca-472a-b7a6-28a99af2347a",
   "metadata": {},
   "outputs": [],
   "source": [
    "filtered_data = data_pct_change.loc[pd.IndexSlice[:, 2014], :]"
   ]
  },
  {
   "cell_type": "markdown",
   "id": "f4b56447-db4a-4e70-bc9f-d0ae4f6092f8",
   "metadata": {},
   "source": [
    "We then merged this with our total sales by genre for that same year.  Then added the genre as a column."
   ]
  },
  {
   "cell_type": "code",
   "execution_count": 39,
   "id": "4fd0cfec-d580-4f03-b6da-5e7d656ba422",
   "metadata": {},
   "outputs": [],
   "source": [
    "merged_df = pd.merge(total_2014, pct_change_df, on='Genre', how='outer')\n",
    "merged_with_col = merged_df.reset_index()"
   ]
  },
  {
   "cell_type": "markdown",
   "id": "8c0d516b-8891-4126-88bd-97e4d97529b9",
   "metadata": {},
   "source": [
    "And finally plotted our data."
   ]
  },
  {
   "cell_type": "code",
   "execution_count": 42,
   "id": "df5ab53c-03c4-4547-b3cc-94fc8ba966c9",
   "metadata": {},
   "outputs": [],
   "source": [
    "import matplotlib.pyplot as plt\n",
    "\n",
    "# Plot scatter plot\n",
    "ax = merged_with_col.plot.scatter(x='total', y='pct_change_sales')\n",
    "\n",
    "# Add labels to the data points\n",
    "for i, row in merged_with_col.iterrows():\n",
    "    ax.text(row['total'], row['pct_change_sales'], row['Genre'])"
   ]
  },
  {
   "cell_type": "markdown",
   "id": "8eefcc60-0054-4ebd-b667-3b2cad80db17",
   "metadata": {},
   "source": [
    "### Resources"
   ]
  },
  {
   "cell_type": "markdown",
   "id": "b7d21282-74f7-488b-9d5b-48273e8cc9d1",
   "metadata": {},
   "source": [
    "[Supermarket Sales](https://www.kaggle.com/datasets/aungpyaeap/supermarket-sales)"
   ]
  },
  {
   "cell_type": "markdown",
   "id": "8343a3a0-329e-4385-835c-cf93f21e84a2",
   "metadata": {},
   "source": [
    "[Ecommerce Behavior](https://www.kaggle.com/datasets/mkechinov/ecommerce-behavior-data-from-multi-category-store)"
   ]
  }
 ],
 "metadata": {
  "kernelspec": {
   "display_name": "Python 3 (ipykernel)",
   "language": "python",
   "name": "python3"
  },
  "language_info": {
   "codemirror_mode": {
    "name": "ipython",
    "version": 3
   },
   "file_extension": ".py",
   "mimetype": "text/x-python",
   "name": "python",
   "nbconvert_exporter": "python",
   "pygments_lexer": "ipython3",
   "version": "3.9.12"
  }
 },
 "nbformat": 4,
 "nbformat_minor": 5
}
