{
 "cells": [
  {
   "cell_type": "markdown",
   "id": "c488f61a-44b3-45d2-8f47-5c9818c8a610",
   "metadata": {},
   "source": [
    "# Olist Cleaning and Checking Data"
   ]
  },
  {
   "cell_type": "markdown",
   "id": "5102b1c5-2ae0-45be-aacf-97451485163c",
   "metadata": {},
   "source": [
    "### Introduction"
   ]
  },
  {
   "cell_type": "markdown",
   "id": "265f2f92-8246-465f-b029-0daf281b0af5",
   "metadata": {},
   "source": [
    "In this lesson we'll work with data from the [Olist Kaggle Competition](https://www.kaggle.com/datasets/olistbr/brazilian-ecommerce)."
   ]
  },
  {
   "cell_type": "code",
   "execution_count": 41,
   "id": "103b852c-3568-454c-bcdf-69a7414fa897",
   "metadata": {},
   "outputs": [
    {
     "name": "stdout",
     "output_type": "stream",
     "text": [
      "olist_customers_dataset.csv            olist_orders_dataset.csv\n",
      "olist_geolocation_dataset.csv          olist_products_dataset.csv\n",
      "olist_order_items_dataset.csv          olist_sellers_dataset.csv\n",
      "olist_order_payments_dataset.csv       product_category_name_translation.csv\n",
      "olist_order_reviews_dataset.csv\n"
     ]
    }
   ],
   "source": [
    "ls olist-data"
   ]
  },
  {
   "cell_type": "code",
   "execution_count": 42,
   "id": "493953f7-6a8f-4f7a-bf70-4900f4a305d5",
   "metadata": {},
   "outputs": [],
   "source": [
    "import os\n",
    "import pandas as pd\n",
    "\n",
    "dataframe_set = {}\n",
    "\n",
    "for csv_file in os.listdir('olist-data'):\n",
    "    names = csv_file.split('_')[1:-1]\n",
    "    full_name = '_'.join(names)\n",
    "    dataframe_set[full_name] = pd.read_csv(f'olist-data/{csv_file}')"
   ]
  },
  {
   "cell_type": "code",
   "execution_count": 43,
   "id": "1c6a7d6e-e7d2-4f03-9ce3-91b3f29b587e",
   "metadata": {},
   "outputs": [
    {
     "data": {
      "text/plain": [
       "dict_keys(['sellers', 'category_name', 'orders', 'order_items', 'customers', 'geolocation', 'order_payments', 'order_reviews', 'products'])"
      ]
     },
     "execution_count": 43,
     "metadata": {},
     "output_type": "execute_result"
    }
   ],
   "source": [
    "dataframe_set.keys()"
   ]
  },
  {
   "cell_type": "code",
   "execution_count": 44,
   "id": "55e92411-6f1d-4e04-98a8-d576f0f0dcc9",
   "metadata": {},
   "outputs": [
    {
     "data": {
      "text/html": [
       "<div>\n",
       "<style scoped>\n",
       "    .dataframe tbody tr th:only-of-type {\n",
       "        vertical-align: middle;\n",
       "    }\n",
       "\n",
       "    .dataframe tbody tr th {\n",
       "        vertical-align: top;\n",
       "    }\n",
       "\n",
       "    .dataframe thead th {\n",
       "        text-align: right;\n",
       "    }\n",
       "</style>\n",
       "<table border=\"1\" class=\"dataframe\">\n",
       "  <thead>\n",
       "    <tr style=\"text-align: right;\">\n",
       "      <th></th>\n",
       "      <th>order_id</th>\n",
       "      <th>customer_id</th>\n",
       "      <th>order_status</th>\n",
       "      <th>order_purchase_timestamp</th>\n",
       "      <th>order_approved_at</th>\n",
       "      <th>order_delivered_carrier_date</th>\n",
       "      <th>order_delivered_customer_date</th>\n",
       "      <th>order_estimated_delivery_date</th>\n",
       "      <th>customer_unique_id</th>\n",
       "      <th>customer_zip_code_prefix</th>\n",
       "      <th>...</th>\n",
       "      <th>price</th>\n",
       "      <th>freight_value</th>\n",
       "      <th>product_category_name</th>\n",
       "      <th>product_name_lenght</th>\n",
       "      <th>product_description_lenght</th>\n",
       "      <th>product_photos_qty</th>\n",
       "      <th>product_weight_g</th>\n",
       "      <th>product_length_cm</th>\n",
       "      <th>product_height_cm</th>\n",
       "      <th>product_width_cm</th>\n",
       "    </tr>\n",
       "  </thead>\n",
       "  <tbody>\n",
       "    <tr>\n",
       "      <th>0</th>\n",
       "      <td>e481f51cbdc54678b7cc49136f2d6af7</td>\n",
       "      <td>9ef432eb6251297304e76186b10a928d</td>\n",
       "      <td>delivered</td>\n",
       "      <td>2017-10-02 10:56:33</td>\n",
       "      <td>2017-10-02 11:07:15</td>\n",
       "      <td>2017-10-04 19:55:00</td>\n",
       "      <td>2017-10-10 21:25:13</td>\n",
       "      <td>2017-10-18 00:00:00</td>\n",
       "      <td>7c396fd4830fd04220f754e42b4e5bff</td>\n",
       "      <td>3149</td>\n",
       "      <td>...</td>\n",
       "      <td>29.99</td>\n",
       "      <td>8.72</td>\n",
       "      <td>utilidades_domesticas</td>\n",
       "      <td>40.0</td>\n",
       "      <td>268.0</td>\n",
       "      <td>4.0</td>\n",
       "      <td>500.0</td>\n",
       "      <td>19.0</td>\n",
       "      <td>8.0</td>\n",
       "      <td>13.0</td>\n",
       "    </tr>\n",
       "    <tr>\n",
       "      <th>1</th>\n",
       "      <td>128e10d95713541c87cd1a2e48201934</td>\n",
       "      <td>a20e8105f23924cd00833fd87daa0831</td>\n",
       "      <td>delivered</td>\n",
       "      <td>2017-08-15 18:29:31</td>\n",
       "      <td>2017-08-15 20:05:16</td>\n",
       "      <td>2017-08-17 15:28:33</td>\n",
       "      <td>2017-08-18 14:44:43</td>\n",
       "      <td>2017-08-28 00:00:00</td>\n",
       "      <td>3a51803cc0d012c3b5dc8b7528cb05f7</td>\n",
       "      <td>3366</td>\n",
       "      <td>...</td>\n",
       "      <td>29.99</td>\n",
       "      <td>7.78</td>\n",
       "      <td>utilidades_domesticas</td>\n",
       "      <td>40.0</td>\n",
       "      <td>268.0</td>\n",
       "      <td>4.0</td>\n",
       "      <td>500.0</td>\n",
       "      <td>19.0</td>\n",
       "      <td>8.0</td>\n",
       "      <td>13.0</td>\n",
       "    </tr>\n",
       "  </tbody>\n",
       "</table>\n",
       "<p>2 rows × 26 columns</p>\n",
       "</div>"
      ],
      "text/plain": [
       "                           order_id                       customer_id  \\\n",
       "0  e481f51cbdc54678b7cc49136f2d6af7  9ef432eb6251297304e76186b10a928d   \n",
       "1  128e10d95713541c87cd1a2e48201934  a20e8105f23924cd00833fd87daa0831   \n",
       "\n",
       "  order_status order_purchase_timestamp    order_approved_at  \\\n",
       "0    delivered      2017-10-02 10:56:33  2017-10-02 11:07:15   \n",
       "1    delivered      2017-08-15 18:29:31  2017-08-15 20:05:16   \n",
       "\n",
       "  order_delivered_carrier_date order_delivered_customer_date  \\\n",
       "0          2017-10-04 19:55:00           2017-10-10 21:25:13   \n",
       "1          2017-08-17 15:28:33           2017-08-18 14:44:43   \n",
       "\n",
       "  order_estimated_delivery_date                customer_unique_id  \\\n",
       "0           2017-10-18 00:00:00  7c396fd4830fd04220f754e42b4e5bff   \n",
       "1           2017-08-28 00:00:00  3a51803cc0d012c3b5dc8b7528cb05f7   \n",
       "\n",
       "   customer_zip_code_prefix  ...  price freight_value  product_category_name  \\\n",
       "0                      3149  ...  29.99          8.72  utilidades_domesticas   \n",
       "1                      3366  ...  29.99          7.78  utilidades_domesticas   \n",
       "\n",
       "  product_name_lenght product_description_lenght product_photos_qty  \\\n",
       "0                40.0                      268.0                4.0   \n",
       "1                40.0                      268.0                4.0   \n",
       "\n",
       "   product_weight_g  product_length_cm product_height_cm  product_width_cm  \n",
       "0             500.0               19.0               8.0              13.0  \n",
       "1             500.0               19.0               8.0              13.0  \n",
       "\n",
       "[2 rows x 26 columns]"
      ]
     },
     "execution_count": 44,
     "metadata": {},
     "output_type": "execute_result"
    }
   ],
   "source": [
    "orders_df = dataframe_set['orders']\n",
    "orders_customers_df = orders_df.merge(dataframe_set['customers'], on = 'customer_id')\n",
    "orders_products_df = orders_customers_df.merge(dataframe_set['order_items'], on = 'order_id').merge(dataframe_set['products'], on = 'product_id')\n",
    "# dataframe_set['customers']\n",
    "\n",
    "orders_products_df[:2]"
   ]
  },
  {
   "cell_type": "markdown",
   "id": "23d61f78-3ee5-444b-be3f-d8ade13c723a",
   "metadata": {},
   "source": [
    "* Understanding the dimension of the data"
   ]
  },
  {
   "cell_type": "markdown",
   "id": "4e76421c-5f75-40ee-903f-e58f673e96d0",
   "metadata": {},
   "source": [
    "Here, each row represents each individual item in a particular `order`, which we can think of a shopping cart experience.  So each row is an item that was purchased in a shopping cart."
   ]
  },
  {
   "cell_type": "markdown",
   "id": "cde222e1-8b9e-4222-9384-78e069c20293",
   "metadata": {},
   "source": [
    "* Selecting columns from our dataframe"
   ]
  },
  {
   "cell_type": "code",
   "execution_count": 45,
   "id": "76118288-5bda-46a0-bec6-9bcb80f33af1",
   "metadata": {},
   "outputs": [
    {
     "data": {
      "text/plain": [
       "Index(['order_id', 'customer_id', 'order_status', 'order_purchase_timestamp',\n",
       "       'order_approved_at', 'order_delivered_carrier_date',\n",
       "       'order_delivered_customer_date', 'order_estimated_delivery_date',\n",
       "       'customer_unique_id', 'customer_zip_code_prefix', 'customer_city',\n",
       "       'customer_state', 'order_item_id', 'product_id', 'seller_id'],\n",
       "      dtype='object')"
      ]
     },
     "execution_count": 45,
     "metadata": {},
     "output_type": "execute_result"
    }
   ],
   "source": [
    "orders_products_df.columns[:15]"
   ]
  },
  {
   "cell_type": "code",
   "execution_count": 46,
   "id": "86ea5a7c-d6e3-4b90-853a-40a96db8bfbc",
   "metadata": {},
   "outputs": [
    {
     "name": "stdout",
     "output_type": "stream",
     "text": [
      "['order_purchase_timestamp', 'customer_zip_code_prefix', 'customer_city', 'customer_state', 'product_category_name', 'order_id', 'customer_id', 'product_id', 'price']\n"
     ]
    }
   ],
   "source": [
    "target_cols = ['price']\n",
    "\n",
    "id_cols = ['order_id', 'customer_id', 'product_id']\n",
    "order_cols = [ 'order_purchase_timestamp']\n",
    "customer_cols = ['customer_zip_code_prefix', 'customer_city', 'customer_state']\n",
    "product_cols = ['product_category_name']\n",
    "\n",
    "selected_cols = order_cols + customer_cols + product_cols + id_cols + target_cols\n",
    "print(selected_cols)"
   ]
  },
  {
   "cell_type": "code",
   "execution_count": 47,
   "id": "2fec9010-95b0-497a-9a1b-490383349043",
   "metadata": {},
   "outputs": [
    {
     "data": {
      "text/html": [
       "<div>\n",
       "<style scoped>\n",
       "    .dataframe tbody tr th:only-of-type {\n",
       "        vertical-align: middle;\n",
       "    }\n",
       "\n",
       "    .dataframe tbody tr th {\n",
       "        vertical-align: top;\n",
       "    }\n",
       "\n",
       "    .dataframe thead th {\n",
       "        text-align: right;\n",
       "    }\n",
       "</style>\n",
       "<table border=\"1\" class=\"dataframe\">\n",
       "  <thead>\n",
       "    <tr style=\"text-align: right;\">\n",
       "      <th></th>\n",
       "      <th>order_purchase_timestamp</th>\n",
       "      <th>customer_zip_code_prefix</th>\n",
       "      <th>customer_city</th>\n",
       "      <th>customer_state</th>\n",
       "      <th>product_category_name</th>\n",
       "      <th>order_id</th>\n",
       "      <th>customer_id</th>\n",
       "      <th>product_id</th>\n",
       "      <th>price</th>\n",
       "    </tr>\n",
       "  </thead>\n",
       "  <tbody>\n",
       "    <tr>\n",
       "      <th>0</th>\n",
       "      <td>2017-10-02 10:56:33</td>\n",
       "      <td>3149</td>\n",
       "      <td>sao paulo</td>\n",
       "      <td>SP</td>\n",
       "      <td>utilidades_domesticas</td>\n",
       "      <td>e481f51cbdc54678b7cc49136f2d6af7</td>\n",
       "      <td>9ef432eb6251297304e76186b10a928d</td>\n",
       "      <td>87285b34884572647811a353c7ac498a</td>\n",
       "      <td>29.99</td>\n",
       "    </tr>\n",
       "    <tr>\n",
       "      <th>1</th>\n",
       "      <td>2017-08-15 18:29:31</td>\n",
       "      <td>3366</td>\n",
       "      <td>sao paulo</td>\n",
       "      <td>SP</td>\n",
       "      <td>utilidades_domesticas</td>\n",
       "      <td>128e10d95713541c87cd1a2e48201934</td>\n",
       "      <td>a20e8105f23924cd00833fd87daa0831</td>\n",
       "      <td>87285b34884572647811a353c7ac498a</td>\n",
       "      <td>29.99</td>\n",
       "    </tr>\n",
       "  </tbody>\n",
       "</table>\n",
       "</div>"
      ],
      "text/plain": [
       "  order_purchase_timestamp  customer_zip_code_prefix customer_city  \\\n",
       "0      2017-10-02 10:56:33                      3149     sao paulo   \n",
       "1      2017-08-15 18:29:31                      3366     sao paulo   \n",
       "\n",
       "  customer_state  product_category_name                          order_id  \\\n",
       "0             SP  utilidades_domesticas  e481f51cbdc54678b7cc49136f2d6af7   \n",
       "1             SP  utilidades_domesticas  128e10d95713541c87cd1a2e48201934   \n",
       "\n",
       "                        customer_id                        product_id  price  \n",
       "0  9ef432eb6251297304e76186b10a928d  87285b34884572647811a353c7ac498a  29.99  \n",
       "1  a20e8105f23924cd00833fd87daa0831  87285b34884572647811a353c7ac498a  29.99  "
      ]
     },
     "execution_count": 47,
     "metadata": {},
     "output_type": "execute_result"
    }
   ],
   "source": [
    "selected_df = orders_products_df[selected_cols]\n",
    "selected_df[:2]"
   ]
  },
  {
   "cell_type": "code",
   "execution_count": 48,
   "id": "59d35bd2-2fa8-4ad2-9789-bdae3d68d54c",
   "metadata": {},
   "outputs": [],
   "source": [
    "updated_selected_df = selected_df.rename(columns = {'order_purchase_timestamp': 'purchase_time'})"
   ]
  },
  {
   "cell_type": "code",
   "execution_count": 53,
   "id": "2cbadcd7-6334-4d9d-b878-e0b866149e47",
   "metadata": {},
   "outputs": [],
   "source": [
    "from item_lib import *"
   ]
  },
  {
   "cell_type": "code",
   "execution_count": 54,
   "id": "05d31579-01f8-4843-abe1-bd4d7182e469",
   "metadata": {},
   "outputs": [],
   "source": [
    "import warnings\n",
    "warnings.filterwarnings('ignore')\n",
    "\n",
    "selected_w_dates_df = updated_selected_df.copy()\n",
    "\n",
    "fldnames = ['purchase_time']\n",
    "add_datepart(selected_w_dates_df, fldnames)"
   ]
  },
  {
   "cell_type": "code",
   "execution_count": 55,
   "id": "ee2b8a28-40df-46df-9981-19ff77b20e8a",
   "metadata": {},
   "outputs": [
    {
     "data": {
      "text/html": [
       "<div>\n",
       "<style scoped>\n",
       "    .dataframe tbody tr th:only-of-type {\n",
       "        vertical-align: middle;\n",
       "    }\n",
       "\n",
       "    .dataframe tbody tr th {\n",
       "        vertical-align: top;\n",
       "    }\n",
       "\n",
       "    .dataframe thead th {\n",
       "        text-align: right;\n",
       "    }\n",
       "</style>\n",
       "<table border=\"1\" class=\"dataframe\">\n",
       "  <thead>\n",
       "    <tr style=\"text-align: right;\">\n",
       "      <th></th>\n",
       "      <th>customer_zip_code_prefix</th>\n",
       "      <th>customer_city</th>\n",
       "      <th>customer_state</th>\n",
       "      <th>product_category_name</th>\n",
       "      <th>order_id</th>\n",
       "      <th>customer_id</th>\n",
       "      <th>product_id</th>\n",
       "      <th>price</th>\n",
       "      <th>purchase_timeYear</th>\n",
       "      <th>purchase_timeMonth</th>\n",
       "      <th>purchase_timeWeek</th>\n",
       "      <th>purchase_timeDay</th>\n",
       "      <th>purchase_timeDayofweek</th>\n",
       "      <th>purchase_timeDayofyear</th>\n",
       "      <th>purchase_timeElapsed</th>\n",
       "    </tr>\n",
       "  </thead>\n",
       "  <tbody>\n",
       "    <tr>\n",
       "      <th>0</th>\n",
       "      <td>3149</td>\n",
       "      <td>sao paulo</td>\n",
       "      <td>SP</td>\n",
       "      <td>utilidades_domesticas</td>\n",
       "      <td>e481f51cbdc54678b7cc49136f2d6af7</td>\n",
       "      <td>9ef432eb6251297304e76186b10a928d</td>\n",
       "      <td>87285b34884572647811a353c7ac498a</td>\n",
       "      <td>29.99</td>\n",
       "      <td>2017</td>\n",
       "      <td>10</td>\n",
       "      <td>40</td>\n",
       "      <td>2</td>\n",
       "      <td>0</td>\n",
       "      <td>275</td>\n",
       "      <td>1506941793</td>\n",
       "    </tr>\n",
       "    <tr>\n",
       "      <th>1</th>\n",
       "      <td>3366</td>\n",
       "      <td>sao paulo</td>\n",
       "      <td>SP</td>\n",
       "      <td>utilidades_domesticas</td>\n",
       "      <td>128e10d95713541c87cd1a2e48201934</td>\n",
       "      <td>a20e8105f23924cd00833fd87daa0831</td>\n",
       "      <td>87285b34884572647811a353c7ac498a</td>\n",
       "      <td>29.99</td>\n",
       "      <td>2017</td>\n",
       "      <td>8</td>\n",
       "      <td>33</td>\n",
       "      <td>15</td>\n",
       "      <td>1</td>\n",
       "      <td>227</td>\n",
       "      <td>1502821771</td>\n",
       "    </tr>\n",
       "    <tr>\n",
       "      <th>2</th>\n",
       "      <td>2290</td>\n",
       "      <td>sao paulo</td>\n",
       "      <td>SP</td>\n",
       "      <td>utilidades_domesticas</td>\n",
       "      <td>0e7e841ddf8f8f2de2bad69267ecfbcf</td>\n",
       "      <td>26c7ac168e1433912a51b924fbd34d34</td>\n",
       "      <td>87285b34884572647811a353c7ac498a</td>\n",
       "      <td>29.99</td>\n",
       "      <td>2017</td>\n",
       "      <td>8</td>\n",
       "      <td>31</td>\n",
       "      <td>2</td>\n",
       "      <td>2</td>\n",
       "      <td>214</td>\n",
       "      <td>1501698287</td>\n",
       "    </tr>\n",
       "  </tbody>\n",
       "</table>\n",
       "</div>"
      ],
      "text/plain": [
       "   customer_zip_code_prefix customer_city customer_state  \\\n",
       "0                      3149     sao paulo             SP   \n",
       "1                      3366     sao paulo             SP   \n",
       "2                      2290     sao paulo             SP   \n",
       "\n",
       "   product_category_name                          order_id  \\\n",
       "0  utilidades_domesticas  e481f51cbdc54678b7cc49136f2d6af7   \n",
       "1  utilidades_domesticas  128e10d95713541c87cd1a2e48201934   \n",
       "2  utilidades_domesticas  0e7e841ddf8f8f2de2bad69267ecfbcf   \n",
       "\n",
       "                        customer_id                        product_id  price  \\\n",
       "0  9ef432eb6251297304e76186b10a928d  87285b34884572647811a353c7ac498a  29.99   \n",
       "1  a20e8105f23924cd00833fd87daa0831  87285b34884572647811a353c7ac498a  29.99   \n",
       "2  26c7ac168e1433912a51b924fbd34d34  87285b34884572647811a353c7ac498a  29.99   \n",
       "\n",
       "   purchase_timeYear  purchase_timeMonth  purchase_timeWeek  purchase_timeDay  \\\n",
       "0               2017                  10                 40                 2   \n",
       "1               2017                   8                 33                15   \n",
       "2               2017                   8                 31                 2   \n",
       "\n",
       "   purchase_timeDayofweek  purchase_timeDayofyear  purchase_timeElapsed  \n",
       "0                       0                     275            1506941793  \n",
       "1                       1                     227            1502821771  \n",
       "2                       2                     214            1501698287  "
      ]
     },
     "execution_count": 55,
     "metadata": {},
     "output_type": "execute_result"
    }
   ],
   "source": [
    "selected_w_dates_df[:3]"
   ]
  },
  {
   "cell_type": "markdown",
   "id": "1ddd7367-4e3e-444b-b96c-221fb0784e80",
   "metadata": {},
   "source": [
    "### Checking our data"
   ]
  },
  {
   "cell_type": "markdown",
   "id": "f6f56987-d3e9-4769-a821-c4bd306d1226",
   "metadata": {},
   "source": [
    "* Selecting the relevant columns"
   ]
  },
  {
   "cell_type": "markdown",
   "id": "7b784c8f-45e0-4fe3-9b65-9e6f39e38518",
   "metadata": {},
   "source": [
    "We can begin by selecting the relevant columns -- here we can add the datetime columns to the list, which are at the end."
   ]
  },
  {
   "cell_type": "code",
   "execution_count": 61,
   "id": "875f3481-f7ce-4640-95e8-17beb4b6ca8b",
   "metadata": {},
   "outputs": [
    {
     "data": {
      "text/plain": [
       "Index(['purchase_timeYear', 'purchase_timeMonth', 'purchase_timeWeek',\n",
       "       'purchase_timeDay', 'purchase_timeDayofweek', 'purchase_timeDayofyear',\n",
       "       'purchase_timeElapsed'],\n",
       "      dtype='object')"
      ]
     },
     "execution_count": 61,
     "metadata": {},
     "output_type": "execute_result"
    }
   ],
   "source": [
    "selected_w_dates_df.columns[8:]"
   ]
  },
  {
   "cell_type": "code",
   "execution_count": 118,
   "id": "eacb5389-dd84-4e16-8e9a-545700c6a071",
   "metadata": {},
   "outputs": [],
   "source": [
    "target_cols = ['price']\n",
    "\n",
    "id_cols = ['order_id', 'customer_id', 'product_id']\n",
    "\n",
    "customer_cols = ['customer_zip_code_prefix', 'customer_city', 'customer_state']\n",
    "product_cols = ['product_category_name']\n",
    "purchase_time_cols = ['purchase_timeYear', 'purchase_timeMonth', 'purchase_timeWeek',\n",
    "       'purchase_timeDay', 'purchase_timeDayofweek', 'purchase_timeDayofyear',\n",
    "       'purchase_timeElapsed']\n",
    "\n",
    "selected_cols = customer_cols + product_cols + id_cols + purchase_time_cols + target_cols"
   ]
  },
  {
   "cell_type": "markdown",
   "id": "ed27d197-b060-4520-a365-5eff42b4025d",
   "metadata": {},
   "source": [
    "* Confirming the correct datatype"
   ]
  },
  {
   "cell_type": "markdown",
   "id": "e3057fc9-9750-4ee1-b63f-cce89e6d350f",
   "metadata": {},
   "source": [
    "Now that we have our relevant columns, let's ensure that the columns are of the correct datatype."
   ]
  },
  {
   "cell_type": "code",
   "execution_count": 120,
   "id": "c30fb7f6-9496-4902-a646-a891e7393185",
   "metadata": {},
   "outputs": [
    {
     "data": {
      "text/plain": [
       "customer_zip_code_prefix      int64\n",
       "customer_city                object\n",
       "customer_state               object\n",
       "product_category_name        object\n",
       "order_id                     object\n",
       "customer_id                  object\n",
       "product_id                   object\n",
       "purchase_timeYear             int64\n",
       "purchase_timeMonth            int64\n",
       "purchase_timeWeek             int64\n",
       "purchase_timeDay              int64\n",
       "purchase_timeDayofweek        int64\n",
       "purchase_timeDayofyear        int64\n",
       "purchase_timeElapsed          int64\n",
       "price                       float64\n",
       "dtype: object"
      ]
     },
     "execution_count": 120,
     "metadata": {},
     "output_type": "execute_result"
    }
   ],
   "source": [
    "selected_w_dates_df[selected_cols].dtypes"
   ]
  },
  {
   "cell_type": "markdown",
   "id": "bae8edf4-e84e-41ad-8c9c-12731187f5af",
   "metadata": {},
   "source": [
    "Remember that we are essentially, looking to ensure that each of our columns are numeric, that can be.  \n",
    "\n",
    "> Above, these look pretty good -- with potentially id columns being changed to be numeric -- however there doesn't appear to be much downside to leaving them as is."
   ]
  },
  {
   "cell_type": "markdown",
   "id": "d34e3786-c50c-4a9a-9b4a-b5b35a6d1dca",
   "metadata": {},
   "source": [
    "From here, let's look at the representativeness of the data.  There are two main things to focus on here -- the time columns, and the target.  \n",
    "\n",
    "So let's begin by with the time columns."
   ]
  },
  {
   "cell_type": "markdown",
   "id": "638f620b-fa67-4cfa-afc7-d692d8c05738",
   "metadata": {},
   "source": [
    "* Exploring the timeframe of the data"
   ]
  },
  {
   "cell_type": "markdown",
   "id": "56cd264d-7453-4ef4-9622-972117db49ec",
   "metadata": {},
   "source": [
    "> Let's first use the describe function to explore the olist data"
   ]
  },
  {
   "cell_type": "code",
   "execution_count": 67,
   "id": "efd5be5a-c110-4bf8-962f-7cfbdb5564e3",
   "metadata": {},
   "outputs": [
    {
     "data": {
      "text/html": [
       "<div>\n",
       "<style scoped>\n",
       "    .dataframe tbody tr th:only-of-type {\n",
       "        vertical-align: middle;\n",
       "    }\n",
       "\n",
       "    .dataframe tbody tr th {\n",
       "        vertical-align: top;\n",
       "    }\n",
       "\n",
       "    .dataframe thead th {\n",
       "        text-align: right;\n",
       "    }\n",
       "</style>\n",
       "<table border=\"1\" class=\"dataframe\">\n",
       "  <thead>\n",
       "    <tr style=\"text-align: right;\">\n",
       "      <th></th>\n",
       "      <th>purchase_timeYear</th>\n",
       "      <th>purchase_timeMonth</th>\n",
       "      <th>purchase_timeWeek</th>\n",
       "      <th>purchase_timeDay</th>\n",
       "      <th>purchase_timeDayofweek</th>\n",
       "      <th>purchase_timeDayofyear</th>\n",
       "      <th>purchase_timeElapsed</th>\n",
       "    </tr>\n",
       "  </thead>\n",
       "  <tbody>\n",
       "    <tr>\n",
       "      <th>count</th>\n",
       "      <td>112650.000000</td>\n",
       "      <td>112650.000000</td>\n",
       "      <td>112650.000000</td>\n",
       "      <td>112650.000000</td>\n",
       "      <td>112650.000000</td>\n",
       "      <td>112650.000000</td>\n",
       "      <td>1.126500e+05</td>\n",
       "    </tr>\n",
       "    <tr>\n",
       "      <th>mean</th>\n",
       "      <td>2017.541909</td>\n",
       "      <td>6.026835</td>\n",
       "      <td>24.338686</td>\n",
       "      <td>15.558331</td>\n",
       "      <td>2.745850</td>\n",
       "      <td>167.578029</td>\n",
       "      <td>1.514765e+09</td>\n",
       "    </tr>\n",
       "    <tr>\n",
       "      <th>std</th>\n",
       "      <td>0.504792</td>\n",
       "      <td>3.232541</td>\n",
       "      <td>14.056993</td>\n",
       "      <td>8.664745</td>\n",
       "      <td>1.963419</td>\n",
       "      <td>98.703801</td>\n",
       "      <td>1.323155e+07</td>\n",
       "    </tr>\n",
       "    <tr>\n",
       "      <th>min</th>\n",
       "      <td>2016.000000</td>\n",
       "      <td>1.000000</td>\n",
       "      <td>1.000000</td>\n",
       "      <td>1.000000</td>\n",
       "      <td>0.000000</td>\n",
       "      <td>1.000000</td>\n",
       "      <td>1.473024e+09</td>\n",
       "    </tr>\n",
       "    <tr>\n",
       "      <th>25%</th>\n",
       "      <td>2017.000000</td>\n",
       "      <td>3.000000</td>\n",
       "      <td>13.000000</td>\n",
       "      <td>8.000000</td>\n",
       "      <td>1.000000</td>\n",
       "      <td>85.000000</td>\n",
       "      <td>1.505330e+09</td>\n",
       "    </tr>\n",
       "    <tr>\n",
       "      <th>50%</th>\n",
       "      <td>2018.000000</td>\n",
       "      <td>6.000000</td>\n",
       "      <td>23.000000</td>\n",
       "      <td>16.000000</td>\n",
       "      <td>3.000000</td>\n",
       "      <td>162.000000</td>\n",
       "      <td>1.516403e+09</td>\n",
       "    </tr>\n",
       "    <tr>\n",
       "      <th>75%</th>\n",
       "      <td>2018.000000</td>\n",
       "      <td>8.000000</td>\n",
       "      <td>34.000000</td>\n",
       "      <td>23.000000</td>\n",
       "      <td>4.000000</td>\n",
       "      <td>233.000000</td>\n",
       "      <td>1.525455e+09</td>\n",
       "    </tr>\n",
       "    <tr>\n",
       "      <th>max</th>\n",
       "      <td>2018.000000</td>\n",
       "      <td>12.000000</td>\n",
       "      <td>52.000000</td>\n",
       "      <td>31.000000</td>\n",
       "      <td>6.000000</td>\n",
       "      <td>365.000000</td>\n",
       "      <td>1.535966e+09</td>\n",
       "    </tr>\n",
       "  </tbody>\n",
       "</table>\n",
       "</div>"
      ],
      "text/plain": [
       "       purchase_timeYear  purchase_timeMonth  purchase_timeWeek  \\\n",
       "count      112650.000000       112650.000000      112650.000000   \n",
       "mean         2017.541909            6.026835          24.338686   \n",
       "std             0.504792            3.232541          14.056993   \n",
       "min          2016.000000            1.000000           1.000000   \n",
       "25%          2017.000000            3.000000          13.000000   \n",
       "50%          2018.000000            6.000000          23.000000   \n",
       "75%          2018.000000            8.000000          34.000000   \n",
       "max          2018.000000           12.000000          52.000000   \n",
       "\n",
       "       purchase_timeDay  purchase_timeDayofweek  purchase_timeDayofyear  \\\n",
       "count     112650.000000           112650.000000           112650.000000   \n",
       "mean          15.558331                2.745850              167.578029   \n",
       "std            8.664745                1.963419               98.703801   \n",
       "min            1.000000                0.000000                1.000000   \n",
       "25%            8.000000                1.000000               85.000000   \n",
       "50%           16.000000                3.000000              162.000000   \n",
       "75%           23.000000                4.000000              233.000000   \n",
       "max           31.000000                6.000000              365.000000   \n",
       "\n",
       "       purchase_timeElapsed  \n",
       "count          1.126500e+05  \n",
       "mean           1.514765e+09  \n",
       "std            1.323155e+07  \n",
       "min            1.473024e+09  \n",
       "25%            1.505330e+09  \n",
       "50%            1.516403e+09  \n",
       "75%            1.525455e+09  \n",
       "max            1.535966e+09  "
      ]
     },
     "execution_count": 67,
     "metadata": {},
     "output_type": "execute_result"
    }
   ],
   "source": [
    "selected_w_dates_df[purchase_time_cols].describe()"
   ]
  },
  {
   "cell_type": "markdown",
   "id": "0f9d11e8-b949-4dff-a9ea-986917a7deda",
   "metadata": {},
   "source": [
    "> It's a bit much to plot all six of our time columns, so let's just look at the distributions of the first three."
   ]
  },
  {
   "cell_type": "code",
   "execution_count": 76,
   "id": "2925c18f-72c0-447d-8c56-dbb49961fbe3",
   "metadata": {},
   "outputs": [
    {
     "data": {
      "text/plain": [
       "array([[<AxesSubplot: title={'center': 'purchase_timeYear'}>,\n",
       "        <AxesSubplot: title={'center': 'purchase_timeMonth'}>],\n",
       "       [<AxesSubplot: title={'center': 'purchase_timeWeek'}>,\n",
       "        <AxesSubplot: >]], dtype=object)"
      ]
     },
     "execution_count": 76,
     "metadata": {},
     "output_type": "execute_result"
    },
    {
     "data": {
      "image/png": "[encoded data removed]",
      "text/plain": [
       "<Figure size 1000x500 with 4 Axes>"
      ]
     },
     "metadata": {},
     "output_type": "display_data"
    }
   ],
   "source": [
    "selected_w_dates_df[purchase_time_cols[:3]].hist(figsize=(10,5))"
   ]
  },
  {
   "cell_type": "markdown",
   "id": "6fe50c3b-a16a-4348-94df-35449f7dbb09",
   "metadata": {},
   "source": [
    "It looks like we only have a few rows from 2016 -- whereas the data between 2017 and 2018 appears more even.  We could do more research to see if the 2017 data has missing data, but as a bare minimum, let's remove the 2016 data.  After all, we would not want to make any conclusions about what occurred in 2016. "
   ]
  },
  {
   "cell_type": "code",
   "execution_count": 78,
   "id": "085dabe9-1e55-4db5-95e7-c3b86b5ad184",
   "metadata": {},
   "outputs": [
    {
     "data": {
      "text/html": [
       "<div>\n",
       "<style scoped>\n",
       "    .dataframe tbody tr th:only-of-type {\n",
       "        vertical-align: middle;\n",
       "    }\n",
       "\n",
       "    .dataframe tbody tr th {\n",
       "        vertical-align: top;\n",
       "    }\n",
       "\n",
       "    .dataframe thead th {\n",
       "        text-align: right;\n",
       "    }\n",
       "</style>\n",
       "<table border=\"1\" class=\"dataframe\">\n",
       "  <thead>\n",
       "    <tr style=\"text-align: right;\">\n",
       "      <th></th>\n",
       "      <th>customer_zip_code_prefix</th>\n",
       "      <th>customer_city</th>\n",
       "      <th>customer_state</th>\n",
       "      <th>product_category_name</th>\n",
       "      <th>order_id</th>\n",
       "      <th>customer_id</th>\n",
       "      <th>product_id</th>\n",
       "      <th>price</th>\n",
       "      <th>purchase_timeYear</th>\n",
       "      <th>purchase_timeMonth</th>\n",
       "      <th>purchase_timeWeek</th>\n",
       "      <th>purchase_timeDay</th>\n",
       "      <th>purchase_timeDayofweek</th>\n",
       "      <th>purchase_timeDayofyear</th>\n",
       "      <th>purchase_timeElapsed</th>\n",
       "    </tr>\n",
       "  </thead>\n",
       "  <tbody>\n",
       "    <tr>\n",
       "      <th>0</th>\n",
       "      <td>3149</td>\n",
       "      <td>sao paulo</td>\n",
       "      <td>SP</td>\n",
       "      <td>utilidades_domesticas</td>\n",
       "      <td>e481f51cbdc54678b7cc49136f2d6af7</td>\n",
       "      <td>9ef432eb6251297304e76186b10a928d</td>\n",
       "      <td>87285b34884572647811a353c7ac498a</td>\n",
       "      <td>29.99</td>\n",
       "      <td>2017</td>\n",
       "      <td>10</td>\n",
       "      <td>40</td>\n",
       "      <td>2</td>\n",
       "      <td>0</td>\n",
       "      <td>275</td>\n",
       "      <td>1506941793</td>\n",
       "    </tr>\n",
       "    <tr>\n",
       "      <th>1</th>\n",
       "      <td>3366</td>\n",
       "      <td>sao paulo</td>\n",
       "      <td>SP</td>\n",
       "      <td>utilidades_domesticas</td>\n",
       "      <td>128e10d95713541c87cd1a2e48201934</td>\n",
       "      <td>a20e8105f23924cd00833fd87daa0831</td>\n",
       "      <td>87285b34884572647811a353c7ac498a</td>\n",
       "      <td>29.99</td>\n",
       "      <td>2017</td>\n",
       "      <td>8</td>\n",
       "      <td>33</td>\n",
       "      <td>15</td>\n",
       "      <td>1</td>\n",
       "      <td>227</td>\n",
       "      <td>1502821771</td>\n",
       "    </tr>\n",
       "  </tbody>\n",
       "</table>\n",
       "</div>"
      ],
      "text/plain": [
       "   customer_zip_code_prefix customer_city customer_state  \\\n",
       "0                      3149     sao paulo             SP   \n",
       "1                      3366     sao paulo             SP   \n",
       "\n",
       "   product_category_name                          order_id  \\\n",
       "0  utilidades_domesticas  e481f51cbdc54678b7cc49136f2d6af7   \n",
       "1  utilidades_domesticas  128e10d95713541c87cd1a2e48201934   \n",
       "\n",
       "                        customer_id                        product_id  price  \\\n",
       "0  9ef432eb6251297304e76186b10a928d  87285b34884572647811a353c7ac498a  29.99   \n",
       "1  a20e8105f23924cd00833fd87daa0831  87285b34884572647811a353c7ac498a  29.99   \n",
       "\n",
       "   purchase_timeYear  purchase_timeMonth  purchase_timeWeek  purchase_timeDay  \\\n",
       "0               2017                  10                 40                 2   \n",
       "1               2017                   8                 33                15   \n",
       "\n",
       "   purchase_timeDayofweek  purchase_timeDayofyear  purchase_timeElapsed  \n",
       "0                       0                     275            1506941793  \n",
       "1                       1                     227            1502821771  "
      ]
     },
     "execution_count": 78,
     "metadata": {},
     "output_type": "execute_result"
    }
   ],
   "source": [
    "selected_df_2017_plus = selected_w_dates_df[selected_w_dates_df['purchase_timeYear'] > 2016]\n",
    "selected_df_2017_plus[:2]"
   ]
  },
  {
   "cell_type": "code",
   "execution_count": 85,
   "id": "2c4968a0-6159-4ac1-8bf0-78d525fd6658",
   "metadata": {},
   "outputs": [
    {
     "data": {
      "text/plain": [
       "<AxesSubplot: >"
      ]
     },
     "execution_count": 85,
     "metadata": {},
     "output_type": "execute_result"
    },
    {
     "data": {
      "image/png": "[encoded data removed]",
      "text/plain": [
       "<Figure size 1000x300 with 1 Axes>"
      ]
     },
     "metadata": {},
     "output_type": "display_data"
    }
   ],
   "source": [
    "df_2017 = selected_w_dates_df[selected_w_dates_df['purchase_timeYear'] == 2017]\n",
    "df_2017['purchase_timeDayofyear'].hist(figsize=(10,3))"
   ]
  },
  {
   "cell_type": "code",
   "execution_count": 83,
   "id": "5f44defd-dd2f-4f14-ae91-d048d8557b40",
   "metadata": {},
   "outputs": [
    {
     "data": {
      "text/plain": [
       "<AxesSubplot: >"
      ]
     },
     "execution_count": 83,
     "metadata": {},
     "output_type": "execute_result"
    },
    {
     "data": {
      "image/png": "[encoded data removed]",
      "text/plain": [
       "<Figure size 1000x300 with 1 Axes>"
      ]
     },
     "metadata": {},
     "output_type": "display_data"
    }
   ],
   "source": [
    "df_2018 = selected_w_dates_df[selected_w_dates_df['purchase_timeYear'] == 2018]\n",
    "\n",
    "\n",
    "df_2018['purchase_timeDayofyear'].hist(figsize=(10,3))"
   ]
  },
  {
   "cell_type": "markdown",
   "id": "4f17c035-5d2b-4d43-8c1a-e65752ee5796",
   "metadata": {},
   "source": [
    "Looking at this data, we can see that:\n",
    "\n",
    "1. There is a trend of increasing data throughout 2017, whereas 2018 is more even.  \n",
    "2. We're missing data from the end of 2018 (it ends at day 245 or so)."
   ]
  },
  {
   "cell_type": "markdown",
   "id": "fd9b1b4e-3f37-4a17-baea-7d59503e224f",
   "metadata": {},
   "source": [
    "For the 2017 data, it would be good to ask to learn more about whether this data is in fact complete (it could be missing, or it could just be that the company is increasing in popularity during that time).  \n",
    "\n",
    "Until we learn more about the quality of our, we probably should not indicate too much about comparing one year to another.  Instead, let's just select a year's worth of data.   "
   ]
  },
  {
   "cell_type": "markdown",
   "id": "7501f0cb-cc1c-4bd2-8c30-e7e5180579e8",
   "metadata": {},
   "source": [
    "To do so, we can first look at the maximum date for 2018."
   ]
  },
  {
   "cell_type": "code",
   "execution_count": 84,
   "id": "0bfdf6a1-23b0-45f6-9b8e-af85a2ad706e",
   "metadata": {},
   "outputs": [
    {
     "data": {
      "text/plain": [
       "count    61416.000000\n",
       "mean       117.402403\n",
       "std         68.884850\n",
       "min          1.000000\n",
       "25%         58.000000\n",
       "50%        115.000000\n",
       "75%        177.000000\n",
       "max        246.000000\n",
       "Name: purchase_timeDayofyear, dtype: float64"
      ]
     },
     "execution_count": 84,
     "metadata": {},
     "output_type": "execute_result"
    }
   ],
   "source": [
    "df_2018['purchase_timeDayofyear'].describe()"
   ]
  },
  {
   "cell_type": "code",
   "execution_count": 86,
   "id": "b25a1544-5a2e-40a9-9ca0-e22073270c40",
   "metadata": {},
   "outputs": [
    {
     "data": {
      "text/plain": [
       "count    50864.000000\n",
       "mean       227.343052\n",
       "std         95.619374\n",
       "min          5.000000\n",
       "25%        151.000000\n",
       "50%        242.000000\n",
       "75%        317.000000\n",
       "max        365.000000\n",
       "Name: purchase_timeDayofyear, dtype: float64"
      ]
     },
     "execution_count": 86,
     "metadata": {},
     "output_type": "execute_result"
    }
   ],
   "source": [
    "df_2017['purchase_timeDayofyear'].describe()"
   ]
  },
  {
   "cell_type": "markdown",
   "id": "89ccec2f-3e02-42d8-af11-9157fa387888",
   "metadata": {},
   "source": [
    "So let's select data from after 2017, day 246, as our 2018 ends at day 246."
   ]
  },
  {
   "cell_type": "code",
   "execution_count": 90,
   "id": "d158570d-4324-45c8-aa86-588f4685aa36",
   "metadata": {},
   "outputs": [
    {
     "data": {
      "text/plain": [
       "Index(['customer_zip_code_prefix', 'customer_city', 'customer_state',\n",
       "       'product_category_name', 'order_id', 'customer_id', 'product_id',\n",
       "       'price', 'purchase_timeYear', 'purchase_timeMonth', 'purchase_timeWeek',\n",
       "       'purchase_timeDay', 'purchase_timeDayofweek', 'purchase_timeDayofyear',\n",
       "       'purchase_timeElapsed'],\n",
       "      dtype='object')"
      ]
     },
     "execution_count": 90,
     "metadata": {},
     "output_type": "execute_result"
    }
   ],
   "source": [
    "selected_w_dates_df.columns"
   ]
  },
  {
   "cell_type": "code",
   "execution_count": 96,
   "id": "637a1389-5fcd-41d9-aca4-2e14a510cf5c",
   "metadata": {},
   "outputs": [],
   "source": [
    "selected_full_year_df = selected_w_dates_df[selected_w_dates_df['purchase_timeElapsed'] > 1504486129]"
   ]
  },
  {
   "cell_type": "markdown",
   "id": "64fed730-7b9f-43ca-8022-5f1bbe025653",
   "metadata": {},
   "source": [
    "And we can see that we have a full year of data."
   ]
  },
  {
   "cell_type": "code",
   "execution_count": 98,
   "id": "1d5a7007-8b50-44f4-abb8-805229ec1139",
   "metadata": {},
   "outputs": [
    {
     "data": {
      "text/plain": [
       "<AxesSubplot: >"
      ]
     },
     "execution_count": 98,
     "metadata": {},
     "output_type": "execute_result"
    },
    {
     "data": {
      "image/png": "[encoded data removed]",
      "text/plain": [
       "<Figure size 1000x300 with 1 Axes>"
      ]
     },
     "metadata": {},
     "output_type": "display_data"
    }
   ],
   "source": [
    "selected_full_year_df['purchase_timeDayofyear'].hist(figsize=(10,3))"
   ]
  },
  {
   "cell_type": "markdown",
   "id": "c9d48f68-5544-4e03-8c9d-9c1d02aa209b",
   "metadata": {},
   "source": [
    "### Exploring the target"
   ]
  },
  {
   "cell_type": "code",
   "execution_count": 99,
   "id": "b1ca1591-53af-4286-9454-f6dcb088607b",
   "metadata": {},
   "outputs": [
    {
     "data": {
      "text/plain": [
       "count    86098.000000\n",
       "mean       120.262518\n",
       "std        178.442271\n",
       "min          0.850000\n",
       "25%         39.990000\n",
       "50%         75.000000\n",
       "75%        135.000000\n",
       "max       6729.000000\n",
       "Name: price, dtype: float64"
      ]
     },
     "execution_count": 99,
     "metadata": {},
     "output_type": "execute_result"
    }
   ],
   "source": [
    "selected_full_year_df['price'].describe()"
   ]
  },
  {
   "cell_type": "markdown",
   "id": "2c3f19c0-d3e6-4d66-8b4b-9a4830e5721d",
   "metadata": {},
   "source": [
    "One thing we notice off of the bat, is that there are no items that have a price of 0, or negative numbers, indicating that we do not have any poor data right off of the bat."
   ]
  },
  {
   "cell_type": "markdown",
   "id": "1836e026-f386-4faf-98c5-70986be5b772",
   "metadata": {},
   "source": [
    "The maximum price of `6729` may indicate that incorrect data.  Let's see if this is an outlier.  "
   ]
  },
  {
   "cell_type": "code",
   "execution_count": 102,
   "id": "6ad612a7-2e43-43fb-84e1-212551731285",
   "metadata": {},
   "outputs": [
    {
     "data": {
      "text/plain": [
       "<AxesSubplot: >"
      ]
     },
     "execution_count": 102,
     "metadata": {},
     "output_type": "execute_result"
    },
    {
     "data": {
      "image/png": "[encoded data removed]",
      "text/plain": [
       "<Figure size 640x480 with 1 Axes>"
      ]
     },
     "metadata": {},
     "output_type": "display_data"
    }
   ],
   "source": [
    "selected_full_year_df['price'].hist(range=[0, 400])"
   ]
  },
  {
   "cell_type": "markdown",
   "id": "aeb8c831-86a3-4708-abfa-b71dac8f7bc2",
   "metadata": {},
   "source": [
    "It looks like the vast majority of our products are within 0 and 400 dollars.  So let's take a look at just the highest priced products to at least see if this information makes sense -- or should be excluded."
   ]
  },
  {
   "cell_type": "code",
   "execution_count": 104,
   "id": "c1ddf691-5ee6-4dcd-82a8-3ff88015c231",
   "metadata": {},
   "outputs": [
    {
     "data": {
      "text/html": [
       "<div>\n",
       "<style scoped>\n",
       "    .dataframe tbody tr th:only-of-type {\n",
       "        vertical-align: middle;\n",
       "    }\n",
       "\n",
       "    .dataframe tbody tr th {\n",
       "        vertical-align: top;\n",
       "    }\n",
       "\n",
       "    .dataframe thead th {\n",
       "        text-align: right;\n",
       "    }\n",
       "</style>\n",
       "<table border=\"1\" class=\"dataframe\">\n",
       "  <thead>\n",
       "    <tr style=\"text-align: right;\">\n",
       "      <th></th>\n",
       "      <th>product_category_name</th>\n",
       "      <th>price</th>\n",
       "    </tr>\n",
       "  </thead>\n",
       "  <tbody>\n",
       "    <tr>\n",
       "      <th>84179</th>\n",
       "      <td>pcs</td>\n",
       "      <td>6729.00</td>\n",
       "    </tr>\n",
       "    <tr>\n",
       "      <th>92165</th>\n",
       "      <td>pcs</td>\n",
       "      <td>4590.00</td>\n",
       "    </tr>\n",
       "    <tr>\n",
       "      <th>63788</th>\n",
       "      <td>instrumentos_musicais</td>\n",
       "      <td>4399.87</td>\n",
       "    </tr>\n",
       "    <tr>\n",
       "      <th>75245</th>\n",
       "      <td>consoles_games</td>\n",
       "      <td>4099.99</td>\n",
       "    </tr>\n",
       "    <tr>\n",
       "      <th>34503</th>\n",
       "      <td>esporte_lazer</td>\n",
       "      <td>4059.00</td>\n",
       "    </tr>\n",
       "    <tr>\n",
       "      <th>104126</th>\n",
       "      <td>ferramentas_jardim</td>\n",
       "      <td>3930.00</td>\n",
       "    </tr>\n",
       "    <tr>\n",
       "      <th>105963</th>\n",
       "      <td>bebes</td>\n",
       "      <td>3899.00</td>\n",
       "    </tr>\n",
       "    <tr>\n",
       "      <th>88159</th>\n",
       "      <td>relogios_presentes</td>\n",
       "      <td>3700.00</td>\n",
       "    </tr>\n",
       "    <tr>\n",
       "      <th>34504</th>\n",
       "      <td>esporte_lazer</td>\n",
       "      <td>3690.00</td>\n",
       "    </tr>\n",
       "    <tr>\n",
       "      <th>34668</th>\n",
       "      <td>pcs</td>\n",
       "      <td>3399.99</td>\n",
       "    </tr>\n",
       "  </tbody>\n",
       "</table>\n",
       "</div>"
      ],
      "text/plain": [
       "        product_category_name    price\n",
       "84179                     pcs  6729.00\n",
       "92165                     pcs  4590.00\n",
       "63788   instrumentos_musicais  4399.87\n",
       "75245          consoles_games  4099.99\n",
       "34503           esporte_lazer  4059.00\n",
       "104126     ferramentas_jardim  3930.00\n",
       "105963                  bebes  3899.00\n",
       "88159      relogios_presentes  3700.00\n",
       "34504           esporte_lazer  3690.00\n",
       "34668                     pcs  3399.99"
      ]
     },
     "execution_count": 104,
     "metadata": {},
     "output_type": "execute_result"
    }
   ],
   "source": [
    "sorted_by_price_df = selected_full_year_df.sort_values('price', ascending = False)\n",
    "sorted_by_price_df[['product_category_name', 'price']][:10]"
   ]
  },
  {
   "cell_type": "markdown",
   "id": "3bf84d71-f771-4f59-9796-140b164a5ebc",
   "metadata": {},
   "source": [
    "Ok, so it doesn't look like our data is incorrect.  Rather we have some high priced categories -- like electronics, musical instruments, and garden tools (ferramentes jardim).\n",
    "\n",
    "Also, these purchases are from Brazil so we should divide them by ~5 to see the equivalent price in USD."
   ]
  },
  {
   "cell_type": "code",
   "execution_count": 110,
   "id": "6374d933-6686-4c79-907b-2361aa75d416",
   "metadata": {},
   "outputs": [
    {
     "data": {
      "text/html": [
       "<div>\n",
       "<style scoped>\n",
       "    .dataframe tbody tr th:only-of-type {\n",
       "        vertical-align: middle;\n",
       "    }\n",
       "\n",
       "    .dataframe tbody tr th {\n",
       "        vertical-align: top;\n",
       "    }\n",
       "\n",
       "    .dataframe thead th {\n",
       "        text-align: right;\n",
       "    }\n",
       "</style>\n",
       "<table border=\"1\" class=\"dataframe\">\n",
       "  <thead>\n",
       "    <tr style=\"text-align: right;\">\n",
       "      <th></th>\n",
       "      <th>product_category_name</th>\n",
       "      <th>price</th>\n",
       "      <th>us_price</th>\n",
       "    </tr>\n",
       "  </thead>\n",
       "  <tbody>\n",
       "    <tr>\n",
       "      <th>84179</th>\n",
       "      <td>pcs</td>\n",
       "      <td>6729.00</td>\n",
       "      <td>1345.800</td>\n",
       "    </tr>\n",
       "    <tr>\n",
       "      <th>92165</th>\n",
       "      <td>pcs</td>\n",
       "      <td>4590.00</td>\n",
       "      <td>918.000</td>\n",
       "    </tr>\n",
       "    <tr>\n",
       "      <th>63788</th>\n",
       "      <td>instrumentos_musicais</td>\n",
       "      <td>4399.87</td>\n",
       "      <td>879.974</td>\n",
       "    </tr>\n",
       "    <tr>\n",
       "      <th>75245</th>\n",
       "      <td>consoles_games</td>\n",
       "      <td>4099.99</td>\n",
       "      <td>819.998</td>\n",
       "    </tr>\n",
       "    <tr>\n",
       "      <th>34503</th>\n",
       "      <td>esporte_lazer</td>\n",
       "      <td>4059.00</td>\n",
       "      <td>811.800</td>\n",
       "    </tr>\n",
       "  </tbody>\n",
       "</table>\n",
       "</div>"
      ],
      "text/plain": [
       "       product_category_name    price  us_price\n",
       "84179                    pcs  6729.00  1345.800\n",
       "92165                    pcs  4590.00   918.000\n",
       "63788  instrumentos_musicais  4399.87   879.974\n",
       "75245         consoles_games  4099.99   819.998\n",
       "34503          esporte_lazer  4059.00   811.800"
      ]
     },
     "execution_count": 110,
     "metadata": {},
     "output_type": "execute_result"
    }
   ],
   "source": [
    "df_us_d = sorted_by_price_df[['product_category_name', 'price']].assign(us_price = sorted_by_price_df['price']/5)\n",
    "df_us_d[:5]"
   ]
  },
  {
   "cell_type": "markdown",
   "id": "dda8ae1e-f78c-411b-add7-a0a349c0bdd6",
   "metadata": {},
   "source": [
    "Ok, let's also take a look at our least priced items."
   ]
  },
  {
   "cell_type": "code",
   "execution_count": 114,
   "id": "2d28965c-cbef-4c99-b326-05ebf583ed34",
   "metadata": {},
   "outputs": [
    {
     "data": {
      "text/html": [
       "<div>\n",
       "<style scoped>\n",
       "    .dataframe tbody tr th:only-of-type {\n",
       "        vertical-align: middle;\n",
       "    }\n",
       "\n",
       "    .dataframe tbody tr th {\n",
       "        vertical-align: top;\n",
       "    }\n",
       "\n",
       "    .dataframe thead th {\n",
       "        text-align: right;\n",
       "    }\n",
       "</style>\n",
       "<table border=\"1\" class=\"dataframe\">\n",
       "  <thead>\n",
       "    <tr style=\"text-align: right;\">\n",
       "      <th></th>\n",
       "      <th>product_category_name</th>\n",
       "      <th>price</th>\n",
       "      <th>us_price</th>\n",
       "    </tr>\n",
       "  </thead>\n",
       "  <tbody>\n",
       "    <tr>\n",
       "      <th>98296</th>\n",
       "      <td>construcao_ferramentas_construcao</td>\n",
       "      <td>0.85</td>\n",
       "      <td>0.170</td>\n",
       "    </tr>\n",
       "    <tr>\n",
       "      <th>98298</th>\n",
       "      <td>construcao_ferramentas_construcao</td>\n",
       "      <td>0.85</td>\n",
       "      <td>0.170</td>\n",
       "    </tr>\n",
       "    <tr>\n",
       "      <th>98297</th>\n",
       "      <td>construcao_ferramentas_construcao</td>\n",
       "      <td>0.85</td>\n",
       "      <td>0.170</td>\n",
       "    </tr>\n",
       "    <tr>\n",
       "      <th>111794</th>\n",
       "      <td>beleza_saude</td>\n",
       "      <td>2.20</td>\n",
       "      <td>0.440</td>\n",
       "    </tr>\n",
       "    <tr>\n",
       "      <th>63662</th>\n",
       "      <td>papelaria</td>\n",
       "      <td>2.29</td>\n",
       "      <td>0.458</td>\n",
       "    </tr>\n",
       "    <tr>\n",
       "      <th>76894</th>\n",
       "      <td>papelaria</td>\n",
       "      <td>2.99</td>\n",
       "      <td>0.598</td>\n",
       "    </tr>\n",
       "    <tr>\n",
       "      <th>88982</th>\n",
       "      <td>NaN</td>\n",
       "      <td>3.00</td>\n",
       "      <td>0.600</td>\n",
       "    </tr>\n",
       "    <tr>\n",
       "      <th>88981</th>\n",
       "      <td>NaN</td>\n",
       "      <td>3.00</td>\n",
       "      <td>0.600</td>\n",
       "    </tr>\n",
       "    <tr>\n",
       "      <th>109007</th>\n",
       "      <td>utilidades_domesticas</td>\n",
       "      <td>3.06</td>\n",
       "      <td>0.612</td>\n",
       "    </tr>\n",
       "    <tr>\n",
       "      <th>109005</th>\n",
       "      <td>utilidades_domesticas</td>\n",
       "      <td>3.06</td>\n",
       "      <td>0.612</td>\n",
       "    </tr>\n",
       "  </tbody>\n",
       "</table>\n",
       "</div>"
      ],
      "text/plain": [
       "                    product_category_name  price  us_price\n",
       "98296   construcao_ferramentas_construcao   0.85     0.170\n",
       "98298   construcao_ferramentas_construcao   0.85     0.170\n",
       "98297   construcao_ferramentas_construcao   0.85     0.170\n",
       "111794                       beleza_saude   2.20     0.440\n",
       "63662                           papelaria   2.29     0.458\n",
       "76894                           papelaria   2.99     0.598\n",
       "88982                                 NaN   3.00     0.600\n",
       "88981                                 NaN   3.00     0.600\n",
       "109007              utilidades_domesticas   3.06     0.612\n",
       "109005              utilidades_domesticas   3.06     0.612"
      ]
     },
     "execution_count": 114,
     "metadata": {},
     "output_type": "execute_result"
    }
   ],
   "source": [
    "sorted_by_price_df_asc = selected_full_year_df.sort_values('price', ascending = True)\n",
    "sorted_by_price_df_asc[['product_category_name', 'price']].assign(us_price = sorted_by_price_df['price']/5)[:10]"
   ]
  },
  {
   "cell_type": "markdown",
   "id": "b34bf5cc-e02e-4cfd-96ab-2a715a452052",
   "metadata": {},
   "source": [
    "This translates to construction tools, and perhaps are items like screws or washers -- explaining the cheap price."
   ]
  },
  {
   "cell_type": "markdown",
   "id": "6f4375e1-15ae-4344-93e2-bd8ff581f2f7",
   "metadata": {},
   "source": [
    "Still, this data looks accurate, and we now have a complete year's worth of data, which we can save to csv and work with as we explore our data. "
   ]
  },
  {
   "cell_type": "code",
   "execution_count": 122,
   "id": "ea7bf271-93ad-48e1-8164-abb750541d28",
   "metadata": {},
   "outputs": [],
   "source": [
    "selected_full_year_df.to_csv('./olist_2017_2018.csv', index = False)"
   ]
  },
  {
   "cell_type": "markdown",
   "id": "599476d7-37fd-4667-ba0f-9203b989048e",
   "metadata": {},
   "source": [
    "### Takeaways"
   ]
  },
  {
   "cell_type": "markdown",
   "id": "f0f9a14c-3a91-4ee1-bf45-8e13c6c9d3ce",
   "metadata": {},
   "source": [
    "Ok, so what can we takeaway from the above.  \n",
    "\n",
    "1. Initial cleanup\n",
    "\n",
    "We select relevant columns, and used the `add_datepart` function to break the purchase datetime into multiple attributes.\n",
    "\n",
    "2. Checking our distributions\n",
    "\n",
    "* Time periods\n",
    "\n",
    "We then looked at a distribution of our data, to get a sense of our time period.  We saw we had what looked like complete data from the end of 2017 to the (almost) end of 2018.  So we selected one year's worth of data.  \n",
    "\n",
    "So we did not feel like we could calculate year over year data -- perhaps we could follow up to see if we have complete 2017 data, or can obtain it.\n",
    "\n",
    "* Target\n",
    "\n",
    "Because the target is what we are trying to predict, we paid special attention to it.  Using the `describe` function, our data fell within a sensible range -- there were no negative or zero prices.  And we saw tht most of the prices were below 400 pesos (~80 US), but that some reached $6000 pesos.\n",
    "\n",
    "So we looked at the lower and upper values to make sure that seemed like accurate prices, adn we're not inaccurate data.  They seemed reasonable, so we kept them."
   ]
  }
 ],
 "metadata": {
  "kernelspec": {
   "display_name": "Python 3 (ipykernel)",
   "language": "python",
   "name": "python3"
  },
  "language_info": {
   "codemirror_mode": {
    "name": "ipython",
    "version": 3
   },
   "file_extension": ".py",
   "mimetype": "text/x-python",
   "name": "python",
   "nbconvert_exporter": "python",
   "pygments_lexer": "ipython3",
   "version": "3.9.12"
  }
 },
 "nbformat": 4,
 "nbformat_minor": 5
}
