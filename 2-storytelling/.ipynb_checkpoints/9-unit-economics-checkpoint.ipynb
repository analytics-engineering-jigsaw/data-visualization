{
 "cells": [
  {
   "cell_type": "markdown",
   "id": "1c12db87-2dc8-4fb2-8736-6a63184343c7",
   "metadata": {},
   "source": [
    "# Choosing Units"
   ]
  },
  {
   "cell_type": "markdown",
   "id": "474d2c7c-86c3-4efb-bcf5-8bc96b19df5a",
   "metadata": {},
   "source": [
    "* Percentage of sales per region is dangerous\n",
    "\n",
    "    * because what about per person. Or per store?  We don't know what region has more stores."
   ]
  },
  {
   "cell_type": "markdown",
   "id": "89410622-b4ab-428a-a004-0fcaaf56d5bc",
   "metadata": {},
   "source": [
    "* Unit Economics"
   ]
  },
  {
   "cell_type": "markdown",
   "id": "b2587814-f884-44bd-930c-f4f3b1a3d7ee",
   "metadata": {},
   "source": [
    "| Region | Target | Whole Foods |\n",
    "|--------|--------|-------------|\n",
    "| NE     | 12%    | 39%         |\n",
    "| SE     | 36%    | 6%          |\n",
    "| NW     | 27%    | 27%         |\n",
    "| SW     | 25%    | 28%         |"
   ]
  },
  {
   "cell_type": "markdown",
   "id": "aab5c56c-f218-4358-aa19-b87c2a0d0d66",
   "metadata": {},
   "source": [
    "* Could take this, and then show how the rest of the story indicates the recommendations\n",
    "\n",
    "    * Eg. Sales per customer, per store.  \n",
    "    * Per target market\n",
    "    * Sales related to competitors"
   ]
  },
  {
   "cell_type": "markdown",
   "id": "84e6a0a3-7c41-47a6-b754-8bbc73643877",
   "metadata": {},
   "source": [
    "### Unit Economics\n",
    "\n",
    "* Customer Acquisition Costs\n",
    "* Lifetime Value\n",
    "* Book: Growth Units: Learn to Calculate Customer Acquisition Cost, Lifetime Value, and Why Businesses Behave the Way They Do"
   ]
  },
  {
   "cell_type": "code",
   "execution_count": null,
   "id": "d5a7e2cd-27f8-47df-83b7-18a2ea42702c",
   "metadata": {},
   "outputs": [],
   "source": []
  }
 ],
 "metadata": {
  "kernelspec": {
   "display_name": "Python 3 (ipykernel)",
   "language": "python",
   "name": "python3"
  },
  "language_info": {
   "codemirror_mode": {
    "name": "ipython",
    "version": 3
   },
   "file_extension": ".py",
   "mimetype": "text/x-python",
   "name": "python",
   "nbconvert_exporter": "python",
   "pygments_lexer": "ipython3",
   "version": "3.9.12"
  }
 },
 "nbformat": 4,
 "nbformat_minor": 5
}
