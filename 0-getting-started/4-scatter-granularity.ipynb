{
 "cells": [
  {
   "cell_type": "markdown",
   "id": "9298b066-4f64-4f2d-99be-96bde6851564",
   "metadata": {},
   "source": [
    "# Granularity and Aggregation with Scatter Plots"
   ]
  },
  {
   "cell_type": "markdown",
   "id": "26aeeabd-b27a-4984-b151-ec42d9f2ca63",
   "metadata": {},
   "source": [
    "### Introduction"
   ]
  },
  {
   "cell_type": "code",
   "execution_count": null,
   "id": "61839d66-dc23-4fba-a1fb-ccdead0d21a7",
   "metadata": {},
   "outputs": [],
   "source": []
  },
  {
   "cell_type": "markdown",
   "id": "42cebc44-e885-48da-bbff-71b37e0cd661",
   "metadata": {},
   "source": [
    "* Just note that detail represents the level of granularity with the chart"
   ]
  },
  {
   "cell_type": "markdown",
   "id": "a7034b28-a5f1-427f-abcb-cc8e644f5cf9",
   "metadata": {},
   "source": [
    "[Lecture](https://www.udemy.com/course/tableau10/learn/lecture/5618158#overview)"
   ]
  },
  {
   "cell_type": "code",
   "execution_count": null,
   "id": "187069a8-5cf0-419f-bca0-b7789b44039f",
   "metadata": {},
   "outputs": [],
   "source": []
  }
 ],
 "metadata": {
  "kernelspec": {
   "display_name": "Python 3 (ipykernel)",
   "language": "python",
   "name": "python3"
  },
  "language_info": {
   "codemirror_mode": {
    "name": "ipython",
    "version": 3
   },
   "file_extension": ".py",
   "mimetype": "text/x-python",
   "name": "python",
   "nbconvert_exporter": "python",
   "pygments_lexer": "ipython3",
   "version": "3.9.12"
  }
 },
 "nbformat": 4,
 "nbformat_minor": 5
}
