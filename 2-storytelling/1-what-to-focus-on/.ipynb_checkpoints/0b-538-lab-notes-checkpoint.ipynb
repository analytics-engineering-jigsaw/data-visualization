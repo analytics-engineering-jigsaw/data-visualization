{
 "cells": [
  {
   "cell_type": "markdown",
   "id": "42e51b6e-0956-4cad-8bca-484002c32a91",
   "metadata": {},
   "source": [
    "# Representativeness of Data Lab"
   ]
  },
  {
   "cell_type": "markdown",
   "id": "076fd0e6-7544-4f9d-a080-dcc0cc9a16f5",
   "metadata": {},
   "source": [
    "### Introduction"
   ]
  },
  {
   "cell_type": "markdown",
   "id": "aca7ec37-8e5f-4ebd-946c-884f7d311bd8",
   "metadata": {},
   "source": [
    "In this lesson, let's use some of what we know about the representativeness of our dataset to explore a movie dataset.  \n",
    "\n",
    "You can see the kind of information we have about a movie here."
   ]
  },
  {
   "cell_type": "code",
   "execution_count": 1,
   "id": "42344989-2cc5-4f42-9781-7b3e090b5bd0",
   "metadata": {},
   "outputs": [],
   "source": [
    "import pandas as pd\n",
    "\n",
    "movies_df = pd.read_csv(\"https://raw.githubusercontent.com/jigsawlabs-student/tech-interview/main/movies.csv\")"
   ]
  },
  {
   "cell_type": "code",
   "execution_count": 2,
   "id": "60b41695-8417-4a59-b343-c541148e65b1",
   "metadata": {},
   "outputs": [
    {
     "data": {
      "text/html": [
       "<div>\n",
       "<style scoped>\n",
       "    .dataframe tbody tr th:only-of-type {\n",
       "        vertical-align: middle;\n",
       "    }\n",
       "\n",
       "    .dataframe tbody tr th {\n",
       "        vertical-align: top;\n",
       "    }\n",
       "\n",
       "    .dataframe thead th {\n",
       "        text-align: right;\n",
       "    }\n",
       "</style>\n",
       "<table border=\"1\" class=\"dataframe\">\n",
       "  <thead>\n",
       "    <tr style=\"text-align: right;\">\n",
       "      <th></th>\n",
       "      <th>title</th>\n",
       "      <th>genre</th>\n",
       "      <th>budget</th>\n",
       "      <th>runtime</th>\n",
       "      <th>year</th>\n",
       "      <th>month</th>\n",
       "      <th>revenue</th>\n",
       "    </tr>\n",
       "  </thead>\n",
       "  <tbody>\n",
       "    <tr>\n",
       "      <th>0</th>\n",
       "      <td>Oliver Twist</td>\n",
       "      <td>Crime</td>\n",
       "      <td>50000000</td>\n",
       "      <td>130.0</td>\n",
       "      <td>2005</td>\n",
       "      <td>9</td>\n",
       "      <td>42093706</td>\n",
       "    </tr>\n",
       "    <tr>\n",
       "      <th>1</th>\n",
       "      <td>X-Men: Apocalypse</td>\n",
       "      <td>Science Fiction</td>\n",
       "      <td>178000000</td>\n",
       "      <td>144.0</td>\n",
       "      <td>2016</td>\n",
       "      <td>5</td>\n",
       "      <td>543934787</td>\n",
       "    </tr>\n",
       "  </tbody>\n",
       "</table>\n",
       "</div>"
      ],
      "text/plain": [
       "               title            genre     budget  runtime  year  month  \\\n",
       "0       Oliver Twist            Crime   50000000    130.0  2005      9   \n",
       "1  X-Men: Apocalypse  Science Fiction  178000000    144.0  2016      5   \n",
       "\n",
       "     revenue  \n",
       "0   42093706  \n",
       "1  543934787  "
      ]
     },
     "execution_count": 2,
     "metadata": {},
     "output_type": "execute_result"
    }
   ],
   "source": [
    "movies_df[:2]"
   ]
  },
  {
   "cell_type": "markdown",
   "id": "6f7f8b70-5ff8-45a2-96b3-64aa6330ede8",
   "metadata": {},
   "source": [
    "Ok, so assume as a goal, that that we would like to see how items like a genre or budget impact the income of a movie made today.  Before we do so, we want to *examine our dataset to see how representative it may would be of movies made today*. \n",
    "\n",
    "Then, use that information to select the portion of the data you believe is high enough quality and representative enough to draw conclusions from."
   ]
  },
  {
   "cell_type": "markdown",
   "id": "e581ec9c-adac-4a8c-b938-8b0d5a86accd",
   "metadata": {},
   "source": [
    "So what's our task in this lab:\n",
    "\n",
    "1. Explore the data to see the representativeness of the data\n",
    "2. Select the portion of the data that is more representative"
   ]
  },
  {
   "cell_type": "markdown",
   "id": "69b9c1c8-fc88-4bb0-b968-60b1013eb5aa",
   "metadata": {},
   "source": [
    "This will be a little different in that it is more freeform than other labs."
   ]
  },
  {
   "cell_type": "markdown",
   "id": "fad7f22b-fef2-4c5a-a950-72ba29cd31a5",
   "metadata": {},
   "source": [
    "### Before getting started"
   ]
  },
  {
   "cell_type": "markdown",
   "id": "9f4f8596-ce61-4a99-a733-6e8e90a0618d",
   "metadata": {},
   "source": [
    "As a way to review, let's remember that there were a few different ways that we checked our data:\n",
    "\n",
    "1. Comparing groups of our data to what we see in the real world\n",
    "2. Checking how recent our data is\n",
    "3. Looking at distributions and outliers in our data \n",
    "4. Looking at missing values in our data (with isna)\n",
    "5. Remember variables that are important are: \n",
    "    * The target variable (as the whole point is to see what leads to changes in this variable, here revenue) \n",
    "    * Dates (as the more recent the data the more valuable it representative it typically is of present day)"
   ]
  },
  {
   "cell_type": "markdown",
   "id": "9bf3c4eb-7106-4057-8131-b9308dbfa98b",
   "metadata": {},
   "source": [
    "After exploring the quality of our (imperfect) data, make a determination as to how we might still make use of our data to determine how items like genre, or budget might impact the revenue."
   ]
  },
  {
   "cell_type": "markdown",
   "id": "3624733a-cf42-429e-be39-8d4e0c696e59",
   "metadata": {},
   "source": [
    "### Exploring our data"
   ]
  },
  {
   "cell_type": "markdown",
   "id": "92769c84-53ab-4774-a1db-16d7411b2b92",
   "metadata": {},
   "source": [
    "Ok, so here's the dataset."
   ]
  },
  {
   "cell_type": "code",
   "execution_count": 38,
   "id": "fa9b727b-04b2-4eb3-9426-3bc509bcef19",
   "metadata": {},
   "outputs": [
    {
     "data": {
      "text/plain": [
       "King Kong                                   2\n",
       "Harry Potter and the Half-Blood Prince      2\n",
       "Superman Returns                            2\n",
       "The Golden Compass                          2\n",
       "The Chronicles of Narnia: Prince Caspian    2\n",
       "                                           ..\n",
       "Little Nicholas                             1\n",
       "Out of Time                                 1\n",
       "Joy Ride                                    1\n",
       "Escape from Planet Earth                    1\n",
       "Muppets from Space                          1\n",
       "Name: title, Length: 2000, dtype: int64"
      ]
     },
     "execution_count": 38,
     "metadata": {},
     "output_type": "execute_result"
    }
   ],
   "source": [
    "movies_df['title'].value_counts()"
   ]
  },
  {
   "cell_type": "code",
   "execution_count": 4,
   "id": "ddad29d5-d90f-4718-8e60-24064b1c9a38",
   "metadata": {},
   "outputs": [
    {
     "data": {
      "text/html": [
       "<div>\n",
       "<style scoped>\n",
       "    .dataframe tbody tr th:only-of-type {\n",
       "        vertical-align: middle;\n",
       "    }\n",
       "\n",
       "    .dataframe tbody tr th {\n",
       "        vertical-align: top;\n",
       "    }\n",
       "\n",
       "    .dataframe thead th {\n",
       "        text-align: right;\n",
       "    }\n",
       "</style>\n",
       "<table border=\"1\" class=\"dataframe\">\n",
       "  <thead>\n",
       "    <tr style=\"text-align: right;\">\n",
       "      <th></th>\n",
       "      <th>title</th>\n",
       "      <th>genre</th>\n",
       "      <th>budget</th>\n",
       "      <th>runtime</th>\n",
       "      <th>year</th>\n",
       "      <th>month</th>\n",
       "      <th>revenue</th>\n",
       "    </tr>\n",
       "  </thead>\n",
       "  <tbody>\n",
       "    <tr>\n",
       "      <th>0</th>\n",
       "      <td>Oliver Twist</td>\n",
       "      <td>Crime</td>\n",
       "      <td>50000000</td>\n",
       "      <td>130.0</td>\n",
       "      <td>2005</td>\n",
       "      <td>9</td>\n",
       "      <td>42093706</td>\n",
       "    </tr>\n",
       "    <tr>\n",
       "      <th>1</th>\n",
       "      <td>X-Men: Apocalypse</td>\n",
       "      <td>Science Fiction</td>\n",
       "      <td>178000000</td>\n",
       "      <td>144.0</td>\n",
       "      <td>2016</td>\n",
       "      <td>5</td>\n",
       "      <td>543934787</td>\n",
       "    </tr>\n",
       "  </tbody>\n",
       "</table>\n",
       "</div>"
      ],
      "text/plain": [
       "               title            genre     budget  runtime  year  month  \\\n",
       "0       Oliver Twist            Crime   50000000    130.0  2005      9   \n",
       "1  X-Men: Apocalypse  Science Fiction  178000000    144.0  2016      5   \n",
       "\n",
       "     revenue  \n",
       "0   42093706  \n",
       "1  543934787  "
      ]
     },
     "execution_count": 4,
     "metadata": {},
     "output_type": "execute_result"
    }
   ],
   "source": [
    "movies_df[:2]"
   ]
  },
  {
   "cell_type": "code",
   "execution_count": 11,
   "id": "ac0444d6-f99f-47e1-bb67-068f2409d5a3",
   "metadata": {},
   "outputs": [],
   "source": [
    "recent_movies_df = movies_df[movies_df['year'] > 2010]"
   ]
  },
  {
   "cell_type": "code",
   "execution_count": 17,
   "id": "8e1e1e59-6109-4fc7-bbcf-ee23693189fb",
   "metadata": {},
   "outputs": [],
   "source": [
    "# movies_df[movies_df['year'] == 2015]['month'].value_counts().plot(kind = 'barh')"
   ]
  },
  {
   "cell_type": "code",
   "execution_count": 21,
   "id": "f277f4d0-5ea0-4923-afc5-5ce6aea3d5fd",
   "metadata": {},
   "outputs": [
    {
     "data": {
      "text/plain": [
       "<AxesSubplot: ylabel='Frequency'>"
      ]
     },
     "execution_count": 21,
     "metadata": {},
     "output_type": "execute_result"
    },
    {
     "data": {
      "image/png": "[encoded data removed]",
      "text/plain": [
       "<Figure size 640x480 with 1 Axes>"
      ]
     },
     "metadata": {},
     "output_type": "display_data"
    }
   ],
   "source": [
    "recent_movies_df[recent_movies_df['revenue'] < 100_000]['revenue'].plot(kind = 'hist')"
   ]
  },
  {
   "cell_type": "code",
   "execution_count": 26,
   "id": "5856f69b-a7f3-4da9-8cea-11044044da0d",
   "metadata": {},
   "outputs": [],
   "source": [
    "zero_rev_df = recent_movies_df[recent_movies_df['revenue'] == 0]"
   ]
  },
  {
   "cell_type": "code",
   "execution_count": 28,
   "id": "5ea397ed-9e18-41f3-b0a2-b4552f08eaf4",
   "metadata": {},
   "outputs": [
    {
     "data": {
      "text/html": [
       "<div>\n",
       "<style scoped>\n",
       "    .dataframe tbody tr th:only-of-type {\n",
       "        vertical-align: middle;\n",
       "    }\n",
       "\n",
       "    .dataframe tbody tr th {\n",
       "        vertical-align: top;\n",
       "    }\n",
       "\n",
       "    .dataframe thead th {\n",
       "        text-align: right;\n",
       "    }\n",
       "</style>\n",
       "<table border=\"1\" class=\"dataframe\">\n",
       "  <thead>\n",
       "    <tr style=\"text-align: right;\">\n",
       "      <th></th>\n",
       "      <th>title</th>\n",
       "      <th>genre</th>\n",
       "      <th>budget</th>\n",
       "      <th>runtime</th>\n",
       "      <th>year</th>\n",
       "      <th>month</th>\n",
       "      <th>revenue</th>\n",
       "    </tr>\n",
       "  </thead>\n",
       "  <tbody>\n",
       "    <tr>\n",
       "      <th>13</th>\n",
       "      <td>Evolution</td>\n",
       "      <td>NaN</td>\n",
       "      <td>0</td>\n",
       "      <td>81.0</td>\n",
       "      <td>2015</td>\n",
       "      <td>9</td>\n",
       "      <td>0</td>\n",
       "    </tr>\n",
       "    <tr>\n",
       "      <th>84</th>\n",
       "      <td>Accidental Love</td>\n",
       "      <td>Romance</td>\n",
       "      <td>26000000</td>\n",
       "      <td>100.0</td>\n",
       "      <td>2015</td>\n",
       "      <td>2</td>\n",
       "      <td>0</td>\n",
       "    </tr>\n",
       "    <tr>\n",
       "      <th>133</th>\n",
       "      <td>Thunder and the House of Magic</td>\n",
       "      <td>NaN</td>\n",
       "      <td>34000000</td>\n",
       "      <td>85.0</td>\n",
       "      <td>2013</td>\n",
       "      <td>12</td>\n",
       "      <td>0</td>\n",
       "    </tr>\n",
       "    <tr>\n",
       "      <th>192</th>\n",
       "      <td>A Monster in Paris</td>\n",
       "      <td>Adventure</td>\n",
       "      <td>25000000</td>\n",
       "      <td>90.0</td>\n",
       "      <td>2011</td>\n",
       "      <td>10</td>\n",
       "      <td>0</td>\n",
       "    </tr>\n",
       "    <tr>\n",
       "      <th>222</th>\n",
       "      <td>Dragon Nest: Warriors' Dawn</td>\n",
       "      <td>Adventure</td>\n",
       "      <td>40000000</td>\n",
       "      <td>88.0</td>\n",
       "      <td>2014</td>\n",
       "      <td>5</td>\n",
       "      <td>0</td>\n",
       "    </tr>\n",
       "  </tbody>\n",
       "</table>\n",
       "</div>"
      ],
      "text/plain": [
       "                              title      genre    budget  runtime  year  \\\n",
       "13                        Evolution        NaN         0     81.0  2015   \n",
       "84                  Accidental Love    Romance  26000000    100.0  2015   \n",
       "133  Thunder and the House of Magic        NaN  34000000     85.0  2013   \n",
       "192              A Monster in Paris  Adventure  25000000     90.0  2011   \n",
       "222     Dragon Nest: Warriors' Dawn  Adventure  40000000     88.0  2014   \n",
       "\n",
       "     month  revenue  \n",
       "13       9        0  \n",
       "84       2        0  \n",
       "133     12        0  \n",
       "192     10        0  \n",
       "222      5        0  "
      ]
     },
     "execution_count": 28,
     "metadata": {},
     "output_type": "execute_result"
    }
   ],
   "source": [
    "zero_rev_df[:5]"
   ]
  },
  {
   "cell_type": "code",
   "execution_count": 29,
   "id": "25693262-0846-467f-acce-32370575f442",
   "metadata": {},
   "outputs": [],
   "source": [
    "recent_movies_nonzero = recent_movies_df[recent_movies_df['revenue'] != 0]"
   ]
  },
  {
   "cell_type": "code",
   "execution_count": 32,
   "id": "6e546d3d-956d-4de3-addd-caa433b91570",
   "metadata": {},
   "outputs": [
    {
     "data": {
      "text/plain": [
       "2011    102\n",
       "2013     91\n",
       "2012     86\n",
       "2014     77\n",
       "2015     76\n",
       "2016     45\n",
       "Name: year, dtype: int64"
      ]
     },
     "execution_count": 32,
     "metadata": {},
     "output_type": "execute_result"
    }
   ],
   "source": [
    "recent_movies_nonzero['year'].value_counts()"
   ]
  },
  {
   "cell_type": "code",
   "execution_count": null,
   "id": "851b5284-c1ab-4ed9-bd88-aa64d8c880ad",
   "metadata": {},
   "outputs": [],
   "source": [
    "recent_movies_nonzero"
   ]
  },
  {
   "cell_type": "code",
   "execution_count": 34,
   "id": "d411ce22-6458-4e6f-8604-25f472474a91",
   "metadata": {},
   "outputs": [
    {
     "data": {
      "text/html": [
       "<div>\n",
       "<style scoped>\n",
       "    .dataframe tbody tr th:only-of-type {\n",
       "        vertical-align: middle;\n",
       "    }\n",
       "\n",
       "    .dataframe tbody tr th {\n",
       "        vertical-align: top;\n",
       "    }\n",
       "\n",
       "    .dataframe thead th {\n",
       "        text-align: right;\n",
       "    }\n",
       "</style>\n",
       "<table border=\"1\" class=\"dataframe\">\n",
       "  <thead>\n",
       "    <tr style=\"text-align: right;\">\n",
       "      <th></th>\n",
       "      <th>title</th>\n",
       "      <th>genre</th>\n",
       "      <th>budget</th>\n",
       "      <th>runtime</th>\n",
       "      <th>year</th>\n",
       "      <th>month</th>\n",
       "      <th>revenue</th>\n",
       "    </tr>\n",
       "  </thead>\n",
       "  <tbody>\n",
       "    <tr>\n",
       "      <th>413</th>\n",
       "      <td>Jurassic World</td>\n",
       "      <td>Action</td>\n",
       "      <td>150000000</td>\n",
       "      <td>124.0</td>\n",
       "      <td>2015</td>\n",
       "      <td>6</td>\n",
       "      <td>1513528810</td>\n",
       "    </tr>\n",
       "    <tr>\n",
       "      <th>1589</th>\n",
       "      <td>Furious 7</td>\n",
       "      <td>Action</td>\n",
       "      <td>190000000</td>\n",
       "      <td>137.0</td>\n",
       "      <td>2015</td>\n",
       "      <td>4</td>\n",
       "      <td>1506249360</td>\n",
       "    </tr>\n",
       "    <tr>\n",
       "      <th>1221</th>\n",
       "      <td>Avengers: Age of Ultron</td>\n",
       "      <td>Action</td>\n",
       "      <td>280000000</td>\n",
       "      <td>141.0</td>\n",
       "      <td>2015</td>\n",
       "      <td>4</td>\n",
       "      <td>1405403694</td>\n",
       "    </tr>\n",
       "    <tr>\n",
       "      <th>1310</th>\n",
       "      <td>Minions</td>\n",
       "      <td>NaN</td>\n",
       "      <td>74000000</td>\n",
       "      <td>91.0</td>\n",
       "      <td>2015</td>\n",
       "      <td>6</td>\n",
       "      <td>1156730962</td>\n",
       "    </tr>\n",
       "    <tr>\n",
       "      <th>798</th>\n",
       "      <td>Spectre</td>\n",
       "      <td>Action</td>\n",
       "      <td>245000000</td>\n",
       "      <td>148.0</td>\n",
       "      <td>2015</td>\n",
       "      <td>10</td>\n",
       "      <td>880674609</td>\n",
       "    </tr>\n",
       "    <tr>\n",
       "      <th>520</th>\n",
       "      <td>Inside Out</td>\n",
       "      <td>Drama</td>\n",
       "      <td>175000000</td>\n",
       "      <td>94.0</td>\n",
       "      <td>2015</td>\n",
       "      <td>6</td>\n",
       "      <td>857611174</td>\n",
       "    </tr>\n",
       "    <tr>\n",
       "      <th>1152</th>\n",
       "      <td>Mission: Impossible - Rogue Nation</td>\n",
       "      <td>Action</td>\n",
       "      <td>150000000</td>\n",
       "      <td>131.0</td>\n",
       "      <td>2015</td>\n",
       "      <td>7</td>\n",
       "      <td>682330139</td>\n",
       "    </tr>\n",
       "    <tr>\n",
       "      <th>608</th>\n",
       "      <td>The Hunger Games: Mockingjay - Part 2</td>\n",
       "      <td>Action</td>\n",
       "      <td>160000000</td>\n",
       "      <td>137.0</td>\n",
       "      <td>2015</td>\n",
       "      <td>11</td>\n",
       "      <td>653428261</td>\n",
       "    </tr>\n",
       "    <tr>\n",
       "      <th>1781</th>\n",
       "      <td>The Martian</td>\n",
       "      <td>Drama</td>\n",
       "      <td>108000000</td>\n",
       "      <td>141.0</td>\n",
       "      <td>2015</td>\n",
       "      <td>9</td>\n",
       "      <td>630161890</td>\n",
       "    </tr>\n",
       "    <tr>\n",
       "      <th>1492</th>\n",
       "      <td>Fifty Shades of Grey</td>\n",
       "      <td>Drama</td>\n",
       "      <td>40000000</td>\n",
       "      <td>125.0</td>\n",
       "      <td>2015</td>\n",
       "      <td>2</td>\n",
       "      <td>571006128</td>\n",
       "    </tr>\n",
       "    <tr>\n",
       "      <th>1731</th>\n",
       "      <td>Cinderella</td>\n",
       "      <td>Romance</td>\n",
       "      <td>95000000</td>\n",
       "      <td>105.0</td>\n",
       "      <td>2015</td>\n",
       "      <td>3</td>\n",
       "      <td>543514353</td>\n",
       "    </tr>\n",
       "    <tr>\n",
       "      <th>1567</th>\n",
       "      <td>The Revenant</td>\n",
       "      <td>NaN</td>\n",
       "      <td>135000000</td>\n",
       "      <td>156.0</td>\n",
       "      <td>2015</td>\n",
       "      <td>12</td>\n",
       "      <td>532950503</td>\n",
       "    </tr>\n",
       "    <tr>\n",
       "      <th>1518</th>\n",
       "      <td>Ant-Man</td>\n",
       "      <td>Science Fiction</td>\n",
       "      <td>130000000</td>\n",
       "      <td>117.0</td>\n",
       "      <td>2015</td>\n",
       "      <td>7</td>\n",
       "      <td>519311965</td>\n",
       "    </tr>\n",
       "    <tr>\n",
       "      <th>1264</th>\n",
       "      <td>Hotel Transylvania 2</td>\n",
       "      <td>Animation</td>\n",
       "      <td>80000000</td>\n",
       "      <td>89.0</td>\n",
       "      <td>2015</td>\n",
       "      <td>9</td>\n",
       "      <td>473226958</td>\n",
       "    </tr>\n",
       "    <tr>\n",
       "      <th>982</th>\n",
       "      <td>San Andreas</td>\n",
       "      <td>Action</td>\n",
       "      <td>110000000</td>\n",
       "      <td>114.0</td>\n",
       "      <td>2015</td>\n",
       "      <td>5</td>\n",
       "      <td>470490832</td>\n",
       "    </tr>\n",
       "  </tbody>\n",
       "</table>\n",
       "</div>"
      ],
      "text/plain": [
       "                                      title            genre     budget  \\\n",
       "413                          Jurassic World           Action  150000000   \n",
       "1589                              Furious 7           Action  190000000   \n",
       "1221                Avengers: Age of Ultron           Action  280000000   \n",
       "1310                                Minions              NaN   74000000   \n",
       "798                                 Spectre           Action  245000000   \n",
       "520                              Inside Out            Drama  175000000   \n",
       "1152     Mission: Impossible - Rogue Nation           Action  150000000   \n",
       "608   The Hunger Games: Mockingjay - Part 2           Action  160000000   \n",
       "1781                            The Martian            Drama  108000000   \n",
       "1492                   Fifty Shades of Grey            Drama   40000000   \n",
       "1731                             Cinderella          Romance   95000000   \n",
       "1567                           The Revenant              NaN  135000000   \n",
       "1518                                Ant-Man  Science Fiction  130000000   \n",
       "1264                   Hotel Transylvania 2        Animation   80000000   \n",
       "982                             San Andreas           Action  110000000   \n",
       "\n",
       "      runtime  year  month     revenue  \n",
       "413     124.0  2015      6  1513528810  \n",
       "1589    137.0  2015      4  1506249360  \n",
       "1221    141.0  2015      4  1405403694  \n",
       "1310     91.0  2015      6  1156730962  \n",
       "798     148.0  2015     10   880674609  \n",
       "520      94.0  2015      6   857611174  \n",
       "1152    131.0  2015      7   682330139  \n",
       "608     137.0  2015     11   653428261  \n",
       "1781    141.0  2015      9   630161890  \n",
       "1492    125.0  2015      2   571006128  \n",
       "1731    105.0  2015      3   543514353  \n",
       "1567    156.0  2015     12   532950503  \n",
       "1518    117.0  2015      7   519311965  \n",
       "1264     89.0  2015      9   473226958  \n",
       "982     114.0  2015      5   470490832  "
      ]
     },
     "execution_count": 34,
     "metadata": {},
     "output_type": "execute_result"
    }
   ],
   "source": [
    "recent_movies_nonzero[recent_movies_nonzero['year'] == 2015].sort_values('revenue', ascending = False)[:15]"
   ]
  },
  {
   "cell_type": "markdown",
   "id": "0beb3f2c-a702-470f-a2b0-794da57a784c",
   "metadata": {},
   "source": [
    "1. Wait on the analysis until after cleaning the data (at least a little)\n",
    "2. Can seem nebulous but:\n",
    "    1. Focus on the time period\n",
    "    2. The target\n",
    "    3. Compare against the real world\n",
    "    * Focusing on the year first, can help save you time later on"
   ]
  },
  {
   "cell_type": "code",
   "execution_count": null,
   "id": "d009d124-9c62-4afb-b682-ec9ccf49e800",
   "metadata": {},
   "outputs": [],
   "source": []
  }
 ],
 "metadata": {
  "kernelspec": {
   "display_name": "Python 3 (ipykernel)",
   "language": "python",
   "name": "python3"
  },
  "language_info": {
   "codemirror_mode": {
    "name": "ipython",
    "version": 3
   },
   "file_extension": ".py",
   "mimetype": "text/x-python",
   "name": "python",
   "nbconvert_exporter": "python",
   "pygments_lexer": "ipython3",
   "version": "3.9.12"
  }
 },
 "nbformat": 4,
 "nbformat_minor": 5
}
