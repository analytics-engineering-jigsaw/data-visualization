{
 "cells": [
  {
   "cell_type": "markdown",
   "id": "4b7108f1-c68d-4d3c-9c7e-5feb4ce799b1",
   "metadata": {},
   "source": [
    "# Kings County Housing"
   ]
  },
  {
   "cell_type": "code",
   "execution_count": 3,
   "id": "1c2be683-2814-4f27-8aed-f38912fffc0f",
   "metadata": {},
   "outputs": [],
   "source": [
    "# !pip install folium"
   ]
  },
  {
   "cell_type": "code",
   "execution_count": 4,
   "id": "c83cf9eb-e102-4076-833f-e884035404c2",
   "metadata": {},
   "outputs": [
    {
     "ename": "FileNotFoundError",
     "evalue": "[Errno 2] No such file or directory: 'geojson_files/Zipcodes_for_King_County_and_Surrounding_Area__Shorelines____zipcode_shore_area.geojson'",
     "output_type": "error",
     "traceback": [
      "\u001b[0;31m---------------------------------------------------------------------------\u001b[0m",
      "\u001b[0;31mFileNotFoundError\u001b[0m                         Traceback (most recent call last)",
      "Cell \u001b[0;32mIn[4], line 7\u001b[0m\n\u001b[1;32m      3\u001b[0m \u001b[38;5;66;03m#from IPython.display import display\u001b[39;00m\n\u001b[1;32m      6\u001b[0m shape \u001b[38;5;241m=\u001b[39m \u001b[38;5;124m\"\u001b[39m\u001b[38;5;124mgeojson_files/Zipcodes_for_King_County_and_Surrounding_Area__Shorelines____zipcode_shore_area.geojson\u001b[39m\u001b[38;5;124m\"\u001b[39m\n\u001b[0;32m----> 7\u001b[0m \u001b[38;5;28;01mwith\u001b[39;00m \u001b[38;5;28;43mopen\u001b[39;49m\u001b[43m(\u001b[49m\u001b[43mshape\u001b[49m\u001b[43m,\u001b[49m\u001b[43m \u001b[49m\u001b[38;5;124;43m'\u001b[39;49m\u001b[38;5;124;43mr\u001b[39;49m\u001b[38;5;124;43m'\u001b[39;49m\u001b[43m)\u001b[49m \u001b[38;5;28;01mas\u001b[39;00m f:\n\u001b[1;32m      8\u001b[0m     geo_data \u001b[38;5;241m=\u001b[39m json\u001b[38;5;241m.\u001b[39mload(f)\n\u001b[1;32m     10\u001b[0m \u001b[38;5;66;03m#print(geo_data['features'])\u001b[39;00m\n",
      "File \u001b[0;32m~/opt/anaconda3/lib/python3.9/site-packages/IPython/core/interactiveshell.py:282\u001b[0m, in \u001b[0;36m_modified_open\u001b[0;34m(file, *args, **kwargs)\u001b[0m\n\u001b[1;32m    275\u001b[0m \u001b[38;5;28;01mif\u001b[39;00m file \u001b[38;5;129;01min\u001b[39;00m {\u001b[38;5;241m0\u001b[39m, \u001b[38;5;241m1\u001b[39m, \u001b[38;5;241m2\u001b[39m}:\n\u001b[1;32m    276\u001b[0m     \u001b[38;5;28;01mraise\u001b[39;00m \u001b[38;5;167;01mValueError\u001b[39;00m(\n\u001b[1;32m    277\u001b[0m         \u001b[38;5;124mf\u001b[39m\u001b[38;5;124m\"\u001b[39m\u001b[38;5;124mIPython won\u001b[39m\u001b[38;5;124m'\u001b[39m\u001b[38;5;124mt let you open fd=\u001b[39m\u001b[38;5;132;01m{\u001b[39;00mfile\u001b[38;5;132;01m}\u001b[39;00m\u001b[38;5;124m by default \u001b[39m\u001b[38;5;124m\"\u001b[39m\n\u001b[1;32m    278\u001b[0m         \u001b[38;5;124m\"\u001b[39m\u001b[38;5;124mas it is likely to crash IPython. If you know what you are doing, \u001b[39m\u001b[38;5;124m\"\u001b[39m\n\u001b[1;32m    279\u001b[0m         \u001b[38;5;124m\"\u001b[39m\u001b[38;5;124myou can use builtins\u001b[39m\u001b[38;5;124m'\u001b[39m\u001b[38;5;124m open.\u001b[39m\u001b[38;5;124m\"\u001b[39m\n\u001b[1;32m    280\u001b[0m     )\n\u001b[0;32m--> 282\u001b[0m \u001b[38;5;28;01mreturn\u001b[39;00m \u001b[43mio_open\u001b[49m\u001b[43m(\u001b[49m\u001b[43mfile\u001b[49m\u001b[43m,\u001b[49m\u001b[43m \u001b[49m\u001b[38;5;241;43m*\u001b[39;49m\u001b[43margs\u001b[49m\u001b[43m,\u001b[49m\u001b[43m \u001b[49m\u001b[38;5;241;43m*\u001b[39;49m\u001b[38;5;241;43m*\u001b[39;49m\u001b[43mkwargs\u001b[49m\u001b[43m)\u001b[49m\n",
      "\u001b[0;31mFileNotFoundError\u001b[0m: [Errno 2] No such file or directory: 'geojson_files/Zipcodes_for_King_County_and_Surrounding_Area__Shorelines____zipcode_shore_area.geojson'"
     ]
    }
   ],
   "source": [
    "import folium\n",
    "\n",
    "#from IPython.display import display\n",
    "\n",
    "\n",
    "shape = \"geojson_files/Zipcodes_for_King_County_and_Surrounding_Area__Shorelines____zipcode_shore_area.geojson\"\n",
    "with open(shape, 'r') as f:\n",
    "    geo_data = json.load(f)\n",
    "\n",
    "#print(geo_data['features'])\n",
    "geo_data['features'][0].keys()\n",
    "    \n",
    "# Set zipcode type to string (folium)  \n",
    "# HAD TO LOOK THIS ONE UP\n",
    "kc_zip = kc.copy()\n",
    "\n",
    "\n",
    "def map_by_zipcode(zipcode_data, col):\n",
    "    \"\"\"\n",
    "    Generates a folium map of King County with selected feature mean\n",
    "        :param zipcode_data: zipcode dataset\n",
    "        :param feature: feature to display\n",
    "        :return: m (Folium Map object)\n",
    "    \"\"\"\n",
    "\n",
    "    centerlat = (zipcode_data['lat'].max() + zipcode_data['lat'].min()) / 2\n",
    "    centerlong = (zipcode_data['long'].max() + zipcode_data['long'].min()) / 2\n",
    "    \n",
    "    # Initialize Folium Map with Seattle latitude and longitude\n",
    "    m = folium.Map(location=[centerlat, centerlong], \n",
    "                   zoom_start=10,\n",
    "                   control_scale=False,\n",
    "                   tiles='Stamen Toner')\n",
    "    \n",
    "\n",
    "    # Create choropleth map  \n",
    "    folium.Choropleth(\n",
    "        geo_data=geo_data,\n",
    "        name='choropleth',\n",
    "        data=zipcode_data,\n",
    "        columns=['zipcode', col],\n",
    "        key_on='feature.properties.ZIPCODE',\n",
    "        fill_color='Spectral',\n",
    "        fill_opacity=0.6,\n",
    "        nan_fill_opacity=0,\n",
    "        line_opacity=1,\n",
    "        legend_name= (col + ' mean').upper()\n",
    "    ).add_to(m)\n",
    "    \n",
    "    #folium.LayerControl().add_to(m)\n",
    "\n",
    "    return m\n",
    "\n",
    "\n",
    "\n",
    "kc_zip['zipcode'] = kc_zip['zipcode'].astype('str')\n",
    "\n",
    "# get the mean value across all zipcodes\n",
    "zipcode_data = kc_zip.groupby('zipcode').aggregate(np.mean)\n",
    "zipcode_data.reset_index(inplace = True)\n",
    "\n",
    "\n",
    "feature = 'price'  # Change this to investigate other relationships\n",
    "m = map_by_zipcode(zipcode_data, feature)"
   ]
  },
  {
   "cell_type": "code",
   "execution_count": null,
   "id": "8122cf4d-036d-4e6a-a37e-268bf0ffab0c",
   "metadata": {},
   "outputs": [],
   "source": []
  }
 ],
 "metadata": {
  "kernelspec": {
   "display_name": "Python 3 (ipykernel)",
   "language": "python",
   "name": "python3"
  },
  "language_info": {
   "codemirror_mode": {
    "name": "ipython",
    "version": 3
   },
   "file_extension": ".py",
   "mimetype": "text/x-python",
   "name": "python",
   "nbconvert_exporter": "python",
   "pygments_lexer": "ipython3",
   "version": "3.9.12"
  }
 },
 "nbformat": 4,
 "nbformat_minor": 5
}
