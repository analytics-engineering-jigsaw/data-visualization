{
 "cells": [
  {
   "cell_type": "markdown",
   "id": "ffe7a6f2-2f38-48c4-b965-7da530856b2c",
   "metadata": {},
   "source": [
    "1. Get dataset\n",
    "\n",
    "* Brief exploration \n",
    "    1. Check the grain of the data\n",
    "        * What does each row of the data represent\n",
    "    2. Identify the target of the data\n",
    "        * What do we want to optimize\n",
    "* Quick Coercion of the data\n",
    "    * Change items that are of type object into numeric data\n",
    "    * Datetime -> add_datepart()\n",
    "        * Extracts multiple features from the dt\n",
    "* Find the representative portion of the data\n",
    "    * Missing data\n",
    "        * SAT data - better schools more likely to respond\n",
    "        * non-response bias\n",
    "    * Look at the time dimension\n",
    "        * More recent data\n",
    "        * Breakdown by month/week\n",
    "    * Plot the target\n",
    "        * -999\n",
    "* 80 - 20 rule -- Start broad and go narrow\n",
    "    * build_and_plot(df, target, [col_1, col_2])\n",
    "        * groupby('city').sum()\n",
    "    * Geography\n",
    "        * NYC\n",
    "        * Philadelphia\n",
    "    * Deeper \n",
    "        * selected_df\n",
    "       * Why dig deeper\n",
    "           * Identified the category is important\n",
    "           * \n",
    "* Power products/power users\n",
    "    * selecting_df \n",
    "    \n",
    "           "
   ]
  },
  {
   "cell_type": "code",
   "execution_count": null,
   "id": "1170f656-ea77-42ee-a742-f71299ac352b",
   "metadata": {},
   "outputs": [],
   "source": []
  }
 ],
 "metadata": {
  "kernelspec": {
   "display_name": "Python 3 (ipykernel)",
   "language": "python",
   "name": "python3"
  },
  "language_info": {
   "codemirror_mode": {
    "name": "ipython",
    "version": 3
   },
   "file_extension": ".py",
   "mimetype": "text/x-python",
   "name": "python",
   "nbconvert_exporter": "python",
   "pygments_lexer": "ipython3",
   "version": "3.9.12"
  }
 },
 "nbformat": 4,
 "nbformat_minor": 5
}
