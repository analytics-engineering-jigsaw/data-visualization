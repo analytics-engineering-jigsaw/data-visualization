{
 "cells": [
  {
   "cell_type": "markdown",
   "id": "fe881ce5-266c-45ff-b9bc-0bbd46541b87",
   "metadata": {},
   "source": [
    "# Comparison Lab"
   ]
  },
  {
   "cell_type": "markdown",
   "id": "7930c7a5-c3c0-45d4-aa5d-bb38cda7b278",
   "metadata": {},
   "source": [
    "Notice that we're able to draw these charts even without the data -- that is because we are trying to *visualize the message -- not the mess*.  "
   ]
  },
  {
   "cell_type": "markdown",
   "id": "4cbab586-89c4-40ef-ae3a-4f26dc70bb8e",
   "metadata": {},
   "source": [
    "There should be vertical consistency between each message -- this means when you look at the message, and then look vertically down at the chart -- the chart and message should re-inforce each other.\n",
    "\n",
    "If when looking at the chart, we are asking the reader to do work to see the comparison -- we should do that work for the reader, and build that into the chart."
   ]
  },
  {
   "cell_type": "markdown",
   "id": "5bb0fd32-0ed6-4c4d-8d26-00b7ebb593bd",
   "metadata": {},
   "source": [
    "* Sales are forecast to increase over the next 10 years\n",
    "* Most employees earn between 30, and 35,000\n",
    "* Higher price of gasoline does not indicate higher performance\n",
    "* Turnover rates for the six divisions were about the same\n",
    "* Sales manager spends only 15% of time in the field\n",
    "* Earnings per share is declining\n",
    "* In august, the two plants outproduced the other six by a wide margin"
   ]
  },
  {
   "cell_type": "markdown",
   "id": "2692dc1f-7134-413b-9c3e-a28619f09ed8",
   "metadata": {},
   "source": [
    "### Answers"
   ]
  },
  {
   "cell_type": "markdown",
   "id": "d2b6e888-1ffc-4d0d-89fe-31990b875bac",
   "metadata": {},
   "source": [
    "<img src=\"./answers-images.png\" width=\"60%\">"
   ]
  },
  {
   "cell_type": "markdown",
   "id": "03b8d1d2-7bb1-4b45-83e2-145bed03304b",
   "metadata": {},
   "source": [
    "<img src=\"./largest-share.png\" width=\"70%\">"
   ]
  },
  {
   "cell_type": "code",
   "execution_count": null,
   "id": "62931fbe-1481-4534-84f3-7e1435c61141",
   "metadata": {},
   "outputs": [],
   "source": []
  }
 ],
 "metadata": {
  "kernelspec": {
   "display_name": "Python 3 (ipykernel)",
   "language": "python",
   "name": "python3"
  },
  "language_info": {
   "codemirror_mode": {
    "name": "ipython",
    "version": 3
   },
   "file_extension": ".py",
   "mimetype": "text/x-python",
   "name": "python",
   "nbconvert_exporter": "python",
   "pygments_lexer": "ipython3",
   "version": "3.9.12"
  }
 },
 "nbformat": 4,
 "nbformat_minor": 5
}
