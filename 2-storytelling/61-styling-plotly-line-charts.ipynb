{
 "cells": [
  {
   "cell_type": "markdown",
   "id": "536438ff-1785-4e6e-8ac5-416c9cf3d298",
   "metadata": {},
   "source": [
    "# Styling Plotly Line Charts"
   ]
  },
  {
   "cell_type": "markdown",
   "id": "f96f3365-0105-4143-a809-cf866b03bc93",
   "metadata": {},
   "source": [
    "### Introduction"
   ]
  },
  {
   "cell_type": "markdown",
   "id": "da776260-f382-4efa-97c4-74a7501e63d3",
   "metadata": {},
   "source": [
    "In this lesson we'll move onto styling plotly line charts.  Let's get started."
   ]
  },
  {
   "cell_type": "markdown",
   "id": "914d9e03-d87b-45b7-a88b-4272d5efed5b",
   "metadata": {},
   "source": [
    "### Loading our data"
   ]
  },
  {
   "cell_type": "code",
   "execution_count": 4,
   "id": "7929130a-8971-45fe-b1c3-9625f22857e6",
   "metadata": {},
   "outputs": [
    {
     "data": {
      "text/html": [
       "<div>\n",
       "<style scoped>\n",
       "    .dataframe tbody tr th:only-of-type {\n",
       "        vertical-align: middle;\n",
       "    }\n",
       "\n",
       "    .dataframe tbody tr th {\n",
       "        vertical-align: top;\n",
       "    }\n",
       "\n",
       "    .dataframe thead th {\n",
       "        text-align: right;\n",
       "    }\n",
       "</style>\n",
       "<table border=\"1\" class=\"dataframe\">\n",
       "  <thead>\n",
       "    <tr style=\"text-align: right;\">\n",
       "      <th></th>\n",
       "      <th>Order ID</th>\n",
       "      <th>Product</th>\n",
       "      <th>Quantity Ordered</th>\n",
       "      <th>Price Each</th>\n",
       "      <th>Order Date</th>\n",
       "      <th>Purchase Address</th>\n",
       "      <th>Month</th>\n",
       "      <th>Sales</th>\n",
       "      <th>City</th>\n",
       "      <th>Hour</th>\n",
       "    </tr>\n",
       "  </thead>\n",
       "  <tbody>\n",
       "    <tr>\n",
       "      <th>0</th>\n",
       "      <td>295665</td>\n",
       "      <td>Macbook Pro Laptop</td>\n",
       "      <td>1</td>\n",
       "      <td>1700.00</td>\n",
       "      <td>2019-12-30 00:01:00</td>\n",
       "      <td>136 Church St, New York City, NY 10001</td>\n",
       "      <td>12</td>\n",
       "      <td>1700.00</td>\n",
       "      <td>New York City</td>\n",
       "      <td>0</td>\n",
       "    </tr>\n",
       "    <tr>\n",
       "      <th>1</th>\n",
       "      <td>295666</td>\n",
       "      <td>LG Washing Machine</td>\n",
       "      <td>1</td>\n",
       "      <td>600.00</td>\n",
       "      <td>2019-12-29 07:03:00</td>\n",
       "      <td>562 2nd St, New York City, NY 10001</td>\n",
       "      <td>12</td>\n",
       "      <td>600.00</td>\n",
       "      <td>New York City</td>\n",
       "      <td>7</td>\n",
       "    </tr>\n",
       "    <tr>\n",
       "      <th>2</th>\n",
       "      <td>295667</td>\n",
       "      <td>USB-C Charging Cable</td>\n",
       "      <td>1</td>\n",
       "      <td>11.95</td>\n",
       "      <td>2019-12-12 18:21:00</td>\n",
       "      <td>277 Main St, New York City, NY 10001</td>\n",
       "      <td>12</td>\n",
       "      <td>11.95</td>\n",
       "      <td>New York City</td>\n",
       "      <td>18</td>\n",
       "    </tr>\n",
       "  </tbody>\n",
       "</table>\n",
       "</div>"
      ],
      "text/plain": [
       "   Order ID               Product  Quantity Ordered  Price Each  \\\n",
       "0    295665    Macbook Pro Laptop                 1     1700.00   \n",
       "1    295666    LG Washing Machine                 1      600.00   \n",
       "2    295667  USB-C Charging Cable                 1       11.95   \n",
       "\n",
       "            Order Date                        Purchase Address  Month  \\\n",
       "0  2019-12-30 00:01:00  136 Church St, New York City, NY 10001     12   \n",
       "1  2019-12-29 07:03:00     562 2nd St, New York City, NY 10001     12   \n",
       "2  2019-12-12 18:21:00    277 Main St, New York City, NY 10001     12   \n",
       "\n",
       "     Sales            City  Hour  \n",
       "0  1700.00   New York City     0  \n",
       "1   600.00   New York City     7  \n",
       "2    11.95   New York City    18  "
      ]
     },
     "execution_count": 4,
     "metadata": {},
     "output_type": "execute_result"
    }
   ],
   "source": [
    "import pandas as pd\n",
    "sales_df = pd.read_csv('./sales_data.csv', index_col = 0)\n",
    "sales_df[:3]"
   ]
  },
  {
   "cell_type": "code",
   "execution_count": 25,
   "id": "1f509ec6-f5bc-4b94-99f2-6c665effd823",
   "metadata": {},
   "outputs": [],
   "source": [
    "day_of_month = pd.to_datetime(sales_df['Order Date']).dt.day\n",
    "sales = sales_df['Sales']\n",
    "\n",
    "df = pd.DataFrame({'day_of_month': day_of_month, 'sales': sales})\n",
    "idx = df.groupby('day_of_month').sum().index\n",
    "total_sales = df.groupby('day_of_month').sum()['sales']\n",
    "day_of_month = idx"
   ]
  },
  {
   "cell_type": "code",
   "execution_count": 52,
   "id": "e3af87a3-3c91-4ad4-a998-f96c39b1fe42",
   "metadata": {},
   "outputs": [],
   "source": [
    "products = ['Macbook Pro Laptop', 'iPhone', 'ThinkPad Laptop', 'Google Phone', '27in 4K Gaming Monitor', '34in Ultrawide Monitor', 'Apple Airpods Headphones', 'Flatscreen TV', 'Bose SoundSport Headphones', '27in FHD Monitor']\n",
    "sales = [8037600.0, 4794300.0, 4129958.7, 3319200.0, 2435097.56, 2355558.01, 2349150.0, 1445700.0, 1345565.43, 1132424.5]"
   ]
  },
  {
   "cell_type": "markdown",
   "id": "12b3792f-33e3-425d-8f08-ba0b6ada27e4",
   "metadata": {},
   "source": [
    "### Time Comparisons - Line Chart\n",
    "\n",
    "The last chart is the line chart -- which is for showing changes in data over time.\n",
    "\n",
    "<img src=\"./classic-line-chart.png\" width=\"40%\">"
   ]
  },
  {
   "cell_type": "markdown",
   "id": "c82a7178-ec02-4455-b570-9b6fd96760b5",
   "metadata": {},
   "source": [
    "The chart above is properly styled.  Notice that we are showing the difference between the past data and the projected data (although that projection looks optimistic).  And that we are doing so both with the shading and the dashed line."
   ]
  },
  {
   "cell_type": "markdown",
   "id": "508d0e67-3913-4e54-80d2-8340036fff14",
   "metadata": {},
   "source": [
    "Below is another line chart -- which shows the revenue of one company -- Company A -- against each of the competitors.  Beccause it's difficult to keep track of all of that information, underneath the chart is broken into smaller components -- with each competitor given a separate breakout chart (or you could just break out the most interesting of the competitors).  "
   ]
  },
  {
   "cell_type": "markdown",
   "id": "768a2e6e-edc6-42f4-a130-806bb25b9139",
   "metadata": {},
   "source": [
    "<img src=\"./spaghetti.png\" width=\"40%\">"
   ]
  },
  {
   "cell_type": "markdown",
   "id": "e94976f3-8e86-4610-acd7-a8a4a3e5f271",
   "metadata": {},
   "source": [
    "<img src=\"./untangled.png\" width=\"40%\">"
   ]
  },
  {
   "cell_type": "markdown",
   "id": "fdec70fa-1d29-4705-8d61-8b0db11ba1de",
   "metadata": {},
   "source": [
    "### Summary"
   ]
  },
  {
   "cell_type": "markdown",
   "id": "dc71e3d9-9977-4360-8e90-9089d5f6da1b",
   "metadata": {},
   "source": [
    "In this lesson, we saw how to display our different kinds of comparisons.  There were a couple of takeaways:\n",
    "    \n",
    "* Don't use pie charts -- even when working with percentages.  \n",
    "* Most often, you can stick with horizontal bar charts, which make it easy to compare groups, and also provide for labeling.\n",
    "    * Just remember to be careful about how you choose those groups\n",
    "* A column chart is ok when the data is sequential (as in revenue per year)\n",
    "* And a line chart is typically used for showing change over time\n",
    "  "
   ]
  },
  {
   "cell_type": "markdown",
   "id": "04e2e016-b742-40aa-a799-c05a1925d044",
   "metadata": {},
   "source": [
    "### Resources\n",
    "\n",
    "[Sales Sample Data](https://www.kaggle.com/datasets/kyanyoga/sample-sales-data)"
   ]
  },
  {
   "cell_type": "markdown",
   "id": "342222a2-0243-4ee8-adc2-18c62c093931",
   "metadata": {},
   "source": [
    "[Supermarket Sales](https://www.kaggle.com/datasets/aungpyaeap/supermarket-sales)\n",
    "\n",
    "[Plotly Shapes](https://plotly.com/python/horizontal-vertical-shapes/)\n",
    "\n",
    "[Plotly Annotations](https://plotly.com/python/text-and-annotations/)"
   ]
  },
  {
   "cell_type": "code",
   "execution_count": null,
   "id": "a6e9c114-d5df-44c7-96a8-5894437380ac",
   "metadata": {},
   "outputs": [],
   "source": []
  }
 ],
 "metadata": {
  "kernelspec": {
   "display_name": "Python 3 (ipykernel)",
   "language": "python",
   "name": "python3"
  },
  "language_info": {
   "codemirror_mode": {
    "name": "ipython",
    "version": 3
   },
   "file_extension": ".py",
   "mimetype": "text/x-python",
   "name": "python",
   "nbconvert_exporter": "python",
   "pygments_lexer": "ipython3",
   "version": "3.9.12"
  }
 },
 "nbformat": 4,
 "nbformat_minor": 5
}
