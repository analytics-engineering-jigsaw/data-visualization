{
 "cells": [
  {
   "cell_type": "markdown",
   "id": "bd84b8e6-ce42-4041-ba6c-8978bd89393e",
   "metadata": {},
   "source": [
    "# Grouping Data and Unit Economics"
   ]
  },
  {
   "cell_type": "markdown",
   "id": "db99c940-1860-4bc0-b3f9-821928eb1f29",
   "metadata": {},
   "source": [
    "### Introduction"
   ]
  },
  {
   "cell_type": "markdown",
   "id": "ad6f6d97-8cc6-49d8-af5d-74a623b21c48",
   "metadata": {},
   "source": [
    "When performing analysis, we are often grouping our data as a way to summarize our data.  It's seems like such a simple task.  But as we'll see the way that we group our data can make a significant difference on the conclusions we draw from that data.  Group the data incorrectly, and we're likely to come to an incorrect conclusion.     "
   ]
  },
  {
   "cell_type": "markdown",
   "id": "b07efe15-1bfb-4191-8f26-419cff452df4",
   "metadata": {},
   "source": [
    "##### The danger of grouping"
   ]
  },
  {
   "cell_type": "markdown",
   "id": "6af4acc3-dc0c-46ea-a120-b4dc1fd07ffa",
   "metadata": {},
   "source": [
    "To see how grouping our data can deeply affect our conclusion, let's start with an example.  Let's say we own a nationwide franchise of ice shops.  And the breakdown of regional sales looks like the following. "
   ]
  },
  {
   "cell_type": "markdown",
   "id": "cff29cf1-addd-436b-a665-084d496ef777",
   "metadata": {},
   "source": [
    "| Region |  Revenue |\n",
    "|--------|-------------|\n",
    "| NE     |  65%         |\n",
    "| SE     |  25%          |\n",
    "| NW     |  6%         |\n",
    "| SW     |  4%         |"
   ]
  },
  {
   "cell_type": "markdown",
   "id": "661596ab-e1e7-495c-a955-7ff6d3aa0db9",
   "metadata": {},
   "source": [
    "Seems like the northeast is dominating.  But what if we then learn that the Southwest has only one percent of the total franchises, and the northeast has 90 percent.  In that case, sales per store would be higher in the southwest.\n",
    "\n",
    "What's the point?  We need to be careful to work with the correct units.  And to be aware of the conclusions we can draw from those units."
   ]
  },
  {
   "cell_type": "markdown",
   "id": "d4b5544e-8771-44a3-a07e-2d352a0686f7",
   "metadata": {},
   "source": [
    "### What are the correct units?"
   ]
  },
  {
   "cell_type": "markdown",
   "id": "229b98d6-3f16-483f-8ec6-0c2ee3249d55",
   "metadata": {},
   "source": [
    "The correct units can vary by industry.  However, in performing analysis, a good baseline can be the units from unit economics.\n",
    "\n",
    "With unit economics, there most typical unit is the customer.\n",
    "\n",
    "A. Units as Customers\n",
    "\n",
    "As we'll see there are multiple options, but a good starting point is an individual customer.  And when calculating that cost, the two measures to pay attention to is the **lifetime value** (or profit) of that customer and the **cost of acquiring** that customer (the upfront cost of acquisition). \n",
    "\n",
    "1. Customer Lifetime Value\n",
    "\n",
    "* This is the amount of profit that each customer brings in (for as long as the customer continues sending us money). So note that, because this calculation is one of profit, our CLV *includes* the cost of maintaining that customer.\n",
    "\n",
    "2. Cost of Acquisition\n",
    "\n",
    "* For the cost of acquisition.  This is the cost of acquiring that customer -- through a combination of sales and marketing.  So this is our up front investment before we intake any money.  \n",
    "\n",
    "Choosing customers as a unit is useful in when deciding whether to go after a specific customer - or segment of customers.  Essentially, we're performing cost benefit analysis -- what's the benefit we'll receive (CLV) for putting forward that effort (CAC).\n",
    "\n",
    "> Units as individual orders? \n",
    "\n",
    "If we want to go even more detailed, we could use each customer order as our metric.  Here, perhaps we can calculate the average order value -- and cost of processing that order -- including any startup costs.  "
   ]
  },
  {
   "cell_type": "markdown",
   "id": "64aeb151-cd59-444f-8615-ee045ad66b61",
   "metadata": {},
   "source": [
    "B. Other units\n",
    "\n",
    "* Stores\n",
    "\n",
    "When the decision is whether to open up a new store, stores may be a better unit.  What do we expect the lifetime value of this store to be (eg. what was the lifetime value for similar stores), and what is the up front cost of opening this store.\n",
    "\n",
    "* Products\n",
    "\n",
    "Or this could be shifted to a product line.  What is the lifetime profitability of a product line vs the cost of starting it up."
   ]
  },
  {
   "cell_type": "markdown",
   "id": "2d77d144-c6db-421a-8f45-66720c51ea64",
   "metadata": {},
   "source": [
    "### Fixed vs Marginal Costs\n",
    "\n",
    "The above discussion -- and unit economics -- is also influenced by the economic idea of fixed vs marginal costs.  If you think of what it takes to run our ice cream shop, there's the cost of:\n",
    "1. Fixed Costs\n",
    "\n",
    "* the owning/renting the store and \n",
    "* cost of equipment equipment, as well as\n",
    "* Research and Development\n",
    "\n",
    "2. Marginal costs\n",
    "\n",
    "* Cost of labor\n",
    "* Ice cream/toppings\n",
    "\n",
    "So fixed costs are those costs that do not vary with the amount of ice cream we sell.  We need to pay for our store regardless of if we sell 1 or 1000 ice creams.  **Marginal cost** is the cost of selling one additional unit.  This is most directly seen with ice cream -- there is a built in cost of materials with each individual unit sold.  But labor is also considered a variable cost because we typically vary it with the amount sold (as we sell more, we hire more).  \n",
    "\n",
    "The reason we bring this up now is because it relates to our CAC and LTV metrics.  The metrics evolved because in an online world, a lot of the fixed costs like buying equipment and a store disappear.  But instead there is still an upfront cost to R&D and acquiring a customer.  In unit economics you can think of an up front cost -- the cost of acquisition, and then a customer lifetime value the sum of all marginal profits per customer -- where this up front cost is paid off.   "
   ]
  },
  {
   "cell_type": "markdown",
   "id": "56d75e99-e24d-441b-af9b-7f67f3a727e8",
   "metadata": {},
   "source": [
    "### The point\n",
    "\n",
    "So what are the takeaways from the above?\n",
    "\n",
    "1. How to choose a unit\n",
    "\n",
    "The first is how to choose the correct unit.  A good starting point is with the customer first one.  It's pretty atomic.  And we can then go more narrow by looking at customer transactions.  Then if the decision is whether to say open up a new product line or store, and there is a significant up front cost to doing so -- then this should also be analyzed as a unit.  \n",
    "\n",
    "Essentially, with unit economics, we are asking what is the cost-benefit of a decision.  And we use the lifetime value of that unit along with the upfront cost to decide this.\n",
    "\n",
    "2. Be careful of less atomic groups\n",
    "\n",
    "Second, there is a danger to measuring at the group level.  Think of our initial example.\n",
    "\n",
    "| Region |  Revenue |\n",
    "|--------|-------------|\n",
    "| NE     |  65%         |\n",
    "| SE     |  25%          |\n",
    "| NW     |  6%         |\n",
    "| SW     |  4%         |\n",
    "\n",
    "Regional sales may be high -- but that does not mean per store performance or per customer performance is higher in that region.  It could just be that we have more stores in that region.  \n",
    "\n",
    "This is where unit economics -- considering the cost of acquisition and lifetime value of a customer (or a similar metric for a store) can help.\n",
    "\n",
    "Finally, another useful framework, especially with the offline world is to be aware of fixed and upfront costs.  Fixed costs include R&D, equipment and the building, where as marginal costs are inputs and labor.  One way of generalizing the two approaches is to think of upfront costs (fixed costs, and cost of acquisition), and then the marginal profit (LTV, which incorporates marginal costs)."
   ]
  },
  {
   "cell_type": "markdown",
   "id": "98923ca3-5ca9-48a2-b0e3-26adebb00834",
   "metadata": {},
   "source": [
    "### Resources\n",
    "\n",
    "[Ramp unit economicst](https://ramp.com/model/unit-economics)\n",
    "\n",
    "[Unit Economics](https://www.paddle.com/resources/unit-economics)\n",
    "\n",
    "[Medium Unit Economics](https://medium.com/@charles_armitage/unit-economics-a-practical-guide-to-lifetime-value-6d7f759a0438)\n",
    "\n",
    "[kaggle unit econ dataset](https://www.kaggle.com/datasets/abhishekrp1517/sales-data-for-economic-data-analysis)\n",
    "\n"
   ]
  },
  {
   "cell_type": "code",
   "execution_count": null,
   "id": "517ad448-a9fe-4248-aa7d-1cef19c089f4",
   "metadata": {},
   "outputs": [],
   "source": []
  }
 ],
 "metadata": {
  "kernelspec": {
   "display_name": "Python 3 (ipykernel)",
   "language": "python",
   "name": "python3"
  },
  "language_info": {
   "codemirror_mode": {
    "name": "ipython",
    "version": 3
   },
   "file_extension": ".py",
   "mimetype": "text/x-python",
   "name": "python",
   "nbconvert_exporter": "python",
   "pygments_lexer": "ipython3",
   "version": "3.9.12"
  }
 },
 "nbformat": 4,
 "nbformat_minor": 5
}
