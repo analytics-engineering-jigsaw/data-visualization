{
 "cells": [
  {
   "cell_type": "markdown",
   "id": "b78e469d-c021-45bd-912b-88de853ed2f5",
   "metadata": {},
   "source": [
    "# More complex charts"
   ]
  },
  {
   "cell_type": "markdown",
   "id": "c9d575ce-eb3a-4786-a003-fb217b52790b",
   "metadata": {},
   "source": [
    "> Perhaps move image to later section.  Going deeper."
   ]
  },
  {
   "cell_type": "markdown",
   "id": "3c8a45c8-c4d5-4de0-878e-10c32ba84062",
   "metadata": {},
   "source": [
    "<img src=\"./deviations-on-bar.png\" width=\"60%\">"
   ]
  }
 ],
 "metadata": {
  "kernelspec": {
   "display_name": "Python 3 (ipykernel)",
   "language": "python",
   "name": "python3"
  },
  "language_info": {
   "codemirror_mode": {
    "name": "ipython",
    "version": 3
   },
   "file_extension": ".py",
   "mimetype": "text/x-python",
   "name": "python",
   "nbconvert_exporter": "python",
   "pygments_lexer": "ipython3",
   "version": "3.9.12"
  }
 },
 "nbformat": 4,
 "nbformat_minor": 5
}
