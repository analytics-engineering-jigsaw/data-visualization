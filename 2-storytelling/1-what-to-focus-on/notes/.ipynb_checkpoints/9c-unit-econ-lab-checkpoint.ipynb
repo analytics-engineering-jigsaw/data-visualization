{
 "cells": [
  {
   "cell_type": "markdown",
   "id": "bd58ebe5-0fd5-4346-b3cb-64cd70ac65ab",
   "metadata": {},
   "source": [
    "# Distributions"
   ]
  },
  {
   "cell_type": "markdown",
   "id": "699d970f-ea88-4a18-a568-9cd55c2cd68e",
   "metadata": {},
   "source": [
    "### Introduction"
   ]
  },
  {
   "cell_type": "markdown",
   "id": "78223458-86c2-460a-a0dc-cedf74e84106",
   "metadata": {},
   "source": [
    "### Resources\n",
    "\n",
    "[Ecommerce Behavior](https://www.kaggle.com/datasets/mkechinov/ecommerce-behavior-data-from-multi-category-store))"
   ]
  },
  {
   "cell_type": "code",
   "execution_count": null,
   "id": "382d291e-8ded-482f-af1c-906f96b73c75",
   "metadata": {},
   "outputs": [],
   "source": []
  }
 ],
 "metadata": {
  "kernelspec": {
   "display_name": "Python 3 (ipykernel)",
   "language": "python",
   "name": "python3"
  },
  "language_info": {
   "codemirror_mode": {
    "name": "ipython",
    "version": 3
   },
   "file_extension": ".py",
   "mimetype": "text/x-python",
   "name": "python",
   "nbconvert_exporter": "python",
   "pygments_lexer": "ipython3",
   "version": "3.9.12"
  }
 },
 "nbformat": 4,
 "nbformat_minor": 5
}
