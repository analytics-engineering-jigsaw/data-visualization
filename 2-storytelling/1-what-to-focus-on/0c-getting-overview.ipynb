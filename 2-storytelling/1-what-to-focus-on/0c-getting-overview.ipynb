{
 "cells": [
  {
   "cell_type": "markdown",
   "id": "d2f947aa-c8b5-46e0-926f-4eb1154c1aa4",
   "metadata": {},
   "source": [
    "# Getting an Overview"
   ]
  },
  {
   "cell_type": "markdown",
   "id": "bd60bcdb-d0aa-4291-a34c-e9bc37cc600f",
   "metadata": {},
   "source": [
    "### Introduction"
   ]
  },
  {
   "cell_type": "markdown",
   "id": "d79014ff-0e2e-4aea-8f6c-9703859dcf04",
   "metadata": {},
   "source": [
    "In this lesson, we'll discuss our general techniques for working with a dataset.  In general, we'll take advantage a few techniques: \n",
    "\n",
    "1. Leaning on the 80 - 20 principal\n",
    "2. Finding surprising differences in the data"
   ]
  },
  {
   "cell_type": "markdown",
   "id": "c3d76f79-4c28-4d21-bcdf-f3658c30f117",
   "metadata": {},
   "source": [
    "### Performing Data Analysis"
   ]
  },
  {
   "cell_type": "markdown",
   "id": "3b9b6106-2a13-4646-9ed6-55c80f37dcfb",
   "metadata": {},
   "source": [
    "It's very difficult to **conclude** anything from data.  And concluding something with confidence, requires additional statistical work and knowledge beyond what we'll discuss in this section.  \n",
    "\n",
    "Instead, we'll focus on using data analysis to tell us *where to look*.  This is still quite valuable.  For someone in charge of anything, knowing where to direct their focus can help them use their time efficiently.\n",
    "\n",
    "For example, in looking at NYC school performance, maybe just a few schools have our lowest performers on math exams -- that tells us where to look.  In a business - it's often the same, data can tell us where to focus our energy."
   ]
  },
  {
   "cell_type": "markdown",
   "id": "262b3a0c-bcc3-4812-80ba-4dfd710b0eae",
   "metadata": {},
   "source": [
    "### 1. The 80 - 20 principal"
   ]
  },
  {
   "cell_type": "markdown",
   "id": "98116a68-5d33-4cef-b389-4a1e6cf3fa67",
   "metadata": {},
   "source": [
    "The 80 - 20 principal (or the Pareto Principal) is a rule about distribution.  Pareto saw that 80% of Italy's land was held by just 20% of the population.\n",
    "\n",
    "As we analyze datasets, we'll tend to see the same thing.  \n",
    "* A large percent of our sales come from a few products\n",
    "* A large percent of sales come from a few customers\n",
    "\n",
    "As a first step with a domain, this will tell us where to focus our energy -- on those products, customers, regions that dominate our sales.  We could also, of course, use the 80-20 rule to focus our energy on reducing costs.\n",
    "\n",
    "One broader theme is that when working with a new dataset or domain we want to **start broad**, and then go narrow.  For example, we shouldn't just dive into looking at TV sales until we confirm that TV sales are worth our time.  By starting broadly, and seeing what drives a certain metric (like revenue), we can determine where to focus our energy, and a company's energy."
   ]
  },
  {
   "cell_type": "markdown",
   "id": "165359b1-9a1e-4342-a259-20de0157d02c",
   "metadata": {},
   "source": [
    "### 2. Finding surprising differences"
   ]
  },
  {
   "cell_type": "markdown",
   "id": "797f5f4e-4c07-49b0-93a9-829d2b279fd9",
   "metadata": {},
   "source": [
    "Our second technique will be to look for differences in these categories.  For example, if see that most of our revenue comes from socks (as it does with any healthy business), then we may want to see why certain regions sell more socks than others.\n",
    "\n",
    "Really, what we are looking for are unexpected differences.  If a certain franchise that is overperforming what we expect, then we may want to have look to see if we can replicate this.  And of course, there is lot to learn from our underperforming franchises as well.  \n",
    "\n",
    "Essentially, what we are hoping for is some low hanging fruit.  Here's a store A that looks just like store B, but store A is doing a couple things different that drive sales in a key product, that makes a large difference.  "
   ]
  },
  {
   "cell_type": "markdown",
   "id": "91e08ba3-9bd8-4ee4-bf7d-b4612206f262",
   "metadata": {},
   "source": [
    "> Notice that this second technique of seeing surprising differences, only works *after* we have used the 80 - 20 principal to focus our energy.  We likely don't want to deeply study what drives Tshirt sales if Tshirts are just a small portion of our current profit (at least not at first)."
   ]
  },
  {
   "cell_type": "markdown",
   "id": "940e13d4-54aa-4c44-bdac-8703a70fa491",
   "metadata": {},
   "source": [
    "### Summary"
   ]
  },
  {
   "cell_type": "markdown",
   "id": "5ca21d46-9e83-4b4c-88bd-a6ccd612b90f",
   "metadata": {},
   "source": [
    "In this lesson, we discussed our overall purpose in performing data analysis, and our techniques for doing so.  We perform data analysis because it helps tell us where to look.\n",
    "\n",
    "One component on our side is the 80 - 20 principle.  Oftentimes we'll find not even distributions across groups but concentrated ones -- and this will tell us what groups to focus on.  This could mean certain products, regions, or customers that have an outsized effect on a business or domain.\n",
    "\n",
    "Then, once we say identify a key product -- we can try to break that down further.  For example, where is the product being sold, to whom, and why in one place or demographic, but not another."
   ]
  }
 ],
 "metadata": {
  "kernelspec": {
   "display_name": "Python 3 (ipykernel)",
   "language": "python",
   "name": "python3"
  },
  "language_info": {
   "codemirror_mode": {
    "name": "ipython",
    "version": 3
   },
   "file_extension": ".py",
   "mimetype": "text/x-python",
   "name": "python",
   "nbconvert_exporter": "python",
   "pygments_lexer": "ipython3",
   "version": "3.9.12"
  }
 },
 "nbformat": 4,
 "nbformat_minor": 5
}
