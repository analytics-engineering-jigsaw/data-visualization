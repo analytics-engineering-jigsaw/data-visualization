{
 "cells": [
  {
   "cell_type": "markdown",
   "id": "5477957c-55f1-4d9d-b139-430f2964fe8c",
   "metadata": {},
   "source": [
    "# Video Game Exploration Lab"
   ]
  },
  {
   "cell_type": "markdown",
   "id": "7f631fa4-4a52-4e80-a670-c9d5b6f2739c",
   "metadata": {},
   "source": [
    "### Introduction"
   ]
  },
  {
   "cell_type": "markdown",
   "id": "0f3fe61d-5542-4181-a379-e7131aa16df1",
   "metadata": {},
   "source": [
    "In this lesson, we'll practice getting an overview of our data by using video game sales data.  Let's get started."
   ]
  },
  {
   "cell_type": "markdown",
   "id": "5ef5b934-45fc-4a1e-b494-0773450f2739",
   "metadata": {},
   "source": [
    "### Loading our Data"
   ]
  },
  {
   "cell_type": "markdown",
   "id": "733284df-d9fc-416d-b55d-01a61c4994d5",
   "metadata": {},
   "source": [
    "We can begin by loading our data which will come from the [video game sales data](https://www.kaggle.com/datasets/gregorut/videogamesales)."
   ]
  },
  {
   "cell_type": "code",
   "execution_count": 1,
   "id": "a904b860-ba3f-402d-b08d-11dbeee241a7",
   "metadata": {},
   "outputs": [],
   "source": [
    "import pandas as pd\n",
    "url = \"https://raw.githubusercontent.com/analytics-engineering-jigsaw/data-visualization/main/2-storytelling/1-what-to-focus-on/vgsales.csv\"\n",
    "game_sales = pd.read_csv(url)"
   ]
  },
  {
   "cell_type": "markdown",
   "id": "1a261d0c-c26e-49d0-a530-13600e83d4a7",
   "metadata": {},
   "source": [
    "Now to explore the dataset, first slice the first few rows of data."
   ]
  },
  {
   "cell_type": "code",
   "execution_count": 2,
   "id": "d10b3a07-ec89-4b6f-982b-bf35727628c8",
   "metadata": {},
   "outputs": [
    {
     "data": {
      "text/html": [
       "<div>\n",
       "<style scoped>\n",
       "    .dataframe tbody tr th:only-of-type {\n",
       "        vertical-align: middle;\n",
       "    }\n",
       "\n",
       "    .dataframe tbody tr th {\n",
       "        vertical-align: top;\n",
       "    }\n",
       "\n",
       "    .dataframe thead th {\n",
       "        text-align: right;\n",
       "    }\n",
       "</style>\n",
       "<table border=\"1\" class=\"dataframe\">\n",
       "  <thead>\n",
       "    <tr style=\"text-align: right;\">\n",
       "      <th></th>\n",
       "      <th>Rank</th>\n",
       "      <th>Name</th>\n",
       "      <th>Platform</th>\n",
       "      <th>Year</th>\n",
       "      <th>Genre</th>\n",
       "      <th>Publisher</th>\n",
       "      <th>NA_Sales</th>\n",
       "      <th>EU_Sales</th>\n",
       "      <th>JP_Sales</th>\n",
       "      <th>Other_Sales</th>\n",
       "      <th>Global_Sales</th>\n",
       "    </tr>\n",
       "  </thead>\n",
       "  <tbody>\n",
       "    <tr>\n",
       "      <th>0</th>\n",
       "      <td>1</td>\n",
       "      <td>Wii Sports</td>\n",
       "      <td>Wii</td>\n",
       "      <td>2006.0</td>\n",
       "      <td>Sports</td>\n",
       "      <td>Nintendo</td>\n",
       "      <td>41.49</td>\n",
       "      <td>29.02</td>\n",
       "      <td>3.77</td>\n",
       "      <td>8.46</td>\n",
       "      <td>82.74</td>\n",
       "    </tr>\n",
       "    <tr>\n",
       "      <th>1</th>\n",
       "      <td>2</td>\n",
       "      <td>Super Mario Bros.</td>\n",
       "      <td>NES</td>\n",
       "      <td>1985.0</td>\n",
       "      <td>Platform</td>\n",
       "      <td>Nintendo</td>\n",
       "      <td>29.08</td>\n",
       "      <td>3.58</td>\n",
       "      <td>6.81</td>\n",
       "      <td>0.77</td>\n",
       "      <td>40.24</td>\n",
       "    </tr>\n",
       "    <tr>\n",
       "      <th>2</th>\n",
       "      <td>3</td>\n",
       "      <td>Mario Kart Wii</td>\n",
       "      <td>Wii</td>\n",
       "      <td>2008.0</td>\n",
       "      <td>Racing</td>\n",
       "      <td>Nintendo</td>\n",
       "      <td>15.85</td>\n",
       "      <td>12.88</td>\n",
       "      <td>3.79</td>\n",
       "      <td>3.31</td>\n",
       "      <td>35.82</td>\n",
       "    </tr>\n",
       "  </tbody>\n",
       "</table>\n",
       "</div>"
      ],
      "text/plain": [
       "   Rank               Name Platform    Year     Genre Publisher  NA_Sales  \\\n",
       "0     1         Wii Sports      Wii  2006.0    Sports  Nintendo     41.49   \n",
       "1     2  Super Mario Bros.      NES  1985.0  Platform  Nintendo     29.08   \n",
       "2     3     Mario Kart Wii      Wii  2008.0    Racing  Nintendo     15.85   \n",
       "\n",
       "   EU_Sales  JP_Sales  Other_Sales  Global_Sales  \n",
       "0     29.02      3.77         8.46         82.74  \n",
       "1      3.58      6.81         0.77         40.24  \n",
       "2     12.88      3.79         3.31         35.82  "
      ]
     },
     "execution_count": 2,
     "metadata": {},
     "output_type": "execute_result"
    }
   ],
   "source": [
    "game_sales[:3]"
   ]
  },
  {
   "cell_type": "markdown",
   "id": "2c06525f-5af9-4a49-8934-2468707f50c4",
   "metadata": {},
   "source": [
    "Ok, so now move through the steps we outlined in the last lesson to explore the data."
   ]
  },
  {
   "cell_type": "markdown",
   "id": "8eefcc60-0054-4ebd-b667-3b2cad80db17",
   "metadata": {},
   "source": [
    "### Resources"
   ]
  },
  {
   "cell_type": "markdown",
   "id": "b7d21282-74f7-488b-9d5b-48273e8cc9d1",
   "metadata": {},
   "source": [
    "[Supermarket Sales](https://www.kaggle.com/datasets/aungpyaeap/supermarket-sales)"
   ]
  },
  {
   "cell_type": "markdown",
   "id": "8343a3a0-329e-4385-835c-cf93f21e84a2",
   "metadata": {},
   "source": [
    "[Ecommerce Behavior](https://www.kaggle.com/datasets/mkechinov/ecommerce-behavior-data-from-multi-category-store)"
   ]
  }
 ],
 "metadata": {
  "kernelspec": {
   "display_name": "Python 3 (ipykernel)",
   "language": "python",
   "name": "python3"
  },
  "language_info": {
   "codemirror_mode": {
    "name": "ipython",
    "version": 3
   },
   "file_extension": ".py",
   "mimetype": "text/x-python",
   "name": "python",
   "nbconvert_exporter": "python",
   "pygments_lexer": "ipython3",
   "version": "3.9.12"
  }
 },
 "nbformat": 4,
 "nbformat_minor": 5
}
