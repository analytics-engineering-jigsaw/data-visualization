{
 "cells": [
  {
   "cell_type": "markdown",
   "id": "1a7032f1-d314-4f26-a5ef-3e1e4dbeac8f",
   "metadata": {},
   "source": [
    "# Vertical and Horizontal Consistency"
   ]
  },
  {
   "cell_type": "markdown",
   "id": "c2e81e26-e6e1-4c3c-b5aa-dcc8715f742a",
   "metadata": {},
   "source": [
    "### Introduction"
   ]
  },
  {
   "cell_type": "markdown",
   "id": "b34df5dd-2371-4abc-aef6-d76a40a5733a",
   "metadata": {},
   "source": [
    "In the last lesson, we introduced presenting our findings with the pyramid principal.  The first part of the pyramid principal is to start with a recommendation -- answers first.  Then we want various supporting arguments to support that recommendation.  \n",
    "\n",
    "In this lesson we'll move through structuring that supporting argument, with both vertical and horizontal consistency."
   ]
  },
  {
   "cell_type": "markdown",
   "id": "1adecbd1-d389-4f90-bd0e-c99ac646972b",
   "metadata": {
    "id": "811175a0-da57-4d63-a96b-096057a5777a"
   },
   "source": [
    "<img src=\"https://github.com/tech-interviews-jigsaw/career-services-guidebook/blob/main/pyramid-diagram.png?raw=1\" width=\"70%\">"
   ]
  },
  {
   "cell_type": "markdown",
   "id": "6896e5f6-bbd3-4166-bde4-8ce477ebf6c3",
   "metadata": {},
   "source": [
    "### Reviewing our prompt"
   ]
  },
  {
   "cell_type": "markdown",
   "id": "2f186208-6554-44c2-b301-15c18a016f3d",
   "metadata": {},
   "source": [
    "Let's bring back our prompt from before:\n",
    "\n",
    "> Over the past three years, overall sales have been flat across most segments.  However, we have seen consistent growth in the health and beauty -- especially, among women 35 - 45...\n",
    "\n",
    "We can imagine that each one of these statements can be broken into a different slide.  Now with vertical consistency, we can move into some principles behind constructing each slide."
   ]
  },
  {
   "cell_type": "markdown",
   "id": "d87a7084-77f3-44a1-8ae5-4808263e3d58",
   "metadata": {
    "id": "3db1b13a-efbd-4b47-ac68-800b9c58bf3e"
   },
   "source": [
    "### Vertical consistency\n",
    "\n",
    "Vertical consistency is the idea that for each slide, we should see that the message on the top of the slide, and the evidence below reinforce one another.  \n",
    "\n",
    "For example, with our statement that sales have remained flat, we can a slide like the one below. "
   ]
  },
  {
   "cell_type": "markdown",
   "id": "c80d6088-fe4c-464b-a69f-ef0d3394fb15",
   "metadata": {},
   "source": [
    "<img src=\"./vertical-consistency.png\" width=\"50%\">"
   ]
  },
  {
   "cell_type": "markdown",
   "id": "d3a69dd2-593c-4f49-b872-51fca8c9263e",
   "metadata": {},
   "source": [
    "Notice a couple of things about the above slide.\n",
    "\n",
    "1. The topic sentence up top is reinforced by graphs below.\n",
    "2. The topic sentence is a *conclusion*.  \n",
    "    * For example, a weak top sentence would be *Sales by department*, as it doesn't have a conclusion like *Sales has been flat* does."
   ]
  },
  {
   "cell_type": "markdown",
   "id": "9a6281e5-5408-4f03-bac6-c9475b7c0d7c",
   "metadata": {},
   "source": [
    "So vertical consistency means that each slide should have the **evidence** reinforcing the **conclusive** statement above.\n",
    "\n",
    "Vertical consistency should really apply to any of our professional communication, whether it's in the format of a slide or a paragraph.  For example, below we have vertically consistent *text*.\n",
    "\n",
    "* We have seen consistent, and significant growth in health and beauty\n",
    "    * Health and beauty has grown 12% per year, since 2021\n",
    "    * The department now consists of 25% of total revenue, up from 18% in 2021\n",
    "\n",
    "Notice that each of the bullet points supports the top line sentence.  If it didn't we should either remove the bullet point, or update the top sentence so that better encapsulated the underlying point.\n",
    "\n",
    "So again, with vertical integration, each component supports that topic sentence."
   ]
  },
  {
   "cell_type": "markdown",
   "id": "e6bdda88-41fb-41c6-820b-4a589708623c",
   "metadata": {
    "id": "9614908a-4957-42dc-8593-a356e7c9fb53"
   },
   "source": [
    "### Horizontal integration"
   ]
  },
  {
   "cell_type": "markdown",
   "id": "b9b89bf8-9a34-4795-8656-85e4beb1520d",
   "metadata": {
    "id": "722e304d-a8db-46c8-a8d5-d4a436d2fac6"
   },
   "source": [
    "By horizontal integration, we mean that each slide or paragraph flows from one to the other.  The best way to test for this is to only read the topic sentences and verify that they read sequentially.\n",
    "\n",
    "For example let's say that our presentation consists of the following two sections."
   ]
  },
  {
   "cell_type": "markdown",
   "id": "2d2ed10a-f4af-464a-bcaf-0c2bc812074f",
   "metadata": {
    "id": "197c91d7-9ff6-4065-8851-754c738d97d4"
   },
   "source": [
    "1. We have seen consistent, and significant growth in health and beauty\n",
    "    * Health and beauty has grown 12% per year, since 2021\n",
    "    * The department now consists of 25% of total revenue, up from 18% in 2021\n",
    "2. Beauty purchases of those female 35-45\n",
    "    * Consist of 40% of all female beauty purchases\n",
    "    * And has grown in 10% in 2022 and 2023"
   ]
  },
  {
   "cell_type": "markdown",
   "id": "e553220c-a539-4a6c-a36e-37468d94be4d",
   "metadata": {
    "id": "49d9b91c-6f81-423f-a86f-0ae0e258ba34"
   },
   "source": [
    "Ok, so now let's try out our horizontal integration test, by just combining the topic sentences."
   ]
  },
  {
   "cell_type": "markdown",
   "id": "5f9a8acd-cee8-44af-9106-74672bbf539e",
   "metadata": {
    "id": "7cbffcc8-50aa-48a6-944d-51b06826b08c"
   },
   "source": [
    "1. We have seen consistent, and significant growth in health and beauty\n",
    "2. Beauty purchases of those female 35-45"
   ]
  },
  {
   "cell_type": "markdown",
   "id": "867c4850-b48c-41bb-b502-ecf46469ec9b",
   "metadata": {
    "id": "f2625385-b36f-46ea-a577-d0fc6ed2c7ca"
   },
   "source": [
    "It doesn't exactly trip off the tongue does it.  Let's change it to something like the following:"
   ]
  },
  {
   "cell_type": "markdown",
   "id": "8f6cf757-52d4-4de4-9d8e-1efb46e6fe05",
   "metadata": {
    "id": "dd669aba-3f74-4fa2-9270-13131c726829"
   },
   "source": [
    "1. We have seen consistent, and significant growth in health and beauty\n",
    "2. This growth has largely been driven by females 35-45"
   ]
  },
  {
   "cell_type": "markdown",
   "id": "d13a4bf1-fdfc-4cba-a0a2-dc5e9bcdd272",
   "metadata": {
    "id": "116b1692-5b6e-434a-879d-ee7332aff898"
   },
   "source": [
    "This flows better.  And remember that each topic sentence should be supported by respective subpoints."
   ]
  },
  {
   "cell_type": "markdown",
   "id": "ddc8c84b-2d9b-4013-b1a0-988e28577b39",
   "metadata": {
    "id": "907c721b-3b54-4a0e-b775-8fc181215d85"
   },
   "source": [
    "### Expanding the pyramid"
   ]
  },
  {
   "cell_type": "markdown",
   "id": "db49c6c5-0ab4-4712-bb2a-48d1e375597b",
   "metadata": {
    "id": "b0add251-07f6-4721-a7a4-89a3fe9b554d"
   },
   "source": [
    "For many presentations the pyramid will have to be expanded.\n",
    "\n",
    "For example, instead of three slides it may be three sections -- one for each argument -- with each section consisting of a different argument, and each argument having 1 - 3 subpoints.  "
   ]
  },
  {
   "cell_type": "markdown",
   "id": "869394d8-23a0-45e3-b7a1-5fa412944071",
   "metadata": {
    "id": "2872ab4e-2ea3-475a-90f4-1dbe240d25fb"
   },
   "source": [
    "<img src=\"https://github.com/tech-interviews-jigsaw/career-services-guidebook/blob/main/expanded-pyramid.png?raw=1\" width=\"100%\">"
   ]
  },
  {
   "cell_type": "markdown",
   "id": "14151101-9548-4827-831d-179754e5c6cb",
   "metadata": {
    "id": "93388f6e-cef4-4ce9-bada-7047cde0bfac"
   },
   "source": [
    "Notice that at each level, we keep our horizontal and vertical integration -- that is what's most important."
   ]
  },
  {
   "cell_type": "markdown",
   "id": "8c03e89c-d4db-4520-95df-be503499a99a",
   "metadata": {
    "id": "5b425eb6-5ebb-4413-aaed-dc66f76ae7c8"
   },
   "source": [
    "### Always in groups of three?"
   ]
  },
  {
   "cell_type": "markdown",
   "id": "4c9bcf0f-9a32-4650-9535-9b8d0445a82f",
   "metadata": {
    "id": "a6aed5a4-f51b-4571-8c5c-8f835b220711"
   },
   "source": [
    "It seems that we really like the number three.  For example, above we have three sections, with three supporting arguments, each supported by three points.  Is that always necessary.  Here are some good rules of thumb:\n",
    "\n",
    "* Only have 1 - 4 subpoints in a slide/paragraph.\n",
    "* The number of slides/paragraphs for each section can be lengthier, but 5 to 7 is plenty\n",
    "* If it does not support the overall point, or does not move the dial, leave it out.\n",
    "\n",
    "Overall, we can think of our reports like our code.  We want each component concise and clear.  And just like we want to keep a function to five lines, we can keep a slide to a few bullet points.  And remember that everything in the slide is there to support the topic sentence."
   ]
  },
  {
   "cell_type": "markdown",
   "id": "53b4b972-dbc8-4941-8804-6dc3b9e3b4a4",
   "metadata": {
    "id": "7e9024d9-7f03-46e8-8f3a-fed8168e1c33"
   },
   "source": [
    "### Summary\n",
    "\n",
    "In this lesson, we learned components of the pyramid principle.  The most important part is to enforce both vertical and horizontal integration.  Additionally, our principles that we described in the previous section still apply.  This means that we can take advantage of problem-solution technique, and providing answers first -- which we do with our topic sentences on each slide, or providing our overall conclusion in one of the first slides of our presentation."
   ]
  },
  {
   "cell_type": "markdown",
   "id": "a383367c-2520-4720-aa8e-53fbba5aee4e",
   "metadata": {},
   "source": [
    "### Resources\n",
    "\n",
    "[kaggle](https://www.kaggle.com/competitions/competitive-data-science-predict-future-sales)"
   ]
  }
 ],
 "metadata": {
  "kernelspec": {
   "display_name": "Python 3 (ipykernel)",
   "language": "python",
   "name": "python3"
  },
  "language_info": {
   "codemirror_mode": {
    "name": "ipython",
    "version": 3
   },
   "file_extension": ".py",
   "mimetype": "text/x-python",
   "name": "python",
   "nbconvert_exporter": "python",
   "pygments_lexer": "ipython3",
   "version": "3.9.12"
  }
 },
 "nbformat": 4,
 "nbformat_minor": 5
}
