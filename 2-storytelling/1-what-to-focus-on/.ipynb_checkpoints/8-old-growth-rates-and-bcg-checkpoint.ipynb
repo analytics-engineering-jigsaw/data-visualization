{
 "cells": [
  {
   "cell_type": "markdown",
   "id": "5477957c-55f1-4d9d-b139-430f2964fe8c",
   "metadata": {},
   "source": [
    "# Growth Rates and BCG Charts"
   ]
  },
  {
   "cell_type": "markdown",
   "id": "7f631fa4-4a52-4e80-a670-c9d5b6f2739c",
   "metadata": {},
   "source": [
    "### Introduction"
   ]
  },
  {
   "cell_type": "markdown",
   "id": "0f3fe61d-5542-4181-a379-e7131aa16df1",
   "metadata": {},
   "source": [
    "In this lesson, we'll see another way to get an overview of our data, which is to look at growth rates of our data."
   ]
  },
  {
   "cell_type": "markdown",
   "id": "5ef5b934-45fc-4a1e-b494-0773450f2739",
   "metadata": {},
   "source": [
    "### Loading our Data"
   ]
  },
  {
   "cell_type": "markdown",
   "id": "733284df-d9fc-416d-b55d-01a61c4994d5",
   "metadata": {},
   "source": [
    "We can begin by loading our data which will come from the [video game sales data](https://www.kaggle.com/datasets/gregorut/videogamesales)."
   ]
  },
  {
   "cell_type": "code",
   "execution_count": 1,
   "id": "a904b860-ba3f-402d-b08d-11dbeee241a7",
   "metadata": {},
   "outputs": [],
   "source": [
    "import pandas as pd\n",
    "url = \"https://raw.githubusercontent.com/analytics-engineering-jigsaw/data-visualization/main/2-storytelling/1-what-to-focus-on/vgsales.csv\"\n",
    "game_sales = pd.read_csv(url)"
   ]
  },
  {
   "cell_type": "code",
   "execution_count": 7,
   "id": "d10b3a07-ec89-4b6f-982b-bf35727628c8",
   "metadata": {},
   "outputs": [
    {
     "data": {
      "text/html": [
       "<div>\n",
       "<style scoped>\n",
       "    .dataframe tbody tr th:only-of-type {\n",
       "        vertical-align: middle;\n",
       "    }\n",
       "\n",
       "    .dataframe tbody tr th {\n",
       "        vertical-align: top;\n",
       "    }\n",
       "\n",
       "    .dataframe thead th {\n",
       "        text-align: right;\n",
       "    }\n",
       "</style>\n",
       "<table border=\"1\" class=\"dataframe\">\n",
       "  <thead>\n",
       "    <tr style=\"text-align: right;\">\n",
       "      <th></th>\n",
       "      <th>Rank</th>\n",
       "      <th>Name</th>\n",
       "      <th>Platform</th>\n",
       "      <th>Year</th>\n",
       "      <th>Genre</th>\n",
       "      <th>Publisher</th>\n",
       "      <th>NA_Sales</th>\n",
       "      <th>EU_Sales</th>\n",
       "      <th>JP_Sales</th>\n",
       "      <th>Other_Sales</th>\n",
       "      <th>Global_Sales</th>\n",
       "    </tr>\n",
       "  </thead>\n",
       "  <tbody>\n",
       "    <tr>\n",
       "      <th>0</th>\n",
       "      <td>1</td>\n",
       "      <td>Wii Sports</td>\n",
       "      <td>Wii</td>\n",
       "      <td>2006.0</td>\n",
       "      <td>Sports</td>\n",
       "      <td>Nintendo</td>\n",
       "      <td>41.49</td>\n",
       "      <td>29.02</td>\n",
       "      <td>3.77</td>\n",
       "      <td>8.46</td>\n",
       "      <td>82.74</td>\n",
       "    </tr>\n",
       "    <tr>\n",
       "      <th>1</th>\n",
       "      <td>2</td>\n",
       "      <td>Super Mario Bros.</td>\n",
       "      <td>NES</td>\n",
       "      <td>1985.0</td>\n",
       "      <td>Platform</td>\n",
       "      <td>Nintendo</td>\n",
       "      <td>29.08</td>\n",
       "      <td>3.58</td>\n",
       "      <td>6.81</td>\n",
       "      <td>0.77</td>\n",
       "      <td>40.24</td>\n",
       "    </tr>\n",
       "    <tr>\n",
       "      <th>2</th>\n",
       "      <td>3</td>\n",
       "      <td>Mario Kart Wii</td>\n",
       "      <td>Wii</td>\n",
       "      <td>2008.0</td>\n",
       "      <td>Racing</td>\n",
       "      <td>Nintendo</td>\n",
       "      <td>15.85</td>\n",
       "      <td>12.88</td>\n",
       "      <td>3.79</td>\n",
       "      <td>3.31</td>\n",
       "      <td>35.82</td>\n",
       "    </tr>\n",
       "  </tbody>\n",
       "</table>\n",
       "</div>"
      ],
      "text/plain": [
       "   Rank               Name Platform    Year     Genre Publisher  NA_Sales  \\\n",
       "0     1         Wii Sports      Wii  2006.0    Sports  Nintendo     41.49   \n",
       "1     2  Super Mario Bros.      NES  1985.0  Platform  Nintendo     29.08   \n",
       "2     3     Mario Kart Wii      Wii  2008.0    Racing  Nintendo     15.85   \n",
       "\n",
       "   EU_Sales  JP_Sales  Other_Sales  Global_Sales  \n",
       "0     29.02      3.77         8.46         82.74  \n",
       "1      3.58      6.81         0.77         40.24  \n",
       "2     12.88      3.79         3.31         35.82  "
      ]
     },
     "execution_count": 7,
     "metadata": {},
     "output_type": "execute_result"
    }
   ],
   "source": [
    "game_sales[:3]"
   ]
  },
  {
   "cell_type": "markdown",
   "id": "87326058-6da9-4899-a6da-a3b63d4cfec5",
   "metadata": {},
   "source": [
    "And then, we'll go back to selecting just our more recent data, where we have a significant number of datapoints.  Generally *significant* is more than 100 rows od data."
   ]
  },
  {
   "cell_type": "code",
   "execution_count": 8,
   "id": "a1126742-c423-475c-b709-be2fb0f65d19",
   "metadata": {},
   "outputs": [],
   "source": [
    "selected_df = game_sales[(game_sales['Year'] < 2017) & (game_sales['Year'] > 2011)]"
   ]
  },
  {
   "cell_type": "markdown",
   "id": "f80263d8-81fc-469f-b27b-3d269e7826b8",
   "metadata": {},
   "source": [
    "And we decided that `Global_sales` would be our initial target."
   ]
  },
  {
   "cell_type": "markdown",
   "id": "dd97512c-a412-41a0-81b3-6e262a42af61",
   "metadata": {},
   "source": [
    "### Looking at raw numbers"
   ]
  },
  {
   "cell_type": "markdown",
   "id": "0234dd63-703f-42fa-b85e-069e3194a244",
   "metadata": {},
   "source": [
    "So previously, we got an overview of our data by looking at raw numbers.  And we did so simply by grouping our data by different categories, and plotting."
   ]
  },
  {
   "cell_type": "code",
   "execution_count": 9,
   "id": "28102f6e-9c42-4f92-99ca-97a01cdbb88c",
   "metadata": {},
   "outputs": [
    {
     "data": {
      "image/png": "[encoded data removed]",
      "text/plain": [
       "<Figure size 1400x200 with 1 Axes>"
      ]
     },
     "metadata": {},
     "output_type": "display_data"
    },
    {
     "data": {
      "image/png": "[encoded data removed]",
      "text/plain": [
       "<Figure size 1400x200 with 1 Axes>"
      ]
     },
     "metadata": {},
     "output_type": "display_data"
    },
    {
     "data": {
      "image/png": "[encoded data removed]",
      "text/plain": [
       "<Figure size 1400x200 with 1 Axes>"
      ]
     },
     "metadata": {},
     "output_type": "display_data"
    },
    {
     "data": {
      "image/png": "[encoded data removed]",
      "text/plain": [
       "<Figure size 1400x200 with 1 Axes>"
      ]
     },
     "metadata": {},
     "output_type": "display_data"
    },
    {
     "data": {
      "image/png": "[encoded data removed]",
      "text/plain": [
       "<Figure size 1400x200 with 1 Axes>"
      ]
     },
     "metadata": {},
     "output_type": "display_data"
    }
   ],
   "source": [
    "from item_lib import *\n",
    "\n",
    "cols = ['Name', 'Platform', 'Year', 'Genre', 'Publisher']\n",
    "target = 'Global_Sales'\n",
    "agg_name = 'percentage total sales'\n",
    "\n",
    "results = build_and_print(selected_df, cols, target, agg = 'sum', agg_name = agg_name, y_range=[0, .4])"
   ]
  },
  {
   "cell_type": "markdown",
   "id": "3c42990d-e4b0-4f33-b505-67f51e14a61a",
   "metadata": {},
   "source": [
    "And from there, we dug deeper by (1) breaking our data down across multiple categories and (2) just selecting action and shooter games and viewing then plotting a breakdown of them.  "
   ]
  },
  {
   "cell_type": "markdown",
   "id": "1cdd10d1-3acd-4643-a018-fa6294d07792",
   "metadata": {},
   "source": [
    "### Back to our overview - Comparing Growth Rates"
   ]
  },
  {
   "cell_type": "markdown",
   "id": "9e75d6ba-7d5d-485e-884c-62f8e9c1add2",
   "metadata": {},
   "source": [
    "So we focused on action and shooter games because they dominated sales.  But we may also want to see what's coming, and that means looking at growth rates.  To look at growth rates, we'll need repeated information over years.\n",
    "\n",
    "For example, if we had sales of the *same* video game over different years, we could calculate the growth rate in sales of that game.  But we don't have that.  Instead, we have total sales since the year the game was released.  "
   ]
  },
  {
   "cell_type": "code",
   "execution_count": 10,
   "id": "73b5b8a7-35c4-4e1a-944a-33909078943b",
   "metadata": {},
   "outputs": [
    {
     "data": {
      "text/html": [
       "<div>\n",
       "<style scoped>\n",
       "    .dataframe tbody tr th:only-of-type {\n",
       "        vertical-align: middle;\n",
       "    }\n",
       "\n",
       "    .dataframe tbody tr th {\n",
       "        vertical-align: top;\n",
       "    }\n",
       "\n",
       "    .dataframe thead th {\n",
       "        text-align: right;\n",
       "    }\n",
       "</style>\n",
       "<table border=\"1\" class=\"dataframe\">\n",
       "  <thead>\n",
       "    <tr style=\"text-align: right;\">\n",
       "      <th></th>\n",
       "      <th>Rank</th>\n",
       "      <th>Name</th>\n",
       "      <th>Platform</th>\n",
       "      <th>Year</th>\n",
       "      <th>Genre</th>\n",
       "      <th>Publisher</th>\n",
       "      <th>NA_Sales</th>\n",
       "      <th>EU_Sales</th>\n",
       "      <th>JP_Sales</th>\n",
       "      <th>Other_Sales</th>\n",
       "      <th>Global_Sales</th>\n",
       "    </tr>\n",
       "  </thead>\n",
       "  <tbody>\n",
       "    <tr>\n",
       "      <th>16</th>\n",
       "      <td>17</td>\n",
       "      <td>Grand Theft Auto V</td>\n",
       "      <td>PS3</td>\n",
       "      <td>2013.0</td>\n",
       "      <td>Action</td>\n",
       "      <td>Take-Two Interactive</td>\n",
       "      <td>7.01</td>\n",
       "      <td>9.27</td>\n",
       "      <td>0.97</td>\n",
       "      <td>4.14</td>\n",
       "      <td>21.40</td>\n",
       "    </tr>\n",
       "    <tr>\n",
       "      <th>23</th>\n",
       "      <td>24</td>\n",
       "      <td>Grand Theft Auto V</td>\n",
       "      <td>X360</td>\n",
       "      <td>2013.0</td>\n",
       "      <td>Action</td>\n",
       "      <td>Take-Two Interactive</td>\n",
       "      <td>9.63</td>\n",
       "      <td>5.31</td>\n",
       "      <td>0.06</td>\n",
       "      <td>1.38</td>\n",
       "      <td>16.38</td>\n",
       "    </tr>\n",
       "    <tr>\n",
       "      <th>32</th>\n",
       "      <td>33</td>\n",
       "      <td>Pokemon X/Pokemon Y</td>\n",
       "      <td>3DS</td>\n",
       "      <td>2013.0</td>\n",
       "      <td>Role-Playing</td>\n",
       "      <td>Nintendo</td>\n",
       "      <td>5.17</td>\n",
       "      <td>4.05</td>\n",
       "      <td>4.34</td>\n",
       "      <td>0.79</td>\n",
       "      <td>14.35</td>\n",
       "    </tr>\n",
       "  </tbody>\n",
       "</table>\n",
       "</div>"
      ],
      "text/plain": [
       "    Rank                 Name Platform    Year         Genre  \\\n",
       "16    17   Grand Theft Auto V      PS3  2013.0        Action   \n",
       "23    24   Grand Theft Auto V     X360  2013.0        Action   \n",
       "32    33  Pokemon X/Pokemon Y      3DS  2013.0  Role-Playing   \n",
       "\n",
       "               Publisher  NA_Sales  EU_Sales  JP_Sales  Other_Sales  \\\n",
       "16  Take-Two Interactive      7.01      9.27      0.97         4.14   \n",
       "23  Take-Two Interactive      9.63      5.31      0.06         1.38   \n",
       "32              Nintendo      5.17      4.05      4.34         0.79   \n",
       "\n",
       "    Global_Sales  \n",
       "16         21.40  \n",
       "23         16.38  \n",
       "32         14.35  "
      ]
     },
     "execution_count": 10,
     "metadata": {},
     "output_type": "execute_result"
    }
   ],
   "source": [
    "selected_df[:3]"
   ]
  },
  {
   "cell_type": "markdown",
   "id": "57a78044-1e8a-4c81-95db-ff2df1d6a38d",
   "metadata": {},
   "source": [
    "So to get repeated information, we can look at the growth of different genres over years (of release).  And we can do this by grouping by the genre and year."
   ]
  },
  {
   "cell_type": "code",
   "execution_count": 11,
   "id": "ecb7e937-cd9f-4875-8ef9-86a6464acd4a",
   "metadata": {},
   "outputs": [
    {
     "data": {
      "text/html": [
       "<div>\n",
       "<style scoped>\n",
       "    .dataframe tbody tr th:only-of-type {\n",
       "        vertical-align: middle;\n",
       "    }\n",
       "\n",
       "    .dataframe tbody tr th {\n",
       "        vertical-align: top;\n",
       "    }\n",
       "\n",
       "    .dataframe thead th {\n",
       "        text-align: right;\n",
       "    }\n",
       "</style>\n",
       "<table border=\"1\" class=\"dataframe\">\n",
       "  <thead>\n",
       "    <tr style=\"text-align: right;\">\n",
       "      <th></th>\n",
       "      <th></th>\n",
       "      <th>sum</th>\n",
       "    </tr>\n",
       "    <tr>\n",
       "      <th>Genre</th>\n",
       "      <th>Year</th>\n",
       "      <th></th>\n",
       "    </tr>\n",
       "  </thead>\n",
       "  <tbody>\n",
       "    <tr>\n",
       "      <th rowspan=\"5\" valign=\"top\">Action</th>\n",
       "      <th>2012.0</th>\n",
       "      <td>122.04</td>\n",
       "    </tr>\n",
       "    <tr>\n",
       "      <th>2013.0</th>\n",
       "      <td>125.22</td>\n",
       "    </tr>\n",
       "    <tr>\n",
       "      <th>2014.0</th>\n",
       "      <td>99.02</td>\n",
       "    </tr>\n",
       "    <tr>\n",
       "      <th>2015.0</th>\n",
       "      <td>70.70</td>\n",
       "    </tr>\n",
       "    <tr>\n",
       "      <th>2016.0</th>\n",
       "      <td>19.91</td>\n",
       "    </tr>\n",
       "    <tr>\n",
       "      <th rowspan=\"5\" valign=\"top\">Adventure</th>\n",
       "      <th>2012.0</th>\n",
       "      <td>5.99</td>\n",
       "    </tr>\n",
       "    <tr>\n",
       "      <th>2013.0</th>\n",
       "      <td>6.61</td>\n",
       "    </tr>\n",
       "    <tr>\n",
       "      <th>2014.0</th>\n",
       "      <td>6.06</td>\n",
       "    </tr>\n",
       "    <tr>\n",
       "      <th>2015.0</th>\n",
       "      <td>8.03</td>\n",
       "    </tr>\n",
       "    <tr>\n",
       "      <th>2016.0</th>\n",
       "      <td>1.81</td>\n",
       "    </tr>\n",
       "  </tbody>\n",
       "</table>\n",
       "</div>"
      ],
      "text/plain": [
       "                     sum\n",
       "Genre     Year          \n",
       "Action    2012.0  122.04\n",
       "          2013.0  125.22\n",
       "          2014.0   99.02\n",
       "          2015.0   70.70\n",
       "          2016.0   19.91\n",
       "Adventure 2012.0    5.99\n",
       "          2013.0    6.61\n",
       "          2014.0    6.06\n",
       "          2015.0    8.03\n",
       "          2016.0    1.81"
      ]
     },
     "execution_count": 11,
     "metadata": {},
     "output_type": "execute_result"
    }
   ],
   "source": [
    "target = 'Global_Sales'\n",
    "agg_name = 'percentage total sales'\n",
    "cols = ['Genre', 'Year']\n",
    "\n",
    "grouped_data = selected_df.groupby(cols)[target].agg(['sum'])\n",
    "grouped_data[:10]"
   ]
  },
  {
   "cell_type": "markdown",
   "id": "2f9c0a8d-8fcd-49be-b804-20683e2b684e",
   "metadata": {},
   "source": [
    "And now we can look at change from year to year, by using the `pct_change` function."
   ]
  },
  {
   "cell_type": "code",
   "execution_count": 12,
   "id": "52493e9e-b013-48e6-bbd8-bcfbe4042ef7",
   "metadata": {},
   "outputs": [
    {
     "data": {
      "text/html": [
       "<div>\n",
       "<style scoped>\n",
       "    .dataframe tbody tr th:only-of-type {\n",
       "        vertical-align: middle;\n",
       "    }\n",
       "\n",
       "    .dataframe tbody tr th {\n",
       "        vertical-align: top;\n",
       "    }\n",
       "\n",
       "    .dataframe thead th {\n",
       "        text-align: right;\n",
       "    }\n",
       "</style>\n",
       "<table border=\"1\" class=\"dataframe\">\n",
       "  <thead>\n",
       "    <tr style=\"text-align: right;\">\n",
       "      <th></th>\n",
       "      <th></th>\n",
       "      <th>sum</th>\n",
       "    </tr>\n",
       "    <tr>\n",
       "      <th>Genre</th>\n",
       "      <th>Year</th>\n",
       "      <th></th>\n",
       "    </tr>\n",
       "  </thead>\n",
       "  <tbody>\n",
       "    <tr>\n",
       "      <th rowspan=\"5\" valign=\"top\">Action</th>\n",
       "      <th>2012.0</th>\n",
       "      <td>NaN</td>\n",
       "    </tr>\n",
       "    <tr>\n",
       "      <th>2013.0</th>\n",
       "      <td>0.026057</td>\n",
       "    </tr>\n",
       "    <tr>\n",
       "      <th>2014.0</th>\n",
       "      <td>-0.209232</td>\n",
       "    </tr>\n",
       "    <tr>\n",
       "      <th>2015.0</th>\n",
       "      <td>-0.286003</td>\n",
       "    </tr>\n",
       "    <tr>\n",
       "      <th>2016.0</th>\n",
       "      <td>-0.718388</td>\n",
       "    </tr>\n",
       "    <tr>\n",
       "      <th rowspan=\"5\" valign=\"top\">Adventure</th>\n",
       "      <th>2012.0</th>\n",
       "      <td>-0.699146</td>\n",
       "    </tr>\n",
       "    <tr>\n",
       "      <th>2013.0</th>\n",
       "      <td>0.103506</td>\n",
       "    </tr>\n",
       "    <tr>\n",
       "      <th>2014.0</th>\n",
       "      <td>-0.083207</td>\n",
       "    </tr>\n",
       "    <tr>\n",
       "      <th>2015.0</th>\n",
       "      <td>0.325083</td>\n",
       "    </tr>\n",
       "    <tr>\n",
       "      <th>2016.0</th>\n",
       "      <td>-0.774595</td>\n",
       "    </tr>\n",
       "  </tbody>\n",
       "</table>\n",
       "</div>"
      ],
      "text/plain": [
       "                       sum\n",
       "Genre     Year            \n",
       "Action    2012.0       NaN\n",
       "          2013.0  0.026057\n",
       "          2014.0 -0.209232\n",
       "          2015.0 -0.286003\n",
       "          2016.0 -0.718388\n",
       "Adventure 2012.0 -0.699146\n",
       "          2013.0  0.103506\n",
       "          2014.0 -0.083207\n",
       "          2015.0  0.325083\n",
       "          2016.0 -0.774595"
      ]
     },
     "execution_count": 12,
     "metadata": {},
     "output_type": "execute_result"
    }
   ],
   "source": [
    "data_pct_change = grouped_data.pct_change()\n",
    "data_pct_change[:10]"
   ]
  },
  {
   "cell_type": "markdown",
   "id": "d7821a37-b19f-4d9b-84ce-c50c44599c1b",
   "metadata": {},
   "source": [
    "The `pct_change` function just compares the percent change from the previous row.  If we want to see the growth rate over a couple of years, we can ask it to compare against two rows back."
   ]
  },
  {
   "cell_type": "code",
   "execution_count": 43,
   "id": "eb225166-001e-4eaa-80f2-0fd4585b539c",
   "metadata": {},
   "outputs": [
    {
     "data": {
      "text/html": [
       "<div>\n",
       "<style scoped>\n",
       "    .dataframe tbody tr th:only-of-type {\n",
       "        vertical-align: middle;\n",
       "    }\n",
       "\n",
       "    .dataframe tbody tr th {\n",
       "        vertical-align: top;\n",
       "    }\n",
       "\n",
       "    .dataframe thead th {\n",
       "        text-align: right;\n",
       "    }\n",
       "</style>\n",
       "<table border=\"1\" class=\"dataframe\">\n",
       "  <thead>\n",
       "    <tr style=\"text-align: right;\">\n",
       "      <th></th>\n",
       "      <th></th>\n",
       "      <th>sum</th>\n",
       "    </tr>\n",
       "    <tr>\n",
       "      <th>Genre</th>\n",
       "      <th>Year</th>\n",
       "      <th></th>\n",
       "    </tr>\n",
       "  </thead>\n",
       "  <tbody>\n",
       "    <tr>\n",
       "      <th rowspan=\"5\" valign=\"top\">Action</th>\n",
       "      <th>2012.0</th>\n",
       "      <td>NaN</td>\n",
       "    </tr>\n",
       "    <tr>\n",
       "      <th>2013.0</th>\n",
       "      <td>NaN</td>\n",
       "    </tr>\n",
       "    <tr>\n",
       "      <th>2014.0</th>\n",
       "      <td>-0.188627</td>\n",
       "    </tr>\n",
       "    <tr>\n",
       "      <th>2015.0</th>\n",
       "      <td>-0.435394</td>\n",
       "    </tr>\n",
       "    <tr>\n",
       "      <th>2016.0</th>\n",
       "      <td>-0.798930</td>\n",
       "    </tr>\n",
       "    <tr>\n",
       "      <th rowspan=\"5\" valign=\"top\">Adventure</th>\n",
       "      <th>2012.0</th>\n",
       "      <td>-0.915276</td>\n",
       "    </tr>\n",
       "    <tr>\n",
       "      <th>2013.0</th>\n",
       "      <td>-0.668006</td>\n",
       "    </tr>\n",
       "    <tr>\n",
       "      <th>2014.0</th>\n",
       "      <td>0.011686</td>\n",
       "    </tr>\n",
       "    <tr>\n",
       "      <th>2015.0</th>\n",
       "      <td>0.214826</td>\n",
       "    </tr>\n",
       "    <tr>\n",
       "      <th>2016.0</th>\n",
       "      <td>-0.701320</td>\n",
       "    </tr>\n",
       "  </tbody>\n",
       "</table>\n",
       "</div>"
      ],
      "text/plain": [
       "                       sum\n",
       "Genre     Year            \n",
       "Action    2012.0       NaN\n",
       "          2013.0       NaN\n",
       "          2014.0 -0.188627\n",
       "          2015.0 -0.435394\n",
       "          2016.0 -0.798930\n",
       "Adventure 2012.0 -0.915276\n",
       "          2013.0 -0.668006\n",
       "          2014.0  0.011686\n",
       "          2015.0  0.214826\n",
       "          2016.0 -0.701320"
      ]
     },
     "execution_count": 43,
     "metadata": {},
     "output_type": "execute_result"
    }
   ],
   "source": [
    "data_pct_change_over_two_years = selected_df.groupby(cols)[target].agg(['sum']).pct_change(periods = 2)\n",
    "data_pct_change_over_two_years[:10]"
   ]
  },
  {
   "cell_type": "markdown",
   "id": "dc00d6c1-1af8-4556-988b-d2338bba8c98",
   "metadata": {},
   "source": [
    "> So above, we are comparing 2014 vs 2012."
   ]
  },
  {
   "cell_type": "markdown",
   "id": "9b0c82fa-1ea9-4c07-b7e4-cfde1ab6958b",
   "metadata": {},
   "source": [
    "But one issue is that looking at the data above -- *Adventure* 2012 will be compared against *Action* 2015.\n",
    "\n",
    "So we can just select a middle year so that we are always comparing the growth rate within the same genre.\n",
    "\n",
    "> Below we select the growth rate of 2014 vs 2012."
   ]
  },
  {
   "cell_type": "code",
   "execution_count": 30,
   "id": "0238d65a-2a49-4d1e-adb1-dd8af118b6d1",
   "metadata": {},
   "outputs": [
    {
     "data": {
      "text/html": [
       "<div>\n",
       "<style scoped>\n",
       "    .dataframe tbody tr th:only-of-type {\n",
       "        vertical-align: middle;\n",
       "    }\n",
       "\n",
       "    .dataframe tbody tr th {\n",
       "        vertical-align: top;\n",
       "    }\n",
       "\n",
       "    .dataframe thead th {\n",
       "        text-align: right;\n",
       "    }\n",
       "</style>\n",
       "<table border=\"1\" class=\"dataframe\">\n",
       "  <thead>\n",
       "    <tr style=\"text-align: right;\">\n",
       "      <th></th>\n",
       "      <th></th>\n",
       "      <th>sum</th>\n",
       "    </tr>\n",
       "    <tr>\n",
       "      <th>Genre</th>\n",
       "      <th>Year</th>\n",
       "      <th></th>\n",
       "    </tr>\n",
       "  </thead>\n",
       "  <tbody>\n",
       "    <tr>\n",
       "      <th>Action</th>\n",
       "      <th>2014.0</th>\n",
       "      <td>-0.209232</td>\n",
       "    </tr>\n",
       "    <tr>\n",
       "      <th>Adventure</th>\n",
       "      <th>2014.0</th>\n",
       "      <td>-0.083207</td>\n",
       "    </tr>\n",
       "    <tr>\n",
       "      <th>Fighting</th>\n",
       "      <th>2014.0</th>\n",
       "      <td>1.239945</td>\n",
       "    </tr>\n",
       "  </tbody>\n",
       "</table>\n",
       "</div>"
      ],
      "text/plain": [
       "                       sum\n",
       "Genre     Year            \n",
       "Action    2014.0 -0.209232\n",
       "Adventure 2014.0 -0.083207\n",
       "Fighting  2014.0  1.239945"
      ]
     },
     "execution_count": 30,
     "metadata": {},
     "output_type": "execute_result"
    }
   ],
   "source": [
    "filtered_data = data_pct_change.loc[pd.IndexSlice[:, 2014], :]\n",
    "filtered_data[:3]"
   ]
  },
  {
   "cell_type": "markdown",
   "id": "40850fa4-65dd-4d31-8d89-6d40c0a53b21",
   "metadata": {},
   "source": [
    "And then we can sort by that growth rate."
   ]
  },
  {
   "cell_type": "code",
   "execution_count": 31,
   "id": "ab3a08e0-f7ca-4a0c-b923-ee4e5f5e102a",
   "metadata": {},
   "outputs": [
    {
     "data": {
      "text/html": [
       "<div>\n",
       "<style scoped>\n",
       "    .dataframe tbody tr th:only-of-type {\n",
       "        vertical-align: middle;\n",
       "    }\n",
       "\n",
       "    .dataframe tbody tr th {\n",
       "        vertical-align: top;\n",
       "    }\n",
       "\n",
       "    .dataframe thead th {\n",
       "        text-align: right;\n",
       "    }\n",
       "</style>\n",
       "<table border=\"1\" class=\"dataframe\">\n",
       "  <thead>\n",
       "    <tr style=\"text-align: right;\">\n",
       "      <th></th>\n",
       "      <th></th>\n",
       "      <th>pct_change_sales</th>\n",
       "    </tr>\n",
       "    <tr>\n",
       "      <th>Genre</th>\n",
       "      <th>Year</th>\n",
       "      <th></th>\n",
       "    </tr>\n",
       "  </thead>\n",
       "  <tbody>\n",
       "    <tr>\n",
       "      <th>Fighting</th>\n",
       "      <th>2014.0</th>\n",
       "      <td>1.239945</td>\n",
       "    </tr>\n",
       "    <tr>\n",
       "      <th>Puzzle</th>\n",
       "      <th>2014.0</th>\n",
       "      <td>0.515152</td>\n",
       "    </tr>\n",
       "    <tr>\n",
       "      <th>Racing</th>\n",
       "      <th>2014.0</th>\n",
       "      <td>0.279908</td>\n",
       "    </tr>\n",
       "    <tr>\n",
       "      <th>Sports</th>\n",
       "      <th>2014.0</th>\n",
       "      <td>0.122984</td>\n",
       "    </tr>\n",
       "    <tr>\n",
       "      <th>Shooter</th>\n",
       "      <th>2014.0</th>\n",
       "      <td>0.050955</td>\n",
       "    </tr>\n",
       "    <tr>\n",
       "      <th>Role-Playing</th>\n",
       "      <th>2014.0</th>\n",
       "      <td>0.020926</td>\n",
       "    </tr>\n",
       "    <tr>\n",
       "      <th>Misc</th>\n",
       "      <th>2014.0</th>\n",
       "      <td>-0.076803</td>\n",
       "    </tr>\n",
       "    <tr>\n",
       "      <th>Adventure</th>\n",
       "      <th>2014.0</th>\n",
       "      <td>-0.083207</td>\n",
       "    </tr>\n",
       "    <tr>\n",
       "      <th>Action</th>\n",
       "      <th>2014.0</th>\n",
       "      <td>-0.209232</td>\n",
       "    </tr>\n",
       "    <tr>\n",
       "      <th>Simulation</th>\n",
       "      <th>2014.0</th>\n",
       "      <td>-0.359862</td>\n",
       "    </tr>\n",
       "    <tr>\n",
       "      <th>Platform</th>\n",
       "      <th>2014.0</th>\n",
       "      <td>-0.646099</td>\n",
       "    </tr>\n",
       "    <tr>\n",
       "      <th>Strategy</th>\n",
       "      <th>2014.0</th>\n",
       "      <td>-0.843602</td>\n",
       "    </tr>\n",
       "  </tbody>\n",
       "</table>\n",
       "</div>"
      ],
      "text/plain": [
       "                     pct_change_sales\n",
       "Genre        Year                    \n",
       "Fighting     2014.0          1.239945\n",
       "Puzzle       2014.0          0.515152\n",
       "Racing       2014.0          0.279908\n",
       "Sports       2014.0          0.122984\n",
       "Shooter      2014.0          0.050955\n",
       "Role-Playing 2014.0          0.020926\n",
       "Misc         2014.0         -0.076803\n",
       "Adventure    2014.0         -0.083207\n",
       "Action       2014.0         -0.209232\n",
       "Simulation   2014.0         -0.359862\n",
       "Platform     2014.0         -0.646099\n",
       "Strategy     2014.0         -0.843602"
      ]
     },
     "execution_count": 31,
     "metadata": {},
     "output_type": "execute_result"
    }
   ],
   "source": [
    "pct_change_df = filtered_data.sort_values('sum', ascending = False).rename(columns = {'sum': 'pct_change_sales'})\n",
    "pct_change_df"
   ]
  },
  {
   "cell_type": "markdown",
   "id": "d44d0bc5-baee-4993-89c7-bafb73bbe0d1",
   "metadata": {},
   "source": [
    "So this is pretty interesting -- fighting games games grew a lot, as did puzzle and racing games."
   ]
  },
  {
   "cell_type": "markdown",
   "id": "9fea48dd-9e6c-4e6e-88dc-e6de44c82e52",
   "metadata": {},
   "source": [
    "### Building a BCG Chart"
   ]
  },
  {
   "cell_type": "markdown",
   "id": "81a7f8b9-8ea0-48d1-b4f0-62087ab90886",
   "metadata": {},
   "source": [
    "A BCG chart is a pretty classic chart in the world of data analytics.  The idea is that we want to look at both the current performance, as well as the growth rate.\n",
    "\n",
    "If a genre has large amount of sales, and a high growth rate, they are a star.  And if they have high growth but low current sales, they may be a star in the future.\n",
    "\n",
    "So above we have the growth rate for 2014, now let's just get sales by genre for 2014."
   ]
  },
  {
   "cell_type": "code",
   "execution_count": 32,
   "id": "38f818cb-5637-44ad-83b9-3aea8c17a190",
   "metadata": {},
   "outputs": [
    {
     "data": {
      "text/html": [
       "<div>\n",
       "<style scoped>\n",
       "    .dataframe tbody tr th:only-of-type {\n",
       "        vertical-align: middle;\n",
       "    }\n",
       "\n",
       "    .dataframe tbody tr th {\n",
       "        vertical-align: top;\n",
       "    }\n",
       "\n",
       "    .dataframe thead th {\n",
       "        text-align: right;\n",
       "    }\n",
       "</style>\n",
       "<table border=\"1\" class=\"dataframe\">\n",
       "  <thead>\n",
       "    <tr style=\"text-align: right;\">\n",
       "      <th></th>\n",
       "      <th></th>\n",
       "      <th>total</th>\n",
       "    </tr>\n",
       "    <tr>\n",
       "      <th>Genre</th>\n",
       "      <th>Year</th>\n",
       "      <th></th>\n",
       "    </tr>\n",
       "  </thead>\n",
       "  <tbody>\n",
       "    <tr>\n",
       "      <th>Action</th>\n",
       "      <th>2014.0</th>\n",
       "      <td>99.02</td>\n",
       "    </tr>\n",
       "    <tr>\n",
       "      <th>Adventure</th>\n",
       "      <th>2014.0</th>\n",
       "      <td>6.06</td>\n",
       "    </tr>\n",
       "    <tr>\n",
       "      <th>Fighting</th>\n",
       "      <th>2014.0</th>\n",
       "      <td>16.15</td>\n",
       "    </tr>\n",
       "    <tr>\n",
       "      <th>Misc</th>\n",
       "      <th>2014.0</th>\n",
       "      <td>23.68</td>\n",
       "    </tr>\n",
       "    <tr>\n",
       "      <th>Platform</th>\n",
       "      <th>2014.0</th>\n",
       "      <td>8.89</td>\n",
       "    </tr>\n",
       "  </tbody>\n",
       "</table>\n",
       "</div>"
      ],
      "text/plain": [
       "                  total\n",
       "Genre     Year         \n",
       "Action    2014.0  99.02\n",
       "Adventure 2014.0   6.06\n",
       "Fighting  2014.0  16.15\n",
       "Misc      2014.0  23.68\n",
       "Platform  2014.0   8.89"
      ]
     },
     "execution_count": 32,
     "metadata": {},
     "output_type": "execute_result"
    }
   ],
   "source": [
    "total_2014 = selected_df[(selected_df['Year'] == 2014)].groupby(cols)[target].agg(['sum']).rename(columns = {'sum': 'total'})\n",
    "total_2014[:5]"
   ]
  },
  {
   "cell_type": "markdown",
   "id": "a3ae73be-f26e-4e05-b378-ab160df18166",
   "metadata": {},
   "source": [
    "Then we can line up the growth rate and sales on the genre."
   ]
  },
  {
   "cell_type": "code",
   "execution_count": 33,
   "id": "0e561381-27b8-47f0-a4b0-9d0624b7cd2a",
   "metadata": {},
   "outputs": [
    {
     "data": {
      "text/html": [
       "<div>\n",
       "<style scoped>\n",
       "    .dataframe tbody tr th:only-of-type {\n",
       "        vertical-align: middle;\n",
       "    }\n",
       "\n",
       "    .dataframe tbody tr th {\n",
       "        vertical-align: top;\n",
       "    }\n",
       "\n",
       "    .dataframe thead th {\n",
       "        text-align: right;\n",
       "    }\n",
       "</style>\n",
       "<table border=\"1\" class=\"dataframe\">\n",
       "  <thead>\n",
       "    <tr style=\"text-align: right;\">\n",
       "      <th></th>\n",
       "      <th>total</th>\n",
       "      <th>pct_change_sales</th>\n",
       "    </tr>\n",
       "    <tr>\n",
       "      <th>Genre</th>\n",
       "      <th></th>\n",
       "      <th></th>\n",
       "    </tr>\n",
       "  </thead>\n",
       "  <tbody>\n",
       "    <tr>\n",
       "      <th>Action</th>\n",
       "      <td>99.02</td>\n",
       "      <td>-0.209232</td>\n",
       "    </tr>\n",
       "    <tr>\n",
       "      <th>Adventure</th>\n",
       "      <td>6.06</td>\n",
       "      <td>-0.083207</td>\n",
       "    </tr>\n",
       "    <tr>\n",
       "      <th>Fighting</th>\n",
       "      <td>16.15</td>\n",
       "      <td>1.239945</td>\n",
       "    </tr>\n",
       "    <tr>\n",
       "      <th>Misc</th>\n",
       "      <td>23.68</td>\n",
       "      <td>-0.076803</td>\n",
       "    </tr>\n",
       "    <tr>\n",
       "      <th>Platform</th>\n",
       "      <td>8.89</td>\n",
       "      <td>-0.646099</td>\n",
       "    </tr>\n",
       "    <tr>\n",
       "      <th>Puzzle</th>\n",
       "      <td>1.50</td>\n",
       "      <td>0.515152</td>\n",
       "    </tr>\n",
       "    <tr>\n",
       "      <th>Racing</th>\n",
       "      <td>16.69</td>\n",
       "      <td>0.279908</td>\n",
       "    </tr>\n",
       "    <tr>\n",
       "      <th>Role-Playing</th>\n",
       "      <td>45.86</td>\n",
       "      <td>0.020926</td>\n",
       "    </tr>\n",
       "    <tr>\n",
       "      <th>Shooter</th>\n",
       "      <td>66.00</td>\n",
       "      <td>0.050955</td>\n",
       "    </tr>\n",
       "    <tr>\n",
       "      <th>Simulation</th>\n",
       "      <td>5.55</td>\n",
       "      <td>-0.359862</td>\n",
       "    </tr>\n",
       "    <tr>\n",
       "      <th>Sports</th>\n",
       "      <td>46.66</td>\n",
       "      <td>0.122984</td>\n",
       "    </tr>\n",
       "    <tr>\n",
       "      <th>Strategy</th>\n",
       "      <td>0.99</td>\n",
       "      <td>-0.843602</td>\n",
       "    </tr>\n",
       "  </tbody>\n",
       "</table>\n",
       "</div>"
      ],
      "text/plain": [
       "              total  pct_change_sales\n",
       "Genre                                \n",
       "Action        99.02         -0.209232\n",
       "Adventure      6.06         -0.083207\n",
       "Fighting      16.15          1.239945\n",
       "Misc          23.68         -0.076803\n",
       "Platform       8.89         -0.646099\n",
       "Puzzle         1.50          0.515152\n",
       "Racing        16.69          0.279908\n",
       "Role-Playing  45.86          0.020926\n",
       "Shooter       66.00          0.050955\n",
       "Simulation     5.55         -0.359862\n",
       "Sports        46.66          0.122984\n",
       "Strategy       0.99         -0.843602"
      ]
     },
     "execution_count": 33,
     "metadata": {},
     "output_type": "execute_result"
    }
   ],
   "source": [
    "merged_df = pd.merge(total_2014, pct_change_df, on='Genre', how='outer')\n",
    "merged_df"
   ]
  },
  {
   "cell_type": "markdown",
   "id": "9f0131e8-a7ad-4474-8a5b-d1484f24287b",
   "metadata": {},
   "source": [
    "And let's move genre from an index to also be a column."
   ]
  },
  {
   "cell_type": "code",
   "execution_count": 36,
   "id": "09974a8b-9a7b-4be6-93f3-8694279ab88a",
   "metadata": {},
   "outputs": [
    {
     "data": {
      "text/html": [
       "<div>\n",
       "<style scoped>\n",
       "    .dataframe tbody tr th:only-of-type {\n",
       "        vertical-align: middle;\n",
       "    }\n",
       "\n",
       "    .dataframe tbody tr th {\n",
       "        vertical-align: top;\n",
       "    }\n",
       "\n",
       "    .dataframe thead th {\n",
       "        text-align: right;\n",
       "    }\n",
       "</style>\n",
       "<table border=\"1\" class=\"dataframe\">\n",
       "  <thead>\n",
       "    <tr style=\"text-align: right;\">\n",
       "      <th></th>\n",
       "      <th>Genre</th>\n",
       "      <th>total</th>\n",
       "      <th>pct_change_sales</th>\n",
       "    </tr>\n",
       "  </thead>\n",
       "  <tbody>\n",
       "    <tr>\n",
       "      <th>0</th>\n",
       "      <td>Action</td>\n",
       "      <td>99.02</td>\n",
       "      <td>-0.209232</td>\n",
       "    </tr>\n",
       "    <tr>\n",
       "      <th>1</th>\n",
       "      <td>Adventure</td>\n",
       "      <td>6.06</td>\n",
       "      <td>-0.083207</td>\n",
       "    </tr>\n",
       "    <tr>\n",
       "      <th>2</th>\n",
       "      <td>Fighting</td>\n",
       "      <td>16.15</td>\n",
       "      <td>1.239945</td>\n",
       "    </tr>\n",
       "  </tbody>\n",
       "</table>\n",
       "</div>"
      ],
      "text/plain": [
       "       Genre  total  pct_change_sales\n",
       "0     Action  99.02         -0.209232\n",
       "1  Adventure   6.06         -0.083207\n",
       "2   Fighting  16.15          1.239945"
      ]
     },
     "execution_count": 36,
     "metadata": {},
     "output_type": "execute_result"
    }
   ],
   "source": [
    "genre_sales_df = merged_df.reset_index()\n",
    "genre_sales_df[:3]"
   ]
  },
  {
   "cell_type": "markdown",
   "id": "75945e32-db51-4af6-91ae-688c361c52bf",
   "metadata": {},
   "source": [
    "And finally, we can plot the total sales along the x axis, and the growth rate along the y axis."
   ]
  },
  {
   "cell_type": "code",
   "execution_count": 38,
   "id": "7375eea0-4450-449a-accd-31b1e1661617",
   "metadata": {},
   "outputs": [
    {
     "data": {
      "image/png": "[encoded data removed]",
      "text/plain": [
       "<Figure size 640x480 with 1 Axes>"
      ]
     },
     "metadata": {},
     "output_type": "display_data"
    }
   ],
   "source": [
    "import matplotlib.pyplot as plt\n",
    "\n",
    "# Plot scatter plot\n",
    "ax = genre_sales_df.plot.scatter(x='total', y='pct_change_sales')\n",
    "\n",
    "# Add labels to the data points\n",
    "for i, row in genre_sales_df.iterrows():\n",
    "    ax.text(row['total'], row['pct_change_sales'], row['Genre'])"
   ]
  },
  {
   "cell_type": "markdown",
   "id": "3ad77aff-13ac-4617-b820-c7c54cfd5d5c",
   "metadata": {},
   "source": [
    "So now we can view our different genres across both axes -- the amount of total sales is on the x axis and the percent change in sales in the y axis.  \n",
    "\n",
    "And we can divide our grid into different quadrants."
   ]
  },
  {
   "cell_type": "markdown",
   "id": "e1f10940-bc3f-47c6-bd07-c42af1f8f23d",
   "metadata": {},
   "source": [
    "<img src=\"./bcg-chart.png\" width=\"60%\">"
   ]
  },
  {
   "cell_type": "markdown",
   "id": "e0b8a849-479e-4715-a042-c80408f351ea",
   "metadata": {},
   "source": [
    "* Stars (top right): have both high growth rate and has current sales\n",
    "* Cash cows (bottom right): Have high sales but have plateaued (eg. Action)\n",
    "* Question Mark: (top left): High growth rate, but low sales\n",
    "* Pets: Low growth rates and low sales"
   ]
  },
  {
   "cell_type": "markdown",
   "id": "6cd75c61-b72e-4c35-a48e-5bd058768999",
   "metadata": {},
   "source": [
    "A BCG chart is nice way to view categories, when we are trying to optimize across two metrics.  Note that we could choose *various* metrics to be plotted against our X and Y axis.\n",
    "\n",
    "For example, maybe \n",
    "* it's low cost and high quality \n",
    "* Companies with high salaries and benefits\n",
    "\n",
    "Either way, the strategy is the same -- find two metrics to plot our categories against, and focus on a specific quadrant where both are satisfied."
   ]
  },
  {
   "cell_type": "markdown",
   "id": "1da04b5d-c5a6-4b15-b8fe-d88f8ac93b52",
   "metadata": {},
   "source": [
    "### Summary"
   ]
  },
  {
   "cell_type": "markdown",
   "id": "e0cd035a-0154-496d-9463-f2f0e9aafd0d",
   "metadata": {},
   "source": [
    "So in this lesson, we saw another way to get an overview, which is to look at the growth rates.  We saw that we first need repeating data over different time periods -- so to accomplish this we grouped our data by genre and year to then look at the growth rate of different genres."
   ]
  },
  {
   "cell_type": "code",
   "execution_count": null,
   "id": "1c0c37d0-cd7d-4887-8308-71c6a4261255",
   "metadata": {},
   "outputs": [],
   "source": [
    "target = 'Global_Sales'\n",
    "agg_name = 'percentage total sales'\n",
    "cols = ['Genre', 'Year']\n",
    "\n",
    "grouped_data = selected_df.groupby(cols)[target].agg(['sum'])\n",
    "grouped_data[:10]"
   ]
  },
  {
   "cell_type": "markdown",
   "id": "e001e395-2e51-46f0-b22f-7a6c34f69a7c",
   "metadata": {},
   "source": [
    "From there, we looked calculated the percentage change, and selected the percentage change of a specific year."
   ]
  },
  {
   "cell_type": "code",
   "execution_count": 58,
   "id": "6319f660-aad0-459c-bff8-b7682817b62f",
   "metadata": {},
   "outputs": [],
   "source": [
    "data_pct_change_over_two_years = selected_df.groupby(cols)[target].agg(['sum']).pct_change(periods = 2)"
   ]
  },
  {
   "cell_type": "code",
   "execution_count": 59,
   "id": "113413d6-81ca-472a-b7a6-28a99af2347a",
   "metadata": {},
   "outputs": [],
   "source": [
    "filtered_data = data_pct_change.loc[pd.IndexSlice[:, 2014], :]"
   ]
  },
  {
   "cell_type": "markdown",
   "id": "f4b56447-db4a-4e70-bc9f-d0ae4f6092f8",
   "metadata": {},
   "source": [
    "We then merged this with our total sales by genre for that same year.  Then added the genre as a column."
   ]
  },
  {
   "cell_type": "code",
   "execution_count": 39,
   "id": "4fd0cfec-d580-4f03-b6da-5e7d656ba422",
   "metadata": {},
   "outputs": [],
   "source": [
    "merged_df = pd.merge(total_2014, pct_change_df, on='Genre', how='outer')\n",
    "merged_with_col = merged_df.reset_index()"
   ]
  },
  {
   "cell_type": "markdown",
   "id": "8c0d516b-8891-4126-88bd-97e4d97529b9",
   "metadata": {},
   "source": [
    "And finally plotted our data."
   ]
  },
  {
   "cell_type": "code",
   "execution_count": 42,
   "id": "df5ab53c-03c4-4547-b3cc-94fc8ba966c9",
   "metadata": {},
   "outputs": [],
   "source": [
    "import matplotlib.pyplot as plt\n",
    "\n",
    "# Plot scatter plot\n",
    "ax = merged_with_col.plot.scatter(x='total', y='pct_change_sales')\n",
    "\n",
    "# Add labels to the data points\n",
    "for i, row in merged_with_col.iterrows():\n",
    "    ax.text(row['total'], row['pct_change_sales'], row['Genre'])"
   ]
  },
  {
   "cell_type": "markdown",
   "id": "8eefcc60-0054-4ebd-b667-3b2cad80db17",
   "metadata": {},
   "source": [
    "### Resources"
   ]
  },
  {
   "cell_type": "markdown",
   "id": "b7d21282-74f7-488b-9d5b-48273e8cc9d1",
   "metadata": {},
   "source": [
    "[Supermarket Sales](https://www.kaggle.com/datasets/aungpyaeap/supermarket-sales)"
   ]
  },
  {
   "cell_type": "markdown",
   "id": "8343a3a0-329e-4385-835c-cf93f21e84a2",
   "metadata": {},
   "source": [
    "[Ecommerce Behavior](https://www.kaggle.com/datasets/mkechinov/ecommerce-behavior-data-from-multi-category-store)"
   ]
  }
 ],
 "metadata": {
  "kernelspec": {
   "display_name": "Python 3 (ipykernel)",
   "language": "python",
   "name": "python3"
  },
  "language_info": {
   "codemirror_mode": {
    "name": "ipython",
    "version": 3
   },
   "file_extension": ".py",
   "mimetype": "text/x-python",
   "name": "python",
   "nbconvert_exporter": "python",
   "pygments_lexer": "ipython3",
   "version": "3.9.12"
  }
 },
 "nbformat": 4,
 "nbformat_minor": 5
}
