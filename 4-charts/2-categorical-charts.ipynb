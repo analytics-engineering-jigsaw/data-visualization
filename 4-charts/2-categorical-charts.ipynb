{
 "cells": [
  {
   "cell_type": "markdown",
   "id": "536438ff-1785-4e6e-8ac5-416c9cf3d298",
   "metadata": {},
   "source": [
    "# Choosing Charts for Categories"
   ]
  },
  {
   "cell_type": "markdown",
   "id": "01368513-9974-4933-a45e-351a6ce7248d",
   "metadata": {},
   "source": [
    "### Introduction"
   ]
  },
  {
   "cell_type": "markdown",
   "id": "7fcd703c-3fc5-449f-9815-63d81b67a4b9",
   "metadata": {},
   "source": [
    "Now that we've seen the different comparisons, it's time to choose the correct chart.  Lucky for us there are only five different kinds of charts:"
   ]
  },
  {
   "cell_type": "markdown",
   "id": "e1b7bcd6-56e8-4273-a074-6941f1dd4b83",
   "metadata": {},
   "source": [
    "<img src=\"./chart-options.png\" width=\"60%\">"
   ]
  },
  {
   "cell_type": "markdown",
   "id": "ea9ad116-2337-458c-b19d-8efba95c7b13",
   "metadata": {},
   "source": [
    "All of our other charts, are really derived from these."
   ]
  },
  {
   "cell_type": "markdown",
   "id": "397ef3e4-7e70-42d4-a45c-af764a5a4485",
   "metadata": {},
   "source": [
    "In this lesson, we'll focus on the horizontal bar chart and the vertical bar chart -- and will see that we can discard the pie chart."
   ]
  },
  {
   "cell_type": "markdown",
   "id": "eb06eb2d-fcbc-48be-bf09-7339e1612d51",
   "metadata": {},
   "source": [
    "<img src=\"./bar-chart-focus.png\" width=\"60%\">"
   ]
  },
  {
   "cell_type": "markdown",
   "id": "0b87e30a-ab2b-4527-b43a-774d55150021",
   "metadata": {
    "tags": []
   },
   "source": [
    "### Removing the pie chart"
   ]
  },
  {
   "cell_type": "markdown",
   "id": "90b70fd3-5be1-4d2b-bc5a-4f5116ca0e7a",
   "metadata": {},
   "source": [
    "Oftentimes a pie chart is used for a percentage comparison.  But using pie charts *for any reason*, is not recommended."
   ]
  },
  {
   "cell_type": "markdown",
   "id": "2a50e9c3-1a79-4b19-b01c-dfb3cfe65a13",
   "metadata": {},
   "source": [
    "To see why, take a look at the chart below.  The goal is to compare the segments, but actually guessing those comparisons is difficult.\n",
    "\n",
    "<img src=\"./pie-compare.png\" width=\"40%\">"
   ]
  },
  {
   "cell_type": "markdown",
   "id": "af584be6-caf8-473c-9f3d-5266747c4dcb",
   "metadata": {},
   "source": [
    "For example, try to guess the percentages in the chart above.  Or even, try to compare how much larger one slice is than another -- it's not so easy.  Using multiple pie charts is even worse."
   ]
  },
  {
   "cell_type": "markdown",
   "id": "80153697-9a95-4066-ab3c-29b6155317d9",
   "metadata": {},
   "source": [
    "<img src=\"./two-piecharts.png\" width=\"40%\">"
   ]
  },
  {
   "cell_type": "markdown",
   "id": "27f90bc4-3408-4abc-a8c4-397b85d231ef",
   "metadata": {},
   "source": [
    "This is because in the chart above asks the reader to the goal is compare each label across each company -- but this involves a lot of jumping between charts, and then to also keep those sizes straight."
   ]
  },
  {
   "cell_type": "markdown",
   "id": "43a74a00-0985-44bd-9546-c84b1b00374b",
   "metadata": {},
   "source": [
    "If you're still not convinced, perhaps the author of Storytelling with Data can convince you -- in her nice article, [\"Death to Pie Charts\"](https://www.storytellingwithdata.com/blog/2011/07/death-to-pie-charts)."
   ]
  },
  {
   "cell_type": "markdown",
   "id": "497d4b00-eaa6-48a5-9b0d-2cc5a1f73d55",
   "metadata": {},
   "source": [
    "So don't use pie charts -- instead express those percentages in a horizontal bar chart."
   ]
  },
  {
   "cell_type": "markdown",
   "id": "3c8da315-d2f5-433d-8763-64f680eb2fe6",
   "metadata": {},
   "source": [
    "### Use Bar charts"
   ]
  },
  {
   "cell_type": "markdown",
   "id": "9a418a28-1da9-46d2-b59d-b3832dcfe3ac",
   "metadata": {},
   "source": [
    "Ok, so if we're not going to choose a pie chart, what's better is a bar chart.  And our favorite kind of bar chart should be a horizontal bar chart -- that's the one on the left."
   ]
  },
  {
   "cell_type": "markdown",
   "id": "7fda6898-85b5-4eb6-b89a-184e3774b5ad",
   "metadata": {},
   "source": [
    "<img src=\"./compare-hz-charts.png\" width=\"60%\">\n",
    "\n",
    "\n",
    "Horizontal bar charts are preferred to column charts (on the right) because labels can require space, and the horizontal chart leaves space for labels.\n",
    "* When using the horizontal bar chart, use  contrasting shade, or a surrounding box, to emphasize the most important item -- reinforcing the message title.\n",
    "\n",
    "> **Styling** When styling the bar chart, use numbers at the end of the bars. Or a scale as an alternative (but not both).   And omit decimals if you don't need that level of detail -- which you likely don't (eg. 12 percent, not 12.3%).  "
   ]
  },
  {
   "cell_type": "markdown",
   "id": "9101d2a8-3953-42e3-a585-f78084416687",
   "metadata": {},
   "source": [
    "### Column Chart"
   ]
  },
  {
   "cell_type": "markdown",
   "id": "3ad451f6-6f06-4a5b-a1ab-9f036b3dbb62",
   "metadata": {},
   "source": [
    "If using the column chart, the same styling rules apply.  Use a contrasting shade to emphasize the most important item.   And use numbers at the end the bars, omitting decimals.\n",
    "\n",
    "As mentioned, we prefer horizontal charts to column charts.  However, column charts can be used when there is a real sequence between the categories -- for example revenue per year. "
   ]
  },
  {
   "cell_type": "markdown",
   "id": "d5ad59e8-90a7-4c63-aa55-65b31086aada",
   "metadata": {},
   "source": [
    "### Bar charts in the wild"
   ]
  },
  {
   "cell_type": "markdown",
   "id": "b774a044-5906-4ffd-857a-f67eefc8cde3",
   "metadata": {},
   "source": [
    "#### Column chart"
   ]
  },
  {
   "cell_type": "markdown",
   "id": "2ee29827-ad94-4d02-8d8c-fa097a86b9cf",
   "metadata": {},
   "source": [
    "<img src=\"./bar-charts.png\" width=\"60%\">"
   ]
  },
  {
   "cell_type": "markdown",
   "id": "83ab8c2b-f8b5-4fa3-b012-294679f68e26",
   "metadata": {},
   "source": [
    "> Used to show a *sequence in time period*, with colors indicating different groupings of countries."
   ]
  },
  {
   "cell_type": "markdown",
   "id": "c2e173b0-a830-43db-ab97-4cc90d54dd31",
   "metadata": {
    "tags": []
   },
   "source": [
    "#### Horizontal Bar Chart"
   ]
  },
  {
   "cell_type": "markdown",
   "id": "29ea0ea3-73fe-4529-9012-5004dcf118f0",
   "metadata": {},
   "source": [
    "<img src=\"./work-priority.png\" width=\"60%\">"
   ]
  },
  {
   "cell_type": "markdown",
   "id": "609d3235-bc45-4356-9e4e-0700cf8616a2",
   "metadata": {},
   "source": [
    "> Notice that the horizontal bar chart allows for labels.  To emphasize a point, the moved the more important categories up top."
   ]
  },
  {
   "cell_type": "markdown",
   "id": "fdec70fa-1d29-4705-8d61-8b0db11ba1de",
   "metadata": {},
   "source": [
    "### Summary"
   ]
  },
  {
   "cell_type": "markdown",
   "id": "dc71e3d9-9977-4360-8e90-9089d5f6da1b",
   "metadata": {},
   "source": [
    "In this lesson, we saw how to display our different kinds of comparisons.  There were a couple of takeaways:\n",
    "    \n",
    "* Don't use pie charts -- even when working with percentages.  \n",
    "* Most often, you can stick with horizontal bar charts, which make it easy to compare groups, and also provide for labeling.\n",
    "    * Just remember to be careful about how you choose those groups\n",
    "* A column chart is ok when the data is sequential (as in revenue per year)\n",
    "  "
   ]
  }
 ],
 "metadata": {
  "kernelspec": {
   "display_name": "Python 3 (ipykernel)",
   "language": "python",
   "name": "python3"
  },
  "language_info": {
   "codemirror_mode": {
    "name": "ipython",
    "version": 3
   },
   "file_extension": ".py",
   "mimetype": "text/x-python",
   "name": "python",
   "nbconvert_exporter": "python",
   "pygments_lexer": "ipython3",
   "version": "3.9.12"
  }
 },
 "nbformat": 4,
 "nbformat_minor": 5
}
